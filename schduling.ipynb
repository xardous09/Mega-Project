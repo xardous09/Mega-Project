{
 "cells": [
  {
   "cell_type": "code",
   "execution_count": 1,
   "id": "e822917d",
   "metadata": {},
   "outputs": [],
   "source": [
    "import pandas as pd\n",
    "\n",
    "# Load the dataset\n",
    "df = pd.read_csv('manufacturing_jobs.csv')"
   ]
  },
  {
   "cell_type": "code",
   "execution_count": 2,
   "id": "e37f77db",
   "metadata": {},
   "outputs": [],
   "source": [
    "# Parse datetime columns\n",
    "datetime_cols = ['Scheduled_Start', 'Scheduled_End', 'Actual_Start', 'Actual_End']\n",
    "for col in datetime_cols:\n",
    "    df[col] = pd.to_datetime(df[col], errors='coerce')"
   ]
  },
  {
   "cell_type": "code",
   "execution_count": 3,
   "id": "ce9eee70",
   "metadata": {},
   "outputs": [],
   "source": [
    "# Calculate durations (in hours)\n",
    "df['Calculated_Scheduled_Duration'] = (df['Scheduled_End'] - df['Scheduled_Start']).dt.total_seconds() / 3600\n",
    "df['Calculated_Actual_Duration'] = (df['Actual_End'] - df['Actual_Start']).dt.total_seconds() / 3600"
   ]
  },
  {
   "cell_type": "code",
   "execution_count": 4,
   "id": "d4dd4ba6",
   "metadata": {},
   "outputs": [
    {
     "name": "stdout",
     "output_type": "stream",
     "text": [
      "✅ Data loaded and preprocessed successfully.\n",
      "🔍 Total jobs: 1000\n",
      "🛠️ Unique machines: 5\n",
      "\n",
      "🧾 Sample preview:\n",
      "  Job_ID Machine_ID Operation_Type  Material_Used  Processing_Time  \\\n",
      "0   J001        M01       Grinding           3.17               76   \n",
      "1   J002        M01       Grinding           3.35               79   \n",
      "2   J003        M04       Additive           2.29               56   \n",
      "3   J004        M04       Grinding           1.76              106   \n",
      "4   J005        M01          Lathe           1.90               46   \n",
      "\n",
      "   Energy_Consumption  Machine_Availability     Scheduled_Start  \\\n",
      "0               11.42                    96 2023-03-18 08:00:00   \n",
      "1                6.61                    84 2023-03-18 08:10:00   \n",
      "2               11.11                    92 2023-03-18 08:20:00   \n",
      "3               12.50                    95 2023-03-18 08:30:00   \n",
      "4                8.13                    88 2023-03-18 08:40:00   \n",
      "\n",
      "        Scheduled_End        Actual_Start          Actual_End Job_Status  \\\n",
      "0 2023-03-18 09:16:00 2023-03-18 08:05:00 2023-03-18 09:21:00  Completed   \n",
      "1 2023-03-18 09:29:00 2023-03-18 08:20:00 2023-03-18 09:39:00    Delayed   \n",
      "2 2023-03-18 09:16:00                 NaT                 NaT     Failed   \n",
      "3 2023-03-18 10:16:00 2023-03-18 08:35:00 2023-03-18 10:21:00  Completed   \n",
      "4 2023-03-18 09:26:00 2023-03-18 08:42:00 2023-03-18 09:28:00  Completed   \n",
      "\n",
      "  Optimization_Category  Calculated_Scheduled_Duration  \\\n",
      "0   Moderate Efficiency                       1.266667   \n",
      "1        Low Efficiency                       1.316667   \n",
      "2        Low Efficiency                       0.933333   \n",
      "3   Moderate Efficiency                       1.766667   \n",
      "4       High Efficiency                       0.766667   \n",
      "\n",
      "   Calculated_Actual_Duration  \n",
      "0                    1.266667  \n",
      "1                    1.316667  \n",
      "2                         NaN  \n",
      "3                    1.766667  \n",
      "4                    0.766667  \n"
     ]
    }
   ],
   "source": [
    "# Display basic insights\n",
    "print(\"✅ Data loaded and preprocessed successfully.\")\n",
    "print(f\"🔍 Total jobs: {len(df)}\")\n",
    "print(f\"🛠️ Unique machines: {df['Machine_ID'].nunique()}\")\n",
    "print(\"\\n🧾 Sample preview:\")\n",
    "print(df.head(5))"
   ]
  },
  {
   "cell_type": "code",
   "execution_count": 5,
   "id": "fbac0b8e",
   "metadata": {},
   "outputs": [],
   "source": [
    "# Save preprocessed data for further modules\n",
    "df.to_csv('preprocessed_job_data.csv', index=False)"
   ]
  },
  {
   "cell_type": "code",
   "execution_count": 6,
   "id": "dbbc010c",
   "metadata": {},
   "outputs": [],
   "source": [
    "# Load preprocessed data\n",
    "df = pd.read_csv('preprocessed_job_data.csv')"
   ]
  },
  {
   "cell_type": "code",
   "execution_count": null,
   "id": "f1a1a869",
   "metadata": {},
   "outputs": [],
   "source": [
    "# Helper function to find a spare machine\n",
    "def find_spare_machine(operation_type, excluded_machine):\n",
    "    candidates = df[\n",
    "        (df['Operation_Type'] == operation_type) &\n",
    "        (df['Machine_Availability'] > 90) &\n",
    "        (df['Machine_ID'] != excluded_machine)\n",
    "    ]\n",
    "    if not candidates.empty:\n",
    "        # Greedy choice: lowest energy consumption among available machines\n",
    "        return candidates.sort_values('Energy_Consumption').iloc[0]['Machine_ID']\n",
    "    return None\n",
    "\n",
    "# Initialize results list\n",
    "scheduled_jobs = []"
   ]
  },
  {
   "cell_type": "code",
   "execution_count": 8,
   "id": "935b6ca1",
   "metadata": {},
   "outputs": [],
   "source": [
    "# Iterate through each job\n",
    "for index, row in df.iterrows():\n",
    "    job_id = row['Job_ID']\n",
    "    original_machine = row['Machine_ID']\n",
    "    operation = row['Operation_Type']\n",
    "    duration = row['Processing_Time']\n",
    "    availability = row['Machine_Availability']\n",
    "    \n",
    "    # Schedule Start fallback if missing\n",
    "    start_time = pd.to_datetime(row['Scheduled_Start']) if pd.notnull(row['Scheduled_Start']) else pd.Timestamp.now()\n",
    "\n",
    "    if availability > 90:\n",
    "        status = f\"Assigned to {original_machine}\"\n",
    "        end_time = start_time + pd.to_timedelta(duration, unit='h')\n",
    "        machine_used = original_machine\n",
    "    else:\n",
    "        spare_machine = find_spare_machine(operation, original_machine)\n",
    "        if spare_machine:\n",
    "            status = f\"🔁 Reassigned to spare machine {spare_machine}\"\n",
    "            end_time = start_time + pd.to_timedelta(duration, unit='h')\n",
    "            machine_used = spare_machine\n",
    "        else:\n",
    "            status = f\" No available machine for {operation}\"\n",
    "            end_time = None\n",
    "            machine_used = None\n",
    "\n",
    "    scheduled_jobs.append({\n",
    "        'Job_ID': job_id,\n",
    "        'Assigned_Machine': machine_used,\n",
    "        'Scheduled_Start': start_time,\n",
    "        'Estimated_End': end_time,\n",
    "        'Status': status\n",
    "    })"
   ]
  },
  {
   "cell_type": "code",
   "execution_count": 9,
   "id": "3271cc93",
   "metadata": {},
   "outputs": [
    {
     "name": "stdout",
     "output_type": "stream",
     "text": [
      "🗓️ Job Scheduling Summary:\n",
      "  Job_ID Assigned_Machine     Scheduled_Start       Estimated_End  \\\n",
      "0   J001              M01 2023-03-18 08:00:00 2023-03-21 12:00:00   \n",
      "1   J002              M04 2023-03-18 08:10:00 2023-03-21 15:10:00   \n",
      "2   J003              M04 2023-03-18 08:20:00 2023-03-20 16:20:00   \n",
      "3   J004              M04 2023-03-18 08:30:00 2023-03-22 18:30:00   \n",
      "4   J005              M04 2023-03-18 08:40:00 2023-03-20 06:40:00   \n",
      "5   J006              M04 2023-03-18 08:50:00 2023-03-22 12:50:00   \n",
      "6   J007              M03 2023-03-18 09:00:00 2023-03-19 07:00:00   \n",
      "7   J008              M05 2023-03-18 09:10:00 2023-03-21 16:10:00   \n",
      "8   J009              M03 2023-03-18 09:20:00 2023-03-20 03:20:00   \n",
      "9   J010              M01 2023-03-18 09:30:00 2023-03-19 12:30:00   \n",
      "\n",
      "                              Status  \n",
      "0                    Assigned to M01  \n",
      "1  🔁 Reassigned to spare machine M04  \n",
      "2                    Assigned to M04  \n",
      "3                    Assigned to M04  \n",
      "4  🔁 Reassigned to spare machine M04  \n",
      "5  🔁 Reassigned to spare machine M04  \n",
      "6  🔁 Reassigned to spare machine M03  \n",
      "7                    Assigned to M05  \n",
      "8  🔁 Reassigned to spare machine M03  \n",
      "9                    Assigned to M01  \n"
     ]
    }
   ],
   "source": [
    "# Create a new DataFrame\n",
    "schedule_df = pd.DataFrame(scheduled_jobs)\n",
    "\n",
    "# Show results\n",
    "print(\"🗓️ Job Scheduling Summary:\")\n",
    "print(schedule_df[['Job_ID', 'Assigned_Machine', 'Scheduled_Start', 'Estimated_End', 'Status']].head(10))"
   ]
  },
  {
   "cell_type": "code",
   "execution_count": 10,
   "id": "81d0b14e",
   "metadata": {},
   "outputs": [],
   "source": [
    "# Save results for visualization\n",
    "schedule_df.to_csv('job_schedule_output.csv', index=False)"
   ]
  },
  {
   "cell_type": "code",
   "execution_count": 11,
   "id": "4b711c9d",
   "metadata": {},
   "outputs": [],
   "source": [
    "from collections import defaultdict\n",
    "\n",
    "# Initialize machine failure history tracker\n",
    "machine_failure_history = defaultdict(list)\n",
    "breakdown_alerts = []\n",
    "\n",
    "# Define threshold values\n",
    "FAILURE_THRESHOLD = 2  # e.g., 2 consecutive failures\n",
    "FAILURE_WINDOW = 5\n",
    "FAILURE_RATIO = 0.6    # e.g., 60% failure rate in recent 5 jobs\n",
    "\n",
    "# Sort by Scheduled_Start to track in chronological order\n",
    "df = df.sort_values(by='Scheduled_Start')\n",
    "\n",
    "# Track failures\n",
    "for idx, row in df.iterrows():\n",
    "    machine = row['Machine_ID']\n",
    "    status = row['Job_Status']\n",
    "    job_id = row['Job_ID']\n",
    "    start_time = row['Scheduled_Start']\n",
    "\n",
    "    # Record status\n",
    "    machine_failure_history[machine].append(status)\n",
    "\n",
    "    # Get recent statuses (last 5 jobs max)\n",
    "    recent_statuses = machine_failure_history[machine][-FAILURE_WINDOW:]\n",
    "\n",
    "    # Check for consecutive failures\n",
    "    consecutive_failures = all(s == 'Failed' for s in recent_statuses[-FAILURE_THRESHOLD:])\n",
    "\n",
    "    # Check failure ratio\n",
    "    failure_ratio = recent_statuses.count('Failed') / len(recent_statuses)\n",
    "\n",
    "    # Raise alert if either threshold is met\n",
    "    if consecutive_failures or failure_ratio >= FAILURE_RATIO:\n",
    "        alert_msg = f\"⚠️ ALERT: {machine} is unreliable! ({failure_ratio*100:.0f}% failures in recent jobs)\"\n",
    "        alert_detail = {\n",
    "            \"Machine_ID\": machine,\n",
    "            \"Affected_Job\": job_id,\n",
    "            \"Alert_Time\": start_time,\n",
    "            \"Alert_Message\": alert_msg\n",
    "        }\n",
    "        breakdown_alerts.append(alert_detail)"
   ]
  },
  {
   "cell_type": "code",
   "execution_count": 12,
   "id": "54fcc1a4",
   "metadata": {},
   "outputs": [
    {
     "name": "stdout",
     "output_type": "stream",
     "text": [
      "🚨 Breakdown Alerts 🚨\n",
      "   Machine_ID Affected_Job           Alert_Time  \\\n",
      "0         M04         J003  2023-03-18 08:20:00   \n",
      "1         M04         J175  2023-03-19 13:00:00   \n",
      "2         M04         J205  2023-03-19 18:00:00   \n",
      "3         M03         J222  2023-03-19 20:50:00   \n",
      "4         M03         J239  2023-03-19 23:40:00   \n",
      "5         M04         J342  2023-03-20 16:50:00   \n",
      "6         M01         J514  2023-03-21 21:30:00   \n",
      "7         M01         J516  2023-03-21 21:50:00   \n",
      "8         M01         J525  2023-03-21 23:20:00   \n",
      "9         M01         J527  2023-03-21 23:40:00   \n",
      "10        M03         J573  2023-03-22 07:20:00   \n",
      "11        M05         J585  2023-03-22 09:20:00   \n",
      "12        M05         J591  2023-03-22 10:20:00   \n",
      "13        M05         J594  2023-03-22 10:50:00   \n",
      "14        M03         J608  2023-03-22 13:10:00   \n",
      "15        M03         J609  2023-03-22 13:20:00   \n",
      "16        M01         J611  2023-03-22 13:40:00   \n",
      "17        M03         J612  2023-03-22 13:50:00   \n",
      "18        M03         J613  2023-03-22 14:00:00   \n",
      "19        M01         J616  2023-03-22 14:30:00   \n",
      "20        M01         J617  2023-03-22 14:40:00   \n",
      "21        M03         J622  2023-03-22 15:30:00   \n",
      "22        M04         J637  2023-03-22 18:00:00   \n",
      "23        M02         J701  2023-03-23 04:40:00   \n",
      "24        M03         J705  2023-03-23 05:20:00   \n",
      "25        M02         J717  2023-03-23 07:20:00   \n",
      "26        M02         J721  2023-03-23 08:00:00   \n",
      "27        M01         J753  2023-03-23 13:20:00   \n",
      "28        M01         J932  2023-03-24 19:10:00   \n",
      "\n",
      "                                        Alert_Message  \n",
      "0   ⚠️ ALERT: M04 is unreliable! (100% failures in...  \n",
      "1   ⚠️ ALERT: M04 is unreliable! (60% failures in ...  \n",
      "2   ⚠️ ALERT: M04 is unreliable! (40% failures in ...  \n",
      "3   ⚠️ ALERT: M03 is unreliable! (40% failures in ...  \n",
      "4   ⚠️ ALERT: M03 is unreliable! (60% failures in ...  \n",
      "5   ⚠️ ALERT: M04 is unreliable! (40% failures in ...  \n",
      "6   ⚠️ ALERT: M01 is unreliable! (40% failures in ...  \n",
      "7   ⚠️ ALERT: M01 is unreliable! (60% failures in ...  \n",
      "8   ⚠️ ALERT: M01 is unreliable! (60% failures in ...  \n",
      "9   ⚠️ ALERT: M01 is unreliable! (60% failures in ...  \n",
      "10  ⚠️ ALERT: M03 is unreliable! (40% failures in ...  \n",
      "11  ⚠️ ALERT: M05 is unreliable! (40% failures in ...  \n",
      "12  ⚠️ ALERT: M05 is unreliable! (60% failures in ...  \n",
      "13  ⚠️ ALERT: M05 is unreliable! (60% failures in ...  \n",
      "14  ⚠️ ALERT: M03 is unreliable! (40% failures in ...  \n",
      "15  ⚠️ ALERT: M03 is unreliable! (60% failures in ...  \n",
      "16  ⚠️ ALERT: M01 is unreliable! (40% failures in ...  \n",
      "17  ⚠️ ALERT: M03 is unreliable! (80% failures in ...  \n",
      "18  ⚠️ ALERT: M03 is unreliable! (80% failures in ...  \n",
      "19  ⚠️ ALERT: M01 is unreliable! (60% failures in ...  \n",
      "20  ⚠️ ALERT: M01 is unreliable! (60% failures in ...  \n",
      "21  ⚠️ ALERT: M03 is unreliable! (60% failures in ...  \n",
      "22  ⚠️ ALERT: M04 is unreliable! (40% failures in ...  \n",
      "23  ⚠️ ALERT: M02 is unreliable! (40% failures in ...  \n",
      "24  ⚠️ ALERT: M03 is unreliable! (40% failures in ...  \n",
      "25  ⚠️ ALERT: M02 is unreliable! (60% failures in ...  \n",
      "26  ⚠️ ALERT: M02 is unreliable! (60% failures in ...  \n",
      "27  ⚠️ ALERT: M01 is unreliable! (60% failures in ...  \n",
      "28  ⚠️ ALERT: M01 is unreliable! (40% failures in ...  \n"
     ]
    }
   ],
   "source": [
    "# Convert to DataFrame for display\n",
    "breakdown_alerts_df = pd.DataFrame(breakdown_alerts)\n",
    "print(\"🚨 Breakdown Alerts 🚨\")\n",
    "print(breakdown_alerts_df if not breakdown_alerts_df.empty else \"No critical machine issues detected.\")"
   ]
  },
  {
   "cell_type": "code",
   "execution_count": 43,
   "id": "da3b0d02",
   "metadata": {},
   "outputs": [
    {
     "name": "stdout",
     "output_type": "stream",
     "text": [
      "Defaulting to user installation because normal site-packages is not writeable\n",
      "Collecting plyer\n",
      "  Downloading plyer-2.1.0-py2.py3-none-any.whl.metadata (61 kB)\n",
      "Downloading plyer-2.1.0-py2.py3-none-any.whl (142 kB)\n",
      "Installing collected packages: plyer\n",
      "Successfully installed plyer-2.1.0\n"
     ]
    },
    {
     "name": "stderr",
     "output_type": "stream",
     "text": [
      "\n",
      "[notice] A new release of pip is available: 24.3.1 -> 25.0.1\n",
      "[notice] To update, run: python.exe -m pip install --upgrade pip\n"
     ]
    }
   ],
   "source": [
    "!pip install plyer"
   ]
  },
  {
   "cell_type": "code",
   "execution_count": 13,
   "id": "fad38880",
   "metadata": {},
   "outputs": [],
   "source": [
    "from plyer import notification\n",
    "\n",
    "# Send alert for each breakdown\n",
    "for alert in breakdown_alerts:\n",
    "    notification.notify(\n",
    "        title=\"⚠️ Machine Breakdown Alert\",\n",
    "        message=f\"{alert['Alert_Message']} | Job: {alert['Affected_Job']} | Time: {alert['Alert_Time']}\",\n",
    "        timeout=10  # seconds\n",
    "    )\n"
   ]
  },
  {
   "cell_type": "code",
   "execution_count": 14,
   "id": "652b5ba3",
   "metadata": {},
   "outputs": [],
   "source": [
    "def recommend_replacement(machine_id, job_row, df):\n",
    "    same_type_machines = df[\n",
    "        (df['Operation_Type'] == job_row['Operation_Type']) &\n",
    "        (df['Machine_ID'] != machine_id) &\n",
    "        (df['Machine_Availability'] > 80)  # arbitrary availability threshold\n",
    "    ].sort_values(by=['Machine_Availability', 'Energy_Consumption'], ascending=[False, True])\n",
    "\n",
    "    if not same_type_machines.empty:\n",
    "        return same_type_machines.iloc[0]['Machine_ID']\n",
    "    else:\n",
    "        return \"No optimal replacement found\"\n",
    "\n",
    "# Add replacement suggestion to alert\n",
    "for alert in breakdown_alerts:\n",
    "    job_row = df[df['Job_ID'] == alert['Affected_Job']].iloc[0]\n",
    "    replacement = recommend_replacement(alert['Machine_ID'], job_row, df)\n",
    "    alert['Suggested_Replacement'] = replacement\n"
   ]
  },
  {
   "cell_type": "code",
   "execution_count": 16,
   "id": "79d0fa53",
   "metadata": {},
   "outputs": [
    {
     "name": "stdout",
     "output_type": "stream",
     "text": [
      "Recommended replacement for M04: M01\n",
      "Recommended replacement for M04: M02\n",
      "Recommended replacement for M04: M03\n",
      "Recommended replacement for M03: M02\n",
      "Recommended replacement for M03: M02\n",
      "Recommended replacement for M04: M01\n",
      "Recommended replacement for M01: M05\n",
      "Recommended replacement for M01: M04\n",
      "Recommended replacement for M01: M03\n",
      "Recommended replacement for M01: M03\n",
      "Recommended replacement for M03: M02\n",
      "Recommended replacement for M05: M02\n",
      "Recommended replacement for M05: M01\n",
      "Recommended replacement for M05: M04\n",
      "Recommended replacement for M03: M02\n",
      "Recommended replacement for M03: M02\n",
      "Recommended replacement for M01: M02\n",
      "Recommended replacement for M03: M02\n",
      "Recommended replacement for M03: M01\n",
      "Recommended replacement for M01: M04\n",
      "Recommended replacement for M01: M04\n",
      "Recommended replacement for M03: M01\n",
      "Recommended replacement for M04: M01\n",
      "Recommended replacement for M02: M01\n",
      "Recommended replacement for M03: M02\n",
      "Recommended replacement for M02: M04\n",
      "Recommended replacement for M02: M03\n",
      "Recommended replacement for M01: M05\n",
      "Recommended replacement for M01: M02\n",
      "Model saved successfully!\n"
     ]
    }
   ],
   "source": [
    "import pickle\n",
    "import pandas as pd\n",
    "from collections import defaultdict\n",
    "from plyer import notification\n",
    "\n",
    "\n",
    "class JobSchedulingModel:\n",
    "    def __init__(self, df):\n",
    "        self.df = df\n",
    "        self.machine_failure_history = defaultdict(list)\n",
    "        self.breakdown_alerts = []\n",
    "\n",
    "    def send_desktop_alert(self, message):\n",
    "        notification.notify(\n",
    "            title=\"Machine Breakdown Alert\",\n",
    "            message=message,\n",
    "            timeout=10\n",
    "        )\n",
    "\n",
    "    def recommend_replacement(self, machine_id, job_row):\n",
    "        same_type_machines = self.df[\n",
    "            (self.df['Operation_Type'] == job_row['Operation_Type']) &\n",
    "            (self.df['Machine_ID'] != machine_id) &\n",
    "            (self.df['Machine_Availability'] > 80)  # arbitrary availability threshold\n",
    "        ].sort_values(by=['Machine_Availability', 'Energy_Consumption'], ascending=[False, True])\n",
    "\n",
    "        if not same_type_machines.empty:\n",
    "            return same_type_machines.iloc[0]['Machine_ID']\n",
    "        else:\n",
    "            return \"No optimal replacement found\"\n",
    "\n",
    "    def track_machine_failures_and_recommendation(self):\n",
    "        for idx, row in self.df.iterrows():\n",
    "            machine = row['Machine_ID']\n",
    "            status = row['Job_Status']\n",
    "            job_id = row['Job_ID']\n",
    "            start_time = row['Scheduled_Start']\n",
    "\n",
    "            # Track failures for the machine\n",
    "            self.machine_failure_history[machine].append(status)\n",
    "\n",
    "            recent_statuses = self.machine_failure_history[machine][-5:]\n",
    "            consecutive_failures = all(s == 'Failed' for s in recent_statuses[-2:])\n",
    "            failure_ratio = recent_statuses.count('Failed') / len(recent_statuses)\n",
    "\n",
    "            if consecutive_failures or failure_ratio >= 0.6:\n",
    "                alert_msg = f\"⚠️ ALERT: {machine} is unreliable! ({failure_ratio*100:.0f}% failures)\"\n",
    "                alert_detail = {\n",
    "                    \"Machine_ID\": machine,\n",
    "                    \"Affected_Job\": job_id,\n",
    "                    \"Alert_Time\": start_time,\n",
    "                    \"Alert_Message\": alert_msg\n",
    "                }\n",
    "                self.breakdown_alerts.append(alert_detail)\n",
    "\n",
    "                self.send_desktop_alert(alert_msg)\n",
    "\n",
    "                # Recommend replacement\n",
    "                job_row = self.df[self.df['Job_ID'] == job_id].iloc[0]\n",
    "                replacement_machine = self.recommend_replacement(machine, job_row)\n",
    "                print(f\"Recommended replacement for {machine}: {replacement_machine}\")\n",
    "\n",
    "    def save_model(self, filename='job_scheduling_model.pkl'):\n",
    "        with open(filename, 'wb') as file:\n",
    "            pickle.dump(self, file)\n",
    "        print(\"Model saved successfully!\")\n",
    "\n",
    "\n",
    "# Example usage:\n",
    "\n",
    "# Assuming df is your preprocessed DataFrame\n",
    "df = pd.read_csv(\"preprocessed_job_data.csv\")\n",
    "\n",
    "# Initialize the model\n",
    "model = JobSchedulingModel(df)\n",
    "\n",
    "# Track failures and get alerts\n",
    "model.track_machine_failures_and_recommendation()\n",
    "\n",
    "# Save the model\n",
    "model.save_model('job_scheduling_model.pkl')\n"
   ]
  },
  {
   "cell_type": "code",
   "execution_count": 17,
   "id": "052c37c6",
   "metadata": {},
   "outputs": [
    {
     "name": "stdout",
     "output_type": "stream",
     "text": [
      "Model saved successfully!\n",
      "Recommended replacement for M04: M02\n",
      "Recommended replacement for M04: M03\n",
      "Recommended replacement for M03: M02\n",
      "Recommended replacement for M03: M02\n",
      "Recommended replacement for M04: M01\n",
      "Recommended replacement for M01: M05\n",
      "Recommended replacement for M01: M04\n",
      "Recommended replacement for M01: M03\n",
      "Recommended replacement for M01: M03\n",
      "Recommended replacement for M03: M02\n",
      "Recommended replacement for M05: M02\n",
      "Recommended replacement for M05: M01\n",
      "Recommended replacement for M05: M04\n",
      "Recommended replacement for M03: M02\n",
      "Recommended replacement for M03: M02\n",
      "Recommended replacement for M01: M02\n",
      "Recommended replacement for M03: M02\n",
      "Recommended replacement for M03: M01\n",
      "Recommended replacement for M01: M04\n",
      "Recommended replacement for M01: M04\n",
      "Recommended replacement for M03: M01\n",
      "Recommended replacement for M04: M01\n",
      "Recommended replacement for M02: M01\n",
      "Recommended replacement for M03: M02\n",
      "Recommended replacement for M02: M04\n",
      "Recommended replacement for M02: M03\n",
      "Recommended replacement for M01: M05\n",
      "Recommended replacement for M01: M02\n"
     ]
    }
   ],
   "source": [
    "# Save the trained model and its state\n",
    "model.save_model('job_scheduling_model.pkl')\n",
    "\n",
    "# Load the saved model\n",
    "with open('job_scheduling_model.pkl', 'rb') as file:\n",
    "    loaded_model = pickle.load(file)\n",
    "\n",
    "# Use the loaded model\n",
    "loaded_model.track_machine_failures_and_recommendation()\n"
   ]
  },
  {
   "cell_type": "markdown",
   "id": "cd984f6c",
   "metadata": {},
   "source": [
    "EXPERIMENTS"
   ]
  },
  {
   "cell_type": "code",
   "execution_count": 18,
   "id": "216c6544",
   "metadata": {},
   "outputs": [],
   "source": [
    "import pandas as pd\n",
    "\n",
    "# Load preprocessed data\n",
    "df = pd.read_csv('preprocessed_job_data.csv')\n",
    "\n",
    "# Convert datetime columns (if not already converted)\n",
    "for col in ['Scheduled_Start', 'Scheduled_End', 'Actual_Start', 'Actual_End']:\n",
    "    df[col] = pd.to_datetime(df[col], errors='coerce')"
   ]
  },
  {
   "cell_type": "markdown",
   "id": "912c0265",
   "metadata": {},
   "source": [
    "PRIORITY-BASED SCHEDULING"
   ]
  },
  {
   "cell_type": "code",
   "execution_count": 19,
   "id": "0ecb0797",
   "metadata": {},
   "outputs": [
    {
     "name": "stdout",
     "output_type": "stream",
     "text": [
      "✅ Priority-Based Schedule Sample:\n",
      "   Job_ID Machine_ID  Priority     Scheduled_Start\n",
      "1    J002        M01         1 2023-03-18 08:10:00\n",
      "4    J005        M01         1 2023-03-18 08:40:00\n",
      "5    J006        M02         1 2023-03-18 08:50:00\n",
      "12   J013        M03         1 2023-03-18 10:00:00\n",
      "15   J016        M01         1 2023-03-18 10:30:00\n",
      "20   J021        M02         1 2023-03-18 11:20:00\n",
      "21   J022        M03         1 2023-03-18 11:30:00\n",
      "24   J025        M04         1 2023-03-18 12:00:00\n",
      "25   J026        M01         1 2023-03-18 12:10:00\n",
      "26   J027        M03         1 2023-03-18 12:20:00\n"
     ]
    }
   ],
   "source": [
    "# Add fake priority if not present (High=1, Medium=2, Low=3)\n",
    "if 'Priority' not in df.columns:\n",
    "    import numpy as np\n",
    "    np.random.seed(42)  # For reproducibility\n",
    "    df['Priority'] = np.random.choice([1, 2, 3], size=len(df))  # Lower number = higher priority\n",
    "\n",
    "# Sort by Priority first, then Scheduled Start\n",
    "priority_schedule = df.sort_values(by=['Priority', 'Scheduled_Start']).copy()\n",
    "\n",
    "print(\"✅ Priority-Based Schedule Sample:\")\n",
    "print(priority_schedule[['Job_ID', 'Machine_ID', 'Priority', 'Scheduled_Start']].head(10))\n"
   ]
  },
  {
   "cell_type": "markdown",
   "id": "4967b07c",
   "metadata": {},
   "source": [
    "SHORTEST JOB FIRST"
   ]
  },
  {
   "cell_type": "code",
   "execution_count": 20,
   "id": "4cbb7d99",
   "metadata": {},
   "outputs": [
    {
     "name": "stdout",
     "output_type": "stream",
     "text": [
      "✅ Shortest-Job-First (SJF) Schedule Sample:\n",
      "    Job_ID Machine_ID  Processing_Time     Scheduled_Start\n",
      "150   J151        M02               20 2023-03-19 09:00:00\n",
      "207   J208        M01               20 2023-03-19 18:30:00\n",
      "273   J274        M05               20 2023-03-20 05:30:00\n",
      "299   J300        M04               20 2023-03-20 09:50:00\n",
      "736   J737        M05               20 2023-03-23 10:40:00\n",
      "897   J898        M05               20 2023-03-24 13:30:00\n",
      "941   J942        M04               20 2023-03-24 20:50:00\n",
      "25    J026        M01               21 2023-03-18 12:10:00\n",
      "196   J197        M05               21 2023-03-19 16:40:00\n",
      "206   J207        M05               21 2023-03-19 18:20:00\n"
     ]
    }
   ],
   "source": [
    "# Sort jobs by Processing_Time\n",
    "sjf_schedule = df.sort_values(by=['Processing_Time', 'Scheduled_Start']).copy()\n",
    "\n",
    "print(\"✅ Shortest-Job-First (SJF) Schedule Sample:\")\n",
    "print(sjf_schedule[['Job_ID', 'Machine_ID', 'Processing_Time', 'Scheduled_Start']].head(10))"
   ]
  },
  {
   "cell_type": "markdown",
   "id": "e72566cb",
   "metadata": {},
   "source": [
    "EARLIEST DEADLINE FIRST"
   ]
  },
  {
   "cell_type": "code",
   "execution_count": 21,
   "id": "26caea9d",
   "metadata": {},
   "outputs": [
    {
     "name": "stdout",
     "output_type": "stream",
     "text": [
      "✅ Earliest-Deadline-First (EDF) Schedule Sample:\n",
      "   Job_ID Machine_ID       Scheduled_End     Scheduled_Start\n",
      "0    J001        M01 2023-03-18 09:16:00 2023-03-18 08:00:00\n",
      "2    J003        M04 2023-03-18 09:16:00 2023-03-18 08:20:00\n",
      "6    J007        M04 2023-03-18 09:22:00 2023-03-18 09:00:00\n",
      "4    J005        M01 2023-03-18 09:26:00 2023-03-18 08:40:00\n",
      "1    J002        M01 2023-03-18 09:29:00 2023-03-18 08:10:00\n",
      "9    J010        M01 2023-03-18 09:57:00 2023-03-18 09:30:00\n",
      "8    J009        M02 2023-03-18 10:02:00 2023-03-18 09:20:00\n",
      "3    J004        M04 2023-03-18 10:16:00 2023-03-18 08:30:00\n",
      "11   J012        M03 2023-03-18 10:18:00 2023-03-18 09:50:00\n",
      "7    J008        M05 2023-03-18 10:29:00 2023-03-18 09:10:00\n"
     ]
    }
   ],
   "source": [
    "# Sort jobs by Scheduled_End\n",
    "edf_schedule = df.sort_values(by=['Scheduled_End']).copy()\n",
    "\n",
    "print(\"✅ Earliest-Deadline-First (EDF) Schedule Sample:\")\n",
    "print(edf_schedule[['Job_ID', 'Machine_ID', 'Scheduled_End', 'Scheduled_Start']].head(10))\n"
   ]
  },
  {
   "cell_type": "markdown",
   "id": "442d9cd0",
   "metadata": {},
   "source": [
    "ROUND-ROBIN "
   ]
  },
  {
   "cell_type": "code",
   "execution_count": 22,
   "id": "8c881a0a",
   "metadata": {},
   "outputs": [
    {
     "name": "stdout",
     "output_type": "stream",
     "text": [
      "✅ Round Robin Schedule Sample:\n",
      "  Job_ID Machine_ID                 Start_Time                   End_Time  \\\n",
      "0   J001        M01 2025-04-26 20:04:46.073489 2025-04-26 22:04:46.073489   \n",
      "1   J002        M01 2025-04-26 22:04:46.073489 2025-04-27 00:04:46.073489   \n",
      "2   J003        M04 2025-04-27 00:04:46.073489 2025-04-27 02:04:46.073489   \n",
      "3   J004        M04 2025-04-27 02:04:46.073489 2025-04-27 04:04:46.073489   \n",
      "4   J005        M01 2025-04-27 04:04:46.073489 2025-04-27 06:04:46.073489   \n",
      "5   J006        M02 2025-04-27 06:04:46.073489 2025-04-27 08:04:46.073489   \n",
      "6   J007        M04 2025-04-27 08:04:46.073489 2025-04-27 10:04:46.073489   \n",
      "7   J008        M05 2025-04-27 10:04:46.073489 2025-04-27 12:04:46.073489   \n",
      "8   J009        M02 2025-04-27 12:04:46.073489 2025-04-27 14:04:46.073489   \n",
      "9   J010        M01 2025-04-27 14:04:46.073489 2025-04-27 16:04:46.073489   \n",
      "\n",
      "   Time_Slice_Hours  \n",
      "0                 2  \n",
      "1                 2  \n",
      "2                 2  \n",
      "3                 2  \n",
      "4                 2  \n",
      "5                 2  \n",
      "6                 2  \n",
      "7                 2  \n",
      "8                 2  \n",
      "9                 2  \n"
     ]
    }
   ],
   "source": [
    "from collections import deque\n",
    "\n",
    "# Parameters\n",
    "time_quantum_hours = 2  # Example: 2-hour slots\n",
    "\n",
    "# Copy DataFrame and create queue\n",
    "rr_jobs = df.copy()\n",
    "rr_jobs['Remaining_Time'] = rr_jobs['Processing_Time']\n",
    "job_queue = deque(rr_jobs.to_dict(orient='records'))\n",
    "\n",
    "rr_schedule = []\n",
    "\n",
    "current_time = pd.Timestamp.now()\n",
    "\n",
    "while job_queue:\n",
    "    job = job_queue.popleft()\n",
    "    job_id = job['Job_ID']\n",
    "    machine_id = job['Machine_ID']\n",
    "    remaining_time = job['Remaining_Time']\n",
    "\n",
    "    time_slice = min(time_quantum_hours, remaining_time)\n",
    "    \n",
    "    rr_schedule.append({\n",
    "        'Job_ID': job_id,\n",
    "        'Machine_ID': machine_id,\n",
    "        'Start_Time': current_time,\n",
    "        'End_Time': current_time + pd.Timedelta(hours=time_slice),\n",
    "        'Time_Slice_Hours': time_slice\n",
    "    })\n",
    "    \n",
    "    current_time += pd.Timedelta(hours=time_slice)\n",
    "    \n",
    "    if remaining_time > time_quantum_hours:\n",
    "        job['Remaining_Time'] = remaining_time - time_quantum_hours\n",
    "        job_queue.append(job)\n",
    "\n",
    "# Convert to DataFrame\n",
    "rr_schedule_df = pd.DataFrame(rr_schedule)\n",
    "\n",
    "print(\"✅ Round Robin Schedule Sample:\")\n",
    "print(rr_schedule_df.head(10))\n"
   ]
  },
  {
   "cell_type": "markdown",
   "id": "f5dbdc3c",
   "metadata": {},
   "source": [
    "REINFORCEMENT LEARNING"
   ]
  },
  {
   "cell_type": "code",
   "execution_count": 23,
   "id": "0836c71e",
   "metadata": {},
   "outputs": [
    {
     "name": "stderr",
     "output_type": "stream",
     "text": [
      "C:\\Users\\manis\\AppData\\Local\\Temp\\ipykernel_14868\\2814303020.py:47: FutureWarning: Setting an item of incompatible dtype is deprecated and will raise in a future error of pandas. Value '0.1' has dtype incompatible with int64, please explicitly cast to a compatible dtype first.\n",
      "  q_table.loc[current_job, chosen_machine] = new_value\n",
      "C:\\Users\\manis\\AppData\\Local\\Temp\\ipykernel_14868\\2814303020.py:47: FutureWarning: Setting an item of incompatible dtype is deprecated and will raise in a future error of pandas. Value '0.1' has dtype incompatible with int64, please explicitly cast to a compatible dtype first.\n",
      "  q_table.loc[current_job, chosen_machine] = new_value\n",
      "C:\\Users\\manis\\AppData\\Local\\Temp\\ipykernel_14868\\2814303020.py:47: FutureWarning: Setting an item of incompatible dtype is deprecated and will raise in a future error of pandas. Value '0.1' has dtype incompatible with int64, please explicitly cast to a compatible dtype first.\n",
      "  q_table.loc[current_job, chosen_machine] = new_value\n",
      "C:\\Users\\manis\\AppData\\Local\\Temp\\ipykernel_14868\\2814303020.py:47: FutureWarning: Setting an item of incompatible dtype is deprecated and will raise in a future error of pandas. Value '0.1' has dtype incompatible with int64, please explicitly cast to a compatible dtype first.\n",
      "  q_table.loc[current_job, chosen_machine] = new_value\n",
      "C:\\Users\\manis\\AppData\\Local\\Temp\\ipykernel_14868\\2814303020.py:47: FutureWarning: Setting an item of incompatible dtype is deprecated and will raise in a future error of pandas. Value '0.1' has dtype incompatible with int64, please explicitly cast to a compatible dtype first.\n",
      "  q_table.loc[current_job, chosen_machine] = new_value\n"
     ]
    },
    {
     "name": "stdout",
     "output_type": "stream",
     "text": [
      "✅ Q-Learning Training Finished!\n",
      "        M01    M04    M02    M05  M03\n",
      "J001 -0.100 -0.100 -0.100  0.000  0.0\n",
      "J002 -0.196 -0.196 -0.196 -0.100 -0.1\n",
      "J003 -0.100 -0.100  0.000  0.000  0.0\n",
      "J004 -0.100 -0.100 -0.100  0.000  0.0\n",
      "J005 -0.196 -0.190 -0.196 -0.196 -0.1\n"
     ]
    }
   ],
   "source": [
    "import numpy as np\n",
    "import pandas as pd\n",
    "import random\n",
    "\n",
    "# Load preprocessed job data\n",
    "df = pd.read_csv('preprocessed_job_data.csv')\n",
    "\n",
    "# Basic Parameters\n",
    "jobs = df['Job_ID'].tolist()\n",
    "machines = df['Machine_ID'].unique().tolist()\n",
    "\n",
    "states = jobs\n",
    "actions = machines\n",
    "\n",
    "q_table = pd.DataFrame(0, index=states, columns=actions)\n",
    "\n",
    "# Hyperparameters\n",
    "alpha = 0.1  # learning rate\n",
    "gamma = 0.6  # discount factor\n",
    "epsilon = 0.1  # exploration rate\n",
    "episodes = 5000\n",
    "\n",
    "# Dummy Machine Availability Tracker\n",
    "machine_availability = {m: 1.0 for m in machines}  # fully available initially\n",
    "\n",
    "for episode in range(episodes):\n",
    "    current_job = random.choice(jobs)\n",
    "    \n",
    "    if random.uniform(0, 1) < epsilon:\n",
    "        chosen_machine = random.choice(machines)  # Explore\n",
    "    else:\n",
    "        chosen_machine = q_table.loc[current_job].idxmax()  # Exploit\n",
    "    \n",
    "    # Simulate reward (based on availability)\n",
    "    if machine_availability[chosen_machine] > 0.9:\n",
    "        reward = 1  # Good\n",
    "    elif machine_availability[chosen_machine] > 0.5:\n",
    "        reward = 0  # Neutral\n",
    "    else:\n",
    "        reward = -1  # Bad choice\n",
    "\n",
    "    old_value = q_table.loc[current_job, chosen_machine]\n",
    "    next_max = q_table.loc[current_job].max()\n",
    "\n",
    "    # Update Q-Table\n",
    "    new_value = (1 - alpha) * old_value + alpha * (reward + gamma * next_max)\n",
    "    q_table.loc[current_job, chosen_machine] = new_value\n",
    "\n",
    "    # Slightly random decay to simulate usage\n",
    "    machine_availability[chosen_machine] *= 0.99\n",
    "\n",
    "print(\"✅ Q-Learning Training Finished!\")\n",
    "print(q_table.head())\n"
   ]
  },
  {
   "cell_type": "markdown",
   "id": "07a06e91",
   "metadata": {},
   "source": [
    "DEFINE RL SETUP"
   ]
  },
  {
   "cell_type": "code",
   "execution_count": 24,
   "id": "dc442cce",
   "metadata": {},
   "outputs": [],
   "source": [
    "import pandas as pd\n",
    "import numpy as np\n",
    "import random\n",
    "\n",
    "# Load preprocessed data\n",
    "df = pd.read_csv('preprocessed_job_data.csv')\n",
    "\n",
    "# Ensure datetime columns are parsed\n",
    "for col in ['Scheduled_Start', 'Scheduled_End', 'Actual_Start', 'Actual_End']:\n",
    "    df[col] = pd.to_datetime(df[col], errors='coerce')\n",
    "\n",
    "# Basic Setup\n",
    "jobs = df['Job_ID'].tolist()\n",
    "machines = df['Machine_ID'].unique().tolist()\n",
    "\n",
    "states = jobs  # State = Current job\n",
    "actions = machines  # Action = Assign to a machine\n",
    "\n",
    "# Initialize Q-Table\n",
    "q_table = pd.DataFrame(0, index=states, columns=actions)\n",
    "\n",
    "# Machine Availability Map\n",
    "machine_availability = {m: 1.0 for m in machines}"
   ]
  },
  {
   "cell_type": "code",
   "execution_count": null,
   "id": "a539c8f5",
   "metadata": {},
   "outputs": [],
   "source": [
    "# Hyperparameters\n",
    "alpha = 0.1   # Learning Rate\n",
    "gamma = 0.6   # Discount Factor\n",
    "epsilon = 0.1 # Exploration Rate\n",
    "episodes = 5000  # Number of training episodes"
   ]
  },
  {
   "cell_type": "code",
   "execution_count": 26,
   "id": "99dcc851",
   "metadata": {},
   "outputs": [
    {
     "name": "stderr",
     "output_type": "stream",
     "text": [
      "C:\\Users\\manis\\AppData\\Local\\Temp\\ipykernel_14868\\2335316562.py:24: FutureWarning: Setting an item of incompatible dtype is deprecated and will raise in a future error of pandas. Value '0.1' has dtype incompatible with int64, please explicitly cast to a compatible dtype first.\n",
      "  q_table.loc[current_job, chosen_machine] = new_value\n",
      "C:\\Users\\manis\\AppData\\Local\\Temp\\ipykernel_14868\\2335316562.py:24: FutureWarning: Setting an item of incompatible dtype is deprecated and will raise in a future error of pandas. Value '0.1' has dtype incompatible with int64, please explicitly cast to a compatible dtype first.\n",
      "  q_table.loc[current_job, chosen_machine] = new_value\n",
      "C:\\Users\\manis\\AppData\\Local\\Temp\\ipykernel_14868\\2335316562.py:24: FutureWarning: Setting an item of incompatible dtype is deprecated and will raise in a future error of pandas. Value '0.1' has dtype incompatible with int64, please explicitly cast to a compatible dtype first.\n",
      "  q_table.loc[current_job, chosen_machine] = new_value\n",
      "C:\\Users\\manis\\AppData\\Local\\Temp\\ipykernel_14868\\2335316562.py:24: FutureWarning: Setting an item of incompatible dtype is deprecated and will raise in a future error of pandas. Value '0.1' has dtype incompatible with int64, please explicitly cast to a compatible dtype first.\n",
      "  q_table.loc[current_job, chosen_machine] = new_value\n",
      "C:\\Users\\manis\\AppData\\Local\\Temp\\ipykernel_14868\\2335316562.py:24: FutureWarning: Setting an item of incompatible dtype is deprecated and will raise in a future error of pandas. Value '0.1' has dtype incompatible with int64, please explicitly cast to a compatible dtype first.\n",
      "  q_table.loc[current_job, chosen_machine] = new_value\n"
     ]
    },
    {
     "name": "stdout",
     "output_type": "stream",
     "text": [
      "✅ Q-Learning Training Completed!\n",
      "        M01    M04  M02  M05  M03\n",
      "J001 -0.196 -0.196 -0.1 -0.1 -0.1\n",
      "J002 -0.100 -0.100 -0.1 -0.1 -0.1\n",
      "J003 -0.196 -0.100 -0.1 -0.1 -0.1\n",
      "J004 -0.100 -0.100 -0.1  0.0  0.0\n",
      "J005 -0.100 -0.100  0.0  0.0  0.0\n"
     ]
    }
   ],
   "source": [
    "for episode in range(episodes):\n",
    "    current_job = random.choice(jobs)\n",
    "    \n",
    "    if random.uniform(0, 1) < epsilon:\n",
    "        # Explore\n",
    "        chosen_machine = random.choice(machines)\n",
    "    else:\n",
    "        # Exploit best known action\n",
    "        chosen_machine = q_table.loc[current_job].idxmax()\n",
    "\n",
    "    # Reward simulation\n",
    "    if machine_availability[chosen_machine] > 0.9:\n",
    "        reward = 1  # Best case\n",
    "    elif machine_availability[chosen_machine] > 0.5:\n",
    "        reward = 0  # Okay\n",
    "    else:\n",
    "        reward = -1  # Bad machine (low availability)\n",
    "\n",
    "    old_value = q_table.loc[current_job, chosen_machine]\n",
    "    next_max = q_table.loc[current_job].max()\n",
    "\n",
    "    # Q-Value Update\n",
    "    new_value = (1 - alpha) * old_value + alpha * (reward + gamma * next_max)\n",
    "    q_table.loc[current_job, chosen_machine] = new_value\n",
    "\n",
    "    # Decay availability (simulate usage)\n",
    "    machine_availability[chosen_machine] *= 0.99\n",
    "\n",
    "print(\"✅ Q-Learning Training Completed!\")\n",
    "print(q_table.head())\n"
   ]
  },
  {
   "cell_type": "code",
   "execution_count": 27,
   "id": "e6179051",
   "metadata": {},
   "outputs": [
    {
     "name": "stdout",
     "output_type": "stream",
     "text": [
      "✅ RL-Based Job Scheduling Done!\n",
      "  Job_ID Assigned_Machine            Scheduled_Start  \\\n",
      "0   J001              M02 2025-04-26 20:20:53.650877   \n",
      "1   J002              M01 2025-04-30 00:20:53.650877   \n",
      "2   J003              M04 2025-05-03 07:20:53.650877   \n",
      "3   J004              M05 2025-05-05 15:20:53.650877   \n",
      "4   J005              M02 2025-05-10 01:20:53.650877   \n",
      "\n",
      "               Estimated_End  \n",
      "0 2025-04-30 00:20:53.650877  \n",
      "1 2025-05-03 07:20:53.650877  \n",
      "2 2025-05-05 15:20:53.650877  \n",
      "3 2025-05-10 01:20:53.650877  \n",
      "4 2025-05-11 23:20:53.650877  \n"
     ]
    }
   ],
   "source": [
    "# Scheduling Phase\n",
    "\n",
    "rl_schedule = []\n",
    "\n",
    "# Reset Machine Availabilities for fresh scheduling\n",
    "machine_availability = {m: 1.0 for m in machines}\n",
    "current_time = pd.Timestamp.now()\n",
    "\n",
    "for job_id in jobs:\n",
    "    # Pick the best machine learned\n",
    "    assigned_machine = q_table.loc[job_id].idxmax()\n",
    "    \n",
    "    # Get job processing time\n",
    "    job_row = df[df['Job_ID'] == job_id].iloc[0]\n",
    "    duration = job_row['Processing_Time']\n",
    "\n",
    "    # Schedule\n",
    "    scheduled_start = current_time\n",
    "    estimated_end = current_time + pd.to_timedelta(duration, unit='h')\n",
    "    \n",
    "    rl_schedule.append({\n",
    "        'Job_ID': job_id,\n",
    "        'Assigned_Machine': assigned_machine,\n",
    "        'Scheduled_Start': scheduled_start,\n",
    "        'Estimated_End': estimated_end\n",
    "    })\n",
    "    \n",
    "    # Update current time (simulating serial processing for now)\n",
    "    current_time = estimated_end\n",
    "\n",
    "# Create RL schedule DataFrame\n",
    "rl_schedule_df = pd.DataFrame(rl_schedule)\n",
    "\n",
    "print(\"✅ RL-Based Job Scheduling Done!\")\n",
    "print(rl_schedule_df.head())\n"
   ]
  },
  {
   "cell_type": "markdown",
   "id": "dd574531",
   "metadata": {},
   "source": [
    "BREAKDOWN ANALYSIS"
   ]
  },
  {
   "cell_type": "code",
   "execution_count": 28,
   "id": "03352673",
   "metadata": {},
   "outputs": [
    {
     "name": "stdout",
     "output_type": "stream",
     "text": [
      "✅ Breakdown Detection Completed!\n",
      "  Machine_ID Affected_Job                 Alert_Time  \\\n",
      "0        M03         J230 2027-03-01 11:20:53.650877   \n",
      "\n",
      "                                  Alert_Message  \n",
      "0  ⚠️ Machine M03 is unreliable! (40% failures)  \n"
     ]
    }
   ],
   "source": [
    "from collections import defaultdict\n",
    "\n",
    "# Initialize machine failure history\n",
    "machine_failure_history = defaultdict(list)\n",
    "\n",
    "# Parameters for failure detection\n",
    "FAILURE_THRESHOLD = 2  # Consecutive Failures\n",
    "FAILURE_WINDOW = 5     # Look at last 5 jobs\n",
    "FAILURE_RATIO = 0.6    # 60% failure rate = unreliable\n",
    "\n",
    "# Detect breakdowns\n",
    "breakdown_alerts = []\n",
    "\n",
    "# Sort by scheduled start time\n",
    "rl_schedule_df = rl_schedule_df.sort_values(by='Scheduled_Start')\n",
    "\n",
    "for idx, job_row in rl_schedule_df.iterrows():\n",
    "    machine = job_row['Assigned_Machine']\n",
    "    job_id = job_row['Job_ID']\n",
    "    start_time = job_row['Scheduled_Start']\n",
    "    \n",
    "    # Simulate Job Status (for now, assume 5% random failure)\n",
    "    status = 'Completed' if np.random.rand() > 0.05 else 'Failed'\n",
    "    \n",
    "    machine_failure_history[machine].append(status)\n",
    "    \n",
    "    recent_statuses = machine_failure_history[machine][-FAILURE_WINDOW:]\n",
    "    \n",
    "    # Check if machine unreliable\n",
    "    consecutive_failures = all(s == 'Failed' for s in recent_statuses[-FAILURE_THRESHOLD:])\n",
    "    failure_ratio = recent_statuses.count('Failed') / len(recent_statuses)\n",
    "\n",
    "    if consecutive_failures or failure_ratio >= FAILURE_RATIO:\n",
    "        alert_msg = f\"⚠️ Machine {machine} is unreliable! ({failure_ratio*100:.0f}% failures)\"\n",
    "        breakdown_alerts.append({\n",
    "            \"Machine_ID\": machine,\n",
    "            \"Affected_Job\": job_id,\n",
    "            \"Alert_Time\": start_time,\n",
    "            \"Alert_Message\": alert_msg\n",
    "        })\n",
    "\n",
    "# Show breakdown alerts\n",
    "breakdown_alerts_df = pd.DataFrame(breakdown_alerts)\n",
    "\n",
    "print(\"✅ Breakdown Detection Completed!\")\n",
    "print(breakdown_alerts_df if not breakdown_alerts_df.empty else \"✅ No critical machine issues detected.\")\n"
   ]
  },
  {
   "cell_type": "code",
   "execution_count": 29,
   "id": "07e4ebbc",
   "metadata": {},
   "outputs": [
    {
     "name": "stdout",
     "output_type": "stream",
     "text": [
      "✅ Best Replacement Machine Suggested!\n",
      "  Machine_ID Affected_Job Suggested_Replacement\n",
      "0        M03         J230                   M02\n"
     ]
    }
   ],
   "source": [
    "# Recommend best replacement machine\n",
    "def recommend_replacement_machine(broken_machine, operation_type, df):\n",
    "    candidates = df[\n",
    "        (df['Machine_ID'] != broken_machine) &\n",
    "        (df['Operation_Type'] == operation_type)\n",
    "    ]\n",
    "    \n",
    "    if not candidates.empty:\n",
    "        # Choose machine with best availability and low energy consumption\n",
    "        return candidates.sort_values(['Machine_Availability', 'Energy_Consumption'], ascending=[False, True]).iloc[0]['Machine_ID']\n",
    "    else:\n",
    "        return \"⚠️ No Replacement Found\"\n",
    "\n",
    "# Update breakdown alerts with recommendations\n",
    "for alert in breakdown_alerts:\n",
    "    job_row = df[df['Job_ID'] == alert['Affected_Job']].iloc[0]\n",
    "    replacement = recommend_replacement_machine(alert['Machine_ID'], job_row['Operation_Type'], df)\n",
    "    alert['Suggested_Replacement'] = replacement\n",
    "\n",
    "# Show updated breakdowns\n",
    "breakdown_alerts_df = pd.DataFrame(breakdown_alerts)\n",
    "\n",
    "print(\"✅ Best Replacement Machine Suggested!\")\n",
    "print(breakdown_alerts_df[['Machine_ID', 'Affected_Job', 'Suggested_Replacement']].head())\n"
   ]
  },
  {
   "cell_type": "code",
   "execution_count": 30,
   "id": "5f0ec5fa",
   "metadata": {},
   "outputs": [
    {
     "name": "stdout",
     "output_type": "stream",
     "text": [
      "✅ Completion Time Estimation Done!\n",
      "  Job_ID Assigned_Machine            Scheduled_Start  \\\n",
      "0   J001              M02 2025-04-26 20:20:53.650877   \n",
      "1   J002              M01 2025-04-30 00:20:53.650877   \n",
      "2   J003              M04 2025-05-03 07:20:53.650877   \n",
      "3   J004              M05 2025-05-05 15:20:53.650877   \n",
      "4   J005              M02 2025-05-10 01:20:53.650877   \n",
      "\n",
      "   Estimated_Completion_Time  \n",
      "0 2025-04-30 00:20:53.650877  \n",
      "1 2025-05-03 07:20:53.650877  \n",
      "2 2025-05-05 15:20:53.650877  \n",
      "3 2025-05-10 01:20:53.650877  \n",
      "4 2025-05-11 23:20:53.650877  \n"
     ]
    }
   ],
   "source": [
    "# Predict Completion Time for all scheduled jobs (using RL scheduler as example)\n",
    "\n",
    "def estimate_completion_times(schedule_df, df_reference):\n",
    "    estimated_completion_list = []\n",
    "    \n",
    "    for idx, row in schedule_df.iterrows():\n",
    "        job_id = row['Job_ID']\n",
    "        assigned_machine = row['Assigned_Machine']\n",
    "        start_time = row['Scheduled_Start']\n",
    "\n",
    "        # Get original processing time from reference dataset\n",
    "        job_row = df_reference[df_reference['Job_ID'] == job_id].iloc[0]\n",
    "        processing_hours = job_row['Processing_Time']\n",
    "\n",
    "        # Calculate Estimated Completion\n",
    "        estimated_end_time = start_time + pd.to_timedelta(processing_hours, unit='h')\n",
    "        \n",
    "        estimated_completion_list.append(estimated_end_time)\n",
    "    \n",
    "    # Add to schedule\n",
    "    schedule_df['Estimated_Completion_Time'] = estimated_completion_list\n",
    "    return schedule_df\n",
    "\n",
    "# Apply to RL Schedule\n",
    "rl_schedule_df = estimate_completion_times(rl_schedule_df, df)\n",
    "\n",
    "print(\"✅ Completion Time Estimation Done!\")\n",
    "print(rl_schedule_df[['Job_ID', 'Assigned_Machine', 'Scheduled_Start', 'Estimated_Completion_Time']].head())\n"
   ]
  },
  {
   "cell_type": "code",
   "execution_count": 33,
   "id": "da116107",
   "metadata": {},
   "outputs": [
    {
     "name": "stdout",
     "output_type": "stream",
     "text": [
      "✅ Dynamic Machine Efficiency Map Ready!\n",
      "{'M01': 0.997787832691019, 'M04': 1.0089264088290923, 'M02': 0.9883088443063011, 'M05': 1.0009772586955559, 'M03': 1.0141822621875556}\n"
     ]
    }
   ],
   "source": [
    "# Calculate dynamic efficiency for each machine\n",
    "def calculate_dynamic_machine_efficiency(df_reference):\n",
    "    efficiency_map = {}\n",
    "\n",
    "    machines = df_reference['Machine_ID'].unique()\n",
    "\n",
    "    for machine in machines:\n",
    "        machine_jobs = df_reference[df_reference['Machine_ID'] == machine]\n",
    "        \n",
    "        if not machine_jobs.empty:\n",
    "            avg_actual_duration = machine_jobs['Calculated_Actual_Duration'].mean()\n",
    "            avg_expected_duration = machine_jobs['Calculated_Scheduled_Duration'].mean()\n",
    "            \n",
    "            # Efficiency = Expected Duration / Actual Duration\n",
    "            efficiency = avg_expected_duration / avg_actual_duration if avg_actual_duration else 1.0\n",
    "            \n",
    "            # Clip efficiency to avoid extreme values (safe range: 0.8 to 1.2)\n",
    "            efficiency = max(0.8, min(1.2, efficiency))\n",
    "            \n",
    "            efficiency_map[machine] = efficiency\n",
    "        else:\n",
    "            efficiency_map[machine] = 1.0  # Default to normal\n",
    "\n",
    "    return efficiency_map\n",
    "\n",
    "# Calculate dynamic efficiencies\n",
    "dynamic_efficiency_map = calculate_dynamic_machine_efficiency(df)\n",
    "\n",
    "print(\"✅ Dynamic Machine Efficiency Map Ready!\")\n",
    "print(dynamic_efficiency_map)\n"
   ]
  },
  {
   "cell_type": "code",
   "execution_count": 34,
   "id": "0534994b",
   "metadata": {},
   "outputs": [
    {
     "name": "stdout",
     "output_type": "stream",
     "text": [
      "✅ Dynamic Completion Time Estimation Done!\n",
      "  Job_ID Assigned_Machine            Scheduled_Start  \\\n",
      "0   J001              M02 2025-04-26 20:20:53.650877   \n",
      "1   J002              M01 2025-04-30 00:20:53.650877   \n",
      "2   J003              M04 2025-05-03 07:20:53.650877   \n",
      "3   J004              M05 2025-05-05 15:20:53.650877   \n",
      "4   J005              M02 2025-05-10 01:20:53.650877   \n",
      "\n",
      "      Estimated_Completion_Time  \n",
      "0 2025-04-30 01:14:50.189957088  \n",
      "1 2025-05-03 07:31:24.186109102  \n",
      "2 2025-05-05 14:51:10.008379196  \n",
      "3 2025-05-10 01:14:41.093044156  \n",
      "4 2025-05-11 23:53:32.608741265  \n"
     ]
    }
   ],
   "source": [
    "# Enhanced Completion Time Estimator using dynamic efficiencies\n",
    "\n",
    "def dynamic_estimate_completion_times(schedule_df, df_reference, dynamic_efficiency):\n",
    "    estimated_completion_list = []\n",
    "    \n",
    "    for idx, row in schedule_df.iterrows():\n",
    "        job_id = row['Job_ID']\n",
    "        assigned_machine = row['Assigned_Machine']\n",
    "        start_time = row['Scheduled_Start']\n",
    "\n",
    "        # Fetch processing time\n",
    "        job_row = df_reference[df_reference['Job_ID'] == job_id].iloc[0]\n",
    "        processing_hours = job_row['Processing_Time']\n",
    "\n",
    "        # Get dynamic efficiency\n",
    "        efficiency = dynamic_efficiency.get(assigned_machine, 1.0)  # Default normal if missing\n",
    "        adjusted_processing_time = processing_hours / efficiency\n",
    "\n",
    "        # Estimate Completion\n",
    "        estimated_end_time = start_time + pd.to_timedelta(adjusted_processing_time, unit='h')\n",
    "        \n",
    "        estimated_completion_list.append(estimated_end_time)\n",
    "    \n",
    "    # Add column\n",
    "    schedule_df['Estimated_Completion_Time'] = estimated_completion_list\n",
    "    return schedule_df\n",
    "\n",
    "# Apply to RL Schedule\n",
    "rl_schedule_df = dynamic_estimate_completion_times(rl_schedule_df, df, dynamic_efficiency_map)\n",
    "\n",
    "print(\"✅ Dynamic Completion Time Estimation Done!\")\n",
    "print(rl_schedule_df[['Job_ID', 'Assigned_Machine', 'Scheduled_Start', 'Estimated_Completion_Time']].head())\n"
   ]
  },
  {
   "cell_type": "code",
   "execution_count": 35,
   "id": "159452dc",
   "metadata": {},
   "outputs": [
    {
     "name": "stdout",
     "output_type": "stream",
     "text": [
      "✅ Machine Utilization Calculation Done!\n",
      "  Machine_ID  Total_Busy_Hours  Total_Available_Hours  Utilization_%\n",
      "0        M02          14249.59                  71400          19.96\n",
      "1        M01          14005.98                  71400          19.62\n",
      "2        M04          13869.20                  71400          19.42\n",
      "3        M05          13851.46                  71400          19.40\n",
      "4        M03          15251.70                  71400          21.36\n"
     ]
    }
   ],
   "source": [
    "# Machine Utilization Tracker\n",
    "\n",
    "def calculate_machine_utilization(schedule_df, working_hours_per_day=24):\n",
    "    # Step 1: Find first and last Scheduled_Start\n",
    "    min_start = schedule_df['Scheduled_Start'].min()\n",
    "    max_end = schedule_df['Estimated_Completion_Time'].max()\n",
    "\n",
    "    # Step 2: Calculate total schedule span in days\n",
    "    schedule_span_days = (max_end - min_start).days + 1  # Add 1 to include the current day\n",
    "\n",
    "    # Step 3: Calculate total available working hours\n",
    "    total_available_hours = working_hours_per_day * schedule_span_days\n",
    "\n",
    "    # Step 4: Initialize usage counter\n",
    "    machine_usage = {}\n",
    "\n",
    "    for machine in schedule_df['Assigned_Machine'].unique():\n",
    "        machine_jobs = schedule_df[schedule_df['Assigned_Machine'] == machine]\n",
    "        \n",
    "        # Total hours this machine is busy\n",
    "        total_busy_hours = (machine_jobs['Estimated_Completion_Time'] - machine_jobs['Scheduled_Start']).dt.total_seconds().sum() / 3600\n",
    "        \n",
    "        utilization_percent = (total_busy_hours / total_available_hours) * 100\n",
    "        machine_usage[machine] = {\n",
    "            'Total_Busy_Hours': round(total_busy_hours, 2),\n",
    "            'Total_Available_Hours': total_available_hours,\n",
    "            'Utilization_%': round(utilization_percent, 2)\n",
    "        }\n",
    "\n",
    "    utilization_df = pd.DataFrame.from_dict(machine_usage, orient='index').reset_index()\n",
    "    utilization_df.rename(columns={'index': 'Machine_ID'}, inplace=True)\n",
    "\n",
    "    return utilization_df\n",
    "\n",
    "# Calculate utilization\n",
    "machine_utilization_df = calculate_machine_utilization(rl_schedule_df)\n",
    "\n",
    "print(\"✅ Machine Utilization Calculation Done!\")\n",
    "print(machine_utilization_df)"
   ]
  },
  {
   "cell_type": "code",
   "execution_count": 36,
   "id": "79703df6",
   "metadata": {},
   "outputs": [
    {
     "name": "stdout",
     "output_type": "stream",
     "text": [
      "✅ Deadlines Simulated for Jobs!\n",
      "  Job_ID       Scheduled_End            Deadline\n",
      "0   J001 2023-03-18 09:16:00 2023-03-18 12:16:00\n",
      "1   J002 2023-03-18 09:29:00 2023-03-18 10:29:00\n",
      "2   J003 2023-03-18 09:16:00 2023-03-18 12:16:00\n",
      "3   J004 2023-03-18 10:16:00 2023-03-18 13:16:00\n",
      "4   J005 2023-03-18 09:26:00 2023-03-18 10:26:00\n"
     ]
    }
   ],
   "source": [
    "# Simulate a Deadline column (within 1.2x scheduled end time)\n",
    "if 'Deadline' not in df.columns:\n",
    "    np.random.seed(42)\n",
    "    df['Deadline'] = df['Scheduled_End'] + pd.to_timedelta(np.random.randint(1, 4, size=len(df)), unit='h')\n",
    "\n",
    "print(\"✅ Deadlines Simulated for Jobs!\")\n",
    "print(df[['Job_ID', 'Scheduled_End', 'Deadline']].head())"
   ]
  },
  {
   "cell_type": "code",
   "execution_count": 37,
   "id": "43c73ac8",
   "metadata": {},
   "outputs": [
    {
     "name": "stdout",
     "output_type": "stream",
     "text": [
      "✅ Deadline Risk Detection Completed!\n",
      "    Job_ID Assigned_Machine            Deadline     Estimated_Completion_Time  \\\n",
      "0     J001              M02 2023-03-18 12:16:00 2025-04-30 01:14:50.189957088   \n",
      "1     J002              M01 2023-03-18 10:29:00 2025-05-03 07:31:24.186109102   \n",
      "2     J003              M04 2023-03-18 12:16:00 2025-05-05 14:51:10.008379196   \n",
      "3     J004              M05 2023-03-18 13:16:00 2025-05-10 01:14:41.093044156   \n",
      "4     J005              M02 2023-03-18 10:26:00 2025-05-11 23:53:32.608741265   \n",
      "..     ...              ...                 ...                           ...   \n",
      "995   J996              M04 2023-03-25 08:40:00 2033-06-03 15:54:21.112932532   \n",
      "996   J997              M01 2023-03-25 09:00:00 2033-06-06 04:28:52.538395052   \n",
      "997   J998              M03 2023-03-25 10:52:00 2033-06-10 08:55:18.748730280   \n",
      "998   J999              M05 2023-03-25 10:35:00 2033-06-13 13:16:30.048636782   \n",
      "999  J1000              M04 2023-03-25 09:21:00 2033-06-18 03:21:58.216640278   \n",
      "\n",
      "     Delay_Hours Risk_Level  \n",
      "0       18564.98    ⚠️ HIGH  \n",
      "1       18645.04    ⚠️ HIGH  \n",
      "2       18698.59    ⚠️ HIGH  \n",
      "3       18803.98    ⚠️ HIGH  \n",
      "4       18853.46    ⚠️ HIGH  \n",
      "..           ...        ...  \n",
      "995     89359.24    ⚠️ HIGH  \n",
      "996     89419.48    ⚠️ HIGH  \n",
      "997     89518.06    ⚠️ HIGH  \n",
      "998     89594.69    ⚠️ HIGH  \n",
      "999     89706.02    ⚠️ HIGH  \n",
      "\n",
      "[1000 rows x 6 columns]\n"
     ]
    }
   ],
   "source": [
    "# Deadline Risk Detector\n",
    "\n",
    "def detect_deadline_risks(schedule_df, df_reference):\n",
    "    risks = []\n",
    "\n",
    "    for idx, row in schedule_df.iterrows():\n",
    "        job_id = row['Job_ID']\n",
    "        assigned_machine = row['Assigned_Machine']\n",
    "        estimated_completion = row['Estimated_Completion_Time']\n",
    "\n",
    "        # Get the deadline\n",
    "        job_row = df_reference[df_reference['Job_ID'] == job_id].iloc[0]\n",
    "        deadline = job_row['Deadline']\n",
    "\n",
    "        if estimated_completion > deadline:\n",
    "            risks.append({\n",
    "                'Job_ID': job_id,\n",
    "                'Assigned_Machine': assigned_machine,\n",
    "                'Deadline': deadline,\n",
    "                'Estimated_Completion_Time': estimated_completion,\n",
    "                'Delay_Hours': round((estimated_completion - deadline).total_seconds() / 3600, 2),\n",
    "                'Risk_Level': '⚠️ HIGH' if (estimated_completion - deadline).total_seconds() > 3600 else '⚠️ Medium'\n",
    "            })\n",
    "\n",
    "    risk_df = pd.DataFrame(risks)\n",
    "    return risk_df\n",
    "\n",
    "# Apply Deadline Risk Detection\n",
    "deadline_risks_df = detect_deadline_risks(rl_schedule_df, df)\n",
    "\n",
    "print(\"✅ Deadline Risk Detection Completed!\")\n",
    "print(deadline_risks_df if not deadline_risks_df.empty else \"✅ No jobs at risk of missing deadlines!\")"
   ]
  },
  {
   "cell_type": "markdown",
   "id": "6fbb7285",
   "metadata": {},
   "source": [
    "AUTO-RESHEDULING"
   ]
  },
  {
   "cell_type": "code",
   "execution_count": 38,
   "id": "b00ae26a",
   "metadata": {},
   "outputs": [
    {
     "name": "stdout",
     "output_type": "stream",
     "text": [
      "✅ Auto-Rescheduling Done!\n",
      "    Job_ID Old_Machine New_Machine                Old_Completion  \\\n",
      "0     J001         M02         M04 2025-04-30 01:14:50.189957088   \n",
      "1     J002         M01         M04 2025-05-03 07:31:24.186109102   \n",
      "2     J003         M04         M05 2025-05-05 14:51:10.008379196   \n",
      "3     J004         M05         M04 2025-05-10 01:14:41.093044156   \n",
      "4     J005         M02         M04 2025-05-11 23:53:32.608741265   \n",
      "..     ...         ...         ...                           ...   \n",
      "995   J996         M04         M05 2033-06-03 15:54:21.112932532   \n",
      "996   J997         M01         M04 2033-06-06 04:28:52.538395052   \n",
      "997   J998         M03         M04 2033-06-10 08:55:18.748730280   \n",
      "998   J999         M05         M04 2033-06-13 13:16:30.048636782   \n",
      "999  J1000         M04         M05 2033-06-18 03:21:58.216640278   \n",
      "\n",
      "                   New_Completion  \n",
      "0   2025-04-29 23:40:32.993201406  \n",
      "1   2025-05-03 06:38:57.440924740  \n",
      "2   2025-05-05 15:17:36.827870968  \n",
      "3   2025-05-10 00:24:37.470434728  \n",
      "4   2025-05-11 22:56:28.515968088  \n",
      "..                            ...  \n",
      "995 2033-06-03 16:17:57.916050188  \n",
      "996 2033-06-06 03:49:02.605343639  \n",
      "997 2033-06-10 09:26:44.873470284  \n",
      "998 2033-06-13 12:41:04.843960296  \n",
      "999 2033-06-18 04:14:23.519561475  \n",
      "\n",
      "[1000 rows x 5 columns]\n"
     ]
    }
   ],
   "source": [
    "# Auto-Rescheduler for Delayed Jobs\n",
    "\n",
    "def auto_reschedule_delayed_jobs(schedule_df, df_reference, utilization_df, efficiency_map):\n",
    "    rescheduled_jobs = []\n",
    "    \n",
    "    for idx, row in schedule_df.iterrows():\n",
    "        job_id = row['Job_ID']\n",
    "        assigned_machine = row['Assigned_Machine']\n",
    "        estimated_completion = row['Estimated_Completion_Time']\n",
    "        \n",
    "        # Get job deadline\n",
    "        job_row = df_reference[df_reference['Job_ID'] == job_id].iloc[0]\n",
    "        deadline = job_row['Deadline']\n",
    "        operation_type = job_row['Operation_Type']\n",
    "        \n",
    "        # Check if delayed\n",
    "        if estimated_completion > deadline:\n",
    "            # Try to find a better machine\n",
    "            candidate_machines = df_reference[\n",
    "                (df_reference['Operation_Type'] == operation_type) &\n",
    "                (df_reference['Machine_ID'] != assigned_machine)\n",
    "            ]['Machine_ID'].unique()\n",
    "\n",
    "            best_candidate = None\n",
    "            best_speed = -np.inf  # Higher is better\n",
    "            \n",
    "            for candidate in candidate_machines:\n",
    "                utilization_row = utilization_df[utilization_df['Machine_ID'] == candidate]\n",
    "                if utilization_row.empty:\n",
    "                    continue\n",
    "                utilization_percent = utilization_row.iloc[0]['Utilization_%']\n",
    "                efficiency = efficiency_map.get(candidate, 1.0)\n",
    "                \n",
    "                # Prefer machines that are less utilized and faster\n",
    "                score = (1 - utilization_percent/100) * efficiency\n",
    "\n",
    "                if score > best_speed:\n",
    "                    best_speed = score\n",
    "                    best_candidate = candidate\n",
    "\n",
    "            if best_candidate:\n",
    "                # Update Assigned Machine\n",
    "                schedule_df.at[idx, 'Assigned_Machine'] = best_candidate\n",
    "                \n",
    "                # Recalculate completion time based on new machine's speed\n",
    "                processing_hours = job_row['Processing_Time']\n",
    "                new_efficiency = efficiency_map.get(best_candidate, 1.0)\n",
    "                adjusted_processing_time = processing_hours / new_efficiency\n",
    "                new_estimated_completion = row['Scheduled_Start'] + pd.to_timedelta(adjusted_processing_time, unit='h')\n",
    "                \n",
    "                schedule_df.at[idx, 'Estimated_Completion_Time'] = new_estimated_completion\n",
    "\n",
    "                rescheduled_jobs.append({\n",
    "                    'Job_ID': job_id,\n",
    "                    'Old_Machine': assigned_machine,\n",
    "                    'New_Machine': best_candidate,\n",
    "                    'Old_Completion': estimated_completion,\n",
    "                    'New_Completion': new_estimated_completion\n",
    "                })\n",
    "\n",
    "    rescheduled_df = pd.DataFrame(rescheduled_jobs)\n",
    "    return schedule_df, rescheduled_df\n",
    "\n",
    "# Apply Auto-Rescheduling\n",
    "rl_schedule_df, rescheduled_jobs_df = auto_reschedule_delayed_jobs(\n",
    "    rl_schedule_df, df, machine_utilization_df, dynamic_efficiency_map\n",
    ")\n",
    "\n",
    "print(\"✅ Auto-Rescheduling Done!\")\n",
    "print(rescheduled_jobs_df if not rescheduled_jobs_df.empty else \"✅ No rescheduling needed!\")\n"
   ]
  },
  {
   "cell_type": "markdown",
   "id": "4900f3d5",
   "metadata": {},
   "source": [
    "Gantt Chart for Job Scheduling Timeline"
   ]
  },
  {
   "cell_type": "code",
   "execution_count": 39,
   "id": "49ba8896",
   "metadata": {},
   "outputs": [
    {
     "data": {
      "application/vnd.plotly.v1+json": {
       "config": {
        "plotlyServerURL": "https://plot.ly"
       },
       "data": [
        {
         "alignmentgroup": "True",
         "base": [
          "2025-04-26T20:20:53.650877"
         ],
         "hovertemplate": "<b>%{hovertext}</b><br><br>Job_ID=J001<br>Scheduled_Start=%{base}<br>Estimated_Completion_Time=%{x}<br>Assigned_Machine=%{y}<extra></extra>",
         "hovertext": [
          "J001"
         ],
         "legendgroup": "J001",
         "marker": {
          "color": "#636efa",
          "pattern": {
           "shape": ""
          }
         },
         "name": "J001",
         "offsetgroup": "J001",
         "orientation": "h",
         "showlegend": true,
         "textposition": "auto",
         "type": "bar",
         "x": [
          271179342.324406
         ],
         "xaxis": "x",
         "y": [
          "M04"
         ],
         "yaxis": "y"
        },
        {
         "alignmentgroup": "True",
         "base": [
          "2025-04-30T00:20:53.650877"
         ],
         "hovertemplate": "<b>%{hovertext}</b><br><br>Job_ID=J002<br>Scheduled_Start=%{base}<br>Estimated_Completion_Time=%{x}<br>Assigned_Machine=%{y}<extra></extra>",
         "hovertext": [
          "J002"
         ],
         "legendgroup": "J002",
         "marker": {
          "color": "#EF553B",
          "pattern": {
           "shape": ""
          }
         },
         "name": "J002",
         "offsetgroup": "J002",
         "orientation": "h",
         "showlegend": true,
         "textposition": "auto",
         "type": "bar",
         "x": [
          281883790.04774
         ],
         "xaxis": "x",
         "y": [
          "M04"
         ],
         "yaxis": "y"
        },
        {
         "alignmentgroup": "True",
         "base": [
          "2025-05-03T07:20:53.650877"
         ],
         "hovertemplate": "<b>%{hovertext}</b><br><br>Job_ID=J003<br>Scheduled_Start=%{base}<br>Estimated_Completion_Time=%{x}<br>Assigned_Machine=%{y}<extra></extra>",
         "hovertext": [
          "J003"
         ],
         "legendgroup": "J003",
         "marker": {
          "color": "#00cc96",
          "pattern": {
           "shape": ""
          }
         },
         "name": "J003",
         "offsetgroup": "J003",
         "orientation": "h",
         "showlegend": true,
         "textposition": "auto",
         "type": "bar",
         "x": [
          201403176.993968
         ],
         "xaxis": "x",
         "y": [
          "M05"
         ],
         "yaxis": "y"
        },
        {
         "alignmentgroup": "True",
         "base": [
          "2025-05-05T15:20:53.650877"
         ],
         "hovertemplate": "<b>%{hovertext}</b><br><br>Job_ID=J004<br>Scheduled_Start=%{base}<br>Estimated_Completion_Time=%{x}<br>Assigned_Machine=%{y}<extra></extra>",
         "hovertext": [
          "J004"
         ],
         "legendgroup": "J004",
         "marker": {
          "color": "#ab63fa",
          "pattern": {
           "shape": ""
          }
         },
         "name": "J004",
         "offsetgroup": "J004",
         "orientation": "h",
         "showlegend": true,
         "textposition": "auto",
         "type": "bar",
         "x": [
          378223819.557728
         ],
         "xaxis": "x",
         "y": [
          "M04"
         ],
         "yaxis": "y"
        },
        {
         "alignmentgroup": "True",
         "base": [
          "2025-05-10T01:20:53.650877"
         ],
         "hovertemplate": "<b>%{hovertext}</b><br><br>Job_ID=J005<br>Scheduled_Start=%{base}<br>Estimated_Completion_Time=%{x}<br>Assigned_Machine=%{y}<extra></extra>",
         "hovertext": [
          "J005"
         ],
         "legendgroup": "J005",
         "marker": {
          "color": "#FFA15A",
          "pattern": {
           "shape": ""
          }
         },
         "name": "J005",
         "offsetgroup": "J005",
         "orientation": "h",
         "showlegend": true,
         "textposition": "auto",
         "type": "bar",
         "x": [
          164134865.091088
         ],
         "xaxis": "x",
         "y": [
          "M04"
         ],
         "yaxis": "y"
        },
        {
         "alignmentgroup": "True",
         "base": [
          "2025-05-11T23:20:53.650877"
         ],
         "hovertemplate": "<b>%{hovertext}</b><br><br>Job_ID=J006<br>Scheduled_Start=%{base}<br>Estimated_Completion_Time=%{x}<br>Assigned_Machine=%{y}<extra></extra>",
         "hovertext": [
          "J006"
         ],
         "legendgroup": "J006",
         "marker": {
          "color": "#19d3f3",
          "pattern": {
           "shape": ""
          }
         },
         "name": "J006",
         "offsetgroup": "J006",
         "orientation": "h",
         "showlegend": true,
         "textposition": "auto",
         "type": "bar",
         "x": [
          359648530.346376
         ],
         "xaxis": "x",
         "y": [
          "M05"
         ],
         "yaxis": "y"
        },
        {
         "alignmentgroup": "True",
         "base": [
          "2025-05-16T03:20:53.650877"
         ],
         "hovertemplate": "<b>%{hovertext}</b><br><br>Job_ID=J007<br>Scheduled_Start=%{base}<br>Estimated_Completion_Time=%{x}<br>Assigned_Machine=%{y}<extra></extra>",
         "hovertext": [
          "J007"
         ],
         "legendgroup": "J007",
         "marker": {
          "color": "#FF6692",
          "pattern": {
           "shape": ""
          }
         },
         "name": "J007",
         "offsetgroup": "J007",
         "orientation": "h",
         "showlegend": true,
         "textposition": "auto",
         "type": "bar",
         "x": [
          78499283.304434
         ],
         "xaxis": "x",
         "y": [
          "M04"
         ],
         "yaxis": "y"
        },
        {
         "alignmentgroup": "True",
         "base": [
          "2025-05-17T01:20:53.650877"
         ],
         "hovertemplate": "<b>%{hovertext}</b><br><br>Job_ID=J008<br>Scheduled_Start=%{base}<br>Estimated_Completion_Time=%{x}<br>Assigned_Machine=%{y}<extra></extra>",
         "hovertext": [
          "J008"
         ],
         "legendgroup": "J008",
         "marker": {
          "color": "#B6E880",
          "pattern": {
           "shape": ""
          }
         },
         "name": "J008",
         "offsetgroup": "J008",
         "orientation": "h",
         "showlegend": true,
         "textposition": "auto",
         "type": "bar",
         "x": [
          281883790.04774
         ],
         "xaxis": "x",
         "y": [
          "M04"
         ],
         "yaxis": "y"
        },
        {
         "alignmentgroup": "True",
         "base": [
          "2025-05-20T08:20:53.650877"
         ],
         "hovertemplate": "<b>%{hovertext}</b><br><br>Job_ID=J009<br>Scheduled_Start=%{base}<br>Estimated_Completion_Time=%{x}<br>Assigned_Machine=%{y}<extra></extra>",
         "hovertext": [
          "J009"
         ],
         "legendgroup": "J009",
         "marker": {
          "color": "#FF97FF",
          "pattern": {
           "shape": ""
          }
         },
         "name": "J009",
         "offsetgroup": "J009",
         "orientation": "h",
         "showlegend": true,
         "textposition": "auto",
         "type": "bar",
         "x": [
          149862268.126645
         ],
         "xaxis": "x",
         "y": [
          "M04"
         ],
         "yaxis": "y"
        },
        {
         "alignmentgroup": "True",
         "base": [
          "2025-05-22T02:20:53.650877"
         ],
         "hovertemplate": "<b>%{hovertext}</b><br><br>Job_ID=J010<br>Scheduled_Start=%{base}<br>Estimated_Completion_Time=%{x}<br>Assigned_Machine=%{y}<extra></extra>",
         "hovertext": [
          "J010"
         ],
         "legendgroup": "J010",
         "marker": {
          "color": "#FECB52",
          "pattern": {
           "shape": ""
          }
         },
         "name": "J010",
         "offsetgroup": "J010",
         "orientation": "h",
         "showlegend": true,
         "textposition": "auto",
         "type": "bar",
         "x": [
          96340029.509988
         ],
         "xaxis": "x",
         "y": [
          "M04"
         ],
         "yaxis": "y"
        },
        {
         "alignmentgroup": "True",
         "base": [
          "2025-05-23T05:20:53.650877"
         ],
         "hovertemplate": "<b>%{hovertext}</b><br><br>Job_ID=J011<br>Scheduled_Start=%{base}<br>Estimated_Completion_Time=%{x}<br>Assigned_Machine=%{y}<extra></extra>",
         "hovertext": [
          "J011"
         ],
         "legendgroup": "J011",
         "marker": {
          "color": "#636efa",
          "pattern": {
           "shape": ""
          }
         },
         "name": "J011",
         "offsetgroup": "J011",
         "orientation": "h",
         "showlegend": true,
         "textposition": "auto",
         "type": "bar",
         "x": [
          231929700.672189
         ],
         "xaxis": "x",
         "y": [
          "M04"
         ],
         "yaxis": "y"
        },
        {
         "alignmentgroup": "True",
         "base": [
          "2025-05-25T22:20:53.650877"
         ],
         "hovertemplate": "<b>%{hovertext}</b><br><br>Job_ID=J012<br>Scheduled_Start=%{base}<br>Estimated_Completion_Time=%{x}<br>Assigned_Machine=%{y}<extra></extra>",
         "hovertext": [
          "J012"
         ],
         "legendgroup": "J012",
         "marker": {
          "color": "#EF553B",
          "pattern": {
           "shape": ""
          }
         },
         "name": "J012",
         "offsetgroup": "J012",
         "orientation": "h",
         "showlegend": true,
         "textposition": "auto",
         "type": "bar",
         "x": [
          99908178.751098
         ],
         "xaxis": "x",
         "y": [
          "M04"
         ],
         "yaxis": "y"
        },
        {
         "alignmentgroup": "True",
         "base": [
          "2025-05-27T02:20:53.650877"
         ],
         "hovertemplate": "<b>%{hovertext}</b><br><br>Job_ID=J013<br>Scheduled_Start=%{base}<br>Estimated_Completion_Time=%{x}<br>Assigned_Machine=%{y}<extra></extra>",
         "hovertext": [
          "J013"
         ],
         "legendgroup": "J013",
         "marker": {
          "color": "#00cc96",
          "pattern": {
           "shape": ""
          }
         },
         "name": "J013",
         "offsetgroup": "J013",
         "orientation": "h",
         "showlegend": true,
         "textposition": "auto",
         "type": "bar",
         "x": [
          153430417.367758
         ],
         "xaxis": "x",
         "y": [
          "M04"
         ],
         "yaxis": "y"
        },
        {
         "alignmentgroup": "True",
         "base": [
          "2025-05-28T21:20:53.650877"
         ],
         "hovertemplate": "<b>%{hovertext}</b><br><br>Job_ID=J014<br>Scheduled_Start=%{base}<br>Estimated_Completion_Time=%{x}<br>Assigned_Machine=%{y}<extra></extra>",
         "hovertext": [
          "J014"
         ],
         "legendgroup": "J014",
         "marker": {
          "color": "#ab63fa",
          "pattern": {
           "shape": ""
          }
         },
         "name": "J014",
         "offsetgroup": "J014",
         "orientation": "h",
         "showlegend": true,
         "textposition": "auto",
         "type": "bar",
         "x": [
          399632715.004392
         ],
         "xaxis": "x",
         "y": [
          "M04"
         ],
         "yaxis": "y"
        },
        {
         "alignmentgroup": "True",
         "base": [
          "2025-06-02T13:20:53.650877"
         ],
         "hovertemplate": "<b>%{hovertext}</b><br><br>Job_ID=J015<br>Scheduled_Start=%{base}<br>Estimated_Completion_Time=%{x}<br>Assigned_Machine=%{y}<extra></extra>",
         "hovertext": [
          "J015"
         ],
         "legendgroup": "J015",
         "marker": {
          "color": "#FFA15A",
          "pattern": {
           "shape": ""
          }
         },
         "name": "J015",
         "offsetgroup": "J015",
         "orientation": "h",
         "showlegend": true,
         "textposition": "auto",
         "type": "bar",
         "x": [
          371087521.075504
         ],
         "xaxis": "x",
         "y": [
          "M04"
         ],
         "yaxis": "y"
        },
        {
         "alignmentgroup": "True",
         "base": [
          "2025-06-06T21:20:53.650877"
         ],
         "hovertemplate": "<b>%{hovertext}</b><br><br>Job_ID=J016<br>Scheduled_Start=%{base}<br>Estimated_Completion_Time=%{x}<br>Assigned_Machine=%{y}<extra></extra>",
         "hovertext": [
          "J016"
         ],
         "legendgroup": "J016",
         "marker": {
          "color": "#19d3f3",
          "pattern": {
           "shape": ""
          }
         },
         "name": "J016",
         "offsetgroup": "J016",
         "orientation": "h",
         "showlegend": true,
         "textposition": "auto",
         "type": "bar",
         "x": [
          231929700.672189
         ],
         "xaxis": "x",
         "y": [
          "M04"
         ],
         "yaxis": "y"
        },
        {
         "alignmentgroup": "True",
         "base": [
          "2025-06-09T14:20:53.650877"
         ],
         "hovertemplate": "<b>%{hovertext}</b><br><br>Job_ID=J017<br>Scheduled_Start=%{base}<br>Estimated_Completion_Time=%{x}<br>Assigned_Machine=%{y}<extra></extra>",
         "hovertext": [
          "J017"
         ],
         "legendgroup": "J017",
         "marker": {
          "color": "#FF6692",
          "pattern": {
           "shape": ""
          }
         },
         "name": "J017",
         "offsetgroup": "J017",
         "orientation": "h",
         "showlegend": true,
         "textposition": "auto",
         "type": "bar",
         "x": [
          410337162.727722
         ],
         "xaxis": "x",
         "y": [
          "M04"
         ],
         "yaxis": "y"
        },
        {
         "alignmentgroup": "True",
         "base": [
          "2025-06-14T09:20:53.650877"
         ],
         "hovertemplate": "<b>%{hovertext}</b><br><br>Job_ID=J018<br>Scheduled_Start=%{base}<br>Estimated_Completion_Time=%{x}<br>Assigned_Machine=%{y}<extra></extra>",
         "hovertext": [
          "J018"
         ],
         "legendgroup": "J018",
         "marker": {
          "color": "#B6E880",
          "pattern": {
           "shape": ""
          }
         },
         "name": "J018",
         "offsetgroup": "J018",
         "orientation": "h",
         "showlegend": true,
         "textposition": "auto",
         "type": "bar",
         "x": [
          196248208.261086
         ],
         "xaxis": "x",
         "y": [
          "M04"
         ],
         "yaxis": "y"
        },
        {
         "alignmentgroup": "True",
         "base": [
          "2025-06-16T16:20:53.650877"
         ],
         "hovertemplate": "<b>%{hovertext}</b><br><br>Job_ID=J019<br>Scheduled_Start=%{base}<br>Estimated_Completion_Time=%{x}<br>Assigned_Machine=%{y}<extra></extra>",
         "hovertext": [
          "J019"
         ],
         "legendgroup": "J019",
         "marker": {
          "color": "#FF97FF",
          "pattern": {
           "shape": ""
          }
         },
         "name": "J019",
         "offsetgroup": "J019",
         "orientation": "h",
         "showlegend": true,
         "textposition": "auto",
         "type": "bar",
         "x": [
          185543760.537752
         ],
         "xaxis": "x",
         "y": [
          "M04"
         ],
         "yaxis": "y"
        },
        {
         "alignmentgroup": "True",
         "base": [
          "2025-06-18T20:20:53.650877"
         ],
         "hovertemplate": "<b>%{hovertext}</b><br><br>Job_ID=J020<br>Scheduled_Start=%{base}<br>Estimated_Completion_Time=%{x}<br>Assigned_Machine=%{y}<extra></extra>",
         "hovertext": [
          "J020"
         ],
         "legendgroup": "J020",
         "marker": {
          "color": "#FECB52",
          "pattern": {
           "shape": ""
          }
         },
         "name": "J020",
         "offsetgroup": "J020",
         "orientation": "h",
         "showlegend": true,
         "textposition": "auto",
         "type": "bar",
         "x": [
          149862268.126645
         ],
         "xaxis": "x",
         "y": [
          "M04"
         ],
         "yaxis": "y"
        },
        {
         "alignmentgroup": "True",
         "base": [
          "2025-06-20T14:20:53.650877"
         ],
         "hovertemplate": "<b>%{hovertext}</b><br><br>Job_ID=J021<br>Scheduled_Start=%{base}<br>Estimated_Completion_Time=%{x}<br>Assigned_Machine=%{y}<extra></extra>",
         "hovertext": [
          "J021"
         ],
         "legendgroup": "J021",
         "marker": {
          "color": "#636efa",
          "pattern": {
           "shape": ""
          }
         },
         "name": "J021",
         "offsetgroup": "J021",
         "orientation": "h",
         "showlegend": true,
         "textposition": "auto",
         "type": "bar",
         "x": [
          381791968.798838
         ],
         "xaxis": "x",
         "y": [
          "M04"
         ],
         "yaxis": "y"
        },
        {
         "alignmentgroup": "True",
         "base": [
          "2025-06-25T01:20:53.650877"
         ],
         "hovertemplate": "<b>%{hovertext}</b><br><br>Job_ID=J022<br>Scheduled_Start=%{base}<br>Estimated_Completion_Time=%{x}<br>Assigned_Machine=%{y}<extra></extra>",
         "hovertext": [
          "J022"
         ],
         "legendgroup": "J022",
         "marker": {
          "color": "#EF553B",
          "pattern": {
           "shape": ""
          }
         },
         "name": "J022",
         "offsetgroup": "J022",
         "orientation": "h",
         "showlegend": true,
         "textposition": "auto",
         "type": "bar",
         "x": [
          228361551.431079
         ],
         "xaxis": "x",
         "y": [
          "M04"
         ],
         "yaxis": "y"
        },
        {
         "alignmentgroup": "True",
         "base": [
          "2025-06-27T17:20:53.650877"
         ],
         "hovertemplate": "<b>%{hovertext}</b><br><br>Job_ID=J023<br>Scheduled_Start=%{base}<br>Estimated_Completion_Time=%{x}<br>Assigned_Machine=%{y}<extra></extra>",
         "hovertext": [
          "J023"
         ],
         "legendgroup": "J023",
         "marker": {
          "color": "#00cc96",
          "pattern": {
           "shape": ""
          }
         },
         "name": "J023",
         "offsetgroup": "J023",
         "orientation": "h",
         "showlegend": true,
         "textposition": "auto",
         "type": "bar",
         "x": [
          349678625.628841
         ],
         "xaxis": "x",
         "y": [
          "M04"
         ],
         "yaxis": "y"
        },
        {
         "alignmentgroup": "True",
         "base": [
          "2025-07-01T19:20:53.650877"
         ],
         "hovertemplate": "<b>%{hovertext}</b><br><br>Job_ID=J024<br>Scheduled_Start=%{base}<br>Estimated_Completion_Time=%{x}<br>Assigned_Machine=%{y}<extra></extra>",
         "hovertext": [
          "J024"
         ],
         "legendgroup": "J024",
         "marker": {
          "color": "#ab63fa",
          "pattern": {
           "shape": ""
          }
         },
         "name": "J024",
         "offsetgroup": "J024",
         "orientation": "h",
         "showlegend": true,
         "textposition": "auto",
         "type": "bar",
         "x": [
          302104765.490954
         ],
         "xaxis": "x",
         "y": [
          "M05"
         ],
         "yaxis": "y"
        },
        {
         "alignmentgroup": "True",
         "base": [
          "2025-07-05T07:20:53.650877"
         ],
         "hovertemplate": "<b>%{hovertext}</b><br><br>Job_ID=J025<br>Scheduled_Start=%{base}<br>Estimated_Completion_Time=%{x}<br>Assigned_Machine=%{y}<extra></extra>",
         "hovertext": [
          "J025"
         ],
         "legendgroup": "J025",
         "marker": {
          "color": "#FFA15A",
          "pattern": {
           "shape": ""
          }
         },
         "name": "J025",
         "offsetgroup": "J025",
         "orientation": "h",
         "showlegend": true,
         "textposition": "auto",
         "type": "bar",
         "x": [
          424609759.692165
         ],
         "xaxis": "x",
         "y": [
          "M04"
         ],
         "yaxis": "y"
        },
        {
         "alignmentgroup": "True",
         "base": [
          "2025-07-10T06:20:53.650877"
         ],
         "hovertemplate": "<b>%{hovertext}</b><br><br>Job_ID=J026<br>Scheduled_Start=%{base}<br>Estimated_Completion_Time=%{x}<br>Assigned_Machine=%{y}<extra></extra>",
         "hovertext": [
          "J026"
         ],
         "legendgroup": "J026",
         "marker": {
          "color": "#19d3f3",
          "pattern": {
           "shape": ""
          }
         },
         "name": "J026",
         "offsetgroup": "J026",
         "orientation": "h",
         "showlegend": true,
         "textposition": "auto",
         "type": "bar",
         "x": [
          74931134.063324
         ],
         "xaxis": "x",
         "y": [
          "M04"
         ],
         "yaxis": "y"
        },
        {
         "alignmentgroup": "True",
         "base": [
          "2025-07-11T03:20:53.650877"
         ],
         "hovertemplate": "<b>%{hovertext}</b><br><br>Job_ID=J027<br>Scheduled_Start=%{base}<br>Estimated_Completion_Time=%{x}<br>Assigned_Machine=%{y}<extra></extra>",
         "hovertext": [
          "J027"
         ],
         "legendgroup": "J027",
         "marker": {
          "color": "#FF6692",
          "pattern": {
           "shape": ""
          }
         },
         "name": "J027",
         "offsetgroup": "J027",
         "orientation": "h",
         "showlegend": true,
         "textposition": "auto",
         "type": "bar",
         "x": [
          310428983.976624
         ],
         "xaxis": "x",
         "y": [
          "M04"
         ],
         "yaxis": "y"
        },
        {
         "alignmentgroup": "True",
         "base": [
          "2025-07-14T18:20:53.650877"
         ],
         "hovertemplate": "<b>%{hovertext}</b><br><br>Job_ID=J028<br>Scheduled_Start=%{base}<br>Estimated_Completion_Time=%{x}<br>Assigned_Machine=%{y}<extra></extra>",
         "hovertext": [
          "J028"
         ],
         "legendgroup": "J028",
         "marker": {
          "color": "#B6E880",
          "pattern": {
           "shape": ""
          }
         },
         "name": "J028",
         "offsetgroup": "J028",
         "orientation": "h",
         "showlegend": true,
         "textposition": "auto",
         "type": "bar",
         "x": [
          331837879.423287
         ],
         "xaxis": "x",
         "y": [
          "M04"
         ],
         "yaxis": "y"
        },
        {
         "alignmentgroup": "True",
         "base": [
          "2025-07-18T15:20:53.650877"
         ],
         "hovertemplate": "<b>%{hovertext}</b><br><br>Job_ID=J029<br>Scheduled_Start=%{base}<br>Estimated_Completion_Time=%{x}<br>Assigned_Machine=%{y}<extra></extra>",
         "hovertext": [
          "J029"
         ],
         "legendgroup": "J029",
         "marker": {
          "color": "#FF97FF",
          "pattern": {
           "shape": ""
          }
         },
         "name": "J029",
         "offsetgroup": "J029",
         "orientation": "h",
         "showlegend": true,
         "textposition": "auto",
         "type": "bar",
         "x": [
          413905311.968832
         ],
         "xaxis": "x",
         "y": [
          "M04"
         ],
         "yaxis": "y"
        },
        {
         "alignmentgroup": "True",
         "base": [
          "2025-07-23T11:20:53.650877"
         ],
         "hovertemplate": "<b>%{hovertext}</b><br><br>Job_ID=J030<br>Scheduled_Start=%{base}<br>Estimated_Completion_Time=%{x}<br>Assigned_Machine=%{y}<extra></extra>",
         "hovertext": [
          "J030"
         ],
         "legendgroup": "J030",
         "marker": {
          "color": "#FECB52",
          "pattern": {
           "shape": ""
          }
         },
         "name": "J030",
         "offsetgroup": "J030",
         "orientation": "h",
         "showlegend": true,
         "textposition": "auto",
         "type": "bar",
         "x": [
          235497849.913303
         ],
         "xaxis": "x",
         "y": [
          "M04"
         ],
         "yaxis": "y"
        },
        {
         "alignmentgroup": "True",
         "base": [
          "2025-07-26T05:20:53.650877"
         ],
         "hovertemplate": "<b>%{hovertext}</b><br><br>Job_ID=J031<br>Scheduled_Start=%{base}<br>Estimated_Completion_Time=%{x}<br>Assigned_Machine=%{y}<extra></extra>",
         "hovertext": [
          "J031"
         ],
         "legendgroup": "J031",
         "marker": {
          "color": "#636efa",
          "pattern": {
           "shape": ""
          }
         },
         "name": "J031",
         "offsetgroup": "J031",
         "orientation": "h",
         "showlegend": true,
         "textposition": "auto",
         "type": "bar",
         "x": [
          132021521.921091
         ],
         "xaxis": "x",
         "y": [
          "M04"
         ],
         "yaxis": "y"
        },
        {
         "alignmentgroup": "True",
         "base": [
          "2025-07-27T18:20:53.650877"
         ],
         "hovertemplate": "<b>%{hovertext}</b><br><br>Job_ID=J032<br>Scheduled_Start=%{base}<br>Estimated_Completion_Time=%{x}<br>Assigned_Machine=%{y}<extra></extra>",
         "hovertext": [
          "J032"
         ],
         "legendgroup": "J032",
         "marker": {
          "color": "#EF553B",
          "pattern": {
           "shape": ""
          }
         },
         "name": "J032",
         "offsetgroup": "J032",
         "orientation": "h",
         "showlegend": true,
         "textposition": "auto",
         "type": "bar",
         "x": [
          280525853.670174
         ],
         "xaxis": "x",
         "y": [
          "M05"
         ],
         "yaxis": "y"
        },
        {
         "alignmentgroup": "True",
         "base": [
          "2025-07-31T00:20:53.650877"
         ],
         "hovertemplate": "<b>%{hovertext}</b><br><br>Job_ID=J033<br>Scheduled_Start=%{base}<br>Estimated_Completion_Time=%{x}<br>Assigned_Machine=%{y}<extra></extra>",
         "hovertext": [
          "J033"
         ],
         "legendgroup": "J033",
         "marker": {
          "color": "#00cc96",
          "pattern": {
           "shape": ""
          }
         },
         "name": "J033",
         "offsetgroup": "J033",
         "orientation": "h",
         "showlegend": true,
         "textposition": "auto",
         "type": "bar",
         "x": [
          370437986.256768
         ],
         "xaxis": "x",
         "y": [
          "M05"
         ],
         "yaxis": "y"
        },
        {
         "alignmentgroup": "True",
         "base": [
          "2025-08-04T07:20:53.650877"
         ],
         "hovertemplate": "<b>%{hovertext}</b><br><br>Job_ID=J034<br>Scheduled_Start=%{base}<br>Estimated_Completion_Time=%{x}<br>Assigned_Machine=%{y}<extra></extra>",
         "hovertext": [
          "J034"
         ],
         "legendgroup": "J034",
         "marker": {
          "color": "#ab63fa",
          "pattern": {
           "shape": ""
          }
         },
         "name": "J034",
         "offsetgroup": "J034",
         "orientation": "h",
         "showlegend": true,
         "textposition": "auto",
         "type": "bar",
         "x": [
          392496416.522168
         ],
         "xaxis": "x",
         "y": [
          "M04"
         ],
         "yaxis": "y"
        },
        {
         "alignmentgroup": "True",
         "base": [
          "2025-08-08T21:20:53.650877"
         ],
         "hovertemplate": "<b>%{hovertext}</b><br><br>Job_ID=J035<br>Scheduled_Start=%{base}<br>Estimated_Completion_Time=%{x}<br>Assigned_Machine=%{y}<extra></extra>",
         "hovertext": [
          "J035"
         ],
         "legendgroup": "J035",
         "marker": {
          "color": "#FFA15A",
          "pattern": {
           "shape": ""
          }
         },
         "name": "J035",
         "offsetgroup": "J035",
         "orientation": "h",
         "showlegend": true,
         "textposition": "auto",
         "type": "bar",
         "x": [
          169034809.262796
         ],
         "xaxis": "x",
         "y": [
          "M05"
         ],
         "yaxis": "y"
        },
        {
         "alignmentgroup": "True",
         "base": [
          "2025-08-10T20:20:53.650877"
         ],
         "hovertemplate": "<b>%{hovertext}</b><br><br>Job_ID=J036<br>Scheduled_Start=%{base}<br>Estimated_Completion_Time=%{x}<br>Assigned_Machine=%{y}<extra></extra>",
         "hovertext": [
          "J036"
         ],
         "legendgroup": "J036",
         "marker": {
          "color": "#19d3f3",
          "pattern": {
           "shape": ""
          }
         },
         "name": "J036",
         "offsetgroup": "J036",
         "orientation": "h",
         "showlegend": true,
         "textposition": "auto",
         "type": "bar",
         "x": [
          353246774.869951
         ],
         "xaxis": "x",
         "y": [
          "M04"
         ],
         "yaxis": "y"
        },
        {
         "alignmentgroup": "True",
         "base": [
          "2025-08-14T23:20:53.650877"
         ],
         "hovertemplate": "<b>%{hovertext}</b><br><br>Job_ID=J037<br>Scheduled_Start=%{base}<br>Estimated_Completion_Time=%{x}<br>Assigned_Machine=%{y}<extra></extra>",
         "hovertext": [
          "J037"
         ],
         "legendgroup": "J037",
         "marker": {
          "color": "#FF6692",
          "pattern": {
           "shape": ""
          }
         },
         "name": "J037",
         "offsetgroup": "J037",
         "orientation": "h",
         "showlegend": true,
         "textposition": "auto",
         "type": "bar",
         "x": [
          281883790.04774
         ],
         "xaxis": "x",
         "y": [
          "M04"
         ],
         "yaxis": "y"
        },
        {
         "alignmentgroup": "True",
         "base": [
          "2025-08-18T06:20:53.650877"
         ],
         "hovertemplate": "<b>%{hovertext}</b><br><br>Job_ID=J038<br>Scheduled_Start=%{base}<br>Estimated_Completion_Time=%{x}<br>Assigned_Machine=%{y}<extra></extra>",
         "hovertext": [
          "J038"
         ],
         "legendgroup": "J038",
         "marker": {
          "color": "#B6E880",
          "pattern": {
           "shape": ""
          }
         },
         "name": "J038",
         "offsetgroup": "J038",
         "orientation": "h",
         "showlegend": true,
         "textposition": "auto",
         "type": "bar",
         "x": [
          154648868.048942
         ],
         "xaxis": "x",
         "y": [
          "M05"
         ],
         "yaxis": "y"
        },
        {
         "alignmentgroup": "True",
         "base": [
          "2025-08-20T01:20:53.650877"
         ],
         "hovertemplate": "<b>%{hovertext}</b><br><br>Job_ID=J039<br>Scheduled_Start=%{base}<br>Estimated_Completion_Time=%{x}<br>Assigned_Machine=%{y}<extra></extra>",
         "hovertext": [
          "J039"
         ],
         "legendgroup": "J039",
         "marker": {
          "color": "#FF97FF",
          "pattern": {
           "shape": ""
          }
         },
         "name": "J039",
         "offsetgroup": "J039",
         "orientation": "h",
         "showlegend": true,
         "textposition": "auto",
         "type": "bar",
         "x": [
          171271163.573308
         ],
         "xaxis": "x",
         "y": [
          "M04"
         ],
         "yaxis": "y"
        },
        {
         "alignmentgroup": "True",
         "base": [
          "2025-08-22T01:20:53.650877"
         ],
         "hovertemplate": "<b>%{hovertext}</b><br><br>Job_ID=J040<br>Scheduled_Start=%{base}<br>Estimated_Completion_Time=%{x}<br>Assigned_Machine=%{y}<extra></extra>",
         "hovertext": [
          "J040"
         ],
         "legendgroup": "J040",
         "marker": {
          "color": "#FECB52",
          "pattern": {
           "shape": ""
          }
         },
         "name": "J040",
         "offsetgroup": "J040",
         "orientation": "h",
         "showlegend": true,
         "textposition": "auto",
         "type": "bar",
         "x": [
          178407462.055532
         ],
         "xaxis": "x",
         "y": [
          "M04"
         ],
         "yaxis": "y"
        },
        {
         "alignmentgroup": "True",
         "base": [
          "2025-08-24T03:20:53.650877"
         ],
         "hovertemplate": "<b>%{hovertext}</b><br><br>Job_ID=J041<br>Scheduled_Start=%{base}<br>Estimated_Completion_Time=%{x}<br>Assigned_Machine=%{y}<extra></extra>",
         "hovertext": [
          "J041"
         ],
         "legendgroup": "J041",
         "marker": {
          "color": "#636efa",
          "pattern": {
           "shape": ""
          }
         },
         "name": "J041",
         "offsetgroup": "J041",
         "orientation": "h",
         "showlegend": true,
         "textposition": "auto",
         "type": "bar",
         "x": [
          316490706.704811
         ],
         "xaxis": "x",
         "y": [
          "M05"
         ],
         "yaxis": "y"
        },
        {
         "alignmentgroup": "True",
         "base": [
          "2025-08-27T19:20:53.650877"
         ],
         "hovertemplate": "<b>%{hovertext}</b><br><br>Job_ID=J042<br>Scheduled_Start=%{base}<br>Estimated_Completion_Time=%{x}<br>Assigned_Machine=%{y}<extra></extra>",
         "hovertext": [
          "J042"
         ],
         "legendgroup": "J042",
         "marker": {
          "color": "#EF553B",
          "pattern": {
           "shape": ""
          }
         },
         "name": "J042",
         "offsetgroup": "J042",
         "orientation": "h",
         "showlegend": true,
         "textposition": "auto",
         "type": "bar",
         "x": [
          172631294.566261
         ],
         "xaxis": "x",
         "y": [
          "M05"
         ],
         "yaxis": "y"
        },
        {
         "alignmentgroup": "True",
         "base": [
          "2025-08-29T19:20:53.650877"
         ],
         "hovertemplate": "<b>%{hovertext}</b><br><br>Job_ID=J043<br>Scheduled_Start=%{base}<br>Estimated_Completion_Time=%{x}<br>Assigned_Machine=%{y}<extra></extra>",
         "hovertext": [
          "J043"
         ],
         "legendgroup": "J043",
         "marker": {
          "color": "#00cc96",
          "pattern": {
           "shape": ""
          }
         },
         "name": "J043",
         "offsetgroup": "J043",
         "orientation": "h",
         "showlegend": true,
         "textposition": "auto",
         "type": "bar",
         "x": [
          269736397.759782
         ],
         "xaxis": "x",
         "y": [
          "M05"
         ],
         "yaxis": "y"
        },
        {
         "alignmentgroup": "True",
         "base": [
          "2025-09-01T22:20:53.650877"
         ],
         "hovertemplate": "<b>%{hovertext}</b><br><br>Job_ID=J044<br>Scheduled_Start=%{base}<br>Estimated_Completion_Time=%{x}<br>Assigned_Machine=%{y}<extra></extra>",
         "hovertext": [
          "J044"
         ],
         "legendgroup": "J044",
         "marker": {
          "color": "#ab63fa",
          "pattern": {
           "shape": ""
          }
         },
         "name": "J044",
         "offsetgroup": "J044",
         "orientation": "h",
         "showlegend": true,
         "textposition": "auto",
         "type": "bar",
         "x": [
          388928267.281058
         ],
         "xaxis": "x",
         "y": [
          "M04"
         ],
         "yaxis": "y"
        },
        {
         "alignmentgroup": "True",
         "base": [
          "2025-09-06T11:20:53.650877"
         ],
         "hovertemplate": "<b>%{hovertext}</b><br><br>Job_ID=J045<br>Scheduled_Start=%{base}<br>Estimated_Completion_Time=%{x}<br>Assigned_Machine=%{y}<extra></extra>",
         "hovertext": [
          "J045"
         ],
         "legendgroup": "J045",
         "marker": {
          "color": "#FFA15A",
          "pattern": {
           "shape": ""
          }
         },
         "name": "J045",
         "offsetgroup": "J045",
         "orientation": "h",
         "showlegend": true,
         "textposition": "auto",
         "type": "bar",
         "x": [
          278315640.80663
         ],
         "xaxis": "x",
         "y": [
          "M04"
         ],
         "yaxis": "y"
        },
        {
         "alignmentgroup": "True",
         "base": [
          "2025-09-09T17:20:53.650877"
         ],
         "hovertemplate": "<b>%{hovertext}</b><br><br>Job_ID=J046<br>Scheduled_Start=%{base}<br>Estimated_Completion_Time=%{x}<br>Assigned_Machine=%{y}<extra></extra>",
         "hovertext": [
          "J046"
         ],
         "legendgroup": "J046",
         "marker": {
          "color": "#19d3f3",
          "pattern": {
           "shape": ""
          }
         },
         "name": "J046",
         "offsetgroup": "J046",
         "orientation": "h",
         "showlegend": true,
         "textposition": "auto",
         "type": "bar",
         "x": [
          107044477.233318
         ],
         "xaxis": "x",
         "y": [
          "M04"
         ],
         "yaxis": "y"
        },
        {
         "alignmentgroup": "True",
         "base": [
          "2025-09-10T23:20:53.650877"
         ],
         "hovertemplate": "<b>%{hovertext}</b><br><br>Job_ID=J047<br>Scheduled_Start=%{base}<br>Estimated_Completion_Time=%{x}<br>Assigned_Machine=%{y}<extra></extra>",
         "hovertext": [
          "J047"
         ],
         "legendgroup": "J047",
         "marker": {
          "color": "#FF6692",
          "pattern": {
           "shape": ""
          }
         },
         "name": "J047",
         "offsetgroup": "J047",
         "orientation": "h",
         "showlegend": true,
         "textposition": "auto",
         "type": "bar",
         "x": [
          89912132.586594
         ],
         "xaxis": "x",
         "y": [
          "M05"
         ],
         "yaxis": "y"
        },
        {
         "alignmentgroup": "True",
         "base": [
          "2025-09-12T00:20:53.650877"
         ],
         "hovertemplate": "<b>%{hovertext}</b><br><br>Job_ID=J048<br>Scheduled_Start=%{base}<br>Estimated_Completion_Time=%{x}<br>Assigned_Machine=%{y}<extra></extra>",
         "hovertext": [
          "J048"
         ],
         "legendgroup": "J048",
         "marker": {
          "color": "#B6E880",
          "pattern": {
           "shape": ""
          }
         },
         "name": "J048",
         "offsetgroup": "J048",
         "orientation": "h",
         "showlegend": true,
         "textposition": "auto",
         "type": "bar",
         "x": [
          267611193.083296
         ],
         "xaxis": "x",
         "y": [
          "M04"
         ],
         "yaxis": "y"
        },
        {
         "alignmentgroup": "True",
         "base": [
          "2025-09-15T03:20:53.650877"
         ],
         "hovertemplate": "<b>%{hovertext}</b><br><br>Job_ID=J049<br>Scheduled_Start=%{base}<br>Estimated_Completion_Time=%{x}<br>Assigned_Machine=%{y}<extra></extra>",
         "hovertext": [
          "J049"
         ],
         "legendgroup": "J049",
         "marker": {
          "color": "#FF97FF",
          "pattern": {
           "shape": ""
          }
         },
         "name": "J049",
         "offsetgroup": "J049",
         "orientation": "h",
         "showlegend": true,
         "textposition": "auto",
         "type": "bar",
         "x": [
          117748924.956651
         ],
         "xaxis": "x",
         "y": [
          "M04"
         ],
         "yaxis": "y"
        },
        {
         "alignmentgroup": "True",
         "base": [
          "2025-09-16T12:20:53.650877"
         ],
         "hovertemplate": "<b>%{hovertext}</b><br><br>Job_ID=J050<br>Scheduled_Start=%{base}<br>Estimated_Completion_Time=%{x}<br>Assigned_Machine=%{y}<extra></extra>",
         "hovertext": [
          "J050"
         ],
         "legendgroup": "J050",
         "marker": {
          "color": "#FECB52",
          "pattern": {
           "shape": ""
          }
         },
         "name": "J050",
         "offsetgroup": "J050",
         "orientation": "h",
         "showlegend": true,
         "textposition": "auto",
         "type": "bar",
         "x": [
          371087521.075504
         ],
         "xaxis": "x",
         "y": [
          "M04"
         ],
         "yaxis": "y"
        },
        {
         "alignmentgroup": "True",
         "base": [
          "2025-09-20T20:20:53.650877"
         ],
         "hovertemplate": "<b>%{hovertext}</b><br><br>Job_ID=J051<br>Scheduled_Start=%{base}<br>Estimated_Completion_Time=%{x}<br>Assigned_Machine=%{y}<extra></extra>",
         "hovertext": [
          "J051"
         ],
         "legendgroup": "J051",
         "marker": {
          "color": "#636efa",
          "pattern": {
           "shape": ""
          }
         },
         "name": "J051",
         "offsetgroup": "J051",
         "orientation": "h",
         "showlegend": true,
         "textposition": "auto",
         "type": "bar",
         "x": [
          85635581.786654
         ],
         "xaxis": "x",
         "y": [
          "M04"
         ],
         "yaxis": "y"
        },
        {
         "alignmentgroup": "True",
         "base": [
          "2025-09-21T20:20:53.650877"
         ],
         "hovertemplate": "<b>%{hovertext}</b><br><br>Job_ID=J052<br>Scheduled_Start=%{base}<br>Estimated_Completion_Time=%{x}<br>Assigned_Machine=%{y}<extra></extra>",
         "hovertext": [
          "J052"
         ],
         "legendgroup": "J052",
         "marker": {
          "color": "#EF553B",
          "pattern": {
           "shape": ""
          }
         },
         "name": "J052",
         "offsetgroup": "J052",
         "orientation": "h",
         "showlegend": true,
         "textposition": "auto",
         "type": "bar",
         "x": [
          82067432.545544
         ],
         "xaxis": "x",
         "y": [
          "M04"
         ],
         "yaxis": "y"
        },
        {
         "alignmentgroup": "True",
         "base": [
          "2025-09-22T19:20:53.650877"
         ],
         "hovertemplate": "<b>%{hovertext}</b><br><br>Job_ID=J053<br>Scheduled_Start=%{base}<br>Estimated_Completion_Time=%{x}<br>Assigned_Machine=%{y}<extra></extra>",
         "hovertext": [
          "J053"
         ],
         "legendgroup": "J053",
         "marker": {
          "color": "#00cc96",
          "pattern": {
           "shape": ""
          }
         },
         "name": "J053",
         "offsetgroup": "J053",
         "orientation": "h",
         "showlegend": true,
         "textposition": "auto",
         "type": "bar",
         "x": [
          346110476.387731
         ],
         "xaxis": "x",
         "y": [
          "M04"
         ],
         "yaxis": "y"
        },
        {
         "alignmentgroup": "True",
         "base": [
          "2025-09-26T20:20:53.650877"
         ],
         "hovertemplate": "<b>%{hovertext}</b><br><br>Job_ID=J054<br>Scheduled_Start=%{base}<br>Estimated_Completion_Time=%{x}<br>Assigned_Machine=%{y}<extra></extra>",
         "hovertext": [
          "J054"
         ],
         "legendgroup": "J054",
         "marker": {
          "color": "#ab63fa",
          "pattern": {
           "shape": ""
          }
         },
         "name": "J054",
         "offsetgroup": "J054",
         "orientation": "h",
         "showlegend": true,
         "textposition": "auto",
         "type": "bar",
         "x": [
          228361551.431079
         ],
         "xaxis": "x",
         "y": [
          "M04"
         ],
         "yaxis": "y"
        },
        {
         "alignmentgroup": "True",
         "base": [
          "2025-09-29T12:20:53.650877"
         ],
         "hovertemplate": "<b>%{hovertext}</b><br><br>Job_ID=J055<br>Scheduled_Start=%{base}<br>Estimated_Completion_Time=%{x}<br>Assigned_Machine=%{y}<extra></extra>",
         "hovertext": [
          "J055"
         ],
         "legendgroup": "J055",
         "marker": {
          "color": "#FFA15A",
          "pattern": {
           "shape": ""
          }
         },
         "name": "J055",
         "offsetgroup": "J055",
         "orientation": "h",
         "showlegend": true,
         "textposition": "auto",
         "type": "bar",
         "x": [
          417192295.201794
         ],
         "xaxis": "x",
         "y": [
          "M05"
         ],
         "yaxis": "y"
        },
        {
         "alignmentgroup": "True",
         "base": [
          "2025-10-04T08:20:53.650877"
         ],
         "hovertemplate": "<b>%{hovertext}</b><br><br>Job_ID=J056<br>Scheduled_Start=%{base}<br>Estimated_Completion_Time=%{x}<br>Assigned_Machine=%{y}<extra></extra>",
         "hovertext": [
          "J056"
         ],
         "legendgroup": "J056",
         "marker": {
          "color": "#19d3f3",
          "pattern": {
           "shape": ""
          }
         },
         "name": "J056",
         "offsetgroup": "J056",
         "orientation": "h",
         "showlegend": true,
         "textposition": "auto",
         "type": "bar",
         "x": [
          371087521.075504
         ],
         "xaxis": "x",
         "y": [
          "M04"
         ],
         "yaxis": "y"
        },
        {
         "alignmentgroup": "True",
         "base": [
          "2025-10-08T16:20:53.650877"
         ],
         "hovertemplate": "<b>%{hovertext}</b><br><br>Job_ID=J057<br>Scheduled_Start=%{base}<br>Estimated_Completion_Time=%{x}<br>Assigned_Machine=%{y}<extra></extra>",
         "hovertext": [
          "J057"
         ],
         "legendgroup": "J057",
         "marker": {
          "color": "#FF6692",
          "pattern": {
           "shape": ""
          }
         },
         "name": "J057",
         "offsetgroup": "J057",
         "orientation": "h",
         "showlegend": true,
         "textposition": "auto",
         "type": "bar",
         "x": [
          110612626.474428
         ],
         "xaxis": "x",
         "y": [
          "M04"
         ],
         "yaxis": "y"
        },
        {
         "alignmentgroup": "True",
         "base": [
          "2025-10-09T23:20:53.650877"
         ],
         "hovertemplate": "<b>%{hovertext}</b><br><br>Job_ID=J058<br>Scheduled_Start=%{base}<br>Estimated_Completion_Time=%{x}<br>Assigned_Machine=%{y}<extra></extra>",
         "hovertext": [
          "J058"
         ],
         "legendgroup": "J058",
         "marker": {
          "color": "#B6E880",
          "pattern": {
           "shape": ""
          }
         },
         "name": "J058",
         "offsetgroup": "J058",
         "orientation": "h",
         "showlegend": true,
         "textposition": "auto",
         "type": "bar",
         "x": [
          296156387.012183
         ],
         "xaxis": "x",
         "y": [
          "M04"
         ],
         "yaxis": "y"
        },
        {
         "alignmentgroup": "True",
         "base": [
          "2025-10-13T10:20:53.650877"
         ],
         "hovertemplate": "<b>%{hovertext}</b><br><br>Job_ID=J059<br>Scheduled_Start=%{base}<br>Estimated_Completion_Time=%{x}<br>Assigned_Machine=%{y}<extra></extra>",
         "hovertext": [
          "J059"
         ],
         "legendgroup": "J059",
         "marker": {
          "color": "#FF97FF",
          "pattern": {
           "shape": ""
          }
         },
         "name": "J059",
         "offsetgroup": "J059",
         "orientation": "h",
         "showlegend": true,
         "textposition": "auto",
         "type": "bar",
         "x": [
          222982088.814752
         ],
         "xaxis": "x",
         "y": [
          "M05"
         ],
         "yaxis": "y"
        },
        {
         "alignmentgroup": "True",
         "base": [
          "2025-10-16T00:20:53.650877"
         ],
         "hovertemplate": "<b>%{hovertext}</b><br><br>Job_ID=J060<br>Scheduled_Start=%{base}<br>Estimated_Completion_Time=%{x}<br>Assigned_Machine=%{y}<extra></extra>",
         "hovertext": [
          "J060"
         ],
         "legendgroup": "J060",
         "marker": {
          "color": "#FECB52",
          "pattern": {
           "shape": ""
          }
         },
         "name": "J060",
         "offsetgroup": "J060",
         "orientation": "h",
         "showlegend": true,
         "textposition": "auto",
         "type": "bar",
         "x": [
          235497849.913303
         ],
         "xaxis": "x",
         "y": [
          "M04"
         ],
         "yaxis": "y"
        },
        {
         "alignmentgroup": "True",
         "base": [
          "2025-10-18T18:20:53.650877"
         ],
         "hovertemplate": "<b>%{hovertext}</b><br><br>Job_ID=J061<br>Scheduled_Start=%{base}<br>Estimated_Completion_Time=%{x}<br>Assigned_Machine=%{y}<extra></extra>",
         "hovertext": [
          "J061"
         ],
         "legendgroup": "J061",
         "marker": {
          "color": "#636efa",
          "pattern": {
           "shape": ""
          }
         },
         "name": "J061",
         "offsetgroup": "J061",
         "orientation": "h",
         "showlegend": true,
         "textposition": "auto",
         "type": "bar",
         "x": [
          395613383.381013
         ],
         "xaxis": "x",
         "y": [
          "M05"
         ],
         "yaxis": "y"
        },
        {
         "alignmentgroup": "True",
         "base": [
          "2025-10-23T08:20:53.650877"
         ],
         "hovertemplate": "<b>%{hovertext}</b><br><br>Job_ID=J062<br>Scheduled_Start=%{base}<br>Estimated_Completion_Time=%{x}<br>Assigned_Machine=%{y}<extra></extra>",
         "hovertext": [
          "J062"
         ],
         "legendgroup": "J062",
         "marker": {
          "color": "#EF553B",
          "pattern": {
           "shape": ""
          }
         },
         "name": "J062",
         "offsetgroup": "J062",
         "orientation": "h",
         "showlegend": true,
         "textposition": "auto",
         "type": "bar",
         "x": [
          349678625.628841
         ],
         "xaxis": "x",
         "y": [
          "M04"
         ],
         "yaxis": "y"
        },
        {
         "alignmentgroup": "True",
         "base": [
          "2025-10-27T10:20:53.650877"
         ],
         "hovertemplate": "<b>%{hovertext}</b><br><br>Job_ID=J063<br>Scheduled_Start=%{base}<br>Estimated_Completion_Time=%{x}<br>Assigned_Machine=%{y}<extra></extra>",
         "hovertext": [
          "J063"
         ],
         "legendgroup": "J063",
         "marker": {
          "color": "#00cc96",
          "pattern": {
           "shape": ""
          }
         },
         "name": "J063",
         "offsetgroup": "J063",
         "orientation": "h",
         "showlegend": true,
         "textposition": "auto",
         "type": "bar",
         "x": [
          167703014.332198
         ],
         "xaxis": "x",
         "y": [
          "M04"
         ],
         "yaxis": "y"
        },
        {
         "alignmentgroup": "True",
         "base": [
          "2025-10-29T09:20:53.650877"
         ],
         "hovertemplate": "<b>%{hovertext}</b><br><br>Job_ID=J064<br>Scheduled_Start=%{base}<br>Estimated_Completion_Time=%{x}<br>Assigned_Machine=%{y}<extra></extra>",
         "hovertext": [
          "J064"
         ],
         "legendgroup": "J064",
         "marker": {
          "color": "#ab63fa",
          "pattern": {
           "shape": ""
          }
         },
         "name": "J064",
         "offsetgroup": "J064",
         "orientation": "h",
         "showlegend": true,
         "textposition": "auto",
         "type": "bar",
         "x": [
          253338596.118853
         ],
         "xaxis": "x",
         "y": [
          "M04"
         ],
         "yaxis": "y"
        },
        {
         "alignmentgroup": "True",
         "base": [
          "2025-11-01T08:20:53.650877"
         ],
         "hovertemplate": "<b>%{hovertext}</b><br><br>Job_ID=J065<br>Scheduled_Start=%{base}<br>Estimated_Completion_Time=%{x}<br>Assigned_Machine=%{y}<extra></extra>",
         "hovertext": [
          "J065"
         ],
         "legendgroup": "J065",
         "marker": {
          "color": "#FFA15A",
          "pattern": {
           "shape": ""
          }
         },
         "name": "J065",
         "offsetgroup": "J065",
         "orientation": "h",
         "showlegend": true,
         "textposition": "auto",
         "type": "bar",
         "x": [
          82067432.545544
         ],
         "xaxis": "x",
         "y": [
          "M04"
         ],
         "yaxis": "y"
        },
        {
         "alignmentgroup": "True",
         "base": [
          "2025-11-02T07:20:53.650877"
         ],
         "hovertemplate": "<b>%{hovertext}</b><br><br>Job_ID=J066<br>Scheduled_Start=%{base}<br>Estimated_Completion_Time=%{x}<br>Assigned_Machine=%{y}<extra></extra>",
         "hovertext": [
          "J066"
         ],
         "legendgroup": "J066",
         "marker": {
          "color": "#19d3f3",
          "pattern": {
           "shape": ""
          }
         },
         "name": "J066",
         "offsetgroup": "J066",
         "orientation": "h",
         "showlegend": true,
         "textposition": "auto",
         "type": "bar",
         "x": [
          185543760.537752
         ],
         "xaxis": "x",
         "y": [
          "M04"
         ],
         "yaxis": "y"
        },
        {
         "alignmentgroup": "True",
         "base": [
          "2025-11-04T11:20:53.650877"
         ],
         "hovertemplate": "<b>%{hovertext}</b><br><br>Job_ID=J067<br>Scheduled_Start=%{base}<br>Estimated_Completion_Time=%{x}<br>Assigned_Machine=%{y}<extra></extra>",
         "hovertext": [
          "J067"
         ],
         "legendgroup": "J067",
         "marker": {
          "color": "#FF6692",
          "pattern": {
           "shape": ""
          }
         },
         "name": "J067",
         "offsetgroup": "J067",
         "orientation": "h",
         "showlegend": true,
         "textposition": "auto",
         "type": "bar",
         "x": [
          82067432.545544
         ],
         "xaxis": "x",
         "y": [
          "M04"
         ],
         "yaxis": "y"
        },
        {
         "alignmentgroup": "True",
         "base": [
          "2025-11-05T10:20:53.650877"
         ],
         "hovertemplate": "<b>%{hovertext}</b><br><br>Job_ID=J068<br>Scheduled_Start=%{base}<br>Estimated_Completion_Time=%{x}<br>Assigned_Machine=%{y}<extra></extra>",
         "hovertext": [
          "J068"
         ],
         "legendgroup": "J068",
         "marker": {
          "color": "#B6E880",
          "pattern": {
           "shape": ""
          }
         },
         "name": "J068",
         "offsetgroup": "J068",
         "orientation": "h",
         "showlegend": true,
         "textposition": "auto",
         "type": "bar",
         "x": [
          413905311.968832
         ],
         "xaxis": "x",
         "y": [
          "M04"
         ],
         "yaxis": "y"
        },
        {
         "alignmentgroup": "True",
         "base": [
          "2025-11-10T06:20:53.650877"
         ],
         "hovertemplate": "<b>%{hovertext}</b><br><br>Job_ID=J069<br>Scheduled_Start=%{base}<br>Estimated_Completion_Time=%{x}<br>Assigned_Machine=%{y}<extra></extra>",
         "hovertext": [
          "J069"
         ],
         "legendgroup": "J069",
         "marker": {
          "color": "#FF97FF",
          "pattern": {
           "shape": ""
          }
         },
         "name": "J069",
         "offsetgroup": "J069",
         "orientation": "h",
         "showlegend": true,
         "textposition": "auto",
         "type": "bar",
         "x": [
          103476327.992208
         ],
         "xaxis": "x",
         "y": [
          "M04"
         ],
         "yaxis": "y"
        },
        {
         "alignmentgroup": "True",
         "base": [
          "2025-11-11T11:20:53.650877"
         ],
         "hovertemplate": "<b>%{hovertext}</b><br><br>Job_ID=J070<br>Scheduled_Start=%{base}<br>Estimated_Completion_Time=%{x}<br>Assigned_Machine=%{y}<extra></extra>",
         "hovertext": [
          "J070"
         ],
         "legendgroup": "J070",
         "marker": {
          "color": "#FECB52",
          "pattern": {
           "shape": ""
          }
         },
         "name": "J070",
         "offsetgroup": "J070",
         "orientation": "h",
         "showlegend": true,
         "textposition": "auto",
         "type": "bar",
         "x": [
          192680059.019972
         ],
         "xaxis": "x",
         "y": [
          "M04"
         ],
         "yaxis": "y"
        },
        {
         "alignmentgroup": "True",
         "base": [
          "2025-11-13T17:20:53.650877"
         ],
         "hovertemplate": "<b>%{hovertext}</b><br><br>Job_ID=J071<br>Scheduled_Start=%{base}<br>Estimated_Completion_Time=%{x}<br>Assigned_Machine=%{y}<extra></extra>",
         "hovertext": [
          "J071"
         ],
         "legendgroup": "J071",
         "marker": {
          "color": "#636efa",
          "pattern": {
           "shape": ""
          }
         },
         "name": "J071",
         "offsetgroup": "J071",
         "orientation": "h",
         "showlegend": true,
         "textposition": "auto",
         "type": "bar",
         "x": [
          89203731.027764
         ],
         "xaxis": "x",
         "y": [
          "M04"
         ],
         "yaxis": "y"
        },
        {
         "alignmentgroup": "True",
         "base": [
          "2025-11-14T18:20:53.650877"
         ],
         "hovertemplate": "<b>%{hovertext}</b><br><br>Job_ID=J072<br>Scheduled_Start=%{base}<br>Estimated_Completion_Time=%{x}<br>Assigned_Machine=%{y}<extra></extra>",
         "hovertext": [
          "J072"
         ],
         "legendgroup": "J072",
         "marker": {
          "color": "#EF553B",
          "pattern": {
           "shape": ""
          }
         },
         "name": "J072",
         "offsetgroup": "J072",
         "orientation": "h",
         "showlegend": true,
         "textposition": "auto",
         "type": "bar",
         "x": [
          242634148.395523
         ],
         "xaxis": "x",
         "y": [
          "M04"
         ],
         "yaxis": "y"
        },
        {
         "alignmentgroup": "True",
         "base": [
          "2025-11-17T14:20:53.650877"
         ],
         "hovertemplate": "<b>%{hovertext}</b><br><br>Job_ID=J073<br>Scheduled_Start=%{base}<br>Estimated_Completion_Time=%{x}<br>Assigned_Machine=%{y}<extra></extra>",
         "hovertext": [
          "J073"
         ],
         "legendgroup": "J073",
         "marker": {
          "color": "#00cc96",
          "pattern": {
           "shape": ""
          }
         },
         "name": "J073",
         "offsetgroup": "J073",
         "orientation": "h",
         "showlegend": true,
         "textposition": "auto",
         "type": "bar",
         "x": [
          399632715.004392
         ],
         "xaxis": "x",
         "y": [
          "M04"
         ],
         "yaxis": "y"
        },
        {
         "alignmentgroup": "True",
         "base": [
          "2025-11-22T06:20:53.650877"
         ],
         "hovertemplate": "<b>%{hovertext}</b><br><br>Job_ID=J074<br>Scheduled_Start=%{base}<br>Estimated_Completion_Time=%{x}<br>Assigned_Machine=%{y}<extra></extra>",
         "hovertext": [
          "J074"
         ],
         "legendgroup": "J074",
         "marker": {
          "color": "#ab63fa",
          "pattern": {
           "shape": ""
          }
         },
         "name": "J074",
         "offsetgroup": "J074",
         "orientation": "h",
         "showlegend": true,
         "textposition": "auto",
         "type": "bar",
         "x": [
          231929700.672189
         ],
         "xaxis": "x",
         "y": [
          "M04"
         ],
         "yaxis": "y"
        },
        {
         "alignmentgroup": "True",
         "base": [
          "2025-11-24T23:20:53.650877"
         ],
         "hovertemplate": "<b>%{hovertext}</b><br><br>Job_ID=J075<br>Scheduled_Start=%{base}<br>Estimated_Completion_Time=%{x}<br>Assigned_Machine=%{y}<extra></extra>",
         "hovertext": [
          "J075"
         ],
         "legendgroup": "J075",
         "marker": {
          "color": "#FFA15A",
          "pattern": {
           "shape": ""
          }
         },
         "name": "J075",
         "offsetgroup": "J075",
         "orientation": "h",
         "showlegend": true,
         "textposition": "auto",
         "type": "bar",
         "x": [
          303292685.494404
         ],
         "xaxis": "x",
         "y": [
          "M04"
         ],
         "yaxis": "y"
        },
        {
         "alignmentgroup": "True",
         "base": [
          "2025-11-28T12:20:53.650877"
         ],
         "hovertemplate": "<b>%{hovertext}</b><br><br>Job_ID=J076<br>Scheduled_Start=%{base}<br>Estimated_Completion_Time=%{x}<br>Assigned_Machine=%{y}<extra></extra>",
         "hovertext": [
          "J076"
         ],
         "legendgroup": "J076",
         "marker": {
          "color": "#19d3f3",
          "pattern": {
           "shape": ""
          }
         },
         "name": "J076",
         "offsetgroup": "J076",
         "orientation": "h",
         "showlegend": true,
         "textposition": "auto",
         "type": "bar",
         "x": [
          353246774.869951
         ],
         "xaxis": "x",
         "y": [
          "M04"
         ],
         "yaxis": "y"
        },
        {
         "alignmentgroup": "True",
         "base": [
          "2025-12-02T15:20:53.650877"
         ],
         "hovertemplate": "<b>%{hovertext}</b><br><br>Job_ID=J077<br>Scheduled_Start=%{base}<br>Estimated_Completion_Time=%{x}<br>Assigned_Machine=%{y}<extra></extra>",
         "hovertext": [
          "J077"
         ],
         "legendgroup": "J077",
         "marker": {
          "color": "#FF6692",
          "pattern": {
           "shape": ""
          }
         },
         "name": "J077",
         "offsetgroup": "J077",
         "orientation": "h",
         "showlegend": true,
         "textposition": "auto",
         "type": "bar",
         "x": [
          221225252.948859
         ],
         "xaxis": "x",
         "y": [
          "M04"
         ],
         "yaxis": "y"
        },
        {
         "alignmentgroup": "True",
         "base": [
          "2025-12-05T05:20:53.650877"
         ],
         "hovertemplate": "<b>%{hovertext}</b><br><br>Job_ID=J078<br>Scheduled_Start=%{base}<br>Estimated_Completion_Time=%{x}<br>Assigned_Machine=%{y}<extra></extra>",
         "hovertext": [
          "J078"
         ],
         "legendgroup": "J078",
         "marker": {
          "color": "#B6E880",
          "pattern": {
           "shape": ""
          }
         },
         "name": "J078",
         "offsetgroup": "J078",
         "orientation": "h",
         "showlegend": true,
         "textposition": "auto",
         "type": "bar",
         "x": [
          381791968.798838
         ],
         "xaxis": "x",
         "y": [
          "M04"
         ],
         "yaxis": "y"
        },
        {
         "alignmentgroup": "True",
         "base": [
          "2025-12-09T16:20:53.650877"
         ],
         "hovertemplate": "<b>%{hovertext}</b><br><br>Job_ID=J079<br>Scheduled_Start=%{base}<br>Estimated_Completion_Time=%{x}<br>Assigned_Machine=%{y}<extra></extra>",
         "hovertext": [
          "J079"
         ],
         "legendgroup": "J079",
         "marker": {
          "color": "#FF97FF",
          "pattern": {
           "shape": ""
          }
         },
         "name": "J079",
         "offsetgroup": "J079",
         "orientation": "h",
         "showlegend": true,
         "textposition": "auto",
         "type": "bar",
         "x": [
          299724536.253294
         ],
         "xaxis": "x",
         "y": [
          "M04"
         ],
         "yaxis": "y"
        },
        {
         "alignmentgroup": "True",
         "base": [
          "2025-12-13T04:20:53.650877"
         ],
         "hovertemplate": "<b>%{hovertext}</b><br><br>Job_ID=J080<br>Scheduled_Start=%{base}<br>Estimated_Completion_Time=%{x}<br>Assigned_Machine=%{y}<extra></extra>",
         "hovertext": [
          "J080"
         ],
         "legendgroup": "J080",
         "marker": {
          "color": "#FECB52",
          "pattern": {
           "shape": ""
          }
         },
         "name": "J080",
         "offsetgroup": "J080",
         "orientation": "h",
         "showlegend": true,
         "textposition": "auto",
         "type": "bar",
         "x": [
          292588237.77107
         ],
         "xaxis": "x",
         "y": [
          "M04"
         ],
         "yaxis": "y"
        },
        {
         "alignmentgroup": "True",
         "base": [
          "2025-12-16T14:20:53.650877"
         ],
         "hovertemplate": "<b>%{hovertext}</b><br><br>Job_ID=J081<br>Scheduled_Start=%{base}<br>Estimated_Completion_Time=%{x}<br>Assigned_Machine=%{y}<extra></extra>",
         "hovertext": [
          "J081"
         ],
         "legendgroup": "J081",
         "marker": {
          "color": "#636efa",
          "pattern": {
           "shape": ""
          }
         },
         "name": "J081",
         "offsetgroup": "J081",
         "orientation": "h",
         "showlegend": true,
         "textposition": "auto",
         "type": "bar",
         "x": [
          248157485.938998
         ],
         "xaxis": "x",
         "y": [
          "M05"
         ],
         "yaxis": "y"
        },
        {
         "alignmentgroup": "True",
         "base": [
          "2025-12-19T11:20:53.650877"
         ],
         "hovertemplate": "<b>%{hovertext}</b><br><br>Job_ID=J082<br>Scheduled_Start=%{base}<br>Estimated_Completion_Time=%{x}<br>Assigned_Machine=%{y}<extra></extra>",
         "hovertext": [
          "J082"
         ],
         "legendgroup": "J082",
         "marker": {
          "color": "#EF553B",
          "pattern": {
           "shape": ""
          }
         },
         "name": "J082",
         "offsetgroup": "J082",
         "orientation": "h",
         "showlegend": true,
         "textposition": "auto",
         "type": "bar",
         "x": [
          85635581.786654
         ],
         "xaxis": "x",
         "y": [
          "M04"
         ],
         "yaxis": "y"
        },
        {
         "alignmentgroup": "True",
         "base": [
          "2025-12-20T11:20:53.650877"
         ],
         "hovertemplate": "<b>%{hovertext}</b><br><br>Job_ID=J083<br>Scheduled_Start=%{base}<br>Estimated_Completion_Time=%{x}<br>Assigned_Machine=%{y}<extra></extra>",
         "hovertext": [
          "J083"
         ],
         "legendgroup": "J083",
         "marker": {
          "color": "#00cc96",
          "pattern": {
           "shape": ""
          }
         },
         "name": "J083",
         "offsetgroup": "J083",
         "orientation": "h",
         "showlegend": true,
         "textposition": "auto",
         "type": "bar",
         "x": [
          212192632.90436
         ],
         "xaxis": "x",
         "y": [
          "M05"
         ],
         "yaxis": "y"
        },
        {
         "alignmentgroup": "True",
         "base": [
          "2025-12-22T22:20:53.650877"
         ],
         "hovertemplate": "<b>%{hovertext}</b><br><br>Job_ID=J084<br>Scheduled_Start=%{base}<br>Estimated_Completion_Time=%{x}<br>Assigned_Machine=%{y}<extra></extra>",
         "hovertext": [
          "J084"
         ],
         "legendgroup": "J084",
         "marker": {
          "color": "#ab63fa",
          "pattern": {
           "shape": ""
          }
         },
         "name": "J084",
         "offsetgroup": "J084",
         "orientation": "h",
         "showlegend": true,
         "textposition": "auto",
         "type": "bar",
         "x": [
          274747491.565516
         ],
         "xaxis": "x",
         "y": [
          "M04"
         ],
         "yaxis": "y"
        },
        {
         "alignmentgroup": "True",
         "base": [
          "2025-12-26T03:20:53.650877"
         ],
         "hovertemplate": "<b>%{hovertext}</b><br><br>Job_ID=J085<br>Scheduled_Start=%{base}<br>Estimated_Completion_Time=%{x}<br>Assigned_Machine=%{y}<extra></extra>",
         "hovertext": [
          "J085"
         ],
         "legendgroup": "J085",
         "marker": {
          "color": "#FFA15A",
          "pattern": {
           "shape": ""
          }
         },
         "name": "J085",
         "offsetgroup": "J085",
         "orientation": "h",
         "showlegend": true,
         "textposition": "auto",
         "type": "bar",
         "x": [
          156998566.608868
         ],
         "xaxis": "x",
         "y": [
          "M04"
         ],
         "yaxis": "y"
        },
        {
         "alignmentgroup": "True",
         "base": [
          "2025-12-27T23:20:53.650877"
         ],
         "hovertemplate": "<b>%{hovertext}</b><br><br>Job_ID=J086<br>Scheduled_Start=%{base}<br>Estimated_Completion_Time=%{x}<br>Assigned_Machine=%{y}<extra></extra>",
         "hovertext": [
          "J086"
         ],
         "legendgroup": "J086",
         "marker": {
          "color": "#19d3f3",
          "pattern": {
           "shape": ""
          }
         },
         "name": "J086",
         "offsetgroup": "J086",
         "orientation": "h",
         "showlegend": true,
         "textposition": "auto",
         "type": "bar",
         "x": [
          276929368.366708
         ],
         "xaxis": "x",
         "y": [
          "M05"
         ],
         "yaxis": "y"
        },
        {
         "alignmentgroup": "True",
         "base": [
          "2025-12-31T04:20:53.650877"
         ],
         "hovertemplate": "<b>%{hovertext}</b><br><br>Job_ID=J087<br>Scheduled_Start=%{base}<br>Estimated_Completion_Time=%{x}<br>Assigned_Machine=%{y}<extra></extra>",
         "hovertext": [
          "J087"
         ],
         "legendgroup": "J087",
         "marker": {
          "color": "#FF6692",
          "pattern": {
           "shape": ""
          }
         },
         "name": "J087",
         "offsetgroup": "J087",
         "orientation": "h",
         "showlegend": true,
         "textposition": "auto",
         "type": "bar",
         "x": [
          210520805.225526
         ],
         "xaxis": "x",
         "y": [
          "M04"
         ],
         "yaxis": "y"
        },
        {
         "alignmentgroup": "True",
         "base": [
          "2026-01-02T15:20:53.650877"
         ],
         "hovertemplate": "<b>%{hovertext}</b><br><br>Job_ID=J088<br>Scheduled_Start=%{base}<br>Estimated_Completion_Time=%{x}<br>Assigned_Machine=%{y}<extra></extra>",
         "hovertext": [
          "J088"
         ],
         "legendgroup": "J088",
         "marker": {
          "color": "#B6E880",
          "pattern": {
           "shape": ""
          }
         },
         "name": "J088",
         "offsetgroup": "J088",
         "orientation": "h",
         "showlegend": true,
         "textposition": "auto",
         "type": "bar",
         "x": [
          214088954.466639
         ],
         "xaxis": "x",
         "y": [
          "M04"
         ],
         "yaxis": "y"
        },
        {
         "alignmentgroup": "True",
         "base": [
          "2026-01-05T03:20:53.650877"
         ],
         "hovertemplate": "<b>%{hovertext}</b><br><br>Job_ID=J089<br>Scheduled_Start=%{base}<br>Estimated_Completion_Time=%{x}<br>Assigned_Machine=%{y}<extra></extra>",
         "hovertext": [
          "J089"
         ],
         "legendgroup": "J089",
         "marker": {
          "color": "#FF97FF",
          "pattern": {
           "shape": ""
          }
         },
         "name": "J089",
         "offsetgroup": "J089",
         "orientation": "h",
         "showlegend": true,
         "textposition": "auto",
         "type": "bar",
         "x": [
          196248208.261086
         ],
         "xaxis": "x",
         "y": [
          "M04"
         ],
         "yaxis": "y"
        },
        {
         "alignmentgroup": "True",
         "base": [
          "2026-01-07T10:20:53.650877"
         ],
         "hovertemplate": "<b>%{hovertext}</b><br><br>Job_ID=J090<br>Scheduled_Start=%{base}<br>Estimated_Completion_Time=%{x}<br>Assigned_Machine=%{y}<extra></extra>",
         "hovertext": [
          "J090"
         ],
         "legendgroup": "J090",
         "marker": {
          "color": "#FECB52",
          "pattern": {
           "shape": ""
          }
         },
         "name": "J090",
         "offsetgroup": "J090",
         "orientation": "h",
         "showlegend": true,
         "textposition": "auto",
         "type": "bar",
         "x": [
          97105103.19352
         ],
         "xaxis": "x",
         "y": [
          "M05"
         ],
         "yaxis": "y"
        },
        {
         "alignmentgroup": "True",
         "base": [
          "2026-01-08T13:20:53.650877"
         ],
         "hovertemplate": "<b>%{hovertext}</b><br><br>Job_ID=J091<br>Scheduled_Start=%{base}<br>Estimated_Completion_Time=%{x}<br>Assigned_Machine=%{y}<extra></extra>",
         "hovertext": [
          "J091"
         ],
         "legendgroup": "J091",
         "marker": {
          "color": "#636efa",
          "pattern": {
           "shape": ""
          }
         },
         "name": "J091",
         "offsetgroup": "J091",
         "orientation": "h",
         "showlegend": true,
         "textposition": "auto",
         "type": "bar",
         "x": [
          214088954.466639
         ],
         "xaxis": "x",
         "y": [
          "M04"
         ],
         "yaxis": "y"
        },
        {
         "alignmentgroup": "True",
         "base": [
          "2026-01-11T01:20:53.650877"
         ],
         "hovertemplate": "<b>%{hovertext}</b><br><br>Job_ID=J092<br>Scheduled_Start=%{base}<br>Estimated_Completion_Time=%{x}<br>Assigned_Machine=%{y}<extra></extra>",
         "hovertext": [
          "J092"
         ],
         "legendgroup": "J092",
         "marker": {
          "color": "#EF553B",
          "pattern": {
           "shape": ""
          }
         },
         "name": "J092",
         "offsetgroup": "J092",
         "orientation": "h",
         "showlegend": true,
         "textposition": "auto",
         "type": "bar",
         "x": [
          321133431.699957
         ],
         "xaxis": "x",
         "y": [
          "M04"
         ],
         "yaxis": "y"
        },
        {
         "alignmentgroup": "True",
         "base": [
          "2026-01-14T19:20:53.650877"
         ],
         "hovertemplate": "<b>%{hovertext}</b><br><br>Job_ID=J093<br>Scheduled_Start=%{base}<br>Estimated_Completion_Time=%{x}<br>Assigned_Machine=%{y}<extra></extra>",
         "hovertext": [
          "J093"
         ],
         "legendgroup": "J093",
         "marker": {
          "color": "#00cc96",
          "pattern": {
           "shape": ""
          }
         },
         "name": "J093",
         "offsetgroup": "J093",
         "orientation": "h",
         "showlegend": true,
         "textposition": "auto",
         "type": "bar",
         "x": [
          306860834.735514
         ],
         "xaxis": "x",
         "y": [
          "M04"
         ],
         "yaxis": "y"
        },
        {
         "alignmentgroup": "True",
         "base": [
          "2026-01-18T09:20:53.650877"
         ],
         "hovertemplate": "<b>%{hovertext}</b><br><br>Job_ID=J094<br>Scheduled_Start=%{base}<br>Estimated_Completion_Time=%{x}<br>Assigned_Machine=%{y}<extra></extra>",
         "hovertext": [
          "J094"
         ],
         "legendgroup": "J094",
         "marker": {
          "color": "#ab63fa",
          "pattern": {
           "shape": ""
          }
         },
         "name": "J094",
         "offsetgroup": "J094",
         "orientation": "h",
         "showlegend": true,
         "textposition": "auto",
         "type": "bar",
         "x": [
          183420750.476649
         ],
         "xaxis": "x",
         "y": [
          "M05"
         ],
         "yaxis": "y"
        },
        {
         "alignmentgroup": "True",
         "base": [
          "2026-01-20T12:20:53.650877"
         ],
         "hovertemplate": "<b>%{hovertext}</b><br><br>Job_ID=J095<br>Scheduled_Start=%{base}<br>Estimated_Completion_Time=%{x}<br>Assigned_Machine=%{y}<extra></extra>",
         "hovertext": [
          "J095"
         ],
         "legendgroup": "J095",
         "marker": {
          "color": "#FFA15A",
          "pattern": {
           "shape": ""
          }
         },
         "name": "J095",
         "offsetgroup": "J095",
         "orientation": "h",
         "showlegend": true,
         "textposition": "auto",
         "type": "bar",
         "x": [
          403200864.245502
         ],
         "xaxis": "x",
         "y": [
          "M04"
         ],
         "yaxis": "y"
        },
        {
         "alignmentgroup": "True",
         "base": [
          "2026-01-25T05:20:53.650877"
         ],
         "hovertemplate": "<b>%{hovertext}</b><br><br>Job_ID=J096<br>Scheduled_Start=%{base}<br>Estimated_Completion_Time=%{x}<br>Assigned_Machine=%{y}<extra></extra>",
         "hovertext": [
          "J096"
         ],
         "legendgroup": "J096",
         "marker": {
          "color": "#19d3f3",
          "pattern": {
           "shape": ""
          }
         },
         "name": "J096",
         "offsetgroup": "J096",
         "orientation": "h",
         "showlegend": true,
         "textposition": "auto",
         "type": "bar",
         "x": [
          392496416.522168
         ],
         "xaxis": "x",
         "y": [
          "M04"
         ],
         "yaxis": "y"
        },
        {
         "alignmentgroup": "True",
         "base": [
          "2026-01-29T19:20:53.650877"
         ],
         "hovertemplate": "<b>%{hovertext}</b><br><br>Job_ID=J097<br>Scheduled_Start=%{base}<br>Estimated_Completion_Time=%{x}<br>Assigned_Machine=%{y}<extra></extra>",
         "hovertext": [
          "J097"
         ],
         "legendgroup": "J097",
         "marker": {
          "color": "#FF6692",
          "pattern": {
           "shape": ""
          }
         },
         "name": "J097",
         "offsetgroup": "J097",
         "orientation": "h",
         "showlegend": true,
         "textposition": "auto",
         "type": "bar",
         "x": [
          203384506.743306
         ],
         "xaxis": "x",
         "y": [
          "M04"
         ],
         "yaxis": "y"
        },
        {
         "alignmentgroup": "True",
         "base": [
          "2026-02-01T04:20:53.650877"
         ],
         "hovertemplate": "<b>%{hovertext}</b><br><br>Job_ID=J098<br>Scheduled_Start=%{base}<br>Estimated_Completion_Time=%{x}<br>Assigned_Machine=%{y}<extra></extra>",
         "hovertext": [
          "J098"
         ],
         "legendgroup": "J098",
         "marker": {
          "color": "#B6E880",
          "pattern": {
           "shape": ""
          }
         },
         "name": "J098",
         "offsetgroup": "J098",
         "orientation": "h",
         "showlegend": true,
         "textposition": "auto",
         "type": "bar",
         "x": [
          327280162.6152
         ],
         "xaxis": "x",
         "y": [
          "M05"
         ],
         "yaxis": "y"
        },
        {
         "alignmentgroup": "True",
         "base": [
          "2026-02-04T23:20:53.650877"
         ],
         "hovertemplate": "<b>%{hovertext}</b><br><br>Job_ID=J099<br>Scheduled_Start=%{base}<br>Estimated_Completion_Time=%{x}<br>Assigned_Machine=%{y}<extra></extra>",
         "hovertext": [
          "J099"
         ],
         "legendgroup": "J099",
         "marker": {
          "color": "#FF97FF",
          "pattern": {
           "shape": ""
          }
         },
         "name": "J099",
         "offsetgroup": "J099",
         "orientation": "h",
         "showlegend": true,
         "textposition": "auto",
         "type": "bar",
         "x": [
          118684015.014304
         ],
         "xaxis": "x",
         "y": [
          "M05"
         ],
         "yaxis": "y"
        },
        {
         "alignmentgroup": "True",
         "base": [
          "2026-02-06T08:20:53.650877"
         ],
         "hovertemplate": "<b>%{hovertext}</b><br><br>Job_ID=J100<br>Scheduled_Start=%{base}<br>Estimated_Completion_Time=%{x}<br>Assigned_Machine=%{y}<extra></extra>",
         "hovertext": [
          "J100"
         ],
         "legendgroup": "J100",
         "marker": {
          "color": "#FECB52",
          "pattern": {
           "shape": ""
          }
         },
         "name": "J100",
         "offsetgroup": "J100",
         "orientation": "h",
         "showlegend": true,
         "textposition": "auto",
         "type": "bar",
         "x": [
          96340029.509988
         ],
         "xaxis": "x",
         "y": [
          "M04"
         ],
         "yaxis": "y"
        },
        {
         "alignmentgroup": "True",
         "base": [
          "2026-02-07T11:20:53.650877"
         ],
         "hovertemplate": "<b>%{hovertext}</b><br><br>Job_ID=J101<br>Scheduled_Start=%{base}<br>Estimated_Completion_Time=%{x}<br>Assigned_Machine=%{y}<extra></extra>",
         "hovertext": [
          "J101"
         ],
         "legendgroup": "J101",
         "marker": {
          "color": "#636efa",
          "pattern": {
           "shape": ""
          }
         },
         "name": "J101",
         "offsetgroup": "J101",
         "orientation": "h",
         "showlegend": true,
         "textposition": "auto",
         "type": "bar",
         "x": [
          132021521.921091
         ],
         "xaxis": "x",
         "y": [
          "M04"
         ],
         "yaxis": "y"
        },
        {
         "alignmentgroup": "True",
         "base": [
          "2026-02-09T00:20:53.650877"
         ],
         "hovertemplate": "<b>%{hovertext}</b><br><br>Job_ID=J102<br>Scheduled_Start=%{base}<br>Estimated_Completion_Time=%{x}<br>Assigned_Machine=%{y}<extra></extra>",
         "hovertext": [
          "J102"
         ],
         "legendgroup": "J102",
         "marker": {
          "color": "#EF553B",
          "pattern": {
           "shape": ""
          }
         },
         "name": "J102",
         "offsetgroup": "J102",
         "orientation": "h",
         "showlegend": true,
         "textposition": "auto",
         "type": "bar",
         "x": [
          392496416.522168
         ],
         "xaxis": "x",
         "y": [
          "M04"
         ],
         "yaxis": "y"
        },
        {
         "alignmentgroup": "True",
         "base": [
          "2026-02-13T14:20:53.650877"
         ],
         "hovertemplate": "<b>%{hovertext}</b><br><br>Job_ID=J103<br>Scheduled_Start=%{base}<br>Estimated_Completion_Time=%{x}<br>Assigned_Machine=%{y}<extra></extra>",
         "hovertext": [
          "J103"
         ],
         "legendgroup": "J103",
         "marker": {
          "color": "#00cc96",
          "pattern": {
           "shape": ""
          }
         },
         "name": "J103",
         "offsetgroup": "J103",
         "orientation": "h",
         "showlegend": true,
         "textposition": "auto",
         "type": "bar",
         "x": [
          374655670.316614
         ],
         "xaxis": "x",
         "y": [
          "M04"
         ],
         "yaxis": "y"
        },
        {
         "alignmentgroup": "True",
         "base": [
          "2026-02-17T23:20:53.650877"
         ],
         "hovertemplate": "<b>%{hovertext}</b><br><br>Job_ID=J104<br>Scheduled_Start=%{base}<br>Estimated_Completion_Time=%{x}<br>Assigned_Machine=%{y}<extra></extra>",
         "hovertext": [
          "J104"
         ],
         "legendgroup": "J104",
         "marker": {
          "color": "#ab63fa",
          "pattern": {
           "shape": ""
          }
         },
         "name": "J104",
         "offsetgroup": "J104",
         "orientation": "h",
         "showlegend": true,
         "textposition": "auto",
         "type": "bar",
         "x": [
          221225252.948859
         ],
         "xaxis": "x",
         "y": [
          "M04"
         ],
         "yaxis": "y"
        },
        {
         "alignmentgroup": "True",
         "base": [
          "2026-02-20T13:20:53.650877"
         ],
         "hovertemplate": "<b>%{hovertext}</b><br><br>Job_ID=J105<br>Scheduled_Start=%{base}<br>Estimated_Completion_Time=%{x}<br>Assigned_Machine=%{y}<extra></extra>",
         "hovertext": [
          "J105"
         ],
         "legendgroup": "J105",
         "marker": {
          "color": "#FFA15A",
          "pattern": {
           "shape": ""
          }
         },
         "name": "J105",
         "offsetgroup": "J105",
         "orientation": "h",
         "showlegend": true,
         "textposition": "auto",
         "type": "bar",
         "x": [
          153430417.367758
         ],
         "xaxis": "x",
         "y": [
          "M04"
         ],
         "yaxis": "y"
        },
        {
         "alignmentgroup": "True",
         "base": [
          "2026-02-22T08:20:53.650877"
         ],
         "hovertemplate": "<b>%{hovertext}</b><br><br>Job_ID=J106<br>Scheduled_Start=%{base}<br>Estimated_Completion_Time=%{x}<br>Assigned_Machine=%{y}<extra></extra>",
         "hovertext": [
          "J106"
         ],
         "legendgroup": "J106",
         "marker": {
          "color": "#19d3f3",
          "pattern": {
           "shape": ""
          }
         },
         "name": "J106",
         "offsetgroup": "J106",
         "orientation": "h",
         "showlegend": true,
         "textposition": "auto",
         "type": "bar",
         "x": [
          381791968.798838
         ],
         "xaxis": "x",
         "y": [
          "M04"
         ],
         "yaxis": "y"
        },
        {
         "alignmentgroup": "True",
         "base": [
          "2026-02-26T19:20:53.650877"
         ],
         "hovertemplate": "<b>%{hovertext}</b><br><br>Job_ID=J107<br>Scheduled_Start=%{base}<br>Estimated_Completion_Time=%{x}<br>Assigned_Machine=%{y}<extra></extra>",
         "hovertext": [
          "J107"
         ],
         "legendgroup": "J107",
         "marker": {
          "color": "#FF6692",
          "pattern": {
           "shape": ""
          }
         },
         "name": "J107",
         "offsetgroup": "J107",
         "orientation": "h",
         "showlegend": true,
         "textposition": "auto",
         "type": "bar",
         "x": [
          370437986.256768
         ],
         "xaxis": "x",
         "y": [
          "M05"
         ],
         "yaxis": "y"
        },
        {
         "alignmentgroup": "True",
         "base": [
          "2026-03-03T02:20:53.650877"
         ],
         "hovertemplate": "<b>%{hovertext}</b><br><br>Job_ID=J108<br>Scheduled_Start=%{base}<br>Estimated_Completion_Time=%{x}<br>Assigned_Machine=%{y}<extra></extra>",
         "hovertext": [
          "J108"
         ],
         "legendgroup": "J108",
         "marker": {
          "color": "#B6E880",
          "pattern": {
           "shape": ""
          }
         },
         "name": "J108",
         "offsetgroup": "J108",
         "orientation": "h",
         "showlegend": true,
         "textposition": "auto",
         "type": "bar",
         "x": [
          278315640.80663
         ],
         "xaxis": "x",
         "y": [
          "M04"
         ],
         "yaxis": "y"
        },
        {
         "alignmentgroup": "True",
         "base": [
          "2026-03-06T08:20:53.650877"
         ],
         "hovertemplate": "<b>%{hovertext}</b><br><br>Job_ID=J109<br>Scheduled_Start=%{base}<br>Estimated_Completion_Time=%{x}<br>Assigned_Machine=%{y}<extra></extra>",
         "hovertext": [
          "J109"
         ],
         "legendgroup": "J109",
         "marker": {
          "color": "#FF97FF",
          "pattern": {
           "shape": ""
          }
         },
         "name": "J109",
         "offsetgroup": "J109",
         "orientation": "h",
         "showlegend": true,
         "textposition": "auto",
         "type": "bar",
         "x": [
          363951222.593284
         ],
         "xaxis": "x",
         "y": [
          "M04"
         ],
         "yaxis": "y"
        },
        {
         "alignmentgroup": "True",
         "base": [
          "2026-03-10T14:20:53.650877"
         ],
         "hovertemplate": "<b>%{hovertext}</b><br><br>Job_ID=J110<br>Scheduled_Start=%{base}<br>Estimated_Completion_Time=%{x}<br>Assigned_Machine=%{y}<extra></extra>",
         "hovertext": [
          "J110"
         ],
         "legendgroup": "J110",
         "marker": {
          "color": "#FECB52",
          "pattern": {
           "shape": ""
          }
         },
         "name": "J110",
         "offsetgroup": "J110",
         "orientation": "h",
         "showlegend": true,
         "textposition": "auto",
         "type": "bar",
         "x": [
          384823927.470621
         ],
         "xaxis": "x",
         "y": [
          "M05"
         ],
         "yaxis": "y"
        },
        {
         "alignmentgroup": "True",
         "base": [
          "2026-03-15T01:20:53.650877"
         ],
         "hovertemplate": "<b>%{hovertext}</b><br><br>Job_ID=J111<br>Scheduled_Start=%{base}<br>Estimated_Completion_Time=%{x}<br>Assigned_Machine=%{y}<extra></extra>",
         "hovertext": [
          "J111"
         ],
         "legendgroup": "J111",
         "marker": {
          "color": "#636efa",
          "pattern": {
           "shape": ""
          }
         },
         "name": "J111",
         "offsetgroup": "J111",
         "orientation": "h",
         "showlegend": true,
         "textposition": "auto",
         "type": "bar",
         "x": [
          424609759.692165
         ],
         "xaxis": "x",
         "y": [
          "M04"
         ],
         "yaxis": "y"
        },
        {
         "alignmentgroup": "True",
         "base": [
          "2026-03-20T00:20:53.650877"
         ],
         "hovertemplate": "<b>%{hovertext}</b><br><br>Job_ID=J112<br>Scheduled_Start=%{base}<br>Estimated_Completion_Time=%{x}<br>Assigned_Machine=%{y}<extra></extra>",
         "hovertext": [
          "J112"
         ],
         "legendgroup": "J112",
         "marker": {
          "color": "#EF553B",
          "pattern": {
           "shape": ""
          }
         },
         "name": "J112",
         "offsetgroup": "J112",
         "orientation": "h",
         "showlegend": true,
         "textposition": "auto",
         "type": "bar",
         "x": [
          264043043.842186
         ],
         "xaxis": "x",
         "y": [
          "M04"
         ],
         "yaxis": "y"
        },
        {
         "alignmentgroup": "True",
         "base": [
          "2026-03-23T02:20:53.650877"
         ],
         "hovertemplate": "<b>%{hovertext}</b><br><br>Job_ID=J113<br>Scheduled_Start=%{base}<br>Estimated_Completion_Time=%{x}<br>Assigned_Machine=%{y}<extra></extra>",
         "hovertext": [
          "J113"
         ],
         "legendgroup": "J113",
         "marker": {
          "color": "#00cc96",
          "pattern": {
           "shape": ""
          }
         },
         "name": "J113",
         "offsetgroup": "J113",
         "orientation": "h",
         "showlegend": true,
         "textposition": "auto",
         "type": "bar",
         "x": [
          367519371.834394
         ],
         "xaxis": "x",
         "y": [
          "M04"
         ],
         "yaxis": "y"
        },
        {
         "alignmentgroup": "True",
         "base": [
          "2026-03-27T09:20:53.650877"
         ],
         "hovertemplate": "<b>%{hovertext}</b><br><br>Job_ID=J114<br>Scheduled_Start=%{base}<br>Estimated_Completion_Time=%{x}<br>Assigned_Machine=%{y}<extra></extra>",
         "hovertext": [
          "J114"
         ],
         "legendgroup": "J114",
         "marker": {
          "color": "#ab63fa",
          "pattern": {
           "shape": ""
          }
         },
         "name": "J114",
         "offsetgroup": "J114",
         "orientation": "h",
         "showlegend": true,
         "textposition": "auto",
         "type": "bar",
         "x": [
          413905311.968832
         ],
         "xaxis": "x",
         "y": [
          "M04"
         ],
         "yaxis": "y"
        },
        {
         "alignmentgroup": "True",
         "base": [
          "2026-04-01T05:20:53.650877"
         ],
         "hovertemplate": "<b>%{hovertext}</b><br><br>Job_ID=J115<br>Scheduled_Start=%{base}<br>Estimated_Completion_Time=%{x}<br>Assigned_Machine=%{y}<extra></extra>",
         "hovertext": [
          "J115"
         ],
         "legendgroup": "J115",
         "marker": {
          "color": "#FFA15A",
          "pattern": {
           "shape": ""
          }
         },
         "name": "J115",
         "offsetgroup": "J115",
         "orientation": "h",
         "showlegend": true,
         "textposition": "auto",
         "type": "bar",
         "x": [
          406769013.486612
         ],
         "xaxis": "x",
         "y": [
          "M04"
         ],
         "yaxis": "y"
        },
        {
         "alignmentgroup": "True",
         "base": [
          "2026-04-05T23:20:53.650877"
         ],
         "hovertemplate": "<b>%{hovertext}</b><br><br>Job_ID=J116<br>Scheduled_Start=%{base}<br>Estimated_Completion_Time=%{x}<br>Assigned_Machine=%{y}<extra></extra>",
         "hovertext": [
          "J116"
         ],
         "legendgroup": "J116",
         "marker": {
          "color": "#19d3f3",
          "pattern": {
           "shape": ""
          }
         },
         "name": "J116",
         "offsetgroup": "J116",
         "orientation": "h",
         "showlegend": true,
         "textposition": "auto",
         "type": "bar",
         "x": [
          276929368.366708
         ],
         "xaxis": "x",
         "y": [
          "M05"
         ],
         "yaxis": "y"
        },
        {
         "alignmentgroup": "True",
         "base": [
          "2026-04-09T04:20:53.650877"
         ],
         "hovertemplate": "<b>%{hovertext}</b><br><br>Job_ID=J117<br>Scheduled_Start=%{base}<br>Estimated_Completion_Time=%{x}<br>Assigned_Machine=%{y}<extra></extra>",
         "hovertext": [
          "J117"
         ],
         "legendgroup": "J117",
         "marker": {
          "color": "#FF6692",
          "pattern": {
           "shape": ""
          }
         },
         "name": "J117",
         "offsetgroup": "J117",
         "orientation": "h",
         "showlegend": true,
         "textposition": "auto",
         "type": "bar",
         "x": [
          239065999.154413
         ],
         "xaxis": "x",
         "y": [
          "M04"
         ],
         "yaxis": "y"
        },
        {
         "alignmentgroup": "True",
         "base": [
          "2026-04-11T23:20:53.650877"
         ],
         "hovertemplate": "<b>%{hovertext}</b><br><br>Job_ID=J118<br>Scheduled_Start=%{base}<br>Estimated_Completion_Time=%{x}<br>Assigned_Machine=%{y}<extra></extra>",
         "hovertext": [
          "J118"
         ],
         "legendgroup": "J118",
         "marker": {
          "color": "#B6E880",
          "pattern": {
           "shape": ""
          }
         },
         "name": "J118",
         "offsetgroup": "J118",
         "orientation": "h",
         "showlegend": true,
         "textposition": "auto",
         "type": "bar",
         "x": [
          244561000.635536
         ],
         "xaxis": "x",
         "y": [
          "M05"
         ],
         "yaxis": "y"
        },
        {
         "alignmentgroup": "True",
         "base": [
          "2026-04-14T19:20:53.650877"
         ],
         "hovertemplate": "<b>%{hovertext}</b><br><br>Job_ID=J119<br>Scheduled_Start=%{base}<br>Estimated_Completion_Time=%{x}<br>Assigned_Machine=%{y}<extra></extra>",
         "hovertext": [
          "J119"
         ],
         "legendgroup": "J119",
         "marker": {
          "color": "#FF97FF",
          "pattern": {
           "shape": ""
          }
         },
         "name": "J119",
         "offsetgroup": "J119",
         "orientation": "h",
         "showlegend": true,
         "textposition": "auto",
         "type": "bar",
         "x": [
          206952655.984416
         ],
         "xaxis": "x",
         "y": [
          "M04"
         ],
         "yaxis": "y"
        },
        {
         "alignmentgroup": "True",
         "base": [
          "2026-04-17T05:20:53.650877"
         ],
         "hovertemplate": "<b>%{hovertext}</b><br><br>Job_ID=J120<br>Scheduled_Start=%{base}<br>Estimated_Completion_Time=%{x}<br>Assigned_Machine=%{y}<extra></extra>",
         "hovertext": [
          "J120"
         ],
         "legendgroup": "J120",
         "marker": {
          "color": "#FECB52",
          "pattern": {
           "shape": ""
          }
         },
         "name": "J120",
         "offsetgroup": "J120",
         "orientation": "h",
         "showlegend": true,
         "textposition": "auto",
         "type": "bar",
         "x": [
          117748924.956651
         ],
         "xaxis": "x",
         "y": [
          "M04"
         ],
         "yaxis": "y"
        },
        {
         "alignmentgroup": "True",
         "base": [
          "2026-04-18T14:20:53.650877"
         ],
         "hovertemplate": "<b>%{hovertext}</b><br><br>Job_ID=J121<br>Scheduled_Start=%{base}<br>Estimated_Completion_Time=%{x}<br>Assigned_Machine=%{y}<extra></extra>",
         "hovertext": [
          "J121"
         ],
         "legendgroup": "J121",
         "marker": {
          "color": "#636efa",
          "pattern": {
           "shape": ""
          }
         },
         "name": "J121",
         "offsetgroup": "J121",
         "orientation": "h",
         "showlegend": true,
         "textposition": "auto",
         "type": "bar",
         "x": [
          139157820.403315
         ],
         "xaxis": "x",
         "y": [
          "M04"
         ],
         "yaxis": "y"
        },
        {
         "alignmentgroup": "True",
         "base": [
          "2026-04-20T05:20:53.650877"
         ],
         "hovertemplate": "<b>%{hovertext}</b><br><br>Job_ID=J122<br>Scheduled_Start=%{base}<br>Estimated_Completion_Time=%{x}<br>Assigned_Machine=%{y}<extra></extra>",
         "hovertext": [
          "J122"
         ],
         "legendgroup": "J122",
         "marker": {
          "color": "#EF553B",
          "pattern": {
           "shape": ""
          }
         },
         "name": "J122",
         "offsetgroup": "J122",
         "orientation": "h",
         "showlegend": true,
         "textposition": "auto",
         "type": "bar",
         "x": [
          363951222.593284
         ],
         "xaxis": "x",
         "y": [
          "M04"
         ],
         "yaxis": "y"
        },
        {
         "alignmentgroup": "True",
         "base": [
          "2026-04-24T11:20:53.650877"
         ],
         "hovertemplate": "<b>%{hovertext}</b><br><br>Job_ID=J123<br>Scheduled_Start=%{base}<br>Estimated_Completion_Time=%{x}<br>Assigned_Machine=%{y}<extra></extra>",
         "hovertext": [
          "J123"
         ],
         "legendgroup": "J123",
         "marker": {
          "color": "#00cc96",
          "pattern": {
           "shape": ""
          }
         },
         "name": "J123",
         "offsetgroup": "J123",
         "orientation": "h",
         "showlegend": true,
         "textposition": "auto",
         "type": "bar",
         "x": [
          303292685.494404
         ],
         "xaxis": "x",
         "y": [
          "M04"
         ],
         "yaxis": "y"
        },
        {
         "alignmentgroup": "True",
         "base": [
          "2026-04-28T00:20:53.650877"
         ],
         "hovertemplate": "<b>%{hovertext}</b><br><br>Job_ID=J124<br>Scheduled_Start=%{base}<br>Estimated_Completion_Time=%{x}<br>Assigned_Machine=%{y}<extra></extra>",
         "hovertext": [
          "J124"
         ],
         "legendgroup": "J124",
         "marker": {
          "color": "#ab63fa",
          "pattern": {
           "shape": ""
          }
         },
         "name": "J124",
         "offsetgroup": "J124",
         "orientation": "h",
         "showlegend": true,
         "textposition": "auto",
         "type": "bar",
         "x": [
          142725969.644425
         ],
         "xaxis": "x",
         "y": [
          "M04"
         ],
         "yaxis": "y"
        },
        {
         "alignmentgroup": "True",
         "base": [
          "2026-04-29T16:20:53.650877"
         ],
         "hovertemplate": "<b>%{hovertext}</b><br><br>Job_ID=J125<br>Scheduled_Start=%{base}<br>Estimated_Completion_Time=%{x}<br>Assigned_Machine=%{y}<extra></extra>",
         "hovertext": [
          "J125"
         ],
         "legendgroup": "J125",
         "marker": {
          "color": "#FFA15A",
          "pattern": {
           "shape": ""
          }
         },
         "name": "J125",
         "offsetgroup": "J125",
         "orientation": "h",
         "showlegend": true,
         "textposition": "auto",
         "type": "bar",
         "x": [
          273332883.063243
         ],
         "xaxis": "x",
         "y": [
          "M05"
         ],
         "yaxis": "y"
        },
        {
         "alignmentgroup": "True",
         "base": [
          "2026-05-02T20:20:53.650877"
         ],
         "hovertemplate": "<b>%{hovertext}</b><br><br>Job_ID=J126<br>Scheduled_Start=%{base}<br>Estimated_Completion_Time=%{x}<br>Assigned_Machine=%{y}<extra></extra>",
         "hovertext": [
          "J126"
         ],
         "legendgroup": "J126",
         "marker": {
          "color": "#19d3f3",
          "pattern": {
           "shape": ""
          }
         },
         "name": "J126",
         "offsetgroup": "J126",
         "orientation": "h",
         "showlegend": true,
         "textposition": "auto",
         "type": "bar",
         "x": [
          249770446.877743
         ],
         "xaxis": "x",
         "y": [
          "M04"
         ],
         "yaxis": "y"
        },
        {
         "alignmentgroup": "True",
         "base": [
          "2026-05-05T18:20:53.650877"
         ],
         "hovertemplate": "<b>%{hovertext}</b><br><br>Job_ID=J127<br>Scheduled_Start=%{base}<br>Estimated_Completion_Time=%{x}<br>Assigned_Machine=%{y}<extra></extra>",
         "hovertext": [
          "J127"
         ],
         "legendgroup": "J127",
         "marker": {
          "color": "#FF6692",
          "pattern": {
           "shape": ""
          }
         },
         "name": "J127",
         "offsetgroup": "J127",
         "orientation": "h",
         "showlegend": true,
         "textposition": "auto",
         "type": "bar",
         "x": [
          96340029.509988
         ],
         "xaxis": "x",
         "y": [
          "M04"
         ],
         "yaxis": "y"
        },
        {
         "alignmentgroup": "True",
         "base": [
          "2026-05-06T21:20:53.650877"
         ],
         "hovertemplate": "<b>%{hovertext}</b><br><br>Job_ID=J128<br>Scheduled_Start=%{base}<br>Estimated_Completion_Time=%{x}<br>Assigned_Machine=%{y}<extra></extra>",
         "hovertext": [
          "J128"
         ],
         "legendgroup": "J128",
         "marker": {
          "color": "#B6E880",
          "pattern": {
           "shape": ""
          }
         },
         "name": "J128",
         "offsetgroup": "J128",
         "orientation": "h",
         "showlegend": true,
         "textposition": "auto",
         "type": "bar",
         "x": [
          143859412.13855
         ],
         "xaxis": "x",
         "y": [
          "M05"
         ],
         "yaxis": "y"
        },
        {
         "alignmentgroup": "True",
         "base": [
          "2026-05-08T13:20:53.650877"
         ],
         "hovertemplate": "<b>%{hovertext}</b><br><br>Job_ID=J129<br>Scheduled_Start=%{base}<br>Estimated_Completion_Time=%{x}<br>Assigned_Machine=%{y}<extra></extra>",
         "hovertext": [
          "J129"
         ],
         "legendgroup": "J129",
         "marker": {
          "color": "#FF97FF",
          "pattern": {
           "shape": ""
          }
         },
         "name": "J129",
         "offsetgroup": "J129",
         "orientation": "h",
         "showlegend": true,
         "textposition": "auto",
         "type": "bar",
         "x": [
          161841838.655869
         ],
         "xaxis": "x",
         "y": [
          "M05"
         ],
         "yaxis": "y"
        },
        {
         "alignmentgroup": "True",
         "base": [
          "2026-05-10T10:20:53.650877"
         ],
         "hovertemplate": "<b>%{hovertext}</b><br><br>Job_ID=J130<br>Scheduled_Start=%{base}<br>Estimated_Completion_Time=%{x}<br>Assigned_Machine=%{y}<extra></extra>",
         "hovertext": [
          "J130"
         ],
         "legendgroup": "J130",
         "marker": {
          "color": "#FECB52",
          "pattern": {
           "shape": ""
          }
         },
         "name": "J130",
         "offsetgroup": "J130",
         "orientation": "h",
         "showlegend": true,
         "textposition": "auto",
         "type": "bar",
         "x": [
          278315640.80663
         ],
         "xaxis": "x",
         "y": [
          "M04"
         ],
         "yaxis": "y"
        },
        {
         "alignmentgroup": "True",
         "base": [
          "2026-05-13T16:20:53.650877"
         ],
         "hovertemplate": "<b>%{hovertext}</b><br><br>Job_ID=J131<br>Scheduled_Start=%{base}<br>Estimated_Completion_Time=%{x}<br>Assigned_Machine=%{y}<extra></extra>",
         "hovertext": [
          "J131"
         ],
         "legendgroup": "J131",
         "marker": {
          "color": "#636efa",
          "pattern": {
           "shape": ""
          }
         },
         "name": "J131",
         "offsetgroup": "J131",
         "orientation": "h",
         "showlegend": true,
         "textposition": "auto",
         "type": "bar",
         "x": [
          278315640.80663
         ],
         "xaxis": "x",
         "y": [
          "M04"
         ],
         "yaxis": "y"
        },
        {
         "alignmentgroup": "True",
         "base": [
          "2026-05-16T22:20:53.650877"
         ],
         "hovertemplate": "<b>%{hovertext}</b><br><br>Job_ID=J132<br>Scheduled_Start=%{base}<br>Estimated_Completion_Time=%{x}<br>Assigned_Machine=%{y}<extra></extra>",
         "hovertext": [
          "J132"
         ],
         "legendgroup": "J132",
         "marker": {
          "color": "#EF553B",
          "pattern": {
           "shape": ""
          }
         },
         "name": "J132",
         "offsetgroup": "J132",
         "orientation": "h",
         "showlegend": true,
         "textposition": "auto",
         "type": "bar",
         "x": [
          249770446.877743
         ],
         "xaxis": "x",
         "y": [
          "M04"
         ],
         "yaxis": "y"
        },
        {
         "alignmentgroup": "True",
         "base": [
          "2026-05-19T20:20:53.650877"
         ],
         "hovertemplate": "<b>%{hovertext}</b><br><br>Job_ID=J133<br>Scheduled_Start=%{base}<br>Estimated_Completion_Time=%{x}<br>Assigned_Machine=%{y}<extra></extra>",
         "hovertext": [
          "J133"
         ],
         "legendgroup": "J133",
         "marker": {
          "color": "#00cc96",
          "pattern": {
           "shape": ""
          }
         },
         "name": "J133",
         "offsetgroup": "J133",
         "orientation": "h",
         "showlegend": true,
         "textposition": "auto",
         "type": "bar",
         "x": [
          303292685.494404
         ],
         "xaxis": "x",
         "y": [
          "M04"
         ],
         "yaxis": "y"
        },
        {
         "alignmentgroup": "True",
         "base": [
          "2026-05-23T09:20:53.650877"
         ],
         "hovertemplate": "<b>%{hovertext}</b><br><br>Job_ID=J134<br>Scheduled_Start=%{base}<br>Estimated_Completion_Time=%{x}<br>Assigned_Machine=%{y}<extra></extra>",
         "hovertext": [
          "J134"
         ],
         "legendgroup": "J134",
         "marker": {
          "color": "#ab63fa",
          "pattern": {
           "shape": ""
          }
         },
         "name": "J134",
         "offsetgroup": "J134",
         "orientation": "h",
         "showlegend": true,
         "textposition": "auto",
         "type": "bar",
         "x": [
          255350456.545924
         ],
         "xaxis": "x",
         "y": [
          "M05"
         ],
         "yaxis": "y"
        },
        {
         "alignmentgroup": "True",
         "base": [
          "2026-05-26T08:20:53.650877"
         ],
         "hovertemplate": "<b>%{hovertext}</b><br><br>Job_ID=J135<br>Scheduled_Start=%{base}<br>Estimated_Completion_Time=%{x}<br>Assigned_Machine=%{y}<extra></extra>",
         "hovertext": [
          "J135"
         ],
         "legendgroup": "J135",
         "marker": {
          "color": "#FFA15A",
          "pattern": {
           "shape": ""
          }
         },
         "name": "J135",
         "offsetgroup": "J135",
         "orientation": "h",
         "showlegend": true,
         "textposition": "auto",
         "type": "bar",
         "x": [
          82067432.545544
         ],
         "xaxis": "x",
         "y": [
          "M04"
         ],
         "yaxis": "y"
        },
        {
         "alignmentgroup": "True",
         "base": [
          "2026-05-27T07:20:53.650877"
         ],
         "hovertemplate": "<b>%{hovertext}</b><br><br>Job_ID=J136<br>Scheduled_Start=%{base}<br>Estimated_Completion_Time=%{x}<br>Assigned_Machine=%{y}<extra></extra>",
         "hovertext": [
          "J136"
         ],
         "legendgroup": "J136",
         "marker": {
          "color": "#19d3f3",
          "pattern": {
           "shape": ""
          }
         },
         "name": "J136",
         "offsetgroup": "J136",
         "orientation": "h",
         "showlegend": true,
         "textposition": "auto",
         "type": "bar",
         "x": [
          278315640.80663
         ],
         "xaxis": "x",
         "y": [
          "M04"
         ],
         "yaxis": "y"
        },
        {
         "alignmentgroup": "True",
         "base": [
          "2026-05-30T13:20:53.650877"
         ],
         "hovertemplate": "<b>%{hovertext}</b><br><br>Job_ID=J137<br>Scheduled_Start=%{base}<br>Estimated_Completion_Time=%{x}<br>Assigned_Machine=%{y}<extra></extra>",
         "hovertext": [
          "J137"
         ],
         "legendgroup": "J137",
         "marker": {
          "color": "#FF6692",
          "pattern": {
           "shape": ""
          }
         },
         "name": "J137",
         "offsetgroup": "J137",
         "orientation": "h",
         "showlegend": true,
         "textposition": "auto",
         "type": "bar",
         "x": [
          324701580.941067
         ],
         "xaxis": "x",
         "y": [
          "M04"
         ],
         "yaxis": "y"
        },
        {
         "alignmentgroup": "True",
         "base": [
          "2026-06-03T08:20:53.650877"
         ],
         "hovertemplate": "<b>%{hovertext}</b><br><br>Job_ID=J138<br>Scheduled_Start=%{base}<br>Estimated_Completion_Time=%{x}<br>Assigned_Machine=%{y}<extra></extra>",
         "hovertext": [
          "J138"
         ],
         "legendgroup": "J138",
         "marker": {
          "color": "#B6E880",
          "pattern": {
           "shape": ""
          }
         },
         "name": "J138",
         "offsetgroup": "J138",
         "orientation": "h",
         "showlegend": true,
         "textposition": "auto",
         "type": "bar",
         "x": [
          231929700.672189
         ],
         "xaxis": "x",
         "y": [
          "M04"
         ],
         "yaxis": "y"
        },
        {
         "alignmentgroup": "True",
         "base": [
          "2026-06-06T01:20:53.650877"
         ],
         "hovertemplate": "<b>%{hovertext}</b><br><br>Job_ID=J139<br>Scheduled_Start=%{base}<br>Estimated_Completion_Time=%{x}<br>Assigned_Machine=%{y}<extra></extra>",
         "hovertext": [
          "J139"
         ],
         "legendgroup": "J139",
         "marker": {
          "color": "#FF97FF",
          "pattern": {
           "shape": ""
          }
         },
         "name": "J139",
         "offsetgroup": "J139",
         "orientation": "h",
         "showlegend": true,
         "textposition": "auto",
         "type": "bar",
         "x": [
          160566715.849978
         ],
         "xaxis": "x",
         "y": [
          "M04"
         ],
         "yaxis": "y"
        },
        {
         "alignmentgroup": "True",
         "base": [
          "2026-06-07T22:20:53.650877"
         ],
         "hovertemplate": "<b>%{hovertext}</b><br><br>Job_ID=J140<br>Scheduled_Start=%{base}<br>Estimated_Completion_Time=%{x}<br>Assigned_Machine=%{y}<extra></extra>",
         "hovertext": [
          "J140"
         ],
         "legendgroup": "J140",
         "marker": {
          "color": "#FECB52",
          "pattern": {
           "shape": ""
          }
         },
         "name": "J140",
         "offsetgroup": "J140",
         "orientation": "h",
         "showlegend": true,
         "textposition": "auto",
         "type": "bar",
         "x": [
          356814924.111064
         ],
         "xaxis": "x",
         "y": [
          "M04"
         ],
         "yaxis": "y"
        },
        {
         "alignmentgroup": "True",
         "base": [
          "2026-06-12T02:20:53.650877"
         ],
         "hovertemplate": "<b>%{hovertext}</b><br><br>Job_ID=J141<br>Scheduled_Start=%{base}<br>Estimated_Completion_Time=%{x}<br>Assigned_Machine=%{y}<extra></extra>",
         "hovertext": [
          "J141"
         ],
         "legendgroup": "J141",
         "marker": {
          "color": "#636efa",
          "pattern": {
           "shape": ""
          }
         },
         "name": "J141",
         "offsetgroup": "J141",
         "orientation": "h",
         "showlegend": true,
         "textposition": "auto",
         "type": "bar",
         "x": [
          356814924.111064
         ],
         "xaxis": "x",
         "y": [
          "M04"
         ],
         "yaxis": "y"
        },
        {
         "alignmentgroup": "True",
         "base": [
          "2026-06-16T06:20:53.650877"
         ],
         "hovertemplate": "<b>%{hovertext}</b><br><br>Job_ID=J142<br>Scheduled_Start=%{base}<br>Estimated_Completion_Time=%{x}<br>Assigned_Machine=%{y}<extra></extra>",
         "hovertext": [
          "J142"
         ],
         "legendgroup": "J142",
         "marker": {
          "color": "#EF553B",
          "pattern": {
           "shape": ""
          }
         },
         "name": "J142",
         "offsetgroup": "J142",
         "orientation": "h",
         "showlegend": true,
         "textposition": "auto",
         "type": "bar",
         "x": [
          392496416.522168
         ],
         "xaxis": "x",
         "y": [
          "M04"
         ],
         "yaxis": "y"
        },
        {
         "alignmentgroup": "True",
         "base": [
          "2026-06-20T20:20:53.650877"
         ],
         "hovertemplate": "<b>%{hovertext}</b><br><br>Job_ID=J143<br>Scheduled_Start=%{base}<br>Estimated_Completion_Time=%{x}<br>Assigned_Machine=%{y}<extra></extra>",
         "hovertext": [
          "J143"
         ],
         "legendgroup": "J143",
         "marker": {
          "color": "#00cc96",
          "pattern": {
           "shape": ""
          }
         },
         "name": "J143",
         "offsetgroup": "J143",
         "orientation": "h",
         "showlegend": true,
         "textposition": "auto",
         "type": "bar",
         "x": [
          118684015.014304
         ],
         "xaxis": "x",
         "y": [
          "M05"
         ],
         "yaxis": "y"
        },
        {
         "alignmentgroup": "True",
         "base": [
          "2026-06-22T05:20:53.650877"
         ],
         "hovertemplate": "<b>%{hovertext}</b><br><br>Job_ID=J144<br>Scheduled_Start=%{base}<br>Estimated_Completion_Time=%{x}<br>Assigned_Machine=%{y}<extra></extra>",
         "hovertext": [
          "J144"
         ],
         "legendgroup": "J144",
         "marker": {
          "color": "#ab63fa",
          "pattern": {
           "shape": ""
          }
         },
         "name": "J144",
         "offsetgroup": "J144",
         "orientation": "h",
         "showlegend": true,
         "textposition": "auto",
         "type": "bar",
         "x": [
          167703014.332198
         ],
         "xaxis": "x",
         "y": [
          "M04"
         ],
         "yaxis": "y"
        },
        {
         "alignmentgroup": "True",
         "base": [
          "2026-06-24T04:20:53.650877"
         ],
         "hovertemplate": "<b>%{hovertext}</b><br><br>Job_ID=J145<br>Scheduled_Start=%{base}<br>Estimated_Completion_Time=%{x}<br>Assigned_Machine=%{y}<extra></extra>",
         "hovertext": [
          "J145"
         ],
         "legendgroup": "J145",
         "marker": {
          "color": "#FFA15A",
          "pattern": {
           "shape": ""
          }
         },
         "name": "J145",
         "offsetgroup": "J145",
         "orientation": "h",
         "showlegend": true,
         "textposition": "auto",
         "type": "bar",
         "x": [
          79122676.676202
         ],
         "xaxis": "x",
         "y": [
          "M05"
         ],
         "yaxis": "y"
        },
        {
         "alignmentgroup": "True",
         "base": [
          "2026-06-25T02:20:53.650877"
         ],
         "hovertemplate": "<b>%{hovertext}</b><br><br>Job_ID=J146<br>Scheduled_Start=%{base}<br>Estimated_Completion_Time=%{x}<br>Assigned_Machine=%{y}<extra></extra>",
         "hovertext": [
          "J146"
         ],
         "legendgroup": "J146",
         "marker": {
          "color": "#19d3f3",
          "pattern": {
           "shape": ""
          }
         },
         "name": "J146",
         "offsetgroup": "J146",
         "orientation": "h",
         "showlegend": true,
         "textposition": "auto",
         "type": "bar",
         "x": [
          222982088.814752
         ],
         "xaxis": "x",
         "y": [
          "M05"
         ],
         "yaxis": "y"
        },
        {
         "alignmentgroup": "True",
         "base": [
          "2026-06-27T16:20:53.650877"
         ],
         "hovertemplate": "<b>%{hovertext}</b><br><br>Job_ID=J147<br>Scheduled_Start=%{base}<br>Estimated_Completion_Time=%{x}<br>Assigned_Machine=%{y}<extra></extra>",
         "hovertext": [
          "J147"
         ],
         "legendgroup": "J147",
         "marker": {
          "color": "#FF6692",
          "pattern": {
           "shape": ""
          }
         },
         "name": "J147",
         "offsetgroup": "J147",
         "orientation": "h",
         "showlegend": true,
         "textposition": "auto",
         "type": "bar",
         "x": [
          103476327.992208
         ],
         "xaxis": "x",
         "y": [
          "M04"
         ],
         "yaxis": "y"
        },
        {
         "alignmentgroup": "True",
         "base": [
          "2026-06-28T21:20:53.650877"
         ],
         "hovertemplate": "<b>%{hovertext}</b><br><br>Job_ID=J148<br>Scheduled_Start=%{base}<br>Estimated_Completion_Time=%{x}<br>Assigned_Machine=%{y}<extra></extra>",
         "hovertext": [
          "J148"
         ],
         "legendgroup": "J148",
         "marker": {
          "color": "#B6E880",
          "pattern": {
           "shape": ""
          }
         },
         "name": "J148",
         "offsetgroup": "J148",
         "orientation": "h",
         "showlegend": true,
         "textposition": "auto",
         "type": "bar",
         "x": [
          140262926.835085
         ],
         "xaxis": "x",
         "y": [
          "M05"
         ],
         "yaxis": "y"
        },
        {
         "alignmentgroup": "True",
         "base": [
          "2026-06-30T12:20:53.650877"
         ],
         "hovertemplate": "<b>%{hovertext}</b><br><br>Job_ID=J149<br>Scheduled_Start=%{base}<br>Estimated_Completion_Time=%{x}<br>Assigned_Machine=%{y}<extra></extra>",
         "hovertext": [
          "J149"
         ],
         "legendgroup": "J149",
         "marker": {
          "color": "#FF97FF",
          "pattern": {
           "shape": ""
          }
         },
         "name": "J149",
         "offsetgroup": "J149",
         "orientation": "h",
         "showlegend": true,
         "textposition": "auto",
         "type": "bar",
         "x": [
          356814924.111064
         ],
         "xaxis": "x",
         "y": [
          "M04"
         ],
         "yaxis": "y"
        },
        {
         "alignmentgroup": "True",
         "base": [
          "2026-07-04T16:20:53.650877"
         ],
         "hovertemplate": "<b>%{hovertext}</b><br><br>Job_ID=J150<br>Scheduled_Start=%{base}<br>Estimated_Completion_Time=%{x}<br>Assigned_Machine=%{y}<extra></extra>",
         "hovertext": [
          "J150"
         ],
         "legendgroup": "J150",
         "marker": {
          "color": "#FECB52",
          "pattern": {
           "shape": ""
          }
         },
         "name": "J150",
         "offsetgroup": "J150",
         "orientation": "h",
         "showlegend": true,
         "textposition": "auto",
         "type": "bar",
         "x": [
          189111909.778862
         ],
         "xaxis": "x",
         "y": [
          "M04"
         ],
         "yaxis": "y"
        },
        {
         "alignmentgroup": "True",
         "base": [
          "2026-07-06T21:20:53.650877"
         ],
         "hovertemplate": "<b>%{hovertext}</b><br><br>Job_ID=J151<br>Scheduled_Start=%{base}<br>Estimated_Completion_Time=%{x}<br>Assigned_Machine=%{y}<extra></extra>",
         "hovertext": [
          "J151"
         ],
         "legendgroup": "J151",
         "marker": {
          "color": "#636efa",
          "pattern": {
           "shape": ""
          }
         },
         "name": "J151",
         "offsetgroup": "J151",
         "orientation": "h",
         "showlegend": true,
         "textposition": "auto",
         "type": "bar",
         "x": [
          71362984.822214
         ],
         "xaxis": "x",
         "y": [
          "M04"
         ],
         "yaxis": "y"
        },
        {
         "alignmentgroup": "True",
         "base": [
          "2026-07-07T17:20:53.650877"
         ],
         "hovertemplate": "<b>%{hovertext}</b><br><br>Job_ID=J152<br>Scheduled_Start=%{base}<br>Estimated_Completion_Time=%{x}<br>Assigned_Machine=%{y}<extra></extra>",
         "hovertext": [
          "J152"
         ],
         "legendgroup": "J152",
         "marker": {
          "color": "#EF553B",
          "pattern": {
           "shape": ""
          }
         },
         "name": "J152",
         "offsetgroup": "J152",
         "orientation": "h",
         "showlegend": true,
         "textposition": "auto",
         "type": "bar",
         "x": [
          381227442.167156
         ],
         "xaxis": "x",
         "y": [
          "M05"
         ],
         "yaxis": "y"
        },
        {
         "alignmentgroup": "True",
         "base": [
          "2026-07-12T03:20:53.650877"
         ],
         "hovertemplate": "<b>%{hovertext}</b><br><br>Job_ID=J153<br>Scheduled_Start=%{base}<br>Estimated_Completion_Time=%{x}<br>Assigned_Machine=%{y}<extra></extra>",
         "hovertext": [
          "J153"
         ],
         "legendgroup": "J153",
         "marker": {
          "color": "#00cc96",
          "pattern": {
           "shape": ""
          }
         },
         "name": "J153",
         "offsetgroup": "J153",
         "orientation": "h",
         "showlegend": true,
         "textposition": "auto",
         "type": "bar",
         "x": [
          235497849.913303
         ],
         "xaxis": "x",
         "y": [
          "M04"
         ],
         "yaxis": "y"
        },
        {
         "alignmentgroup": "True",
         "base": [
          "2026-07-14T21:20:53.650877"
         ],
         "hovertemplate": "<b>%{hovertext}</b><br><br>Job_ID=J154<br>Scheduled_Start=%{base}<br>Estimated_Completion_Time=%{x}<br>Assigned_Machine=%{y}<extra></extra>",
         "hovertext": [
          "J154"
         ],
         "legendgroup": "J154",
         "marker": {
          "color": "#ab63fa",
          "pattern": {
           "shape": ""
          }
         },
         "name": "J154",
         "offsetgroup": "J154",
         "orientation": "h",
         "showlegend": true,
         "textposition": "auto",
         "type": "bar",
         "x": [
          396064565.763278
         ],
         "xaxis": "x",
         "y": [
          "M04"
         ],
         "yaxis": "y"
        },
        {
         "alignmentgroup": "True",
         "base": [
          "2026-07-19T12:20:53.650877"
         ],
         "hovertemplate": "<b>%{hovertext}</b><br><br>Job_ID=J155<br>Scheduled_Start=%{base}<br>Estimated_Completion_Time=%{x}<br>Assigned_Machine=%{y}<extra></extra>",
         "hovertext": [
          "J155"
         ],
         "legendgroup": "J155",
         "marker": {
          "color": "#FFA15A",
          "pattern": {
           "shape": ""
          }
         },
         "name": "J155",
         "offsetgroup": "J155",
         "orientation": "h",
         "showlegend": true,
         "textposition": "auto",
         "type": "bar",
         "x": [
          142725969.644425
         ],
         "xaxis": "x",
         "y": [
          "M04"
         ],
         "yaxis": "y"
        },
        {
         "alignmentgroup": "True",
         "base": [
          "2026-07-21T04:20:53.650877"
         ],
         "hovertemplate": "<b>%{hovertext}</b><br><br>Job_ID=J156<br>Scheduled_Start=%{base}<br>Estimated_Completion_Time=%{x}<br>Assigned_Machine=%{y}<extra></extra>",
         "hovertext": [
          "J156"
         ],
         "legendgroup": "J156",
         "marker": {
          "color": "#19d3f3",
          "pattern": {
           "shape": ""
          }
         },
         "name": "J156",
         "offsetgroup": "J156",
         "orientation": "h",
         "showlegend": true,
         "textposition": "auto",
         "type": "bar",
         "x": [
          246202297.636633
         ],
         "xaxis": "x",
         "y": [
          "M04"
         ],
         "yaxis": "y"
        },
        {
         "alignmentgroup": "True",
         "base": [
          "2026-07-24T01:20:53.650877"
         ],
         "hovertemplate": "<b>%{hovertext}</b><br><br>Job_ID=J157<br>Scheduled_Start=%{base}<br>Estimated_Completion_Time=%{x}<br>Assigned_Machine=%{y}<extra></extra>",
         "hovertext": [
          "J157"
         ],
         "legendgroup": "J157",
         "marker": {
          "color": "#FF6692",
          "pattern": {
           "shape": ""
          }
         },
         "name": "J157",
         "offsetgroup": "J157",
         "orientation": "h",
         "showlegend": true,
         "textposition": "auto",
         "type": "bar",
         "x": [
          212192632.90436
         ],
         "xaxis": "x",
         "y": [
          "M05"
         ],
         "yaxis": "y"
        },
        {
         "alignmentgroup": "True",
         "base": [
          "2026-07-26T12:20:53.650877"
         ],
         "hovertemplate": "<b>%{hovertext}</b><br><br>Job_ID=J158<br>Scheduled_Start=%{base}<br>Estimated_Completion_Time=%{x}<br>Assigned_Machine=%{y}<extra></extra>",
         "hovertext": [
          "J158"
         ],
         "legendgroup": "J158",
         "marker": {
          "color": "#B6E880",
          "pattern": {
           "shape": ""
          }
         },
         "name": "J158",
         "offsetgroup": "J158",
         "orientation": "h",
         "showlegend": true,
         "textposition": "auto",
         "type": "bar",
         "x": [
          403200864.245502
         ],
         "xaxis": "x",
         "y": [
          "M04"
         ],
         "yaxis": "y"
        },
        {
         "alignmentgroup": "True",
         "base": [
          "2026-07-31T05:20:53.650877"
         ],
         "hovertemplate": "<b>%{hovertext}</b><br><br>Job_ID=J159<br>Scheduled_Start=%{base}<br>Estimated_Completion_Time=%{x}<br>Assigned_Machine=%{y}<extra></extra>",
         "hovertext": [
          "J159"
         ],
         "legendgroup": "J159",
         "marker": {
          "color": "#FF97FF",
          "pattern": {
           "shape": ""
          }
         },
         "name": "J159",
         "offsetgroup": "J159",
         "orientation": "h",
         "showlegend": true,
         "textposition": "auto",
         "type": "bar",
         "x": [
          165438323.95933
         ],
         "xaxis": "x",
         "y": [
          "M05"
         ],
         "yaxis": "y"
        },
        {
         "alignmentgroup": "True",
         "base": [
          "2026-08-02T03:20:53.650877"
         ],
         "hovertemplate": "<b>%{hovertext}</b><br><br>Job_ID=J160<br>Scheduled_Start=%{base}<br>Estimated_Completion_Time=%{x}<br>Assigned_Machine=%{y}<extra></extra>",
         "hovertext": [
          "J160"
         ],
         "legendgroup": "J160",
         "marker": {
          "color": "#FECB52",
          "pattern": {
           "shape": ""
          }
         },
         "name": "J160",
         "offsetgroup": "J160",
         "orientation": "h",
         "showlegend": true,
         "textposition": "auto",
         "type": "bar",
         "x": [
          421041610.451055
         ],
         "xaxis": "x",
         "y": [
          "M04"
         ],
         "yaxis": "y"
        },
        {
         "alignmentgroup": "True",
         "base": [
          "2026-08-07T01:20:53.650877"
         ],
         "hovertemplate": "<b>%{hovertext}</b><br><br>Job_ID=J161<br>Scheduled_Start=%{base}<br>Estimated_Completion_Time=%{x}<br>Assigned_Machine=%{y}<extra></extra>",
         "hovertext": [
          "J161"
         ],
         "legendgroup": "J161",
         "marker": {
          "color": "#636efa",
          "pattern": {
           "shape": ""
          }
         },
         "name": "J161",
         "offsetgroup": "J161",
         "orientation": "h",
         "showlegend": true,
         "textposition": "auto",
         "type": "bar",
         "x": [
          192680059.019972
         ],
         "xaxis": "x",
         "y": [
          "M04"
         ],
         "yaxis": "y"
        },
        {
         "alignmentgroup": "True",
         "base": [
          "2026-08-09T07:20:53.650877"
         ],
         "hovertemplate": "<b>%{hovertext}</b><br><br>Job_ID=J162<br>Scheduled_Start=%{base}<br>Estimated_Completion_Time=%{x}<br>Assigned_Machine=%{y}<extra></extra>",
         "hovertext": [
          "J162"
         ],
         "legendgroup": "J162",
         "marker": {
          "color": "#EF553B",
          "pattern": {
           "shape": ""
          }
         },
         "name": "J162",
         "offsetgroup": "J162",
         "orientation": "h",
         "showlegend": true,
         "textposition": "auto",
         "type": "bar",
         "x": [
          206952655.984416
         ],
         "xaxis": "x",
         "y": [
          "M04"
         ],
         "yaxis": "y"
        },
        {
         "alignmentgroup": "True",
         "base": [
          "2026-08-11T17:20:53.650877"
         ],
         "hovertemplate": "<b>%{hovertext}</b><br><br>Job_ID=J163<br>Scheduled_Start=%{base}<br>Estimated_Completion_Time=%{x}<br>Assigned_Machine=%{y}<extra></extra>",
         "hovertext": [
          "J163"
         ],
         "legendgroup": "J163",
         "marker": {
          "color": "#00cc96",
          "pattern": {
           "shape": ""
          }
         },
         "name": "J163",
         "offsetgroup": "J163",
         "orientation": "h",
         "showlegend": true,
         "textposition": "auto",
         "type": "bar",
         "x": [
          154648868.048942
         ],
         "xaxis": "x",
         "y": [
          "M05"
         ],
         "yaxis": "y"
        },
        {
         "alignmentgroup": "True",
         "base": [
          "2026-08-13T12:20:53.650877"
         ],
         "hovertemplate": "<b>%{hovertext}</b><br><br>Job_ID=J164<br>Scheduled_Start=%{base}<br>Estimated_Completion_Time=%{x}<br>Assigned_Machine=%{y}<extra></extra>",
         "hovertext": [
          "J164"
         ],
         "legendgroup": "J164",
         "marker": {
          "color": "#ab63fa",
          "pattern": {
           "shape": ""
          }
         },
         "name": "J164",
         "offsetgroup": "J164",
         "orientation": "h",
         "showlegend": true,
         "textposition": "auto",
         "type": "bar",
         "x": [
          199816357.502196
         ],
         "xaxis": "x",
         "y": [
          "M04"
         ],
         "yaxis": "y"
        },
        {
         "alignmentgroup": "True",
         "base": [
          "2026-08-15T20:20:53.650877"
         ],
         "hovertemplate": "<b>%{hovertext}</b><br><br>Job_ID=J165<br>Scheduled_Start=%{base}<br>Estimated_Completion_Time=%{x}<br>Assigned_Machine=%{y}<extra></extra>",
         "hovertext": [
          "J165"
         ],
         "legendgroup": "J165",
         "marker": {
          "color": "#FFA15A",
          "pattern": {
           "shape": ""
          }
         },
         "name": "J165",
         "offsetgroup": "J165",
         "orientation": "h",
         "showlegend": true,
         "textposition": "auto",
         "type": "bar",
         "x": [
          103476327.992208
         ],
         "xaxis": "x",
         "y": [
          "M04"
         ],
         "yaxis": "y"
        },
        {
         "alignmentgroup": "True",
         "base": [
          "2026-08-17T01:20:53.650877"
         ],
         "hovertemplate": "<b>%{hovertext}</b><br><br>Job_ID=J166<br>Scheduled_Start=%{base}<br>Estimated_Completion_Time=%{x}<br>Assigned_Machine=%{y}<extra></extra>",
         "hovertext": [
          "J166"
         ],
         "legendgroup": "J166",
         "marker": {
          "color": "#19d3f3",
          "pattern": {
           "shape": ""
          }
         },
         "name": "J166",
         "offsetgroup": "J166",
         "orientation": "h",
         "showlegend": true,
         "textposition": "auto",
         "type": "bar",
         "x": [
          219385603.511287
         ],
         "xaxis": "x",
         "y": [
          "M05"
         ],
         "yaxis": "y"
        },
        {
         "alignmentgroup": "True",
         "base": [
          "2026-08-19T14:20:53.650877"
         ],
         "hovertemplate": "<b>%{hovertext}</b><br><br>Job_ID=J167<br>Scheduled_Start=%{base}<br>Estimated_Completion_Time=%{x}<br>Assigned_Machine=%{y}<extra></extra>",
         "hovertext": [
          "J167"
         ],
         "legendgroup": "J167",
         "marker": {
          "color": "#FF6692",
          "pattern": {
           "shape": ""
          }
         },
         "name": "J167",
         "offsetgroup": "J167",
         "orientation": "h",
         "showlegend": true,
         "textposition": "auto",
         "type": "bar",
         "x": [
          124885223.438871
         ],
         "xaxis": "x",
         "y": [
          "M04"
         ],
         "yaxis": "y"
        },
        {
         "alignmentgroup": "True",
         "base": [
          "2026-08-21T01:20:53.650877"
         ],
         "hovertemplate": "<b>%{hovertext}</b><br><br>Job_ID=J168<br>Scheduled_Start=%{base}<br>Estimated_Completion_Time=%{x}<br>Assigned_Machine=%{y}<extra></extra>",
         "hovertext": [
          "J168"
         ],
         "legendgroup": "J168",
         "marker": {
          "color": "#B6E880",
          "pattern": {
           "shape": ""
          }
         },
         "name": "J168",
         "offsetgroup": "J168",
         "orientation": "h",
         "showlegend": true,
         "textposition": "auto",
         "type": "bar",
         "x": [
          132021521.921091
         ],
         "xaxis": "x",
         "y": [
          "M04"
         ],
         "yaxis": "y"
        },
        {
         "alignmentgroup": "True",
         "base": [
          "2026-08-22T14:20:53.650877"
         ],
         "hovertemplate": "<b>%{hovertext}</b><br><br>Job_ID=J169<br>Scheduled_Start=%{base}<br>Estimated_Completion_Time=%{x}<br>Assigned_Machine=%{y}<extra></extra>",
         "hovertext": [
          "J169"
         ],
         "legendgroup": "J169",
         "marker": {
          "color": "#FF97FF",
          "pattern": {
           "shape": ""
          }
         },
         "name": "J169",
         "offsetgroup": "J169",
         "orientation": "h",
         "showlegend": true,
         "textposition": "auto",
         "type": "bar",
         "x": [
          82719161.979667
         ],
         "xaxis": "x",
         "y": [
          "M05"
         ],
         "yaxis": "y"
        },
        {
         "alignmentgroup": "True",
         "base": [
          "2026-08-23T13:20:53.650877"
         ],
         "hovertemplate": "<b>%{hovertext}</b><br><br>Job_ID=J170<br>Scheduled_Start=%{base}<br>Estimated_Completion_Time=%{x}<br>Assigned_Machine=%{y}<extra></extra>",
         "hovertext": [
          "J170"
         ],
         "legendgroup": "J170",
         "marker": {
          "color": "#FECB52",
          "pattern": {
           "shape": ""
          }
         },
         "name": "J170",
         "offsetgroup": "J170",
         "orientation": "h",
         "showlegend": true,
         "textposition": "auto",
         "type": "bar",
         "x": [
          363951222.593284
         ],
         "xaxis": "x",
         "y": [
          "M04"
         ],
         "yaxis": "y"
        },
        {
         "alignmentgroup": "True",
         "base": [
          "2026-08-27T19:20:53.650877"
         ],
         "hovertemplate": "<b>%{hovertext}</b><br><br>Job_ID=J171<br>Scheduled_Start=%{base}<br>Estimated_Completion_Time=%{x}<br>Assigned_Machine=%{y}<extra></extra>",
         "hovertext": [
          "J171"
         ],
         "legendgroup": "J171",
         "marker": {
          "color": "#636efa",
          "pattern": {
           "shape": ""
          }
         },
         "name": "J171",
         "offsetgroup": "J171",
         "orientation": "h",
         "showlegend": true,
         "textposition": "auto",
         "type": "bar",
         "x": [
          256906745.359966
         ],
         "xaxis": "x",
         "y": [
          "M04"
         ],
         "yaxis": "y"
        },
        {
         "alignmentgroup": "True",
         "base": [
          "2026-08-30T19:20:53.650877"
         ],
         "hovertemplate": "<b>%{hovertext}</b><br><br>Job_ID=J172<br>Scheduled_Start=%{base}<br>Estimated_Completion_Time=%{x}<br>Assigned_Machine=%{y}<extra></extra>",
         "hovertext": [
          "J172"
         ],
         "legendgroup": "J172",
         "marker": {
          "color": "#EF553B",
          "pattern": {
           "shape": ""
          }
         },
         "name": "J172",
         "offsetgroup": "J172",
         "orientation": "h",
         "showlegend": true,
         "textposition": "auto",
         "type": "bar",
         "x": [
          289020088.52996
         ],
         "xaxis": "x",
         "y": [
          "M04"
         ],
         "yaxis": "y"
        },
        {
         "alignmentgroup": "True",
         "base": [
          "2026-09-03T04:20:53.650877"
         ],
         "hovertemplate": "<b>%{hovertext}</b><br><br>Job_ID=J173<br>Scheduled_Start=%{base}<br>Estimated_Completion_Time=%{x}<br>Assigned_Machine=%{y}<extra></extra>",
         "hovertext": [
          "J173"
         ],
         "legendgroup": "J173",
         "marker": {
          "color": "#00cc96",
          "pattern": {
           "shape": ""
          }
         },
         "name": "J173",
         "offsetgroup": "J173",
         "orientation": "h",
         "showlegend": true,
         "textposition": "auto",
         "type": "bar",
         "x": [
          228361551.431079
         ],
         "xaxis": "x",
         "y": [
          "M04"
         ],
         "yaxis": "y"
        },
        {
         "alignmentgroup": "True",
         "base": [
          "2026-09-05T20:20:53.650877"
         ],
         "hovertemplate": "<b>%{hovertext}</b><br><br>Job_ID=J174<br>Scheduled_Start=%{base}<br>Estimated_Completion_Time=%{x}<br>Assigned_Machine=%{y}<extra></extra>",
         "hovertext": [
          "J174"
         ],
         "legendgroup": "J174",
         "marker": {
          "color": "#ab63fa",
          "pattern": {
           "shape": ""
          }
         },
         "name": "J174",
         "offsetgroup": "J174",
         "orientation": "h",
         "showlegend": true,
         "textposition": "auto",
         "type": "bar",
         "x": [
          403200864.245502
         ],
         "xaxis": "x",
         "y": [
          "M04"
         ],
         "yaxis": "y"
        },
        {
         "alignmentgroup": "True",
         "base": [
          "2026-09-10T13:20:53.650877"
         ],
         "hovertemplate": "<b>%{hovertext}</b><br><br>Job_ID=J175<br>Scheduled_Start=%{base}<br>Estimated_Completion_Time=%{x}<br>Assigned_Machine=%{y}<extra></extra>",
         "hovertext": [
          "J175"
         ],
         "legendgroup": "J175",
         "marker": {
          "color": "#FFA15A",
          "pattern": {
           "shape": ""
          }
         },
         "name": "J175",
         "offsetgroup": "J175",
         "orientation": "h",
         "showlegend": true,
         "textposition": "auto",
         "type": "bar",
         "x": [
          142725969.644425
         ],
         "xaxis": "x",
         "y": [
          "M04"
         ],
         "yaxis": "y"
        },
        {
         "alignmentgroup": "True",
         "base": [
          "2026-09-12T05:20:53.650877"
         ],
         "hovertemplate": "<b>%{hovertext}</b><br><br>Job_ID=J176<br>Scheduled_Start=%{base}<br>Estimated_Completion_Time=%{x}<br>Assigned_Machine=%{y}<extra></extra>",
         "hovertext": [
          "J176"
         ],
         "legendgroup": "J176",
         "marker": {
          "color": "#19d3f3",
          "pattern": {
           "shape": ""
          }
         },
         "name": "J176",
         "offsetgroup": "J176",
         "orientation": "h",
         "showlegend": true,
         "textposition": "auto",
         "type": "bar",
         "x": [
          359648530.346376
         ],
         "xaxis": "x",
         "y": [
          "M05"
         ],
         "yaxis": "y"
        },
        {
         "alignmentgroup": "True",
         "base": [
          "2026-09-16T09:20:53.650877"
         ],
         "hovertemplate": "<b>%{hovertext}</b><br><br>Job_ID=J177<br>Scheduled_Start=%{base}<br>Estimated_Completion_Time=%{x}<br>Assigned_Machine=%{y}<extra></extra>",
         "hovertext": [
          "J177"
         ],
         "legendgroup": "J177",
         "marker": {
          "color": "#FF6692",
          "pattern": {
           "shape": ""
          }
         },
         "name": "J177",
         "offsetgroup": "J177",
         "orientation": "h",
         "showlegend": true,
         "textposition": "auto",
         "type": "bar",
         "x": [
          346110476.387731
         ],
         "xaxis": "x",
         "y": [
          "M04"
         ],
         "yaxis": "y"
        },
        {
         "alignmentgroup": "True",
         "base": [
          "2026-09-20T10:20:53.650877"
         ],
         "hovertemplate": "<b>%{hovertext}</b><br><br>Job_ID=J178<br>Scheduled_Start=%{base}<br>Estimated_Completion_Time=%{x}<br>Assigned_Machine=%{y}<extra></extra>",
         "hovertext": [
          "J178"
         ],
         "legendgroup": "J178",
         "marker": {
          "color": "#B6E880",
          "pattern": {
           "shape": ""
          }
         },
         "name": "J178",
         "offsetgroup": "J178",
         "orientation": "h",
         "showlegend": true,
         "textposition": "auto",
         "type": "bar",
         "x": [
          292588237.77107
         ],
         "xaxis": "x",
         "y": [
          "M04"
         ],
         "yaxis": "y"
        },
        {
         "alignmentgroup": "True",
         "base": [
          "2026-09-23T20:20:53.650877"
         ],
         "hovertemplate": "<b>%{hovertext}</b><br><br>Job_ID=J179<br>Scheduled_Start=%{base}<br>Estimated_Completion_Time=%{x}<br>Assigned_Machine=%{y}<extra></extra>",
         "hovertext": [
          "J179"
         ],
         "legendgroup": "J179",
         "marker": {
          "color": "#FF97FF",
          "pattern": {
           "shape": ""
          }
         },
         "name": "J179",
         "offsetgroup": "J179",
         "orientation": "h",
         "showlegend": true,
         "textposition": "auto",
         "type": "bar",
         "x": [
          338974177.905511
         ],
         "xaxis": "x",
         "y": [
          "M04"
         ],
         "yaxis": "y"
        },
        {
         "alignmentgroup": "True",
         "base": [
          "2026-09-27T19:20:53.650877"
         ],
         "hovertemplate": "<b>%{hovertext}</b><br><br>Job_ID=J180<br>Scheduled_Start=%{base}<br>Estimated_Completion_Time=%{x}<br>Assigned_Machine=%{y}<extra></extra>",
         "hovertext": [
          "J180"
         ],
         "legendgroup": "J180",
         "marker": {
          "color": "#FECB52",
          "pattern": {
           "shape": ""
          }
         },
         "name": "J180",
         "offsetgroup": "J180",
         "orientation": "h",
         "showlegend": true,
         "textposition": "auto",
         "type": "bar",
         "x": [
          248157485.938998
         ],
         "xaxis": "x",
         "y": [
          "M05"
         ],
         "yaxis": "y"
        },
        {
         "alignmentgroup": "True",
         "base": [
          "2026-09-30T16:20:53.650877"
         ],
         "hovertemplate": "<b>%{hovertext}</b><br><br>Job_ID=J181<br>Scheduled_Start=%{base}<br>Estimated_Completion_Time=%{x}<br>Assigned_Machine=%{y}<extra></extra>",
         "hovertext": [
          "J181"
         ],
         "legendgroup": "J181",
         "marker": {
          "color": "#636efa",
          "pattern": {
           "shape": ""
          }
         },
         "name": "J181",
         "offsetgroup": "J181",
         "orientation": "h",
         "showlegend": true,
         "textposition": "auto",
         "type": "bar",
         "x": [
          338974177.905511
         ],
         "xaxis": "x",
         "y": [
          "M04"
         ],
         "yaxis": "y"
        },
        {
         "alignmentgroup": "True",
         "base": [
          "2026-10-04T15:20:53.650877"
         ],
         "hovertemplate": "<b>%{hovertext}</b><br><br>Job_ID=J182<br>Scheduled_Start=%{base}<br>Estimated_Completion_Time=%{x}<br>Assigned_Machine=%{y}<extra></extra>",
         "hovertext": [
          "J182"
         ],
         "legendgroup": "J182",
         "marker": {
          "color": "#EF553B",
          "pattern": {
           "shape": ""
          }
         },
         "name": "J182",
         "offsetgroup": "J182",
         "orientation": "h",
         "showlegend": true,
         "textposition": "auto",
         "type": "bar",
         "x": [
          281883790.04774
         ],
         "xaxis": "x",
         "y": [
          "M04"
         ],
         "yaxis": "y"
        },
        {
         "alignmentgroup": "True",
         "base": [
          "2026-10-07T22:20:53.650877"
         ],
         "hovertemplate": "<b>%{hovertext}</b><br><br>Job_ID=J183<br>Scheduled_Start=%{base}<br>Estimated_Completion_Time=%{x}<br>Assigned_Machine=%{y}<extra></extra>",
         "hovertext": [
          "J183"
         ],
         "legendgroup": "J183",
         "marker": {
          "color": "#00cc96",
          "pattern": {
           "shape": ""
          }
         },
         "name": "J183",
         "offsetgroup": "J183",
         "orientation": "h",
         "showlegend": true,
         "textposition": "auto",
         "type": "bar",
         "x": [
          381227442.167156
         ],
         "xaxis": "x",
         "y": [
          "M05"
         ],
         "yaxis": "y"
        },
        {
         "alignmentgroup": "True",
         "base": [
          "2026-10-12T08:20:53.650877"
         ],
         "hovertemplate": "<b>%{hovertext}</b><br><br>Job_ID=J184<br>Scheduled_Start=%{base}<br>Estimated_Completion_Time=%{x}<br>Assigned_Machine=%{y}<extra></extra>",
         "hovertext": [
          "J184"
         ],
         "legendgroup": "J184",
         "marker": {
          "color": "#ab63fa",
          "pattern": {
           "shape": ""
          }
         },
         "name": "J184",
         "offsetgroup": "J184",
         "orientation": "h",
         "showlegend": true,
         "textposition": "auto",
         "type": "bar",
         "x": [
          317565282.458847
         ],
         "xaxis": "x",
         "y": [
          "M04"
         ],
         "yaxis": "y"
        },
        {
         "alignmentgroup": "True",
         "base": [
          "2026-10-16T01:20:53.650877"
         ],
         "hovertemplate": "<b>%{hovertext}</b><br><br>Job_ID=J185<br>Scheduled_Start=%{base}<br>Estimated_Completion_Time=%{x}<br>Assigned_Machine=%{y}<extra></extra>",
         "hovertext": [
          "J185"
         ],
         "legendgroup": "J185",
         "marker": {
          "color": "#FFA15A",
          "pattern": {
           "shape": ""
          }
         },
         "name": "J185",
         "offsetgroup": "J185",
         "orientation": "h",
         "showlegend": true,
         "textposition": "auto",
         "type": "bar",
         "x": [
          178407462.055532
         ],
         "xaxis": "x",
         "y": [
          "M04"
         ],
         "yaxis": "y"
        },
        {
         "alignmentgroup": "True",
         "base": [
          "2026-10-18T03:20:53.650877"
         ],
         "hovertemplate": "<b>%{hovertext}</b><br><br>Job_ID=J186<br>Scheduled_Start=%{base}<br>Estimated_Completion_Time=%{x}<br>Assigned_Machine=%{y}<extra></extra>",
         "hovertext": [
          "J186"
         ],
         "legendgroup": "J186",
         "marker": {
          "color": "#19d3f3",
          "pattern": {
           "shape": ""
          }
         },
         "name": "J186",
         "offsetgroup": "J186",
         "orientation": "h",
         "showlegend": true,
         "textposition": "auto",
         "type": "bar",
         "x": [
          249770446.877743
         ],
         "xaxis": "x",
         "y": [
          "M04"
         ],
         "yaxis": "y"
        },
        {
         "alignmentgroup": "True",
         "base": [
          "2026-10-21T01:20:53.650877"
         ],
         "hovertemplate": "<b>%{hovertext}</b><br><br>Job_ID=J187<br>Scheduled_Start=%{base}<br>Estimated_Completion_Time=%{x}<br>Assigned_Machine=%{y}<extra></extra>",
         "hovertext": [
          "J187"
         ],
         "legendgroup": "J187",
         "marker": {
          "color": "#FF6692",
          "pattern": {
           "shape": ""
          }
         },
         "name": "J187",
         "offsetgroup": "J187",
         "orientation": "h",
         "showlegend": true,
         "textposition": "auto",
         "type": "bar",
         "x": [
          392496416.522168
         ],
         "xaxis": "x",
         "y": [
          "M04"
         ],
         "yaxis": "y"
        },
        {
         "alignmentgroup": "True",
         "base": [
          "2026-10-25T15:20:53.650877"
         ],
         "hovertemplate": "<b>%{hovertext}</b><br><br>Job_ID=J188<br>Scheduled_Start=%{base}<br>Estimated_Completion_Time=%{x}<br>Assigned_Machine=%{y}<extra></extra>",
         "hovertext": [
          "J188"
         ],
         "legendgroup": "J188",
         "marker": {
          "color": "#B6E880",
          "pattern": {
           "shape": ""
          }
         },
         "name": "J188",
         "offsetgroup": "J188",
         "orientation": "h",
         "showlegend": true,
         "textposition": "auto",
         "type": "bar",
         "x": [
          321133431.699957
         ],
         "xaxis": "x",
         "y": [
          "M04"
         ],
         "yaxis": "y"
        },
        {
         "alignmentgroup": "True",
         "base": [
          "2026-10-29T09:20:53.650877"
         ],
         "hovertemplate": "<b>%{hovertext}</b><br><br>Job_ID=J189<br>Scheduled_Start=%{base}<br>Estimated_Completion_Time=%{x}<br>Assigned_Machine=%{y}<extra></extra>",
         "hovertext": [
          "J189"
         ],
         "legendgroup": "J189",
         "marker": {
          "color": "#FF97FF",
          "pattern": {
           "shape": ""
          }
         },
         "name": "J189",
         "offsetgroup": "J189",
         "orientation": "h",
         "showlegend": true,
         "textposition": "auto",
         "type": "bar",
         "x": [
          178407462.055532
         ],
         "xaxis": "x",
         "y": [
          "M04"
         ],
         "yaxis": "y"
        },
        {
         "alignmentgroup": "True",
         "base": [
          "2026-10-31T11:20:53.650877"
         ],
         "hovertemplate": "<b>%{hovertext}</b><br><br>Job_ID=J190<br>Scheduled_Start=%{base}<br>Estimated_Completion_Time=%{x}<br>Assigned_Machine=%{y}<extra></extra>",
         "hovertext": [
          "J190"
         ],
         "legendgroup": "J190",
         "marker": {
          "color": "#FECB52",
          "pattern": {
           "shape": ""
          }
         },
         "name": "J190",
         "offsetgroup": "J190",
         "orientation": "h",
         "showlegend": true,
         "textposition": "auto",
         "type": "bar",
         "x": [
          178407462.055532
         ],
         "xaxis": "x",
         "y": [
          "M04"
         ],
         "yaxis": "y"
        },
        {
         "alignmentgroup": "True",
         "base": [
          "2026-11-02T13:20:53.650877"
         ],
         "hovertemplate": "<b>%{hovertext}</b><br><br>Job_ID=J191<br>Scheduled_Start=%{base}<br>Estimated_Completion_Time=%{x}<br>Assigned_Machine=%{y}<extra></extra>",
         "hovertext": [
          "J191"
         ],
         "legendgroup": "J191",
         "marker": {
          "color": "#636efa",
          "pattern": {
           "shape": ""
          }
         },
         "name": "J191",
         "offsetgroup": "J191",
         "orientation": "h",
         "showlegend": true,
         "textposition": "auto",
         "type": "bar",
         "x": [
          406769013.486612
         ],
         "xaxis": "x",
         "y": [
          "M04"
         ],
         "yaxis": "y"
        },
        {
         "alignmentgroup": "True",
         "base": [
          "2026-11-07T07:20:53.650877"
         ],
         "hovertemplate": "<b>%{hovertext}</b><br><br>Job_ID=J192<br>Scheduled_Start=%{base}<br>Estimated_Completion_Time=%{x}<br>Assigned_Machine=%{y}<extra></extra>",
         "hovertext": [
          "J192"
         ],
         "legendgroup": "J192",
         "marker": {
          "color": "#EF553B",
          "pattern": {
           "shape": ""
          }
         },
         "name": "J192",
         "offsetgroup": "J192",
         "orientation": "h",
         "showlegend": true,
         "textposition": "auto",
         "type": "bar",
         "x": [
          356814924.111064
         ],
         "xaxis": "x",
         "y": [
          "M04"
         ],
         "yaxis": "y"
        },
        {
         "alignmentgroup": "True",
         "base": [
          "2026-11-11T11:20:53.650877"
         ],
         "hovertemplate": "<b>%{hovertext}</b><br><br>Job_ID=J193<br>Scheduled_Start=%{base}<br>Estimated_Completion_Time=%{x}<br>Assigned_Machine=%{y}<extra></extra>",
         "hovertext": [
          "J193"
         ],
         "legendgroup": "J193",
         "marker": {
          "color": "#00cc96",
          "pattern": {
           "shape": ""
          }
         },
         "name": "J193",
         "offsetgroup": "J193",
         "orientation": "h",
         "showlegend": true,
         "textposition": "auto",
         "type": "bar",
         "x": [
          285451939.28885
         ],
         "xaxis": "x",
         "y": [
          "M04"
         ],
         "yaxis": "y"
        },
        {
         "alignmentgroup": "True",
         "base": [
          "2026-11-14T19:20:53.650877"
         ],
         "hovertemplate": "<b>%{hovertext}</b><br><br>Job_ID=J194<br>Scheduled_Start=%{base}<br>Estimated_Completion_Time=%{x}<br>Assigned_Machine=%{y}<extra></extra>",
         "hovertext": [
          "J194"
         ],
         "legendgroup": "J194",
         "marker": {
          "color": "#ab63fa",
          "pattern": {
           "shape": ""
          }
         },
         "name": "J194",
         "offsetgroup": "J194",
         "orientation": "h",
         "showlegend": true,
         "textposition": "auto",
         "type": "bar",
         "x": [
          203384506.743306
         ],
         "xaxis": "x",
         "y": [
          "M04"
         ],
         "yaxis": "y"
        },
        {
         "alignmentgroup": "True",
         "base": [
          "2026-11-17T04:20:53.650877"
         ],
         "hovertemplate": "<b>%{hovertext}</b><br><br>Job_ID=J195<br>Scheduled_Start=%{base}<br>Estimated_Completion_Time=%{x}<br>Assigned_Machine=%{y}<extra></extra>",
         "hovertext": [
          "J195"
         ],
         "legendgroup": "J195",
         "marker": {
          "color": "#FFA15A",
          "pattern": {
           "shape": ""
          }
         },
         "name": "J195",
         "offsetgroup": "J195",
         "orientation": "h",
         "showlegend": true,
         "textposition": "auto",
         "type": "bar",
         "x": [
          313997133.217734
         ],
         "xaxis": "x",
         "y": [
          "M04"
         ],
         "yaxis": "y"
        },
        {
         "alignmentgroup": "True",
         "base": [
          "2026-11-20T20:20:53.650877"
         ],
         "hovertemplate": "<b>%{hovertext}</b><br><br>Job_ID=J196<br>Scheduled_Start=%{base}<br>Estimated_Completion_Time=%{x}<br>Assigned_Machine=%{y}<extra></extra>",
         "hovertext": [
          "J196"
         ],
         "legendgroup": "J196",
         "marker": {
          "color": "#19d3f3",
          "pattern": {
           "shape": ""
          }
         },
         "name": "J196",
         "offsetgroup": "J196",
         "orientation": "h",
         "showlegend": true,
         "textposition": "auto",
         "type": "bar",
         "x": [
          199816357.502196
         ],
         "xaxis": "x",
         "y": [
          "M04"
         ],
         "yaxis": "y"
        },
        {
         "alignmentgroup": "True",
         "base": [
          "2026-11-23T04:20:53.650877"
         ],
         "hovertemplate": "<b>%{hovertext}</b><br><br>Job_ID=J197<br>Scheduled_Start=%{base}<br>Estimated_Completion_Time=%{x}<br>Assigned_Machine=%{y}<extra></extra>",
         "hovertext": [
          "J197"
         ],
         "legendgroup": "J197",
         "marker": {
          "color": "#FF6692",
          "pattern": {
           "shape": ""
          }
         },
         "name": "J197",
         "offsetgroup": "J197",
         "orientation": "h",
         "showlegend": true,
         "textposition": "auto",
         "type": "bar",
         "x": [
          74931134.063324
         ],
         "xaxis": "x",
         "y": [
          "M04"
         ],
         "yaxis": "y"
        },
        {
         "alignmentgroup": "True",
         "base": [
          "2026-11-24T01:20:53.650877"
         ],
         "hovertemplate": "<b>%{hovertext}</b><br><br>Job_ID=J198<br>Scheduled_Start=%{base}<br>Estimated_Completion_Time=%{x}<br>Assigned_Machine=%{y}<extra></extra>",
         "hovertext": [
          "J198"
         ],
         "legendgroup": "J198",
         "marker": {
          "color": "#B6E880",
          "pattern": {
           "shape": ""
          }
         },
         "name": "J198",
         "offsetgroup": "J198",
         "orientation": "h",
         "showlegend": true,
         "textposition": "auto",
         "type": "bar",
         "x": [
          264043043.842186
         ],
         "xaxis": "x",
         "y": [
          "M04"
         ],
         "yaxis": "y"
        },
        {
         "alignmentgroup": "True",
         "base": [
          "2026-11-27T03:20:53.650877"
         ],
         "hovertemplate": "<b>%{hovertext}</b><br><br>Job_ID=J199<br>Scheduled_Start=%{base}<br>Estimated_Completion_Time=%{x}<br>Assigned_Machine=%{y}<extra></extra>",
         "hovertext": [
          "J199"
         ],
         "legendgroup": "J199",
         "marker": {
          "color": "#FF97FF",
          "pattern": {
           "shape": ""
          }
         },
         "name": "J199",
         "offsetgroup": "J199",
         "orientation": "h",
         "showlegend": true,
         "textposition": "auto",
         "type": "bar",
         "x": [
          321133431.699957
         ],
         "xaxis": "x",
         "y": [
          "M04"
         ],
         "yaxis": "y"
        },
        {
         "alignmentgroup": "True",
         "base": [
          "2026-11-30T21:20:53.650877"
         ],
         "hovertemplate": "<b>%{hovertext}</b><br><br>Job_ID=J200<br>Scheduled_Start=%{base}<br>Estimated_Completion_Time=%{x}<br>Assigned_Machine=%{y}<extra></extra>",
         "hovertext": [
          "J200"
         ],
         "legendgroup": "J200",
         "marker": {
          "color": "#FECB52",
          "pattern": {
           "shape": ""
          }
         },
         "name": "J200",
         "offsetgroup": "J200",
         "orientation": "h",
         "showlegend": true,
         "textposition": "auto",
         "type": "bar",
         "x": [
          299724536.253294
         ],
         "xaxis": "x",
         "y": [
          "M04"
         ],
         "yaxis": "y"
        },
        {
         "alignmentgroup": "True",
         "base": [
          "2026-12-04T09:20:53.650877"
         ],
         "hovertemplate": "<b>%{hovertext}</b><br><br>Job_ID=J201<br>Scheduled_Start=%{base}<br>Estimated_Completion_Time=%{x}<br>Assigned_Machine=%{y}<extra></extra>",
         "hovertext": [
          "J201"
         ],
         "legendgroup": "J201",
         "marker": {
          "color": "#636efa",
          "pattern": {
           "shape": ""
          }
         },
         "name": "J201",
         "offsetgroup": "J201",
         "orientation": "h",
         "showlegend": true,
         "textposition": "auto",
         "type": "bar",
         "x": [
          185543760.537752
         ],
         "xaxis": "x",
         "y": [
          "M04"
         ],
         "yaxis": "y"
        },
        {
         "alignmentgroup": "True",
         "base": [
          "2026-12-06T13:20:53.650877"
         ],
         "hovertemplate": "<b>%{hovertext}</b><br><br>Job_ID=J202<br>Scheduled_Start=%{base}<br>Estimated_Completion_Time=%{x}<br>Assigned_Machine=%{y}<extra></extra>",
         "hovertext": [
          "J202"
         ],
         "legendgroup": "J202",
         "marker": {
          "color": "#EF553B",
          "pattern": {
           "shape": ""
          }
         },
         "name": "J202",
         "offsetgroup": "J202",
         "orientation": "h",
         "showlegend": true,
         "textposition": "auto",
         "type": "bar",
         "x": [
          292588237.77107
         ],
         "xaxis": "x",
         "y": [
          "M04"
         ],
         "yaxis": "y"
        },
        {
         "alignmentgroup": "True",
         "base": [
          "2026-12-09T23:20:53.650877"
         ],
         "hovertemplate": "<b>%{hovertext}</b><br><br>Job_ID=J203<br>Scheduled_Start=%{base}<br>Estimated_Completion_Time=%{x}<br>Assigned_Machine=%{y}<extra></extra>",
         "hovertext": [
          "J203"
         ],
         "legendgroup": "J203",
         "marker": {
          "color": "#00cc96",
          "pattern": {
           "shape": ""
          }
         },
         "name": "J203",
         "offsetgroup": "J203",
         "orientation": "h",
         "showlegend": true,
         "textposition": "auto",
         "type": "bar",
         "x": [
          217657103.707749
         ],
         "xaxis": "x",
         "y": [
          "M04"
         ],
         "yaxis": "y"
        },
        {
         "alignmentgroup": "True",
         "base": [
          "2026-12-12T12:20:53.650877"
         ],
         "hovertemplate": "<b>%{hovertext}</b><br><br>Job_ID=J204<br>Scheduled_Start=%{base}<br>Estimated_Completion_Time=%{x}<br>Assigned_Machine=%{y}<extra></extra>",
         "hovertext": [
          "J204"
         ],
         "legendgroup": "J204",
         "marker": {
          "color": "#ab63fa",
          "pattern": {
           "shape": ""
          }
         },
         "name": "J204",
         "offsetgroup": "J204",
         "orientation": "h",
         "showlegend": true,
         "textposition": "auto",
         "type": "bar",
         "x": [
          403200864.245502
         ],
         "xaxis": "x",
         "y": [
          "M04"
         ],
         "yaxis": "y"
        },
        {
         "alignmentgroup": "True",
         "base": [
          "2026-12-17T05:20:53.650877"
         ],
         "hovertemplate": "<b>%{hovertext}</b><br><br>Job_ID=J205<br>Scheduled_Start=%{base}<br>Estimated_Completion_Time=%{x}<br>Assigned_Machine=%{y}<extra></extra>",
         "hovertext": [
          "J205"
         ],
         "legendgroup": "J205",
         "marker": {
          "color": "#FFA15A",
          "pattern": {
           "shape": ""
          }
         },
         "name": "J205",
         "offsetgroup": "J205",
         "orientation": "h",
         "showlegend": true,
         "textposition": "auto",
         "type": "bar",
         "x": [
          320087192.008273
         ],
         "xaxis": "x",
         "y": [
          "M05"
         ],
         "yaxis": "y"
        },
        {
         "alignmentgroup": "True",
         "base": [
          "2026-12-20T22:20:53.650877"
         ],
         "hovertemplate": "<b>%{hovertext}</b><br><br>Job_ID=J206<br>Scheduled_Start=%{base}<br>Estimated_Completion_Time=%{x}<br>Assigned_Machine=%{y}<extra></extra>",
         "hovertext": [
          "J206"
         ],
         "legendgroup": "J206",
         "marker": {
          "color": "#19d3f3",
          "pattern": {
           "shape": ""
          }
         },
         "name": "J206",
         "offsetgroup": "J206",
         "orientation": "h",
         "showlegend": true,
         "textposition": "auto",
         "type": "bar",
         "x": [
          317565282.458847
         ],
         "xaxis": "x",
         "y": [
          "M04"
         ],
         "yaxis": "y"
        },
        {
         "alignmentgroup": "True",
         "base": [
          "2026-12-24T15:20:53.650877"
         ],
         "hovertemplate": "<b>%{hovertext}</b><br><br>Job_ID=J207<br>Scheduled_Start=%{base}<br>Estimated_Completion_Time=%{x}<br>Assigned_Machine=%{y}<extra></extra>",
         "hovertext": [
          "J207"
         ],
         "legendgroup": "J207",
         "marker": {
          "color": "#FF6692",
          "pattern": {
           "shape": ""
          }
         },
         "name": "J207",
         "offsetgroup": "J207",
         "orientation": "h",
         "showlegend": true,
         "textposition": "auto",
         "type": "bar",
         "x": [
          74931134.063324
         ],
         "xaxis": "x",
         "y": [
          "M04"
         ],
         "yaxis": "y"
        },
        {
         "alignmentgroup": "True",
         "base": [
          "2026-12-25T12:20:53.650877"
         ],
         "hovertemplate": "<b>%{hovertext}</b><br><br>Job_ID=J208<br>Scheduled_Start=%{base}<br>Estimated_Completion_Time=%{x}<br>Assigned_Machine=%{y}<extra></extra>",
         "hovertext": [
          "J208"
         ],
         "legendgroup": "J208",
         "marker": {
          "color": "#B6E880",
          "pattern": {
           "shape": ""
          }
         },
         "name": "J208",
         "offsetgroup": "J208",
         "orientation": "h",
         "showlegend": true,
         "textposition": "auto",
         "type": "bar",
         "x": [
          71362984.822214
         ],
         "xaxis": "x",
         "y": [
          "M04"
         ],
         "yaxis": "y"
        },
        {
         "alignmentgroup": "True",
         "base": [
          "2026-12-26T08:20:53.650877"
         ],
         "hovertemplate": "<b>%{hovertext}</b><br><br>Job_ID=J209<br>Scheduled_Start=%{base}<br>Estimated_Completion_Time=%{x}<br>Assigned_Machine=%{y}<extra></extra>",
         "hovertext": [
          "J209"
         ],
         "legendgroup": "J209",
         "marker": {
          "color": "#FF97FF",
          "pattern": {
           "shape": ""
          }
         },
         "name": "J209",
         "offsetgroup": "J209",
         "orientation": "h",
         "showlegend": true,
         "textposition": "auto",
         "type": "bar",
         "x": [
          378223819.557728
         ],
         "xaxis": "x",
         "y": [
          "M04"
         ],
         "yaxis": "y"
        },
        {
         "alignmentgroup": "True",
         "base": [
          "2026-12-30T18:20:53.650877"
         ],
         "hovertemplate": "<b>%{hovertext}</b><br><br>Job_ID=J210<br>Scheduled_Start=%{base}<br>Estimated_Completion_Time=%{x}<br>Assigned_Machine=%{y}<extra></extra>",
         "hovertext": [
          "J210"
         ],
         "legendgroup": "J210",
         "marker": {
          "color": "#FECB52",
          "pattern": {
           "shape": ""
          }
         },
         "name": "J210",
         "offsetgroup": "J210",
         "orientation": "h",
         "showlegend": true,
         "textposition": "auto",
         "type": "bar",
         "x": [
          271179342.324406
         ],
         "xaxis": "x",
         "y": [
          "M04"
         ],
         "yaxis": "y"
        },
        {
         "alignmentgroup": "True",
         "base": [
          "2027-01-02T22:20:53.650877"
         ],
         "hovertemplate": "<b>%{hovertext}</b><br><br>Job_ID=J211<br>Scheduled_Start=%{base}<br>Estimated_Completion_Time=%{x}<br>Assigned_Machine=%{y}<extra></extra>",
         "hovertext": [
          "J211"
         ],
         "legendgroup": "J211",
         "marker": {
          "color": "#636efa",
          "pattern": {
           "shape": ""
          }
         },
         "name": "J211",
         "offsetgroup": "J211",
         "orientation": "h",
         "showlegend": true,
         "textposition": "auto",
         "type": "bar",
         "x": [
          89912132.586594
         ],
         "xaxis": "x",
         "y": [
          "M05"
         ],
         "yaxis": "y"
        },
        {
         "alignmentgroup": "True",
         "base": [
          "2027-01-03T23:20:53.650877"
         ],
         "hovertemplate": "<b>%{hovertext}</b><br><br>Job_ID=J212<br>Scheduled_Start=%{base}<br>Estimated_Completion_Time=%{x}<br>Assigned_Machine=%{y}<extra></extra>",
         "hovertext": [
          "J212"
         ],
         "legendgroup": "J212",
         "marker": {
          "color": "#EF553B",
          "pattern": {
           "shape": ""
          }
         },
         "name": "J212",
         "offsetgroup": "J212",
         "orientation": "h",
         "showlegend": true,
         "textposition": "auto",
         "type": "bar",
         "x": [
          342542327.146621
         ],
         "xaxis": "x",
         "y": [
          "M04"
         ],
         "yaxis": "y"
        },
        {
         "alignmentgroup": "True",
         "base": [
          "2027-01-07T23:20:53.650877"
         ],
         "hovertemplate": "<b>%{hovertext}</b><br><br>Job_ID=J213<br>Scheduled_Start=%{base}<br>Estimated_Completion_Time=%{x}<br>Assigned_Machine=%{y}<extra></extra>",
         "hovertext": [
          "J213"
         ],
         "legendgroup": "J213",
         "marker": {
          "color": "#00cc96",
          "pattern": {
           "shape": ""
          }
         },
         "name": "J213",
         "offsetgroup": "J213",
         "orientation": "h",
         "showlegend": true,
         "textposition": "auto",
         "type": "bar",
         "x": [
          189111909.778862
         ],
         "xaxis": "x",
         "y": [
          "M04"
         ],
         "yaxis": "y"
        },
        {
         "alignmentgroup": "True",
         "base": [
          "2027-01-10T04:20:53.650877"
         ],
         "hovertemplate": "<b>%{hovertext}</b><br><br>Job_ID=J214<br>Scheduled_Start=%{base}<br>Estimated_Completion_Time=%{x}<br>Assigned_Machine=%{y}<extra></extra>",
         "hovertext": [
          "J214"
         ],
         "legendgroup": "J214",
         "marker": {
          "color": "#ab63fa",
          "pattern": {
           "shape": ""
          }
         },
         "name": "J214",
         "offsetgroup": "J214",
         "orientation": "h",
         "showlegend": true,
         "textposition": "auto",
         "type": "bar",
         "x": [
          129473470.924696
         ],
         "xaxis": "x",
         "y": [
          "M05"
         ],
         "yaxis": "y"
        },
        {
         "alignmentgroup": "True",
         "base": [
          "2027-01-11T16:20:53.650877"
         ],
         "hovertemplate": "<b>%{hovertext}</b><br><br>Job_ID=J215<br>Scheduled_Start=%{base}<br>Estimated_Completion_Time=%{x}<br>Assigned_Machine=%{y}<extra></extra>",
         "hovertext": [
          "J215"
         ],
         "legendgroup": "J215",
         "marker": {
          "color": "#FFA15A",
          "pattern": {
           "shape": ""
          }
         },
         "name": "J215",
         "offsetgroup": "J215",
         "orientation": "h",
         "showlegend": true,
         "textposition": "auto",
         "type": "bar",
         "x": [
          153430417.367758
         ],
         "xaxis": "x",
         "y": [
          "M04"
         ],
         "yaxis": "y"
        },
        {
         "alignmentgroup": "True",
         "base": [
          "2027-01-13T11:20:53.650877"
         ],
         "hovertemplate": "<b>%{hovertext}</b><br><br>Job_ID=J216<br>Scheduled_Start=%{base}<br>Estimated_Completion_Time=%{x}<br>Assigned_Machine=%{y}<extra></extra>",
         "hovertext": [
          "J216"
         ],
         "legendgroup": "J216",
         "marker": {
          "color": "#19d3f3",
          "pattern": {
           "shape": ""
          }
         },
         "name": "J216",
         "offsetgroup": "J216",
         "orientation": "h",
         "showlegend": true,
         "textposition": "auto",
         "type": "bar",
         "x": [
          149862268.126645
         ],
         "xaxis": "x",
         "y": [
          "M04"
         ],
         "yaxis": "y"
        },
        {
         "alignmentgroup": "True",
         "base": [
          "2027-01-15T05:20:53.650877"
         ],
         "hovertemplate": "<b>%{hovertext}</b><br><br>Job_ID=J217<br>Scheduled_Start=%{base}<br>Estimated_Completion_Time=%{x}<br>Assigned_Machine=%{y}<extra></extra>",
         "hovertext": [
          "J217"
         ],
         "legendgroup": "J217",
         "marker": {
          "color": "#FF6692",
          "pattern": {
           "shape": ""
          }
         },
         "name": "J217",
         "offsetgroup": "J217",
         "orientation": "h",
         "showlegend": true,
         "textposition": "auto",
         "type": "bar",
         "x": [
          388928267.281058
         ],
         "xaxis": "x",
         "y": [
          "M04"
         ],
         "yaxis": "y"
        },
        {
         "alignmentgroup": "True",
         "base": [
          "2027-01-19T18:20:53.650877"
         ],
         "hovertemplate": "<b>%{hovertext}</b><br><br>Job_ID=J218<br>Scheduled_Start=%{base}<br>Estimated_Completion_Time=%{x}<br>Assigned_Machine=%{y}<extra></extra>",
         "hovertext": [
          "J218"
         ],
         "legendgroup": "J218",
         "marker": {
          "color": "#B6E880",
          "pattern": {
           "shape": ""
          }
         },
         "name": "J218",
         "offsetgroup": "J218",
         "orientation": "h",
         "showlegend": true,
         "textposition": "auto",
         "type": "bar",
         "x": [
          253338596.118853
         ],
         "xaxis": "x",
         "y": [
          "M04"
         ],
         "yaxis": "y"
        },
        {
         "alignmentgroup": "True",
         "base": [
          "2027-01-22T17:20:53.650877"
         ],
         "hovertemplate": "<b>%{hovertext}</b><br><br>Job_ID=J219<br>Scheduled_Start=%{base}<br>Estimated_Completion_Time=%{x}<br>Assigned_Machine=%{y}<extra></extra>",
         "hovertext": [
          "J219"
         ],
         "legendgroup": "J219",
         "marker": {
          "color": "#FF97FF",
          "pattern": {
           "shape": ""
          }
         },
         "name": "J219",
         "offsetgroup": "J219",
         "orientation": "h",
         "showlegend": true,
         "textposition": "auto",
         "type": "bar",
         "x": [
          381791968.798838
         ],
         "xaxis": "x",
         "y": [
          "M04"
         ],
         "yaxis": "y"
        },
        {
         "alignmentgroup": "True",
         "base": [
          "2027-01-27T04:20:53.650877"
         ],
         "hovertemplate": "<b>%{hovertext}</b><br><br>Job_ID=J220<br>Scheduled_Start=%{base}<br>Estimated_Completion_Time=%{x}<br>Assigned_Machine=%{y}<extra></extra>",
         "hovertext": [
          "J220"
         ],
         "legendgroup": "J220",
         "marker": {
          "color": "#FECB52",
          "pattern": {
           "shape": ""
          }
         },
         "name": "J220",
         "offsetgroup": "J220",
         "orientation": "h",
         "showlegend": true,
         "textposition": "auto",
         "type": "bar",
         "x": [
          249770446.877743
         ],
         "xaxis": "x",
         "y": [
          "M04"
         ],
         "yaxis": "y"
        },
        {
         "alignmentgroup": "True",
         "base": [
          "2027-01-30T02:20:53.650877"
         ],
         "hovertemplate": "<b>%{hovertext}</b><br><br>Job_ID=J221<br>Scheduled_Start=%{base}<br>Estimated_Completion_Time=%{x}<br>Assigned_Machine=%{y}<extra></extra>",
         "hovertext": [
          "J221"
         ],
         "legendgroup": "J221",
         "marker": {
          "color": "#636efa",
          "pattern": {
           "shape": ""
          }
         },
         "name": "J221",
         "offsetgroup": "J221",
         "orientation": "h",
         "showlegend": true,
         "textposition": "auto",
         "type": "bar",
         "x": [
          338974177.905511
         ],
         "xaxis": "x",
         "y": [
          "M04"
         ],
         "yaxis": "y"
        },
        {
         "alignmentgroup": "True",
         "base": [
          "2027-02-03T01:20:53.650877"
         ],
         "hovertemplate": "<b>%{hovertext}</b><br><br>Job_ID=J222<br>Scheduled_Start=%{base}<br>Estimated_Completion_Time=%{x}<br>Assigned_Machine=%{y}<extra></extra>",
         "hovertext": [
          "J222"
         ],
         "legendgroup": "J222",
         "marker": {
          "color": "#EF553B",
          "pattern": {
           "shape": ""
          }
         },
         "name": "J222",
         "offsetgroup": "J222",
         "orientation": "h",
         "showlegend": true,
         "textposition": "auto",
         "type": "bar",
         "x": [
          424609759.692165
         ],
         "xaxis": "x",
         "y": [
          "M04"
         ],
         "yaxis": "y"
        },
        {
         "alignmentgroup": "True",
         "base": [
          "2027-02-08T00:20:53.650877"
         ],
         "hovertemplate": "<b>%{hovertext}</b><br><br>Job_ID=J223<br>Scheduled_Start=%{base}<br>Estimated_Completion_Time=%{x}<br>Assigned_Machine=%{y}<extra></extra>",
         "hovertext": [
          "J223"
         ],
         "legendgroup": "J223",
         "marker": {
          "color": "#00cc96",
          "pattern": {
           "shape": ""
          }
         },
         "name": "J223",
         "offsetgroup": "J223",
         "orientation": "h",
         "showlegend": true,
         "textposition": "auto",
         "type": "bar",
         "x": [
          208596147.600898
         ],
         "xaxis": "x",
         "y": [
          "M05"
         ],
         "yaxis": "y"
        },
        {
         "alignmentgroup": "True",
         "base": [
          "2027-02-10T10:20:53.650877"
         ],
         "hovertemplate": "<b>%{hovertext}</b><br><br>Job_ID=J224<br>Scheduled_Start=%{base}<br>Estimated_Completion_Time=%{x}<br>Assigned_Machine=%{y}<extra></extra>",
         "hovertext": [
          "J224"
         ],
         "legendgroup": "J224",
         "marker": {
          "color": "#ab63fa",
          "pattern": {
           "shape": ""
          }
         },
         "name": "J224",
         "offsetgroup": "J224",
         "orientation": "h",
         "showlegend": true,
         "textposition": "auto",
         "type": "bar",
         "x": [
          303292685.494404
         ],
         "xaxis": "x",
         "y": [
          "M04"
         ],
         "yaxis": "y"
        },
        {
         "alignmentgroup": "True",
         "base": [
          "2027-02-13T23:20:53.650877"
         ],
         "hovertemplate": "<b>%{hovertext}</b><br><br>Job_ID=J225<br>Scheduled_Start=%{base}<br>Estimated_Completion_Time=%{x}<br>Assigned_Machine=%{y}<extra></extra>",
         "hovertext": [
          "J225"
         ],
         "legendgroup": "J225",
         "marker": {
          "color": "#FFA15A",
          "pattern": {
           "shape": ""
          }
         },
         "name": "J225",
         "offsetgroup": "J225",
         "orientation": "h",
         "showlegend": true,
         "textposition": "auto",
         "type": "bar",
         "x": [
          78499283.304434
         ],
         "xaxis": "x",
         "y": [
          "M04"
         ],
         "yaxis": "y"
        },
        {
         "alignmentgroup": "True",
         "base": [
          "2027-02-14T21:20:53.650877"
         ],
         "hovertemplate": "<b>%{hovertext}</b><br><br>Job_ID=J226<br>Scheduled_Start=%{base}<br>Estimated_Completion_Time=%{x}<br>Assigned_Machine=%{y}<extra></extra>",
         "hovertext": [
          "J226"
         ],
         "legendgroup": "J226",
         "marker": {
          "color": "#19d3f3",
          "pattern": {
           "shape": ""
          }
         },
         "name": "J226",
         "offsetgroup": "J226",
         "orientation": "h",
         "showlegend": true,
         "textposition": "auto",
         "type": "bar",
         "x": [
          374655670.316614
         ],
         "xaxis": "x",
         "y": [
          "M04"
         ],
         "yaxis": "y"
        },
        {
         "alignmentgroup": "True",
         "base": [
          "2027-02-19T06:20:53.650877"
         ],
         "hovertemplate": "<b>%{hovertext}</b><br><br>Job_ID=J227<br>Scheduled_Start=%{base}<br>Estimated_Completion_Time=%{x}<br>Assigned_Machine=%{y}<extra></extra>",
         "hovertext": [
          "J227"
         ],
         "legendgroup": "J227",
         "marker": {
          "color": "#FF6692",
          "pattern": {
           "shape": ""
          }
         },
         "name": "J227",
         "offsetgroup": "J227",
         "orientation": "h",
         "showlegend": true,
         "textposition": "auto",
         "type": "bar",
         "x": [
          388928267.281058
         ],
         "xaxis": "x",
         "y": [
          "M04"
         ],
         "yaxis": "y"
        },
        {
         "alignmentgroup": "True",
         "base": [
          "2027-02-23T19:20:53.650877"
         ],
         "hovertemplate": "<b>%{hovertext}</b><br><br>Job_ID=J228<br>Scheduled_Start=%{base}<br>Estimated_Completion_Time=%{x}<br>Assigned_Machine=%{y}<extra></extra>",
         "hovertext": [
          "J228"
         ],
         "legendgroup": "J228",
         "marker": {
          "color": "#B6E880",
          "pattern": {
           "shape": ""
          }
         },
         "name": "J228",
         "offsetgroup": "J228",
         "orientation": "h",
         "showlegend": true,
         "textposition": "auto",
         "type": "bar",
         "x": [
          274747491.565516
         ],
         "xaxis": "x",
         "y": [
          "M04"
         ],
         "yaxis": "y"
        },
        {
         "alignmentgroup": "True",
         "base": [
          "2027-02-27T00:20:53.650877"
         ],
         "hovertemplate": "<b>%{hovertext}</b><br><br>Job_ID=J229<br>Scheduled_Start=%{base}<br>Estimated_Completion_Time=%{x}<br>Assigned_Machine=%{y}<extra></extra>",
         "hovertext": [
          "J229"
         ],
         "legendgroup": "J229",
         "marker": {
          "color": "#FF97FF",
          "pattern": {
           "shape": ""
          }
         },
         "name": "J229",
         "offsetgroup": "J229",
         "orientation": "h",
         "showlegend": true,
         "textposition": "auto",
         "type": "bar",
         "x": [
          210520805.225526
         ],
         "xaxis": "x",
         "y": [
          "M04"
         ],
         "yaxis": "y"
        },
        {
         "alignmentgroup": "True",
         "base": [
          "2027-03-01T11:20:53.650877"
         ],
         "hovertemplate": "<b>%{hovertext}</b><br><br>Job_ID=J230<br>Scheduled_Start=%{base}<br>Estimated_Completion_Time=%{x}<br>Assigned_Machine=%{y}<extra></extra>",
         "hovertext": [
          "J230"
         ],
         "legendgroup": "J230",
         "marker": {
          "color": "#FECB52",
          "pattern": {
           "shape": ""
          }
         },
         "name": "J230",
         "offsetgroup": "J230",
         "orientation": "h",
         "showlegend": true,
         "textposition": "auto",
         "type": "bar",
         "x": [
          231929700.672189
         ],
         "xaxis": "x",
         "y": [
          "M04"
         ],
         "yaxis": "y"
        },
        {
         "alignmentgroup": "True",
         "base": [
          "2027-03-04T04:20:53.650877"
         ],
         "hovertemplate": "<b>%{hovertext}</b><br><br>Job_ID=J231<br>Scheduled_Start=%{base}<br>Estimated_Completion_Time=%{x}<br>Assigned_Machine=%{y}<extra></extra>",
         "hovertext": [
          "J231"
         ],
         "legendgroup": "J231",
         "marker": {
          "color": "#636efa",
          "pattern": {
           "shape": ""
          }
         },
         "name": "J231",
         "offsetgroup": "J231",
         "orientation": "h",
         "showlegend": true,
         "textposition": "auto",
         "type": "bar",
         "x": [
          128453372.679981
         ],
         "xaxis": "x",
         "y": [
          "M04"
         ],
         "yaxis": "y"
        },
        {
         "alignmentgroup": "True",
         "base": [
          "2027-03-05T16:20:53.650877"
         ],
         "hovertemplate": "<b>%{hovertext}</b><br><br>Job_ID=J232<br>Scheduled_Start=%{base}<br>Estimated_Completion_Time=%{x}<br>Assigned_Machine=%{y}<extra></extra>",
         "hovertext": [
          "J232"
         ],
         "legendgroup": "J232",
         "marker": {
          "color": "#EF553B",
          "pattern": {
           "shape": ""
          }
         },
         "name": "J232",
         "offsetgroup": "J232",
         "orientation": "h",
         "showlegend": true,
         "textposition": "auto",
         "type": "bar",
         "x": [
          378223819.557728
         ],
         "xaxis": "x",
         "y": [
          "M04"
         ],
         "yaxis": "y"
        },
        {
         "alignmentgroup": "True",
         "base": [
          "2027-03-10T02:20:53.650877"
         ],
         "hovertemplate": "<b>%{hovertext}</b><br><br>Job_ID=J233<br>Scheduled_Start=%{base}<br>Estimated_Completion_Time=%{x}<br>Assigned_Machine=%{y}<extra></extra>",
         "hovertext": [
          "J233"
         ],
         "legendgroup": "J233",
         "marker": {
          "color": "#00cc96",
          "pattern": {
           "shape": ""
          }
         },
         "name": "J233",
         "offsetgroup": "J233",
         "orientation": "h",
         "showlegend": true,
         "textposition": "auto",
         "type": "bar",
         "x": [
          313997133.217734
         ],
         "xaxis": "x",
         "y": [
          "M04"
         ],
         "yaxis": "y"
        },
        {
         "alignmentgroup": "True",
         "base": [
          "2027-03-13T18:20:53.650877"
         ],
         "hovertemplate": "<b>%{hovertext}</b><br><br>Job_ID=J234<br>Scheduled_Start=%{base}<br>Estimated_Completion_Time=%{x}<br>Assigned_Machine=%{y}<extra></extra>",
         "hovertext": [
          "J234"
         ],
         "legendgroup": "J234",
         "marker": {
          "color": "#ab63fa",
          "pattern": {
           "shape": ""
          }
         },
         "name": "J234",
         "offsetgroup": "J234",
         "orientation": "h",
         "showlegend": true,
         "textposition": "auto",
         "type": "bar",
         "x": [
          399209868.684475
         ],
         "xaxis": "x",
         "y": [
          "M05"
         ],
         "yaxis": "y"
        },
        {
         "alignmentgroup": "True",
         "base": [
          "2027-03-18T09:20:53.650877"
         ],
         "hovertemplate": "<b>%{hovertext}</b><br><br>Job_ID=J235<br>Scheduled_Start=%{base}<br>Estimated_Completion_Time=%{x}<br>Assigned_Machine=%{y}<extra></extra>",
         "hovertext": [
          "J235"
         ],
         "legendgroup": "J235",
         "marker": {
          "color": "#FFA15A",
          "pattern": {
           "shape": ""
          }
         },
         "name": "J235",
         "offsetgroup": "J235",
         "orientation": "h",
         "showlegend": true,
         "textposition": "auto",
         "type": "bar",
         "x": [
          199816357.502196
         ],
         "xaxis": "x",
         "y": [
          "M04"
         ],
         "yaxis": "y"
        },
        {
         "alignmentgroup": "True",
         "base": [
          "2027-03-20T17:20:53.650877"
         ],
         "hovertemplate": "<b>%{hovertext}</b><br><br>Job_ID=J236<br>Scheduled_Start=%{base}<br>Estimated_Completion_Time=%{x}<br>Assigned_Machine=%{y}<extra></extra>",
         "hovertext": [
          "J236"
         ],
         "legendgroup": "J236",
         "marker": {
          "color": "#19d3f3",
          "pattern": {
           "shape": ""
          }
         },
         "name": "J236",
         "offsetgroup": "J236",
         "orientation": "h",
         "showlegend": true,
         "textposition": "auto",
         "type": "bar",
         "x": [
          92771880.268878
         ],
         "xaxis": "x",
         "y": [
          "M04"
         ],
         "yaxis": "y"
        },
        {
         "alignmentgroup": "True",
         "base": [
          "2027-03-21T19:20:53.650877"
         ],
         "hovertemplate": "<b>%{hovertext}</b><br><br>Job_ID=J237<br>Scheduled_Start=%{base}<br>Estimated_Completion_Time=%{x}<br>Assigned_Machine=%{y}<extra></extra>",
         "hovertext": [
          "J237"
         ],
         "legendgroup": "J237",
         "marker": {
          "color": "#FF6692",
          "pattern": {
           "shape": ""
          }
         },
         "name": "J237",
         "offsetgroup": "J237",
         "orientation": "h",
         "showlegend": true,
         "textposition": "auto",
         "type": "bar",
         "x": [
          296156387.012183
         ],
         "xaxis": "x",
         "y": [
          "M04"
         ],
         "yaxis": "y"
        },
        {
         "alignmentgroup": "True",
         "base": [
          "2027-03-25T06:20:53.650877"
         ],
         "hovertemplate": "<b>%{hovertext}</b><br><br>Job_ID=J238<br>Scheduled_Start=%{base}<br>Estimated_Completion_Time=%{x}<br>Assigned_Machine=%{y}<extra></extra>",
         "hovertext": [
          "J238"
         ],
         "legendgroup": "J238",
         "marker": {
          "color": "#B6E880",
          "pattern": {
           "shape": ""
          }
         },
         "name": "J238",
         "offsetgroup": "J238",
         "orientation": "h",
         "showlegend": true,
         "textposition": "auto",
         "type": "bar",
         "x": [
          338974177.905511
         ],
         "xaxis": "x",
         "y": [
          "M04"
         ],
         "yaxis": "y"
        },
        {
         "alignmentgroup": "True",
         "base": [
          "2027-03-29T05:20:53.650877"
         ],
         "hovertemplate": "<b>%{hovertext}</b><br><br>Job_ID=J239<br>Scheduled_Start=%{base}<br>Estimated_Completion_Time=%{x}<br>Assigned_Machine=%{y}<extra></extra>",
         "hovertext": [
          "J239"
         ],
         "legendgroup": "J239",
         "marker": {
          "color": "#FF97FF",
          "pattern": {
           "shape": ""
          }
         },
         "name": "J239",
         "offsetgroup": "J239",
         "orientation": "h",
         "showlegend": true,
         "textposition": "auto",
         "type": "bar",
         "x": [
          317565282.458847
         ],
         "xaxis": "x",
         "y": [
          "M04"
         ],
         "yaxis": "y"
        },
        {
         "alignmentgroup": "True",
         "base": [
          "2027-04-01T22:20:53.650877"
         ],
         "hovertemplate": "<b>%{hovertext}</b><br><br>Job_ID=J240<br>Scheduled_Start=%{base}<br>Estimated_Completion_Time=%{x}<br>Assigned_Machine=%{y}<extra></extra>",
         "hovertext": [
          "J240"
         ],
         "legendgroup": "J240",
         "marker": {
          "color": "#FECB52",
          "pattern": {
           "shape": ""
          }
         },
         "name": "J240",
         "offsetgroup": "J240",
         "orientation": "h",
         "showlegend": true,
         "textposition": "auto",
         "type": "bar",
         "x": [
          78499283.304434
         ],
         "xaxis": "x",
         "y": [
          "M04"
         ],
         "yaxis": "y"
        },
        {
         "alignmentgroup": "True",
         "base": [
          "2027-04-02T20:20:53.650877"
         ],
         "hovertemplate": "<b>%{hovertext}</b><br><br>Job_ID=J241<br>Scheduled_Start=%{base}<br>Estimated_Completion_Time=%{x}<br>Assigned_Machine=%{y}<extra></extra>",
         "hovertext": [
          "J241"
         ],
         "legendgroup": "J241",
         "marker": {
          "color": "#636efa",
          "pattern": {
           "shape": ""
          }
         },
         "name": "J241",
         "offsetgroup": "J241",
         "orientation": "h",
         "showlegend": true,
         "textposition": "auto",
         "type": "bar",
         "x": [
          341666103.829057
         ],
         "xaxis": "x",
         "y": [
          "M05"
         ],
         "yaxis": "y"
        },
        {
         "alignmentgroup": "True",
         "base": [
          "2027-04-06T19:20:53.650877"
         ],
         "hovertemplate": "<b>%{hovertext}</b><br><br>Job_ID=J242<br>Scheduled_Start=%{base}<br>Estimated_Completion_Time=%{x}<br>Assigned_Machine=%{y}<extra></extra>",
         "hovertext": [
          "J242"
         ],
         "legendgroup": "J242",
         "marker": {
          "color": "#EF553B",
          "pattern": {
           "shape": ""
          }
         },
         "name": "J242",
         "offsetgroup": "J242",
         "orientation": "h",
         "showlegend": true,
         "textposition": "auto",
         "type": "bar",
         "x": [
          366841500.953302
         ],
         "xaxis": "x",
         "y": [
          "M05"
         ],
         "yaxis": "y"
        },
        {
         "alignmentgroup": "True",
         "base": [
          "2027-04-11T01:20:53.650877"
         ],
         "hovertemplate": "<b>%{hovertext}</b><br><br>Job_ID=J243<br>Scheduled_Start=%{base}<br>Estimated_Completion_Time=%{x}<br>Assigned_Machine=%{y}<extra></extra>",
         "hovertext": [
          "J243"
         ],
         "legendgroup": "J243",
         "marker": {
          "color": "#00cc96",
          "pattern": {
           "shape": ""
          }
         },
         "name": "J243",
         "offsetgroup": "J243",
         "orientation": "h",
         "showlegend": true,
         "textposition": "auto",
         "type": "bar",
         "x": [
          199816357.502196
         ],
         "xaxis": "x",
         "y": [
          "M04"
         ],
         "yaxis": "y"
        },
        {
         "alignmentgroup": "True",
         "base": [
          "2027-04-13T09:20:53.650877"
         ],
         "hovertemplate": "<b>%{hovertext}</b><br><br>Job_ID=J244<br>Scheduled_Start=%{base}<br>Estimated_Completion_Time=%{x}<br>Assigned_Machine=%{y}<extra></extra>",
         "hovertext": [
          "J244"
         ],
         "legendgroup": "J244",
         "marker": {
          "color": "#ab63fa",
          "pattern": {
           "shape": ""
          }
         },
         "name": "J244",
         "offsetgroup": "J244",
         "orientation": "h",
         "showlegend": true,
         "textposition": "auto",
         "type": "bar",
         "x": [
          149862268.126645
         ],
         "xaxis": "x",
         "y": [
          "M04"
         ],
         "yaxis": "y"
        },
        {
         "alignmentgroup": "True",
         "base": [
          "2027-04-15T03:20:53.650877"
         ],
         "hovertemplate": "<b>%{hovertext}</b><br><br>Job_ID=J245<br>Scheduled_Start=%{base}<br>Estimated_Completion_Time=%{x}<br>Assigned_Machine=%{y}<extra></extra>",
         "hovertext": [
          "J245"
         ],
         "legendgroup": "J245",
         "marker": {
          "color": "#FFA15A",
          "pattern": {
           "shape": ""
          }
         },
         "name": "J245",
         "offsetgroup": "J245",
         "orientation": "h",
         "showlegend": true,
         "textposition": "auto",
         "type": "bar",
         "x": [
          89912132.586594
         ],
         "xaxis": "x",
         "y": [
          "M05"
         ],
         "yaxis": "y"
        },
        {
         "alignmentgroup": "True",
         "base": [
          "2027-04-16T04:20:53.650877"
         ],
         "hovertemplate": "<b>%{hovertext}</b><br><br>Job_ID=J246<br>Scheduled_Start=%{base}<br>Estimated_Completion_Time=%{x}<br>Assigned_Machine=%{y}<extra></extra>",
         "hovertext": [
          "J246"
         ],
         "legendgroup": "J246",
         "marker": {
          "color": "#19d3f3",
          "pattern": {
           "shape": ""
          }
         },
         "name": "J246",
         "offsetgroup": "J246",
         "orientation": "h",
         "showlegend": true,
         "textposition": "auto",
         "type": "bar",
         "x": [
          142725969.644425
         ],
         "xaxis": "x",
         "y": [
          "M04"
         ],
         "yaxis": "y"
        },
        {
         "alignmentgroup": "True",
         "base": [
          "2027-04-17T20:20:53.650877"
         ],
         "hovertemplate": "<b>%{hovertext}</b><br><br>Job_ID=J247<br>Scheduled_Start=%{base}<br>Estimated_Completion_Time=%{x}<br>Assigned_Machine=%{y}<extra></extra>",
         "hovertext": [
          "J247"
         ],
         "legendgroup": "J247",
         "marker": {
          "color": "#FF6692",
          "pattern": {
           "shape": ""
          }
         },
         "name": "J247",
         "offsetgroup": "J247",
         "orientation": "h",
         "showlegend": true,
         "textposition": "auto",
         "type": "bar",
         "x": [
          299724536.253294
         ],
         "xaxis": "x",
         "y": [
          "M04"
         ],
         "yaxis": "y"
        },
        {
         "alignmentgroup": "True",
         "base": [
          "2027-04-21T08:20:53.650877"
         ],
         "hovertemplate": "<b>%{hovertext}</b><br><br>Job_ID=J248<br>Scheduled_Start=%{base}<br>Estimated_Completion_Time=%{x}<br>Assigned_Machine=%{y}<extra></extra>",
         "hovertext": [
          "J248"
         ],
         "legendgroup": "J248",
         "marker": {
          "color": "#B6E880",
          "pattern": {
           "shape": ""
          }
         },
         "name": "J248",
         "offsetgroup": "J248",
         "orientation": "h",
         "showlegend": true,
         "textposition": "auto",
         "type": "bar",
         "x": [
          183420750.476649
         ],
         "xaxis": "x",
         "y": [
          "M05"
         ],
         "yaxis": "y"
        },
        {
         "alignmentgroup": "True",
         "base": [
          "2027-04-23T11:20:53.650877"
         ],
         "hovertemplate": "<b>%{hovertext}</b><br><br>Job_ID=J249<br>Scheduled_Start=%{base}<br>Estimated_Completion_Time=%{x}<br>Assigned_Machine=%{y}<extra></extra>",
         "hovertext": [
          "J249"
         ],
         "legendgroup": "J249",
         "marker": {
          "color": "#FF97FF",
          "pattern": {
           "shape": ""
          }
         },
         "name": "J249",
         "offsetgroup": "J249",
         "orientation": "h",
         "showlegend": true,
         "textposition": "auto",
         "type": "bar",
         "x": [
          239065999.154413
         ],
         "xaxis": "x",
         "y": [
          "M04"
         ],
         "yaxis": "y"
        },
        {
         "alignmentgroup": "True",
         "base": [
          "2027-04-26T06:20:53.650877"
         ],
         "hovertemplate": "<b>%{hovertext}</b><br><br>Job_ID=J250<br>Scheduled_Start=%{base}<br>Estimated_Completion_Time=%{x}<br>Assigned_Machine=%{y}<extra></extra>",
         "hovertext": [
          "J250"
         ],
         "legendgroup": "J250",
         "marker": {
          "color": "#FECB52",
          "pattern": {
           "shape": ""
          }
         },
         "name": "J250",
         "offsetgroup": "J250",
         "orientation": "h",
         "showlegend": true,
         "textposition": "auto",
         "type": "bar",
         "x": [
          281883790.04774
         ],
         "xaxis": "x",
         "y": [
          "M04"
         ],
         "yaxis": "y"
        },
        {
         "alignmentgroup": "True",
         "base": [
          "2027-04-29T13:20:53.650877"
         ],
         "hovertemplate": "<b>%{hovertext}</b><br><br>Job_ID=J251<br>Scheduled_Start=%{base}<br>Estimated_Completion_Time=%{x}<br>Assigned_Machine=%{y}<extra></extra>",
         "hovertext": [
          "J251"
         ],
         "legendgroup": "J251",
         "marker": {
          "color": "#636efa",
          "pattern": {
           "shape": ""
          }
         },
         "name": "J251",
         "offsetgroup": "J251",
         "orientation": "h",
         "showlegend": true,
         "textposition": "auto",
         "type": "bar",
         "x": [
          75526191.37274
         ],
         "xaxis": "x",
         "y": [
          "M05"
         ],
         "yaxis": "y"
        },
        {
         "alignmentgroup": "True",
         "base": [
          "2027-04-30T10:20:53.650877"
         ],
         "hovertemplate": "<b>%{hovertext}</b><br><br>Job_ID=J252<br>Scheduled_Start=%{base}<br>Estimated_Completion_Time=%{x}<br>Assigned_Machine=%{y}<extra></extra>",
         "hovertext": [
          "J252"
         ],
         "legendgroup": "J252",
         "marker": {
          "color": "#EF553B",
          "pattern": {
           "shape": ""
          }
         },
         "name": "J252",
         "offsetgroup": "J252",
         "orientation": "h",
         "showlegend": true,
         "textposition": "auto",
         "type": "bar",
         "x": [
          135589671.162205
         ],
         "xaxis": "x",
         "y": [
          "M04"
         ],
         "yaxis": "y"
        },
        {
         "alignmentgroup": "True",
         "base": [
          "2027-05-02T00:20:53.650877"
         ],
         "hovertemplate": "<b>%{hovertext}</b><br><br>Job_ID=J253<br>Scheduled_Start=%{base}<br>Estimated_Completion_Time=%{x}<br>Assigned_Machine=%{y}<extra></extra>",
         "hovertext": [
          "J253"
         ],
         "legendgroup": "J253",
         "marker": {
          "color": "#00cc96",
          "pattern": {
           "shape": ""
          }
         },
         "name": "J253",
         "offsetgroup": "J253",
         "orientation": "h",
         "showlegend": true,
         "textposition": "auto",
         "type": "bar",
         "x": [
          153430417.367758
         ],
         "xaxis": "x",
         "y": [
          "M04"
         ],
         "yaxis": "y"
        },
        {
         "alignmentgroup": "True",
         "base": [
          "2027-05-03T19:20:53.650877"
         ],
         "hovertemplate": "<b>%{hovertext}</b><br><br>Job_ID=J254<br>Scheduled_Start=%{base}<br>Estimated_Completion_Time=%{x}<br>Assigned_Machine=%{y}<extra></extra>",
         "hovertext": [
          "J254"
         ],
         "legendgroup": "J254",
         "marker": {
          "color": "#ab63fa",
          "pattern": {
           "shape": ""
          }
         },
         "name": "J254",
         "offsetgroup": "J254",
         "orientation": "h",
         "showlegend": true,
         "textposition": "auto",
         "type": "bar",
         "x": [
          135589671.162205
         ],
         "xaxis": "x",
         "y": [
          "M04"
         ],
         "yaxis": "y"
        },
        {
         "alignmentgroup": "True",
         "base": [
          "2027-05-05T09:20:53.650877"
         ],
         "hovertemplate": "<b>%{hovertext}</b><br><br>Job_ID=J255<br>Scheduled_Start=%{base}<br>Estimated_Completion_Time=%{x}<br>Assigned_Machine=%{y}<extra></extra>",
         "hovertext": [
          "J255"
         ],
         "legendgroup": "J255",
         "marker": {
          "color": "#FFA15A",
          "pattern": {
           "shape": ""
          }
         },
         "name": "J255",
         "offsetgroup": "J255",
         "orientation": "h",
         "showlegend": true,
         "textposition": "auto",
         "type": "bar",
         "x": [
          135589671.162205
         ],
         "xaxis": "x",
         "y": [
          "M04"
         ],
         "yaxis": "y"
        },
        {
         "alignmentgroup": "True",
         "base": [
          "2027-05-06T23:20:53.650877"
         ],
         "hovertemplate": "<b>%{hovertext}</b><br><br>Job_ID=J256<br>Scheduled_Start=%{base}<br>Estimated_Completion_Time=%{x}<br>Assigned_Machine=%{y}<extra></extra>",
         "hovertext": [
          "J256"
         ],
         "legendgroup": "J256",
         "marker": {
          "color": "#19d3f3",
          "pattern": {
           "shape": ""
          }
         },
         "name": "J256",
         "offsetgroup": "J256",
         "orientation": "h",
         "showlegend": true,
         "textposition": "auto",
         "type": "bar",
         "x": [
          214088954.466639
         ],
         "xaxis": "x",
         "y": [
          "M04"
         ],
         "yaxis": "y"
        },
        {
         "alignmentgroup": "True",
         "base": [
          "2027-05-09T11:20:53.650877"
         ],
         "hovertemplate": "<b>%{hovertext}</b><br><br>Job_ID=J257<br>Scheduled_Start=%{base}<br>Estimated_Completion_Time=%{x}<br>Assigned_Machine=%{y}<extra></extra>",
         "hovertext": [
          "J257"
         ],
         "legendgroup": "J257",
         "marker": {
          "color": "#FF6692",
          "pattern": {
           "shape": ""
          }
         },
         "name": "J257",
         "offsetgroup": "J257",
         "orientation": "h",
         "showlegend": true,
         "textposition": "auto",
         "type": "bar",
         "x": [
          428177908.933275
         ],
         "xaxis": "x",
         "y": [
          "M04"
         ],
         "yaxis": "y"
        },
        {
         "alignmentgroup": "True",
         "base": [
          "2027-05-14T11:20:53.650877"
         ],
         "hovertemplate": "<b>%{hovertext}</b><br><br>Job_ID=J258<br>Scheduled_Start=%{base}<br>Estimated_Completion_Time=%{x}<br>Assigned_Machine=%{y}<extra></extra>",
         "hovertext": [
          "J258"
         ],
         "legendgroup": "J258",
         "marker": {
          "color": "#B6E880",
          "pattern": {
           "shape": ""
          }
         },
         "name": "J258",
         "offsetgroup": "J258",
         "orientation": "h",
         "showlegend": true,
         "textposition": "auto",
         "type": "bar",
         "x": [
          99908178.751098
         ],
         "xaxis": "x",
         "y": [
          "M04"
         ],
         "yaxis": "y"
        },
        {
         "alignmentgroup": "True",
         "base": [
          "2027-05-15T15:20:53.650877"
         ],
         "hovertemplate": "<b>%{hovertext}</b><br><br>Job_ID=J259<br>Scheduled_Start=%{base}<br>Estimated_Completion_Time=%{x}<br>Assigned_Machine=%{y}<extra></extra>",
         "hovertext": [
          "J259"
         ],
         "legendgroup": "J259",
         "marker": {
          "color": "#FF97FF",
          "pattern": {
           "shape": ""
          }
         },
         "name": "J259",
         "offsetgroup": "J259",
         "orientation": "h",
         "showlegend": true,
         "textposition": "auto",
         "type": "bar",
         "x": [
          85635581.786654
         ],
         "xaxis": "x",
         "y": [
          "M04"
         ],
         "yaxis": "y"
        },
        {
         "alignmentgroup": "True",
         "base": [
          "2027-05-16T15:20:53.650877"
         ],
         "hovertemplate": "<b>%{hovertext}</b><br><br>Job_ID=J260<br>Scheduled_Start=%{base}<br>Estimated_Completion_Time=%{x}<br>Assigned_Machine=%{y}<extra></extra>",
         "hovertext": [
          "J260"
         ],
         "legendgroup": "J260",
         "marker": {
          "color": "#FECB52",
          "pattern": {
           "shape": ""
          }
         },
         "name": "J260",
         "offsetgroup": "J260",
         "orientation": "h",
         "showlegend": true,
         "textposition": "auto",
         "type": "bar",
         "x": [
          167703014.332198
         ],
         "xaxis": "x",
         "y": [
          "M04"
         ],
         "yaxis": "y"
        },
        {
         "alignmentgroup": "True",
         "base": [
          "2027-05-18T14:20:53.650877"
         ],
         "hovertemplate": "<b>%{hovertext}</b><br><br>Job_ID=J261<br>Scheduled_Start=%{base}<br>Estimated_Completion_Time=%{x}<br>Assigned_Machine=%{y}<extra></extra>",
         "hovertext": [
          "J261"
         ],
         "legendgroup": "J261",
         "marker": {
          "color": "#636efa",
          "pattern": {
           "shape": ""
          }
         },
         "name": "J261",
         "offsetgroup": "J261",
         "orientation": "h",
         "showlegend": true,
         "textposition": "auto",
         "type": "bar",
         "x": [
          371087521.075504
         ],
         "xaxis": "x",
         "y": [
          "M04"
         ],
         "yaxis": "y"
        },
        {
         "alignmentgroup": "True",
         "base": [
          "2027-05-22T22:20:53.650877"
         ],
         "hovertemplate": "<b>%{hovertext}</b><br><br>Job_ID=J262<br>Scheduled_Start=%{base}<br>Estimated_Completion_Time=%{x}<br>Assigned_Machine=%{y}<extra></extra>",
         "hovertext": [
          "J262"
         ],
         "legendgroup": "J262",
         "marker": {
          "color": "#EF553B",
          "pattern": {
           "shape": ""
          }
         },
         "name": "J262",
         "offsetgroup": "J262",
         "orientation": "h",
         "showlegend": true,
         "textposition": "auto",
         "type": "bar",
         "x": [
          406769013.486612
         ],
         "xaxis": "x",
         "y": [
          "M04"
         ],
         "yaxis": "y"
        },
        {
         "alignmentgroup": "True",
         "base": [
          "2027-05-27T16:20:53.650877"
         ],
         "hovertemplate": "<b>%{hovertext}</b><br><br>Job_ID=J263<br>Scheduled_Start=%{base}<br>Estimated_Completion_Time=%{x}<br>Assigned_Machine=%{y}<extra></extra>",
         "hovertext": [
          "J263"
         ],
         "legendgroup": "J263",
         "marker": {
          "color": "#00cc96",
          "pattern": {
           "shape": ""
          }
         },
         "name": "J263",
         "offsetgroup": "J263",
         "orientation": "h",
         "showlegend": true,
         "textposition": "auto",
         "type": "bar",
         "x": [
          135589671.162205
         ],
         "xaxis": "x",
         "y": [
          "M04"
         ],
         "yaxis": "y"
        },
        {
         "alignmentgroup": "True",
         "base": [
          "2027-05-29T06:20:53.650877"
         ],
         "hovertemplate": "<b>%{hovertext}</b><br><br>Job_ID=J264<br>Scheduled_Start=%{base}<br>Estimated_Completion_Time=%{x}<br>Assigned_Machine=%{y}<extra></extra>",
         "hovertext": [
          "J264"
         ],
         "legendgroup": "J264",
         "marker": {
          "color": "#ab63fa",
          "pattern": {
           "shape": ""
          }
         },
         "name": "J264",
         "offsetgroup": "J264",
         "orientation": "h",
         "showlegend": true,
         "textposition": "auto",
         "type": "bar",
         "x": [
          256906745.359966
         ],
         "xaxis": "x",
         "y": [
          "M04"
         ],
         "yaxis": "y"
        },
        {
         "alignmentgroup": "True",
         "base": [
          "2027-06-01T06:20:53.650877"
         ],
         "hovertemplate": "<b>%{hovertext}</b><br><br>Job_ID=J265<br>Scheduled_Start=%{base}<br>Estimated_Completion_Time=%{x}<br>Assigned_Machine=%{y}<extra></extra>",
         "hovertext": [
          "J265"
         ],
         "legendgroup": "J265",
         "marker": {
          "color": "#FFA15A",
          "pattern": {
           "shape": ""
          }
         },
         "name": "J265",
         "offsetgroup": "J265",
         "orientation": "h",
         "showlegend": true,
         "textposition": "auto",
         "type": "bar",
         "x": [
          346110476.387731
         ],
         "xaxis": "x",
         "y": [
          "M04"
         ],
         "yaxis": "y"
        },
        {
         "alignmentgroup": "True",
         "base": [
          "2027-06-05T07:20:53.650877"
         ],
         "hovertemplate": "<b>%{hovertext}</b><br><br>Job_ID=J266<br>Scheduled_Start=%{base}<br>Estimated_Completion_Time=%{x}<br>Assigned_Machine=%{y}<extra></extra>",
         "hovertext": [
          "J266"
         ],
         "legendgroup": "J266",
         "marker": {
          "color": "#19d3f3",
          "pattern": {
           "shape": ""
          }
         },
         "name": "J266",
         "offsetgroup": "J266",
         "orientation": "h",
         "showlegend": true,
         "textposition": "auto",
         "type": "bar",
         "x": [
          342542327.146621
         ],
         "xaxis": "x",
         "y": [
          "M04"
         ],
         "yaxis": "y"
        },
        {
         "alignmentgroup": "True",
         "base": [
          "2027-06-09T07:20:53.650877"
         ],
         "hovertemplate": "<b>%{hovertext}</b><br><br>Job_ID=J267<br>Scheduled_Start=%{base}<br>Estimated_Completion_Time=%{x}<br>Assigned_Machine=%{y}<extra></extra>",
         "hovertext": [
          "J267"
         ],
         "legendgroup": "J267",
         "marker": {
          "color": "#FF6692",
          "pattern": {
           "shape": ""
          }
         },
         "name": "J267",
         "offsetgroup": "J267",
         "orientation": "h",
         "showlegend": true,
         "textposition": "auto",
         "type": "bar",
         "x": [
          360383073.352174
         ],
         "xaxis": "x",
         "y": [
          "M04"
         ],
         "yaxis": "y"
        },
        {
         "alignmentgroup": "True",
         "base": [
          "2027-06-13T12:20:53.650877"
         ],
         "hovertemplate": "<b>%{hovertext}</b><br><br>Job_ID=J268<br>Scheduled_Start=%{base}<br>Estimated_Completion_Time=%{x}<br>Assigned_Machine=%{y}<extra></extra>",
         "hovertext": [
          "J268"
         ],
         "legendgroup": "J268",
         "marker": {
          "color": "#B6E880",
          "pattern": {
           "shape": ""
          }
         },
         "name": "J268",
         "offsetgroup": "J268",
         "orientation": "h",
         "showlegend": true,
         "textposition": "auto",
         "type": "bar",
         "x": [
          377630956.863694
         ],
         "xaxis": "x",
         "y": [
          "M05"
         ],
         "yaxis": "y"
        },
        {
         "alignmentgroup": "True",
         "base": [
          "2027-06-17T21:20:53.650877"
         ],
         "hovertemplate": "<b>%{hovertext}</b><br><br>Job_ID=J269<br>Scheduled_Start=%{base}<br>Estimated_Completion_Time=%{x}<br>Assigned_Machine=%{y}<extra></extra>",
         "hovertext": [
          "J269"
         ],
         "legendgroup": "J269",
         "marker": {
          "color": "#FF97FF",
          "pattern": {
           "shape": ""
          }
         },
         "name": "J269",
         "offsetgroup": "J269",
         "orientation": "h",
         "showlegend": true,
         "textposition": "auto",
         "type": "bar",
         "x": [
          89912132.586594
         ],
         "xaxis": "x",
         "y": [
          "M05"
         ],
         "yaxis": "y"
        },
        {
         "alignmentgroup": "True",
         "base": [
          "2027-06-18T22:20:53.650877"
         ],
         "hovertemplate": "<b>%{hovertext}</b><br><br>Job_ID=J270<br>Scheduled_Start=%{base}<br>Estimated_Completion_Time=%{x}<br>Assigned_Machine=%{y}<extra></extra>",
         "hovertext": [
          "J270"
         ],
         "legendgroup": "J270",
         "marker": {
          "color": "#FECB52",
          "pattern": {
           "shape": ""
          }
         },
         "name": "J270",
         "offsetgroup": "J270",
         "orientation": "h",
         "showlegend": true,
         "textposition": "auto",
         "type": "bar",
         "x": [
          267611193.083296
         ],
         "xaxis": "x",
         "y": [
          "M04"
         ],
         "yaxis": "y"
        },
        {
         "alignmentgroup": "True",
         "base": [
          "2027-06-22T01:20:53.650877"
         ],
         "hovertemplate": "<b>%{hovertext}</b><br><br>Job_ID=J271<br>Scheduled_Start=%{base}<br>Estimated_Completion_Time=%{x}<br>Assigned_Machine=%{y}<extra></extra>",
         "hovertext": [
          "J271"
         ],
         "legendgroup": "J271",
         "marker": {
          "color": "#636efa",
          "pattern": {
           "shape": ""
          }
         },
         "name": "J271",
         "offsetgroup": "J271",
         "orientation": "h",
         "showlegend": true,
         "textposition": "auto",
         "type": "bar",
         "x": [
          74931134.063324
         ],
         "xaxis": "x",
         "y": [
          "M04"
         ],
         "yaxis": "y"
        },
        {
         "alignmentgroup": "True",
         "base": [
          "2027-06-22T22:20:53.650877"
         ],
         "hovertemplate": "<b>%{hovertext}</b><br><br>Job_ID=J272<br>Scheduled_Start=%{base}<br>Estimated_Completion_Time=%{x}<br>Assigned_Machine=%{y}<extra></extra>",
         "hovertext": [
          "J272"
         ],
         "legendgroup": "J272",
         "marker": {
          "color": "#EF553B",
          "pattern": {
           "shape": ""
          }
         },
         "name": "J272",
         "offsetgroup": "J272",
         "orientation": "h",
         "showlegend": true,
         "textposition": "auto",
         "type": "bar",
         "x": [
          196248208.261086
         ],
         "xaxis": "x",
         "y": [
          "M04"
         ],
         "yaxis": "y"
        },
        {
         "alignmentgroup": "True",
         "base": [
          "2027-06-25T05:20:53.650877"
         ],
         "hovertemplate": "<b>%{hovertext}</b><br><br>Job_ID=J273<br>Scheduled_Start=%{base}<br>Estimated_Completion_Time=%{x}<br>Assigned_Machine=%{y}<extra></extra>",
         "hovertext": [
          "J273"
         ],
         "legendgroup": "J273",
         "marker": {
          "color": "#00cc96",
          "pattern": {
           "shape": ""
          }
         },
         "name": "J273",
         "offsetgroup": "J273",
         "orientation": "h",
         "showlegend": true,
         "textposition": "auto",
         "type": "bar",
         "x": [
          278315640.80663
         ],
         "xaxis": "x",
         "y": [
          "M04"
         ],
         "yaxis": "y"
        },
        {
         "alignmentgroup": "True",
         "base": [
          "2027-06-28T11:20:53.650877"
         ],
         "hovertemplate": "<b>%{hovertext}</b><br><br>Job_ID=J274<br>Scheduled_Start=%{base}<br>Estimated_Completion_Time=%{x}<br>Assigned_Machine=%{y}<extra></extra>",
         "hovertext": [
          "J274"
         ],
         "legendgroup": "J274",
         "marker": {
          "color": "#ab63fa",
          "pattern": {
           "shape": ""
          }
         },
         "name": "J274",
         "offsetgroup": "J274",
         "orientation": "h",
         "showlegend": true,
         "textposition": "auto",
         "type": "bar",
         "x": [
          71362984.822214
         ],
         "xaxis": "x",
         "y": [
          "M04"
         ],
         "yaxis": "y"
        },
        {
         "alignmentgroup": "True",
         "base": [
          "2027-06-29T07:20:53.650877"
         ],
         "hovertemplate": "<b>%{hovertext}</b><br><br>Job_ID=J275<br>Scheduled_Start=%{base}<br>Estimated_Completion_Time=%{x}<br>Assigned_Machine=%{y}<extra></extra>",
         "hovertext": [
          "J275"
         ],
         "legendgroup": "J275",
         "marker": {
          "color": "#FFA15A",
          "pattern": {
           "shape": ""
          }
         },
         "name": "J275",
         "offsetgroup": "J275",
         "orientation": "h",
         "showlegend": true,
         "textposition": "auto",
         "type": "bar",
         "x": [
          335406028.664397
         ],
         "xaxis": "x",
         "y": [
          "M04"
         ],
         "yaxis": "y"
        },
        {
         "alignmentgroup": "True",
         "base": [
          "2027-07-03T05:20:53.650877"
         ],
         "hovertemplate": "<b>%{hovertext}</b><br><br>Job_ID=J276<br>Scheduled_Start=%{base}<br>Estimated_Completion_Time=%{x}<br>Assigned_Machine=%{y}<extra></extra>",
         "hovertext": [
          "J276"
         ],
         "legendgroup": "J276",
         "marker": {
          "color": "#19d3f3",
          "pattern": {
           "shape": ""
          }
         },
         "name": "J276",
         "offsetgroup": "J276",
         "orientation": "h",
         "showlegend": true,
         "textposition": "auto",
         "type": "bar",
         "x": [
          278315640.80663
         ],
         "xaxis": "x",
         "y": [
          "M04"
         ],
         "yaxis": "y"
        },
        {
         "alignmentgroup": "True",
         "base": [
          "2027-07-06T11:20:53.650877"
         ],
         "hovertemplate": "<b>%{hovertext}</b><br><br>Job_ID=J277<br>Scheduled_Start=%{base}<br>Estimated_Completion_Time=%{x}<br>Assigned_Machine=%{y}<extra></extra>",
         "hovertext": [
          "J277"
         ],
         "legendgroup": "J277",
         "marker": {
          "color": "#FF6692",
          "pattern": {
           "shape": ""
          }
         },
         "name": "J277",
         "offsetgroup": "J277",
         "orientation": "h",
         "showlegend": true,
         "textposition": "auto",
         "type": "bar",
         "x": [
          271179342.324406
         ],
         "xaxis": "x",
         "y": [
          "M04"
         ],
         "yaxis": "y"
        },
        {
         "alignmentgroup": "True",
         "base": [
          "2027-07-09T15:20:53.650877"
         ],
         "hovertemplate": "<b>%{hovertext}</b><br><br>Job_ID=J278<br>Scheduled_Start=%{base}<br>Estimated_Completion_Time=%{x}<br>Assigned_Machine=%{y}<extra></extra>",
         "hovertext": [
          "J278"
         ],
         "legendgroup": "J278",
         "marker": {
          "color": "#B6E880",
          "pattern": {
           "shape": ""
          }
         },
         "name": "J278",
         "offsetgroup": "J278",
         "orientation": "h",
         "showlegend": true,
         "textposition": "auto",
         "type": "bar",
         "x": [
          206952655.984416
         ],
         "xaxis": "x",
         "y": [
          "M04"
         ],
         "yaxis": "y"
        },
        {
         "alignmentgroup": "True",
         "base": [
          "2027-07-12T01:20:53.650877"
         ],
         "hovertemplate": "<b>%{hovertext}</b><br><br>Job_ID=J279<br>Scheduled_Start=%{base}<br>Estimated_Completion_Time=%{x}<br>Assigned_Machine=%{y}<extra></extra>",
         "hovertext": [
          "J279"
         ],
         "legendgroup": "J279",
         "marker": {
          "color": "#FF97FF",
          "pattern": {
           "shape": ""
          }
         },
         "name": "J279",
         "offsetgroup": "J279",
         "orientation": "h",
         "showlegend": true,
         "textposition": "auto",
         "type": "bar",
         "x": [
          228361551.431079
         ],
         "xaxis": "x",
         "y": [
          "M04"
         ],
         "yaxis": "y"
        },
        {
         "alignmentgroup": "True",
         "base": [
          "2027-07-14T17:20:53.650877"
         ],
         "hovertemplate": "<b>%{hovertext}</b><br><br>Job_ID=J280<br>Scheduled_Start=%{base}<br>Estimated_Completion_Time=%{x}<br>Assigned_Machine=%{y}<extra></extra>",
         "hovertext": [
          "J280"
         ],
         "legendgroup": "J280",
         "marker": {
          "color": "#FECB52",
          "pattern": {
           "shape": ""
          }
         },
         "name": "J280",
         "offsetgroup": "J280",
         "orientation": "h",
         "showlegend": true,
         "textposition": "auto",
         "type": "bar",
         "x": [
          235497849.913303
         ],
         "xaxis": "x",
         "y": [
          "M04"
         ],
         "yaxis": "y"
        },
        {
         "alignmentgroup": "True",
         "base": [
          "2027-07-17T11:20:53.650877"
         ],
         "hovertemplate": "<b>%{hovertext}</b><br><br>Job_ID=J281<br>Scheduled_Start=%{base}<br>Estimated_Completion_Time=%{x}<br>Assigned_Machine=%{y}<extra></extra>",
         "hovertext": [
          "J281"
         ],
         "legendgroup": "J281",
         "marker": {
          "color": "#636efa",
          "pattern": {
           "shape": ""
          }
         },
         "name": "J281",
         "offsetgroup": "J281",
         "orientation": "h",
         "showlegend": true,
         "textposition": "auto",
         "type": "bar",
         "x": [
          212192632.90436
         ],
         "xaxis": "x",
         "y": [
          "M05"
         ],
         "yaxis": "y"
        },
        {
         "alignmentgroup": "True",
         "base": [
          "2027-07-19T22:20:53.650877"
         ],
         "hovertemplate": "<b>%{hovertext}</b><br><br>Job_ID=J282<br>Scheduled_Start=%{base}<br>Estimated_Completion_Time=%{x}<br>Assigned_Machine=%{y}<extra></extra>",
         "hovertext": [
          "J282"
         ],
         "legendgroup": "J282",
         "marker": {
          "color": "#EF553B",
          "pattern": {
           "shape": ""
          }
         },
         "name": "J282",
         "offsetgroup": "J282",
         "orientation": "h",
         "showlegend": true,
         "textposition": "auto",
         "type": "bar",
         "x": [
          107044477.233318
         ],
         "xaxis": "x",
         "y": [
          "M04"
         ],
         "yaxis": "y"
        },
        {
         "alignmentgroup": "True",
         "base": [
          "2027-07-21T04:20:53.650877"
         ],
         "hovertemplate": "<b>%{hovertext}</b><br><br>Job_ID=J283<br>Scheduled_Start=%{base}<br>Estimated_Completion_Time=%{x}<br>Assigned_Machine=%{y}<extra></extra>",
         "hovertext": [
          "J283"
         ],
         "legendgroup": "J283",
         "marker": {
          "color": "#00cc96",
          "pattern": {
           "shape": ""
          }
         },
         "name": "J283",
         "offsetgroup": "J283",
         "orientation": "h",
         "showlegend": true,
         "textposition": "auto",
         "type": "bar",
         "x": [
          133069956.228158
         ],
         "xaxis": "x",
         "y": [
          "M05"
         ],
         "yaxis": "y"
        },
        {
         "alignmentgroup": "True",
         "base": [
          "2027-07-22T17:20:53.650877"
         ],
         "hovertemplate": "<b>%{hovertext}</b><br><br>Job_ID=J284<br>Scheduled_Start=%{base}<br>Estimated_Completion_Time=%{x}<br>Assigned_Machine=%{y}<extra></extra>",
         "hovertext": [
          "J284"
         ],
         "legendgroup": "J284",
         "marker": {
          "color": "#ab63fa",
          "pattern": {
           "shape": ""
          }
         },
         "name": "J284",
         "offsetgroup": "J284",
         "orientation": "h",
         "showlegend": true,
         "textposition": "auto",
         "type": "bar",
         "x": [
          253338596.118853
         ],
         "xaxis": "x",
         "y": [
          "M04"
         ],
         "yaxis": "y"
        },
        {
         "alignmentgroup": "True",
         "base": [
          "2027-07-25T16:20:53.650877"
         ],
         "hovertemplate": "<b>%{hovertext}</b><br><br>Job_ID=J285<br>Scheduled_Start=%{base}<br>Estimated_Completion_Time=%{x}<br>Assigned_Machine=%{y}<extra></extra>",
         "hovertext": [
          "J285"
         ],
         "legendgroup": "J285",
         "marker": {
          "color": "#FFA15A",
          "pattern": {
           "shape": ""
          }
         },
         "name": "J285",
         "offsetgroup": "J285",
         "orientation": "h",
         "showlegend": true,
         "textposition": "auto",
         "type": "bar",
         "x": [
          381227442.167156
         ],
         "xaxis": "x",
         "y": [
          "M05"
         ],
         "yaxis": "y"
        },
        {
         "alignmentgroup": "True",
         "base": [
          "2027-07-30T02:20:53.650877"
         ],
         "hovertemplate": "<b>%{hovertext}</b><br><br>Job_ID=J286<br>Scheduled_Start=%{base}<br>Estimated_Completion_Time=%{x}<br>Assigned_Machine=%{y}<extra></extra>",
         "hovertext": [
          "J286"
         ],
         "legendgroup": "J286",
         "marker": {
          "color": "#19d3f3",
          "pattern": {
           "shape": ""
          }
         },
         "name": "J286",
         "offsetgroup": "J286",
         "orientation": "h",
         "showlegend": true,
         "textposition": "auto",
         "type": "bar",
         "x": [
          381791968.798838
         ],
         "xaxis": "x",
         "y": [
          "M04"
         ],
         "yaxis": "y"
        },
        {
         "alignmentgroup": "True",
         "base": [
          "2027-08-03T13:20:53.650877"
         ],
         "hovertemplate": "<b>%{hovertext}</b><br><br>Job_ID=J287<br>Scheduled_Start=%{base}<br>Estimated_Completion_Time=%{x}<br>Assigned_Machine=%{y}<extra></extra>",
         "hovertext": [
          "J287"
         ],
         "legendgroup": "J287",
         "marker": {
          "color": "#FF6692",
          "pattern": {
           "shape": ""
          }
         },
         "name": "J287",
         "offsetgroup": "J287",
         "orientation": "h",
         "showlegend": true,
         "textposition": "auto",
         "type": "bar",
         "x": [
          341666103.829057
         ],
         "xaxis": "x",
         "y": [
          "M05"
         ],
         "yaxis": "y"
        },
        {
         "alignmentgroup": "True",
         "base": [
          "2027-08-07T12:20:53.650877"
         ],
         "hovertemplate": "<b>%{hovertext}</b><br><br>Job_ID=J288<br>Scheduled_Start=%{base}<br>Estimated_Completion_Time=%{x}<br>Assigned_Machine=%{y}<extra></extra>",
         "hovertext": [
          "J288"
         ],
         "legendgroup": "J288",
         "marker": {
          "color": "#B6E880",
          "pattern": {
           "shape": ""
          }
         },
         "name": "J288",
         "offsetgroup": "J288",
         "orientation": "h",
         "showlegend": true,
         "textposition": "auto",
         "type": "bar",
         "x": [
          128453372.679981
         ],
         "xaxis": "x",
         "y": [
          "M04"
         ],
         "yaxis": "y"
        },
        {
         "alignmentgroup": "True",
         "base": [
          "2027-08-09T00:20:53.650877"
         ],
         "hovertemplate": "<b>%{hovertext}</b><br><br>Job_ID=J289<br>Scheduled_Start=%{base}<br>Estimated_Completion_Time=%{x}<br>Assigned_Machine=%{y}<extra></extra>",
         "hovertext": [
          "J289"
         ],
         "legendgroup": "J289",
         "marker": {
          "color": "#FF97FF",
          "pattern": {
           "shape": ""
          }
         },
         "name": "J289",
         "offsetgroup": "J289",
         "orientation": "h",
         "showlegend": true,
         "textposition": "auto",
         "type": "bar",
         "x": [
          346110476.387731
         ],
         "xaxis": "x",
         "y": [
          "M04"
         ],
         "yaxis": "y"
        },
        {
         "alignmentgroup": "True",
         "base": [
          "2027-08-13T01:20:53.650877"
         ],
         "hovertemplate": "<b>%{hovertext}</b><br><br>Job_ID=J290<br>Scheduled_Start=%{base}<br>Estimated_Completion_Time=%{x}<br>Assigned_Machine=%{y}<extra></extra>",
         "hovertext": [
          "J290"
         ],
         "legendgroup": "J290",
         "marker": {
          "color": "#FECB52",
          "pattern": {
           "shape": ""
          }
         },
         "name": "J290",
         "offsetgroup": "J290",
         "orientation": "h",
         "showlegend": true,
         "textposition": "auto",
         "type": "bar",
         "x": [
          289020088.52996
         ],
         "xaxis": "x",
         "y": [
          "M04"
         ],
         "yaxis": "y"
        },
        {
         "alignmentgroup": "True",
         "base": [
          "2027-08-16T10:20:53.650877"
         ],
         "hovertemplate": "<b>%{hovertext}</b><br><br>Job_ID=J291<br>Scheduled_Start=%{base}<br>Estimated_Completion_Time=%{x}<br>Assigned_Machine=%{y}<extra></extra>",
         "hovertext": [
          "J291"
         ],
         "legendgroup": "J291",
         "marker": {
          "color": "#636efa",
          "pattern": {
           "shape": ""
          }
         },
         "name": "J291",
         "offsetgroup": "J291",
         "orientation": "h",
         "showlegend": true,
         "textposition": "auto",
         "type": "bar",
         "x": [
          92771880.268878
         ],
         "xaxis": "x",
         "y": [
          "M04"
         ],
         "yaxis": "y"
        },
        {
         "alignmentgroup": "True",
         "base": [
          "2027-08-17T12:20:53.650877"
         ],
         "hovertemplate": "<b>%{hovertext}</b><br><br>Job_ID=J292<br>Scheduled_Start=%{base}<br>Estimated_Completion_Time=%{x}<br>Assigned_Machine=%{y}<extra></extra>",
         "hovertext": [
          "J292"
         ],
         "legendgroup": "J292",
         "marker": {
          "color": "#EF553B",
          "pattern": {
           "shape": ""
          }
         },
         "name": "J292",
         "offsetgroup": "J292",
         "orientation": "h",
         "showlegend": true,
         "textposition": "auto",
         "type": "bar",
         "x": [
          331837879.423287
         ],
         "xaxis": "x",
         "y": [
          "M04"
         ],
         "yaxis": "y"
        },
        {
         "alignmentgroup": "True",
         "base": [
          "2027-08-21T09:20:53.650877"
         ],
         "hovertemplate": "<b>%{hovertext}</b><br><br>Job_ID=J293<br>Scheduled_Start=%{base}<br>Estimated_Completion_Time=%{x}<br>Assigned_Machine=%{y}<extra></extra>",
         "hovertext": [
          "J293"
         ],
         "legendgroup": "J293",
         "marker": {
          "color": "#00cc96",
          "pattern": {
           "shape": ""
          }
         },
         "name": "J293",
         "offsetgroup": "J293",
         "orientation": "h",
         "showlegend": true,
         "textposition": "auto",
         "type": "bar",
         "x": [
          367519371.834394
         ],
         "xaxis": "x",
         "y": [
          "M04"
         ],
         "yaxis": "y"
        },
        {
         "alignmentgroup": "True",
         "base": [
          "2027-08-25T16:20:53.650877"
         ],
         "hovertemplate": "<b>%{hovertext}</b><br><br>Job_ID=J294<br>Scheduled_Start=%{base}<br>Estimated_Completion_Time=%{x}<br>Assigned_Machine=%{y}<extra></extra>",
         "hovertext": [
          "J294"
         ],
         "legendgroup": "J294",
         "marker": {
          "color": "#ab63fa",
          "pattern": {
           "shape": ""
          }
         },
         "name": "J294",
         "offsetgroup": "J294",
         "orientation": "h",
         "showlegend": true,
         "textposition": "auto",
         "type": "bar",
         "x": [
          321133431.699957
         ],
         "xaxis": "x",
         "y": [
          "M04"
         ],
         "yaxis": "y"
        },
        {
         "alignmentgroup": "True",
         "base": [
          "2027-08-29T10:20:53.650877"
         ],
         "hovertemplate": "<b>%{hovertext}</b><br><br>Job_ID=J295<br>Scheduled_Start=%{base}<br>Estimated_Completion_Time=%{x}<br>Assigned_Machine=%{y}<extra></extra>",
         "hovertext": [
          "J295"
         ],
         "legendgroup": "J295",
         "marker": {
          "color": "#FFA15A",
          "pattern": {
           "shape": ""
          }
         },
         "name": "J295",
         "offsetgroup": "J295",
         "orientation": "h",
         "showlegend": true,
         "textposition": "auto",
         "type": "bar",
         "x": [
          139157820.403315
         ],
         "xaxis": "x",
         "y": [
          "M04"
         ],
         "yaxis": "y"
        },
        {
         "alignmentgroup": "True",
         "base": [
          "2027-08-31T01:20:53.650877"
         ],
         "hovertemplate": "<b>%{hovertext}</b><br><br>Job_ID=J296<br>Scheduled_Start=%{base}<br>Estimated_Completion_Time=%{x}<br>Assigned_Machine=%{y}<extra></extra>",
         "hovertext": [
          "J296"
         ],
         "legendgroup": "J296",
         "marker": {
          "color": "#19d3f3",
          "pattern": {
           "shape": ""
          }
         },
         "name": "J296",
         "offsetgroup": "J296",
         "orientation": "h",
         "showlegend": true,
         "textposition": "auto",
         "type": "bar",
         "x": [
          271179342.324406
         ],
         "xaxis": "x",
         "y": [
          "M04"
         ],
         "yaxis": "y"
        },
        {
         "alignmentgroup": "True",
         "base": [
          "2027-09-03T05:20:53.650877"
         ],
         "hovertemplate": "<b>%{hovertext}</b><br><br>Job_ID=J297<br>Scheduled_Start=%{base}<br>Estimated_Completion_Time=%{x}<br>Assigned_Machine=%{y}<extra></extra>",
         "hovertext": [
          "J297"
         ],
         "legendgroup": "J297",
         "marker": {
          "color": "#FF6692",
          "pattern": {
           "shape": ""
          }
         },
         "name": "J297",
         "offsetgroup": "J297",
         "orientation": "h",
         "showlegend": true,
         "textposition": "auto",
         "type": "bar",
         "x": [
          284122338.973635
         ],
         "xaxis": "x",
         "y": [
          "M05"
         ],
         "yaxis": "y"
        },
        {
         "alignmentgroup": "True",
         "base": [
          "2027-09-06T12:20:53.650877"
         ],
         "hovertemplate": "<b>%{hovertext}</b><br><br>Job_ID=J298<br>Scheduled_Start=%{base}<br>Estimated_Completion_Time=%{x}<br>Assigned_Machine=%{y}<extra></extra>",
         "hovertext": [
          "J298"
         ],
         "legendgroup": "J298",
         "marker": {
          "color": "#B6E880",
          "pattern": {
           "shape": ""
          }
         },
         "name": "J298",
         "offsetgroup": "J298",
         "orientation": "h",
         "showlegend": true,
         "textposition": "auto",
         "type": "bar",
         "x": [
          417192295.201794
         ],
         "xaxis": "x",
         "y": [
          "M05"
         ],
         "yaxis": "y"
        },
        {
         "alignmentgroup": "True",
         "base": [
          "2027-09-11T08:20:53.650877"
         ],
         "hovertemplate": "<b>%{hovertext}</b><br><br>Job_ID=J299<br>Scheduled_Start=%{base}<br>Estimated_Completion_Time=%{x}<br>Assigned_Machine=%{y}<extra></extra>",
         "hovertext": [
          "J299"
         ],
         "legendgroup": "J299",
         "marker": {
          "color": "#FF97FF",
          "pattern": {
           "shape": ""
          }
         },
         "name": "J299",
         "offsetgroup": "J299",
         "orientation": "h",
         "showlegend": true,
         "textposition": "auto",
         "type": "bar",
         "x": [
          82067432.545544
         ],
         "xaxis": "x",
         "y": [
          "M04"
         ],
         "yaxis": "y"
        },
        {
         "alignmentgroup": "True",
         "base": [
          "2027-09-12T07:20:53.650877"
         ],
         "hovertemplate": "<b>%{hovertext}</b><br><br>Job_ID=J300<br>Scheduled_Start=%{base}<br>Estimated_Completion_Time=%{x}<br>Assigned_Machine=%{y}<extra></extra>",
         "hovertext": [
          "J300"
         ],
         "legendgroup": "J300",
         "marker": {
          "color": "#FECB52",
          "pattern": {
           "shape": ""
          }
         },
         "name": "J300",
         "offsetgroup": "J300",
         "orientation": "h",
         "showlegend": true,
         "textposition": "auto",
         "type": "bar",
         "x": [
          71362984.822214
         ],
         "xaxis": "x",
         "y": [
          "M04"
         ],
         "yaxis": "y"
        },
        {
         "alignmentgroup": "True",
         "base": [
          "2027-09-13T03:20:53.650877"
         ],
         "hovertemplate": "<b>%{hovertext}</b><br><br>Job_ID=J301<br>Scheduled_Start=%{base}<br>Estimated_Completion_Time=%{x}<br>Assigned_Machine=%{y}<extra></extra>",
         "hovertext": [
          "J301"
         ],
         "legendgroup": "J301",
         "marker": {
          "color": "#636efa",
          "pattern": {
           "shape": ""
          }
         },
         "name": "J301",
         "offsetgroup": "J301",
         "orientation": "h",
         "showlegend": true,
         "textposition": "auto",
         "type": "bar",
         "x": [
          312894221.401346
         ],
         "xaxis": "x",
         "y": [
          "M05"
         ],
         "yaxis": "y"
        },
        {
         "alignmentgroup": "True",
         "base": [
          "2027-09-16T18:20:53.650877"
         ],
         "hovertemplate": "<b>%{hovertext}</b><br><br>Job_ID=J302<br>Scheduled_Start=%{base}<br>Estimated_Completion_Time=%{x}<br>Assigned_Machine=%{y}<extra></extra>",
         "hovertext": [
          "J302"
         ],
         "legendgroup": "J302",
         "marker": {
          "color": "#EF553B",
          "pattern": {
           "shape": ""
          }
         },
         "name": "J302",
         "offsetgroup": "J302",
         "orientation": "h",
         "showlegend": true,
         "textposition": "auto",
         "type": "bar",
         "x": [
          185543760.537752
         ],
         "xaxis": "x",
         "y": [
          "M04"
         ],
         "yaxis": "y"
        },
        {
         "alignmentgroup": "True",
         "base": [
          "2027-09-18T22:20:53.650877"
         ],
         "hovertemplate": "<b>%{hovertext}</b><br><br>Job_ID=J303<br>Scheduled_Start=%{base}<br>Estimated_Completion_Time=%{x}<br>Assigned_Machine=%{y}<extra></extra>",
         "hovertext": [
          "J303"
         ],
         "legendgroup": "J303",
         "marker": {
          "color": "#00cc96",
          "pattern": {
           "shape": ""
          }
         },
         "name": "J303",
         "offsetgroup": "J303",
         "orientation": "h",
         "showlegend": true,
         "textposition": "auto",
         "type": "bar",
         "x": [
          135589671.162205
         ],
         "xaxis": "x",
         "y": [
          "M04"
         ],
         "yaxis": "y"
        },
        {
         "alignmentgroup": "True",
         "base": [
          "2027-09-20T12:20:53.650877"
         ],
         "hovertemplate": "<b>%{hovertext}</b><br><br>Job_ID=J304<br>Scheduled_Start=%{base}<br>Estimated_Completion_Time=%{x}<br>Assigned_Machine=%{y}<extra></extra>",
         "hovertext": [
          "J304"
         ],
         "legendgroup": "J304",
         "marker": {
          "color": "#ab63fa",
          "pattern": {
           "shape": ""
          }
         },
         "name": "J304",
         "offsetgroup": "J304",
         "orientation": "h",
         "showlegend": true,
         "textposition": "auto",
         "type": "bar",
         "x": [
          267611193.083296
         ],
         "xaxis": "x",
         "y": [
          "M04"
         ],
         "yaxis": "y"
        },
        {
         "alignmentgroup": "True",
         "base": [
          "2027-09-23T15:20:53.650877"
         ],
         "hovertemplate": "<b>%{hovertext}</b><br><br>Job_ID=J305<br>Scheduled_Start=%{base}<br>Estimated_Completion_Time=%{x}<br>Assigned_Machine=%{y}<extra></extra>",
         "hovertext": [
          "J305"
         ],
         "legendgroup": "J305",
         "marker": {
          "color": "#FFA15A",
          "pattern": {
           "shape": ""
          }
         },
         "name": "J305",
         "offsetgroup": "J305",
         "orientation": "h",
         "showlegend": true,
         "textposition": "auto",
         "type": "bar",
         "x": [
          320087192.008273
         ],
         "xaxis": "x",
         "y": [
          "M05"
         ],
         "yaxis": "y"
        },
        {
         "alignmentgroup": "True",
         "base": [
          "2027-09-27T08:20:53.650877"
         ],
         "hovertemplate": "<b>%{hovertext}</b><br><br>Job_ID=J306<br>Scheduled_Start=%{base}<br>Estimated_Completion_Time=%{x}<br>Assigned_Machine=%{y}<extra></extra>",
         "hovertext": [
          "J306"
         ],
         "legendgroup": "J306",
         "marker": {
          "color": "#19d3f3",
          "pattern": {
           "shape": ""
          }
         },
         "name": "J306",
         "offsetgroup": "J306",
         "orientation": "h",
         "showlegend": true,
         "textposition": "auto",
         "type": "bar",
         "x": [
          274747491.565516
         ],
         "xaxis": "x",
         "y": [
          "M04"
         ],
         "yaxis": "y"
        },
        {
         "alignmentgroup": "True",
         "base": [
          "2027-09-30T13:20:53.650877"
         ],
         "hovertemplate": "<b>%{hovertext}</b><br><br>Job_ID=J307<br>Scheduled_Start=%{base}<br>Estimated_Completion_Time=%{x}<br>Assigned_Machine=%{y}<extra></extra>",
         "hovertext": [
          "J307"
         ],
         "legendgroup": "J307",
         "marker": {
          "color": "#FF6692",
          "pattern": {
           "shape": ""
          }
         },
         "name": "J307",
         "offsetgroup": "J307",
         "orientation": "h",
         "showlegend": true,
         "textposition": "auto",
         "type": "bar",
         "x": [
          320087192.008273
         ],
         "xaxis": "x",
         "y": [
          "M05"
         ],
         "yaxis": "y"
        },
        {
         "alignmentgroup": "True",
         "base": [
          "2027-10-04T06:20:53.650877"
         ],
         "hovertemplate": "<b>%{hovertext}</b><br><br>Job_ID=J308<br>Scheduled_Start=%{base}<br>Estimated_Completion_Time=%{x}<br>Assigned_Machine=%{y}<extra></extra>",
         "hovertext": [
          "J308"
         ],
         "legendgroup": "J308",
         "marker": {
          "color": "#B6E880",
          "pattern": {
           "shape": ""
          }
         },
         "name": "J308",
         "offsetgroup": "J308",
         "orientation": "h",
         "showlegend": true,
         "textposition": "auto",
         "type": "bar",
         "x": [
          178407462.055532
         ],
         "xaxis": "x",
         "y": [
          "M04"
         ],
         "yaxis": "y"
        },
        {
         "alignmentgroup": "True",
         "base": [
          "2027-10-06T08:20:53.650877"
         ],
         "hovertemplate": "<b>%{hovertext}</b><br><br>Job_ID=J309<br>Scheduled_Start=%{base}<br>Estimated_Completion_Time=%{x}<br>Assigned_Machine=%{y}<extra></extra>",
         "hovertext": [
          "J309"
         ],
         "legendgroup": "J309",
         "marker": {
          "color": "#FF97FF",
          "pattern": {
           "shape": ""
          }
         },
         "name": "J309",
         "offsetgroup": "J309",
         "orientation": "h",
         "showlegend": true,
         "textposition": "auto",
         "type": "bar",
         "x": [
          253338596.118853
         ],
         "xaxis": "x",
         "y": [
          "M04"
         ],
         "yaxis": "y"
        },
        {
         "alignmentgroup": "True",
         "base": [
          "2027-10-09T07:20:53.650877"
         ],
         "hovertemplate": "<b>%{hovertext}</b><br><br>Job_ID=J310<br>Scheduled_Start=%{base}<br>Estimated_Completion_Time=%{x}<br>Assigned_Machine=%{y}<extra></extra>",
         "hovertext": [
          "J310"
         ],
         "legendgroup": "J310",
         "marker": {
          "color": "#FECB52",
          "pattern": {
           "shape": ""
          }
         },
         "name": "J310",
         "offsetgroup": "J310",
         "orientation": "h",
         "showlegend": true,
         "textposition": "auto",
         "type": "bar",
         "x": [
          178407462.055532
         ],
         "xaxis": "x",
         "y": [
          "M04"
         ],
         "yaxis": "y"
        },
        {
         "alignmentgroup": "True",
         "base": [
          "2027-10-11T09:20:53.650877"
         ],
         "hovertemplate": "<b>%{hovertext}</b><br><br>Job_ID=J311<br>Scheduled_Start=%{base}<br>Estimated_Completion_Time=%{x}<br>Assigned_Machine=%{y}<extra></extra>",
         "hovertext": [
          "J311"
         ],
         "legendgroup": "J311",
         "marker": {
          "color": "#636efa",
          "pattern": {
           "shape": ""
          }
         },
         "name": "J311",
         "offsetgroup": "J311",
         "orientation": "h",
         "showlegend": true,
         "textposition": "auto",
         "type": "bar",
         "x": [
          303292685.494404
         ],
         "xaxis": "x",
         "y": [
          "M04"
         ],
         "yaxis": "y"
        },
        {
         "alignmentgroup": "True",
         "base": [
          "2027-10-14T22:20:53.650877"
         ],
         "hovertemplate": "<b>%{hovertext}</b><br><br>Job_ID=J312<br>Scheduled_Start=%{base}<br>Estimated_Completion_Time=%{x}<br>Assigned_Machine=%{y}<extra></extra>",
         "hovertext": [
          "J312"
         ],
         "legendgroup": "J312",
         "marker": {
          "color": "#EF553B",
          "pattern": {
           "shape": ""
          }
         },
         "name": "J312",
         "offsetgroup": "J312",
         "orientation": "h",
         "showlegend": true,
         "textposition": "auto",
         "type": "bar",
         "x": [
          338974177.905511
         ],
         "xaxis": "x",
         "y": [
          "M04"
         ],
         "yaxis": "y"
        },
        {
         "alignmentgroup": "True",
         "base": [
          "2027-10-18T21:20:53.650877"
         ],
         "hovertemplate": "<b>%{hovertext}</b><br><br>Job_ID=J313<br>Scheduled_Start=%{base}<br>Estimated_Completion_Time=%{x}<br>Assigned_Machine=%{y}<extra></extra>",
         "hovertext": [
          "J313"
         ],
         "legendgroup": "J313",
         "marker": {
          "color": "#00cc96",
          "pattern": {
           "shape": ""
          }
         },
         "name": "J313",
         "offsetgroup": "J313",
         "orientation": "h",
         "showlegend": true,
         "textposition": "auto",
         "type": "bar",
         "x": [
          210520805.225526
         ],
         "xaxis": "x",
         "y": [
          "M04"
         ],
         "yaxis": "y"
        },
        {
         "alignmentgroup": "True",
         "base": [
          "2027-10-21T08:20:53.650877"
         ],
         "hovertemplate": "<b>%{hovertext}</b><br><br>Job_ID=J314<br>Scheduled_Start=%{base}<br>Estimated_Completion_Time=%{x}<br>Assigned_Machine=%{y}<extra></extra>",
         "hovertext": [
          "J314"
         ],
         "legendgroup": "J314",
         "marker": {
          "color": "#ab63fa",
          "pattern": {
           "shape": ""
          }
         },
         "name": "J314",
         "offsetgroup": "J314",
         "orientation": "h",
         "showlegend": true,
         "textposition": "auto",
         "type": "bar",
         "x": [
          403200864.245502
         ],
         "xaxis": "x",
         "y": [
          "M04"
         ],
         "yaxis": "y"
        },
        {
         "alignmentgroup": "True",
         "base": [
          "2027-10-26T01:20:53.650877"
         ],
         "hovertemplate": "<b>%{hovertext}</b><br><br>Job_ID=J315<br>Scheduled_Start=%{base}<br>Estimated_Completion_Time=%{x}<br>Assigned_Machine=%{y}<extra></extra>",
         "hovertext": [
          "J315"
         ],
         "legendgroup": "J315",
         "marker": {
          "color": "#FFA15A",
          "pattern": {
           "shape": ""
          }
         },
         "name": "J315",
         "offsetgroup": "J315",
         "orientation": "h",
         "showlegend": true,
         "textposition": "auto",
         "type": "bar",
         "x": [
          181975611.296642
         ],
         "xaxis": "x",
         "y": [
          "M04"
         ],
         "yaxis": "y"
        },
        {
         "alignmentgroup": "True",
         "base": [
          "2027-10-28T04:20:53.650877"
         ],
         "hovertemplate": "<b>%{hovertext}</b><br><br>Job_ID=J316<br>Scheduled_Start=%{base}<br>Estimated_Completion_Time=%{x}<br>Assigned_Machine=%{y}<extra></extra>",
         "hovertext": [
          "J316"
         ],
         "legendgroup": "J316",
         "marker": {
          "color": "#19d3f3",
          "pattern": {
           "shape": ""
          }
         },
         "name": "J316",
         "offsetgroup": "J316",
         "orientation": "h",
         "showlegend": true,
         "textposition": "auto",
         "type": "bar",
         "x": [
          374655670.316614
         ],
         "xaxis": "x",
         "y": [
          "M04"
         ],
         "yaxis": "y"
        },
        {
         "alignmentgroup": "True",
         "base": [
          "2027-11-01T13:20:53.650877"
         ],
         "hovertemplate": "<b>%{hovertext}</b><br><br>Job_ID=J317<br>Scheduled_Start=%{base}<br>Estimated_Completion_Time=%{x}<br>Assigned_Machine=%{y}<extra></extra>",
         "hovertext": [
          "J317"
         ],
         "legendgroup": "J317",
         "marker": {
          "color": "#FF6692",
          "pattern": {
           "shape": ""
          }
         },
         "name": "J317",
         "offsetgroup": "J317",
         "orientation": "h",
         "showlegend": true,
         "textposition": "auto",
         "type": "bar",
         "x": [
          249770446.877743
         ],
         "xaxis": "x",
         "y": [
          "M04"
         ],
         "yaxis": "y"
        },
        {
         "alignmentgroup": "True",
         "base": [
          "2027-11-04T11:20:53.650877"
         ],
         "hovertemplate": "<b>%{hovertext}</b><br><br>Job_ID=J318<br>Scheduled_Start=%{base}<br>Estimated_Completion_Time=%{x}<br>Assigned_Machine=%{y}<extra></extra>",
         "hovertext": [
          "J318"
         ],
         "legendgroup": "J318",
         "marker": {
          "color": "#B6E880",
          "pattern": {
           "shape": ""
          }
         },
         "name": "J318",
         "offsetgroup": "J318",
         "orientation": "h",
         "showlegend": true,
         "textposition": "auto",
         "type": "bar",
         "x": [
          310428983.976624
         ],
         "xaxis": "x",
         "y": [
          "M04"
         ],
         "yaxis": "y"
        },
        {
         "alignmentgroup": "True",
         "base": [
          "2027-11-08T02:20:53.650877"
         ],
         "hovertemplate": "<b>%{hovertext}</b><br><br>Job_ID=J319<br>Scheduled_Start=%{base}<br>Estimated_Completion_Time=%{x}<br>Assigned_Machine=%{y}<extra></extra>",
         "hovertext": [
          "J319"
         ],
         "legendgroup": "J319",
         "marker": {
          "color": "#FF97FF",
          "pattern": {
           "shape": ""
          }
         },
         "name": "J319",
         "offsetgroup": "J319",
         "orientation": "h",
         "showlegend": true,
         "textposition": "auto",
         "type": "bar",
         "x": [
          82067432.545544
         ],
         "xaxis": "x",
         "y": [
          "M04"
         ],
         "yaxis": "y"
        },
        {
         "alignmentgroup": "True",
         "base": [
          "2027-11-09T01:20:53.650877"
         ],
         "hovertemplate": "<b>%{hovertext}</b><br><br>Job_ID=J320<br>Scheduled_Start=%{base}<br>Estimated_Completion_Time=%{x}<br>Assigned_Machine=%{y}<extra></extra>",
         "hovertext": [
          "J320"
         ],
         "legendgroup": "J320",
         "marker": {
          "color": "#FECB52",
          "pattern": {
           "shape": ""
          }
         },
         "name": "J320",
         "offsetgroup": "J320",
         "orientation": "h",
         "showlegend": true,
         "textposition": "auto",
         "type": "bar",
         "x": [
          139157820.403315
         ],
         "xaxis": "x",
         "y": [
          "M04"
         ],
         "yaxis": "y"
        },
        {
         "alignmentgroup": "True",
         "base": [
          "2027-11-10T16:20:53.650877"
         ],
         "hovertemplate": "<b>%{hovertext}</b><br><br>Job_ID=J321<br>Scheduled_Start=%{base}<br>Estimated_Completion_Time=%{x}<br>Assigned_Machine=%{y}<extra></extra>",
         "hovertext": [
          "J321"
         ],
         "legendgroup": "J321",
         "marker": {
          "color": "#636efa",
          "pattern": {
           "shape": ""
          }
         },
         "name": "J321",
         "offsetgroup": "J321",
         "orientation": "h",
         "showlegend": true,
         "textposition": "auto",
         "type": "bar",
         "x": [
          249770446.877743
         ],
         "xaxis": "x",
         "y": [
          "M04"
         ],
         "yaxis": "y"
        },
        {
         "alignmentgroup": "True",
         "base": [
          "2027-11-13T14:20:53.650877"
         ],
         "hovertemplate": "<b>%{hovertext}</b><br><br>Job_ID=J322<br>Scheduled_Start=%{base}<br>Estimated_Completion_Time=%{x}<br>Assigned_Machine=%{y}<extra></extra>",
         "hovertext": [
          "J322"
         ],
         "legendgroup": "J322",
         "marker": {
          "color": "#EF553B",
          "pattern": {
           "shape": ""
          }
         },
         "name": "J322",
         "offsetgroup": "J322",
         "orientation": "h",
         "showlegend": true,
         "textposition": "auto",
         "type": "bar",
         "x": [
          285451939.28885
         ],
         "xaxis": "x",
         "y": [
          "M04"
         ],
         "yaxis": "y"
        },
        {
         "alignmentgroup": "True",
         "base": [
          "2027-11-16T22:20:53.650877"
         ],
         "hovertemplate": "<b>%{hovertext}</b><br><br>Job_ID=J323<br>Scheduled_Start=%{base}<br>Estimated_Completion_Time=%{x}<br>Assigned_Machine=%{y}<extra></extra>",
         "hovertext": [
          "J323"
         ],
         "legendgroup": "J323",
         "marker": {
          "color": "#00cc96",
          "pattern": {
           "shape": ""
          }
         },
         "name": "J323",
         "offsetgroup": "J323",
         "orientation": "h",
         "showlegend": true,
         "textposition": "auto",
         "type": "bar",
         "x": [
          321133431.699957
         ],
         "xaxis": "x",
         "y": [
          "M04"
         ],
         "yaxis": "y"
        },
        {
         "alignmentgroup": "True",
         "base": [
          "2027-11-20T16:20:53.650877"
         ],
         "hovertemplate": "<b>%{hovertext}</b><br><br>Job_ID=J324<br>Scheduled_Start=%{base}<br>Estimated_Completion_Time=%{x}<br>Assigned_Machine=%{y}<extra></extra>",
         "hovertext": [
          "J324"
         ],
         "legendgroup": "J324",
         "marker": {
          "color": "#ab63fa",
          "pattern": {
           "shape": ""
          }
         },
         "name": "J324",
         "offsetgroup": "J324",
         "orientation": "h",
         "showlegend": true,
         "textposition": "auto",
         "type": "bar",
         "x": [
          74931134.063324
         ],
         "xaxis": "x",
         "y": [
          "M04"
         ],
         "yaxis": "y"
        },
        {
         "alignmentgroup": "True",
         "base": [
          "2027-11-21T13:20:53.650877"
         ],
         "hovertemplate": "<b>%{hovertext}</b><br><br>Job_ID=J325<br>Scheduled_Start=%{base}<br>Estimated_Completion_Time=%{x}<br>Assigned_Machine=%{y}<extra></extra>",
         "hovertext": [
          "J325"
         ],
         "legendgroup": "J325",
         "marker": {
          "color": "#FFA15A",
          "pattern": {
           "shape": ""
          }
         },
         "name": "J325",
         "offsetgroup": "J325",
         "orientation": "h",
         "showlegend": true,
         "textposition": "auto",
         "type": "bar",
         "x": [
          399632715.004392
         ],
         "xaxis": "x",
         "y": [
          "M04"
         ],
         "yaxis": "y"
        },
        {
         "alignmentgroup": "True",
         "base": [
          "2027-11-26T05:20:53.650877"
         ],
         "hovertemplate": "<b>%{hovertext}</b><br><br>Job_ID=J326<br>Scheduled_Start=%{base}<br>Estimated_Completion_Time=%{x}<br>Assigned_Machine=%{y}<extra></extra>",
         "hovertext": [
          "J326"
         ],
         "legendgroup": "J326",
         "marker": {
          "color": "#19d3f3",
          "pattern": {
           "shape": ""
          }
         },
         "name": "J326",
         "offsetgroup": "J326",
         "orientation": "h",
         "showlegend": true,
         "textposition": "auto",
         "type": "bar",
         "x": [
          214088954.466639
         ],
         "xaxis": "x",
         "y": [
          "M04"
         ],
         "yaxis": "y"
        },
        {
         "alignmentgroup": "True",
         "base": [
          "2027-11-28T17:20:53.650877"
         ],
         "hovertemplate": "<b>%{hovertext}</b><br><br>Job_ID=J327<br>Scheduled_Start=%{base}<br>Estimated_Completion_Time=%{x}<br>Assigned_Machine=%{y}<extra></extra>",
         "hovertext": [
          "J327"
         ],
         "legendgroup": "J327",
         "marker": {
          "color": "#FF6692",
          "pattern": {
           "shape": ""
          }
         },
         "name": "J327",
         "offsetgroup": "J327",
         "orientation": "h",
         "showlegend": true,
         "textposition": "auto",
         "type": "bar",
         "x": [
          260474894.601076
         ],
         "xaxis": "x",
         "y": [
          "M04"
         ],
         "yaxis": "y"
        },
        {
         "alignmentgroup": "True",
         "base": [
          "2027-12-01T18:20:53.650877"
         ],
         "hovertemplate": "<b>%{hovertext}</b><br><br>Job_ID=J328<br>Scheduled_Start=%{base}<br>Estimated_Completion_Time=%{x}<br>Assigned_Machine=%{y}<extra></extra>",
         "hovertext": [
          "J328"
         ],
         "legendgroup": "J328",
         "marker": {
          "color": "#B6E880",
          "pattern": {
           "shape": ""
          }
         },
         "name": "J328",
         "offsetgroup": "J328",
         "orientation": "h",
         "showlegend": true,
         "textposition": "auto",
         "type": "bar",
         "x": [
          203384506.743306
         ],
         "xaxis": "x",
         "y": [
          "M04"
         ],
         "yaxis": "y"
        },
        {
         "alignmentgroup": "True",
         "base": [
          "2027-12-04T03:20:53.650877"
         ],
         "hovertemplate": "<b>%{hovertext}</b><br><br>Job_ID=J329<br>Scheduled_Start=%{base}<br>Estimated_Completion_Time=%{x}<br>Assigned_Machine=%{y}<extra></extra>",
         "hovertext": [
          "J329"
         ],
         "legendgroup": "J329",
         "marker": {
          "color": "#FF97FF",
          "pattern": {
           "shape": ""
          }
         },
         "name": "J329",
         "offsetgroup": "J329",
         "orientation": "h",
         "showlegend": true,
         "textposition": "auto",
         "type": "bar",
         "x": [
          266139912.456316
         ],
         "xaxis": "x",
         "y": [
          "M05"
         ],
         "yaxis": "y"
        },
        {
         "alignmentgroup": "True",
         "base": [
          "2027-12-07T05:20:53.650877"
         ],
         "hovertemplate": "<b>%{hovertext}</b><br><br>Job_ID=J330<br>Scheduled_Start=%{base}<br>Estimated_Completion_Time=%{x}<br>Assigned_Machine=%{y}<extra></extra>",
         "hovertext": [
          "J330"
         ],
         "legendgroup": "J330",
         "marker": {
          "color": "#FECB52",
          "pattern": {
           "shape": ""
          }
         },
         "name": "J330",
         "offsetgroup": "J330",
         "orientation": "h",
         "showlegend": true,
         "textposition": "auto",
         "type": "bar",
         "x": [
          192680059.019972
         ],
         "xaxis": "x",
         "y": [
          "M04"
         ],
         "yaxis": "y"
        },
        {
         "alignmentgroup": "True",
         "base": [
          "2027-12-09T11:20:53.650877"
         ],
         "hovertemplate": "<b>%{hovertext}</b><br><br>Job_ID=J331<br>Scheduled_Start=%{base}<br>Estimated_Completion_Time=%{x}<br>Assigned_Machine=%{y}<extra></extra>",
         "hovertext": [
          "J331"
         ],
         "legendgroup": "J331",
         "marker": {
          "color": "#636efa",
          "pattern": {
           "shape": ""
          }
         },
         "name": "J331",
         "offsetgroup": "J331",
         "orientation": "h",
         "showlegend": true,
         "textposition": "auto",
         "type": "bar",
         "x": [
          96340029.509988
         ],
         "xaxis": "x",
         "y": [
          "M04"
         ],
         "yaxis": "y"
        },
        {
         "alignmentgroup": "True",
         "base": [
          "2027-12-10T14:20:53.650877"
         ],
         "hovertemplate": "<b>%{hovertext}</b><br><br>Job_ID=J332<br>Scheduled_Start=%{base}<br>Estimated_Completion_Time=%{x}<br>Assigned_Machine=%{y}<extra></extra>",
         "hovertext": [
          "J332"
         ],
         "legendgroup": "J332",
         "marker": {
          "color": "#EF553B",
          "pattern": {
           "shape": ""
          }
         },
         "name": "J332",
         "offsetgroup": "J332",
         "orientation": "h",
         "showlegend": true,
         "textposition": "auto",
         "type": "bar",
         "x": [
          406769013.486612
         ],
         "xaxis": "x",
         "y": [
          "M04"
         ],
         "yaxis": "y"
        },
        {
         "alignmentgroup": "True",
         "base": [
          "2027-12-15T08:20:53.650877"
         ],
         "hovertemplate": "<b>%{hovertext}</b><br><br>Job_ID=J333<br>Scheduled_Start=%{base}<br>Estimated_Completion_Time=%{x}<br>Assigned_Machine=%{y}<extra></extra>",
         "hovertext": [
          "J333"
         ],
         "legendgroup": "J333",
         "marker": {
          "color": "#00cc96",
          "pattern": {
           "shape": ""
          }
         },
         "name": "J333",
         "offsetgroup": "J333",
         "orientation": "h",
         "showlegend": true,
         "textposition": "auto",
         "type": "bar",
         "x": [
          217657103.707749
         ],
         "xaxis": "x",
         "y": [
          "M04"
         ],
         "yaxis": "y"
        },
        {
         "alignmentgroup": "True",
         "base": [
          "2027-12-17T21:20:53.650877"
         ],
         "hovertemplate": "<b>%{hovertext}</b><br><br>Job_ID=J334<br>Scheduled_Start=%{base}<br>Estimated_Completion_Time=%{x}<br>Assigned_Machine=%{y}<extra></extra>",
         "hovertext": [
          "J334"
         ],
         "legendgroup": "J334",
         "marker": {
          "color": "#ab63fa",
          "pattern": {
           "shape": ""
          }
         },
         "name": "J334",
         "offsetgroup": "J334",
         "orientation": "h",
         "showlegend": true,
         "textposition": "auto",
         "type": "bar",
         "x": [
          239065999.154413
         ],
         "xaxis": "x",
         "y": [
          "M04"
         ],
         "yaxis": "y"
        },
        {
         "alignmentgroup": "True",
         "base": [
          "2027-12-20T16:20:53.650877"
         ],
         "hovertemplate": "<b>%{hovertext}</b><br><br>Job_ID=J335<br>Scheduled_Start=%{base}<br>Estimated_Completion_Time=%{x}<br>Assigned_Machine=%{y}<extra></extra>",
         "hovertext": [
          "J335"
         ],
         "legendgroup": "J335",
         "marker": {
          "color": "#FFA15A",
          "pattern": {
           "shape": ""
          }
         },
         "name": "J335",
         "offsetgroup": "J335",
         "orientation": "h",
         "showlegend": true,
         "textposition": "auto",
         "type": "bar",
         "x": [
          210520805.225526
         ],
         "xaxis": "x",
         "y": [
          "M04"
         ],
         "yaxis": "y"
        },
        {
         "alignmentgroup": "True",
         "base": [
          "2027-12-23T03:20:53.650877"
         ],
         "hovertemplate": "<b>%{hovertext}</b><br><br>Job_ID=J336<br>Scheduled_Start=%{base}<br>Estimated_Completion_Time=%{x}<br>Assigned_Machine=%{y}<extra></extra>",
         "hovertext": [
          "J336"
         ],
         "legendgroup": "J336",
         "marker": {
          "color": "#19d3f3",
          "pattern": {
           "shape": ""
          }
         },
         "name": "J336",
         "offsetgroup": "J336",
         "orientation": "h",
         "showlegend": true,
         "textposition": "auto",
         "type": "bar",
         "x": [
          89203731.027764
         ],
         "xaxis": "x",
         "y": [
          "M04"
         ],
         "yaxis": "y"
        },
        {
         "alignmentgroup": "True",
         "base": [
          "2027-12-24T04:20:53.650877"
         ],
         "hovertemplate": "<b>%{hovertext}</b><br><br>Job_ID=J337<br>Scheduled_Start=%{base}<br>Estimated_Completion_Time=%{x}<br>Assigned_Machine=%{y}<extra></extra>",
         "hovertext": [
          "J337"
         ],
         "legendgroup": "J337",
         "marker": {
          "color": "#FF6692",
          "pattern": {
           "shape": ""
          }
         },
         "name": "J337",
         "offsetgroup": "J337",
         "orientation": "h",
         "showlegend": true,
         "textposition": "auto",
         "type": "bar",
         "x": [
          278315640.80663
         ],
         "xaxis": "x",
         "y": [
          "M04"
         ],
         "yaxis": "y"
        },
        {
         "alignmentgroup": "True",
         "base": [
          "2027-12-27T10:20:53.650877"
         ],
         "hovertemplate": "<b>%{hovertext}</b><br><br>Job_ID=J338<br>Scheduled_Start=%{base}<br>Estimated_Completion_Time=%{x}<br>Assigned_Machine=%{y}<extra></extra>",
         "hovertext": [
          "J338"
         ],
         "legendgroup": "J338",
         "marker": {
          "color": "#B6E880",
          "pattern": {
           "shape": ""
          }
         },
         "name": "J338",
         "offsetgroup": "J338",
         "orientation": "h",
         "showlegend": true,
         "textposition": "auto",
         "type": "bar",
         "x": [
          253338596.118853
         ],
         "xaxis": "x",
         "y": [
          "M04"
         ],
         "yaxis": "y"
        },
        {
         "alignmentgroup": "True",
         "base": [
          "2027-12-30T09:20:53.650877"
         ],
         "hovertemplate": "<b>%{hovertext}</b><br><br>Job_ID=J339<br>Scheduled_Start=%{base}<br>Estimated_Completion_Time=%{x}<br>Assigned_Machine=%{y}<extra></extra>",
         "hovertext": [
          "J339"
         ],
         "legendgroup": "J339",
         "marker": {
          "color": "#FF97FF",
          "pattern": {
           "shape": ""
          }
         },
         "name": "J339",
         "offsetgroup": "J339",
         "orientation": "h",
         "showlegend": true,
         "textposition": "auto",
         "type": "bar",
         "x": [
          264043043.842186
         ],
         "xaxis": "x",
         "y": [
          "M04"
         ],
         "yaxis": "y"
        },
        {
         "alignmentgroup": "True",
         "base": [
          "2028-01-02T11:20:53.650877"
         ],
         "hovertemplate": "<b>%{hovertext}</b><br><br>Job_ID=J340<br>Scheduled_Start=%{base}<br>Estimated_Completion_Time=%{x}<br>Assigned_Machine=%{y}<extra></extra>",
         "hovertext": [
          "J340"
         ],
         "legendgroup": "J340",
         "marker": {
          "color": "#FECB52",
          "pattern": {
           "shape": ""
          }
         },
         "name": "J340",
         "offsetgroup": "J340",
         "orientation": "h",
         "showlegend": true,
         "textposition": "auto",
         "type": "bar",
         "x": [
          206952655.984416
         ],
         "xaxis": "x",
         "y": [
          "M04"
         ],
         "yaxis": "y"
        },
        {
         "alignmentgroup": "True",
         "base": [
          "2028-01-04T21:20:53.650877"
         ],
         "hovertemplate": "<b>%{hovertext}</b><br><br>Job_ID=J341<br>Scheduled_Start=%{base}<br>Estimated_Completion_Time=%{x}<br>Assigned_Machine=%{y}<extra></extra>",
         "hovertext": [
          "J341"
         ],
         "legendgroup": "J341",
         "marker": {
          "color": "#636efa",
          "pattern": {
           "shape": ""
          }
         },
         "name": "J341",
         "offsetgroup": "J341",
         "orientation": "h",
         "showlegend": true,
         "textposition": "auto",
         "type": "bar",
         "x": [
          342542327.146621
         ],
         "xaxis": "x",
         "y": [
          "M04"
         ],
         "yaxis": "y"
        },
        {
         "alignmentgroup": "True",
         "base": [
          "2028-01-08T21:20:53.650877"
         ],
         "hovertemplate": "<b>%{hovertext}</b><br><br>Job_ID=J342<br>Scheduled_Start=%{base}<br>Estimated_Completion_Time=%{x}<br>Assigned_Machine=%{y}<extra></extra>",
         "hovertext": [
          "J342"
         ],
         "legendgroup": "J342",
         "marker": {
          "color": "#EF553B",
          "pattern": {
           "shape": ""
          }
         },
         "name": "J342",
         "offsetgroup": "J342",
         "orientation": "h",
         "showlegend": true,
         "textposition": "auto",
         "type": "bar",
         "x": [
          421041610.451055
         ],
         "xaxis": "x",
         "y": [
          "M04"
         ],
         "yaxis": "y"
        },
        {
         "alignmentgroup": "True",
         "base": [
          "2028-01-13T19:20:53.650877"
         ],
         "hovertemplate": "<b>%{hovertext}</b><br><br>Job_ID=J343<br>Scheduled_Start=%{base}<br>Estimated_Completion_Time=%{x}<br>Assigned_Machine=%{y}<extra></extra>",
         "hovertext": [
          "J343"
         ],
         "legendgroup": "J343",
         "marker": {
          "color": "#00cc96",
          "pattern": {
           "shape": ""
          }
         },
         "name": "J343",
         "offsetgroup": "J343",
         "orientation": "h",
         "showlegend": true,
         "textposition": "auto",
         "type": "bar",
         "x": [
          359648530.346376
         ],
         "xaxis": "x",
         "y": [
          "M05"
         ],
         "yaxis": "y"
        },
        {
         "alignmentgroup": "True",
         "base": [
          "2028-01-17T23:20:53.650877"
         ],
         "hovertemplate": "<b>%{hovertext}</b><br><br>Job_ID=J344<br>Scheduled_Start=%{base}<br>Estimated_Completion_Time=%{x}<br>Assigned_Machine=%{y}<extra></extra>",
         "hovertext": [
          "J344"
         ],
         "legendgroup": "J344",
         "marker": {
          "color": "#ab63fa",
          "pattern": {
           "shape": ""
          }
         },
         "name": "J344",
         "offsetgroup": "J344",
         "orientation": "h",
         "showlegend": true,
         "textposition": "auto",
         "type": "bar",
         "x": [
          335406028.664397
         ],
         "xaxis": "x",
         "y": [
          "M04"
         ],
         "yaxis": "y"
        },
        {
         "alignmentgroup": "True",
         "base": [
          "2028-01-21T21:20:53.650877"
         ],
         "hovertemplate": "<b>%{hovertext}</b><br><br>Job_ID=J345<br>Scheduled_Start=%{base}<br>Estimated_Completion_Time=%{x}<br>Assigned_Machine=%{y}<extra></extra>",
         "hovertext": [
          "J345"
         ],
         "legendgroup": "J345",
         "marker": {
          "color": "#FFA15A",
          "pattern": {
           "shape": ""
          }
         },
         "name": "J345",
         "offsetgroup": "J345",
         "orientation": "h",
         "showlegend": true,
         "textposition": "auto",
         "type": "bar",
         "x": [
          133069956.228158
         ],
         "xaxis": "x",
         "y": [
          "M05"
         ],
         "yaxis": "y"
        },
        {
         "alignmentgroup": "True",
         "base": [
          "2028-01-23T10:20:53.650877"
         ],
         "hovertemplate": "<b>%{hovertext}</b><br><br>Job_ID=J346<br>Scheduled_Start=%{base}<br>Estimated_Completion_Time=%{x}<br>Assigned_Machine=%{y}<extra></extra>",
         "hovertext": [
          "J346"
         ],
         "legendgroup": "J346",
         "marker": {
          "color": "#19d3f3",
          "pattern": {
           "shape": ""
          }
         },
         "name": "J346",
         "offsetgroup": "J346",
         "orientation": "h",
         "showlegend": true,
         "textposition": "auto",
         "type": "bar",
         "x": [
          103476327.992208
         ],
         "xaxis": "x",
         "y": [
          "M04"
         ],
         "yaxis": "y"
        },
        {
         "alignmentgroup": "True",
         "base": [
          "2028-01-24T15:20:53.650877"
         ],
         "hovertemplate": "<b>%{hovertext}</b><br><br>Job_ID=J347<br>Scheduled_Start=%{base}<br>Estimated_Completion_Time=%{x}<br>Assigned_Machine=%{y}<extra></extra>",
         "hovertext": [
          "J347"
         ],
         "legendgroup": "J347",
         "marker": {
          "color": "#FF6692",
          "pattern": {
           "shape": ""
          }
         },
         "name": "J347",
         "offsetgroup": "J347",
         "orientation": "h",
         "showlegend": true,
         "textposition": "auto",
         "type": "bar",
         "x": [
          260474894.601076
         ],
         "xaxis": "x",
         "y": [
          "M04"
         ],
         "yaxis": "y"
        },
        {
         "alignmentgroup": "True",
         "base": [
          "2028-01-27T16:20:53.650877"
         ],
         "hovertemplate": "<b>%{hovertext}</b><br><br>Job_ID=J348<br>Scheduled_Start=%{base}<br>Estimated_Completion_Time=%{x}<br>Assigned_Machine=%{y}<extra></extra>",
         "hovertext": [
          "J348"
         ],
         "legendgroup": "J348",
         "marker": {
          "color": "#B6E880",
          "pattern": {
           "shape": ""
          }
         },
         "name": "J348",
         "offsetgroup": "J348",
         "orientation": "h",
         "showlegend": true,
         "textposition": "auto",
         "type": "bar",
         "x": [
          328269730.182177
         ],
         "xaxis": "x",
         "y": [
          "M04"
         ],
         "yaxis": "y"
        },
        {
         "alignmentgroup": "True",
         "base": [
          "2028-01-31T12:20:53.650877"
         ],
         "hovertemplate": "<b>%{hovertext}</b><br><br>Job_ID=J349<br>Scheduled_Start=%{base}<br>Estimated_Completion_Time=%{x}<br>Assigned_Machine=%{y}<extra></extra>",
         "hovertext": [
          "J349"
         ],
         "legendgroup": "J349",
         "marker": {
          "color": "#FF97FF",
          "pattern": {
           "shape": ""
          }
         },
         "name": "J349",
         "offsetgroup": "J349",
         "orientation": "h",
         "showlegend": true,
         "textposition": "auto",
         "type": "bar",
         "x": [
          306860834.735514
         ],
         "xaxis": "x",
         "y": [
          "M04"
         ],
         "yaxis": "y"
        },
        {
         "alignmentgroup": "True",
         "base": [
          "2028-02-04T02:20:53.650877"
         ],
         "hovertemplate": "<b>%{hovertext}</b><br><br>Job_ID=J350<br>Scheduled_Start=%{base}<br>Estimated_Completion_Time=%{x}<br>Assigned_Machine=%{y}<extra></extra>",
         "hovertext": [
          "J350"
         ],
         "legendgroup": "J350",
         "marker": {
          "color": "#FECB52",
          "pattern": {
           "shape": ""
          }
         },
         "name": "J350",
         "offsetgroup": "J350",
         "orientation": "h",
         "showlegend": true,
         "textposition": "auto",
         "type": "bar",
         "x": [
          274747491.565516
         ],
         "xaxis": "x",
         "y": [
          "M04"
         ],
         "yaxis": "y"
        },
        {
         "alignmentgroup": "True",
         "base": [
          "2028-02-07T07:20:53.650877"
         ],
         "hovertemplate": "<b>%{hovertext}</b><br><br>Job_ID=J351<br>Scheduled_Start=%{base}<br>Estimated_Completion_Time=%{x}<br>Assigned_Machine=%{y}<extra></extra>",
         "hovertext": [
          "J351"
         ],
         "legendgroup": "J351",
         "marker": {
          "color": "#636efa",
          "pattern": {
           "shape": ""
          }
         },
         "name": "J351",
         "offsetgroup": "J351",
         "orientation": "h",
         "showlegend": true,
         "textposition": "auto",
         "type": "bar",
         "x": [
          183420750.476649
         ],
         "xaxis": "x",
         "y": [
          "M05"
         ],
         "yaxis": "y"
        },
        {
         "alignmentgroup": "True",
         "base": [
          "2028-02-09T10:20:53.650877"
         ],
         "hovertemplate": "<b>%{hovertext}</b><br><br>Job_ID=J352<br>Scheduled_Start=%{base}<br>Estimated_Completion_Time=%{x}<br>Assigned_Machine=%{y}<extra></extra>",
         "hovertext": [
          "J352"
         ],
         "legendgroup": "J352",
         "marker": {
          "color": "#EF553B",
          "pattern": {
           "shape": ""
          }
         },
         "name": "J352",
         "offsetgroup": "J352",
         "orientation": "h",
         "showlegend": true,
         "textposition": "auto",
         "type": "bar",
         "x": [
          334473133.22213
         ],
         "xaxis": "x",
         "y": [
          "M05"
         ],
         "yaxis": "y"
        },
        {
         "alignmentgroup": "True",
         "base": [
          "2028-02-13T07:20:53.650877"
         ],
         "hovertemplate": "<b>%{hovertext}</b><br><br>Job_ID=J353<br>Scheduled_Start=%{base}<br>Estimated_Completion_Time=%{x}<br>Assigned_Machine=%{y}<extra></extra>",
         "hovertext": [
          "J353"
         ],
         "legendgroup": "J353",
         "marker": {
          "color": "#00cc96",
          "pattern": {
           "shape": ""
          }
         },
         "name": "J353",
         "offsetgroup": "J353",
         "orientation": "h",
         "showlegend": true,
         "textposition": "auto",
         "type": "bar",
         "x": [
          128453372.679981
         ],
         "xaxis": "x",
         "y": [
          "M04"
         ],
         "yaxis": "y"
        },
        {
         "alignmentgroup": "True",
         "base": [
          "2028-02-14T19:20:53.650877"
         ],
         "hovertemplate": "<b>%{hovertext}</b><br><br>Job_ID=J354<br>Scheduled_Start=%{base}<br>Estimated_Completion_Time=%{x}<br>Assigned_Machine=%{y}<extra></extra>",
         "hovertext": [
          "J354"
         ],
         "legendgroup": "J354",
         "marker": {
          "color": "#ab63fa",
          "pattern": {
           "shape": ""
          }
         },
         "name": "J354",
         "offsetgroup": "J354",
         "orientation": "h",
         "showlegend": true,
         "textposition": "auto",
         "type": "bar",
         "x": [
          217657103.707749
         ],
         "xaxis": "x",
         "y": [
          "M04"
         ],
         "yaxis": "y"
        },
        {
         "alignmentgroup": "True",
         "base": [
          "2028-02-17T08:20:53.650877"
         ],
         "hovertemplate": "<b>%{hovertext}</b><br><br>Job_ID=J355<br>Scheduled_Start=%{base}<br>Estimated_Completion_Time=%{x}<br>Assigned_Machine=%{y}<extra></extra>",
         "hovertext": [
          "J355"
         ],
         "legendgroup": "J355",
         "marker": {
          "color": "#FFA15A",
          "pattern": {
           "shape": ""
          }
         },
         "name": "J355",
         "offsetgroup": "J355",
         "orientation": "h",
         "showlegend": true,
         "textposition": "auto",
         "type": "bar",
         "x": [
          312894221.401346
         ],
         "xaxis": "x",
         "y": [
          "M05"
         ],
         "yaxis": "y"
        },
        {
         "alignmentgroup": "True",
         "base": [
          "2028-02-20T23:20:53.650877"
         ],
         "hovertemplate": "<b>%{hovertext}</b><br><br>Job_ID=J356<br>Scheduled_Start=%{base}<br>Estimated_Completion_Time=%{x}<br>Assigned_Machine=%{y}<extra></extra>",
         "hovertext": [
          "J356"
         ],
         "legendgroup": "J356",
         "marker": {
          "color": "#19d3f3",
          "pattern": {
           "shape": ""
          }
         },
         "name": "J356",
         "offsetgroup": "J356",
         "orientation": "h",
         "showlegend": true,
         "textposition": "auto",
         "type": "bar",
         "x": [
          360383073.352174
         ],
         "xaxis": "x",
         "y": [
          "M04"
         ],
         "yaxis": "y"
        },
        {
         "alignmentgroup": "True",
         "base": [
          "2028-02-25T04:20:53.650877"
         ],
         "hovertemplate": "<b>%{hovertext}</b><br><br>Job_ID=J357<br>Scheduled_Start=%{base}<br>Estimated_Completion_Time=%{x}<br>Assigned_Machine=%{y}<extra></extra>",
         "hovertext": [
          "J357"
         ],
         "legendgroup": "J357",
         "marker": {
          "color": "#FF6692",
          "pattern": {
           "shape": ""
          }
         },
         "name": "J357",
         "offsetgroup": "J357",
         "orientation": "h",
         "showlegend": true,
         "textposition": "auto",
         "type": "bar",
         "x": [
          413905311.968832
         ],
         "xaxis": "x",
         "y": [
          "M04"
         ],
         "yaxis": "y"
        },
        {
         "alignmentgroup": "True",
         "base": [
          "2028-03-01T00:20:53.650877"
         ],
         "hovertemplate": "<b>%{hovertext}</b><br><br>Job_ID=J358<br>Scheduled_Start=%{base}<br>Estimated_Completion_Time=%{x}<br>Assigned_Machine=%{y}<extra></extra>",
         "hovertext": [
          "J358"
         ],
         "legendgroup": "J358",
         "marker": {
          "color": "#B6E880",
          "pattern": {
           "shape": ""
          }
         },
         "name": "J358",
         "offsetgroup": "J358",
         "orientation": "h",
         "showlegend": true,
         "textposition": "auto",
         "type": "bar",
         "x": [
          237368030.028606
         ],
         "xaxis": "x",
         "y": [
          "M05"
         ],
         "yaxis": "y"
        },
        {
         "alignmentgroup": "True",
         "base": [
          "2028-03-03T18:20:53.650877"
         ],
         "hovertemplate": "<b>%{hovertext}</b><br><br>Job_ID=J359<br>Scheduled_Start=%{base}<br>Estimated_Completion_Time=%{x}<br>Assigned_Machine=%{y}<extra></extra>",
         "hovertext": [
          "J359"
         ],
         "legendgroup": "J359",
         "marker": {
          "color": "#FF97FF",
          "pattern": {
           "shape": ""
          }
         },
         "name": "J359",
         "offsetgroup": "J359",
         "orientation": "h",
         "showlegend": true,
         "textposition": "auto",
         "type": "bar",
         "x": [
          321133431.699957
         ],
         "xaxis": "x",
         "y": [
          "M04"
         ],
         "yaxis": "y"
        },
        {
         "alignmentgroup": "True",
         "base": [
          "2028-03-07T12:20:53.650877"
         ],
         "hovertemplate": "<b>%{hovertext}</b><br><br>Job_ID=J360<br>Scheduled_Start=%{base}<br>Estimated_Completion_Time=%{x}<br>Assigned_Machine=%{y}<extra></extra>",
         "hovertext": [
          "J360"
         ],
         "legendgroup": "J360",
         "marker": {
          "color": "#FECB52",
          "pattern": {
           "shape": ""
          }
         },
         "name": "J360",
         "offsetgroup": "J360",
         "orientation": "h",
         "showlegend": true,
         "textposition": "auto",
         "type": "bar",
         "x": [
          103476327.992208
         ],
         "xaxis": "x",
         "y": [
          "M04"
         ],
         "yaxis": "y"
        },
        {
         "alignmentgroup": "True",
         "base": [
          "2028-03-08T17:20:53.650877"
         ],
         "hovertemplate": "<b>%{hovertext}</b><br><br>Job_ID=J361<br>Scheduled_Start=%{base}<br>Estimated_Completion_Time=%{x}<br>Assigned_Machine=%{y}<extra></extra>",
         "hovertext": [
          "J361"
         ],
         "legendgroup": "J361",
         "marker": {
          "color": "#636efa",
          "pattern": {
           "shape": ""
          }
         },
         "name": "J361",
         "offsetgroup": "J361",
         "orientation": "h",
         "showlegend": true,
         "textposition": "auto",
         "type": "bar",
         "x": [
          298508280.187492
         ],
         "xaxis": "x",
         "y": [
          "M05"
         ],
         "yaxis": "y"
        },
        {
         "alignmentgroup": "True",
         "base": [
          "2028-03-12T04:20:53.650877"
         ],
         "hovertemplate": "<b>%{hovertext}</b><br><br>Job_ID=J362<br>Scheduled_Start=%{base}<br>Estimated_Completion_Time=%{x}<br>Assigned_Machine=%{y}<extra></extra>",
         "hovertext": [
          "J362"
         ],
         "legendgroup": "J362",
         "marker": {
          "color": "#EF553B",
          "pattern": {
           "shape": ""
          }
         },
         "name": "J362",
         "offsetgroup": "J362",
         "orientation": "h",
         "showlegend": true,
         "textposition": "auto",
         "type": "bar",
         "x": [
          179824265.173188
         ],
         "xaxis": "x",
         "y": [
          "M05"
         ],
         "yaxis": "y"
        },
        {
         "alignmentgroup": "True",
         "base": [
          "2028-03-14T06:20:53.650877"
         ],
         "hovertemplate": "<b>%{hovertext}</b><br><br>Job_ID=J363<br>Scheduled_Start=%{base}<br>Estimated_Completion_Time=%{x}<br>Assigned_Machine=%{y}<extra></extra>",
         "hovertext": [
          "J363"
         ],
         "legendgroup": "J363",
         "marker": {
          "color": "#00cc96",
          "pattern": {
           "shape": ""
          }
         },
         "name": "J363",
         "offsetgroup": "J363",
         "orientation": "h",
         "showlegend": true,
         "textposition": "auto",
         "type": "bar",
         "x": [
          421041610.451055
         ],
         "xaxis": "x",
         "y": [
          "M04"
         ],
         "yaxis": "y"
        },
        {
         "alignmentgroup": "True",
         "base": [
          "2028-03-19T04:20:53.650877"
         ],
         "hovertemplate": "<b>%{hovertext}</b><br><br>Job_ID=J364<br>Scheduled_Start=%{base}<br>Estimated_Completion_Time=%{x}<br>Assigned_Machine=%{y}<extra></extra>",
         "hovertext": [
          "J364"
         ],
         "legendgroup": "J364",
         "marker": {
          "color": "#ab63fa",
          "pattern": {
           "shape": ""
          }
         },
         "name": "J364",
         "offsetgroup": "J364",
         "orientation": "h",
         "showlegend": true,
         "textposition": "auto",
         "type": "bar",
         "x": [
          410337162.727722
         ],
         "xaxis": "x",
         "y": [
          "M04"
         ],
         "yaxis": "y"
        },
        {
         "alignmentgroup": "True",
         "base": [
          "2028-03-23T23:20:53.650877"
         ],
         "hovertemplate": "<b>%{hovertext}</b><br><br>Job_ID=J365<br>Scheduled_Start=%{base}<br>Estimated_Completion_Time=%{x}<br>Assigned_Machine=%{y}<extra></extra>",
         "hovertext": [
          "J365"
         ],
         "legendgroup": "J365",
         "marker": {
          "color": "#FFA15A",
          "pattern": {
           "shape": ""
          }
         },
         "name": "J365",
         "offsetgroup": "J365",
         "orientation": "h",
         "showlegend": true,
         "textposition": "auto",
         "type": "bar",
         "x": [
          378223819.557728
         ],
         "xaxis": "x",
         "y": [
          "M04"
         ],
         "yaxis": "y"
        },
        {
         "alignmentgroup": "True",
         "base": [
          "2028-03-28T09:20:53.650877"
         ],
         "hovertemplate": "<b>%{hovertext}</b><br><br>Job_ID=J366<br>Scheduled_Start=%{base}<br>Estimated_Completion_Time=%{x}<br>Assigned_Machine=%{y}<extra></extra>",
         "hovertext": [
          "J366"
         ],
         "legendgroup": "J366",
         "marker": {
          "color": "#19d3f3",
          "pattern": {
           "shape": ""
          }
         },
         "name": "J366",
         "offsetgroup": "J366",
         "orientation": "h",
         "showlegend": true,
         "textposition": "auto",
         "type": "bar",
         "x": [
          167703014.332198
         ],
         "xaxis": "x",
         "y": [
          "M04"
         ],
         "yaxis": "y"
        },
        {
         "alignmentgroup": "True",
         "base": [
          "2028-03-30T08:20:53.650877"
         ],
         "hovertemplate": "<b>%{hovertext}</b><br><br>Job_ID=J367<br>Scheduled_Start=%{base}<br>Estimated_Completion_Time=%{x}<br>Assigned_Machine=%{y}<extra></extra>",
         "hovertext": [
          "J367"
         ],
         "legendgroup": "J367",
         "marker": {
          "color": "#FF6692",
          "pattern": {
           "shape": ""
          }
         },
         "name": "J367",
         "offsetgroup": "J367",
         "orientation": "h",
         "showlegend": true,
         "textposition": "auto",
         "type": "bar",
         "x": [
          135589671.162205
         ],
         "xaxis": "x",
         "y": [
          "M04"
         ],
         "yaxis": "y"
        },
        {
         "alignmentgroup": "True",
         "base": [
          "2028-03-31T22:20:53.650877"
         ],
         "hovertemplate": "<b>%{hovertext}</b><br><br>Job_ID=J368<br>Scheduled_Start=%{base}<br>Estimated_Completion_Time=%{x}<br>Assigned_Machine=%{y}<extra></extra>",
         "hovertext": [
          "J368"
         ],
         "legendgroup": "J368",
         "marker": {
          "color": "#B6E880",
          "pattern": {
           "shape": ""
          }
         },
         "name": "J368",
         "offsetgroup": "J368",
         "orientation": "h",
         "showlegend": true,
         "textposition": "auto",
         "type": "bar",
         "x": [
          224793402.189969
         ],
         "xaxis": "x",
         "y": [
          "M04"
         ],
         "yaxis": "y"
        },
        {
         "alignmentgroup": "True",
         "base": [
          "2028-04-03T13:20:53.650877"
         ],
         "hovertemplate": "<b>%{hovertext}</b><br><br>Job_ID=J369<br>Scheduled_Start=%{base}<br>Estimated_Completion_Time=%{x}<br>Assigned_Machine=%{y}<extra></extra>",
         "hovertext": [
          "J369"
         ],
         "legendgroup": "J369",
         "marker": {
          "color": "#FF97FF",
          "pattern": {
           "shape": ""
          }
         },
         "name": "J369",
         "offsetgroup": "J369",
         "orientation": "h",
         "showlegend": true,
         "textposition": "auto",
         "type": "bar",
         "x": [
          271179342.324406
         ],
         "xaxis": "x",
         "y": [
          "M04"
         ],
         "yaxis": "y"
        },
        {
         "alignmentgroup": "True",
         "base": [
          "2028-04-06T17:20:53.650877"
         ],
         "hovertemplate": "<b>%{hovertext}</b><br><br>Job_ID=J370<br>Scheduled_Start=%{base}<br>Estimated_Completion_Time=%{x}<br>Assigned_Machine=%{y}<extra></extra>",
         "hovertext": [
          "J370"
         ],
         "legendgroup": "J370",
         "marker": {
          "color": "#FECB52",
          "pattern": {
           "shape": ""
          }
         },
         "name": "J370",
         "offsetgroup": "J370",
         "orientation": "h",
         "showlegend": true,
         "textposition": "auto",
         "type": "bar",
         "x": [
          167703014.332198
         ],
         "xaxis": "x",
         "y": [
          "M04"
         ],
         "yaxis": "y"
        },
        {
         "alignmentgroup": "True",
         "base": [
          "2028-04-08T16:20:53.650877"
         ],
         "hovertemplate": "<b>%{hovertext}</b><br><br>Job_ID=J371<br>Scheduled_Start=%{base}<br>Estimated_Completion_Time=%{x}<br>Assigned_Machine=%{y}<extra></extra>",
         "hovertext": [
          "J371"
         ],
         "legendgroup": "J371",
         "marker": {
          "color": "#636efa",
          "pattern": {
           "shape": ""
          }
         },
         "name": "J371",
         "offsetgroup": "J371",
         "orientation": "h",
         "showlegend": true,
         "textposition": "auto",
         "type": "bar",
         "x": [
          114180775.715541
         ],
         "xaxis": "x",
         "y": [
          "M04"
         ],
         "yaxis": "y"
        },
        {
         "alignmentgroup": "True",
         "base": [
          "2028-04-10T00:20:53.650877"
         ],
         "hovertemplate": "<b>%{hovertext}</b><br><br>Job_ID=J372<br>Scheduled_Start=%{base}<br>Estimated_Completion_Time=%{x}<br>Assigned_Machine=%{y}<extra></extra>",
         "hovertext": [
          "J372"
         ],
         "legendgroup": "J372",
         "marker": {
          "color": "#EF553B",
          "pattern": {
           "shape": ""
          }
         },
         "name": "J372",
         "offsetgroup": "J372",
         "orientation": "h",
         "showlegend": true,
         "textposition": "auto",
         "type": "bar",
         "x": [
          278315640.80663
         ],
         "xaxis": "x",
         "y": [
          "M04"
         ],
         "yaxis": "y"
        },
        {
         "alignmentgroup": "True",
         "base": [
          "2028-04-13T06:20:53.650877"
         ],
         "hovertemplate": "<b>%{hovertext}</b><br><br>Job_ID=J373<br>Scheduled_Start=%{base}<br>Estimated_Completion_Time=%{x}<br>Assigned_Machine=%{y}<extra></extra>",
         "hovertext": [
          "J373"
         ],
         "legendgroup": "J373",
         "marker": {
          "color": "#00cc96",
          "pattern": {
           "shape": ""
          }
         },
         "name": "J373",
         "offsetgroup": "J373",
         "orientation": "h",
         "showlegend": true,
         "textposition": "auto",
         "type": "bar",
         "x": [
          338974177.905511
         ],
         "xaxis": "x",
         "y": [
          "M04"
         ],
         "yaxis": "y"
        },
        {
         "alignmentgroup": "True",
         "base": [
          "2028-04-17T05:20:53.650877"
         ],
         "hovertemplate": "<b>%{hovertext}</b><br><br>Job_ID=J374<br>Scheduled_Start=%{base}<br>Estimated_Completion_Time=%{x}<br>Assigned_Machine=%{y}<extra></extra>",
         "hovertext": [
          "J374"
         ],
         "legendgroup": "J374",
         "marker": {
          "color": "#ab63fa",
          "pattern": {
           "shape": ""
          }
         },
         "name": "J374",
         "offsetgroup": "J374",
         "orientation": "h",
         "showlegend": true,
         "textposition": "auto",
         "type": "bar",
         "x": [
          171271163.573308
         ],
         "xaxis": "x",
         "y": [
          "M04"
         ],
         "yaxis": "y"
        },
        {
         "alignmentgroup": "True",
         "base": [
          "2028-04-19T05:20:53.650877"
         ],
         "hovertemplate": "<b>%{hovertext}</b><br><br>Job_ID=J375<br>Scheduled_Start=%{base}<br>Estimated_Completion_Time=%{x}<br>Assigned_Machine=%{y}<extra></extra>",
         "hovertext": [
          "J375"
         ],
         "legendgroup": "J375",
         "marker": {
          "color": "#FFA15A",
          "pattern": {
           "shape": ""
          }
         },
         "name": "J375",
         "offsetgroup": "J375",
         "orientation": "h",
         "showlegend": true,
         "textposition": "auto",
         "type": "bar",
         "x": [
          392496416.522168
         ],
         "xaxis": "x",
         "y": [
          "M04"
         ],
         "yaxis": "y"
        },
        {
         "alignmentgroup": "True",
         "base": [
          "2028-04-23T19:20:53.650877"
         ],
         "hovertemplate": "<b>%{hovertext}</b><br><br>Job_ID=J376<br>Scheduled_Start=%{base}<br>Estimated_Completion_Time=%{x}<br>Assigned_Machine=%{y}<extra></extra>",
         "hovertext": [
          "J376"
         ],
         "legendgroup": "J376",
         "marker": {
          "color": "#19d3f3",
          "pattern": {
           "shape": ""
          }
         },
         "name": "J376",
         "offsetgroup": "J376",
         "orientation": "h",
         "showlegend": true,
         "textposition": "auto",
         "type": "bar",
         "x": [
          185543760.537752
         ],
         "xaxis": "x",
         "y": [
          "M04"
         ],
         "yaxis": "y"
        },
        {
         "alignmentgroup": "True",
         "base": [
          "2028-04-25T23:20:53.650877"
         ],
         "hovertemplate": "<b>%{hovertext}</b><br><br>Job_ID=J377<br>Scheduled_Start=%{base}<br>Estimated_Completion_Time=%{x}<br>Assigned_Machine=%{y}<extra></extra>",
         "hovertext": [
          "J377"
         ],
         "legendgroup": "J377",
         "marker": {
          "color": "#FF6692",
          "pattern": {
           "shape": ""
          }
         },
         "name": "J377",
         "offsetgroup": "J377",
         "orientation": "h",
         "showlegend": true,
         "textposition": "auto",
         "type": "bar",
         "x": [
          217657103.707749
         ],
         "xaxis": "x",
         "y": [
          "M04"
         ],
         "yaxis": "y"
        },
        {
         "alignmentgroup": "True",
         "base": [
          "2028-04-28T12:20:53.650877"
         ],
         "hovertemplate": "<b>%{hovertext}</b><br><br>Job_ID=J378<br>Scheduled_Start=%{base}<br>Estimated_Completion_Time=%{x}<br>Assigned_Machine=%{y}<extra></extra>",
         "hovertext": [
          "J378"
         ],
         "legendgroup": "J378",
         "marker": {
          "color": "#B6E880",
          "pattern": {
           "shape": ""
          }
         },
         "name": "J378",
         "offsetgroup": "J378",
         "orientation": "h",
         "showlegend": true,
         "textposition": "auto",
         "type": "bar",
         "x": [
          226578574.118217
         ],
         "xaxis": "x",
         "y": [
          "M05"
         ],
         "yaxis": "y"
        },
        {
         "alignmentgroup": "True",
         "base": [
          "2028-05-01T03:20:53.650877"
         ],
         "hovertemplate": "<b>%{hovertext}</b><br><br>Job_ID=J379<br>Scheduled_Start=%{base}<br>Estimated_Completion_Time=%{x}<br>Assigned_Machine=%{y}<extra></extra>",
         "hovertext": [
          "J379"
         ],
         "legendgroup": "J379",
         "marker": {
          "color": "#FF97FF",
          "pattern": {
           "shape": ""
          }
         },
         "name": "J379",
         "offsetgroup": "J379",
         "orientation": "h",
         "showlegend": true,
         "textposition": "auto",
         "type": "bar",
         "x": [
          167703014.332198
         ],
         "xaxis": "x",
         "y": [
          "M04"
         ],
         "yaxis": "y"
        },
        {
         "alignmentgroup": "True",
         "base": [
          "2028-05-03T02:20:53.650877"
         ],
         "hovertemplate": "<b>%{hovertext}</b><br><br>Job_ID=J380<br>Scheduled_Start=%{base}<br>Estimated_Completion_Time=%{x}<br>Assigned_Machine=%{y}<extra></extra>",
         "hovertext": [
          "J380"
         ],
         "legendgroup": "J380",
         "marker": {
          "color": "#FECB52",
          "pattern": {
           "shape": ""
          }
         },
         "name": "J380",
         "offsetgroup": "J380",
         "orientation": "h",
         "showlegend": true,
         "textposition": "auto",
         "type": "bar",
         "x": [
          165438323.95933
         ],
         "xaxis": "x",
         "y": [
          "M05"
         ],
         "yaxis": "y"
        },
        {
         "alignmentgroup": "True",
         "base": [
          "2028-05-05T00:20:53.650877"
         ],
         "hovertemplate": "<b>%{hovertext}</b><br><br>Job_ID=J381<br>Scheduled_Start=%{base}<br>Estimated_Completion_Time=%{x}<br>Assigned_Machine=%{y}<extra></extra>",
         "hovertext": [
          "J381"
         ],
         "legendgroup": "J381",
         "marker": {
          "color": "#636efa",
          "pattern": {
           "shape": ""
          }
         },
         "name": "J381",
         "offsetgroup": "J381",
         "orientation": "h",
         "showlegend": true,
         "textposition": "auto",
         "type": "bar",
         "x": [
          320087192.008273
         ],
         "xaxis": "x",
         "y": [
          "M05"
         ],
         "yaxis": "y"
        },
        {
         "alignmentgroup": "True",
         "base": [
          "2028-05-08T17:20:53.650877"
         ],
         "hovertemplate": "<b>%{hovertext}</b><br><br>Job_ID=J382<br>Scheduled_Start=%{base}<br>Estimated_Completion_Time=%{x}<br>Assigned_Machine=%{y}<extra></extra>",
         "hovertext": [
          "J382"
         ],
         "legendgroup": "J382",
         "marker": {
          "color": "#EF553B",
          "pattern": {
           "shape": ""
          }
         },
         "name": "J382",
         "offsetgroup": "J382",
         "orientation": "h",
         "showlegend": true,
         "textposition": "auto",
         "type": "bar",
         "x": [
          256906745.359966
         ],
         "xaxis": "x",
         "y": [
          "M04"
         ],
         "yaxis": "y"
        },
        {
         "alignmentgroup": "True",
         "base": [
          "2028-05-11T17:20:53.650877"
         ],
         "hovertemplate": "<b>%{hovertext}</b><br><br>Job_ID=J383<br>Scheduled_Start=%{base}<br>Estimated_Completion_Time=%{x}<br>Assigned_Machine=%{y}<extra></extra>",
         "hovertext": [
          "J383"
         ],
         "legendgroup": "J383",
         "marker": {
          "color": "#00cc96",
          "pattern": {
           "shape": ""
          }
         },
         "name": "J383",
         "offsetgroup": "J383",
         "orientation": "h",
         "showlegend": true,
         "textposition": "auto",
         "type": "bar",
         "x": [
          231929700.672189
         ],
         "xaxis": "x",
         "y": [
          "M04"
         ],
         "yaxis": "y"
        },
        {
         "alignmentgroup": "True",
         "base": [
          "2028-05-14T10:20:53.650877"
         ],
         "hovertemplate": "<b>%{hovertext}</b><br><br>Job_ID=J384<br>Scheduled_Start=%{base}<br>Estimated_Completion_Time=%{x}<br>Assigned_Machine=%{y}<extra></extra>",
         "hovertext": [
          "J384"
         ],
         "legendgroup": "J384",
         "marker": {
          "color": "#ab63fa",
          "pattern": {
           "shape": ""
          }
         },
         "name": "J384",
         "offsetgroup": "J384",
         "orientation": "h",
         "showlegend": true,
         "textposition": "auto",
         "type": "bar",
         "x": [
          178407462.055532
         ],
         "xaxis": "x",
         "y": [
          "M04"
         ],
         "yaxis": "y"
        },
        {
         "alignmentgroup": "True",
         "base": [
          "2028-05-16T12:20:53.650877"
         ],
         "hovertemplate": "<b>%{hovertext}</b><br><br>Job_ID=J385<br>Scheduled_Start=%{base}<br>Estimated_Completion_Time=%{x}<br>Assigned_Machine=%{y}<extra></extra>",
         "hovertext": [
          "J385"
         ],
         "legendgroup": "J385",
         "marker": {
          "color": "#FFA15A",
          "pattern": {
           "shape": ""
          }
         },
         "name": "J385",
         "offsetgroup": "J385",
         "orientation": "h",
         "showlegend": true,
         "textposition": "auto",
         "type": "bar",
         "x": [
          210520805.225526
         ],
         "xaxis": "x",
         "y": [
          "M04"
         ],
         "yaxis": "y"
        },
        {
         "alignmentgroup": "True",
         "base": [
          "2028-05-18T23:20:53.650877"
         ],
         "hovertemplate": "<b>%{hovertext}</b><br><br>Job_ID=J386<br>Scheduled_Start=%{base}<br>Estimated_Completion_Time=%{x}<br>Assigned_Machine=%{y}<extra></extra>",
         "hovertext": [
          "J386"
         ],
         "legendgroup": "J386",
         "marker": {
          "color": "#19d3f3",
          "pattern": {
           "shape": ""
          }
         },
         "name": "J386",
         "offsetgroup": "J386",
         "orientation": "h",
         "showlegend": true,
         "textposition": "auto",
         "type": "bar",
         "x": [
          262543427.152855
         ],
         "xaxis": "x",
         "y": [
          "M05"
         ],
         "yaxis": "y"
        },
        {
         "alignmentgroup": "True",
         "base": [
          "2028-05-22T00:20:53.650877"
         ],
         "hovertemplate": "<b>%{hovertext}</b><br><br>Job_ID=J387<br>Scheduled_Start=%{base}<br>Estimated_Completion_Time=%{x}<br>Assigned_Machine=%{y}<extra></extra>",
         "hovertext": [
          "J387"
         ],
         "legendgroup": "J387",
         "marker": {
          "color": "#FF6692",
          "pattern": {
           "shape": ""
          }
         },
         "name": "J387",
         "offsetgroup": "J387",
         "orientation": "h",
         "showlegend": true,
         "textposition": "auto",
         "type": "bar",
         "x": [
          151052382.745477
         ],
         "xaxis": "x",
         "y": [
          "M05"
         ],
         "yaxis": "y"
        },
        {
         "alignmentgroup": "True",
         "base": [
          "2028-05-23T18:20:53.650877"
         ],
         "hovertemplate": "<b>%{hovertext}</b><br><br>Job_ID=J388<br>Scheduled_Start=%{base}<br>Estimated_Completion_Time=%{x}<br>Assigned_Machine=%{y}<extra></extra>",
         "hovertext": [
          "J388"
         ],
         "legendgroup": "J388",
         "marker": {
          "color": "#B6E880",
          "pattern": {
           "shape": ""
          }
         },
         "name": "J388",
         "offsetgroup": "J388",
         "orientation": "h",
         "showlegend": true,
         "textposition": "auto",
         "type": "bar",
         "x": [
          86315647.283128
         ],
         "xaxis": "x",
         "y": [
          "M05"
         ],
         "yaxis": "y"
        },
        {
         "alignmentgroup": "True",
         "base": [
          "2028-05-24T18:20:53.650877"
         ],
         "hovertemplate": "<b>%{hovertext}</b><br><br>Job_ID=J389<br>Scheduled_Start=%{base}<br>Estimated_Completion_Time=%{x}<br>Assigned_Machine=%{y}<extra></extra>",
         "hovertext": [
          "J389"
         ],
         "legendgroup": "J389",
         "marker": {
          "color": "#FF97FF",
          "pattern": {
           "shape": ""
          }
         },
         "name": "J389",
         "offsetgroup": "J389",
         "orientation": "h",
         "showlegend": true,
         "textposition": "auto",
         "type": "bar",
         "x": [
          255350456.545924
         ],
         "xaxis": "x",
         "y": [
          "M05"
         ],
         "yaxis": "y"
        },
        {
         "alignmentgroup": "True",
         "base": [
          "2028-05-27T17:20:53.650877"
         ],
         "hovertemplate": "<b>%{hovertext}</b><br><br>Job_ID=J390<br>Scheduled_Start=%{base}<br>Estimated_Completion_Time=%{x}<br>Assigned_Machine=%{y}<extra></extra>",
         "hovertext": [
          "J390"
         ],
         "legendgroup": "J390",
         "marker": {
          "color": "#FECB52",
          "pattern": {
           "shape": ""
          }
         },
         "name": "J390",
         "offsetgroup": "J390",
         "orientation": "h",
         "showlegend": true,
         "textposition": "auto",
         "type": "bar",
         "x": [
          271179342.324406
         ],
         "xaxis": "x",
         "y": [
          "M04"
         ],
         "yaxis": "y"
        },
        {
         "alignmentgroup": "True",
         "base": [
          "2028-05-30T21:20:53.650877"
         ],
         "hovertemplate": "<b>%{hovertext}</b><br><br>Job_ID=J391<br>Scheduled_Start=%{base}<br>Estimated_Completion_Time=%{x}<br>Assigned_Machine=%{y}<extra></extra>",
         "hovertext": [
          "J391"
         ],
         "legendgroup": "J391",
         "marker": {
          "color": "#636efa",
          "pattern": {
           "shape": ""
          }
         },
         "name": "J391",
         "offsetgroup": "J391",
         "orientation": "h",
         "showlegend": true,
         "textposition": "auto",
         "type": "bar",
         "x": [
          124885223.438871
         ],
         "xaxis": "x",
         "y": [
          "M04"
         ],
         "yaxis": "y"
        },
        {
         "alignmentgroup": "True",
         "base": [
          "2028-06-01T08:20:53.650877"
         ],
         "hovertemplate": "<b>%{hovertext}</b><br><br>Job_ID=J392<br>Scheduled_Start=%{base}<br>Estimated_Completion_Time=%{x}<br>Assigned_Machine=%{y}<extra></extra>",
         "hovertext": [
          "J392"
         ],
         "legendgroup": "J392",
         "marker": {
          "color": "#EF553B",
          "pattern": {
           "shape": ""
          }
         },
         "name": "J392",
         "offsetgroup": "J392",
         "orientation": "h",
         "showlegend": true,
         "textposition": "auto",
         "type": "bar",
         "x": [
          342542327.146621
         ],
         "xaxis": "x",
         "y": [
          "M04"
         ],
         "yaxis": "y"
        },
        {
         "alignmentgroup": "True",
         "base": [
          "2028-06-05T08:20:53.650877"
         ],
         "hovertemplate": "<b>%{hovertext}</b><br><br>Job_ID=J393<br>Scheduled_Start=%{base}<br>Estimated_Completion_Time=%{x}<br>Assigned_Machine=%{y}<extra></extra>",
         "hovertext": [
          "J393"
         ],
         "legendgroup": "J393",
         "marker": {
          "color": "#00cc96",
          "pattern": {
           "shape": ""
          }
         },
         "name": "J393",
         "offsetgroup": "J393",
         "orientation": "h",
         "showlegend": true,
         "textposition": "auto",
         "type": "bar",
         "x": [
          246202297.636633
         ],
         "xaxis": "x",
         "y": [
          "M04"
         ],
         "yaxis": "y"
        },
        {
         "alignmentgroup": "True",
         "base": [
          "2028-06-08T05:20:53.650877"
         ],
         "hovertemplate": "<b>%{hovertext}</b><br><br>Job_ID=J394<br>Scheduled_Start=%{base}<br>Estimated_Completion_Time=%{x}<br>Assigned_Machine=%{y}<extra></extra>",
         "hovertext": [
          "J394"
         ],
         "legendgroup": "J394",
         "marker": {
          "color": "#ab63fa",
          "pattern": {
           "shape": ""
          }
         },
         "name": "J394",
         "offsetgroup": "J394",
         "orientation": "h",
         "showlegend": true,
         "textposition": "auto",
         "type": "bar",
         "x": [
          264043043.842186
         ],
         "xaxis": "x",
         "y": [
          "M04"
         ],
         "yaxis": "y"
        },
        {
         "alignmentgroup": "True",
         "base": [
          "2028-06-11T07:20:53.650877"
         ],
         "hovertemplate": "<b>%{hovertext}</b><br><br>Job_ID=J395<br>Scheduled_Start=%{base}<br>Estimated_Completion_Time=%{x}<br>Assigned_Machine=%{y}<extra></extra>",
         "hovertext": [
          "J395"
         ],
         "legendgroup": "J395",
         "marker": {
          "color": "#FFA15A",
          "pattern": {
           "shape": ""
          }
         },
         "name": "J395",
         "offsetgroup": "J395",
         "orientation": "h",
         "showlegend": true,
         "textposition": "auto",
         "type": "bar",
         "x": [
          235497849.913303
         ],
         "xaxis": "x",
         "y": [
          "M04"
         ],
         "yaxis": "y"
        },
        {
         "alignmentgroup": "True",
         "base": [
          "2028-06-14T01:20:53.650877"
         ],
         "hovertemplate": "<b>%{hovertext}</b><br><br>Job_ID=J396<br>Scheduled_Start=%{base}<br>Estimated_Completion_Time=%{x}<br>Assigned_Machine=%{y}<extra></extra>",
         "hovertext": [
          "J396"
         ],
         "legendgroup": "J396",
         "marker": {
          "color": "#19d3f3",
          "pattern": {
           "shape": ""
          }
         },
         "name": "J396",
         "offsetgroup": "J396",
         "orientation": "h",
         "showlegend": true,
         "textposition": "auto",
         "type": "bar",
         "x": [
          240964515.332071
         ],
         "xaxis": "x",
         "y": [
          "M05"
         ],
         "yaxis": "y"
        },
        {
         "alignmentgroup": "True",
         "base": [
          "2028-06-16T20:20:53.650877"
         ],
         "hovertemplate": "<b>%{hovertext}</b><br><br>Job_ID=J397<br>Scheduled_Start=%{base}<br>Estimated_Completion_Time=%{x}<br>Assigned_Machine=%{y}<extra></extra>",
         "hovertext": [
          "J397"
         ],
         "legendgroup": "J397",
         "marker": {
          "color": "#FF6692",
          "pattern": {
           "shape": ""
          }
         },
         "name": "J397",
         "offsetgroup": "J397",
         "orientation": "h",
         "showlegend": true,
         "textposition": "auto",
         "type": "bar",
         "x": [
          82067432.545544
         ],
         "xaxis": "x",
         "y": [
          "M04"
         ],
         "yaxis": "y"
        },
        {
         "alignmentgroup": "True",
         "base": [
          "2028-06-17T19:20:53.650877"
         ],
         "hovertemplate": "<b>%{hovertext}</b><br><br>Job_ID=J398<br>Scheduled_Start=%{base}<br>Estimated_Completion_Time=%{x}<br>Assigned_Machine=%{y}<extra></extra>",
         "hovertext": [
          "J398"
         ],
         "legendgroup": "J398",
         "marker": {
          "color": "#B6E880",
          "pattern": {
           "shape": ""
          }
         },
         "name": "J398",
         "offsetgroup": "J398",
         "orientation": "h",
         "showlegend": true,
         "textposition": "auto",
         "type": "bar",
         "x": [
          294911794.884027
         ],
         "xaxis": "x",
         "y": [
          "M05"
         ],
         "yaxis": "y"
        },
        {
         "alignmentgroup": "True",
         "base": [
          "2028-06-21T05:20:53.650877"
         ],
         "hovertemplate": "<b>%{hovertext}</b><br><br>Job_ID=J399<br>Scheduled_Start=%{base}<br>Estimated_Completion_Time=%{x}<br>Assigned_Machine=%{y}<extra></extra>",
         "hovertext": [
          "J399"
         ],
         "legendgroup": "J399",
         "marker": {
          "color": "#FF97FF",
          "pattern": {
           "shape": ""
          }
         },
         "name": "J399",
         "offsetgroup": "J399",
         "orientation": "h",
         "showlegend": true,
         "textposition": "auto",
         "type": "bar",
         "x": [
          285451939.28885
         ],
         "xaxis": "x",
         "y": [
          "M04"
         ],
         "yaxis": "y"
        },
        {
         "alignmentgroup": "True",
         "base": [
          "2028-06-24T13:20:53.650877"
         ],
         "hovertemplate": "<b>%{hovertext}</b><br><br>Job_ID=J400<br>Scheduled_Start=%{base}<br>Estimated_Completion_Time=%{x}<br>Assigned_Machine=%{y}<extra></extra>",
         "hovertext": [
          "J400"
         ],
         "legendgroup": "J400",
         "marker": {
          "color": "#FECB52",
          "pattern": {
           "shape": ""
          }
         },
         "name": "J400",
         "offsetgroup": "J400",
         "orientation": "h",
         "showlegend": true,
         "textposition": "auto",
         "type": "bar",
         "x": [
          85635581.786654
         ],
         "xaxis": "x",
         "y": [
          "M04"
         ],
         "yaxis": "y"
        },
        {
         "alignmentgroup": "True",
         "base": [
          "2028-06-25T13:20:53.650877"
         ],
         "hovertemplate": "<b>%{hovertext}</b><br><br>Job_ID=J401<br>Scheduled_Start=%{base}<br>Estimated_Completion_Time=%{x}<br>Assigned_Machine=%{y}<extra></extra>",
         "hovertext": [
          "J401"
         ],
         "legendgroup": "J401",
         "marker": {
          "color": "#636efa",
          "pattern": {
           "shape": ""
          }
         },
         "name": "J401",
         "offsetgroup": "J401",
         "orientation": "h",
         "showlegend": true,
         "textposition": "auto",
         "type": "bar",
         "x": [
          174839312.814422
         ],
         "xaxis": "x",
         "y": [
          "M04"
         ],
         "yaxis": "y"
        },
        {
         "alignmentgroup": "True",
         "base": [
          "2028-06-27T14:20:53.650877"
         ],
         "hovertemplate": "<b>%{hovertext}</b><br><br>Job_ID=J402<br>Scheduled_Start=%{base}<br>Estimated_Completion_Time=%{x}<br>Assigned_Machine=%{y}<extra></extra>",
         "hovertext": [
          "J402"
         ],
         "legendgroup": "J402",
         "marker": {
          "color": "#EF553B",
          "pattern": {
           "shape": ""
          }
         },
         "name": "J402",
         "offsetgroup": "J402",
         "orientation": "h",
         "showlegend": true,
         "textposition": "auto",
         "type": "bar",
         "x": [
          403200864.245502
         ],
         "xaxis": "x",
         "y": [
          "M04"
         ],
         "yaxis": "y"
        },
        {
         "alignmentgroup": "True",
         "base": [
          "2028-07-02T07:20:53.650877"
         ],
         "hovertemplate": "<b>%{hovertext}</b><br><br>Job_ID=J403<br>Scheduled_Start=%{base}<br>Estimated_Completion_Time=%{x}<br>Assigned_Machine=%{y}<extra></extra>",
         "hovertext": [
          "J403"
         ],
         "legendgroup": "J403",
         "marker": {
          "color": "#00cc96",
          "pattern": {
           "shape": ""
          }
         },
         "name": "J403",
         "offsetgroup": "J403",
         "orientation": "h",
         "showlegend": true,
         "textposition": "auto",
         "type": "bar",
         "x": [
          403200864.245502
         ],
         "xaxis": "x",
         "y": [
          "M04"
         ],
         "yaxis": "y"
        },
        {
         "alignmentgroup": "True",
         "base": [
          "2028-07-07T00:20:53.650877"
         ],
         "hovertemplate": "<b>%{hovertext}</b><br><br>Job_ID=J404<br>Scheduled_Start=%{base}<br>Estimated_Completion_Time=%{x}<br>Assigned_Machine=%{y}<extra></extra>",
         "hovertext": [
          "J404"
         ],
         "legendgroup": "J404",
         "marker": {
          "color": "#ab63fa",
          "pattern": {
           "shape": ""
          }
         },
         "name": "J404",
         "offsetgroup": "J404",
         "orientation": "h",
         "showlegend": true,
         "textposition": "auto",
         "type": "bar",
         "x": [
          320087192.008273
         ],
         "xaxis": "x",
         "y": [
          "M05"
         ],
         "yaxis": "y"
        },
        {
         "alignmentgroup": "True",
         "base": [
          "2028-07-10T17:20:53.650877"
         ],
         "hovertemplate": "<b>%{hovertext}</b><br><br>Job_ID=J405<br>Scheduled_Start=%{base}<br>Estimated_Completion_Time=%{x}<br>Assigned_Machine=%{y}<extra></extra>",
         "hovertext": [
          "J405"
         ],
         "legendgroup": "J405",
         "marker": {
          "color": "#FFA15A",
          "pattern": {
           "shape": ""
          }
         },
         "name": "J405",
         "offsetgroup": "J405",
         "orientation": "h",
         "showlegend": true,
         "textposition": "auto",
         "type": "bar",
         "x": [
          356814924.111064
         ],
         "xaxis": "x",
         "y": [
          "M04"
         ],
         "yaxis": "y"
        },
        {
         "alignmentgroup": "True",
         "base": [
          "2028-07-14T21:20:53.650877"
         ],
         "hovertemplate": "<b>%{hovertext}</b><br><br>Job_ID=J406<br>Scheduled_Start=%{base}<br>Estimated_Completion_Time=%{x}<br>Assigned_Machine=%{y}<extra></extra>",
         "hovertext": [
          "J406"
         ],
         "legendgroup": "J406",
         "marker": {
          "color": "#19d3f3",
          "pattern": {
           "shape": ""
          }
         },
         "name": "J406",
         "offsetgroup": "J406",
         "orientation": "h",
         "showlegend": true,
         "textposition": "auto",
         "type": "bar",
         "x": [
          310428983.976624
         ],
         "xaxis": "x",
         "y": [
          "M04"
         ],
         "yaxis": "y"
        },
        {
         "alignmentgroup": "True",
         "base": [
          "2028-07-18T12:20:53.650877"
         ],
         "hovertemplate": "<b>%{hovertext}</b><br><br>Job_ID=J407<br>Scheduled_Start=%{base}<br>Estimated_Completion_Time=%{x}<br>Assigned_Machine=%{y}<extra></extra>",
         "hovertext": [
          "J407"
         ],
         "legendgroup": "J407",
         "marker": {
          "color": "#FF6692",
          "pattern": {
           "shape": ""
          }
         },
         "name": "J407",
         "offsetgroup": "J407",
         "orientation": "h",
         "showlegend": true,
         "textposition": "auto",
         "type": "bar",
         "x": [
          431578236.415651
         ],
         "xaxis": "x",
         "y": [
          "M05"
         ],
         "yaxis": "y"
        },
        {
         "alignmentgroup": "True",
         "base": [
          "2028-07-23T12:20:53.650877"
         ],
         "hovertemplate": "<b>%{hovertext}</b><br><br>Job_ID=J408<br>Scheduled_Start=%{base}<br>Estimated_Completion_Time=%{x}<br>Assigned_Machine=%{y}<extra></extra>",
         "hovertext": [
          "J408"
         ],
         "legendgroup": "J408",
         "marker": {
          "color": "#B6E880",
          "pattern": {
           "shape": ""
          }
         },
         "name": "J408",
         "offsetgroup": "J408",
         "orientation": "h",
         "showlegend": true,
         "textposition": "auto",
         "type": "bar",
         "x": [
          192680059.019972
         ],
         "xaxis": "x",
         "y": [
          "M04"
         ],
         "yaxis": "y"
        },
        {
         "alignmentgroup": "True",
         "base": [
          "2028-07-25T18:20:53.650877"
         ],
         "hovertemplate": "<b>%{hovertext}</b><br><br>Job_ID=J409<br>Scheduled_Start=%{base}<br>Estimated_Completion_Time=%{x}<br>Assigned_Machine=%{y}<extra></extra>",
         "hovertext": [
          "J409"
         ],
         "legendgroup": "J409",
         "marker": {
          "color": "#FF97FF",
          "pattern": {
           "shape": ""
          }
         },
         "name": "J409",
         "offsetgroup": "J409",
         "orientation": "h",
         "showlegend": true,
         "textposition": "auto",
         "type": "bar",
         "x": [
          110612626.474428
         ],
         "xaxis": "x",
         "y": [
          "M04"
         ],
         "yaxis": "y"
        },
        {
         "alignmentgroup": "True",
         "base": [
          "2028-07-27T01:20:53.650877"
         ],
         "hovertemplate": "<b>%{hovertext}</b><br><br>Job_ID=J410<br>Scheduled_Start=%{base}<br>Estimated_Completion_Time=%{x}<br>Assigned_Machine=%{y}<extra></extra>",
         "hovertext": [
          "J410"
         ],
         "legendgroup": "J410",
         "marker": {
          "color": "#FECB52",
          "pattern": {
           "shape": ""
          }
         },
         "name": "J410",
         "offsetgroup": "J410",
         "orientation": "h",
         "showlegend": true,
         "textposition": "auto",
         "type": "bar",
         "x": [
          331837879.423287
         ],
         "xaxis": "x",
         "y": [
          "M04"
         ],
         "yaxis": "y"
        },
        {
         "alignmentgroup": "True",
         "base": [
          "2028-07-30T22:20:53.650877"
         ],
         "hovertemplate": "<b>%{hovertext}</b><br><br>Job_ID=J411<br>Scheduled_Start=%{base}<br>Estimated_Completion_Time=%{x}<br>Assigned_Machine=%{y}<extra></extra>",
         "hovertext": [
          "J411"
         ],
         "legendgroup": "J411",
         "marker": {
          "color": "#636efa",
          "pattern": {
           "shape": ""
          }
         },
         "name": "J411",
         "offsetgroup": "J411",
         "orientation": "h",
         "showlegend": true,
         "textposition": "auto",
         "type": "bar",
         "x": [
          345262589.132518
         ],
         "xaxis": "x",
         "y": [
          "M05"
         ],
         "yaxis": "y"
        },
        {
         "alignmentgroup": "True",
         "base": [
          "2028-08-03T22:20:53.650877"
         ],
         "hovertemplate": "<b>%{hovertext}</b><br><br>Job_ID=J412<br>Scheduled_Start=%{base}<br>Estimated_Completion_Time=%{x}<br>Assigned_Machine=%{y}<extra></extra>",
         "hovertext": [
          "J412"
         ],
         "legendgroup": "J412",
         "marker": {
          "color": "#EF553B",
          "pattern": {
           "shape": ""
          }
         },
         "name": "J412",
         "offsetgroup": "J412",
         "orientation": "h",
         "showlegend": true,
         "textposition": "auto",
         "type": "bar",
         "x": [
          164134865.091088
         ],
         "xaxis": "x",
         "y": [
          "M04"
         ],
         "yaxis": "y"
        },
        {
         "alignmentgroup": "True",
         "base": [
          "2028-08-05T20:20:53.650877"
         ],
         "hovertemplate": "<b>%{hovertext}</b><br><br>Job_ID=J413<br>Scheduled_Start=%{base}<br>Estimated_Completion_Time=%{x}<br>Assigned_Machine=%{y}<extra></extra>",
         "hovertext": [
          "J413"
         ],
         "legendgroup": "J413",
         "marker": {
          "color": "#00cc96",
          "pattern": {
           "shape": ""
          }
         },
         "name": "J413",
         "offsetgroup": "J413",
         "orientation": "h",
         "showlegend": true,
         "textposition": "auto",
         "type": "bar",
         "x": [
          79122676.676202
         ],
         "xaxis": "x",
         "y": [
          "M05"
         ],
         "yaxis": "y"
        },
        {
         "alignmentgroup": "True",
         "base": [
          "2028-08-06T18:20:53.650877"
         ],
         "hovertemplate": "<b>%{hovertext}</b><br><br>Job_ID=J414<br>Scheduled_Start=%{base}<br>Estimated_Completion_Time=%{x}<br>Assigned_Machine=%{y}<extra></extra>",
         "hovertext": [
          "J414"
         ],
         "legendgroup": "J414",
         "marker": {
          "color": "#ab63fa",
          "pattern": {
           "shape": ""
          }
         },
         "name": "J414",
         "offsetgroup": "J414",
         "orientation": "h",
         "showlegend": true,
         "textposition": "auto",
         "type": "bar",
         "x": [
          110612626.474428
         ],
         "xaxis": "x",
         "y": [
          "M04"
         ],
         "yaxis": "y"
        },
        {
         "alignmentgroup": "True",
         "base": [
          "2028-08-08T01:20:53.650877"
         ],
         "hovertemplate": "<b>%{hovertext}</b><br><br>Job_ID=J415<br>Scheduled_Start=%{base}<br>Estimated_Completion_Time=%{x}<br>Assigned_Machine=%{y}<extra></extra>",
         "hovertext": [
          "J415"
         ],
         "legendgroup": "J415",
         "marker": {
          "color": "#FFA15A",
          "pattern": {
           "shape": ""
          }
         },
         "name": "J415",
         "offsetgroup": "J415",
         "orientation": "h",
         "showlegend": true,
         "textposition": "auto",
         "type": "bar",
         "x": [
          117748924.956651
         ],
         "xaxis": "x",
         "y": [
          "M04"
         ],
         "yaxis": "y"
        },
        {
         "alignmentgroup": "True",
         "base": [
          "2028-08-09T10:20:53.650877"
         ],
         "hovertemplate": "<b>%{hovertext}</b><br><br>Job_ID=J416<br>Scheduled_Start=%{base}<br>Estimated_Completion_Time=%{x}<br>Assigned_Machine=%{y}<extra></extra>",
         "hovertext": [
          "J416"
         ],
         "legendgroup": "J416",
         "marker": {
          "color": "#19d3f3",
          "pattern": {
           "shape": ""
          }
         },
         "name": "J416",
         "offsetgroup": "J416",
         "orientation": "h",
         "showlegend": true,
         "textposition": "auto",
         "type": "bar",
         "x": [
          381791968.798838
         ],
         "xaxis": "x",
         "y": [
          "M04"
         ],
         "yaxis": "y"
        },
        {
         "alignmentgroup": "True",
         "base": [
          "2028-08-13T21:20:53.650877"
         ],
         "hovertemplate": "<b>%{hovertext}</b><br><br>Job_ID=J417<br>Scheduled_Start=%{base}<br>Estimated_Completion_Time=%{x}<br>Assigned_Machine=%{y}<extra></extra>",
         "hovertext": [
          "J417"
         ],
         "legendgroup": "J417",
         "marker": {
          "color": "#FF6692",
          "pattern": {
           "shape": ""
          }
         },
         "name": "J417",
         "offsetgroup": "J417",
         "orientation": "h",
         "showlegend": true,
         "textposition": "auto",
         "type": "bar",
         "x": [
          178407462.055532
         ],
         "xaxis": "x",
         "y": [
          "M04"
         ],
         "yaxis": "y"
        },
        {
         "alignmentgroup": "True",
         "base": [
          "2028-08-15T23:20:53.650877"
         ],
         "hovertemplate": "<b>%{hovertext}</b><br><br>Job_ID=J418<br>Scheduled_Start=%{base}<br>Estimated_Completion_Time=%{x}<br>Assigned_Machine=%{y}<extra></extra>",
         "hovertext": [
          "J418"
         ],
         "legendgroup": "J418",
         "marker": {
          "color": "#B6E880",
          "pattern": {
           "shape": ""
          }
         },
         "name": "J418",
         "offsetgroup": "J418",
         "orientation": "h",
         "showlegend": true,
         "textposition": "auto",
         "type": "bar",
         "x": [
          142725969.644425
         ],
         "xaxis": "x",
         "y": [
          "M04"
         ],
         "yaxis": "y"
        },
        {
         "alignmentgroup": "True",
         "base": [
          "2028-08-17T15:20:53.650877"
         ],
         "hovertemplate": "<b>%{hovertext}</b><br><br>Job_ID=J419<br>Scheduled_Start=%{base}<br>Estimated_Completion_Time=%{x}<br>Assigned_Machine=%{y}<extra></extra>",
         "hovertext": [
          "J419"
         ],
         "legendgroup": "J419",
         "marker": {
          "color": "#FF97FF",
          "pattern": {
           "shape": ""
          }
         },
         "name": "J419",
         "offsetgroup": "J419",
         "orientation": "h",
         "showlegend": true,
         "textposition": "auto",
         "type": "bar",
         "x": [
          153430417.367758
         ],
         "xaxis": "x",
         "y": [
          "M04"
         ],
         "yaxis": "y"
        },
        {
         "alignmentgroup": "True",
         "base": [
          "2028-08-19T10:20:53.650877"
         ],
         "hovertemplate": "<b>%{hovertext}</b><br><br>Job_ID=J420<br>Scheduled_Start=%{base}<br>Estimated_Completion_Time=%{x}<br>Assigned_Machine=%{y}<extra></extra>",
         "hovertext": [
          "J420"
         ],
         "legendgroup": "J420",
         "marker": {
          "color": "#FECB52",
          "pattern": {
           "shape": ""
          }
         },
         "name": "J420",
         "offsetgroup": "J420",
         "orientation": "h",
         "showlegend": true,
         "textposition": "auto",
         "type": "bar",
         "x": [
          410337162.727722
         ],
         "xaxis": "x",
         "y": [
          "M04"
         ],
         "yaxis": "y"
        },
        {
         "alignmentgroup": "True",
         "base": [
          "2028-08-24T05:20:53.650877"
         ],
         "hovertemplate": "<b>%{hovertext}</b><br><br>Job_ID=J421<br>Scheduled_Start=%{base}<br>Estimated_Completion_Time=%{x}<br>Assigned_Machine=%{y}<extra></extra>",
         "hovertext": [
          "J421"
         ],
         "legendgroup": "J421",
         "marker": {
          "color": "#636efa",
          "pattern": {
           "shape": ""
          }
         },
         "name": "J421",
         "offsetgroup": "J421",
         "orientation": "h",
         "showlegend": true,
         "textposition": "auto",
         "type": "bar",
         "x": [
          342542327.146621
         ],
         "xaxis": "x",
         "y": [
          "M04"
         ],
         "yaxis": "y"
        },
        {
         "alignmentgroup": "True",
         "base": [
          "2028-08-28T05:20:53.650877"
         ],
         "hovertemplate": "<b>%{hovertext}</b><br><br>Job_ID=J422<br>Scheduled_Start=%{base}<br>Estimated_Completion_Time=%{x}<br>Assigned_Machine=%{y}<extra></extra>",
         "hovertext": [
          "J422"
         ],
         "legendgroup": "J422",
         "marker": {
          "color": "#EF553B",
          "pattern": {
           "shape": ""
          }
         },
         "name": "J422",
         "offsetgroup": "J422",
         "orientation": "h",
         "showlegend": true,
         "textposition": "auto",
         "type": "bar",
         "x": [
          424609759.692165
         ],
         "xaxis": "x",
         "y": [
          "M04"
         ],
         "yaxis": "y"
        },
        {
         "alignmentgroup": "True",
         "base": [
          "2028-09-02T04:20:53.650877"
         ],
         "hovertemplate": "<b>%{hovertext}</b><br><br>Job_ID=J423<br>Scheduled_Start=%{base}<br>Estimated_Completion_Time=%{x}<br>Assigned_Machine=%{y}<extra></extra>",
         "hovertext": [
          "J423"
         ],
         "legendgroup": "J423",
         "marker": {
          "color": "#00cc96",
          "pattern": {
           "shape": ""
          }
         },
         "name": "J423",
         "offsetgroup": "J423",
         "orientation": "h",
         "showlegend": true,
         "textposition": "auto",
         "type": "bar",
         "x": [
          374655670.316614
         ],
         "xaxis": "x",
         "y": [
          "M04"
         ],
         "yaxis": "y"
        },
        {
         "alignmentgroup": "True",
         "base": [
          "2028-09-06T13:20:53.650877"
         ],
         "hovertemplate": "<b>%{hovertext}</b><br><br>Job_ID=J424<br>Scheduled_Start=%{base}<br>Estimated_Completion_Time=%{x}<br>Assigned_Machine=%{y}<extra></extra>",
         "hovertext": [
          "J424"
         ],
         "legendgroup": "J424",
         "marker": {
          "color": "#ab63fa",
          "pattern": {
           "shape": ""
          }
         },
         "name": "J424",
         "offsetgroup": "J424",
         "orientation": "h",
         "showlegend": true,
         "textposition": "auto",
         "type": "bar",
         "x": [
          228361551.431079
         ],
         "xaxis": "x",
         "y": [
          "M04"
         ],
         "yaxis": "y"
        },
        {
         "alignmentgroup": "True",
         "base": [
          "2028-09-09T05:20:53.650877"
         ],
         "hovertemplate": "<b>%{hovertext}</b><br><br>Job_ID=J425<br>Scheduled_Start=%{base}<br>Estimated_Completion_Time=%{x}<br>Assigned_Machine=%{y}<extra></extra>",
         "hovertext": [
          "J425"
         ],
         "legendgroup": "J425",
         "marker": {
          "color": "#FFA15A",
          "pattern": {
           "shape": ""
          }
         },
         "name": "J425",
         "offsetgroup": "J425",
         "orientation": "h",
         "showlegend": true,
         "textposition": "auto",
         "type": "bar",
         "x": [
          392496416.522168
         ],
         "xaxis": "x",
         "y": [
          "M04"
         ],
         "yaxis": "y"
        },
        {
         "alignmentgroup": "True",
         "base": [
          "2028-09-13T19:20:53.650877"
         ],
         "hovertemplate": "<b>%{hovertext}</b><br><br>Job_ID=J426<br>Scheduled_Start=%{base}<br>Estimated_Completion_Time=%{x}<br>Assigned_Machine=%{y}<extra></extra>",
         "hovertext": [
          "J426"
         ],
         "legendgroup": "J426",
         "marker": {
          "color": "#19d3f3",
          "pattern": {
           "shape": ""
          }
         },
         "name": "J426",
         "offsetgroup": "J426",
         "orientation": "h",
         "showlegend": true,
         "textposition": "auto",
         "type": "bar",
         "x": [
          264043043.842186
         ],
         "xaxis": "x",
         "y": [
          "M04"
         ],
         "yaxis": "y"
        },
        {
         "alignmentgroup": "True",
         "base": [
          "2028-09-16T21:20:53.650877"
         ],
         "hovertemplate": "<b>%{hovertext}</b><br><br>Job_ID=J427<br>Scheduled_Start=%{base}<br>Estimated_Completion_Time=%{x}<br>Assigned_Machine=%{y}<extra></extra>",
         "hovertext": [
          "J427"
         ],
         "legendgroup": "J427",
         "marker": {
          "color": "#FF6692",
          "pattern": {
           "shape": ""
          }
         },
         "name": "J427",
         "offsetgroup": "J427",
         "orientation": "h",
         "showlegend": true,
         "textposition": "auto",
         "type": "bar",
         "x": [
          228361551.431079
         ],
         "xaxis": "x",
         "y": [
          "M04"
         ],
         "yaxis": "y"
        },
        {
         "alignmentgroup": "True",
         "base": [
          "2028-09-19T13:20:53.650877"
         ],
         "hovertemplate": "<b>%{hovertext}</b><br><br>Job_ID=J428<br>Scheduled_Start=%{base}<br>Estimated_Completion_Time=%{x}<br>Assigned_Machine=%{y}<extra></extra>",
         "hovertext": [
          "J428"
         ],
         "legendgroup": "J428",
         "marker": {
          "color": "#B6E880",
          "pattern": {
           "shape": ""
          }
         },
         "name": "J428",
         "offsetgroup": "J428",
         "orientation": "h",
         "showlegend": true,
         "textposition": "auto",
         "type": "bar",
         "x": [
          132021521.921091
         ],
         "xaxis": "x",
         "y": [
          "M04"
         ],
         "yaxis": "y"
        },
        {
         "alignmentgroup": "True",
         "base": [
          "2028-09-21T02:20:53.650877"
         ],
         "hovertemplate": "<b>%{hovertext}</b><br><br>Job_ID=J429<br>Scheduled_Start=%{base}<br>Estimated_Completion_Time=%{x}<br>Assigned_Machine=%{y}<extra></extra>",
         "hovertext": [
          "J429"
         ],
         "legendgroup": "J429",
         "marker": {
          "color": "#FF97FF",
          "pattern": {
           "shape": ""
          }
         },
         "name": "J429",
         "offsetgroup": "J429",
         "orientation": "h",
         "showlegend": true,
         "textposition": "auto",
         "type": "bar",
         "x": [
          214088954.466639
         ],
         "xaxis": "x",
         "y": [
          "M04"
         ],
         "yaxis": "y"
        },
        {
         "alignmentgroup": "True",
         "base": [
          "2028-09-23T14:20:53.650877"
         ],
         "hovertemplate": "<b>%{hovertext}</b><br><br>Job_ID=J430<br>Scheduled_Start=%{base}<br>Estimated_Completion_Time=%{x}<br>Assigned_Machine=%{y}<extra></extra>",
         "hovertext": [
          "J430"
         ],
         "legendgroup": "J430",
         "marker": {
          "color": "#FECB52",
          "pattern": {
           "shape": ""
          }
         },
         "name": "J430",
         "offsetgroup": "J430",
         "orientation": "h",
         "showlegend": true,
         "textposition": "auto",
         "type": "bar",
         "x": [
          158245353.352404
         ],
         "xaxis": "x",
         "y": [
          "M05"
         ],
         "yaxis": "y"
        },
        {
         "alignmentgroup": "True",
         "base": [
          "2028-09-25T10:20:53.650877"
         ],
         "hovertemplate": "<b>%{hovertext}</b><br><br>Job_ID=J431<br>Scheduled_Start=%{base}<br>Estimated_Completion_Time=%{x}<br>Assigned_Machine=%{y}<extra></extra>",
         "hovertext": [
          "J431"
         ],
         "legendgroup": "J431",
         "marker": {
          "color": "#636efa",
          "pattern": {
           "shape": ""
          }
         },
         "name": "J431",
         "offsetgroup": "J431",
         "orientation": "h",
         "showlegend": true,
         "textposition": "auto",
         "type": "bar",
         "x": [
          171271163.573308
         ],
         "xaxis": "x",
         "y": [
          "M04"
         ],
         "yaxis": "y"
        },
        {
         "alignmentgroup": "True",
         "base": [
          "2028-09-27T10:20:53.650877"
         ],
         "hovertemplate": "<b>%{hovertext}</b><br><br>Job_ID=J432<br>Scheduled_Start=%{base}<br>Estimated_Completion_Time=%{x}<br>Assigned_Machine=%{y}<extra></extra>",
         "hovertext": [
          "J432"
         ],
         "legendgroup": "J432",
         "marker": {
          "color": "#EF553B",
          "pattern": {
           "shape": ""
          }
         },
         "name": "J432",
         "offsetgroup": "J432",
         "orientation": "h",
         "showlegend": true,
         "textposition": "auto",
         "type": "bar",
         "x": [
          377630956.863694
         ],
         "xaxis": "x",
         "y": [
          "M05"
         ],
         "yaxis": "y"
        },
        {
         "alignmentgroup": "True",
         "base": [
          "2028-10-01T19:20:53.650877"
         ],
         "hovertemplate": "<b>%{hovertext}</b><br><br>Job_ID=J433<br>Scheduled_Start=%{base}<br>Estimated_Completion_Time=%{x}<br>Assigned_Machine=%{y}<extra></extra>",
         "hovertext": [
          "J433"
         ],
         "legendgroup": "J433",
         "marker": {
          "color": "#00cc96",
          "pattern": {
           "shape": ""
          }
         },
         "name": "J433",
         "offsetgroup": "J433",
         "orientation": "h",
         "showlegend": true,
         "textposition": "auto",
         "type": "bar",
         "x": [
          164134865.091088
         ],
         "xaxis": "x",
         "y": [
          "M04"
         ],
         "yaxis": "y"
        },
        {
         "alignmentgroup": "True",
         "base": [
          "2028-10-03T17:20:53.650877"
         ],
         "hovertemplate": "<b>%{hovertext}</b><br><br>Job_ID=J434<br>Scheduled_Start=%{base}<br>Estimated_Completion_Time=%{x}<br>Assigned_Machine=%{y}<extra></extra>",
         "hovertext": [
          "J434"
         ],
         "legendgroup": "J434",
         "marker": {
          "color": "#ab63fa",
          "pattern": {
           "shape": ""
          }
         },
         "name": "J434",
         "offsetgroup": "J434",
         "orientation": "h",
         "showlegend": true,
         "textposition": "auto",
         "type": "bar",
         "x": [
          310428983.976624
         ],
         "xaxis": "x",
         "y": [
          "M04"
         ],
         "yaxis": "y"
        },
        {
         "alignmentgroup": "True",
         "base": [
          "2028-10-07T08:20:53.650877"
         ],
         "hovertemplate": "<b>%{hovertext}</b><br><br>Job_ID=J435<br>Scheduled_Start=%{base}<br>Estimated_Completion_Time=%{x}<br>Assigned_Machine=%{y}<extra></extra>",
         "hovertext": [
          "J435"
         ],
         "legendgroup": "J435",
         "marker": {
          "color": "#FFA15A",
          "pattern": {
           "shape": ""
          }
         },
         "name": "J435",
         "offsetgroup": "J435",
         "orientation": "h",
         "showlegend": true,
         "textposition": "auto",
         "type": "bar",
         "x": [
          181975611.296642
         ],
         "xaxis": "x",
         "y": [
          "M04"
         ],
         "yaxis": "y"
        },
        {
         "alignmentgroup": "True",
         "base": [
          "2028-10-09T11:20:53.650877"
         ],
         "hovertemplate": "<b>%{hovertext}</b><br><br>Job_ID=J436<br>Scheduled_Start=%{base}<br>Estimated_Completion_Time=%{x}<br>Assigned_Machine=%{y}<extra></extra>",
         "hovertext": [
          "J436"
         ],
         "legendgroup": "J436",
         "marker": {
          "color": "#19d3f3",
          "pattern": {
           "shape": ""
          }
         },
         "name": "J436",
         "offsetgroup": "J436",
         "orientation": "h",
         "showlegend": true,
         "textposition": "auto",
         "type": "bar",
         "x": [
          210520805.225526
         ],
         "xaxis": "x",
         "y": [
          "M04"
         ],
         "yaxis": "y"
        },
        {
         "alignmentgroup": "True",
         "base": [
          "2028-10-11T22:20:53.650877"
         ],
         "hovertemplate": "<b>%{hovertext}</b><br><br>Job_ID=J437<br>Scheduled_Start=%{base}<br>Estimated_Completion_Time=%{x}<br>Assigned_Machine=%{y}<extra></extra>",
         "hovertext": [
          "J437"
         ],
         "legendgroup": "J437",
         "marker": {
          "color": "#FF6692",
          "pattern": {
           "shape": ""
          }
         },
         "name": "J437",
         "offsetgroup": "J437",
         "orientation": "h",
         "showlegend": true,
         "textposition": "auto",
         "type": "bar",
         "x": [
          203384506.743306
         ],
         "xaxis": "x",
         "y": [
          "M04"
         ],
         "yaxis": "y"
        },
        {
         "alignmentgroup": "True",
         "base": [
          "2028-10-14T07:20:53.650877"
         ],
         "hovertemplate": "<b>%{hovertext}</b><br><br>Job_ID=J438<br>Scheduled_Start=%{base}<br>Estimated_Completion_Time=%{x}<br>Assigned_Machine=%{y}<extra></extra>",
         "hovertext": [
          "J438"
         ],
         "legendgroup": "J438",
         "marker": {
          "color": "#B6E880",
          "pattern": {
           "shape": ""
          }
         },
         "name": "J438",
         "offsetgroup": "J438",
         "orientation": "h",
         "showlegend": true,
         "textposition": "auto",
         "type": "bar",
         "x": [
          388928267.281058
         ],
         "xaxis": "x",
         "y": [
          "M04"
         ],
         "yaxis": "y"
        },
        {
         "alignmentgroup": "True",
         "base": [
          "2028-10-18T20:20:53.650877"
         ],
         "hovertemplate": "<b>%{hovertext}</b><br><br>Job_ID=J439<br>Scheduled_Start=%{base}<br>Estimated_Completion_Time=%{x}<br>Assigned_Machine=%{y}<extra></extra>",
         "hovertext": [
          "J439"
         ],
         "legendgroup": "J439",
         "marker": {
          "color": "#FF97FF",
          "pattern": {
           "shape": ""
          }
         },
         "name": "J439",
         "offsetgroup": "J439",
         "orientation": "h",
         "showlegend": true,
         "textposition": "auto",
         "type": "bar",
         "x": [
          410337162.727722
         ],
         "xaxis": "x",
         "y": [
          "M04"
         ],
         "yaxis": "y"
        },
        {
         "alignmentgroup": "True",
         "base": [
          "2028-10-23T15:20:53.650877"
         ],
         "hovertemplate": "<b>%{hovertext}</b><br><br>Job_ID=J440<br>Scheduled_Start=%{base}<br>Estimated_Completion_Time=%{x}<br>Assigned_Machine=%{y}<extra></extra>",
         "hovertext": [
          "J440"
         ],
         "legendgroup": "J440",
         "marker": {
          "color": "#FECB52",
          "pattern": {
           "shape": ""
          }
         },
         "name": "J440",
         "offsetgroup": "J440",
         "orientation": "h",
         "showlegend": true,
         "textposition": "auto",
         "type": "bar",
         "x": [
          349678625.628841
         ],
         "xaxis": "x",
         "y": [
          "M04"
         ],
         "yaxis": "y"
        },
        {
         "alignmentgroup": "True",
         "base": [
          "2028-10-27T17:20:53.650877"
         ],
         "hovertemplate": "<b>%{hovertext}</b><br><br>Job_ID=J441<br>Scheduled_Start=%{base}<br>Estimated_Completion_Time=%{x}<br>Assigned_Machine=%{y}<extra></extra>",
         "hovertext": [
          "J441"
         ],
         "legendgroup": "J441",
         "marker": {
          "color": "#636efa",
          "pattern": {
           "shape": ""
          }
         },
         "name": "J441",
         "offsetgroup": "J441",
         "orientation": "h",
         "showlegend": true,
         "textposition": "auto",
         "type": "bar",
         "x": [
          222982088.814752
         ],
         "xaxis": "x",
         "y": [
          "M05"
         ],
         "yaxis": "y"
        },
        {
         "alignmentgroup": "True",
         "base": [
          "2028-10-30T07:20:53.650877"
         ],
         "hovertemplate": "<b>%{hovertext}</b><br><br>Job_ID=J442<br>Scheduled_Start=%{base}<br>Estimated_Completion_Time=%{x}<br>Assigned_Machine=%{y}<extra></extra>",
         "hovertext": [
          "J442"
         ],
         "legendgroup": "J442",
         "marker": {
          "color": "#EF553B",
          "pattern": {
           "shape": ""
          }
         },
         "name": "J442",
         "offsetgroup": "J442",
         "orientation": "h",
         "showlegend": true,
         "textposition": "auto",
         "type": "bar",
         "x": [
          346110476.387731
         ],
         "xaxis": "x",
         "y": [
          "M04"
         ],
         "yaxis": "y"
        },
        {
         "alignmentgroup": "True",
         "base": [
          "2028-11-03T08:20:53.650877"
         ],
         "hovertemplate": "<b>%{hovertext}</b><br><br>Job_ID=J443<br>Scheduled_Start=%{base}<br>Estimated_Completion_Time=%{x}<br>Assigned_Machine=%{y}<extra></extra>",
         "hovertext": [
          "J443"
         ],
         "legendgroup": "J443",
         "marker": {
          "color": "#00cc96",
          "pattern": {
           "shape": ""
          }
         },
         "name": "J443",
         "offsetgroup": "J443",
         "orientation": "h",
         "showlegend": true,
         "textposition": "auto",
         "type": "bar",
         "x": [
          388928267.281058
         ],
         "xaxis": "x",
         "y": [
          "M04"
         ],
         "yaxis": "y"
        },
        {
         "alignmentgroup": "True",
         "base": [
          "2028-11-07T21:20:53.650877"
         ],
         "hovertemplate": "<b>%{hovertext}</b><br><br>Job_ID=J444<br>Scheduled_Start=%{base}<br>Estimated_Completion_Time=%{x}<br>Assigned_Machine=%{y}<extra></extra>",
         "hovertext": [
          "J444"
         ],
         "legendgroup": "J444",
         "marker": {
          "color": "#ab63fa",
          "pattern": {
           "shape": ""
          }
         },
         "name": "J444",
         "offsetgroup": "J444",
         "orientation": "h",
         "showlegend": true,
         "textposition": "auto",
         "type": "bar",
         "x": [
          199816357.502196
         ],
         "xaxis": "x",
         "y": [
          "M04"
         ],
         "yaxis": "y"
        },
        {
         "alignmentgroup": "True",
         "base": [
          "2028-11-10T05:20:53.650877"
         ],
         "hovertemplate": "<b>%{hovertext}</b><br><br>Job_ID=J445<br>Scheduled_Start=%{base}<br>Estimated_Completion_Time=%{x}<br>Assigned_Machine=%{y}<extra></extra>",
         "hovertext": [
          "J445"
         ],
         "legendgroup": "J445",
         "marker": {
          "color": "#FFA15A",
          "pattern": {
           "shape": ""
          }
         },
         "name": "J445",
         "offsetgroup": "J445",
         "orientation": "h",
         "showlegend": true,
         "textposition": "auto",
         "type": "bar",
         "x": [
          199816357.502196
         ],
         "xaxis": "x",
         "y": [
          "M04"
         ],
         "yaxis": "y"
        },
        {
         "alignmentgroup": "True",
         "base": [
          "2028-11-12T13:20:53.650877"
         ],
         "hovertemplate": "<b>%{hovertext}</b><br><br>Job_ID=J446<br>Scheduled_Start=%{base}<br>Estimated_Completion_Time=%{x}<br>Assigned_Machine=%{y}<extra></extra>",
         "hovertext": [
          "J446"
         ],
         "legendgroup": "J446",
         "marker": {
          "color": "#19d3f3",
          "pattern": {
           "shape": ""
          }
         },
         "name": "J446",
         "offsetgroup": "J446",
         "orientation": "h",
         "showlegend": true,
         "textposition": "auto",
         "type": "bar",
         "x": [
          221225252.948859
         ],
         "xaxis": "x",
         "y": [
          "M04"
         ],
         "yaxis": "y"
        },
        {
         "alignmentgroup": "True",
         "base": [
          "2028-11-15T03:20:53.650877"
         ],
         "hovertemplate": "<b>%{hovertext}</b><br><br>Job_ID=J447<br>Scheduled_Start=%{base}<br>Estimated_Completion_Time=%{x}<br>Assigned_Machine=%{y}<extra></extra>",
         "hovertext": [
          "J447"
         ],
         "legendgroup": "J447",
         "marker": {
          "color": "#FF6692",
          "pattern": {
           "shape": ""
          }
         },
         "name": "J447",
         "offsetgroup": "J447",
         "orientation": "h",
         "showlegend": true,
         "textposition": "auto",
         "type": "bar",
         "x": [
          262543427.152855
         ],
         "xaxis": "x",
         "y": [
          "M05"
         ],
         "yaxis": "y"
        },
        {
         "alignmentgroup": "True",
         "base": [
          "2028-11-18T04:20:53.650877"
         ],
         "hovertemplate": "<b>%{hovertext}</b><br><br>Job_ID=J448<br>Scheduled_Start=%{base}<br>Estimated_Completion_Time=%{x}<br>Assigned_Machine=%{y}<extra></extra>",
         "hovertext": [
          "J448"
         ],
         "legendgroup": "J448",
         "marker": {
          "color": "#B6E880",
          "pattern": {
           "shape": ""
          }
         },
         "name": "J448",
         "offsetgroup": "J448",
         "orientation": "h",
         "showlegend": true,
         "textposition": "auto",
         "type": "bar",
         "x": [
          192680059.019972
         ],
         "xaxis": "x",
         "y": [
          "M04"
         ],
         "yaxis": "y"
        },
        {
         "alignmentgroup": "True",
         "base": [
          "2028-11-20T10:20:53.650877"
         ],
         "hovertemplate": "<b>%{hovertext}</b><br><br>Job_ID=J449<br>Scheduled_Start=%{base}<br>Estimated_Completion_Time=%{x}<br>Assigned_Machine=%{y}<extra></extra>",
         "hovertext": [
          "J449"
         ],
         "legendgroup": "J449",
         "marker": {
          "color": "#FF97FF",
          "pattern": {
           "shape": ""
          }
         },
         "name": "J449",
         "offsetgroup": "J449",
         "orientation": "h",
         "showlegend": true,
         "textposition": "auto",
         "type": "bar",
         "x": [
          421041610.451055
         ],
         "xaxis": "x",
         "y": [
          "M04"
         ],
         "yaxis": "y"
        },
        {
         "alignmentgroup": "True",
         "base": [
          "2028-11-25T08:20:53.650877"
         ],
         "hovertemplate": "<b>%{hovertext}</b><br><br>Job_ID=J450<br>Scheduled_Start=%{base}<br>Estimated_Completion_Time=%{x}<br>Assigned_Machine=%{y}<extra></extra>",
         "hovertext": [
          "J450"
         ],
         "legendgroup": "J450",
         "marker": {
          "color": "#FECB52",
          "pattern": {
           "shape": ""
          }
         },
         "name": "J450",
         "offsetgroup": "J450",
         "orientation": "h",
         "showlegend": true,
         "textposition": "auto",
         "type": "bar",
         "x": [
          338974177.905511
         ],
         "xaxis": "x",
         "y": [
          "M04"
         ],
         "yaxis": "y"
        },
        {
         "alignmentgroup": "True",
         "base": [
          "2028-11-29T07:20:53.650877"
         ],
         "hovertemplate": "<b>%{hovertext}</b><br><br>Job_ID=J451<br>Scheduled_Start=%{base}<br>Estimated_Completion_Time=%{x}<br>Assigned_Machine=%{y}<extra></extra>",
         "hovertext": [
          "J451"
         ],
         "legendgroup": "J451",
         "marker": {
          "color": "#636efa",
          "pattern": {
           "shape": ""
          }
         },
         "name": "J451",
         "offsetgroup": "J451",
         "orientation": "h",
         "showlegend": true,
         "textposition": "auto",
         "type": "bar",
         "x": [
          392016898.077548
         ],
         "xaxis": "x",
         "y": [
          "M05"
         ],
         "yaxis": "y"
        },
        {
         "alignmentgroup": "True",
         "base": [
          "2028-12-03T20:20:53.650877"
         ],
         "hovertemplate": "<b>%{hovertext}</b><br><br>Job_ID=J452<br>Scheduled_Start=%{base}<br>Estimated_Completion_Time=%{x}<br>Assigned_Machine=%{y}<extra></extra>",
         "hovertext": [
          "J452"
         ],
         "legendgroup": "J452",
         "marker": {
          "color": "#EF553B",
          "pattern": {
           "shape": ""
          }
         },
         "name": "J452",
         "offsetgroup": "J452",
         "orientation": "h",
         "showlegend": true,
         "textposition": "auto",
         "type": "bar",
         "x": [
          392496416.522168
         ],
         "xaxis": "x",
         "y": [
          "M04"
         ],
         "yaxis": "y"
        },
        {
         "alignmentgroup": "True",
         "base": [
          "2028-12-08T10:20:53.650877"
         ],
         "hovertemplate": "<b>%{hovertext}</b><br><br>Job_ID=J453<br>Scheduled_Start=%{base}<br>Estimated_Completion_Time=%{x}<br>Assigned_Machine=%{y}<extra></extra>",
         "hovertext": [
          "J453"
         ],
         "legendgroup": "J453",
         "marker": {
          "color": "#00cc96",
          "pattern": {
           "shape": ""
          }
         },
         "name": "J453",
         "offsetgroup": "J453",
         "orientation": "h",
         "showlegend": true,
         "textposition": "auto",
         "type": "bar",
         "x": [
          403200864.245502
         ],
         "xaxis": "x",
         "y": [
          "M04"
         ],
         "yaxis": "y"
        },
        {
         "alignmentgroup": "True",
         "base": [
          "2028-12-13T03:20:53.650877"
         ],
         "hovertemplate": "<b>%{hovertext}</b><br><br>Job_ID=J454<br>Scheduled_Start=%{base}<br>Estimated_Completion_Time=%{x}<br>Assigned_Machine=%{y}<extra></extra>",
         "hovertext": [
          "J454"
         ],
         "legendgroup": "J454",
         "marker": {
          "color": "#ab63fa",
          "pattern": {
           "shape": ""
          }
         },
         "name": "J454",
         "offsetgroup": "J454",
         "orientation": "h",
         "showlegend": true,
         "textposition": "auto",
         "type": "bar",
         "x": [
          197806691.690506
         ],
         "xaxis": "x",
         "y": [
          "M05"
         ],
         "yaxis": "y"
        },
        {
         "alignmentgroup": "True",
         "base": [
          "2028-12-15T10:20:53.650877"
         ],
         "hovertemplate": "<b>%{hovertext}</b><br><br>Job_ID=J455<br>Scheduled_Start=%{base}<br>Estimated_Completion_Time=%{x}<br>Assigned_Machine=%{y}<extra></extra>",
         "hovertext": [
          "J455"
         ],
         "legendgroup": "J455",
         "marker": {
          "color": "#FFA15A",
          "pattern": {
           "shape": ""
          }
         },
         "name": "J455",
         "offsetgroup": "J455",
         "orientation": "h",
         "showlegend": true,
         "textposition": "auto",
         "type": "bar",
         "x": [
          381791968.798838
         ],
         "xaxis": "x",
         "y": [
          "M04"
         ],
         "yaxis": "y"
        },
        {
         "alignmentgroup": "True",
         "base": [
          "2028-12-19T21:20:53.650877"
         ],
         "hovertemplate": "<b>%{hovertext}</b><br><br>Job_ID=J456<br>Scheduled_Start=%{base}<br>Estimated_Completion_Time=%{x}<br>Assigned_Machine=%{y}<extra></extra>",
         "hovertext": [
          "J456"
         ],
         "legendgroup": "J456",
         "marker": {
          "color": "#19d3f3",
          "pattern": {
           "shape": ""
          }
         },
         "name": "J456",
         "offsetgroup": "J456",
         "orientation": "h",
         "showlegend": true,
         "textposition": "auto",
         "type": "bar",
         "x": [
          267611193.083296
         ],
         "xaxis": "x",
         "y": [
          "M04"
         ],
         "yaxis": "y"
        },
        {
         "alignmentgroup": "True",
         "base": [
          "2028-12-23T00:20:53.650877"
         ],
         "hovertemplate": "<b>%{hovertext}</b><br><br>Job_ID=J457<br>Scheduled_Start=%{base}<br>Estimated_Completion_Time=%{x}<br>Assigned_Machine=%{y}<extra></extra>",
         "hovertext": [
          "J457"
         ],
         "legendgroup": "J457",
         "marker": {
          "color": "#FF6692",
          "pattern": {
           "shape": ""
          }
         },
         "name": "J457",
         "offsetgroup": "J457",
         "orientation": "h",
         "showlegend": true,
         "textposition": "auto",
         "type": "bar",
         "x": [
          360383073.352174
         ],
         "xaxis": "x",
         "y": [
          "M04"
         ],
         "yaxis": "y"
        },
        {
         "alignmentgroup": "True",
         "base": [
          "2028-12-27T05:20:53.650877"
         ],
         "hovertemplate": "<b>%{hovertext}</b><br><br>Job_ID=J458<br>Scheduled_Start=%{base}<br>Estimated_Completion_Time=%{x}<br>Assigned_Machine=%{y}<extra></extra>",
         "hovertext": [
          "J458"
         ],
         "legendgroup": "J458",
         "marker": {
          "color": "#B6E880",
          "pattern": {
           "shape": ""
          }
         },
         "name": "J458",
         "offsetgroup": "J458",
         "orientation": "h",
         "showlegend": true,
         "textposition": "auto",
         "type": "bar",
         "x": [
          395613383.381013
         ],
         "xaxis": "x",
         "y": [
          "M05"
         ],
         "yaxis": "y"
        },
        {
         "alignmentgroup": "True",
         "base": [
          "2028-12-31T19:20:53.650877"
         ],
         "hovertemplate": "<b>%{hovertext}</b><br><br>Job_ID=J459<br>Scheduled_Start=%{base}<br>Estimated_Completion_Time=%{x}<br>Assigned_Machine=%{y}<extra></extra>",
         "hovertext": [
          "J459"
         ],
         "legendgroup": "J459",
         "marker": {
          "color": "#FF97FF",
          "pattern": {
           "shape": ""
          }
         },
         "name": "J459",
         "offsetgroup": "J459",
         "orientation": "h",
         "showlegend": true,
         "textposition": "auto",
         "type": "bar",
         "x": [
          331837879.423287
         ],
         "xaxis": "x",
         "y": [
          "M04"
         ],
         "yaxis": "y"
        },
        {
         "alignmentgroup": "True",
         "base": [
          "2029-01-04T16:20:53.650877"
         ],
         "hovertemplate": "<b>%{hovertext}</b><br><br>Job_ID=J460<br>Scheduled_Start=%{base}<br>Estimated_Completion_Time=%{x}<br>Assigned_Machine=%{y}<extra></extra>",
         "hovertext": [
          "J460"
         ],
         "legendgroup": "J460",
         "marker": {
          "color": "#FECB52",
          "pattern": {
           "shape": ""
          }
         },
         "name": "J460",
         "offsetgroup": "J460",
         "orientation": "h",
         "showlegend": true,
         "textposition": "auto",
         "type": "bar",
         "x": [
          377630956.863694
         ],
         "xaxis": "x",
         "y": [
          "M05"
         ],
         "yaxis": "y"
        },
        {
         "alignmentgroup": "True",
         "base": [
          "2029-01-09T01:20:53.650877"
         ],
         "hovertemplate": "<b>%{hovertext}</b><br><br>Job_ID=J461<br>Scheduled_Start=%{base}<br>Estimated_Completion_Time=%{x}<br>Assigned_Machine=%{y}<extra></extra>",
         "hovertext": [
          "J461"
         ],
         "legendgroup": "J461",
         "marker": {
          "color": "#636efa",
          "pattern": {
           "shape": ""
          }
         },
         "name": "J461",
         "offsetgroup": "J461",
         "orientation": "h",
         "showlegend": true,
         "textposition": "auto",
         "type": "bar",
         "x": [
          178407462.055532
         ],
         "xaxis": "x",
         "y": [
          "M04"
         ],
         "yaxis": "y"
        },
        {
         "alignmentgroup": "True",
         "base": [
          "2029-01-11T03:20:53.650877"
         ],
         "hovertemplate": "<b>%{hovertext}</b><br><br>Job_ID=J462<br>Scheduled_Start=%{base}<br>Estimated_Completion_Time=%{x}<br>Assigned_Machine=%{y}<extra></extra>",
         "hovertext": [
          "J462"
         ],
         "legendgroup": "J462",
         "marker": {
          "color": "#EF553B",
          "pattern": {
           "shape": ""
          }
         },
         "name": "J462",
         "offsetgroup": "J462",
         "orientation": "h",
         "showlegend": true,
         "textposition": "auto",
         "type": "bar",
         "x": [
          164134865.091088
         ],
         "xaxis": "x",
         "y": [
          "M04"
         ],
         "yaxis": "y"
        },
        {
         "alignmentgroup": "True",
         "base": [
          "2029-01-13T01:20:53.650877"
         ],
         "hovertemplate": "<b>%{hovertext}</b><br><br>Job_ID=J463<br>Scheduled_Start=%{base}<br>Estimated_Completion_Time=%{x}<br>Assigned_Machine=%{y}<extra></extra>",
         "hovertext": [
          "J463"
         ],
         "legendgroup": "J463",
         "marker": {
          "color": "#00cc96",
          "pattern": {
           "shape": ""
          }
         },
         "name": "J463",
         "offsetgroup": "J463",
         "orientation": "h",
         "showlegend": true,
         "textposition": "auto",
         "type": "bar",
         "x": [
          100701588.496986
         ],
         "xaxis": "x",
         "y": [
          "M05"
         ],
         "yaxis": "y"
        },
        {
         "alignmentgroup": "True",
         "base": [
          "2029-01-14T05:20:53.650877"
         ],
         "hovertemplate": "<b>%{hovertext}</b><br><br>Job_ID=J464<br>Scheduled_Start=%{base}<br>Estimated_Completion_Time=%{x}<br>Assigned_Machine=%{y}<extra></extra>",
         "hovertext": [
          "J464"
         ],
         "legendgroup": "J464",
         "marker": {
          "color": "#ab63fa",
          "pattern": {
           "shape": ""
          }
         },
         "name": "J464",
         "offsetgroup": "J464",
         "orientation": "h",
         "showlegend": true,
         "textposition": "auto",
         "type": "bar",
         "x": [
          328269730.182177
         ],
         "xaxis": "x",
         "y": [
          "M04"
         ],
         "yaxis": "y"
        },
        {
         "alignmentgroup": "True",
         "base": [
          "2029-01-18T01:20:53.650877"
         ],
         "hovertemplate": "<b>%{hovertext}</b><br><br>Job_ID=J465<br>Scheduled_Start=%{base}<br>Estimated_Completion_Time=%{x}<br>Assigned_Machine=%{y}<extra></extra>",
         "hovertext": [
          "J465"
         ],
         "legendgroup": "J465",
         "marker": {
          "color": "#FFA15A",
          "pattern": {
           "shape": ""
          }
         },
         "name": "J465",
         "offsetgroup": "J465",
         "orientation": "h",
         "showlegend": true,
         "textposition": "auto",
         "type": "bar",
         "x": [
          99908178.751098
         ],
         "xaxis": "x",
         "y": [
          "M04"
         ],
         "yaxis": "y"
        },
        {
         "alignmentgroup": "True",
         "base": [
          "2029-01-19T05:20:53.650877"
         ],
         "hovertemplate": "<b>%{hovertext}</b><br><br>Job_ID=J466<br>Scheduled_Start=%{base}<br>Estimated_Completion_Time=%{x}<br>Assigned_Machine=%{y}<extra></extra>",
         "hovertext": [
          "J466"
         ],
         "legendgroup": "J466",
         "marker": {
          "color": "#19d3f3",
          "pattern": {
           "shape": ""
          }
         },
         "name": "J466",
         "offsetgroup": "J466",
         "orientation": "h",
         "showlegend": true,
         "textposition": "auto",
         "type": "bar",
         "x": [
          74931134.063324
         ],
         "xaxis": "x",
         "y": [
          "M04"
         ],
         "yaxis": "y"
        },
        {
         "alignmentgroup": "True",
         "base": [
          "2029-01-20T02:20:53.650877"
         ],
         "hovertemplate": "<b>%{hovertext}</b><br><br>Job_ID=J467<br>Scheduled_Start=%{base}<br>Estimated_Completion_Time=%{x}<br>Assigned_Machine=%{y}<extra></extra>",
         "hovertext": [
          "J467"
         ],
         "legendgroup": "J467",
         "marker": {
          "color": "#FF6692",
          "pattern": {
           "shape": ""
          }
         },
         "name": "J467",
         "offsetgroup": "J467",
         "orientation": "h",
         "showlegend": true,
         "textposition": "auto",
         "type": "bar",
         "x": [
          132021521.921091
         ],
         "xaxis": "x",
         "y": [
          "M04"
         ],
         "yaxis": "y"
        },
        {
         "alignmentgroup": "True",
         "base": [
          "2029-01-21T15:20:53.650877"
         ],
         "hovertemplate": "<b>%{hovertext}</b><br><br>Job_ID=J468<br>Scheduled_Start=%{base}<br>Estimated_Completion_Time=%{x}<br>Assigned_Machine=%{y}<extra></extra>",
         "hovertext": [
          "J468"
         ],
         "legendgroup": "J468",
         "marker": {
          "color": "#B6E880",
          "pattern": {
           "shape": ""
          }
         },
         "name": "J468",
         "offsetgroup": "J468",
         "orientation": "h",
         "showlegend": true,
         "textposition": "auto",
         "type": "bar",
         "x": [
          149862268.126645
         ],
         "xaxis": "x",
         "y": [
          "M04"
         ],
         "yaxis": "y"
        },
        {
         "alignmentgroup": "True",
         "base": [
          "2029-01-23T09:20:53.650877"
         ],
         "hovertemplate": "<b>%{hovertext}</b><br><br>Job_ID=J469<br>Scheduled_Start=%{base}<br>Estimated_Completion_Time=%{x}<br>Assigned_Machine=%{y}<extra></extra>",
         "hovertext": [
          "J469"
         ],
         "legendgroup": "J469",
         "marker": {
          "color": "#FF97FF",
          "pattern": {
           "shape": ""
          }
         },
         "name": "J469",
         "offsetgroup": "J469",
         "orientation": "h",
         "showlegend": true,
         "textposition": "auto",
         "type": "bar",
         "x": [
          424609759.692165
         ],
         "xaxis": "x",
         "y": [
          "M04"
         ],
         "yaxis": "y"
        },
        {
         "alignmentgroup": "True",
         "base": [
          "2029-01-28T08:20:53.650877"
         ],
         "hovertemplate": "<b>%{hovertext}</b><br><br>Job_ID=J470<br>Scheduled_Start=%{base}<br>Estimated_Completion_Time=%{x}<br>Assigned_Machine=%{y}<extra></extra>",
         "hovertext": [
          "J470"
         ],
         "legendgroup": "J470",
         "marker": {
          "color": "#FECB52",
          "pattern": {
           "shape": ""
          }
         },
         "name": "J470",
         "offsetgroup": "J470",
         "orientation": "h",
         "showlegend": true,
         "textposition": "auto",
         "type": "bar",
         "x": [
          201403176.993968
         ],
         "xaxis": "x",
         "y": [
          "M05"
         ],
         "yaxis": "y"
        },
        {
         "alignmentgroup": "True",
         "base": [
          "2029-01-30T16:20:53.650877"
         ],
         "hovertemplate": "<b>%{hovertext}</b><br><br>Job_ID=J471<br>Scheduled_Start=%{base}<br>Estimated_Completion_Time=%{x}<br>Assigned_Machine=%{y}<extra></extra>",
         "hovertext": [
          "J471"
         ],
         "legendgroup": "J471",
         "marker": {
          "color": "#636efa",
          "pattern": {
           "shape": ""
          }
         },
         "name": "J471",
         "offsetgroup": "J471",
         "orientation": "h",
         "showlegend": true,
         "textposition": "auto",
         "type": "bar",
         "x": [
          78499283.304434
         ],
         "xaxis": "x",
         "y": [
          "M04"
         ],
         "yaxis": "y"
        },
        {
         "alignmentgroup": "True",
         "base": [
          "2029-01-31T14:20:53.650877"
         ],
         "hovertemplate": "<b>%{hovertext}</b><br><br>Job_ID=J472<br>Scheduled_Start=%{base}<br>Estimated_Completion_Time=%{x}<br>Assigned_Machine=%{y}<extra></extra>",
         "hovertext": [
          "J472"
         ],
         "legendgroup": "J472",
         "marker": {
          "color": "#EF553B",
          "pattern": {
           "shape": ""
          }
         },
         "name": "J472",
         "offsetgroup": "J472",
         "orientation": "h",
         "showlegend": true,
         "textposition": "auto",
         "type": "bar",
         "x": [
          284122338.973635
         ],
         "xaxis": "x",
         "y": [
          "M05"
         ],
         "yaxis": "y"
        },
        {
         "alignmentgroup": "True",
         "base": [
          "2029-02-03T21:20:53.650877"
         ],
         "hovertemplate": "<b>%{hovertext}</b><br><br>Job_ID=J473<br>Scheduled_Start=%{base}<br>Estimated_Completion_Time=%{x}<br>Assigned_Machine=%{y}<extra></extra>",
         "hovertext": [
          "J473"
         ],
         "legendgroup": "J473",
         "marker": {
          "color": "#00cc96",
          "pattern": {
           "shape": ""
          }
         },
         "name": "J473",
         "offsetgroup": "J473",
         "orientation": "h",
         "showlegend": true,
         "textposition": "auto",
         "type": "bar",
         "x": [
          285451939.28885
         ],
         "xaxis": "x",
         "y": [
          "M04"
         ],
         "yaxis": "y"
        },
        {
         "alignmentgroup": "True",
         "base": [
          "2029-02-07T05:20:53.650877"
         ],
         "hovertemplate": "<b>%{hovertext}</b><br><br>Job_ID=J474<br>Scheduled_Start=%{base}<br>Estimated_Completion_Time=%{x}<br>Assigned_Machine=%{y}<extra></extra>",
         "hovertext": [
          "J474"
         ],
         "legendgroup": "J474",
         "marker": {
          "color": "#ab63fa",
          "pattern": {
           "shape": ""
          }
         },
         "name": "J474",
         "offsetgroup": "J474",
         "orientation": "h",
         "showlegend": true,
         "textposition": "auto",
         "type": "bar",
         "x": [
          185543760.537752
         ],
         "xaxis": "x",
         "y": [
          "M04"
         ],
         "yaxis": "y"
        },
        {
         "alignmentgroup": "True",
         "base": [
          "2029-02-09T09:20:53.650877"
         ],
         "hovertemplate": "<b>%{hovertext}</b><br><br>Job_ID=J475<br>Scheduled_Start=%{base}<br>Estimated_Completion_Time=%{x}<br>Assigned_Machine=%{y}<extra></extra>",
         "hovertext": [
          "J475"
         ],
         "legendgroup": "J475",
         "marker": {
          "color": "#FFA15A",
          "pattern": {
           "shape": ""
          }
         },
         "name": "J475",
         "offsetgroup": "J475",
         "orientation": "h",
         "showlegend": true,
         "textposition": "auto",
         "type": "bar",
         "x": [
          378223819.557728
         ],
         "xaxis": "x",
         "y": [
          "M04"
         ],
         "yaxis": "y"
        },
        {
         "alignmentgroup": "True",
         "base": [
          "2029-02-13T19:20:53.650877"
         ],
         "hovertemplate": "<b>%{hovertext}</b><br><br>Job_ID=J476<br>Scheduled_Start=%{base}<br>Estimated_Completion_Time=%{x}<br>Assigned_Machine=%{y}<extra></extra>",
         "hovertext": [
          "J476"
         ],
         "legendgroup": "J476",
         "marker": {
          "color": "#19d3f3",
          "pattern": {
           "shape": ""
          }
         },
         "name": "J476",
         "offsetgroup": "J476",
         "orientation": "h",
         "showlegend": true,
         "textposition": "auto",
         "type": "bar",
         "x": [
          296156387.012183
         ],
         "xaxis": "x",
         "y": [
          "M04"
         ],
         "yaxis": "y"
        },
        {
         "alignmentgroup": "True",
         "base": [
          "2029-02-17T06:20:53.650877"
         ],
         "hovertemplate": "<b>%{hovertext}</b><br><br>Job_ID=J477<br>Scheduled_Start=%{base}<br>Estimated_Completion_Time=%{x}<br>Assigned_Machine=%{y}<extra></extra>",
         "hovertext": [
          "J477"
         ],
         "legendgroup": "J477",
         "marker": {
          "color": "#FF6692",
          "pattern": {
           "shape": ""
          }
         },
         "name": "J477",
         "offsetgroup": "J477",
         "orientation": "h",
         "showlegend": true,
         "textposition": "auto",
         "type": "bar",
         "x": [
          124885223.438871
         ],
         "xaxis": "x",
         "y": [
          "M04"
         ],
         "yaxis": "y"
        },
        {
         "alignmentgroup": "True",
         "base": [
          "2029-02-18T17:20:53.650877"
         ],
         "hovertemplate": "<b>%{hovertext}</b><br><br>Job_ID=J478<br>Scheduled_Start=%{base}<br>Estimated_Completion_Time=%{x}<br>Assigned_Machine=%{y}<extra></extra>",
         "hovertext": [
          "J478"
         ],
         "legendgroup": "J478",
         "marker": {
          "color": "#B6E880",
          "pattern": {
           "shape": ""
          }
         },
         "name": "J478",
         "offsetgroup": "J478",
         "orientation": "h",
         "showlegend": true,
         "textposition": "auto",
         "type": "bar",
         "x": [
          121317074.197761
         ],
         "xaxis": "x",
         "y": [
          "M04"
         ],
         "yaxis": "y"
        },
        {
         "alignmentgroup": "True",
         "base": [
          "2029-02-20T03:20:53.650877"
         ],
         "hovertemplate": "<b>%{hovertext}</b><br><br>Job_ID=J479<br>Scheduled_Start=%{base}<br>Estimated_Completion_Time=%{x}<br>Assigned_Machine=%{y}<extra></extra>",
         "hovertext": [
          "J479"
         ],
         "legendgroup": "J479",
         "marker": {
          "color": "#FF97FF",
          "pattern": {
           "shape": ""
          }
         },
         "name": "J479",
         "offsetgroup": "J479",
         "orientation": "h",
         "showlegend": true,
         "textposition": "auto",
         "type": "bar",
         "x": [
          237368030.028606
         ],
         "xaxis": "x",
         "y": [
          "M05"
         ],
         "yaxis": "y"
        },
        {
         "alignmentgroup": "True",
         "base": [
          "2029-02-22T21:20:53.650877"
         ],
         "hovertemplate": "<b>%{hovertext}</b><br><br>Job_ID=J480<br>Scheduled_Start=%{base}<br>Estimated_Completion_Time=%{x}<br>Assigned_Machine=%{y}<extra></extra>",
         "hovertext": [
          "J480"
         ],
         "legendgroup": "J480",
         "marker": {
          "color": "#FECB52",
          "pattern": {
           "shape": ""
          }
         },
         "name": "J480",
         "offsetgroup": "J480",
         "orientation": "h",
         "showlegend": true,
         "textposition": "auto",
         "type": "bar",
         "x": [
          192680059.019972
         ],
         "xaxis": "x",
         "y": [
          "M04"
         ],
         "yaxis": "y"
        },
        {
         "alignmentgroup": "True",
         "base": [
          "2029-02-25T03:20:53.650877"
         ],
         "hovertemplate": "<b>%{hovertext}</b><br><br>Job_ID=J481<br>Scheduled_Start=%{base}<br>Estimated_Completion_Time=%{x}<br>Assigned_Machine=%{y}<extra></extra>",
         "hovertext": [
          "J481"
         ],
         "legendgroup": "J481",
         "marker": {
          "color": "#636efa",
          "pattern": {
           "shape": ""
          }
         },
         "name": "J481",
         "offsetgroup": "J481",
         "orientation": "h",
         "showlegend": true,
         "textposition": "auto",
         "type": "bar",
         "x": [
          135589671.162205
         ],
         "xaxis": "x",
         "y": [
          "M04"
         ],
         "yaxis": "y"
        },
        {
         "alignmentgroup": "True",
         "base": [
          "2029-02-26T17:20:53.650877"
         ],
         "hovertemplate": "<b>%{hovertext}</b><br><br>Job_ID=J482<br>Scheduled_Start=%{base}<br>Estimated_Completion_Time=%{x}<br>Assigned_Machine=%{y}<extra></extra>",
         "hovertext": [
          "J482"
         ],
         "legendgroup": "J482",
         "marker": {
          "color": "#EF553B",
          "pattern": {
           "shape": ""
          }
         },
         "name": "J482",
         "offsetgroup": "J482",
         "orientation": "h",
         "showlegend": true,
         "textposition": "auto",
         "type": "bar",
         "x": [
          260474894.601076
         ],
         "xaxis": "x",
         "y": [
          "M04"
         ],
         "yaxis": "y"
        },
        {
         "alignmentgroup": "True",
         "base": [
          "2029-03-01T18:20:53.650877"
         ],
         "hovertemplate": "<b>%{hovertext}</b><br><br>Job_ID=J483<br>Scheduled_Start=%{base}<br>Estimated_Completion_Time=%{x}<br>Assigned_Machine=%{y}<extra></extra>",
         "hovertext": [
          "J483"
         ],
         "legendgroup": "J483",
         "marker": {
          "color": "#00cc96",
          "pattern": {
           "shape": ""
          }
         },
         "name": "J483",
         "offsetgroup": "J483",
         "orientation": "h",
         "showlegend": true,
         "textposition": "auto",
         "type": "bar",
         "x": [
          117748924.956651
         ],
         "xaxis": "x",
         "y": [
          "M04"
         ],
         "yaxis": "y"
        },
        {
         "alignmentgroup": "True",
         "base": [
          "2029-03-03T03:20:53.650877"
         ],
         "hovertemplate": "<b>%{hovertext}</b><br><br>Job_ID=J484<br>Scheduled_Start=%{base}<br>Estimated_Completion_Time=%{x}<br>Assigned_Machine=%{y}<extra></extra>",
         "hovertext": [
          "J484"
         ],
         "legendgroup": "J484",
         "marker": {
          "color": "#ab63fa",
          "pattern": {
           "shape": ""
          }
         },
         "name": "J484",
         "offsetgroup": "J484",
         "orientation": "h",
         "showlegend": true,
         "textposition": "auto",
         "type": "bar",
         "x": [
          396064565.763278
         ],
         "xaxis": "x",
         "y": [
          "M04"
         ],
         "yaxis": "y"
        },
        {
         "alignmentgroup": "True",
         "base": [
          "2029-03-07T18:20:53.650877"
         ],
         "hovertemplate": "<b>%{hovertext}</b><br><br>Job_ID=J485<br>Scheduled_Start=%{base}<br>Estimated_Completion_Time=%{x}<br>Assigned_Machine=%{y}<extra></extra>",
         "hovertext": [
          "J485"
         ],
         "legendgroup": "J485",
         "marker": {
          "color": "#FFA15A",
          "pattern": {
           "shape": ""
          }
         },
         "name": "J485",
         "offsetgroup": "J485",
         "orientation": "h",
         "showlegend": true,
         "textposition": "auto",
         "type": "bar",
         "x": [
          121317074.197761
         ],
         "xaxis": "x",
         "y": [
          "M04"
         ],
         "yaxis": "y"
        },
        {
         "alignmentgroup": "True",
         "base": [
          "2029-03-09T04:20:53.650877"
         ],
         "hovertemplate": "<b>%{hovertext}</b><br><br>Job_ID=J486<br>Scheduled_Start=%{base}<br>Estimated_Completion_Time=%{x}<br>Assigned_Machine=%{y}<extra></extra>",
         "hovertext": [
          "J486"
         ],
         "legendgroup": "J486",
         "marker": {
          "color": "#19d3f3",
          "pattern": {
           "shape": ""
          }
         },
         "name": "J486",
         "offsetgroup": "J486",
         "orientation": "h",
         "showlegend": true,
         "textposition": "auto",
         "type": "bar",
         "x": [
          189111909.778862
         ],
         "xaxis": "x",
         "y": [
          "M04"
         ],
         "yaxis": "y"
        },
        {
         "alignmentgroup": "True",
         "base": [
          "2029-03-11T09:20:53.650877"
         ],
         "hovertemplate": "<b>%{hovertext}</b><br><br>Job_ID=J487<br>Scheduled_Start=%{base}<br>Estimated_Completion_Time=%{x}<br>Assigned_Machine=%{y}<extra></extra>",
         "hovertext": [
          "J487"
         ],
         "legendgroup": "J487",
         "marker": {
          "color": "#FF6692",
          "pattern": {
           "shape": ""
          }
         },
         "name": "J487",
         "offsetgroup": "J487",
         "orientation": "h",
         "showlegend": true,
         "textposition": "auto",
         "type": "bar",
         "x": [
          356814924.111064
         ],
         "xaxis": "x",
         "y": [
          "M04"
         ],
         "yaxis": "y"
        },
        {
         "alignmentgroup": "True",
         "base": [
          "2029-03-15T13:20:53.650877"
         ],
         "hovertemplate": "<b>%{hovertext}</b><br><br>Job_ID=J488<br>Scheduled_Start=%{base}<br>Estimated_Completion_Time=%{x}<br>Assigned_Machine=%{y}<extra></extra>",
         "hovertext": [
          "J488"
         ],
         "legendgroup": "J488",
         "marker": {
          "color": "#B6E880",
          "pattern": {
           "shape": ""
          }
         },
         "name": "J488",
         "offsetgroup": "J488",
         "orientation": "h",
         "showlegend": true,
         "textposition": "auto",
         "type": "bar",
         "x": [
          338974177.905511
         ],
         "xaxis": "x",
         "y": [
          "M04"
         ],
         "yaxis": "y"
        },
        {
         "alignmentgroup": "True",
         "base": [
          "2029-03-19T12:20:53.650877"
         ],
         "hovertemplate": "<b>%{hovertext}</b><br><br>Job_ID=J489<br>Scheduled_Start=%{base}<br>Estimated_Completion_Time=%{x}<br>Assigned_Machine=%{y}<extra></extra>",
         "hovertext": [
          "J489"
         ],
         "legendgroup": "J489",
         "marker": {
          "color": "#FF97FF",
          "pattern": {
           "shape": ""
          }
         },
         "name": "J489",
         "offsetgroup": "J489",
         "orientation": "h",
         "showlegend": true,
         "textposition": "auto",
         "type": "bar",
         "x": [
          132021521.921091
         ],
         "xaxis": "x",
         "y": [
          "M04"
         ],
         "yaxis": "y"
        },
        {
         "alignmentgroup": "True",
         "base": [
          "2029-03-21T01:20:53.650877"
         ],
         "hovertemplate": "<b>%{hovertext}</b><br><br>Job_ID=J490<br>Scheduled_Start=%{base}<br>Estimated_Completion_Time=%{x}<br>Assigned_Machine=%{y}<extra></extra>",
         "hovertext": [
          "J490"
         ],
         "legendgroup": "J490",
         "marker": {
          "color": "#FECB52",
          "pattern": {
           "shape": ""
          }
         },
         "name": "J490",
         "offsetgroup": "J490",
         "orientation": "h",
         "showlegend": true,
         "textposition": "auto",
         "type": "bar",
         "x": [
          289020088.52996
         ],
         "xaxis": "x",
         "y": [
          "M04"
         ],
         "yaxis": "y"
        },
        {
         "alignmentgroup": "True",
         "base": [
          "2029-03-24T10:20:53.650877"
         ],
         "hovertemplate": "<b>%{hovertext}</b><br><br>Job_ID=J491<br>Scheduled_Start=%{base}<br>Estimated_Completion_Time=%{x}<br>Assigned_Machine=%{y}<extra></extra>",
         "hovertext": [
          "J491"
         ],
         "legendgroup": "J491",
         "marker": {
          "color": "#636efa",
          "pattern": {
           "shape": ""
          }
         },
         "name": "J491",
         "offsetgroup": "J491",
         "orientation": "h",
         "showlegend": true,
         "textposition": "auto",
         "type": "bar",
         "x": [
          128453372.679981
         ],
         "xaxis": "x",
         "y": [
          "M04"
         ],
         "yaxis": "y"
        },
        {
         "alignmentgroup": "True",
         "base": [
          "2029-03-25T22:20:53.650877"
         ],
         "hovertemplate": "<b>%{hovertext}</b><br><br>Job_ID=J492<br>Scheduled_Start=%{base}<br>Estimated_Completion_Time=%{x}<br>Assigned_Machine=%{y}<extra></extra>",
         "hovertext": [
          "J492"
         ],
         "legendgroup": "J492",
         "marker": {
          "color": "#EF553B",
          "pattern": {
           "shape": ""
          }
         },
         "name": "J492",
         "offsetgroup": "J492",
         "orientation": "h",
         "showlegend": true,
         "textposition": "auto",
         "type": "bar",
         "x": [
          231929700.672189
         ],
         "xaxis": "x",
         "y": [
          "M04"
         ],
         "yaxis": "y"
        },
        {
         "alignmentgroup": "True",
         "base": [
          "2029-03-28T15:20:53.650877"
         ],
         "hovertemplate": "<b>%{hovertext}</b><br><br>Job_ID=J493<br>Scheduled_Start=%{base}<br>Estimated_Completion_Time=%{x}<br>Assigned_Machine=%{y}<extra></extra>",
         "hovertext": [
          "J493"
         ],
         "legendgroup": "J493",
         "marker": {
          "color": "#00cc96",
          "pattern": {
           "shape": ""
          }
         },
         "name": "J493",
         "offsetgroup": "J493",
         "orientation": "h",
         "showlegend": true,
         "textposition": "auto",
         "type": "bar",
         "x": [
          356814924.111064
         ],
         "xaxis": "x",
         "y": [
          "M04"
         ],
         "yaxis": "y"
        },
        {
         "alignmentgroup": "True",
         "base": [
          "2029-04-01T19:20:53.650877"
         ],
         "hovertemplate": "<b>%{hovertext}</b><br><br>Job_ID=J494<br>Scheduled_Start=%{base}<br>Estimated_Completion_Time=%{x}<br>Assigned_Machine=%{y}<extra></extra>",
         "hovertext": [
          "J494"
         ],
         "legendgroup": "J494",
         "marker": {
          "color": "#ab63fa",
          "pattern": {
           "shape": ""
          }
         },
         "name": "J494",
         "offsetgroup": "J494",
         "orientation": "h",
         "showlegend": true,
         "textposition": "auto",
         "type": "bar",
         "x": [
          253338596.118853
         ],
         "xaxis": "x",
         "y": [
          "M04"
         ],
         "yaxis": "y"
        },
        {
         "alignmentgroup": "True",
         "base": [
          "2029-04-04T18:20:53.650877"
         ],
         "hovertemplate": "<b>%{hovertext}</b><br><br>Job_ID=J495<br>Scheduled_Start=%{base}<br>Estimated_Completion_Time=%{x}<br>Assigned_Machine=%{y}<extra></extra>",
         "hovertext": [
          "J495"
         ],
         "legendgroup": "J495",
         "marker": {
          "color": "#FFA15A",
          "pattern": {
           "shape": ""
          }
         },
         "name": "J495",
         "offsetgroup": "J495",
         "orientation": "h",
         "showlegend": true,
         "textposition": "auto",
         "type": "bar",
         "x": [
          156998566.608868
         ],
         "xaxis": "x",
         "y": [
          "M04"
         ],
         "yaxis": "y"
        },
        {
         "alignmentgroup": "True",
         "base": [
          "2029-04-06T14:20:53.650877"
         ],
         "hovertemplate": "<b>%{hovertext}</b><br><br>Job_ID=J496<br>Scheduled_Start=%{base}<br>Estimated_Completion_Time=%{x}<br>Assigned_Machine=%{y}<extra></extra>",
         "hovertext": [
          "J496"
         ],
         "legendgroup": "J496",
         "marker": {
          "color": "#19d3f3",
          "pattern": {
           "shape": ""
          }
         },
         "name": "J496",
         "offsetgroup": "J496",
         "orientation": "h",
         "showlegend": true,
         "textposition": "auto",
         "type": "bar",
         "x": [
          135589671.162205
         ],
         "xaxis": "x",
         "y": [
          "M04"
         ],
         "yaxis": "y"
        },
        {
         "alignmentgroup": "True",
         "base": [
          "2029-04-08T04:20:53.650877"
         ],
         "hovertemplate": "<b>%{hovertext}</b><br><br>Job_ID=J497<br>Scheduled_Start=%{base}<br>Estimated_Completion_Time=%{x}<br>Assigned_Machine=%{y}<extra></extra>",
         "hovertext": [
          "J497"
         ],
         "legendgroup": "J497",
         "marker": {
          "color": "#FF6692",
          "pattern": {
           "shape": ""
          }
         },
         "name": "J497",
         "offsetgroup": "J497",
         "orientation": "h",
         "showlegend": true,
         "textposition": "auto",
         "type": "bar",
         "x": [
          82719161.979667
         ],
         "xaxis": "x",
         "y": [
          "M05"
         ],
         "yaxis": "y"
        },
        {
         "alignmentgroup": "True",
         "base": [
          "2029-04-09T03:20:53.650877"
         ],
         "hovertemplate": "<b>%{hovertext}</b><br><br>Job_ID=J498<br>Scheduled_Start=%{base}<br>Estimated_Completion_Time=%{x}<br>Assigned_Machine=%{y}<extra></extra>",
         "hovertext": [
          "J498"
         ],
         "legendgroup": "J498",
         "marker": {
          "color": "#B6E880",
          "pattern": {
           "shape": ""
          }
         },
         "name": "J498",
         "offsetgroup": "J498",
         "orientation": "h",
         "showlegend": true,
         "textposition": "auto",
         "type": "bar",
         "x": [
          346110476.387731
         ],
         "xaxis": "x",
         "y": [
          "M04"
         ],
         "yaxis": "y"
        },
        {
         "alignmentgroup": "True",
         "base": [
          "2029-04-13T04:20:53.650877"
         ],
         "hovertemplate": "<b>%{hovertext}</b><br><br>Job_ID=J499<br>Scheduled_Start=%{base}<br>Estimated_Completion_Time=%{x}<br>Assigned_Machine=%{y}<extra></extra>",
         "hovertext": [
          "J499"
         ],
         "legendgroup": "J499",
         "marker": {
          "color": "#FF97FF",
          "pattern": {
           "shape": ""
          }
         },
         "name": "J499",
         "offsetgroup": "J499",
         "orientation": "h",
         "showlegend": true,
         "textposition": "auto",
         "type": "bar",
         "x": [
          246202297.636633
         ],
         "xaxis": "x",
         "y": [
          "M04"
         ],
         "yaxis": "y"
        },
        {
         "alignmentgroup": "True",
         "base": [
          "2029-04-16T01:20:53.650877"
         ],
         "hovertemplate": "<b>%{hovertext}</b><br><br>Job_ID=J500<br>Scheduled_Start=%{base}<br>Estimated_Completion_Time=%{x}<br>Assigned_Machine=%{y}<extra></extra>",
         "hovertext": [
          "J500"
         ],
         "legendgroup": "J500",
         "marker": {
          "color": "#FECB52",
          "pattern": {
           "shape": ""
          }
         },
         "name": "J500",
         "offsetgroup": "J500",
         "orientation": "h",
         "showlegend": true,
         "textposition": "auto",
         "type": "bar",
         "x": [
          171271163.573308
         ],
         "xaxis": "x",
         "y": [
          "M04"
         ],
         "yaxis": "y"
        },
        {
         "alignmentgroup": "True",
         "base": [
          "2029-04-18T01:20:53.650877"
         ],
         "hovertemplate": "<b>%{hovertext}</b><br><br>Job_ID=J501<br>Scheduled_Start=%{base}<br>Estimated_Completion_Time=%{x}<br>Assigned_Machine=%{y}<extra></extra>",
         "hovertext": [
          "J501"
         ],
         "legendgroup": "J501",
         "marker": {
          "color": "#636efa",
          "pattern": {
           "shape": ""
          }
         },
         "name": "J501",
         "offsetgroup": "J501",
         "orientation": "h",
         "showlegend": true,
         "textposition": "auto",
         "type": "bar",
         "x": [
          172631294.566261
         ],
         "xaxis": "x",
         "y": [
          "M05"
         ],
         "yaxis": "y"
        },
        {
         "alignmentgroup": "True",
         "base": [
          "2029-04-20T01:20:53.650877"
         ],
         "hovertemplate": "<b>%{hovertext}</b><br><br>Job_ID=J502<br>Scheduled_Start=%{base}<br>Estimated_Completion_Time=%{x}<br>Assigned_Machine=%{y}<extra></extra>",
         "hovertext": [
          "J502"
         ],
         "legendgroup": "J502",
         "marker": {
          "color": "#EF553B",
          "pattern": {
           "shape": ""
          }
         },
         "name": "J502",
         "offsetgroup": "J502",
         "orientation": "h",
         "showlegend": true,
         "textposition": "auto",
         "type": "bar",
         "x": [
          324701580.941067
         ],
         "xaxis": "x",
         "y": [
          "M04"
         ],
         "yaxis": "y"
        },
        {
         "alignmentgroup": "True",
         "base": [
          "2029-04-23T20:20:53.650877"
         ],
         "hovertemplate": "<b>%{hovertext}</b><br><br>Job_ID=J503<br>Scheduled_Start=%{base}<br>Estimated_Completion_Time=%{x}<br>Assigned_Machine=%{y}<extra></extra>",
         "hovertext": [
          "J503"
         ],
         "legendgroup": "J503",
         "marker": {
          "color": "#00cc96",
          "pattern": {
           "shape": ""
          }
         },
         "name": "J503",
         "offsetgroup": "J503",
         "orientation": "h",
         "showlegend": true,
         "textposition": "auto",
         "type": "bar",
         "x": [
          321133431.699957
         ],
         "xaxis": "x",
         "y": [
          "M04"
         ],
         "yaxis": "y"
        },
        {
         "alignmentgroup": "True",
         "base": [
          "2029-04-27T14:20:53.650877"
         ],
         "hovertemplate": "<b>%{hovertext}</b><br><br>Job_ID=J504<br>Scheduled_Start=%{base}<br>Estimated_Completion_Time=%{x}<br>Assigned_Machine=%{y}<extra></extra>",
         "hovertext": [
          "J504"
         ],
         "legendgroup": "J504",
         "marker": {
          "color": "#ab63fa",
          "pattern": {
           "shape": ""
          }
         },
         "name": "J504",
         "offsetgroup": "J504",
         "orientation": "h",
         "showlegend": true,
         "textposition": "auto",
         "type": "bar",
         "x": [
          291315309.580562
         ],
         "xaxis": "x",
         "y": [
          "M05"
         ],
         "yaxis": "y"
        },
        {
         "alignmentgroup": "True",
         "base": [
          "2029-04-30T23:20:53.650877"
         ],
         "hovertemplate": "<b>%{hovertext}</b><br><br>Job_ID=J505<br>Scheduled_Start=%{base}<br>Estimated_Completion_Time=%{x}<br>Assigned_Machine=%{y}<extra></extra>",
         "hovertext": [
          "J505"
         ],
         "legendgroup": "J505",
         "marker": {
          "color": "#FFA15A",
          "pattern": {
           "shape": ""
          }
         },
         "name": "J505",
         "offsetgroup": "J505",
         "orientation": "h",
         "showlegend": true,
         "textposition": "auto",
         "type": "bar",
         "x": [
          264043043.842186
         ],
         "xaxis": "x",
         "y": [
          "M04"
         ],
         "yaxis": "y"
        },
        {
         "alignmentgroup": "True",
         "base": [
          "2029-05-04T01:20:53.650877"
         ],
         "hovertemplate": "<b>%{hovertext}</b><br><br>Job_ID=J506<br>Scheduled_Start=%{base}<br>Estimated_Completion_Time=%{x}<br>Assigned_Machine=%{y}<extra></extra>",
         "hovertext": [
          "J506"
         ],
         "legendgroup": "J506",
         "marker": {
          "color": "#19d3f3",
          "pattern": {
           "shape": ""
          }
         },
         "name": "J506",
         "offsetgroup": "J506",
         "orientation": "h",
         "showlegend": true,
         "textposition": "auto",
         "type": "bar",
         "x": [
          417473461.209945
         ],
         "xaxis": "x",
         "y": [
          "M04"
         ],
         "yaxis": "y"
        },
        {
         "alignmentgroup": "True",
         "base": [
          "2029-05-08T22:20:53.650877"
         ],
         "hovertemplate": "<b>%{hovertext}</b><br><br>Job_ID=J507<br>Scheduled_Start=%{base}<br>Estimated_Completion_Time=%{x}<br>Assigned_Machine=%{y}<extra></extra>",
         "hovertext": [
          "J507"
         ],
         "legendgroup": "J507",
         "marker": {
          "color": "#FF6692",
          "pattern": {
           "shape": ""
          }
         },
         "name": "J507",
         "offsetgroup": "J507",
         "orientation": "h",
         "showlegend": true,
         "textposition": "auto",
         "type": "bar",
         "x": [
          78499283.304434
         ],
         "xaxis": "x",
         "y": [
          "M04"
         ],
         "yaxis": "y"
        },
        {
         "alignmentgroup": "True",
         "base": [
          "2029-05-09T20:20:53.650877"
         ],
         "hovertemplate": "<b>%{hovertext}</b><br><br>Job_ID=J508<br>Scheduled_Start=%{base}<br>Estimated_Completion_Time=%{x}<br>Assigned_Machine=%{y}<extra></extra>",
         "hovertext": [
          "J508"
         ],
         "legendgroup": "J508",
         "marker": {
          "color": "#B6E880",
          "pattern": {
           "shape": ""
          }
         },
         "name": "J508",
         "offsetgroup": "J508",
         "orientation": "h",
         "showlegend": true,
         "textposition": "auto",
         "type": "bar",
         "x": [
          274747491.565516
         ],
         "xaxis": "x",
         "y": [
          "M04"
         ],
         "yaxis": "y"
        },
        {
         "alignmentgroup": "True",
         "base": [
          "2029-05-13T01:20:53.650877"
         ],
         "hovertemplate": "<b>%{hovertext}</b><br><br>Job_ID=J509<br>Scheduled_Start=%{base}<br>Estimated_Completion_Time=%{x}<br>Assigned_Machine=%{y}<extra></extra>",
         "hovertext": [
          "J509"
         ],
         "legendgroup": "J509",
         "marker": {
          "color": "#FF97FF",
          "pattern": {
           "shape": ""
          }
         },
         "name": "J509",
         "offsetgroup": "J509",
         "orientation": "h",
         "showlegend": true,
         "textposition": "auto",
         "type": "bar",
         "x": [
          367519371.834394
         ],
         "xaxis": "x",
         "y": [
          "M04"
         ],
         "yaxis": "y"
        },
        {
         "alignmentgroup": "True",
         "base": [
          "2029-05-17T08:20:53.650877"
         ],
         "hovertemplate": "<b>%{hovertext}</b><br><br>Job_ID=J510<br>Scheduled_Start=%{base}<br>Estimated_Completion_Time=%{x}<br>Assigned_Machine=%{y}<extra></extra>",
         "hovertext": [
          "J510"
         ],
         "legendgroup": "J510",
         "marker": {
          "color": "#FECB52",
          "pattern": {
           "shape": ""
          }
         },
         "name": "J510",
         "offsetgroup": "J510",
         "orientation": "h",
         "showlegend": true,
         "textposition": "auto",
         "type": "bar",
         "x": [
          217657103.707749
         ],
         "xaxis": "x",
         "y": [
          "M04"
         ],
         "yaxis": "y"
        },
        {
         "alignmentgroup": "True",
         "base": [
          "2029-05-19T21:20:53.650877"
         ],
         "hovertemplate": "<b>%{hovertext}</b><br><br>Job_ID=J511<br>Scheduled_Start=%{base}<br>Estimated_Completion_Time=%{x}<br>Assigned_Machine=%{y}<extra></extra>",
         "hovertext": [
          "J511"
         ],
         "legendgroup": "J511",
         "marker": {
          "color": "#636efa",
          "pattern": {
           "shape": ""
          }
         },
         "name": "J511",
         "offsetgroup": "J511",
         "orientation": "h",
         "showlegend": true,
         "textposition": "auto",
         "type": "bar",
         "x": [
          266139912.456316
         ],
         "xaxis": "x",
         "y": [
          "M05"
         ],
         "yaxis": "y"
        },
        {
         "alignmentgroup": "True",
         "base": [
          "2029-05-22T23:20:53.650877"
         ],
         "hovertemplate": "<b>%{hovertext}</b><br><br>Job_ID=J512<br>Scheduled_Start=%{base}<br>Estimated_Completion_Time=%{x}<br>Assigned_Machine=%{y}<extra></extra>",
         "hovertext": [
          "J512"
         ],
         "legendgroup": "J512",
         "marker": {
          "color": "#EF553B",
          "pattern": {
           "shape": ""
          }
         },
         "name": "J512",
         "offsetgroup": "J512",
         "orientation": "h",
         "showlegend": true,
         "textposition": "auto",
         "type": "bar",
         "x": [
          349678625.628841
         ],
         "xaxis": "x",
         "y": [
          "M04"
         ],
         "yaxis": "y"
        },
        {
         "alignmentgroup": "True",
         "base": [
          "2029-05-27T01:20:53.650877"
         ],
         "hovertemplate": "<b>%{hovertext}</b><br><br>Job_ID=J513<br>Scheduled_Start=%{base}<br>Estimated_Completion_Time=%{x}<br>Assigned_Machine=%{y}<extra></extra>",
         "hovertext": [
          "J513"
         ],
         "legendgroup": "J513",
         "marker": {
          "color": "#00cc96",
          "pattern": {
           "shape": ""
          }
         },
         "name": "J513",
         "offsetgroup": "J513",
         "orientation": "h",
         "showlegend": true,
         "textposition": "auto",
         "type": "bar",
         "x": [
          256906745.359966
         ],
         "xaxis": "x",
         "y": [
          "M04"
         ],
         "yaxis": "y"
        },
        {
         "alignmentgroup": "True",
         "base": [
          "2029-05-30T01:20:53.650877"
         ],
         "hovertemplate": "<b>%{hovertext}</b><br><br>Job_ID=J514<br>Scheduled_Start=%{base}<br>Estimated_Completion_Time=%{x}<br>Assigned_Machine=%{y}<extra></extra>",
         "hovertext": [
          "J514"
         ],
         "legendgroup": "J514",
         "marker": {
          "color": "#ab63fa",
          "pattern": {
           "shape": ""
          }
         },
         "name": "J514",
         "offsetgroup": "J514",
         "orientation": "h",
         "showlegend": true,
         "textposition": "auto",
         "type": "bar",
         "x": [
          417192295.201794
         ],
         "xaxis": "x",
         "y": [
          "M05"
         ],
         "yaxis": "y"
        },
        {
         "alignmentgroup": "True",
         "base": [
          "2029-06-03T21:20:53.650877"
         ],
         "hovertemplate": "<b>%{hovertext}</b><br><br>Job_ID=J515<br>Scheduled_Start=%{base}<br>Estimated_Completion_Time=%{x}<br>Assigned_Machine=%{y}<extra></extra>",
         "hovertext": [
          "J515"
         ],
         "legendgroup": "J515",
         "marker": {
          "color": "#FFA15A",
          "pattern": {
           "shape": ""
          }
         },
         "name": "J515",
         "offsetgroup": "J515",
         "orientation": "h",
         "showlegend": true,
         "textposition": "auto",
         "type": "bar",
         "x": [
          142725969.644425
         ],
         "xaxis": "x",
         "y": [
          "M04"
         ],
         "yaxis": "y"
        },
        {
         "alignmentgroup": "True",
         "base": [
          "2029-06-05T13:20:53.650877"
         ],
         "hovertemplate": "<b>%{hovertext}</b><br><br>Job_ID=J516<br>Scheduled_Start=%{base}<br>Estimated_Completion_Time=%{x}<br>Assigned_Machine=%{y}<extra></extra>",
         "hovertext": [
          "J516"
         ],
         "legendgroup": "J516",
         "marker": {
          "color": "#19d3f3",
          "pattern": {
           "shape": ""
          }
         },
         "name": "J516",
         "offsetgroup": "J516",
         "orientation": "h",
         "showlegend": true,
         "textposition": "auto",
         "type": "bar",
         "x": [
          178407462.055532
         ],
         "xaxis": "x",
         "y": [
          "M04"
         ],
         "yaxis": "y"
        },
        {
         "alignmentgroup": "True",
         "base": [
          "2029-06-07T15:20:53.650877"
         ],
         "hovertemplate": "<b>%{hovertext}</b><br><br>Job_ID=J517<br>Scheduled_Start=%{base}<br>Estimated_Completion_Time=%{x}<br>Assigned_Machine=%{y}<extra></extra>",
         "hovertext": [
          "J517"
         ],
         "legendgroup": "J517",
         "marker": {
          "color": "#FF6692",
          "pattern": {
           "shape": ""
          }
         },
         "name": "J517",
         "offsetgroup": "J517",
         "orientation": "h",
         "showlegend": true,
         "textposition": "auto",
         "type": "bar",
         "x": [
          235497849.913303
         ],
         "xaxis": "x",
         "y": [
          "M04"
         ],
         "yaxis": "y"
        },
        {
         "alignmentgroup": "True",
         "base": [
          "2029-06-10T09:20:53.650877"
         ],
         "hovertemplate": "<b>%{hovertext}</b><br><br>Job_ID=J518<br>Scheduled_Start=%{base}<br>Estimated_Completion_Time=%{x}<br>Assigned_Machine=%{y}<extra></extra>",
         "hovertext": [
          "J518"
         ],
         "legendgroup": "J518",
         "marker": {
          "color": "#B6E880",
          "pattern": {
           "shape": ""
          }
         },
         "name": "J518",
         "offsetgroup": "J518",
         "orientation": "h",
         "showlegend": true,
         "textposition": "auto",
         "type": "bar",
         "x": [
          217657103.707749
         ],
         "xaxis": "x",
         "y": [
          "M04"
         ],
         "yaxis": "y"
        },
        {
         "alignmentgroup": "True",
         "base": [
          "2029-06-12T22:20:53.650877"
         ],
         "hovertemplate": "<b>%{hovertext}</b><br><br>Job_ID=J519<br>Scheduled_Start=%{base}<br>Estimated_Completion_Time=%{x}<br>Assigned_Machine=%{y}<extra></extra>",
         "hovertext": [
          "J519"
         ],
         "legendgroup": "J519",
         "marker": {
          "color": "#FF97FF",
          "pattern": {
           "shape": ""
          }
         },
         "name": "J519",
         "offsetgroup": "J519",
         "orientation": "h",
         "showlegend": true,
         "textposition": "auto",
         "type": "bar",
         "x": [
          342542327.146621
         ],
         "xaxis": "x",
         "y": [
          "M04"
         ],
         "yaxis": "y"
        },
        {
         "alignmentgroup": "True",
         "base": [
          "2029-06-16T22:20:53.650877"
         ],
         "hovertemplate": "<b>%{hovertext}</b><br><br>Job_ID=J520<br>Scheduled_Start=%{base}<br>Estimated_Completion_Time=%{x}<br>Assigned_Machine=%{y}<extra></extra>",
         "hovertext": [
          "J520"
         ],
         "legendgroup": "J520",
         "marker": {
          "color": "#FECB52",
          "pattern": {
           "shape": ""
          }
         },
         "name": "J520",
         "offsetgroup": "J520",
         "orientation": "h",
         "showlegend": true,
         "textposition": "auto",
         "type": "bar",
         "x": [
          121317074.197761
         ],
         "xaxis": "x",
         "y": [
          "M04"
         ],
         "yaxis": "y"
        },
        {
         "alignmentgroup": "True",
         "base": [
          "2029-06-18T08:20:53.650877"
         ],
         "hovertemplate": "<b>%{hovertext}</b><br><br>Job_ID=J521<br>Scheduled_Start=%{base}<br>Estimated_Completion_Time=%{x}<br>Assigned_Machine=%{y}<extra></extra>",
         "hovertext": [
          "J521"
         ],
         "legendgroup": "J521",
         "marker": {
          "color": "#636efa",
          "pattern": {
           "shape": ""
          }
         },
         "name": "J521",
         "offsetgroup": "J521",
         "orientation": "h",
         "showlegend": true,
         "textposition": "auto",
         "type": "bar",
         "x": [
          222982088.814752
         ],
         "xaxis": "x",
         "y": [
          "M05"
         ],
         "yaxis": "y"
        },
        {
         "alignmentgroup": "True",
         "base": [
          "2029-06-20T22:20:53.650877"
         ],
         "hovertemplate": "<b>%{hovertext}</b><br><br>Job_ID=J522<br>Scheduled_Start=%{base}<br>Estimated_Completion_Time=%{x}<br>Assigned_Machine=%{y}<extra></extra>",
         "hovertext": [
          "J522"
         ],
         "legendgroup": "J522",
         "marker": {
          "color": "#EF553B",
          "pattern": {
           "shape": ""
          }
         },
         "name": "J522",
         "offsetgroup": "J522",
         "orientation": "h",
         "showlegend": true,
         "textposition": "auto",
         "type": "bar",
         "x": [
          85635581.786654
         ],
         "xaxis": "x",
         "y": [
          "M04"
         ],
         "yaxis": "y"
        },
        {
         "alignmentgroup": "True",
         "base": [
          "2029-06-21T22:20:53.650877"
         ],
         "hovertemplate": "<b>%{hovertext}</b><br><br>Job_ID=J523<br>Scheduled_Start=%{base}<br>Estimated_Completion_Time=%{x}<br>Assigned_Machine=%{y}<extra></extra>",
         "hovertext": [
          "J523"
         ],
         "legendgroup": "J523",
         "marker": {
          "color": "#00cc96",
          "pattern": {
           "shape": ""
          }
         },
         "name": "J523",
         "offsetgroup": "J523",
         "orientation": "h",
         "showlegend": true,
         "textposition": "auto",
         "type": "bar",
         "x": [
          185543760.537752
         ],
         "xaxis": "x",
         "y": [
          "M04"
         ],
         "yaxis": "y"
        },
        {
         "alignmentgroup": "True",
         "base": [
          "2029-06-24T02:20:53.650877"
         ],
         "hovertemplate": "<b>%{hovertext}</b><br><br>Job_ID=J524<br>Scheduled_Start=%{base}<br>Estimated_Completion_Time=%{x}<br>Assigned_Machine=%{y}<extra></extra>",
         "hovertext": [
          "J524"
         ],
         "legendgroup": "J524",
         "marker": {
          "color": "#ab63fa",
          "pattern": {
           "shape": ""
          }
         },
         "name": "J524",
         "offsetgroup": "J524",
         "orientation": "h",
         "showlegend": true,
         "textposition": "auto",
         "type": "bar",
         "x": [
          221225252.948859
         ],
         "xaxis": "x",
         "y": [
          "M04"
         ],
         "yaxis": "y"
        },
        {
         "alignmentgroup": "True",
         "base": [
          "2029-06-26T16:20:53.650877"
         ],
         "hovertemplate": "<b>%{hovertext}</b><br><br>Job_ID=J525<br>Scheduled_Start=%{base}<br>Estimated_Completion_Time=%{x}<br>Assigned_Machine=%{y}<extra></extra>",
         "hovertext": [
          "J525"
         ],
         "legendgroup": "J525",
         "marker": {
          "color": "#FFA15A",
          "pattern": {
           "shape": ""
          }
         },
         "name": "J525",
         "offsetgroup": "J525",
         "orientation": "h",
         "showlegend": true,
         "textposition": "auto",
         "type": "bar",
         "x": [
          328269730.182177
         ],
         "xaxis": "x",
         "y": [
          "M04"
         ],
         "yaxis": "y"
        },
        {
         "alignmentgroup": "True",
         "base": [
          "2029-06-30T12:20:53.650877"
         ],
         "hovertemplate": "<b>%{hovertext}</b><br><br>Job_ID=J526<br>Scheduled_Start=%{base}<br>Estimated_Completion_Time=%{x}<br>Assigned_Machine=%{y}<extra></extra>",
         "hovertext": [
          "J526"
         ],
         "legendgroup": "J526",
         "marker": {
          "color": "#19d3f3",
          "pattern": {
           "shape": ""
          }
         },
         "name": "J526",
         "offsetgroup": "J526",
         "orientation": "h",
         "showlegend": true,
         "textposition": "auto",
         "type": "bar",
         "x": [
          271179342.324406
         ],
         "xaxis": "x",
         "y": [
          "M04"
         ],
         "yaxis": "y"
        },
        {
         "alignmentgroup": "True",
         "base": [
          "2029-07-03T16:20:53.650877"
         ],
         "hovertemplate": "<b>%{hovertext}</b><br><br>Job_ID=J527<br>Scheduled_Start=%{base}<br>Estimated_Completion_Time=%{x}<br>Assigned_Machine=%{y}<extra></extra>",
         "hovertext": [
          "J527"
         ],
         "legendgroup": "J527",
         "marker": {
          "color": "#FF6692",
          "pattern": {
           "shape": ""
          }
         },
         "name": "J527",
         "offsetgroup": "J527",
         "orientation": "h",
         "showlegend": true,
         "textposition": "auto",
         "type": "bar",
         "x": [
          239065999.154413
         ],
         "xaxis": "x",
         "y": [
          "M04"
         ],
         "yaxis": "y"
        },
        {
         "alignmentgroup": "True",
         "base": [
          "2029-07-06T11:20:53.650877"
         ],
         "hovertemplate": "<b>%{hovertext}</b><br><br>Job_ID=J528<br>Scheduled_Start=%{base}<br>Estimated_Completion_Time=%{x}<br>Assigned_Machine=%{y}<extra></extra>",
         "hovertext": [
          "J528"
         ],
         "legendgroup": "J528",
         "marker": {
          "color": "#B6E880",
          "pattern": {
           "shape": ""
          }
         },
         "name": "J528",
         "offsetgroup": "J528",
         "orientation": "h",
         "showlegend": true,
         "textposition": "auto",
         "type": "bar",
         "x": [
          99908178.751098
         ],
         "xaxis": "x",
         "y": [
          "M04"
         ],
         "yaxis": "y"
        },
        {
         "alignmentgroup": "True",
         "base": [
          "2029-07-07T15:20:53.650877"
         ],
         "hovertemplate": "<b>%{hovertext}</b><br><br>Job_ID=J529<br>Scheduled_Start=%{base}<br>Estimated_Completion_Time=%{x}<br>Assigned_Machine=%{y}<extra></extra>",
         "hovertext": [
          "J529"
         ],
         "legendgroup": "J529",
         "marker": {
          "color": "#FF97FF",
          "pattern": {
           "shape": ""
          }
         },
         "name": "J529",
         "offsetgroup": "J529",
         "orientation": "h",
         "showlegend": true,
         "textposition": "auto",
         "type": "bar",
         "x": [
          363951222.593284
         ],
         "xaxis": "x",
         "y": [
          "M04"
         ],
         "yaxis": "y"
        },
        {
         "alignmentgroup": "True",
         "base": [
          "2029-07-11T21:20:53.650877"
         ],
         "hovertemplate": "<b>%{hovertext}</b><br><br>Job_ID=J530<br>Scheduled_Start=%{base}<br>Estimated_Completion_Time=%{x}<br>Assigned_Machine=%{y}<extra></extra>",
         "hovertext": [
          "J530"
         ],
         "legendgroup": "J530",
         "marker": {
          "color": "#FECB52",
          "pattern": {
           "shape": ""
          }
         },
         "name": "J530",
         "offsetgroup": "J530",
         "orientation": "h",
         "showlegend": true,
         "textposition": "auto",
         "type": "bar",
         "x": [
          310428983.976624
         ],
         "xaxis": "x",
         "y": [
          "M04"
         ],
         "yaxis": "y"
        },
        {
         "alignmentgroup": "True",
         "base": [
          "2029-07-15T12:20:53.650877"
         ],
         "hovertemplate": "<b>%{hovertext}</b><br><br>Job_ID=J531<br>Scheduled_Start=%{base}<br>Estimated_Completion_Time=%{x}<br>Assigned_Machine=%{y}<extra></extra>",
         "hovertext": [
          "J531"
         ],
         "legendgroup": "J531",
         "marker": {
          "color": "#636efa",
          "pattern": {
           "shape": ""
          }
         },
         "name": "J531",
         "offsetgroup": "J531",
         "orientation": "h",
         "showlegend": true,
         "textposition": "auto",
         "type": "bar",
         "x": [
          323683677.311738
         ],
         "xaxis": "x",
         "y": [
          "M05"
         ],
         "yaxis": "y"
        },
        {
         "alignmentgroup": "True",
         "base": [
          "2029-07-19T06:20:53.650877"
         ],
         "hovertemplate": "<b>%{hovertext}</b><br><br>Job_ID=J532<br>Scheduled_Start=%{base}<br>Estimated_Completion_Time=%{x}<br>Assigned_Machine=%{y}<extra></extra>",
         "hovertext": [
          "J532"
         ],
         "legendgroup": "J532",
         "marker": {
          "color": "#EF553B",
          "pattern": {
           "shape": ""
          }
         },
         "name": "J532",
         "offsetgroup": "J532",
         "orientation": "h",
         "showlegend": true,
         "textposition": "auto",
         "type": "bar",
         "x": [
          378223819.557728
         ],
         "xaxis": "x",
         "y": [
          "M04"
         ],
         "yaxis": "y"
        },
        {
         "alignmentgroup": "True",
         "base": [
          "2029-07-23T16:20:53.650877"
         ],
         "hovertemplate": "<b>%{hovertext}</b><br><br>Job_ID=J533<br>Scheduled_Start=%{base}<br>Estimated_Completion_Time=%{x}<br>Assigned_Machine=%{y}<extra></extra>",
         "hovertext": [
          "J533"
         ],
         "legendgroup": "J533",
         "marker": {
          "color": "#00cc96",
          "pattern": {
           "shape": ""
          }
         },
         "name": "J533",
         "offsetgroup": "J533",
         "orientation": "h",
         "showlegend": true,
         "textposition": "auto",
         "type": "bar",
         "x": [
          399632715.004392
         ],
         "xaxis": "x",
         "y": [
          "M04"
         ],
         "yaxis": "y"
        },
        {
         "alignmentgroup": "True",
         "base": [
          "2029-07-28T08:20:53.650877"
         ],
         "hovertemplate": "<b>%{hovertext}</b><br><br>Job_ID=J534<br>Scheduled_Start=%{base}<br>Estimated_Completion_Time=%{x}<br>Assigned_Machine=%{y}<extra></extra>",
         "hovertext": [
          "J534"
         ],
         "legendgroup": "J534",
         "marker": {
          "color": "#ab63fa",
          "pattern": {
           "shape": ""
          }
         },
         "name": "J534",
         "offsetgroup": "J534",
         "orientation": "h",
         "showlegend": true,
         "textposition": "auto",
         "type": "bar",
         "x": [
          219385603.511287
         ],
         "xaxis": "x",
         "y": [
          "M05"
         ],
         "yaxis": "y"
        },
        {
         "alignmentgroup": "True",
         "base": [
          "2029-07-30T21:20:53.650877"
         ],
         "hovertemplate": "<b>%{hovertext}</b><br><br>Job_ID=J535<br>Scheduled_Start=%{base}<br>Estimated_Completion_Time=%{x}<br>Assigned_Machine=%{y}<extra></extra>",
         "hovertext": [
          "J535"
         ],
         "legendgroup": "J535",
         "marker": {
          "color": "#FFA15A",
          "pattern": {
           "shape": ""
          }
         },
         "name": "J535",
         "offsetgroup": "J535",
         "orientation": "h",
         "showlegend": true,
         "textposition": "auto",
         "type": "bar",
         "x": [
          160566715.849978
         ],
         "xaxis": "x",
         "y": [
          "M04"
         ],
         "yaxis": "y"
        },
        {
         "alignmentgroup": "True",
         "base": [
          "2029-08-01T18:20:53.650877"
         ],
         "hovertemplate": "<b>%{hovertext}</b><br><br>Job_ID=J536<br>Scheduled_Start=%{base}<br>Estimated_Completion_Time=%{x}<br>Assigned_Machine=%{y}<extra></extra>",
         "hovertext": [
          "J536"
         ],
         "legendgroup": "J536",
         "marker": {
          "color": "#19d3f3",
          "pattern": {
           "shape": ""
          }
         },
         "name": "J536",
         "offsetgroup": "J536",
         "orientation": "h",
         "showlegend": true,
         "textposition": "auto",
         "type": "bar",
         "x": [
          359648530.346376
         ],
         "xaxis": "x",
         "y": [
          "M05"
         ],
         "yaxis": "y"
        },
        {
         "alignmentgroup": "True",
         "base": [
          "2029-08-05T22:20:53.650877"
         ],
         "hovertemplate": "<b>%{hovertext}</b><br><br>Job_ID=J537<br>Scheduled_Start=%{base}<br>Estimated_Completion_Time=%{x}<br>Assigned_Machine=%{y}<extra></extra>",
         "hovertext": [
          "J537"
         ],
         "legendgroup": "J537",
         "marker": {
          "color": "#FF6692",
          "pattern": {
           "shape": ""
          }
         },
         "name": "J537",
         "offsetgroup": "J537",
         "orientation": "h",
         "showlegend": true,
         "textposition": "auto",
         "type": "bar",
         "x": [
          171271163.573308
         ],
         "xaxis": "x",
         "y": [
          "M04"
         ],
         "yaxis": "y"
        },
        {
         "alignmentgroup": "True",
         "base": [
          "2029-08-07T22:20:53.650877"
         ],
         "hovertemplate": "<b>%{hovertext}</b><br><br>Job_ID=J538<br>Scheduled_Start=%{base}<br>Estimated_Completion_Time=%{x}<br>Assigned_Machine=%{y}<extra></extra>",
         "hovertext": [
          "J538"
         ],
         "legendgroup": "J538",
         "marker": {
          "color": "#B6E880",
          "pattern": {
           "shape": ""
          }
         },
         "name": "J538",
         "offsetgroup": "J538",
         "orientation": "h",
         "showlegend": true,
         "textposition": "auto",
         "type": "bar",
         "x": [
          267611193.083296
         ],
         "xaxis": "x",
         "y": [
          "M04"
         ],
         "yaxis": "y"
        },
        {
         "alignmentgroup": "True",
         "base": [
          "2029-08-11T01:20:53.650877"
         ],
         "hovertemplate": "<b>%{hovertext}</b><br><br>Job_ID=J539<br>Scheduled_Start=%{base}<br>Estimated_Completion_Time=%{x}<br>Assigned_Machine=%{y}<extra></extra>",
         "hovertext": [
          "J539"
         ],
         "legendgroup": "J539",
         "marker": {
          "color": "#FF97FF",
          "pattern": {
           "shape": ""
          }
         },
         "name": "J539",
         "offsetgroup": "J539",
         "orientation": "h",
         "showlegend": true,
         "textposition": "auto",
         "type": "bar",
         "x": [
          413905311.968832
         ],
         "xaxis": "x",
         "y": [
          "M04"
         ],
         "yaxis": "y"
        },
        {
         "alignmentgroup": "True",
         "base": [
          "2029-08-15T21:20:53.650877"
         ],
         "hovertemplate": "<b>%{hovertext}</b><br><br>Job_ID=J540<br>Scheduled_Start=%{base}<br>Estimated_Completion_Time=%{x}<br>Assigned_Machine=%{y}<extra></extra>",
         "hovertext": [
          "J540"
         ],
         "legendgroup": "J540",
         "marker": {
          "color": "#FECB52",
          "pattern": {
           "shape": ""
          }
         },
         "name": "J540",
         "offsetgroup": "J540",
         "orientation": "h",
         "showlegend": true,
         "textposition": "auto",
         "type": "bar",
         "x": [
          215789118.207825
         ],
         "xaxis": "x",
         "y": [
          "M05"
         ],
         "yaxis": "y"
        },
        {
         "alignmentgroup": "True",
         "base": [
          "2029-08-18T09:20:53.650877"
         ],
         "hovertemplate": "<b>%{hovertext}</b><br><br>Job_ID=J541<br>Scheduled_Start=%{base}<br>Estimated_Completion_Time=%{x}<br>Assigned_Machine=%{y}<extra></extra>",
         "hovertext": [
          "J541"
         ],
         "legendgroup": "J541",
         "marker": {
          "color": "#636efa",
          "pattern": {
           "shape": ""
          }
         },
         "name": "J541",
         "offsetgroup": "J541",
         "orientation": "h",
         "showlegend": true,
         "textposition": "auto",
         "type": "bar",
         "x": [
          189111909.778862
         ],
         "xaxis": "x",
         "y": [
          "M04"
         ],
         "yaxis": "y"
        },
        {
         "alignmentgroup": "True",
         "base": [
          "2029-08-20T14:20:53.650877"
         ],
         "hovertemplate": "<b>%{hovertext}</b><br><br>Job_ID=J542<br>Scheduled_Start=%{base}<br>Estimated_Completion_Time=%{x}<br>Assigned_Machine=%{y}<extra></extra>",
         "hovertext": [
          "J542"
         ],
         "legendgroup": "J542",
         "marker": {
          "color": "#EF553B",
          "pattern": {
           "shape": ""
          }
         },
         "name": "J542",
         "offsetgroup": "J542",
         "orientation": "h",
         "showlegend": true,
         "textposition": "auto",
         "type": "bar",
         "x": [
          167703014.332198
         ],
         "xaxis": "x",
         "y": [
          "M04"
         ],
         "yaxis": "y"
        },
        {
         "alignmentgroup": "True",
         "base": [
          "2029-08-22T13:20:53.650877"
         ],
         "hovertemplate": "<b>%{hovertext}</b><br><br>Job_ID=J543<br>Scheduled_Start=%{base}<br>Estimated_Completion_Time=%{x}<br>Assigned_Machine=%{y}<extra></extra>",
         "hovertext": [
          "J543"
         ],
         "legendgroup": "J543",
         "marker": {
          "color": "#00cc96",
          "pattern": {
           "shape": ""
          }
         },
         "name": "J543",
         "offsetgroup": "J543",
         "orientation": "h",
         "showlegend": true,
         "textposition": "auto",
         "type": "bar",
         "x": [
          312894221.401346
         ],
         "xaxis": "x",
         "y": [
          "M05"
         ],
         "yaxis": "y"
        },
        {
         "alignmentgroup": "True",
         "base": [
          "2029-08-26T04:20:53.650877"
         ],
         "hovertemplate": "<b>%{hovertext}</b><br><br>Job_ID=J544<br>Scheduled_Start=%{base}<br>Estimated_Completion_Time=%{x}<br>Assigned_Machine=%{y}<extra></extra>",
         "hovertext": [
          "J544"
         ],
         "legendgroup": "J544",
         "marker": {
          "color": "#ab63fa",
          "pattern": {
           "shape": ""
          }
         },
         "name": "J544",
         "offsetgroup": "J544",
         "orientation": "h",
         "showlegend": true,
         "textposition": "auto",
         "type": "bar",
         "x": [
          320087192.008273
         ],
         "xaxis": "x",
         "y": [
          "M05"
         ],
         "yaxis": "y"
        },
        {
         "alignmentgroup": "True",
         "base": [
          "2029-08-29T21:20:53.650877"
         ],
         "hovertemplate": "<b>%{hovertext}</b><br><br>Job_ID=J545<br>Scheduled_Start=%{base}<br>Estimated_Completion_Time=%{x}<br>Assigned_Machine=%{y}<extra></extra>",
         "hovertext": [
          "J545"
         ],
         "legendgroup": "J545",
         "marker": {
          "color": "#FFA15A",
          "pattern": {
           "shape": ""
          }
         },
         "name": "J545",
         "offsetgroup": "J545",
         "orientation": "h",
         "showlegend": true,
         "textposition": "auto",
         "type": "bar",
         "x": [
          178407462.055532
         ],
         "xaxis": "x",
         "y": [
          "M04"
         ],
         "yaxis": "y"
        },
        {
         "alignmentgroup": "True",
         "base": [
          "2029-08-31T23:20:53.650877"
         ],
         "hovertemplate": "<b>%{hovertext}</b><br><br>Job_ID=J546<br>Scheduled_Start=%{base}<br>Estimated_Completion_Time=%{x}<br>Assigned_Machine=%{y}<extra></extra>",
         "hovertext": [
          "J546"
         ],
         "legendgroup": "J546",
         "marker": {
          "color": "#19d3f3",
          "pattern": {
           "shape": ""
          }
         },
         "name": "J546",
         "offsetgroup": "J546",
         "orientation": "h",
         "showlegend": true,
         "textposition": "auto",
         "type": "bar",
         "x": [
          341666103.829057
         ],
         "xaxis": "x",
         "y": [
          "M05"
         ],
         "yaxis": "y"
        },
        {
         "alignmentgroup": "True",
         "base": [
          "2029-09-04T22:20:53.650877"
         ],
         "hovertemplate": "<b>%{hovertext}</b><br><br>Job_ID=J547<br>Scheduled_Start=%{base}<br>Estimated_Completion_Time=%{x}<br>Assigned_Machine=%{y}<extra></extra>",
         "hovertext": [
          "J547"
         ],
         "legendgroup": "J547",
         "marker": {
          "color": "#FF6692",
          "pattern": {
           "shape": ""
          }
         },
         "name": "J547",
         "offsetgroup": "J547",
         "orientation": "h",
         "showlegend": true,
         "textposition": "auto",
         "type": "bar",
         "x": [
          359648530.346376
         ],
         "xaxis": "x",
         "y": [
          "M05"
         ],
         "yaxis": "y"
        },
        {
         "alignmentgroup": "True",
         "base": [
          "2029-09-09T02:20:53.650877"
         ],
         "hovertemplate": "<b>%{hovertext}</b><br><br>Job_ID=J548<br>Scheduled_Start=%{base}<br>Estimated_Completion_Time=%{x}<br>Assigned_Machine=%{y}<extra></extra>",
         "hovertext": [
          "J548"
         ],
         "legendgroup": "J548",
         "marker": {
          "color": "#B6E880",
          "pattern": {
           "shape": ""
          }
         },
         "name": "J548",
         "offsetgroup": "J548",
         "orientation": "h",
         "showlegend": true,
         "textposition": "auto",
         "type": "bar",
         "x": [
          74931134.063324
         ],
         "xaxis": "x",
         "y": [
          "M04"
         ],
         "yaxis": "y"
        },
        {
         "alignmentgroup": "True",
         "base": [
          "2029-09-09T23:20:53.650877"
         ],
         "hovertemplate": "<b>%{hovertext}</b><br><br>Job_ID=J549<br>Scheduled_Start=%{base}<br>Estimated_Completion_Time=%{x}<br>Assigned_Machine=%{y}<extra></extra>",
         "hovertext": [
          "J549"
         ],
         "legendgroup": "J549",
         "marker": {
          "color": "#FF97FF",
          "pattern": {
           "shape": ""
          }
         },
         "name": "J549",
         "offsetgroup": "J549",
         "orientation": "h",
         "showlegend": true,
         "textposition": "auto",
         "type": "bar",
         "x": [
          217657103.707749
         ],
         "xaxis": "x",
         "y": [
          "M04"
         ],
         "yaxis": "y"
        },
        {
         "alignmentgroup": "True",
         "base": [
          "2029-09-12T12:20:53.650877"
         ],
         "hovertemplate": "<b>%{hovertext}</b><br><br>Job_ID=J550<br>Scheduled_Start=%{base}<br>Estimated_Completion_Time=%{x}<br>Assigned_Machine=%{y}<extra></extra>",
         "hovertext": [
          "J550"
         ],
         "legendgroup": "J550",
         "marker": {
          "color": "#FECB52",
          "pattern": {
           "shape": ""
          }
         },
         "name": "J550",
         "offsetgroup": "J550",
         "orientation": "h",
         "showlegend": true,
         "textposition": "auto",
         "type": "bar",
         "x": [
          110612626.474428
         ],
         "xaxis": "x",
         "y": [
          "M04"
         ],
         "yaxis": "y"
        },
        {
         "alignmentgroup": "True",
         "base": [
          "2029-09-13T19:20:53.650877"
         ],
         "hovertemplate": "<b>%{hovertext}</b><br><br>Job_ID=J551<br>Scheduled_Start=%{base}<br>Estimated_Completion_Time=%{x}<br>Assigned_Machine=%{y}<extra></extra>",
         "hovertext": [
          "J551"
         ],
         "legendgroup": "J551",
         "marker": {
          "color": "#636efa",
          "pattern": {
           "shape": ""
          }
         },
         "name": "J551",
         "offsetgroup": "J551",
         "orientation": "h",
         "showlegend": true,
         "textposition": "auto",
         "type": "bar",
         "x": [
          305701250.794419
         ],
         "xaxis": "x",
         "y": [
          "M05"
         ],
         "yaxis": "y"
        },
        {
         "alignmentgroup": "True",
         "base": [
          "2029-09-17T08:20:53.650877"
         ],
         "hovertemplate": "<b>%{hovertext}</b><br><br>Job_ID=J552<br>Scheduled_Start=%{base}<br>Estimated_Completion_Time=%{x}<br>Assigned_Machine=%{y}<extra></extra>",
         "hovertext": [
          "J552"
         ],
         "legendgroup": "J552",
         "marker": {
          "color": "#EF553B",
          "pattern": {
           "shape": ""
          }
         },
         "name": "J552",
         "offsetgroup": "J552",
         "orientation": "h",
         "showlegend": true,
         "textposition": "auto",
         "type": "bar",
         "x": [
          242634148.395523
         ],
         "xaxis": "x",
         "y": [
          "M04"
         ],
         "yaxis": "y"
        },
        {
         "alignmentgroup": "True",
         "base": [
          "2029-09-20T04:20:53.650877"
         ],
         "hovertemplate": "<b>%{hovertext}</b><br><br>Job_ID=J553<br>Scheduled_Start=%{base}<br>Estimated_Completion_Time=%{x}<br>Assigned_Machine=%{y}<extra></extra>",
         "hovertext": [
          "J553"
         ],
         "legendgroup": "J553",
         "marker": {
          "color": "#00cc96",
          "pattern": {
           "shape": ""
          }
         },
         "name": "J553",
         "offsetgroup": "J553",
         "orientation": "h",
         "showlegend": true,
         "textposition": "auto",
         "type": "bar",
         "x": [
          224793402.189969
         ],
         "xaxis": "x",
         "y": [
          "M04"
         ],
         "yaxis": "y"
        },
        {
         "alignmentgroup": "True",
         "base": [
          "2029-09-22T19:20:53.650877"
         ],
         "hovertemplate": "<b>%{hovertext}</b><br><br>Job_ID=J554<br>Scheduled_Start=%{base}<br>Estimated_Completion_Time=%{x}<br>Assigned_Machine=%{y}<extra></extra>",
         "hovertext": [
          "J554"
         ],
         "legendgroup": "J554",
         "marker": {
          "color": "#ab63fa",
          "pattern": {
           "shape": ""
          }
         },
         "name": "J554",
         "offsetgroup": "J554",
         "orientation": "h",
         "showlegend": true,
         "textposition": "auto",
         "type": "bar",
         "x": [
          331837879.423287
         ],
         "xaxis": "x",
         "y": [
          "M04"
         ],
         "yaxis": "y"
        },
        {
         "alignmentgroup": "True",
         "base": [
          "2029-09-26T16:20:53.650877"
         ],
         "hovertemplate": "<b>%{hovertext}</b><br><br>Job_ID=J555<br>Scheduled_Start=%{base}<br>Estimated_Completion_Time=%{x}<br>Assigned_Machine=%{y}<extra></extra>",
         "hovertext": [
          "J555"
         ],
         "legendgroup": "J555",
         "marker": {
          "color": "#FFA15A",
          "pattern": {
           "shape": ""
          }
         },
         "name": "J555",
         "offsetgroup": "J555",
         "orientation": "h",
         "showlegend": true,
         "textposition": "auto",
         "type": "bar",
         "x": [
          132021521.921091
         ],
         "xaxis": "x",
         "y": [
          "M04"
         ],
         "yaxis": "y"
        },
        {
         "alignmentgroup": "True",
         "base": [
          "2029-09-28T05:20:53.650877"
         ],
         "hovertemplate": "<b>%{hovertext}</b><br><br>Job_ID=J556<br>Scheduled_Start=%{base}<br>Estimated_Completion_Time=%{x}<br>Assigned_Machine=%{y}<extra></extra>",
         "hovertext": [
          "J556"
         ],
         "legendgroup": "J556",
         "marker": {
          "color": "#19d3f3",
          "pattern": {
           "shape": ""
          }
         },
         "name": "J556",
         "offsetgroup": "J556",
         "orientation": "h",
         "showlegend": true,
         "textposition": "auto",
         "type": "bar",
         "x": [
          128453372.679981
         ],
         "xaxis": "x",
         "y": [
          "M04"
         ],
         "yaxis": "y"
        },
        {
         "alignmentgroup": "True",
         "base": [
          "2029-09-29T17:20:53.650877"
         ],
         "hovertemplate": "<b>%{hovertext}</b><br><br>Job_ID=J557<br>Scheduled_Start=%{base}<br>Estimated_Completion_Time=%{x}<br>Assigned_Machine=%{y}<extra></extra>",
         "hovertext": [
          "J557"
         ],
         "legendgroup": "J557",
         "marker": {
          "color": "#FF6692",
          "pattern": {
           "shape": ""
          }
         },
         "name": "J557",
         "offsetgroup": "J557",
         "orientation": "h",
         "showlegend": true,
         "textposition": "auto",
         "type": "bar",
         "x": [
          156998566.608868
         ],
         "xaxis": "x",
         "y": [
          "M04"
         ],
         "yaxis": "y"
        },
        {
         "alignmentgroup": "True",
         "base": [
          "2029-10-01T13:20:53.650877"
         ],
         "hovertemplate": "<b>%{hovertext}</b><br><br>Job_ID=J558<br>Scheduled_Start=%{base}<br>Estimated_Completion_Time=%{x}<br>Assigned_Machine=%{y}<extra></extra>",
         "hovertext": [
          "J558"
         ],
         "legendgroup": "J558",
         "marker": {
          "color": "#B6E880",
          "pattern": {
           "shape": ""
          }
         },
         "name": "J558",
         "offsetgroup": "J558",
         "orientation": "h",
         "showlegend": true,
         "textposition": "auto",
         "type": "bar",
         "x": [
          201403176.993968
         ],
         "xaxis": "x",
         "y": [
          "M05"
         ],
         "yaxis": "y"
        },
        {
         "alignmentgroup": "True",
         "base": [
          "2029-10-03T21:20:53.650877"
         ],
         "hovertemplate": "<b>%{hovertext}</b><br><br>Job_ID=J559<br>Scheduled_Start=%{base}<br>Estimated_Completion_Time=%{x}<br>Assigned_Machine=%{y}<extra></extra>",
         "hovertext": [
          "J559"
         ],
         "legendgroup": "J559",
         "marker": {
          "color": "#FF97FF",
          "pattern": {
           "shape": ""
          }
         },
         "name": "J559",
         "offsetgroup": "J559",
         "orientation": "h",
         "showlegend": true,
         "textposition": "auto",
         "type": "bar",
         "x": [
          406769013.486612
         ],
         "xaxis": "x",
         "y": [
          "M04"
         ],
         "yaxis": "y"
        },
        {
         "alignmentgroup": "True",
         "base": [
          "2029-10-08T15:20:53.650877"
         ],
         "hovertemplate": "<b>%{hovertext}</b><br><br>Job_ID=J560<br>Scheduled_Start=%{base}<br>Estimated_Completion_Time=%{x}<br>Assigned_Machine=%{y}<extra></extra>",
         "hovertext": [
          "J560"
         ],
         "legendgroup": "J560",
         "marker": {
          "color": "#FECB52",
          "pattern": {
           "shape": ""
          }
         },
         "name": "J560",
         "offsetgroup": "J560",
         "orientation": "h",
         "showlegend": true,
         "textposition": "auto",
         "type": "bar",
         "x": [
          281883790.04774
         ],
         "xaxis": "x",
         "y": [
          "M04"
         ],
         "yaxis": "y"
        },
        {
         "alignmentgroup": "True",
         "base": [
          "2029-10-11T22:20:53.650877"
         ],
         "hovertemplate": "<b>%{hovertext}</b><br><br>Job_ID=J561<br>Scheduled_Start=%{base}<br>Estimated_Completion_Time=%{x}<br>Assigned_Machine=%{y}<extra></extra>",
         "hovertext": [
          "J561"
         ],
         "legendgroup": "J561",
         "marker": {
          "color": "#636efa",
          "pattern": {
           "shape": ""
          }
         },
         "name": "J561",
         "offsetgroup": "J561",
         "orientation": "h",
         "showlegend": true,
         "textposition": "auto",
         "type": "bar",
         "x": [
          158245353.352404
         ],
         "xaxis": "x",
         "y": [
          "M05"
         ],
         "yaxis": "y"
        },
        {
         "alignmentgroup": "True",
         "base": [
          "2029-10-13T18:20:53.650877"
         ],
         "hovertemplate": "<b>%{hovertext}</b><br><br>Job_ID=J562<br>Scheduled_Start=%{base}<br>Estimated_Completion_Time=%{x}<br>Assigned_Machine=%{y}<extra></extra>",
         "hovertext": [
          "J562"
         ],
         "legendgroup": "J562",
         "marker": {
          "color": "#EF553B",
          "pattern": {
           "shape": ""
          }
         },
         "name": "J562",
         "offsetgroup": "J562",
         "orientation": "h",
         "showlegend": true,
         "textposition": "auto",
         "type": "bar",
         "x": [
          385360118.039948
         ],
         "xaxis": "x",
         "y": [
          "M04"
         ],
         "yaxis": "y"
        },
        {
         "alignmentgroup": "True",
         "base": [
          "2029-10-18T06:20:53.650877"
         ],
         "hovertemplate": "<b>%{hovertext}</b><br><br>Job_ID=J563<br>Scheduled_Start=%{base}<br>Estimated_Completion_Time=%{x}<br>Assigned_Machine=%{y}<extra></extra>",
         "hovertext": [
          "J563"
         ],
         "legendgroup": "J563",
         "marker": {
          "color": "#00cc96",
          "pattern": {
           "shape": ""
          }
         },
         "name": "J563",
         "offsetgroup": "J563",
         "orientation": "h",
         "showlegend": true,
         "textposition": "auto",
         "type": "bar",
         "x": [
          285451939.28885
         ],
         "xaxis": "x",
         "y": [
          "M04"
         ],
         "yaxis": "y"
        },
        {
         "alignmentgroup": "True",
         "base": [
          "2029-10-21T14:20:53.650877"
         ],
         "hovertemplate": "<b>%{hovertext}</b><br><br>Job_ID=J564<br>Scheduled_Start=%{base}<br>Estimated_Completion_Time=%{x}<br>Assigned_Machine=%{y}<extra></extra>",
         "hovertext": [
          "J564"
         ],
         "legendgroup": "J564",
         "marker": {
          "color": "#ab63fa",
          "pattern": {
           "shape": ""
          }
         },
         "name": "J564",
         "offsetgroup": "J564",
         "orientation": "h",
         "showlegend": true,
         "textposition": "auto",
         "type": "bar",
         "x": [
          399632715.004392
         ],
         "xaxis": "x",
         "y": [
          "M04"
         ],
         "yaxis": "y"
        },
        {
         "alignmentgroup": "True",
         "base": [
          "2029-10-26T06:20:53.650877"
         ],
         "hovertemplate": "<b>%{hovertext}</b><br><br>Job_ID=J565<br>Scheduled_Start=%{base}<br>Estimated_Completion_Time=%{x}<br>Assigned_Machine=%{y}<extra></extra>",
         "hovertext": [
          "J565"
         ],
         "legendgroup": "J565",
         "marker": {
          "color": "#FFA15A",
          "pattern": {
           "shape": ""
          }
         },
         "name": "J565",
         "offsetgroup": "J565",
         "orientation": "h",
         "showlegend": true,
         "textposition": "auto",
         "type": "bar",
         "x": [
          392496416.522168
         ],
         "xaxis": "x",
         "y": [
          "M04"
         ],
         "yaxis": "y"
        },
        {
         "alignmentgroup": "True",
         "base": [
          "2029-10-30T20:20:53.650877"
         ],
         "hovertemplate": "<b>%{hovertext}</b><br><br>Job_ID=J566<br>Scheduled_Start=%{base}<br>Estimated_Completion_Time=%{x}<br>Assigned_Machine=%{y}<extra></extra>",
         "hovertext": [
          "J566"
         ],
         "legendgroup": "J566",
         "marker": {
          "color": "#19d3f3",
          "pattern": {
           "shape": ""
          }
         },
         "name": "J566",
         "offsetgroup": "J566",
         "orientation": "h",
         "showlegend": true,
         "textposition": "auto",
         "type": "bar",
         "x": [
          385360118.039948
         ],
         "xaxis": "x",
         "y": [
          "M04"
         ],
         "yaxis": "y"
        },
        {
         "alignmentgroup": "True",
         "base": [
          "2029-11-04T08:20:53.650877"
         ],
         "hovertemplate": "<b>%{hovertext}</b><br><br>Job_ID=J567<br>Scheduled_Start=%{base}<br>Estimated_Completion_Time=%{x}<br>Assigned_Machine=%{y}<extra></extra>",
         "hovertext": [
          "J567"
         ],
         "legendgroup": "J567",
         "marker": {
          "color": "#FF6692",
          "pattern": {
           "shape": ""
          }
         },
         "name": "J567",
         "offsetgroup": "J567",
         "orientation": "h",
         "showlegend": true,
         "textposition": "auto",
         "type": "bar",
         "x": [
          313997133.217734
         ],
         "xaxis": "x",
         "y": [
          "M04"
         ],
         "yaxis": "y"
        },
        {
         "alignmentgroup": "True",
         "base": [
          "2029-11-08T00:20:53.650877"
         ],
         "hovertemplate": "<b>%{hovertext}</b><br><br>Job_ID=J568<br>Scheduled_Start=%{base}<br>Estimated_Completion_Time=%{x}<br>Assigned_Machine=%{y}<extra></extra>",
         "hovertext": [
          "J568"
         ],
         "legendgroup": "J568",
         "marker": {
          "color": "#B6E880",
          "pattern": {
           "shape": ""
          }
         },
         "name": "J568",
         "offsetgroup": "J568",
         "orientation": "h",
         "showlegend": true,
         "textposition": "auto",
         "type": "bar",
         "x": [
          266139912.456316
         ],
         "xaxis": "x",
         "y": [
          "M05"
         ],
         "yaxis": "y"
        },
        {
         "alignmentgroup": "True",
         "base": [
          "2029-11-11T02:20:53.650877"
         ],
         "hovertemplate": "<b>%{hovertext}</b><br><br>Job_ID=J569<br>Scheduled_Start=%{base}<br>Estimated_Completion_Time=%{x}<br>Assigned_Machine=%{y}<extra></extra>",
         "hovertext": [
          "J569"
         ],
         "legendgroup": "J569",
         "marker": {
          "color": "#FF97FF",
          "pattern": {
           "shape": ""
          }
         },
         "name": "J569",
         "offsetgroup": "J569",
         "orientation": "h",
         "showlegend": true,
         "textposition": "auto",
         "type": "bar",
         "x": [
          185543760.537752
         ],
         "xaxis": "x",
         "y": [
          "M04"
         ],
         "yaxis": "y"
        },
        {
         "alignmentgroup": "True",
         "base": [
          "2029-11-13T06:20:53.650877"
         ],
         "hovertemplate": "<b>%{hovertext}</b><br><br>Job_ID=J570<br>Scheduled_Start=%{base}<br>Estimated_Completion_Time=%{x}<br>Assigned_Machine=%{y}<extra></extra>",
         "hovertext": [
          "J570"
         ],
         "legendgroup": "J570",
         "marker": {
          "color": "#FECB52",
          "pattern": {
           "shape": ""
          }
         },
         "name": "J570",
         "offsetgroup": "J570",
         "orientation": "h",
         "showlegend": true,
         "textposition": "auto",
         "type": "bar",
         "x": [
          239065999.154413
         ],
         "xaxis": "x",
         "y": [
          "M04"
         ],
         "yaxis": "y"
        },
        {
         "alignmentgroup": "True",
         "base": [
          "2029-11-16T01:20:53.650877"
         ],
         "hovertemplate": "<b>%{hovertext}</b><br><br>Job_ID=J571<br>Scheduled_Start=%{base}<br>Estimated_Completion_Time=%{x}<br>Assigned_Machine=%{y}<extra></extra>",
         "hovertext": [
          "J571"
         ],
         "legendgroup": "J571",
         "marker": {
          "color": "#636efa",
          "pattern": {
           "shape": ""
          }
         },
         "name": "J571",
         "offsetgroup": "J571",
         "orientation": "h",
         "showlegend": true,
         "textposition": "auto",
         "type": "bar",
         "x": [
          303292685.494404
         ],
         "xaxis": "x",
         "y": [
          "M04"
         ],
         "yaxis": "y"
        },
        {
         "alignmentgroup": "True",
         "base": [
          "2029-11-19T14:20:53.650877"
         ],
         "hovertemplate": "<b>%{hovertext}</b><br><br>Job_ID=J572<br>Scheduled_Start=%{base}<br>Estimated_Completion_Time=%{x}<br>Assigned_Machine=%{y}<extra></extra>",
         "hovertext": [
          "J572"
         ],
         "legendgroup": "J572",
         "marker": {
          "color": "#EF553B",
          "pattern": {
           "shape": ""
          }
         },
         "name": "J572",
         "offsetgroup": "J572",
         "orientation": "h",
         "showlegend": true,
         "textposition": "auto",
         "type": "bar",
         "x": [
          323683677.311738
         ],
         "xaxis": "x",
         "y": [
          "M05"
         ],
         "yaxis": "y"
        },
        {
         "alignmentgroup": "True",
         "base": [
          "2029-11-23T08:20:53.650877"
         ],
         "hovertemplate": "<b>%{hovertext}</b><br><br>Job_ID=J573<br>Scheduled_Start=%{base}<br>Estimated_Completion_Time=%{x}<br>Assigned_Machine=%{y}<extra></extra>",
         "hovertext": [
          "J573"
         ],
         "legendgroup": "J573",
         "marker": {
          "color": "#00cc96",
          "pattern": {
           "shape": ""
          }
         },
         "name": "J573",
         "offsetgroup": "J573",
         "orientation": "h",
         "showlegend": true,
         "textposition": "auto",
         "type": "bar",
         "x": [
          251753971.242463
         ],
         "xaxis": "x",
         "y": [
          "M05"
         ],
         "yaxis": "y"
        },
        {
         "alignmentgroup": "True",
         "base": [
          "2029-11-26T06:20:53.650877"
         ],
         "hovertemplate": "<b>%{hovertext}</b><br><br>Job_ID=J574<br>Scheduled_Start=%{base}<br>Estimated_Completion_Time=%{x}<br>Assigned_Machine=%{y}<extra></extra>",
         "hovertext": [
          "J574"
         ],
         "legendgroup": "J574",
         "marker": {
          "color": "#ab63fa",
          "pattern": {
           "shape": ""
          }
         },
         "name": "J574",
         "offsetgroup": "J574",
         "orientation": "h",
         "showlegend": true,
         "textposition": "auto",
         "type": "bar",
         "x": [
          82067432.545544
         ],
         "xaxis": "x",
         "y": [
          "M04"
         ],
         "yaxis": "y"
        },
        {
         "alignmentgroup": "True",
         "base": [
          "2029-11-27T05:20:53.650877"
         ],
         "hovertemplate": "<b>%{hovertext}</b><br><br>Job_ID=J575<br>Scheduled_Start=%{base}<br>Estimated_Completion_Time=%{x}<br>Assigned_Machine=%{y}<extra></extra>",
         "hovertext": [
          "J575"
         ],
         "legendgroup": "J575",
         "marker": {
          "color": "#FFA15A",
          "pattern": {
           "shape": ""
          }
         },
         "name": "J575",
         "offsetgroup": "J575",
         "orientation": "h",
         "showlegend": true,
         "textposition": "auto",
         "type": "bar",
         "x": [
          428177908.933275
         ],
         "xaxis": "x",
         "y": [
          "M04"
         ],
         "yaxis": "y"
        },
        {
         "alignmentgroup": "True",
         "base": [
          "2029-12-02T05:20:53.650877"
         ],
         "hovertemplate": "<b>%{hovertext}</b><br><br>Job_ID=J576<br>Scheduled_Start=%{base}<br>Estimated_Completion_Time=%{x}<br>Assigned_Machine=%{y}<extra></extra>",
         "hovertext": [
          "J576"
         ],
         "legendgroup": "J576",
         "marker": {
          "color": "#19d3f3",
          "pattern": {
           "shape": ""
          }
         },
         "name": "J576",
         "offsetgroup": "J576",
         "orientation": "h",
         "showlegend": true,
         "textposition": "auto",
         "type": "bar",
         "x": [
          231929700.672189
         ],
         "xaxis": "x",
         "y": [
          "M04"
         ],
         "yaxis": "y"
        },
        {
         "alignmentgroup": "True",
         "base": [
          "2029-12-04T22:20:53.650877"
         ],
         "hovertemplate": "<b>%{hovertext}</b><br><br>Job_ID=J577<br>Scheduled_Start=%{base}<br>Estimated_Completion_Time=%{x}<br>Assigned_Machine=%{y}<extra></extra>",
         "hovertext": [
          "J577"
         ],
         "legendgroup": "J577",
         "marker": {
          "color": "#FF6692",
          "pattern": {
           "shape": ""
          }
         },
         "name": "J577",
         "offsetgroup": "J577",
         "orientation": "h",
         "showlegend": true,
         "textposition": "auto",
         "type": "bar",
         "x": [
          353246774.869951
         ],
         "xaxis": "x",
         "y": [
          "M04"
         ],
         "yaxis": "y"
        },
        {
         "alignmentgroup": "True",
         "base": [
          "2029-12-09T01:20:53.650877"
         ],
         "hovertemplate": "<b>%{hovertext}</b><br><br>Job_ID=J578<br>Scheduled_Start=%{base}<br>Estimated_Completion_Time=%{x}<br>Assigned_Machine=%{y}<extra></extra>",
         "hovertext": [
          "J578"
         ],
         "legendgroup": "J578",
         "marker": {
          "color": "#B6E880",
          "pattern": {
           "shape": ""
          }
         },
         "name": "J578",
         "offsetgroup": "J578",
         "orientation": "h",
         "showlegend": true,
         "textposition": "auto",
         "type": "bar",
         "x": [
          302104765.490954
         ],
         "xaxis": "x",
         "y": [
          "M05"
         ],
         "yaxis": "y"
        },
        {
         "alignmentgroup": "True",
         "base": [
          "2029-12-12T13:20:53.650877"
         ],
         "hovertemplate": "<b>%{hovertext}</b><br><br>Job_ID=J579<br>Scheduled_Start=%{base}<br>Estimated_Completion_Time=%{x}<br>Assigned_Machine=%{y}<extra></extra>",
         "hovertext": [
          "J579"
         ],
         "legendgroup": "J579",
         "marker": {
          "color": "#FF97FF",
          "pattern": {
           "shape": ""
          }
         },
         "name": "J579",
         "offsetgroup": "J579",
         "orientation": "h",
         "showlegend": true,
         "textposition": "auto",
         "type": "bar",
         "x": [
          335406028.664397
         ],
         "xaxis": "x",
         "y": [
          "M04"
         ],
         "yaxis": "y"
        },
        {
         "alignmentgroup": "True",
         "base": [
          "2029-12-16T11:20:53.650877"
         ],
         "hovertemplate": "<b>%{hovertext}</b><br><br>Job_ID=J580<br>Scheduled_Start=%{base}<br>Estimated_Completion_Time=%{x}<br>Assigned_Machine=%{y}<extra></extra>",
         "hovertext": [
          "J580"
         ],
         "legendgroup": "J580",
         "marker": {
          "color": "#FECB52",
          "pattern": {
           "shape": ""
          }
         },
         "name": "J580",
         "offsetgroup": "J580",
         "orientation": "h",
         "showlegend": true,
         "textposition": "auto",
         "type": "bar",
         "x": [
          99908178.751098
         ],
         "xaxis": "x",
         "y": [
          "M04"
         ],
         "yaxis": "y"
        },
        {
         "alignmentgroup": "True",
         "base": [
          "2029-12-17T15:20:53.650877"
         ],
         "hovertemplate": "<b>%{hovertext}</b><br><br>Job_ID=J581<br>Scheduled_Start=%{base}<br>Estimated_Completion_Time=%{x}<br>Assigned_Machine=%{y}<extra></extra>",
         "hovertext": [
          "J581"
         ],
         "legendgroup": "J581",
         "marker": {
          "color": "#636efa",
          "pattern": {
           "shape": ""
          }
         },
         "name": "J581",
         "offsetgroup": "J581",
         "orientation": "h",
         "showlegend": true,
         "textposition": "auto",
         "type": "bar",
         "x": [
          239065999.154413
         ],
         "xaxis": "x",
         "y": [
          "M04"
         ],
         "yaxis": "y"
        },
        {
         "alignmentgroup": "True",
         "base": [
          "2029-12-20T10:20:53.650877"
         ],
         "hovertemplate": "<b>%{hovertext}</b><br><br>Job_ID=J582<br>Scheduled_Start=%{base}<br>Estimated_Completion_Time=%{x}<br>Assigned_Machine=%{y}<extra></extra>",
         "hovertext": [
          "J582"
         ],
         "legendgroup": "J582",
         "marker": {
          "color": "#EF553B",
          "pattern": {
           "shape": ""
          }
         },
         "name": "J582",
         "offsetgroup": "J582",
         "orientation": "h",
         "showlegend": true,
         "textposition": "auto",
         "type": "bar",
         "x": [
          338974177.905511
         ],
         "xaxis": "x",
         "y": [
          "M04"
         ],
         "yaxis": "y"
        },
        {
         "alignmentgroup": "True",
         "base": [
          "2029-12-24T09:20:53.650877"
         ],
         "hovertemplate": "<b>%{hovertext}</b><br><br>Job_ID=J583<br>Scheduled_Start=%{base}<br>Estimated_Completion_Time=%{x}<br>Assigned_Machine=%{y}<extra></extra>",
         "hovertext": [
          "J583"
         ],
         "legendgroup": "J583",
         "marker": {
          "color": "#00cc96",
          "pattern": {
           "shape": ""
          }
         },
         "name": "J583",
         "offsetgroup": "J583",
         "orientation": "h",
         "showlegend": true,
         "textposition": "auto",
         "type": "bar",
         "x": [
          199816357.502196
         ],
         "xaxis": "x",
         "y": [
          "M04"
         ],
         "yaxis": "y"
        },
        {
         "alignmentgroup": "True",
         "base": [
          "2029-12-26T17:20:53.650877"
         ],
         "hovertemplate": "<b>%{hovertext}</b><br><br>Job_ID=J584<br>Scheduled_Start=%{base}<br>Estimated_Completion_Time=%{x}<br>Assigned_Machine=%{y}<extra></extra>",
         "hovertext": [
          "J584"
         ],
         "legendgroup": "J584",
         "marker": {
          "color": "#ab63fa",
          "pattern": {
           "shape": ""
          }
         },
         "name": "J584",
         "offsetgroup": "J584",
         "orientation": "h",
         "showlegend": true,
         "textposition": "auto",
         "type": "bar",
         "x": [
          115087529.710839
         ],
         "xaxis": "x",
         "y": [
          "M05"
         ],
         "yaxis": "y"
        },
        {
         "alignmentgroup": "True",
         "base": [
          "2029-12-28T01:20:53.650877"
         ],
         "hovertemplate": "<b>%{hovertext}</b><br><br>Job_ID=J585<br>Scheduled_Start=%{base}<br>Estimated_Completion_Time=%{x}<br>Assigned_Machine=%{y}<extra></extra>",
         "hovertext": [
          "J585"
         ],
         "legendgroup": "J585",
         "marker": {
          "color": "#FFA15A",
          "pattern": {
           "shape": ""
          }
         },
         "name": "J585",
         "offsetgroup": "J585",
         "orientation": "h",
         "showlegend": true,
         "textposition": "auto",
         "type": "bar",
         "x": [
          146294118.885535
         ],
         "xaxis": "x",
         "y": [
          "M04"
         ],
         "yaxis": "y"
        },
        {
         "alignmentgroup": "True",
         "base": [
          "2029-12-29T18:20:53.650877"
         ],
         "hovertemplate": "<b>%{hovertext}</b><br><br>Job_ID=J586<br>Scheduled_Start=%{base}<br>Estimated_Completion_Time=%{x}<br>Assigned_Machine=%{y}<extra></extra>",
         "hovertext": [
          "J586"
         ],
         "legendgroup": "J586",
         "marker": {
          "color": "#19d3f3",
          "pattern": {
           "shape": ""
          }
         },
         "name": "J586",
         "offsetgroup": "J586",
         "orientation": "h",
         "showlegend": true,
         "textposition": "auto",
         "type": "bar",
         "x": [
          313997133.217734
         ],
         "xaxis": "x",
         "y": [
          "M04"
         ],
         "yaxis": "y"
        },
        {
         "alignmentgroup": "True",
         "base": [
          "2030-01-02T10:20:53.650877"
         ],
         "hovertemplate": "<b>%{hovertext}</b><br><br>Job_ID=J587<br>Scheduled_Start=%{base}<br>Estimated_Completion_Time=%{x}<br>Assigned_Machine=%{y}<extra></extra>",
         "hovertext": [
          "J587"
         ],
         "legendgroup": "J587",
         "marker": {
          "color": "#FF6692",
          "pattern": {
           "shape": ""
          }
         },
         "name": "J587",
         "offsetgroup": "J587",
         "orientation": "h",
         "showlegend": true,
         "textposition": "auto",
         "type": "bar",
         "x": [
          287718824.2771
         ],
         "xaxis": "x",
         "y": [
          "M05"
         ],
         "yaxis": "y"
        },
        {
         "alignmentgroup": "True",
         "base": [
          "2030-01-05T18:20:53.650877"
         ],
         "hovertemplate": "<b>%{hovertext}</b><br><br>Job_ID=J588<br>Scheduled_Start=%{base}<br>Estimated_Completion_Time=%{x}<br>Assigned_Machine=%{y}<extra></extra>",
         "hovertext": [
          "J588"
         ],
         "legendgroup": "J588",
         "marker": {
          "color": "#B6E880",
          "pattern": {
           "shape": ""
          }
         },
         "name": "J588",
         "offsetgroup": "J588",
         "orientation": "h",
         "showlegend": true,
         "textposition": "auto",
         "type": "bar",
         "x": [
          342542327.146621
         ],
         "xaxis": "x",
         "y": [
          "M04"
         ],
         "yaxis": "y"
        },
        {
         "alignmentgroup": "True",
         "base": [
          "2030-01-09T18:20:53.650877"
         ],
         "hovertemplate": "<b>%{hovertext}</b><br><br>Job_ID=J589<br>Scheduled_Start=%{base}<br>Estimated_Completion_Time=%{x}<br>Assigned_Machine=%{y}<extra></extra>",
         "hovertext": [
          "J589"
         ],
         "legendgroup": "J589",
         "marker": {
          "color": "#FF97FF",
          "pattern": {
           "shape": ""
          }
         },
         "name": "J589",
         "offsetgroup": "J589",
         "orientation": "h",
         "showlegend": true,
         "textposition": "auto",
         "type": "bar",
         "x": [
          192680059.019972
         ],
         "xaxis": "x",
         "y": [
          "M04"
         ],
         "yaxis": "y"
        },
        {
         "alignmentgroup": "True",
         "base": [
          "2030-01-12T00:20:53.650877"
         ],
         "hovertemplate": "<b>%{hovertext}</b><br><br>Job_ID=J590<br>Scheduled_Start=%{base}<br>Estimated_Completion_Time=%{x}<br>Assigned_Machine=%{y}<extra></extra>",
         "hovertext": [
          "J590"
         ],
         "legendgroup": "J590",
         "marker": {
          "color": "#FECB52",
          "pattern": {
           "shape": ""
          }
         },
         "name": "J590",
         "offsetgroup": "J590",
         "orientation": "h",
         "showlegend": true,
         "textposition": "auto",
         "type": "bar",
         "x": [
          392496416.522168
         ],
         "xaxis": "x",
         "y": [
          "M04"
         ],
         "yaxis": "y"
        },
        {
         "alignmentgroup": "True",
         "base": [
          "2030-01-16T14:20:53.650877"
         ],
         "hovertemplate": "<b>%{hovertext}</b><br><br>Job_ID=J591<br>Scheduled_Start=%{base}<br>Estimated_Completion_Time=%{x}<br>Assigned_Machine=%{y}<extra></extra>",
         "hovertext": [
          "J591"
         ],
         "legendgroup": "J591",
         "marker": {
          "color": "#636efa",
          "pattern": {
           "shape": ""
          }
         },
         "name": "J591",
         "offsetgroup": "J591",
         "orientation": "h",
         "showlegend": true,
         "textposition": "auto",
         "type": "bar",
         "x": [
          251753971.242463
         ],
         "xaxis": "x",
         "y": [
          "M05"
         ],
         "yaxis": "y"
        },
        {
         "alignmentgroup": "True",
         "base": [
          "2030-01-19T12:20:53.650877"
         ],
         "hovertemplate": "<b>%{hovertext}</b><br><br>Job_ID=J592<br>Scheduled_Start=%{base}<br>Estimated_Completion_Time=%{x}<br>Assigned_Machine=%{y}<extra></extra>",
         "hovertext": [
          "J592"
         ],
         "legendgroup": "J592",
         "marker": {
          "color": "#EF553B",
          "pattern": {
           "shape": ""
          }
         },
         "name": "J592",
         "offsetgroup": "J592",
         "orientation": "h",
         "showlegend": true,
         "textposition": "auto",
         "type": "bar",
         "x": [
          246202297.636633
         ],
         "xaxis": "x",
         "y": [
          "M04"
         ],
         "yaxis": "y"
        },
        {
         "alignmentgroup": "True",
         "base": [
          "2030-01-22T09:20:53.650877"
         ],
         "hovertemplate": "<b>%{hovertext}</b><br><br>Job_ID=J593<br>Scheduled_Start=%{base}<br>Estimated_Completion_Time=%{x}<br>Assigned_Machine=%{y}<extra></extra>",
         "hovertext": [
          "J593"
         ],
         "legendgroup": "J593",
         "marker": {
          "color": "#00cc96",
          "pattern": {
           "shape": ""
          }
         },
         "name": "J593",
         "offsetgroup": "J593",
         "orientation": "h",
         "showlegend": true,
         "textposition": "auto",
         "type": "bar",
         "x": [
          310428983.976624
         ],
         "xaxis": "x",
         "y": [
          "M04"
         ],
         "yaxis": "y"
        },
        {
         "alignmentgroup": "True",
         "base": [
          "2030-01-26T00:20:53.650877"
         ],
         "hovertemplate": "<b>%{hovertext}</b><br><br>Job_ID=J594<br>Scheduled_Start=%{base}<br>Estimated_Completion_Time=%{x}<br>Assigned_Machine=%{y}<extra></extra>",
         "hovertext": [
          "J594"
         ],
         "legendgroup": "J594",
         "marker": {
          "color": "#ab63fa",
          "pattern": {
           "shape": ""
          }
         },
         "name": "J594",
         "offsetgroup": "J594",
         "orientation": "h",
         "showlegend": true,
         "textposition": "auto",
         "type": "bar",
         "x": [
          299724536.253294
         ],
         "xaxis": "x",
         "y": [
          "M04"
         ],
         "yaxis": "y"
        },
        {
         "alignmentgroup": "True",
         "base": [
          "2030-01-29T12:20:53.650877"
         ],
         "hovertemplate": "<b>%{hovertext}</b><br><br>Job_ID=J595<br>Scheduled_Start=%{base}<br>Estimated_Completion_Time=%{x}<br>Assigned_Machine=%{y}<extra></extra>",
         "hovertext": [
          "J595"
         ],
         "legendgroup": "J595",
         "marker": {
          "color": "#FFA15A",
          "pattern": {
           "shape": ""
          }
         },
         "name": "J595",
         "offsetgroup": "J595",
         "orientation": "h",
         "showlegend": true,
         "textposition": "auto",
         "type": "bar",
         "x": [
          92771880.268878
         ],
         "xaxis": "x",
         "y": [
          "M04"
         ],
         "yaxis": "y"
        },
        {
         "alignmentgroup": "True",
         "base": [
          "2030-01-30T14:20:53.650877"
         ],
         "hovertemplate": "<b>%{hovertext}</b><br><br>Job_ID=J596<br>Scheduled_Start=%{base}<br>Estimated_Completion_Time=%{x}<br>Assigned_Machine=%{y}<extra></extra>",
         "hovertext": [
          "J596"
         ],
         "legendgroup": "J596",
         "marker": {
          "color": "#19d3f3",
          "pattern": {
           "shape": ""
          }
         },
         "name": "J596",
         "offsetgroup": "J596",
         "orientation": "h",
         "showlegend": true,
         "textposition": "auto",
         "type": "bar",
         "x": [
          74931134.063324
         ],
         "xaxis": "x",
         "y": [
          "M04"
         ],
         "yaxis": "y"
        },
        {
         "alignmentgroup": "True",
         "base": [
          "2030-01-31T11:20:53.650877"
         ],
         "hovertemplate": "<b>%{hovertext}</b><br><br>Job_ID=J597<br>Scheduled_Start=%{base}<br>Estimated_Completion_Time=%{x}<br>Assigned_Machine=%{y}<extra></extra>",
         "hovertext": [
          "J597"
         ],
         "legendgroup": "J597",
         "marker": {
          "color": "#FF6692",
          "pattern": {
           "shape": ""
          }
         },
         "name": "J597",
         "offsetgroup": "J597",
         "orientation": "h",
         "showlegend": true,
         "textposition": "auto",
         "type": "bar",
         "x": [
          228361551.431079
         ],
         "xaxis": "x",
         "y": [
          "M04"
         ],
         "yaxis": "y"
        },
        {
         "alignmentgroup": "True",
         "base": [
          "2030-02-03T03:20:53.650877"
         ],
         "hovertemplate": "<b>%{hovertext}</b><br><br>Job_ID=J598<br>Scheduled_Start=%{base}<br>Estimated_Completion_Time=%{x}<br>Assigned_Machine=%{y}<extra></extra>",
         "hovertext": [
          "J598"
         ],
         "legendgroup": "J598",
         "marker": {
          "color": "#B6E880",
          "pattern": {
           "shape": ""
          }
         },
         "name": "J598",
         "offsetgroup": "J598",
         "orientation": "h",
         "showlegend": true,
         "textposition": "auto",
         "type": "bar",
         "x": [
          363951222.593284
         ],
         "xaxis": "x",
         "y": [
          "M04"
         ],
         "yaxis": "y"
        },
        {
         "alignmentgroup": "True",
         "base": [
          "2030-02-07T09:20:53.650877"
         ],
         "hovertemplate": "<b>%{hovertext}</b><br><br>Job_ID=J599<br>Scheduled_Start=%{base}<br>Estimated_Completion_Time=%{x}<br>Assigned_Machine=%{y}<extra></extra>",
         "hovertext": [
          "J599"
         ],
         "legendgroup": "J599",
         "marker": {
          "color": "#FF97FF",
          "pattern": {
           "shape": ""
          }
         },
         "name": "J599",
         "offsetgroup": "J599",
         "orientation": "h",
         "showlegend": true,
         "textposition": "auto",
         "type": "bar",
         "x": [
          303292685.494404
         ],
         "xaxis": "x",
         "y": [
          "M04"
         ],
         "yaxis": "y"
        },
        {
         "alignmentgroup": "True",
         "base": [
          "2030-02-10T22:20:53.650877"
         ],
         "hovertemplate": "<b>%{hovertext}</b><br><br>Job_ID=J600<br>Scheduled_Start=%{base}<br>Estimated_Completion_Time=%{x}<br>Assigned_Machine=%{y}<extra></extra>",
         "hovertext": [
          "J600"
         ],
         "legendgroup": "J600",
         "marker": {
          "color": "#FECB52",
          "pattern": {
           "shape": ""
          }
         },
         "name": "J600",
         "offsetgroup": "J600",
         "orientation": "h",
         "showlegend": true,
         "textposition": "auto",
         "type": "bar",
         "x": [
          224793402.189969
         ],
         "xaxis": "x",
         "y": [
          "M04"
         ],
         "yaxis": "y"
        },
        {
         "alignmentgroup": "True",
         "base": [
          "2030-02-13T13:20:53.650877"
         ],
         "hovertemplate": "<b>%{hovertext}</b><br><br>Job_ID=J601<br>Scheduled_Start=%{base}<br>Estimated_Completion_Time=%{x}<br>Assigned_Machine=%{y}<extra></extra>",
         "hovertext": [
          "J601"
         ],
         "legendgroup": "J601",
         "marker": {
          "color": "#636efa",
          "pattern": {
           "shape": ""
          }
         },
         "name": "J601",
         "offsetgroup": "J601",
         "orientation": "h",
         "showlegend": true,
         "textposition": "auto",
         "type": "bar",
         "x": [
          214088954.466639
         ],
         "xaxis": "x",
         "y": [
          "M04"
         ],
         "yaxis": "y"
        },
        {
         "alignmentgroup": "True",
         "base": [
          "2030-02-16T01:20:53.650877"
         ],
         "hovertemplate": "<b>%{hovertext}</b><br><br>Job_ID=J602<br>Scheduled_Start=%{base}<br>Estimated_Completion_Time=%{x}<br>Assigned_Machine=%{y}<extra></extra>",
         "hovertext": [
          "J602"
         ],
         "legendgroup": "J602",
         "marker": {
          "color": "#EF553B",
          "pattern": {
           "shape": ""
          }
         },
         "name": "J602",
         "offsetgroup": "J602",
         "orientation": "h",
         "showlegend": true,
         "textposition": "auto",
         "type": "bar",
         "x": [
          281883790.04774
         ],
         "xaxis": "x",
         "y": [
          "M04"
         ],
         "yaxis": "y"
        },
        {
         "alignmentgroup": "True",
         "base": [
          "2030-02-19T08:20:53.650877"
         ],
         "hovertemplate": "<b>%{hovertext}</b><br><br>Job_ID=J603<br>Scheduled_Start=%{base}<br>Estimated_Completion_Time=%{x}<br>Assigned_Machine=%{y}<extra></extra>",
         "hovertext": [
          "J603"
         ],
         "legendgroup": "J603",
         "marker": {
          "color": "#00cc96",
          "pattern": {
           "shape": ""
          }
         },
         "name": "J603",
         "offsetgroup": "J603",
         "orientation": "h",
         "showlegend": true,
         "textposition": "auto",
         "type": "bar",
         "x": [
          321133431.699957
         ],
         "xaxis": "x",
         "y": [
          "M04"
         ],
         "yaxis": "y"
        },
        {
         "alignmentgroup": "True",
         "base": [
          "2030-02-23T02:20:53.650877"
         ],
         "hovertemplate": "<b>%{hovertext}</b><br><br>Job_ID=J604<br>Scheduled_Start=%{base}<br>Estimated_Completion_Time=%{x}<br>Assigned_Machine=%{y}<extra></extra>",
         "hovertext": [
          "J604"
         ],
         "legendgroup": "J604",
         "marker": {
          "color": "#ab63fa",
          "pattern": {
           "shape": ""
          }
         },
         "name": "J604",
         "offsetgroup": "J604",
         "orientation": "h",
         "showlegend": true,
         "textposition": "auto",
         "type": "bar",
         "x": [
          371087521.075504
         ],
         "xaxis": "x",
         "y": [
          "M04"
         ],
         "yaxis": "y"
        },
        {
         "alignmentgroup": "True",
         "base": [
          "2030-02-27T10:20:53.650877"
         ],
         "hovertemplate": "<b>%{hovertext}</b><br><br>Job_ID=J605<br>Scheduled_Start=%{base}<br>Estimated_Completion_Time=%{x}<br>Assigned_Machine=%{y}<extra></extra>",
         "hovertext": [
          "J605"
         ],
         "legendgroup": "J605",
         "marker": {
          "color": "#FFA15A",
          "pattern": {
           "shape": ""
          }
         },
         "name": "J605",
         "offsetgroup": "J605",
         "orientation": "h",
         "showlegend": true,
         "textposition": "auto",
         "type": "bar",
         "x": [
          89912132.586594
         ],
         "xaxis": "x",
         "y": [
          "M05"
         ],
         "yaxis": "y"
        },
        {
         "alignmentgroup": "True",
         "base": [
          "2030-02-28T11:20:53.650877"
         ],
         "hovertemplate": "<b>%{hovertext}</b><br><br>Job_ID=J606<br>Scheduled_Start=%{base}<br>Estimated_Completion_Time=%{x}<br>Assigned_Machine=%{y}<extra></extra>",
         "hovertext": [
          "J606"
         ],
         "legendgroup": "J606",
         "marker": {
          "color": "#19d3f3",
          "pattern": {
           "shape": ""
          }
         },
         "name": "J606",
         "offsetgroup": "J606",
         "orientation": "h",
         "showlegend": true,
         "textposition": "auto",
         "type": "bar",
         "x": [
          367519371.834394
         ],
         "xaxis": "x",
         "y": [
          "M04"
         ],
         "yaxis": "y"
        },
        {
         "alignmentgroup": "True",
         "base": [
          "2030-03-04T18:20:53.650877"
         ],
         "hovertemplate": "<b>%{hovertext}</b><br><br>Job_ID=J607<br>Scheduled_Start=%{base}<br>Estimated_Completion_Time=%{x}<br>Assigned_Machine=%{y}<extra></extra>",
         "hovertext": [
          "J607"
         ],
         "legendgroup": "J607",
         "marker": {
          "color": "#FF6692",
          "pattern": {
           "shape": ""
          }
         },
         "name": "J607",
         "offsetgroup": "J607",
         "orientation": "h",
         "showlegend": true,
         "textposition": "auto",
         "type": "bar",
         "x": [
          281883790.04774
         ],
         "xaxis": "x",
         "y": [
          "M04"
         ],
         "yaxis": "y"
        },
        {
         "alignmentgroup": "True",
         "base": [
          "2030-03-08T01:20:53.650877"
         ],
         "hovertemplate": "<b>%{hovertext}</b><br><br>Job_ID=J608<br>Scheduled_Start=%{base}<br>Estimated_Completion_Time=%{x}<br>Assigned_Machine=%{y}<extra></extra>",
         "hovertext": [
          "J608"
         ],
         "legendgroup": "J608",
         "marker": {
          "color": "#B6E880",
          "pattern": {
           "shape": ""
          }
         },
         "name": "J608",
         "offsetgroup": "J608",
         "orientation": "h",
         "showlegend": true,
         "textposition": "auto",
         "type": "bar",
         "x": [
          421041610.451055
         ],
         "xaxis": "x",
         "y": [
          "M04"
         ],
         "yaxis": "y"
        },
        {
         "alignmentgroup": "True",
         "base": [
          "2030-03-12T23:20:53.650877"
         ],
         "hovertemplate": "<b>%{hovertext}</b><br><br>Job_ID=J609<br>Scheduled_Start=%{base}<br>Estimated_Completion_Time=%{x}<br>Assigned_Machine=%{y}<extra></extra>",
         "hovertext": [
          "J609"
         ],
         "legendgroup": "J609",
         "marker": {
          "color": "#FF97FF",
          "pattern": {
           "shape": ""
          }
         },
         "name": "J609",
         "offsetgroup": "J609",
         "orientation": "h",
         "showlegend": true,
         "textposition": "auto",
         "type": "bar",
         "x": [
          305701250.794419
         ],
         "xaxis": "x",
         "y": [
          "M05"
         ],
         "yaxis": "y"
        },
        {
         "alignmentgroup": "True",
         "base": [
          "2030-03-16T12:20:53.650877"
         ],
         "hovertemplate": "<b>%{hovertext}</b><br><br>Job_ID=J610<br>Scheduled_Start=%{base}<br>Estimated_Completion_Time=%{x}<br>Assigned_Machine=%{y}<extra></extra>",
         "hovertext": [
          "J610"
         ],
         "legendgroup": "J610",
         "marker": {
          "color": "#FECB52",
          "pattern": {
           "shape": ""
          }
         },
         "name": "J610",
         "offsetgroup": "J610",
         "orientation": "h",
         "showlegend": true,
         "textposition": "auto",
         "type": "bar",
         "x": [
          413905311.968832
         ],
         "xaxis": "x",
         "y": [
          "M04"
         ],
         "yaxis": "y"
        },
        {
         "alignmentgroup": "True",
         "base": [
          "2030-03-21T08:20:53.650877"
         ],
         "hovertemplate": "<b>%{hovertext}</b><br><br>Job_ID=J611<br>Scheduled_Start=%{base}<br>Estimated_Completion_Time=%{x}<br>Assigned_Machine=%{y}<extra></extra>",
         "hovertext": [
          "J611"
         ],
         "legendgroup": "J611",
         "marker": {
          "color": "#636efa",
          "pattern": {
           "shape": ""
          }
         },
         "name": "J611",
         "offsetgroup": "J611",
         "orientation": "h",
         "showlegend": true,
         "textposition": "auto",
         "type": "bar",
         "x": [
          249770446.877743
         ],
         "xaxis": "x",
         "y": [
          "M04"
         ],
         "yaxis": "y"
        },
        {
         "alignmentgroup": "True",
         "base": [
          "2030-03-24T06:20:53.650877"
         ],
         "hovertemplate": "<b>%{hovertext}</b><br><br>Job_ID=J612<br>Scheduled_Start=%{base}<br>Estimated_Completion_Time=%{x}<br>Assigned_Machine=%{y}<extra></extra>",
         "hovertext": [
          "J612"
         ],
         "legendgroup": "J612",
         "marker": {
          "color": "#EF553B",
          "pattern": {
           "shape": ""
          }
         },
         "name": "J612",
         "offsetgroup": "J612",
         "orientation": "h",
         "showlegend": true,
         "textposition": "auto",
         "type": "bar",
         "x": [
          363951222.593284
         ],
         "xaxis": "x",
         "y": [
          "M04"
         ],
         "yaxis": "y"
        },
        {
         "alignmentgroup": "True",
         "base": [
          "2030-03-28T12:20:53.650877"
         ],
         "hovertemplate": "<b>%{hovertext}</b><br><br>Job_ID=J613<br>Scheduled_Start=%{base}<br>Estimated_Completion_Time=%{x}<br>Assigned_Machine=%{y}<extra></extra>",
         "hovertext": [
          "J613"
         ],
         "legendgroup": "J613",
         "marker": {
          "color": "#00cc96",
          "pattern": {
           "shape": ""
          }
         },
         "name": "J613",
         "offsetgroup": "J613",
         "orientation": "h",
         "showlegend": true,
         "textposition": "auto",
         "type": "bar",
         "x": [
          235497849.913303
         ],
         "xaxis": "x",
         "y": [
          "M04"
         ],
         "yaxis": "y"
        },
        {
         "alignmentgroup": "True",
         "base": [
          "2030-03-31T06:20:53.650877"
         ],
         "hovertemplate": "<b>%{hovertext}</b><br><br>Job_ID=J614<br>Scheduled_Start=%{base}<br>Estimated_Completion_Time=%{x}<br>Assigned_Machine=%{y}<extra></extra>",
         "hovertext": [
          "J614"
         ],
         "legendgroup": "J614",
         "marker": {
          "color": "#ab63fa",
          "pattern": {
           "shape": ""
          }
         },
         "name": "J614",
         "offsetgroup": "J614",
         "orientation": "h",
         "showlegend": true,
         "textposition": "auto",
         "type": "bar",
         "x": [
          274747491.565516
         ],
         "xaxis": "x",
         "y": [
          "M04"
         ],
         "yaxis": "y"
        },
        {
         "alignmentgroup": "True",
         "base": [
          "2030-04-03T11:20:53.650877"
         ],
         "hovertemplate": "<b>%{hovertext}</b><br><br>Job_ID=J615<br>Scheduled_Start=%{base}<br>Estimated_Completion_Time=%{x}<br>Assigned_Machine=%{y}<extra></extra>",
         "hovertext": [
          "J615"
         ],
         "legendgroup": "J615",
         "marker": {
          "color": "#FFA15A",
          "pattern": {
           "shape": ""
          }
         },
         "name": "J615",
         "offsetgroup": "J615",
         "orientation": "h",
         "showlegend": true,
         "textposition": "auto",
         "type": "bar",
         "x": [
          189111909.778862
         ],
         "xaxis": "x",
         "y": [
          "M04"
         ],
         "yaxis": "y"
        },
        {
         "alignmentgroup": "True",
         "base": [
          "2030-04-05T16:20:53.650877"
         ],
         "hovertemplate": "<b>%{hovertext}</b><br><br>Job_ID=J616<br>Scheduled_Start=%{base}<br>Estimated_Completion_Time=%{x}<br>Assigned_Machine=%{y}<extra></extra>",
         "hovertext": [
          "J616"
         ],
         "legendgroup": "J616",
         "marker": {
          "color": "#19d3f3",
          "pattern": {
           "shape": ""
          }
         },
         "name": "J616",
         "offsetgroup": "J616",
         "orientation": "h",
         "showlegend": true,
         "textposition": "auto",
         "type": "bar",
         "x": [
          160566715.849978
         ],
         "xaxis": "x",
         "y": [
          "M04"
         ],
         "yaxis": "y"
        },
        {
         "alignmentgroup": "True",
         "base": [
          "2030-04-07T13:20:53.650877"
         ],
         "hovertemplate": "<b>%{hovertext}</b><br><br>Job_ID=J617<br>Scheduled_Start=%{base}<br>Estimated_Completion_Time=%{x}<br>Assigned_Machine=%{y}<extra></extra>",
         "hovertext": [
          "J617"
         ],
         "legendgroup": "J617",
         "marker": {
          "color": "#FF6692",
          "pattern": {
           "shape": ""
          }
         },
         "name": "J617",
         "offsetgroup": "J617",
         "orientation": "h",
         "showlegend": true,
         "textposition": "auto",
         "type": "bar",
         "x": [
          235497849.913303
         ],
         "xaxis": "x",
         "y": [
          "M04"
         ],
         "yaxis": "y"
        },
        {
         "alignmentgroup": "True",
         "base": [
          "2030-04-10T07:20:53.650877"
         ],
         "hovertemplate": "<b>%{hovertext}</b><br><br>Job_ID=J618<br>Scheduled_Start=%{base}<br>Estimated_Completion_Time=%{x}<br>Assigned_Machine=%{y}<extra></extra>",
         "hovertext": [
          "J618"
         ],
         "legendgroup": "J618",
         "marker": {
          "color": "#B6E880",
          "pattern": {
           "shape": ""
          }
         },
         "name": "J618",
         "offsetgroup": "J618",
         "orientation": "h",
         "showlegend": true,
         "textposition": "auto",
         "type": "bar",
         "x": [
          338069618.525592
         ],
         "xaxis": "x",
         "y": [
          "M05"
         ],
         "yaxis": "y"
        },
        {
         "alignmentgroup": "True",
         "base": [
          "2030-04-14T05:20:53.650877"
         ],
         "hovertemplate": "<b>%{hovertext}</b><br><br>Job_ID=J619<br>Scheduled_Start=%{base}<br>Estimated_Completion_Time=%{x}<br>Assigned_Machine=%{y}<extra></extra>",
         "hovertext": [
          "J619"
         ],
         "legendgroup": "J619",
         "marker": {
          "color": "#FF97FF",
          "pattern": {
           "shape": ""
          }
         },
         "name": "J619",
         "offsetgroup": "J619",
         "orientation": "h",
         "showlegend": true,
         "textposition": "auto",
         "type": "bar",
         "x": [
          406769013.486612
         ],
         "xaxis": "x",
         "y": [
          "M04"
         ],
         "yaxis": "y"
        },
        {
         "alignmentgroup": "True",
         "base": [
          "2030-04-18T23:20:53.650877"
         ],
         "hovertemplate": "<b>%{hovertext}</b><br><br>Job_ID=J620<br>Scheduled_Start=%{base}<br>Estimated_Completion_Time=%{x}<br>Assigned_Machine=%{y}<extra></extra>",
         "hovertext": [
          "J620"
         ],
         "legendgroup": "J620",
         "marker": {
          "color": "#FECB52",
          "pattern": {
           "shape": ""
          }
         },
         "name": "J620",
         "offsetgroup": "J620",
         "orientation": "h",
         "showlegend": true,
         "textposition": "auto",
         "type": "bar",
         "x": [
          402806353.98794
         ],
         "xaxis": "x",
         "y": [
          "M05"
         ],
         "yaxis": "y"
        },
        {
         "alignmentgroup": "True",
         "base": [
          "2030-04-23T15:20:53.650877"
         ],
         "hovertemplate": "<b>%{hovertext}</b><br><br>Job_ID=J621<br>Scheduled_Start=%{base}<br>Estimated_Completion_Time=%{x}<br>Assigned_Machine=%{y}<extra></extra>",
         "hovertext": [
          "J621"
         ],
         "legendgroup": "J621",
         "marker": {
          "color": "#636efa",
          "pattern": {
           "shape": ""
          }
         },
         "name": "J621",
         "offsetgroup": "J621",
         "orientation": "h",
         "showlegend": true,
         "textposition": "auto",
         "type": "bar",
         "x": [
          206952655.984416
         ],
         "xaxis": "x",
         "y": [
          "M04"
         ],
         "yaxis": "y"
        },
        {
         "alignmentgroup": "True",
         "base": [
          "2030-04-26T01:20:53.650877"
         ],
         "hovertemplate": "<b>%{hovertext}</b><br><br>Job_ID=J622<br>Scheduled_Start=%{base}<br>Estimated_Completion_Time=%{x}<br>Assigned_Machine=%{y}<extra></extra>",
         "hovertext": [
          "J622"
         ],
         "legendgroup": "J622",
         "marker": {
          "color": "#EF553B",
          "pattern": {
           "shape": ""
          }
         },
         "name": "J622",
         "offsetgroup": "J622",
         "orientation": "h",
         "showlegend": true,
         "textposition": "auto",
         "type": "bar",
         "x": [
          384823927.470621
         ],
         "xaxis": "x",
         "y": [
          "M05"
         ],
         "yaxis": "y"
        },
        {
         "alignmentgroup": "True",
         "base": [
          "2030-04-30T12:20:53.650877"
         ],
         "hovertemplate": "<b>%{hovertext}</b><br><br>Job_ID=J623<br>Scheduled_Start=%{base}<br>Estimated_Completion_Time=%{x}<br>Assigned_Machine=%{y}<extra></extra>",
         "hovertext": [
          "J623"
         ],
         "legendgroup": "J623",
         "marker": {
          "color": "#00cc96",
          "pattern": {
           "shape": ""
          }
         },
         "name": "J623",
         "offsetgroup": "J623",
         "orientation": "h",
         "showlegend": true,
         "textposition": "auto",
         "type": "bar",
         "x": [
          388928267.281058
         ],
         "xaxis": "x",
         "y": [
          "M04"
         ],
         "yaxis": "y"
        },
        {
         "alignmentgroup": "True",
         "base": [
          "2030-05-05T01:20:53.650877"
         ],
         "hovertemplate": "<b>%{hovertext}</b><br><br>Job_ID=J624<br>Scheduled_Start=%{base}<br>Estimated_Completion_Time=%{x}<br>Assigned_Machine=%{y}<extra></extra>",
         "hovertext": [
          "J624"
         ],
         "legendgroup": "J624",
         "marker": {
          "color": "#ab63fa",
          "pattern": {
           "shape": ""
          }
         },
         "name": "J624",
         "offsetgroup": "J624",
         "orientation": "h",
         "showlegend": true,
         "textposition": "auto",
         "type": "bar",
         "x": [
          103476327.992208
         ],
         "xaxis": "x",
         "y": [
          "M04"
         ],
         "yaxis": "y"
        },
        {
         "alignmentgroup": "True",
         "base": [
          "2030-05-06T06:20:53.650877"
         ],
         "hovertemplate": "<b>%{hovertext}</b><br><br>Job_ID=J625<br>Scheduled_Start=%{base}<br>Estimated_Completion_Time=%{x}<br>Assigned_Machine=%{y}<extra></extra>",
         "hovertext": [
          "J625"
         ],
         "legendgroup": "J625",
         "marker": {
          "color": "#FFA15A",
          "pattern": {
           "shape": ""
          }
         },
         "name": "J625",
         "offsetgroup": "J625",
         "orientation": "h",
         "showlegend": true,
         "textposition": "auto",
         "type": "bar",
         "x": [
          251753971.242463
         ],
         "xaxis": "x",
         "y": [
          "M05"
         ],
         "yaxis": "y"
        },
        {
         "alignmentgroup": "True",
         "base": [
          "2030-05-09T04:20:53.650877"
         ],
         "hovertemplate": "<b>%{hovertext}</b><br><br>Job_ID=J626<br>Scheduled_Start=%{base}<br>Estimated_Completion_Time=%{x}<br>Assigned_Machine=%{y}<extra></extra>",
         "hovertext": [
          "J626"
         ],
         "legendgroup": "J626",
         "marker": {
          "color": "#19d3f3",
          "pattern": {
           "shape": ""
          }
         },
         "name": "J626",
         "offsetgroup": "J626",
         "orientation": "h",
         "showlegend": true,
         "textposition": "auto",
         "type": "bar",
         "x": [
          185543760.537752
         ],
         "xaxis": "x",
         "y": [
          "M04"
         ],
         "yaxis": "y"
        },
        {
         "alignmentgroup": "True",
         "base": [
          "2030-05-11T08:20:53.650877"
         ],
         "hovertemplate": "<b>%{hovertext}</b><br><br>Job_ID=J627<br>Scheduled_Start=%{base}<br>Estimated_Completion_Time=%{x}<br>Assigned_Machine=%{y}<extra></extra>",
         "hovertext": [
          "J627"
         ],
         "legendgroup": "J627",
         "marker": {
          "color": "#FF6692",
          "pattern": {
           "shape": ""
          }
         },
         "name": "J627",
         "offsetgroup": "J627",
         "orientation": "h",
         "showlegend": true,
         "textposition": "auto",
         "type": "bar",
         "x": [
          256906745.359966
         ],
         "xaxis": "x",
         "y": [
          "M04"
         ],
         "yaxis": "y"
        },
        {
         "alignmentgroup": "True",
         "base": [
          "2030-05-14T08:20:53.650877"
         ],
         "hovertemplate": "<b>%{hovertext}</b><br><br>Job_ID=J628<br>Scheduled_Start=%{base}<br>Estimated_Completion_Time=%{x}<br>Assigned_Machine=%{y}<extra></extra>",
         "hovertext": [
          "J628"
         ],
         "legendgroup": "J628",
         "marker": {
          "color": "#B6E880",
          "pattern": {
           "shape": ""
          }
         },
         "name": "J628",
         "offsetgroup": "J628",
         "orientation": "h",
         "showlegend": true,
         "textposition": "auto",
         "type": "bar",
         "x": [
          424609759.692165
         ],
         "xaxis": "x",
         "y": [
          "M04"
         ],
         "yaxis": "y"
        },
        {
         "alignmentgroup": "True",
         "base": [
          "2030-05-19T07:20:53.650877"
         ],
         "hovertemplate": "<b>%{hovertext}</b><br><br>Job_ID=J629<br>Scheduled_Start=%{base}<br>Estimated_Completion_Time=%{x}<br>Assigned_Machine=%{y}<extra></extra>",
         "hovertext": [
          "J629"
         ],
         "legendgroup": "J629",
         "marker": {
          "color": "#FF97FF",
          "pattern": {
           "shape": ""
          }
         },
         "name": "J629",
         "offsetgroup": "J629",
         "orientation": "h",
         "showlegend": true,
         "textposition": "auto",
         "type": "bar",
         "x": [
          399632715.004392
         ],
         "xaxis": "x",
         "y": [
          "M04"
         ],
         "yaxis": "y"
        },
        {
         "alignmentgroup": "True",
         "base": [
          "2030-05-23T23:20:53.650877"
         ],
         "hovertemplate": "<b>%{hovertext}</b><br><br>Job_ID=J630<br>Scheduled_Start=%{base}<br>Estimated_Completion_Time=%{x}<br>Assigned_Machine=%{y}<extra></extra>",
         "hovertext": [
          "J630"
         ],
         "legendgroup": "J630",
         "marker": {
          "color": "#FECB52",
          "pattern": {
           "shape": ""
          }
         },
         "name": "J630",
         "offsetgroup": "J630",
         "orientation": "h",
         "showlegend": true,
         "textposition": "auto",
         "type": "bar",
         "x": [
          139157820.403315
         ],
         "xaxis": "x",
         "y": [
          "M04"
         ],
         "yaxis": "y"
        },
        {
         "alignmentgroup": "True",
         "base": [
          "2030-05-25T14:20:53.650877"
         ],
         "hovertemplate": "<b>%{hovertext}</b><br><br>Job_ID=J631<br>Scheduled_Start=%{base}<br>Estimated_Completion_Time=%{x}<br>Assigned_Machine=%{y}<extra></extra>",
         "hovertext": [
          "J631"
         ],
         "legendgroup": "J631",
         "marker": {
          "color": "#636efa",
          "pattern": {
           "shape": ""
          }
         },
         "name": "J631",
         "offsetgroup": "J631",
         "orientation": "h",
         "showlegend": true,
         "textposition": "auto",
         "type": "bar",
         "x": [
          377630956.863694
         ],
         "xaxis": "x",
         "y": [
          "M05"
         ],
         "yaxis": "y"
        },
        {
         "alignmentgroup": "True",
         "base": [
          "2030-05-29T23:20:53.650877"
         ],
         "hovertemplate": "<b>%{hovertext}</b><br><br>Job_ID=J632<br>Scheduled_Start=%{base}<br>Estimated_Completion_Time=%{x}<br>Assigned_Machine=%{y}<extra></extra>",
         "hovertext": [
          "J632"
         ],
         "legendgroup": "J632",
         "marker": {
          "color": "#EF553B",
          "pattern": {
           "shape": ""
          }
         },
         "name": "J632",
         "offsetgroup": "J632",
         "orientation": "h",
         "showlegend": true,
         "textposition": "auto",
         "type": "bar",
         "x": [
          181975611.296642
         ],
         "xaxis": "x",
         "y": [
          "M04"
         ],
         "yaxis": "y"
        },
        {
         "alignmentgroup": "True",
         "base": [
          "2030-06-01T02:20:53.650877"
         ],
         "hovertemplate": "<b>%{hovertext}</b><br><br>Job_ID=J633<br>Scheduled_Start=%{base}<br>Estimated_Completion_Time=%{x}<br>Assigned_Machine=%{y}<extra></extra>",
         "hovertext": [
          "J633"
         ],
         "legendgroup": "J633",
         "marker": {
          "color": "#00cc96",
          "pattern": {
           "shape": ""
          }
         },
         "name": "J633",
         "offsetgroup": "J633",
         "orientation": "h",
         "showlegend": true,
         "textposition": "auto",
         "type": "bar",
         "x": [
          352455559.739449
         ],
         "xaxis": "x",
         "y": [
          "M05"
         ],
         "yaxis": "y"
        },
        {
         "alignmentgroup": "True",
         "base": [
          "2030-06-05T04:20:53.650877"
         ],
         "hovertemplate": "<b>%{hovertext}</b><br><br>Job_ID=J634<br>Scheduled_Start=%{base}<br>Estimated_Completion_Time=%{x}<br>Assigned_Machine=%{y}<extra></extra>",
         "hovertext": [
          "J634"
         ],
         "legendgroup": "J634",
         "marker": {
          "color": "#ab63fa",
          "pattern": {
           "shape": ""
          }
         },
         "name": "J634",
         "offsetgroup": "J634",
         "orientation": "h",
         "showlegend": true,
         "textposition": "auto",
         "type": "bar",
         "x": [
          312894221.401346
         ],
         "xaxis": "x",
         "y": [
          "M05"
         ],
         "yaxis": "y"
        },
        {
         "alignmentgroup": "True",
         "base": [
          "2030-06-08T19:20:53.650877"
         ],
         "hovertemplate": "<b>%{hovertext}</b><br><br>Job_ID=J635<br>Scheduled_Start=%{base}<br>Estimated_Completion_Time=%{x}<br>Assigned_Machine=%{y}<extra></extra>",
         "hovertext": [
          "J635"
         ],
         "legendgroup": "J635",
         "marker": {
          "color": "#FFA15A",
          "pattern": {
           "shape": ""
          }
         },
         "name": "J635",
         "offsetgroup": "J635",
         "orientation": "h",
         "showlegend": true,
         "textposition": "auto",
         "type": "bar",
         "x": [
          367519371.834394
         ],
         "xaxis": "x",
         "y": [
          "M04"
         ],
         "yaxis": "y"
        },
        {
         "alignmentgroup": "True",
         "base": [
          "2030-06-13T02:20:53.650877"
         ],
         "hovertemplate": "<b>%{hovertext}</b><br><br>Job_ID=J636<br>Scheduled_Start=%{base}<br>Estimated_Completion_Time=%{x}<br>Assigned_Machine=%{y}<extra></extra>",
         "hovertext": [
          "J636"
         ],
         "legendgroup": "J636",
         "marker": {
          "color": "#19d3f3",
          "pattern": {
           "shape": ""
          }
         },
         "name": "J636",
         "offsetgroup": "J636",
         "orientation": "h",
         "showlegend": true,
         "textposition": "auto",
         "type": "bar",
         "x": [
          260474894.601076
         ],
         "xaxis": "x",
         "y": [
          "M04"
         ],
         "yaxis": "y"
        },
        {
         "alignmentgroup": "True",
         "base": [
          "2030-06-16T03:20:53.650877"
         ],
         "hovertemplate": "<b>%{hovertext}</b><br><br>Job_ID=J637<br>Scheduled_Start=%{base}<br>Estimated_Completion_Time=%{x}<br>Assigned_Machine=%{y}<extra></extra>",
         "hovertext": [
          "J637"
         ],
         "legendgroup": "J637",
         "marker": {
          "color": "#FF6692",
          "pattern": {
           "shape": ""
          }
         },
         "name": "J637",
         "offsetgroup": "J637",
         "orientation": "h",
         "showlegend": true,
         "textposition": "auto",
         "type": "bar",
         "x": [
          303292685.494404
         ],
         "xaxis": "x",
         "y": [
          "M04"
         ],
         "yaxis": "y"
        },
        {
         "alignmentgroup": "True",
         "base": [
          "2030-06-19T16:20:53.650877"
         ],
         "hovertemplate": "<b>%{hovertext}</b><br><br>Job_ID=J638<br>Scheduled_Start=%{base}<br>Estimated_Completion_Time=%{x}<br>Assigned_Machine=%{y}<extra></extra>",
         "hovertext": [
          "J638"
         ],
         "legendgroup": "J638",
         "marker": {
          "color": "#B6E880",
          "pattern": {
           "shape": ""
          }
         },
         "name": "J638",
         "offsetgroup": "J638",
         "orientation": "h",
         "showlegend": true,
         "textposition": "auto",
         "type": "bar",
         "x": [
          334473133.22213
         ],
         "xaxis": "x",
         "y": [
          "M05"
         ],
         "yaxis": "y"
        },
        {
         "alignmentgroup": "True",
         "base": [
          "2030-06-23T13:20:53.650877"
         ],
         "hovertemplate": "<b>%{hovertext}</b><br><br>Job_ID=J639<br>Scheduled_Start=%{base}<br>Estimated_Completion_Time=%{x}<br>Assigned_Machine=%{y}<extra></extra>",
         "hovertext": [
          "J639"
         ],
         "legendgroup": "J639",
         "marker": {
          "color": "#FF97FF",
          "pattern": {
           "shape": ""
          }
         },
         "name": "J639",
         "offsetgroup": "J639",
         "orientation": "h",
         "showlegend": true,
         "textposition": "auto",
         "type": "bar",
         "x": [
          363951222.593284
         ],
         "xaxis": "x",
         "y": [
          "M04"
         ],
         "yaxis": "y"
        },
        {
         "alignmentgroup": "True",
         "base": [
          "2030-06-27T19:20:53.650877"
         ],
         "hovertemplate": "<b>%{hovertext}</b><br><br>Job_ID=J640<br>Scheduled_Start=%{base}<br>Estimated_Completion_Time=%{x}<br>Assigned_Machine=%{y}<extra></extra>",
         "hovertext": [
          "J640"
         ],
         "legendgroup": "J640",
         "marker": {
          "color": "#FECB52",
          "pattern": {
           "shape": ""
          }
         },
         "name": "J640",
         "offsetgroup": "J640",
         "orientation": "h",
         "showlegend": true,
         "textposition": "auto",
         "type": "bar",
         "x": [
          128453372.679981
         ],
         "xaxis": "x",
         "y": [
          "M04"
         ],
         "yaxis": "y"
        },
        {
         "alignmentgroup": "True",
         "base": [
          "2030-06-29T07:20:53.650877"
         ],
         "hovertemplate": "<b>%{hovertext}</b><br><br>Job_ID=J641<br>Scheduled_Start=%{base}<br>Estimated_Completion_Time=%{x}<br>Assigned_Machine=%{y}<extra></extra>",
         "hovertext": [
          "J641"
         ],
         "legendgroup": "J641",
         "marker": {
          "color": "#636efa",
          "pattern": {
           "shape": ""
          }
         },
         "name": "J641",
         "offsetgroup": "J641",
         "orientation": "h",
         "showlegend": true,
         "textposition": "auto",
         "type": "bar",
         "x": [
          406402839.291405
         ],
         "xaxis": "x",
         "y": [
          "M05"
         ],
         "yaxis": "y"
        },
        {
         "alignmentgroup": "True",
         "base": [
          "2030-07-04T00:20:53.650877"
         ],
         "hovertemplate": "<b>%{hovertext}</b><br><br>Job_ID=J642<br>Scheduled_Start=%{base}<br>Estimated_Completion_Time=%{x}<br>Assigned_Machine=%{y}<extra></extra>",
         "hovertext": [
          "J642"
         ],
         "legendgroup": "J642",
         "marker": {
          "color": "#EF553B",
          "pattern": {
           "shape": ""
          }
         },
         "name": "J642",
         "offsetgroup": "J642",
         "orientation": "h",
         "showlegend": true,
         "textposition": "auto",
         "type": "bar",
         "x": [
          154648868.048942
         ],
         "xaxis": "x",
         "y": [
          "M05"
         ],
         "yaxis": "y"
        },
        {
         "alignmentgroup": "True",
         "base": [
          "2030-07-05T19:20:53.650877"
         ],
         "hovertemplate": "<b>%{hovertext}</b><br><br>Job_ID=J643<br>Scheduled_Start=%{base}<br>Estimated_Completion_Time=%{x}<br>Assigned_Machine=%{y}<extra></extra>",
         "hovertext": [
          "J643"
         ],
         "legendgroup": "J643",
         "marker": {
          "color": "#00cc96",
          "pattern": {
           "shape": ""
          }
         },
         "name": "J643",
         "offsetgroup": "J643",
         "orientation": "h",
         "showlegend": true,
         "textposition": "auto",
         "type": "bar",
         "x": [
          217657103.707749
         ],
         "xaxis": "x",
         "y": [
          "M04"
         ],
         "yaxis": "y"
        },
        {
         "alignmentgroup": "True",
         "base": [
          "2030-07-08T08:20:53.650877"
         ],
         "hovertemplate": "<b>%{hovertext}</b><br><br>Job_ID=J644<br>Scheduled_Start=%{base}<br>Estimated_Completion_Time=%{x}<br>Assigned_Machine=%{y}<extra></extra>",
         "hovertext": [
          "J644"
         ],
         "legendgroup": "J644",
         "marker": {
          "color": "#ab63fa",
          "pattern": {
           "shape": ""
          }
         },
         "name": "J644",
         "offsetgroup": "J644",
         "orientation": "h",
         "showlegend": true,
         "textposition": "auto",
         "type": "bar",
         "x": [
          312894221.401346
         ],
         "xaxis": "x",
         "y": [
          "M05"
         ],
         "yaxis": "y"
        },
        {
         "alignmentgroup": "True",
         "base": [
          "2030-07-11T23:20:53.650877"
         ],
         "hovertemplate": "<b>%{hovertext}</b><br><br>Job_ID=J645<br>Scheduled_Start=%{base}<br>Estimated_Completion_Time=%{x}<br>Assigned_Machine=%{y}<extra></extra>",
         "hovertext": [
          "J645"
         ],
         "legendgroup": "J645",
         "marker": {
          "color": "#FFA15A",
          "pattern": {
           "shape": ""
          }
         },
         "name": "J645",
         "offsetgroup": "J645",
         "orientation": "h",
         "showlegend": true,
         "textposition": "auto",
         "type": "bar",
         "x": [
          178407462.055532
         ],
         "xaxis": "x",
         "y": [
          "M04"
         ],
         "yaxis": "y"
        },
        {
         "alignmentgroup": "True",
         "base": [
          "2030-07-14T01:20:53.650877"
         ],
         "hovertemplate": "<b>%{hovertext}</b><br><br>Job_ID=J646<br>Scheduled_Start=%{base}<br>Estimated_Completion_Time=%{x}<br>Assigned_Machine=%{y}<extra></extra>",
         "hovertext": [
          "J646"
         ],
         "legendgroup": "J646",
         "marker": {
          "color": "#19d3f3",
          "pattern": {
           "shape": ""
          }
         },
         "name": "J646",
         "offsetgroup": "J646",
         "orientation": "h",
         "showlegend": true,
         "textposition": "auto",
         "type": "bar",
         "x": [
          424385265.808724
         ],
         "xaxis": "x",
         "y": [
          "M05"
         ],
         "yaxis": "y"
        },
        {
         "alignmentgroup": "True",
         "base": [
          "2030-07-18T23:20:53.650877"
         ],
         "hovertemplate": "<b>%{hovertext}</b><br><br>Job_ID=J647<br>Scheduled_Start=%{base}<br>Estimated_Completion_Time=%{x}<br>Assigned_Machine=%{y}<extra></extra>",
         "hovertext": [
          "J647"
         ],
         "legendgroup": "J647",
         "marker": {
          "color": "#FF6692",
          "pattern": {
           "shape": ""
          }
         },
         "name": "J647",
         "offsetgroup": "J647",
         "orientation": "h",
         "showlegend": true,
         "textposition": "auto",
         "type": "bar",
         "x": [
          346110476.387731
         ],
         "xaxis": "x",
         "y": [
          "M04"
         ],
         "yaxis": "y"
        },
        {
         "alignmentgroup": "True",
         "base": [
          "2030-07-23T00:20:53.650877"
         ],
         "hovertemplate": "<b>%{hovertext}</b><br><br>Job_ID=J648<br>Scheduled_Start=%{base}<br>Estimated_Completion_Time=%{x}<br>Assigned_Machine=%{y}<extra></extra>",
         "hovertext": [
          "J648"
         ],
         "legendgroup": "J648",
         "marker": {
          "color": "#B6E880",
          "pattern": {
           "shape": ""
          }
         },
         "name": "J648",
         "offsetgroup": "J648",
         "orientation": "h",
         "showlegend": true,
         "textposition": "auto",
         "type": "bar",
         "x": [
          199816357.502196
         ],
         "xaxis": "x",
         "y": [
          "M04"
         ],
         "yaxis": "y"
        },
        {
         "alignmentgroup": "True",
         "base": [
          "2030-07-25T08:20:53.650877"
         ],
         "hovertemplate": "<b>%{hovertext}</b><br><br>Job_ID=J649<br>Scheduled_Start=%{base}<br>Estimated_Completion_Time=%{x}<br>Assigned_Machine=%{y}<extra></extra>",
         "hovertext": [
          "J649"
         ],
         "legendgroup": "J649",
         "marker": {
          "color": "#FF97FF",
          "pattern": {
           "shape": ""
          }
         },
         "name": "J649",
         "offsetgroup": "J649",
         "orientation": "h",
         "showlegend": true,
         "textposition": "auto",
         "type": "bar",
         "x": [
          204999662.297433
         ],
         "xaxis": "x",
         "y": [
          "M05"
         ],
         "yaxis": "y"
        },
        {
         "alignmentgroup": "True",
         "base": [
          "2030-07-27T17:20:53.650877"
         ],
         "hovertemplate": "<b>%{hovertext}</b><br><br>Job_ID=J650<br>Scheduled_Start=%{base}<br>Estimated_Completion_Time=%{x}<br>Assigned_Machine=%{y}<extra></extra>",
         "hovertext": [
          "J650"
         ],
         "legendgroup": "J650",
         "marker": {
          "color": "#FECB52",
          "pattern": {
           "shape": ""
          }
         },
         "name": "J650",
         "offsetgroup": "J650",
         "orientation": "h",
         "showlegend": true,
         "textposition": "auto",
         "type": "bar",
         "x": [
          356814924.111064
         ],
         "xaxis": "x",
         "y": [
          "M04"
         ],
         "yaxis": "y"
        },
        {
         "alignmentgroup": "True",
         "base": [
          "2030-07-31T21:20:53.650877"
         ],
         "hovertemplate": "<b>%{hovertext}</b><br><br>Job_ID=J651<br>Scheduled_Start=%{base}<br>Estimated_Completion_Time=%{x}<br>Assigned_Machine=%{y}<extra></extra>",
         "hovertext": [
          "J651"
         ],
         "legendgroup": "J651",
         "marker": {
          "color": "#636efa",
          "pattern": {
           "shape": ""
          }
         },
         "name": "J651",
         "offsetgroup": "J651",
         "orientation": "h",
         "showlegend": true,
         "textposition": "auto",
         "type": "bar",
         "x": [
          132021521.921091
         ],
         "xaxis": "x",
         "y": [
          "M04"
         ],
         "yaxis": "y"
        },
        {
         "alignmentgroup": "True",
         "base": [
          "2030-08-02T10:20:53.650877"
         ],
         "hovertemplate": "<b>%{hovertext}</b><br><br>Job_ID=J652<br>Scheduled_Start=%{base}<br>Estimated_Completion_Time=%{x}<br>Assigned_Machine=%{y}<extra></extra>",
         "hovertext": [
          "J652"
         ],
         "legendgroup": "J652",
         "marker": {
          "color": "#EF553B",
          "pattern": {
           "shape": ""
          }
         },
         "name": "J652",
         "offsetgroup": "J652",
         "orientation": "h",
         "showlegend": true,
         "textposition": "auto",
         "type": "bar",
         "x": [
          89203731.027764
         ],
         "xaxis": "x",
         "y": [
          "M04"
         ],
         "yaxis": "y"
        },
        {
         "alignmentgroup": "True",
         "base": [
          "2030-08-03T11:20:53.650877"
         ],
         "hovertemplate": "<b>%{hovertext}</b><br><br>Job_ID=J653<br>Scheduled_Start=%{base}<br>Estimated_Completion_Time=%{x}<br>Assigned_Machine=%{y}<extra></extra>",
         "hovertext": [
          "J653"
         ],
         "legendgroup": "J653",
         "marker": {
          "color": "#00cc96",
          "pattern": {
           "shape": ""
          }
         },
         "name": "J653",
         "offsetgroup": "J653",
         "orientation": "h",
         "showlegend": true,
         "textposition": "auto",
         "type": "bar",
         "x": [
          74931134.063324
         ],
         "xaxis": "x",
         "y": [
          "M04"
         ],
         "yaxis": "y"
        },
        {
         "alignmentgroup": "True",
         "base": [
          "2030-08-04T08:20:53.650877"
         ],
         "hovertemplate": "<b>%{hovertext}</b><br><br>Job_ID=J654<br>Scheduled_Start=%{base}<br>Estimated_Completion_Time=%{x}<br>Assigned_Machine=%{y}<extra></extra>",
         "hovertext": [
          "J654"
         ],
         "legendgroup": "J654",
         "marker": {
          "color": "#ab63fa",
          "pattern": {
           "shape": ""
          }
         },
         "name": "J654",
         "offsetgroup": "J654",
         "orientation": "h",
         "showlegend": true,
         "textposition": "auto",
         "type": "bar",
         "x": [
          210520805.225526
         ],
         "xaxis": "x",
         "y": [
          "M04"
         ],
         "yaxis": "y"
        },
        {
         "alignmentgroup": "True",
         "base": [
          "2030-08-06T19:20:53.650877"
         ],
         "hovertemplate": "<b>%{hovertext}</b><br><br>Job_ID=J655<br>Scheduled_Start=%{base}<br>Estimated_Completion_Time=%{x}<br>Assigned_Machine=%{y}<extra></extra>",
         "hovertext": [
          "J655"
         ],
         "legendgroup": "J655",
         "marker": {
          "color": "#FFA15A",
          "pattern": {
           "shape": ""
          }
         },
         "name": "J655",
         "offsetgroup": "J655",
         "orientation": "h",
         "showlegend": true,
         "textposition": "auto",
         "type": "bar",
         "x": [
          164134865.091088
         ],
         "xaxis": "x",
         "y": [
          "M04"
         ],
         "yaxis": "y"
        },
        {
         "alignmentgroup": "True",
         "base": [
          "2030-08-08T17:20:53.650877"
         ],
         "hovertemplate": "<b>%{hovertext}</b><br><br>Job_ID=J656<br>Scheduled_Start=%{base}<br>Estimated_Completion_Time=%{x}<br>Assigned_Machine=%{y}<extra></extra>",
         "hovertext": [
          "J656"
         ],
         "legendgroup": "J656",
         "marker": {
          "color": "#19d3f3",
          "pattern": {
           "shape": ""
          }
         },
         "name": "J656",
         "offsetgroup": "J656",
         "orientation": "h",
         "showlegend": true,
         "textposition": "auto",
         "type": "bar",
         "x": [
          82067432.545544
         ],
         "xaxis": "x",
         "y": [
          "M04"
         ],
         "yaxis": "y"
        },
        {
         "alignmentgroup": "True",
         "base": [
          "2030-08-09T16:20:53.650877"
         ],
         "hovertemplate": "<b>%{hovertext}</b><br><br>Job_ID=J657<br>Scheduled_Start=%{base}<br>Estimated_Completion_Time=%{x}<br>Assigned_Machine=%{y}<extra></extra>",
         "hovertext": [
          "J657"
         ],
         "legendgroup": "J657",
         "marker": {
          "color": "#FF6692",
          "pattern": {
           "shape": ""
          }
         },
         "name": "J657",
         "offsetgroup": "J657",
         "orientation": "h",
         "showlegend": true,
         "textposition": "auto",
         "type": "bar",
         "x": [
          363245015.649837
         ],
         "xaxis": "x",
         "y": [
          "M05"
         ],
         "yaxis": "y"
        },
        {
         "alignmentgroup": "True",
         "base": [
          "2030-08-13T21:20:53.650877"
         ],
         "hovertemplate": "<b>%{hovertext}</b><br><br>Job_ID=J658<br>Scheduled_Start=%{base}<br>Estimated_Completion_Time=%{x}<br>Assigned_Machine=%{y}<extra></extra>",
         "hovertext": [
          "J658"
         ],
         "legendgroup": "J658",
         "marker": {
          "color": "#B6E880",
          "pattern": {
           "shape": ""
          }
         },
         "name": "J658",
         "offsetgroup": "J658",
         "orientation": "h",
         "showlegend": true,
         "textposition": "auto",
         "type": "bar",
         "x": [
          214088954.466639
         ],
         "xaxis": "x",
         "y": [
          "M04"
         ],
         "yaxis": "y"
        },
        {
         "alignmentgroup": "True",
         "base": [
          "2030-08-16T09:20:53.650877"
         ],
         "hovertemplate": "<b>%{hovertext}</b><br><br>Job_ID=J659<br>Scheduled_Start=%{base}<br>Estimated_Completion_Time=%{x}<br>Assigned_Machine=%{y}<extra></extra>",
         "hovertext": [
          "J659"
         ],
         "legendgroup": "J659",
         "marker": {
          "color": "#FF97FF",
          "pattern": {
           "shape": ""
          }
         },
         "name": "J659",
         "offsetgroup": "J659",
         "orientation": "h",
         "showlegend": true,
         "textposition": "auto",
         "type": "bar",
         "x": [
          217657103.707749
         ],
         "xaxis": "x",
         "y": [
          "M04"
         ],
         "yaxis": "y"
        },
        {
         "alignmentgroup": "True",
         "base": [
          "2030-08-18T22:20:53.650877"
         ],
         "hovertemplate": "<b>%{hovertext}</b><br><br>Job_ID=J660<br>Scheduled_Start=%{base}<br>Estimated_Completion_Time=%{x}<br>Assigned_Machine=%{y}<extra></extra>",
         "hovertext": [
          "J660"
         ],
         "legendgroup": "J660",
         "marker": {
          "color": "#FECB52",
          "pattern": {
           "shape": ""
          }
         },
         "name": "J660",
         "offsetgroup": "J660",
         "orientation": "h",
         "showlegend": true,
         "textposition": "auto",
         "type": "bar",
         "x": [
          428177908.933275
         ],
         "xaxis": "x",
         "y": [
          "M04"
         ],
         "yaxis": "y"
        },
        {
         "alignmentgroup": "True",
         "base": [
          "2030-08-23T22:20:53.650877"
         ],
         "hovertemplate": "<b>%{hovertext}</b><br><br>Job_ID=J661<br>Scheduled_Start=%{base}<br>Estimated_Completion_Time=%{x}<br>Assigned_Machine=%{y}<extra></extra>",
         "hovertext": [
          "J661"
         ],
         "legendgroup": "J661",
         "marker": {
          "color": "#636efa",
          "pattern": {
           "shape": ""
          }
         },
         "name": "J661",
         "offsetgroup": "J661",
         "orientation": "h",
         "showlegend": true,
         "textposition": "auto",
         "type": "bar",
         "x": [
          281883790.04774
         ],
         "xaxis": "x",
         "y": [
          "M04"
         ],
         "yaxis": "y"
        },
        {
         "alignmentgroup": "True",
         "base": [
          "2030-08-27T05:20:53.650877"
         ],
         "hovertemplate": "<b>%{hovertext}</b><br><br>Job_ID=J662<br>Scheduled_Start=%{base}<br>Estimated_Completion_Time=%{x}<br>Assigned_Machine=%{y}<extra></extra>",
         "hovertext": [
          "J662"
         ],
         "legendgroup": "J662",
         "marker": {
          "color": "#EF553B",
          "pattern": {
           "shape": ""
          }
         },
         "name": "J662",
         "offsetgroup": "J662",
         "orientation": "h",
         "showlegend": true,
         "textposition": "auto",
         "type": "bar",
         "x": [
          107044477.233318
         ],
         "xaxis": "x",
         "y": [
          "M04"
         ],
         "yaxis": "y"
        },
        {
         "alignmentgroup": "True",
         "base": [
          "2030-08-28T11:20:53.650877"
         ],
         "hovertemplate": "<b>%{hovertext}</b><br><br>Job_ID=J663<br>Scheduled_Start=%{base}<br>Estimated_Completion_Time=%{x}<br>Assigned_Machine=%{y}<extra></extra>",
         "hovertext": [
          "J663"
         ],
         "legendgroup": "J663",
         "marker": {
          "color": "#00cc96",
          "pattern": {
           "shape": ""
          }
         },
         "name": "J663",
         "offsetgroup": "J663",
         "orientation": "h",
         "showlegend": true,
         "textposition": "auto",
         "type": "bar",
         "x": [
          399632715.004392
         ],
         "xaxis": "x",
         "y": [
          "M04"
         ],
         "yaxis": "y"
        },
        {
         "alignmentgroup": "True",
         "base": [
          "2030-09-02T03:20:53.650877"
         ],
         "hovertemplate": "<b>%{hovertext}</b><br><br>Job_ID=J664<br>Scheduled_Start=%{base}<br>Estimated_Completion_Time=%{x}<br>Assigned_Machine=%{y}<extra></extra>",
         "hovertext": [
          "J664"
         ],
         "legendgroup": "J664",
         "marker": {
          "color": "#ab63fa",
          "pattern": {
           "shape": ""
          }
         },
         "name": "J664",
         "offsetgroup": "J664",
         "orientation": "h",
         "showlegend": true,
         "textposition": "auto",
         "type": "bar",
         "x": [
          346110476.387731
         ],
         "xaxis": "x",
         "y": [
          "M04"
         ],
         "yaxis": "y"
        },
        {
         "alignmentgroup": "True",
         "base": [
          "2030-09-06T04:20:53.650877"
         ],
         "hovertemplate": "<b>%{hovertext}</b><br><br>Job_ID=J665<br>Scheduled_Start=%{base}<br>Estimated_Completion_Time=%{x}<br>Assigned_Machine=%{y}<extra></extra>",
         "hovertext": [
          "J665"
         ],
         "legendgroup": "J665",
         "marker": {
          "color": "#FFA15A",
          "pattern": {
           "shape": ""
          }
         },
         "name": "J665",
         "offsetgroup": "J665",
         "orientation": "h",
         "showlegend": true,
         "textposition": "auto",
         "type": "bar",
         "x": [
          160566715.849978
         ],
         "xaxis": "x",
         "y": [
          "M04"
         ],
         "yaxis": "y"
        },
        {
         "alignmentgroup": "True",
         "base": [
          "2030-09-08T01:20:53.650877"
         ],
         "hovertemplate": "<b>%{hovertext}</b><br><br>Job_ID=J666<br>Scheduled_Start=%{base}<br>Estimated_Completion_Time=%{x}<br>Assigned_Machine=%{y}<extra></extra>",
         "hovertext": [
          "J666"
         ],
         "legendgroup": "J666",
         "marker": {
          "color": "#19d3f3",
          "pattern": {
           "shape": ""
          }
         },
         "name": "J666",
         "offsetgroup": "J666",
         "orientation": "h",
         "showlegend": true,
         "textposition": "auto",
         "type": "bar",
         "x": [
          253338596.118853
         ],
         "xaxis": "x",
         "y": [
          "M04"
         ],
         "yaxis": "y"
        },
        {
         "alignmentgroup": "True",
         "base": [
          "2030-09-11T00:20:53.650877"
         ],
         "hovertemplate": "<b>%{hovertext}</b><br><br>Job_ID=J667<br>Scheduled_Start=%{base}<br>Estimated_Completion_Time=%{x}<br>Assigned_Machine=%{y}<extra></extra>",
         "hovertext": [
          "J667"
         ],
         "legendgroup": "J667",
         "marker": {
          "color": "#FF6692",
          "pattern": {
           "shape": ""
          }
         },
         "name": "J667",
         "offsetgroup": "J667",
         "orientation": "h",
         "showlegend": true,
         "textposition": "auto",
         "type": "bar",
         "x": [
          253338596.118853
         ],
         "xaxis": "x",
         "y": [
          "M04"
         ],
         "yaxis": "y"
        },
        {
         "alignmentgroup": "True",
         "base": [
          "2030-09-13T23:20:53.650877"
         ],
         "hovertemplate": "<b>%{hovertext}</b><br><br>Job_ID=J668<br>Scheduled_Start=%{base}<br>Estimated_Completion_Time=%{x}<br>Assigned_Machine=%{y}<extra></extra>",
         "hovertext": [
          "J668"
         ],
         "legendgroup": "J668",
         "marker": {
          "color": "#B6E880",
          "pattern": {
           "shape": ""
          }
         },
         "name": "J668",
         "offsetgroup": "J668",
         "orientation": "h",
         "showlegend": true,
         "textposition": "auto",
         "type": "bar",
         "x": [
          103476327.992208
         ],
         "xaxis": "x",
         "y": [
          "M04"
         ],
         "yaxis": "y"
        },
        {
         "alignmentgroup": "True",
         "base": [
          "2030-09-15T04:20:53.650877"
         ],
         "hovertemplate": "<b>%{hovertext}</b><br><br>Job_ID=J669<br>Scheduled_Start=%{base}<br>Estimated_Completion_Time=%{x}<br>Assigned_Machine=%{y}<extra></extra>",
         "hovertext": [
          "J669"
         ],
         "legendgroup": "J669",
         "marker": {
          "color": "#FF97FF",
          "pattern": {
           "shape": ""
          }
         },
         "name": "J669",
         "offsetgroup": "J669",
         "orientation": "h",
         "showlegend": true,
         "textposition": "auto",
         "type": "bar",
         "x": [
          139157820.403315
         ],
         "xaxis": "x",
         "y": [
          "M04"
         ],
         "yaxis": "y"
        },
        {
         "alignmentgroup": "True",
         "base": [
          "2030-09-16T19:20:53.650877"
         ],
         "hovertemplate": "<b>%{hovertext}</b><br><br>Job_ID=J670<br>Scheduled_Start=%{base}<br>Estimated_Completion_Time=%{x}<br>Assigned_Machine=%{y}<extra></extra>",
         "hovertext": [
          "J670"
         ],
         "legendgroup": "J670",
         "marker": {
          "color": "#FECB52",
          "pattern": {
           "shape": ""
          }
         },
         "name": "J670",
         "offsetgroup": "J670",
         "orientation": "h",
         "showlegend": true,
         "textposition": "auto",
         "type": "bar",
         "x": [
          299724536.253294
         ],
         "xaxis": "x",
         "y": [
          "M04"
         ],
         "yaxis": "y"
        },
        {
         "alignmentgroup": "True",
         "base": [
          "2030-09-20T07:20:53.650877"
         ],
         "hovertemplate": "<b>%{hovertext}</b><br><br>Job_ID=J671<br>Scheduled_Start=%{base}<br>Estimated_Completion_Time=%{x}<br>Assigned_Machine=%{y}<extra></extra>",
         "hovertext": [
          "J671"
         ],
         "legendgroup": "J671",
         "marker": {
          "color": "#636efa",
          "pattern": {
           "shape": ""
          }
         },
         "name": "J671",
         "offsetgroup": "J671",
         "orientation": "h",
         "showlegend": true,
         "textposition": "auto",
         "type": "bar",
         "x": [
          413905311.968832
         ],
         "xaxis": "x",
         "y": [
          "M04"
         ],
         "yaxis": "y"
        },
        {
         "alignmentgroup": "True",
         "base": [
          "2030-09-25T03:20:53.650877"
         ],
         "hovertemplate": "<b>%{hovertext}</b><br><br>Job_ID=J672<br>Scheduled_Start=%{base}<br>Estimated_Completion_Time=%{x}<br>Assigned_Machine=%{y}<extra></extra>",
         "hovertext": [
          "J672"
         ],
         "legendgroup": "J672",
         "marker": {
          "color": "#EF553B",
          "pattern": {
           "shape": ""
          }
         },
         "name": "J672",
         "offsetgroup": "J672",
         "orientation": "h",
         "showlegend": true,
         "textposition": "auto",
         "type": "bar",
         "x": [
          107044477.233318
         ],
         "xaxis": "x",
         "y": [
          "M04"
         ],
         "yaxis": "y"
        },
        {
         "alignmentgroup": "True",
         "base": [
          "2030-09-26T09:20:53.650877"
         ],
         "hovertemplate": "<b>%{hovertext}</b><br><br>Job_ID=J673<br>Scheduled_Start=%{base}<br>Estimated_Completion_Time=%{x}<br>Assigned_Machine=%{y}<extra></extra>",
         "hovertext": [
          "J673"
         ],
         "legendgroup": "J673",
         "marker": {
          "color": "#00cc96",
          "pattern": {
           "shape": ""
          }
         },
         "name": "J673",
         "offsetgroup": "J673",
         "orientation": "h",
         "showlegend": true,
         "textposition": "auto",
         "type": "bar",
         "x": [
          363951222.593284
         ],
         "xaxis": "x",
         "y": [
          "M04"
         ],
         "yaxis": "y"
        },
        {
         "alignmentgroup": "True",
         "base": [
          "2030-09-30T15:20:53.650877"
         ],
         "hovertemplate": "<b>%{hovertext}</b><br><br>Job_ID=J674<br>Scheduled_Start=%{base}<br>Estimated_Completion_Time=%{x}<br>Assigned_Machine=%{y}<extra></extra>",
         "hovertext": [
          "J674"
         ],
         "legendgroup": "J674",
         "marker": {
          "color": "#ab63fa",
          "pattern": {
           "shape": ""
          }
         },
         "name": "J674",
         "offsetgroup": "J674",
         "orientation": "h",
         "showlegend": true,
         "textposition": "auto",
         "type": "bar",
         "x": [
          356052045.04291
         ],
         "xaxis": "x",
         "y": [
          "M05"
         ],
         "yaxis": "y"
        },
        {
         "alignmentgroup": "True",
         "base": [
          "2030-10-04T18:20:53.650877"
         ],
         "hovertemplate": "<b>%{hovertext}</b><br><br>Job_ID=J675<br>Scheduled_Start=%{base}<br>Estimated_Completion_Time=%{x}<br>Assigned_Machine=%{y}<extra></extra>",
         "hovertext": [
          "J675"
         ],
         "legendgroup": "J675",
         "marker": {
          "color": "#FFA15A",
          "pattern": {
           "shape": ""
          }
         },
         "name": "J675",
         "offsetgroup": "J675",
         "orientation": "h",
         "showlegend": true,
         "textposition": "auto",
         "type": "bar",
         "x": [
          89912132.586594
         ],
         "xaxis": "x",
         "y": [
          "M05"
         ],
         "yaxis": "y"
        },
        {
         "alignmentgroup": "True",
         "base": [
          "2030-10-05T19:20:53.650877"
         ],
         "hovertemplate": "<b>%{hovertext}</b><br><br>Job_ID=J676<br>Scheduled_Start=%{base}<br>Estimated_Completion_Time=%{x}<br>Assigned_Machine=%{y}<extra></extra>",
         "hovertext": [
          "J676"
         ],
         "legendgroup": "J676",
         "marker": {
          "color": "#19d3f3",
          "pattern": {
           "shape": ""
          }
         },
         "name": "J676",
         "offsetgroup": "J676",
         "orientation": "h",
         "showlegend": true,
         "textposition": "auto",
         "type": "bar",
         "x": [
          385360118.039948
         ],
         "xaxis": "x",
         "y": [
          "M04"
         ],
         "yaxis": "y"
        },
        {
         "alignmentgroup": "True",
         "base": [
          "2030-10-10T07:20:53.650877"
         ],
         "hovertemplate": "<b>%{hovertext}</b><br><br>Job_ID=J677<br>Scheduled_Start=%{base}<br>Estimated_Completion_Time=%{x}<br>Assigned_Machine=%{y}<extra></extra>",
         "hovertext": [
          "J677"
         ],
         "legendgroup": "J677",
         "marker": {
          "color": "#FF6692",
          "pattern": {
           "shape": ""
          }
         },
         "name": "J677",
         "offsetgroup": "J677",
         "orientation": "h",
         "showlegend": true,
         "textposition": "auto",
         "type": "bar",
         "x": [
          396064565.763278
         ],
         "xaxis": "x",
         "y": [
          "M04"
         ],
         "yaxis": "y"
        },
        {
         "alignmentgroup": "True",
         "base": [
          "2030-10-14T22:20:53.650877"
         ],
         "hovertemplate": "<b>%{hovertext}</b><br><br>Job_ID=J678<br>Scheduled_Start=%{base}<br>Estimated_Completion_Time=%{x}<br>Assigned_Machine=%{y}<extra></extra>",
         "hovertext": [
          "J678"
         ],
         "legendgroup": "J678",
         "marker": {
          "color": "#B6E880",
          "pattern": {
           "shape": ""
          }
         },
         "name": "J678",
         "offsetgroup": "J678",
         "orientation": "h",
         "showlegend": true,
         "textposition": "auto",
         "type": "bar",
         "x": [
          206952655.984416
         ],
         "xaxis": "x",
         "y": [
          "M04"
         ],
         "yaxis": "y"
        },
        {
         "alignmentgroup": "True",
         "base": [
          "2030-10-17T08:20:53.650877"
         ],
         "hovertemplate": "<b>%{hovertext}</b><br><br>Job_ID=J679<br>Scheduled_Start=%{base}<br>Estimated_Completion_Time=%{x}<br>Assigned_Machine=%{y}<extra></extra>",
         "hovertext": [
          "J679"
         ],
         "legendgroup": "J679",
         "marker": {
          "color": "#FF97FF",
          "pattern": {
           "shape": ""
          }
         },
         "name": "J679",
         "offsetgroup": "J679",
         "orientation": "h",
         "showlegend": true,
         "textposition": "auto",
         "type": "bar",
         "x": [
          273332883.063243
         ],
         "xaxis": "x",
         "y": [
          "M05"
         ],
         "yaxis": "y"
        },
        {
         "alignmentgroup": "True",
         "base": [
          "2030-10-20T12:20:53.650877"
         ],
         "hovertemplate": "<b>%{hovertext}</b><br><br>Job_ID=J680<br>Scheduled_Start=%{base}<br>Estimated_Completion_Time=%{x}<br>Assigned_Machine=%{y}<extra></extra>",
         "hovertext": [
          "J680"
         ],
         "legendgroup": "J680",
         "marker": {
          "color": "#FECB52",
          "pattern": {
           "shape": ""
          }
         },
         "name": "J680",
         "offsetgroup": "J680",
         "orientation": "h",
         "showlegend": true,
         "textposition": "auto",
         "type": "bar",
         "x": [
          85635581.786654
         ],
         "xaxis": "x",
         "y": [
          "M04"
         ],
         "yaxis": "y"
        },
        {
         "alignmentgroup": "True",
         "base": [
          "2030-10-21T12:20:53.650877"
         ],
         "hovertemplate": "<b>%{hovertext}</b><br><br>Job_ID=J681<br>Scheduled_Start=%{base}<br>Estimated_Completion_Time=%{x}<br>Assigned_Machine=%{y}<extra></extra>",
         "hovertext": [
          "J681"
         ],
         "legendgroup": "J681",
         "marker": {
          "color": "#636efa",
          "pattern": {
           "shape": ""
          }
         },
         "name": "J681",
         "offsetgroup": "J681",
         "orientation": "h",
         "showlegend": true,
         "textposition": "auto",
         "type": "bar",
         "x": [
          240964515.332071
         ],
         "xaxis": "x",
         "y": [
          "M05"
         ],
         "yaxis": "y"
        },
        {
         "alignmentgroup": "True",
         "base": [
          "2030-10-24T07:20:53.650877"
         ],
         "hovertemplate": "<b>%{hovertext}</b><br><br>Job_ID=J682<br>Scheduled_Start=%{base}<br>Estimated_Completion_Time=%{x}<br>Assigned_Machine=%{y}<extra></extra>",
         "hovertext": [
          "J682"
         ],
         "legendgroup": "J682",
         "marker": {
          "color": "#EF553B",
          "pattern": {
           "shape": ""
          }
         },
         "name": "J682",
         "offsetgroup": "J682",
         "orientation": "h",
         "showlegend": true,
         "textposition": "auto",
         "type": "bar",
         "x": [
          164134865.091088
         ],
         "xaxis": "x",
         "y": [
          "M04"
         ],
         "yaxis": "y"
        },
        {
         "alignmentgroup": "True",
         "base": [
          "2030-10-26T05:20:53.650877"
         ],
         "hovertemplate": "<b>%{hovertext}</b><br><br>Job_ID=J683<br>Scheduled_Start=%{base}<br>Estimated_Completion_Time=%{x}<br>Assigned_Machine=%{y}<extra></extra>",
         "hovertext": [
          "J683"
         ],
         "legendgroup": "J683",
         "marker": {
          "color": "#00cc96",
          "pattern": {
           "shape": ""
          }
         },
         "name": "J683",
         "offsetgroup": "J683",
         "orientation": "h",
         "showlegend": true,
         "textposition": "auto",
         "type": "bar",
         "x": [
          164134865.091088
         ],
         "xaxis": "x",
         "y": [
          "M04"
         ],
         "yaxis": "y"
        },
        {
         "alignmentgroup": "True",
         "base": [
          "2030-10-28T03:20:53.650877"
         ],
         "hovertemplate": "<b>%{hovertext}</b><br><br>Job_ID=J684<br>Scheduled_Start=%{base}<br>Estimated_Completion_Time=%{x}<br>Assigned_Machine=%{y}<extra></extra>",
         "hovertext": [
          "J684"
         ],
         "legendgroup": "J684",
         "marker": {
          "color": "#ab63fa",
          "pattern": {
           "shape": ""
          }
         },
         "name": "J684",
         "offsetgroup": "J684",
         "orientation": "h",
         "showlegend": true,
         "textposition": "auto",
         "type": "bar",
         "x": [
          99908178.751098
         ],
         "xaxis": "x",
         "y": [
          "M04"
         ],
         "yaxis": "y"
        },
        {
         "alignmentgroup": "True",
         "base": [
          "2030-10-29T07:20:53.650877"
         ],
         "hovertemplate": "<b>%{hovertext}</b><br><br>Job_ID=J685<br>Scheduled_Start=%{base}<br>Estimated_Completion_Time=%{x}<br>Assigned_Machine=%{y}<extra></extra>",
         "hovertext": [
          "J685"
         ],
         "legendgroup": "J685",
         "marker": {
          "color": "#FFA15A",
          "pattern": {
           "shape": ""
          }
         },
         "name": "J685",
         "offsetgroup": "J685",
         "orientation": "h",
         "showlegend": true,
         "textposition": "auto",
         "type": "bar",
         "x": [
          289020088.52996
         ],
         "xaxis": "x",
         "y": [
          "M04"
         ],
         "yaxis": "y"
        },
        {
         "alignmentgroup": "True",
         "base": [
          "2030-11-01T16:20:53.650877"
         ],
         "hovertemplate": "<b>%{hovertext}</b><br><br>Job_ID=J686<br>Scheduled_Start=%{base}<br>Estimated_Completion_Time=%{x}<br>Assigned_Machine=%{y}<extra></extra>",
         "hovertext": [
          "J686"
         ],
         "legendgroup": "J686",
         "marker": {
          "color": "#19d3f3",
          "pattern": {
           "shape": ""
          }
         },
         "name": "J686",
         "offsetgroup": "J686",
         "orientation": "h",
         "showlegend": true,
         "textposition": "auto",
         "type": "bar",
         "x": [
          133069956.228158
         ],
         "xaxis": "x",
         "y": [
          "M05"
         ],
         "yaxis": "y"
        },
        {
         "alignmentgroup": "True",
         "base": [
          "2030-11-03T05:20:53.650877"
         ],
         "hovertemplate": "<b>%{hovertext}</b><br><br>Job_ID=J687<br>Scheduled_Start=%{base}<br>Estimated_Completion_Time=%{x}<br>Assigned_Machine=%{y}<extra></extra>",
         "hovertext": [
          "J687"
         ],
         "legendgroup": "J687",
         "marker": {
          "color": "#FF6692",
          "pattern": {
           "shape": ""
          }
         },
         "name": "J687",
         "offsetgroup": "J687",
         "orientation": "h",
         "showlegend": true,
         "textposition": "auto",
         "type": "bar",
         "x": [
          278315640.80663
         ],
         "xaxis": "x",
         "y": [
          "M04"
         ],
         "yaxis": "y"
        },
        {
         "alignmentgroup": "True",
         "base": [
          "2030-11-06T11:20:53.650877"
         ],
         "hovertemplate": "<b>%{hovertext}</b><br><br>Job_ID=J688<br>Scheduled_Start=%{base}<br>Estimated_Completion_Time=%{x}<br>Assigned_Machine=%{y}<extra></extra>",
         "hovertext": [
          "J688"
         ],
         "legendgroup": "J688",
         "marker": {
          "color": "#B6E880",
          "pattern": {
           "shape": ""
          }
         },
         "name": "J688",
         "offsetgroup": "J688",
         "orientation": "h",
         "showlegend": true,
         "textposition": "auto",
         "type": "bar",
         "x": [
          221225252.948859
         ],
         "xaxis": "x",
         "y": [
          "M04"
         ],
         "yaxis": "y"
        },
        {
         "alignmentgroup": "True",
         "base": [
          "2030-11-09T01:20:53.650877"
         ],
         "hovertemplate": "<b>%{hovertext}</b><br><br>Job_ID=J689<br>Scheduled_Start=%{base}<br>Estimated_Completion_Time=%{x}<br>Assigned_Machine=%{y}<extra></extra>",
         "hovertext": [
          "J689"
         ],
         "legendgroup": "J689",
         "marker": {
          "color": "#FF97FF",
          "pattern": {
           "shape": ""
          }
         },
         "name": "J689",
         "offsetgroup": "J689",
         "orientation": "h",
         "showlegend": true,
         "textposition": "auto",
         "type": "bar",
         "x": [
          89203731.027764
         ],
         "xaxis": "x",
         "y": [
          "M04"
         ],
         "yaxis": "y"
        },
        {
         "alignmentgroup": "True",
         "base": [
          "2030-11-10T02:20:53.650877"
         ],
         "hovertemplate": "<b>%{hovertext}</b><br><br>Job_ID=J690<br>Scheduled_Start=%{base}<br>Estimated_Completion_Time=%{x}<br>Assigned_Machine=%{y}<extra></extra>",
         "hovertext": [
          "J690"
         ],
         "legendgroup": "J690",
         "marker": {
          "color": "#FECB52",
          "pattern": {
           "shape": ""
          }
         },
         "name": "J690",
         "offsetgroup": "J690",
         "orientation": "h",
         "showlegend": true,
         "textposition": "auto",
         "type": "bar",
         "x": [
          143859412.13855
         ],
         "xaxis": "x",
         "y": [
          "M05"
         ],
         "yaxis": "y"
        },
        {
         "alignmentgroup": "True",
         "base": [
          "2030-11-11T18:20:53.650877"
         ],
         "hovertemplate": "<b>%{hovertext}</b><br><br>Job_ID=J691<br>Scheduled_Start=%{base}<br>Estimated_Completion_Time=%{x}<br>Assigned_Machine=%{y}<extra></extra>",
         "hovertext": [
          "J691"
         ],
         "legendgroup": "J691",
         "marker": {
          "color": "#636efa",
          "pattern": {
           "shape": ""
          }
         },
         "name": "J691",
         "offsetgroup": "J691",
         "orientation": "h",
         "showlegend": true,
         "textposition": "auto",
         "type": "bar",
         "x": [
          310428983.976624
         ],
         "xaxis": "x",
         "y": [
          "M04"
         ],
         "yaxis": "y"
        },
        {
         "alignmentgroup": "True",
         "base": [
          "2030-11-15T09:20:53.650877"
         ],
         "hovertemplate": "<b>%{hovertext}</b><br><br>Job_ID=J692<br>Scheduled_Start=%{base}<br>Estimated_Completion_Time=%{x}<br>Assigned_Machine=%{y}<extra></extra>",
         "hovertext": [
          "J692"
         ],
         "legendgroup": "J692",
         "marker": {
          "color": "#EF553B",
          "pattern": {
           "shape": ""
          }
         },
         "name": "J692",
         "offsetgroup": "J692",
         "orientation": "h",
         "showlegend": true,
         "textposition": "auto",
         "type": "bar",
         "x": [
          296156387.012183
         ],
         "xaxis": "x",
         "y": [
          "M04"
         ],
         "yaxis": "y"
        },
        {
         "alignmentgroup": "True",
         "base": [
          "2030-11-18T20:20:53.650877"
         ],
         "hovertemplate": "<b>%{hovertext}</b><br><br>Job_ID=J693<br>Scheduled_Start=%{base}<br>Estimated_Completion_Time=%{x}<br>Assigned_Machine=%{y}<extra></extra>",
         "hovertext": [
          "J693"
         ],
         "legendgroup": "J693",
         "marker": {
          "color": "#00cc96",
          "pattern": {
           "shape": ""
          }
         },
         "name": "J693",
         "offsetgroup": "J693",
         "orientation": "h",
         "showlegend": true,
         "textposition": "auto",
         "type": "bar",
         "x": [
          210520805.225526
         ],
         "xaxis": "x",
         "y": [
          "M04"
         ],
         "yaxis": "y"
        },
        {
         "alignmentgroup": "True",
         "base": [
          "2030-11-21T07:20:53.650877"
         ],
         "hovertemplate": "<b>%{hovertext}</b><br><br>Job_ID=J694<br>Scheduled_Start=%{base}<br>Estimated_Completion_Time=%{x}<br>Assigned_Machine=%{y}<extra></extra>",
         "hovertext": [
          "J694"
         ],
         "legendgroup": "J694",
         "marker": {
          "color": "#ab63fa",
          "pattern": {
           "shape": ""
          }
         },
         "name": "J694",
         "offsetgroup": "J694",
         "orientation": "h",
         "showlegend": true,
         "textposition": "auto",
         "type": "bar",
         "x": [
          82067432.545544
         ],
         "xaxis": "x",
         "y": [
          "M04"
         ],
         "yaxis": "y"
        },
        {
         "alignmentgroup": "True",
         "base": [
          "2030-11-22T06:20:53.650877"
         ],
         "hovertemplate": "<b>%{hovertext}</b><br><br>Job_ID=J695<br>Scheduled_Start=%{base}<br>Estimated_Completion_Time=%{x}<br>Assigned_Machine=%{y}<extra></extra>",
         "hovertext": [
          "J695"
         ],
         "legendgroup": "J695",
         "marker": {
          "color": "#FFA15A",
          "pattern": {
           "shape": ""
          }
         },
         "name": "J695",
         "offsetgroup": "J695",
         "orientation": "h",
         "showlegend": true,
         "textposition": "auto",
         "type": "bar",
         "x": [
          285451939.28885
         ],
         "xaxis": "x",
         "y": [
          "M04"
         ],
         "yaxis": "y"
        },
        {
         "alignmentgroup": "True",
         "base": [
          "2030-11-25T14:20:53.650877"
         ],
         "hovertemplate": "<b>%{hovertext}</b><br><br>Job_ID=J696<br>Scheduled_Start=%{base}<br>Estimated_Completion_Time=%{x}<br>Assigned_Machine=%{y}<extra></extra>",
         "hovertext": [
          "J696"
         ],
         "legendgroup": "J696",
         "marker": {
          "color": "#19d3f3",
          "pattern": {
           "shape": ""
          }
         },
         "name": "J696",
         "offsetgroup": "J696",
         "orientation": "h",
         "showlegend": true,
         "textposition": "auto",
         "type": "bar",
         "x": [
          406769013.486612
         ],
         "xaxis": "x",
         "y": [
          "M04"
         ],
         "yaxis": "y"
        },
        {
         "alignmentgroup": "True",
         "base": [
          "2030-11-30T08:20:53.650877"
         ],
         "hovertemplate": "<b>%{hovertext}</b><br><br>Job_ID=J697<br>Scheduled_Start=%{base}<br>Estimated_Completion_Time=%{x}<br>Assigned_Machine=%{y}<extra></extra>",
         "hovertext": [
          "J697"
         ],
         "legendgroup": "J697",
         "marker": {
          "color": "#FF6692",
          "pattern": {
           "shape": ""
          }
         },
         "name": "J697",
         "offsetgroup": "J697",
         "orientation": "h",
         "showlegend": true,
         "textposition": "auto",
         "type": "bar",
         "x": [
          264043043.842186
         ],
         "xaxis": "x",
         "y": [
          "M04"
         ],
         "yaxis": "y"
        },
        {
         "alignmentgroup": "True",
         "base": [
          "2030-12-03T10:20:53.650877"
         ],
         "hovertemplate": "<b>%{hovertext}</b><br><br>Job_ID=J698<br>Scheduled_Start=%{base}<br>Estimated_Completion_Time=%{x}<br>Assigned_Machine=%{y}<extra></extra>",
         "hovertext": [
          "J698"
         ],
         "legendgroup": "J698",
         "marker": {
          "color": "#B6E880",
          "pattern": {
           "shape": ""
          }
         },
         "name": "J698",
         "offsetgroup": "J698",
         "orientation": "h",
         "showlegend": true,
         "textposition": "auto",
         "type": "bar",
         "x": [
          199816357.502196
         ],
         "xaxis": "x",
         "y": [
          "M04"
         ],
         "yaxis": "y"
        },
        {
         "alignmentgroup": "True",
         "base": [
          "2030-12-05T18:20:53.650877"
         ],
         "hovertemplate": "<b>%{hovertext}</b><br><br>Job_ID=J699<br>Scheduled_Start=%{base}<br>Estimated_Completion_Time=%{x}<br>Assigned_Machine=%{y}<extra></extra>",
         "hovertext": [
          "J699"
         ],
         "legendgroup": "J699",
         "marker": {
          "color": "#FF97FF",
          "pattern": {
           "shape": ""
          }
         },
         "name": "J699",
         "offsetgroup": "J699",
         "orientation": "h",
         "showlegend": true,
         "textposition": "auto",
         "type": "bar",
         "x": [
          214088954.466639
         ],
         "xaxis": "x",
         "y": [
          "M04"
         ],
         "yaxis": "y"
        },
        {
         "alignmentgroup": "True",
         "base": [
          "2030-12-08T06:20:53.650877"
         ],
         "hovertemplate": "<b>%{hovertext}</b><br><br>Job_ID=J700<br>Scheduled_Start=%{base}<br>Estimated_Completion_Time=%{x}<br>Assigned_Machine=%{y}<extra></extra>",
         "hovertext": [
          "J700"
         ],
         "legendgroup": "J700",
         "marker": {
          "color": "#FECB52",
          "pattern": {
           "shape": ""
          }
         },
         "name": "J700",
         "offsetgroup": "J700",
         "orientation": "h",
         "showlegend": true,
         "textposition": "auto",
         "type": "bar",
         "x": [
          374655670.316614
         ],
         "xaxis": "x",
         "y": [
          "M04"
         ],
         "yaxis": "y"
        },
        {
         "alignmentgroup": "True",
         "base": [
          "2030-12-12T15:20:53.650877"
         ],
         "hovertemplate": "<b>%{hovertext}</b><br><br>Job_ID=J701<br>Scheduled_Start=%{base}<br>Estimated_Completion_Time=%{x}<br>Assigned_Machine=%{y}<extra></extra>",
         "hovertext": [
          "J701"
         ],
         "legendgroup": "J701",
         "marker": {
          "color": "#636efa",
          "pattern": {
           "shape": ""
          }
         },
         "name": "J701",
         "offsetgroup": "J701",
         "orientation": "h",
         "showlegend": true,
         "textposition": "auto",
         "type": "bar",
         "x": [
          406769013.486612
         ],
         "xaxis": "x",
         "y": [
          "M04"
         ],
         "yaxis": "y"
        },
        {
         "alignmentgroup": "True",
         "base": [
          "2030-12-17T09:20:53.650877"
         ],
         "hovertemplate": "<b>%{hovertext}</b><br><br>Job_ID=J702<br>Scheduled_Start=%{base}<br>Estimated_Completion_Time=%{x}<br>Assigned_Machine=%{y}<extra></extra>",
         "hovertext": [
          "J702"
         ],
         "legendgroup": "J702",
         "marker": {
          "color": "#EF553B",
          "pattern": {
           "shape": ""
          }
         },
         "name": "J702",
         "offsetgroup": "J702",
         "orientation": "h",
         "showlegend": true,
         "textposition": "auto",
         "type": "bar",
         "x": [
          160566715.849978
         ],
         "xaxis": "x",
         "y": [
          "M04"
         ],
         "yaxis": "y"
        },
        {
         "alignmentgroup": "True",
         "base": [
          "2030-12-19T06:20:53.650877"
         ],
         "hovertemplate": "<b>%{hovertext}</b><br><br>Job_ID=J703<br>Scheduled_Start=%{base}<br>Estimated_Completion_Time=%{x}<br>Assigned_Machine=%{y}<extra></extra>",
         "hovertext": [
          "J703"
         ],
         "legendgroup": "J703",
         "marker": {
          "color": "#00cc96",
          "pattern": {
           "shape": ""
          }
         },
         "name": "J703",
         "offsetgroup": "J703",
         "orientation": "h",
         "showlegend": true,
         "textposition": "auto",
         "type": "bar",
         "x": [
          147455897.442015
         ],
         "xaxis": "x",
         "y": [
          "M05"
         ],
         "yaxis": "y"
        },
        {
         "alignmentgroup": "True",
         "base": [
          "2030-12-20T23:20:53.650877"
         ],
         "hovertemplate": "<b>%{hovertext}</b><br><br>Job_ID=J704<br>Scheduled_Start=%{base}<br>Estimated_Completion_Time=%{x}<br>Assigned_Machine=%{y}<extra></extra>",
         "hovertext": [
          "J704"
         ],
         "legendgroup": "J704",
         "marker": {
          "color": "#ab63fa",
          "pattern": {
           "shape": ""
          }
         },
         "name": "J704",
         "offsetgroup": "J704",
         "orientation": "h",
         "showlegend": true,
         "textposition": "auto",
         "type": "bar",
         "x": [
          139157820.403315
         ],
         "xaxis": "x",
         "y": [
          "M04"
         ],
         "yaxis": "y"
        },
        {
         "alignmentgroup": "True",
         "base": [
          "2030-12-22T14:20:53.650877"
         ],
         "hovertemplate": "<b>%{hovertext}</b><br><br>Job_ID=J705<br>Scheduled_Start=%{base}<br>Estimated_Completion_Time=%{x}<br>Assigned_Machine=%{y}<extra></extra>",
         "hovertext": [
          "J705"
         ],
         "legendgroup": "J705",
         "marker": {
          "color": "#FFA15A",
          "pattern": {
           "shape": ""
          }
         },
         "name": "J705",
         "offsetgroup": "J705",
         "orientation": "h",
         "showlegend": true,
         "textposition": "auto",
         "type": "bar",
         "x": [
          303292685.494404
         ],
         "xaxis": "x",
         "y": [
          "M04"
         ],
         "yaxis": "y"
        },
        {
         "alignmentgroup": "True",
         "base": [
          "2030-12-26T03:20:53.650877"
         ],
         "hovertemplate": "<b>%{hovertext}</b><br><br>Job_ID=J706<br>Scheduled_Start=%{base}<br>Estimated_Completion_Time=%{x}<br>Assigned_Machine=%{y}<extra></extra>",
         "hovertext": [
          "J706"
         ],
         "legendgroup": "J706",
         "marker": {
          "color": "#19d3f3",
          "pattern": {
           "shape": ""
          }
         },
         "name": "J706",
         "offsetgroup": "J706",
         "orientation": "h",
         "showlegend": true,
         "textposition": "auto",
         "type": "bar",
         "x": [
          303292685.494404
         ],
         "xaxis": "x",
         "y": [
          "M04"
         ],
         "yaxis": "y"
        },
        {
         "alignmentgroup": "True",
         "base": [
          "2030-12-29T16:20:53.650877"
         ],
         "hovertemplate": "<b>%{hovertext}</b><br><br>Job_ID=J707<br>Scheduled_Start=%{base}<br>Estimated_Completion_Time=%{x}<br>Assigned_Machine=%{y}<extra></extra>",
         "hovertext": [
          "J707"
         ],
         "legendgroup": "J707",
         "marker": {
          "color": "#FF6692",
          "pattern": {
           "shape": ""
          }
         },
         "name": "J707",
         "offsetgroup": "J707",
         "orientation": "h",
         "showlegend": true,
         "textposition": "auto",
         "type": "bar",
         "x": [
          147455897.442015
         ],
         "xaxis": "x",
         "y": [
          "M05"
         ],
         "yaxis": "y"
        },
        {
         "alignmentgroup": "True",
         "base": [
          "2030-12-31T09:20:53.650877"
         ],
         "hovertemplate": "<b>%{hovertext}</b><br><br>Job_ID=J708<br>Scheduled_Start=%{base}<br>Estimated_Completion_Time=%{x}<br>Assigned_Machine=%{y}<extra></extra>",
         "hovertext": [
          "J708"
         ],
         "legendgroup": "J708",
         "marker": {
          "color": "#B6E880",
          "pattern": {
           "shape": ""
          }
         },
         "name": "J708",
         "offsetgroup": "J708",
         "orientation": "h",
         "showlegend": true,
         "textposition": "auto",
         "type": "bar",
         "x": [
          335406028.664397
         ],
         "xaxis": "x",
         "y": [
          "M04"
         ],
         "yaxis": "y"
        },
        {
         "alignmentgroup": "True",
         "base": [
          "2031-01-04T07:20:53.650877"
         ],
         "hovertemplate": "<b>%{hovertext}</b><br><br>Job_ID=J709<br>Scheduled_Start=%{base}<br>Estimated_Completion_Time=%{x}<br>Assigned_Machine=%{y}<extra></extra>",
         "hovertext": [
          "J709"
         ],
         "legendgroup": "J709",
         "marker": {
          "color": "#FF97FF",
          "pattern": {
           "shape": ""
          }
         },
         "name": "J709",
         "offsetgroup": "J709",
         "orientation": "h",
         "showlegend": true,
         "textposition": "auto",
         "type": "bar",
         "x": [
          289020088.52996
         ],
         "xaxis": "x",
         "y": [
          "M04"
         ],
         "yaxis": "y"
        },
        {
         "alignmentgroup": "True",
         "base": [
          "2031-01-07T16:20:53.650877"
         ],
         "hovertemplate": "<b>%{hovertext}</b><br><br>Job_ID=J710<br>Scheduled_Start=%{base}<br>Estimated_Completion_Time=%{x}<br>Assigned_Machine=%{y}<extra></extra>",
         "hovertext": [
          "J710"
         ],
         "legendgroup": "J710",
         "marker": {
          "color": "#FECB52",
          "pattern": {
           "shape": ""
          }
         },
         "name": "J710",
         "offsetgroup": "J710",
         "orientation": "h",
         "showlegend": true,
         "textposition": "auto",
         "type": "bar",
         "x": [
          274747491.565516
         ],
         "xaxis": "x",
         "y": [
          "M04"
         ],
         "yaxis": "y"
        },
        {
         "alignmentgroup": "True",
         "base": [
          "2031-01-10T21:20:53.650877"
         ],
         "hovertemplate": "<b>%{hovertext}</b><br><br>Job_ID=J711<br>Scheduled_Start=%{base}<br>Estimated_Completion_Time=%{x}<br>Assigned_Machine=%{y}<extra></extra>",
         "hovertext": [
          "J711"
         ],
         "legendgroup": "J711",
         "marker": {
          "color": "#636efa",
          "pattern": {
           "shape": ""
          }
         },
         "name": "J711",
         "offsetgroup": "J711",
         "orientation": "h",
         "showlegend": true,
         "textposition": "auto",
         "type": "bar",
         "x": [
          136666441.531623
         ],
         "xaxis": "x",
         "y": [
          "M05"
         ],
         "yaxis": "y"
        },
        {
         "alignmentgroup": "True",
         "base": [
          "2031-01-12T11:20:53.650877"
         ],
         "hovertemplate": "<b>%{hovertext}</b><br><br>Job_ID=J712<br>Scheduled_Start=%{base}<br>Estimated_Completion_Time=%{x}<br>Assigned_Machine=%{y}<extra></extra>",
         "hovertext": [
          "J712"
         ],
         "legendgroup": "J712",
         "marker": {
          "color": "#EF553B",
          "pattern": {
           "shape": ""
          }
         },
         "name": "J712",
         "offsetgroup": "J712",
         "orientation": "h",
         "showlegend": true,
         "textposition": "auto",
         "type": "bar",
         "x": [
          285451939.28885
         ],
         "xaxis": "x",
         "y": [
          "M04"
         ],
         "yaxis": "y"
        },
        {
         "alignmentgroup": "True",
         "base": [
          "2031-01-15T19:20:53.650877"
         ],
         "hovertemplate": "<b>%{hovertext}</b><br><br>Job_ID=J713<br>Scheduled_Start=%{base}<br>Estimated_Completion_Time=%{x}<br>Assigned_Machine=%{y}<extra></extra>",
         "hovertext": [
          "J713"
         ],
         "legendgroup": "J713",
         "marker": {
          "color": "#00cc96",
          "pattern": {
           "shape": ""
          }
         },
         "name": "J713",
         "offsetgroup": "J713",
         "orientation": "h",
         "showlegend": true,
         "textposition": "auto",
         "type": "bar",
         "x": [
          285451939.28885
         ],
         "xaxis": "x",
         "y": [
          "M04"
         ],
         "yaxis": "y"
        },
        {
         "alignmentgroup": "True",
         "base": [
          "2031-01-19T03:20:53.650877"
         ],
         "hovertemplate": "<b>%{hovertext}</b><br><br>Job_ID=J714<br>Scheduled_Start=%{base}<br>Estimated_Completion_Time=%{x}<br>Assigned_Machine=%{y}<extra></extra>",
         "hovertext": [
          "J714"
         ],
         "legendgroup": "J714",
         "marker": {
          "color": "#ab63fa",
          "pattern": {
           "shape": ""
          }
         },
         "name": "J714",
         "offsetgroup": "J714",
         "orientation": "h",
         "showlegend": true,
         "textposition": "auto",
         "type": "bar",
         "x": [
          149862268.126645
         ],
         "xaxis": "x",
         "y": [
          "M04"
         ],
         "yaxis": "y"
        },
        {
         "alignmentgroup": "True",
         "base": [
          "2031-01-20T21:20:53.650877"
         ],
         "hovertemplate": "<b>%{hovertext}</b><br><br>Job_ID=J715<br>Scheduled_Start=%{base}<br>Estimated_Completion_Time=%{x}<br>Assigned_Machine=%{y}<extra></extra>",
         "hovertext": [
          "J715"
         ],
         "legendgroup": "J715",
         "marker": {
          "color": "#FFA15A",
          "pattern": {
           "shape": ""
          }
         },
         "name": "J715",
         "offsetgroup": "J715",
         "orientation": "h",
         "showlegend": true,
         "textposition": "auto",
         "type": "bar",
         "x": [
          181975611.296642
         ],
         "xaxis": "x",
         "y": [
          "M04"
         ],
         "yaxis": "y"
        },
        {
         "alignmentgroup": "True",
         "base": [
          "2031-01-23T00:20:53.650877"
         ],
         "hovertemplate": "<b>%{hovertext}</b><br><br>Job_ID=J716<br>Scheduled_Start=%{base}<br>Estimated_Completion_Time=%{x}<br>Assigned_Machine=%{y}<extra></extra>",
         "hovertext": [
          "J716"
         ],
         "legendgroup": "J716",
         "marker": {
          "color": "#19d3f3",
          "pattern": {
           "shape": ""
          }
         },
         "name": "J716",
         "offsetgroup": "J716",
         "orientation": "h",
         "showlegend": true,
         "textposition": "auto",
         "type": "bar",
         "x": [
          96340029.509988
         ],
         "xaxis": "x",
         "y": [
          "M04"
         ],
         "yaxis": "y"
        },
        {
         "alignmentgroup": "True",
         "base": [
          "2031-01-24T03:20:53.650877"
         ],
         "hovertemplate": "<b>%{hovertext}</b><br><br>Job_ID=J717<br>Scheduled_Start=%{base}<br>Estimated_Completion_Time=%{x}<br>Assigned_Machine=%{y}<extra></extra>",
         "hovertext": [
          "J717"
         ],
         "legendgroup": "J717",
         "marker": {
          "color": "#FF6692",
          "pattern": {
           "shape": ""
          }
         },
         "name": "J717",
         "offsetgroup": "J717",
         "orientation": "h",
         "showlegend": true,
         "textposition": "auto",
         "type": "bar",
         "x": [
          342542327.146621
         ],
         "xaxis": "x",
         "y": [
          "M04"
         ],
         "yaxis": "y"
        },
        {
         "alignmentgroup": "True",
         "base": [
          "2031-01-28T03:20:53.650877"
         ],
         "hovertemplate": "<b>%{hovertext}</b><br><br>Job_ID=J718<br>Scheduled_Start=%{base}<br>Estimated_Completion_Time=%{x}<br>Assigned_Machine=%{y}<extra></extra>",
         "hovertext": [
          "J718"
         ],
         "legendgroup": "J718",
         "marker": {
          "color": "#B6E880",
          "pattern": {
           "shape": ""
          }
         },
         "name": "J718",
         "offsetgroup": "J718",
         "orientation": "h",
         "showlegend": true,
         "textposition": "auto",
         "type": "bar",
         "x": [
          363245015.649837
         ],
         "xaxis": "x",
         "y": [
          "M05"
         ],
         "yaxis": "y"
        },
        {
         "alignmentgroup": "True",
         "base": [
          "2031-02-01T08:20:53.650877"
         ],
         "hovertemplate": "<b>%{hovertext}</b><br><br>Job_ID=J719<br>Scheduled_Start=%{base}<br>Estimated_Completion_Time=%{x}<br>Assigned_Machine=%{y}<extra></extra>",
         "hovertext": [
          "J719"
         ],
         "legendgroup": "J719",
         "marker": {
          "color": "#FF97FF",
          "pattern": {
           "shape": ""
          }
         },
         "name": "J719",
         "offsetgroup": "J719",
         "orientation": "h",
         "showlegend": true,
         "textposition": "auto",
         "type": "bar",
         "x": [
          328269730.182177
         ],
         "xaxis": "x",
         "y": [
          "M04"
         ],
         "yaxis": "y"
        },
        {
         "alignmentgroup": "True",
         "base": [
          "2031-02-05T04:20:53.650877"
         ],
         "hovertemplate": "<b>%{hovertext}</b><br><br>Job_ID=J720<br>Scheduled_Start=%{base}<br>Estimated_Completion_Time=%{x}<br>Assigned_Machine=%{y}<extra></extra>",
         "hovertext": [
          "J720"
         ],
         "legendgroup": "J720",
         "marker": {
          "color": "#FECB52",
          "pattern": {
           "shape": ""
          }
         },
         "name": "J720",
         "offsetgroup": "J720",
         "orientation": "h",
         "showlegend": true,
         "textposition": "auto",
         "type": "bar",
         "x": [
          327280162.6152
         ],
         "xaxis": "x",
         "y": [
          "M05"
         ],
         "yaxis": "y"
        },
        {
         "alignmentgroup": "True",
         "base": [
          "2031-02-08T23:20:53.650877"
         ],
         "hovertemplate": "<b>%{hovertext}</b><br><br>Job_ID=J721<br>Scheduled_Start=%{base}<br>Estimated_Completion_Time=%{x}<br>Assigned_Machine=%{y}<extra></extra>",
         "hovertext": [
          "J721"
         ],
         "legendgroup": "J721",
         "marker": {
          "color": "#636efa",
          "pattern": {
           "shape": ""
          }
         },
         "name": "J721",
         "offsetgroup": "J721",
         "orientation": "h",
         "showlegend": true,
         "textposition": "auto",
         "type": "bar",
         "x": [
          235497849.913303
         ],
         "xaxis": "x",
         "y": [
          "M04"
         ],
         "yaxis": "y"
        },
        {
         "alignmentgroup": "True",
         "base": [
          "2031-02-11T17:20:53.650877"
         ],
         "hovertemplate": "<b>%{hovertext}</b><br><br>Job_ID=J722<br>Scheduled_Start=%{base}<br>Estimated_Completion_Time=%{x}<br>Assigned_Machine=%{y}<extra></extra>",
         "hovertext": [
          "J722"
         ],
         "legendgroup": "J722",
         "marker": {
          "color": "#EF553B",
          "pattern": {
           "shape": ""
          }
         },
         "name": "J722",
         "offsetgroup": "J722",
         "orientation": "h",
         "showlegend": true,
         "textposition": "auto",
         "type": "bar",
         "x": [
          142725969.644425
         ],
         "xaxis": "x",
         "y": [
          "M04"
         ],
         "yaxis": "y"
        },
        {
         "alignmentgroup": "True",
         "base": [
          "2031-02-13T09:20:53.650877"
         ],
         "hovertemplate": "<b>%{hovertext}</b><br><br>Job_ID=J723<br>Scheduled_Start=%{base}<br>Estimated_Completion_Time=%{x}<br>Assigned_Machine=%{y}<extra></extra>",
         "hovertext": [
          "J723"
         ],
         "legendgroup": "J723",
         "marker": {
          "color": "#00cc96",
          "pattern": {
           "shape": ""
          }
         },
         "name": "J723",
         "offsetgroup": "J723",
         "orientation": "h",
         "showlegend": true,
         "textposition": "auto",
         "type": "bar",
         "x": [
          424609759.692165
         ],
         "xaxis": "x",
         "y": [
          "M04"
         ],
         "yaxis": "y"
        },
        {
         "alignmentgroup": "True",
         "base": [
          "2031-02-18T08:20:53.650877"
         ],
         "hovertemplate": "<b>%{hovertext}</b><br><br>Job_ID=J724<br>Scheduled_Start=%{base}<br>Estimated_Completion_Time=%{x}<br>Assigned_Machine=%{y}<extra></extra>",
         "hovertext": [
          "J724"
         ],
         "legendgroup": "J724",
         "marker": {
          "color": "#ab63fa",
          "pattern": {
           "shape": ""
          }
         },
         "name": "J724",
         "offsetgroup": "J724",
         "orientation": "h",
         "showlegend": true,
         "textposition": "auto",
         "type": "bar",
         "x": [
          114180775.715541
         ],
         "xaxis": "x",
         "y": [
          "M04"
         ],
         "yaxis": "y"
        },
        {
         "alignmentgroup": "True",
         "base": [
          "2031-02-19T16:20:53.650877"
         ],
         "hovertemplate": "<b>%{hovertext}</b><br><br>Job_ID=J725<br>Scheduled_Start=%{base}<br>Estimated_Completion_Time=%{x}<br>Assigned_Machine=%{y}<extra></extra>",
         "hovertext": [
          "J725"
         ],
         "legendgroup": "J725",
         "marker": {
          "color": "#FFA15A",
          "pattern": {
           "shape": ""
          }
         },
         "name": "J725",
         "offsetgroup": "J725",
         "orientation": "h",
         "showlegend": true,
         "textposition": "auto",
         "type": "bar",
         "x": [
          417473461.209945
         ],
         "xaxis": "x",
         "y": [
          "M04"
         ],
         "yaxis": "y"
        },
        {
         "alignmentgroup": "True",
         "base": [
          "2031-02-24T13:20:53.650877"
         ],
         "hovertemplate": "<b>%{hovertext}</b><br><br>Job_ID=J726<br>Scheduled_Start=%{base}<br>Estimated_Completion_Time=%{x}<br>Assigned_Machine=%{y}<extra></extra>",
         "hovertext": [
          "J726"
         ],
         "legendgroup": "J726",
         "marker": {
          "color": "#19d3f3",
          "pattern": {
           "shape": ""
          }
         },
         "name": "J726",
         "offsetgroup": "J726",
         "orientation": "h",
         "showlegend": true,
         "textposition": "auto",
         "type": "bar",
         "x": [
          417473461.209945
         ],
         "xaxis": "x",
         "y": [
          "M04"
         ],
         "yaxis": "y"
        },
        {
         "alignmentgroup": "True",
         "base": [
          "2031-03-01T10:20:53.650877"
         ],
         "hovertemplate": "<b>%{hovertext}</b><br><br>Job_ID=J727<br>Scheduled_Start=%{base}<br>Estimated_Completion_Time=%{x}<br>Assigned_Machine=%{y}<extra></extra>",
         "hovertext": [
          "J727"
         ],
         "legendgroup": "J727",
         "marker": {
          "color": "#FF6692",
          "pattern": {
           "shape": ""
          }
         },
         "name": "J727",
         "offsetgroup": "J727",
         "orientation": "h",
         "showlegend": true,
         "textposition": "auto",
         "type": "bar",
         "x": [
          107044477.233318
         ],
         "xaxis": "x",
         "y": [
          "M04"
         ],
         "yaxis": "y"
        },
        {
         "alignmentgroup": "True",
         "base": [
          "2031-03-02T16:20:53.650877"
         ],
         "hovertemplate": "<b>%{hovertext}</b><br><br>Job_ID=J728<br>Scheduled_Start=%{base}<br>Estimated_Completion_Time=%{x}<br>Assigned_Machine=%{y}<extra></extra>",
         "hovertext": [
          "J728"
         ],
         "legendgroup": "J728",
         "marker": {
          "color": "#B6E880",
          "pattern": {
           "shape": ""
          }
         },
         "name": "J728",
         "offsetgroup": "J728",
         "orientation": "h",
         "showlegend": true,
         "textposition": "auto",
         "type": "bar",
         "x": [
          239065999.154413
         ],
         "xaxis": "x",
         "y": [
          "M04"
         ],
         "yaxis": "y"
        },
        {
         "alignmentgroup": "True",
         "base": [
          "2031-03-05T11:20:53.650877"
         ],
         "hovertemplate": "<b>%{hovertext}</b><br><br>Job_ID=J729<br>Scheduled_Start=%{base}<br>Estimated_Completion_Time=%{x}<br>Assigned_Machine=%{y}<extra></extra>",
         "hovertext": [
          "J729"
         ],
         "legendgroup": "J729",
         "marker": {
          "color": "#FF97FF",
          "pattern": {
           "shape": ""
          }
         },
         "name": "J729",
         "offsetgroup": "J729",
         "orientation": "h",
         "showlegend": true,
         "textposition": "auto",
         "type": "bar",
         "x": [
          174839312.814422
         ],
         "xaxis": "x",
         "y": [
          "M04"
         ],
         "yaxis": "y"
        },
        {
         "alignmentgroup": "True",
         "base": [
          "2031-03-07T12:20:53.650877"
         ],
         "hovertemplate": "<b>%{hovertext}</b><br><br>Job_ID=J730<br>Scheduled_Start=%{base}<br>Estimated_Completion_Time=%{x}<br>Assigned_Machine=%{y}<extra></extra>",
         "hovertext": [
          "J730"
         ],
         "legendgroup": "J730",
         "marker": {
          "color": "#FECB52",
          "pattern": {
           "shape": ""
          }
         },
         "name": "J730",
         "offsetgroup": "J730",
         "orientation": "h",
         "showlegend": true,
         "textposition": "auto",
         "type": "bar",
         "x": [
          424609759.692165
         ],
         "xaxis": "x",
         "y": [
          "M04"
         ],
         "yaxis": "y"
        },
        {
         "alignmentgroup": "True",
         "base": [
          "2031-03-12T11:20:53.650877"
         ],
         "hovertemplate": "<b>%{hovertext}</b><br><br>Job_ID=J731<br>Scheduled_Start=%{base}<br>Estimated_Completion_Time=%{x}<br>Assigned_Machine=%{y}<extra></extra>",
         "hovertext": [
          "J731"
         ],
         "legendgroup": "J731",
         "marker": {
          "color": "#636efa",
          "pattern": {
           "shape": ""
          }
         },
         "name": "J731",
         "offsetgroup": "J731",
         "orientation": "h",
         "showlegend": true,
         "textposition": "auto",
         "type": "bar",
         "x": [
          413595809.898332
         ],
         "xaxis": "x",
         "y": [
          "M05"
         ],
         "yaxis": "y"
        },
        {
         "alignmentgroup": "True",
         "base": [
          "2031-03-17T06:20:53.650877"
         ],
         "hovertemplate": "<b>%{hovertext}</b><br><br>Job_ID=J732<br>Scheduled_Start=%{base}<br>Estimated_Completion_Time=%{x}<br>Assigned_Machine=%{y}<extra></extra>",
         "hovertext": [
          "J732"
         ],
         "legendgroup": "J732",
         "marker": {
          "color": "#EF553B",
          "pattern": {
           "shape": ""
          }
         },
         "name": "J732",
         "offsetgroup": "J732",
         "orientation": "h",
         "showlegend": true,
         "textposition": "auto",
         "type": "bar",
         "x": [
          110612626.474428
         ],
         "xaxis": "x",
         "y": [
          "M04"
         ],
         "yaxis": "y"
        },
        {
         "alignmentgroup": "True",
         "base": [
          "2031-03-18T13:20:53.650877"
         ],
         "hovertemplate": "<b>%{hovertext}</b><br><br>Job_ID=J733<br>Scheduled_Start=%{base}<br>Estimated_Completion_Time=%{x}<br>Assigned_Machine=%{y}<extra></extra>",
         "hovertext": [
          "J733"
         ],
         "legendgroup": "J733",
         "marker": {
          "color": "#00cc96",
          "pattern": {
           "shape": ""
          }
         },
         "name": "J733",
         "offsetgroup": "J733",
         "orientation": "h",
         "showlegend": true,
         "textposition": "auto",
         "type": "bar",
         "x": [
          292588237.77107
         ],
         "xaxis": "x",
         "y": [
          "M04"
         ],
         "yaxis": "y"
        },
        {
         "alignmentgroup": "True",
         "base": [
          "2031-03-21T23:20:53.650877"
         ],
         "hovertemplate": "<b>%{hovertext}</b><br><br>Job_ID=J734<br>Scheduled_Start=%{base}<br>Estimated_Completion_Time=%{x}<br>Assigned_Machine=%{y}<extra></extra>",
         "hovertext": [
          "J734"
         ],
         "legendgroup": "J734",
         "marker": {
          "color": "#ab63fa",
          "pattern": {
           "shape": ""
          }
         },
         "name": "J734",
         "offsetgroup": "J734",
         "orientation": "h",
         "showlegend": true,
         "textposition": "auto",
         "type": "bar",
         "x": [
          253338596.118853
         ],
         "xaxis": "x",
         "y": [
          "M04"
         ],
         "yaxis": "y"
        },
        {
         "alignmentgroup": "True",
         "base": [
          "2031-03-24T22:20:53.650877"
         ],
         "hovertemplate": "<b>%{hovertext}</b><br><br>Job_ID=J735<br>Scheduled_Start=%{base}<br>Estimated_Completion_Time=%{x}<br>Assigned_Machine=%{y}<extra></extra>",
         "hovertext": [
          "J735"
         ],
         "legendgroup": "J735",
         "marker": {
          "color": "#FFA15A",
          "pattern": {
           "shape": ""
          }
         },
         "name": "J735",
         "offsetgroup": "J735",
         "orientation": "h",
         "showlegend": true,
         "textposition": "auto",
         "type": "bar",
         "x": [
          192680059.019972
         ],
         "xaxis": "x",
         "y": [
          "M04"
         ],
         "yaxis": "y"
        },
        {
         "alignmentgroup": "True",
         "base": [
          "2031-03-27T04:20:53.650877"
         ],
         "hovertemplate": "<b>%{hovertext}</b><br><br>Job_ID=J736<br>Scheduled_Start=%{base}<br>Estimated_Completion_Time=%{x}<br>Assigned_Machine=%{y}<extra></extra>",
         "hovertext": [
          "J736"
         ],
         "legendgroup": "J736",
         "marker": {
          "color": "#19d3f3",
          "pattern": {
           "shape": ""
          }
         },
         "name": "J736",
         "offsetgroup": "J736",
         "orientation": "h",
         "showlegend": true,
         "textposition": "auto",
         "type": "bar",
         "x": [
          96340029.509988
         ],
         "xaxis": "x",
         "y": [
          "M04"
         ],
         "yaxis": "y"
        },
        {
         "alignmentgroup": "True",
         "base": [
          "2031-03-28T07:20:53.650877"
         ],
         "hovertemplate": "<b>%{hovertext}</b><br><br>Job_ID=J737<br>Scheduled_Start=%{base}<br>Estimated_Completion_Time=%{x}<br>Assigned_Machine=%{y}<extra></extra>",
         "hovertext": [
          "J737"
         ],
         "legendgroup": "J737",
         "marker": {
          "color": "#FF6692",
          "pattern": {
           "shape": ""
          }
         },
         "name": "J737",
         "offsetgroup": "J737",
         "orientation": "h",
         "showlegend": true,
         "textposition": "auto",
         "type": "bar",
         "x": [
          71929706.069275
         ],
         "xaxis": "x",
         "y": [
          "M05"
         ],
         "yaxis": "y"
        },
        {
         "alignmentgroup": "True",
         "base": [
          "2031-03-29T03:20:53.650877"
         ],
         "hovertemplate": "<b>%{hovertext}</b><br><br>Job_ID=J738<br>Scheduled_Start=%{base}<br>Estimated_Completion_Time=%{x}<br>Assigned_Machine=%{y}<extra></extra>",
         "hovertext": [
          "J738"
         ],
         "legendgroup": "J738",
         "marker": {
          "color": "#B6E880",
          "pattern": {
           "shape": ""
          }
         },
         "name": "J738",
         "offsetgroup": "J738",
         "orientation": "h",
         "showlegend": true,
         "textposition": "auto",
         "type": "bar",
         "x": [
          264043043.842186
         ],
         "xaxis": "x",
         "y": [
          "M04"
         ],
         "yaxis": "y"
        },
        {
         "alignmentgroup": "True",
         "base": [
          "2031-04-01T05:20:53.650877"
         ],
         "hovertemplate": "<b>%{hovertext}</b><br><br>Job_ID=J739<br>Scheduled_Start=%{base}<br>Estimated_Completion_Time=%{x}<br>Assigned_Machine=%{y}<extra></extra>",
         "hovertext": [
          "J739"
         ],
         "legendgroup": "J739",
         "marker": {
          "color": "#FF97FF",
          "pattern": {
           "shape": ""
          }
         },
         "name": "J739",
         "offsetgroup": "J739",
         "orientation": "h",
         "showlegend": true,
         "textposition": "auto",
         "type": "bar",
         "x": [
          349678625.628841
         ],
         "xaxis": "x",
         "y": [
          "M04"
         ],
         "yaxis": "y"
        },
        {
         "alignmentgroup": "True",
         "base": [
          "2031-04-05T07:20:53.650877"
         ],
         "hovertemplate": "<b>%{hovertext}</b><br><br>Job_ID=J740<br>Scheduled_Start=%{base}<br>Estimated_Completion_Time=%{x}<br>Assigned_Machine=%{y}<extra></extra>",
         "hovertext": [
          "J740"
         ],
         "legendgroup": "J740",
         "marker": {
          "color": "#FECB52",
          "pattern": {
           "shape": ""
          }
         },
         "name": "J740",
         "offsetgroup": "J740",
         "orientation": "h",
         "showlegend": true,
         "textposition": "auto",
         "type": "bar",
         "x": [
          208596147.600898
         ],
         "xaxis": "x",
         "y": [
          "M05"
         ],
         "yaxis": "y"
        },
        {
         "alignmentgroup": "True",
         "base": [
          "2031-04-07T17:20:53.650877"
         ],
         "hovertemplate": "<b>%{hovertext}</b><br><br>Job_ID=J741<br>Scheduled_Start=%{base}<br>Estimated_Completion_Time=%{x}<br>Assigned_Machine=%{y}<extra></extra>",
         "hovertext": [
          "J741"
         ],
         "legendgroup": "J741",
         "marker": {
          "color": "#636efa",
          "pattern": {
           "shape": ""
          }
         },
         "name": "J741",
         "offsetgroup": "J741",
         "orientation": "h",
         "showlegend": true,
         "textposition": "auto",
         "type": "bar",
         "x": [
          135589671.162205
         ],
         "xaxis": "x",
         "y": [
          "M04"
         ],
         "yaxis": "y"
        },
        {
         "alignmentgroup": "True",
         "base": [
          "2031-04-09T07:20:53.650877"
         ],
         "hovertemplate": "<b>%{hovertext}</b><br><br>Job_ID=J742<br>Scheduled_Start=%{base}<br>Estimated_Completion_Time=%{x}<br>Assigned_Machine=%{y}<extra></extra>",
         "hovertext": [
          "J742"
         ],
         "legendgroup": "J742",
         "marker": {
          "color": "#EF553B",
          "pattern": {
           "shape": ""
          }
         },
         "name": "J742",
         "offsetgroup": "J742",
         "orientation": "h",
         "showlegend": true,
         "textposition": "auto",
         "type": "bar",
         "x": [
          269736397.759782
         ],
         "xaxis": "x",
         "y": [
          "M05"
         ],
         "yaxis": "y"
        },
        {
         "alignmentgroup": "True",
         "base": [
          "2031-04-12T10:20:53.650877"
         ],
         "hovertemplate": "<b>%{hovertext}</b><br><br>Job_ID=J743<br>Scheduled_Start=%{base}<br>Estimated_Completion_Time=%{x}<br>Assigned_Machine=%{y}<extra></extra>",
         "hovertext": [
          "J743"
         ],
         "legendgroup": "J743",
         "marker": {
          "color": "#00cc96",
          "pattern": {
           "shape": ""
          }
         },
         "name": "J743",
         "offsetgroup": "J743",
         "orientation": "h",
         "showlegend": true,
         "textposition": "auto",
         "type": "bar",
         "x": [
          189111909.778862
         ],
         "xaxis": "x",
         "y": [
          "M04"
         ],
         "yaxis": "y"
        },
        {
         "alignmentgroup": "True",
         "base": [
          "2031-04-14T15:20:53.650877"
         ],
         "hovertemplate": "<b>%{hovertext}</b><br><br>Job_ID=J744<br>Scheduled_Start=%{base}<br>Estimated_Completion_Time=%{x}<br>Assigned_Machine=%{y}<extra></extra>",
         "hovertext": [
          "J744"
         ],
         "legendgroup": "J744",
         "marker": {
          "color": "#ab63fa",
          "pattern": {
           "shape": ""
          }
         },
         "name": "J744",
         "offsetgroup": "J744",
         "orientation": "h",
         "showlegend": true,
         "textposition": "auto",
         "type": "bar",
         "x": [
          349678625.628841
         ],
         "xaxis": "x",
         "y": [
          "M04"
         ],
         "yaxis": "y"
        },
        {
         "alignmentgroup": "True",
         "base": [
          "2031-04-18T17:20:53.650877"
         ],
         "hovertemplate": "<b>%{hovertext}</b><br><br>Job_ID=J745<br>Scheduled_Start=%{base}<br>Estimated_Completion_Time=%{x}<br>Assigned_Machine=%{y}<extra></extra>",
         "hovertext": [
          "J745"
         ],
         "legendgroup": "J745",
         "marker": {
          "color": "#FFA15A",
          "pattern": {
           "shape": ""
          }
         },
         "name": "J745",
         "offsetgroup": "J745",
         "orientation": "h",
         "showlegend": true,
         "textposition": "auto",
         "type": "bar",
         "x": [
          124885223.438871
         ],
         "xaxis": "x",
         "y": [
          "M04"
         ],
         "yaxis": "y"
        },
        {
         "alignmentgroup": "True",
         "base": [
          "2031-04-20T04:20:53.650877"
         ],
         "hovertemplate": "<b>%{hovertext}</b><br><br>Job_ID=J746<br>Scheduled_Start=%{base}<br>Estimated_Completion_Time=%{x}<br>Assigned_Machine=%{y}<extra></extra>",
         "hovertext": [
          "J746"
         ],
         "legendgroup": "J746",
         "marker": {
          "color": "#19d3f3",
          "pattern": {
           "shape": ""
          }
         },
         "name": "J746",
         "offsetgroup": "J746",
         "orientation": "h",
         "showlegend": true,
         "textposition": "auto",
         "type": "bar",
         "x": [
          107044477.233318
         ],
         "xaxis": "x",
         "y": [
          "M04"
         ],
         "yaxis": "y"
        },
        {
         "alignmentgroup": "True",
         "base": [
          "2031-04-21T10:20:53.650877"
         ],
         "hovertemplate": "<b>%{hovertext}</b><br><br>Job_ID=J747<br>Scheduled_Start=%{base}<br>Estimated_Completion_Time=%{x}<br>Assigned_Machine=%{y}<extra></extra>",
         "hovertext": [
          "J747"
         ],
         "legendgroup": "J747",
         "marker": {
          "color": "#FF6692",
          "pattern": {
           "shape": ""
          }
         },
         "name": "J747",
         "offsetgroup": "J747",
         "orientation": "h",
         "showlegend": true,
         "textposition": "auto",
         "type": "bar",
         "x": [
          128453372.679981
         ],
         "xaxis": "x",
         "y": [
          "M04"
         ],
         "yaxis": "y"
        },
        {
         "alignmentgroup": "True",
         "base": [
          "2031-04-22T22:20:53.650877"
         ],
         "hovertemplate": "<b>%{hovertext}</b><br><br>Job_ID=J748<br>Scheduled_Start=%{base}<br>Estimated_Completion_Time=%{x}<br>Assigned_Machine=%{y}<extra></extra>",
         "hovertext": [
          "J748"
         ],
         "legendgroup": "J748",
         "marker": {
          "color": "#B6E880",
          "pattern": {
           "shape": ""
          }
         },
         "name": "J748",
         "offsetgroup": "J748",
         "orientation": "h",
         "showlegend": true,
         "textposition": "auto",
         "type": "bar",
         "x": [
          338069618.525592
         ],
         "xaxis": "x",
         "y": [
          "M05"
         ],
         "yaxis": "y"
        },
        {
         "alignmentgroup": "True",
         "base": [
          "2031-04-26T20:20:53.650877"
         ],
         "hovertemplate": "<b>%{hovertext}</b><br><br>Job_ID=J749<br>Scheduled_Start=%{base}<br>Estimated_Completion_Time=%{x}<br>Assigned_Machine=%{y}<extra></extra>",
         "hovertext": [
          "J749"
         ],
         "legendgroup": "J749",
         "marker": {
          "color": "#FF97FF",
          "pattern": {
           "shape": ""
          }
         },
         "name": "J749",
         "offsetgroup": "J749",
         "orientation": "h",
         "showlegend": true,
         "textposition": "auto",
         "type": "bar",
         "x": [
          246202297.636633
         ],
         "xaxis": "x",
         "y": [
          "M04"
         ],
         "yaxis": "y"
        },
        {
         "alignmentgroup": "True",
         "base": [
          "2031-04-29T17:20:53.650877"
         ],
         "hovertemplate": "<b>%{hovertext}</b><br><br>Job_ID=J750<br>Scheduled_Start=%{base}<br>Estimated_Completion_Time=%{x}<br>Assigned_Machine=%{y}<extra></extra>",
         "hovertext": [
          "J750"
         ],
         "legendgroup": "J750",
         "marker": {
          "color": "#FECB52",
          "pattern": {
           "shape": ""
          }
         },
         "name": "J750",
         "offsetgroup": "J750",
         "orientation": "h",
         "showlegend": true,
         "textposition": "auto",
         "type": "bar",
         "x": [
          264043043.842186
         ],
         "xaxis": "x",
         "y": [
          "M04"
         ],
         "yaxis": "y"
        },
        {
         "alignmentgroup": "True",
         "base": [
          "2031-05-02T19:20:53.650877"
         ],
         "hovertemplate": "<b>%{hovertext}</b><br><br>Job_ID=J751<br>Scheduled_Start=%{base}<br>Estimated_Completion_Time=%{x}<br>Assigned_Machine=%{y}<extra></extra>",
         "hovertext": [
          "J751"
         ],
         "legendgroup": "J751",
         "marker": {
          "color": "#636efa",
          "pattern": {
           "shape": ""
          }
         },
         "name": "J751",
         "offsetgroup": "J751",
         "orientation": "h",
         "showlegend": true,
         "textposition": "auto",
         "type": "bar",
         "x": [
          321133431.699957
         ],
         "xaxis": "x",
         "y": [
          "M04"
         ],
         "yaxis": "y"
        },
        {
         "alignmentgroup": "True",
         "base": [
          "2031-05-06T13:20:53.650877"
         ],
         "hovertemplate": "<b>%{hovertext}</b><br><br>Job_ID=J752<br>Scheduled_Start=%{base}<br>Estimated_Completion_Time=%{x}<br>Assigned_Machine=%{y}<extra></extra>",
         "hovertext": [
          "J752"
         ],
         "legendgroup": "J752",
         "marker": {
          "color": "#EF553B",
          "pattern": {
           "shape": ""
          }
         },
         "name": "J752",
         "offsetgroup": "J752",
         "orientation": "h",
         "showlegend": true,
         "textposition": "auto",
         "type": "bar",
         "x": [
          392496416.522168
         ],
         "xaxis": "x",
         "y": [
          "M04"
         ],
         "yaxis": "y"
        },
        {
         "alignmentgroup": "True",
         "base": [
          "2031-05-11T03:20:53.650877"
         ],
         "hovertemplate": "<b>%{hovertext}</b><br><br>Job_ID=J753<br>Scheduled_Start=%{base}<br>Estimated_Completion_Time=%{x}<br>Assigned_Machine=%{y}<extra></extra>",
         "hovertext": [
          "J753"
         ],
         "legendgroup": "J753",
         "marker": {
          "color": "#00cc96",
          "pattern": {
           "shape": ""
          }
         },
         "name": "J753",
         "offsetgroup": "J753",
         "orientation": "h",
         "showlegend": true,
         "textposition": "auto",
         "type": "bar",
         "x": [
          178407462.055532
         ],
         "xaxis": "x",
         "y": [
          "M04"
         ],
         "yaxis": "y"
        },
        {
         "alignmentgroup": "True",
         "base": [
          "2031-05-13T05:20:53.650877"
         ],
         "hovertemplate": "<b>%{hovertext}</b><br><br>Job_ID=J754<br>Scheduled_Start=%{base}<br>Estimated_Completion_Time=%{x}<br>Assigned_Machine=%{y}<extra></extra>",
         "hovertext": [
          "J754"
         ],
         "legendgroup": "J754",
         "marker": {
          "color": "#ab63fa",
          "pattern": {
           "shape": ""
          }
         },
         "name": "J754",
         "offsetgroup": "J754",
         "orientation": "h",
         "showlegend": true,
         "textposition": "auto",
         "type": "bar",
         "x": [
          417473461.209945
         ],
         "xaxis": "x",
         "y": [
          "M04"
         ],
         "yaxis": "y"
        },
        {
         "alignmentgroup": "True",
         "base": [
          "2031-05-18T02:20:53.650877"
         ],
         "hovertemplate": "<b>%{hovertext}</b><br><br>Job_ID=J755<br>Scheduled_Start=%{base}<br>Estimated_Completion_Time=%{x}<br>Assigned_Machine=%{y}<extra></extra>",
         "hovertext": [
          "J755"
         ],
         "legendgroup": "J755",
         "marker": {
          "color": "#FFA15A",
          "pattern": {
           "shape": ""
          }
         },
         "name": "J755",
         "offsetgroup": "J755",
         "orientation": "h",
         "showlegend": true,
         "textposition": "auto",
         "type": "bar",
         "x": [
          428177908.933275
         ],
         "xaxis": "x",
         "y": [
          "M04"
         ],
         "yaxis": "y"
        },
        {
         "alignmentgroup": "True",
         "base": [
          "2031-05-23T02:20:53.650877"
         ],
         "hovertemplate": "<b>%{hovertext}</b><br><br>Job_ID=J756<br>Scheduled_Start=%{base}<br>Estimated_Completion_Time=%{x}<br>Assigned_Machine=%{y}<extra></extra>",
         "hovertext": [
          "J756"
         ],
         "legendgroup": "J756",
         "marker": {
          "color": "#19d3f3",
          "pattern": {
           "shape": ""
          }
         },
         "name": "J756",
         "offsetgroup": "J756",
         "orientation": "h",
         "showlegend": true,
         "textposition": "auto",
         "type": "bar",
         "x": [
          103476327.992208
         ],
         "xaxis": "x",
         "y": [
          "M04"
         ],
         "yaxis": "y"
        },
        {
         "alignmentgroup": "True",
         "base": [
          "2031-05-24T07:20:53.650877"
         ],
         "hovertemplate": "<b>%{hovertext}</b><br><br>Job_ID=J757<br>Scheduled_Start=%{base}<br>Estimated_Completion_Time=%{x}<br>Assigned_Machine=%{y}<extra></extra>",
         "hovertext": [
          "J757"
         ],
         "legendgroup": "J757",
         "marker": {
          "color": "#FF6692",
          "pattern": {
           "shape": ""
          }
         },
         "name": "J757",
         "offsetgroup": "J757",
         "orientation": "h",
         "showlegend": true,
         "textposition": "auto",
         "type": "bar",
         "x": [
          239065999.154413
         ],
         "xaxis": "x",
         "y": [
          "M04"
         ],
         "yaxis": "y"
        },
        {
         "alignmentgroup": "True",
         "base": [
          "2031-05-27T02:20:53.650877"
         ],
         "hovertemplate": "<b>%{hovertext}</b><br><br>Job_ID=J758<br>Scheduled_Start=%{base}<br>Estimated_Completion_Time=%{x}<br>Assigned_Machine=%{y}<extra></extra>",
         "hovertext": [
          "J758"
         ],
         "legendgroup": "J758",
         "marker": {
          "color": "#B6E880",
          "pattern": {
           "shape": ""
          }
         },
         "name": "J758",
         "offsetgroup": "J758",
         "orientation": "h",
         "showlegend": true,
         "textposition": "auto",
         "type": "bar",
         "x": [
          114180775.715541
         ],
         "xaxis": "x",
         "y": [
          "M04"
         ],
         "yaxis": "y"
        },
        {
         "alignmentgroup": "True",
         "base": [
          "2031-05-28T10:20:53.650877"
         ],
         "hovertemplate": "<b>%{hovertext}</b><br><br>Job_ID=J759<br>Scheduled_Start=%{base}<br>Estimated_Completion_Time=%{x}<br>Assigned_Machine=%{y}<extra></extra>",
         "hovertext": [
          "J759"
         ],
         "legendgroup": "J759",
         "marker": {
          "color": "#FF97FF",
          "pattern": {
           "shape": ""
          }
         },
         "name": "J759",
         "offsetgroup": "J759",
         "orientation": "h",
         "showlegend": true,
         "textposition": "auto",
         "type": "bar",
         "x": [
          406402839.291405
         ],
         "xaxis": "x",
         "y": [
          "M05"
         ],
         "yaxis": "y"
        },
        {
         "alignmentgroup": "True",
         "base": [
          "2031-06-02T03:20:53.650877"
         ],
         "hovertemplate": "<b>%{hovertext}</b><br><br>Job_ID=J760<br>Scheduled_Start=%{base}<br>Estimated_Completion_Time=%{x}<br>Assigned_Machine=%{y}<extra></extra>",
         "hovertext": [
          "J760"
         ],
         "legendgroup": "J760",
         "marker": {
          "color": "#FECB52",
          "pattern": {
           "shape": ""
          }
         },
         "name": "J760",
         "offsetgroup": "J760",
         "orientation": "h",
         "showlegend": true,
         "textposition": "auto",
         "type": "bar",
         "x": [
          93508617.890059
         ],
         "xaxis": "x",
         "y": [
          "M05"
         ],
         "yaxis": "y"
        },
        {
         "alignmentgroup": "True",
         "base": [
          "2031-06-03T05:20:53.650877"
         ],
         "hovertemplate": "<b>%{hovertext}</b><br><br>Job_ID=J761<br>Scheduled_Start=%{base}<br>Estimated_Completion_Time=%{x}<br>Assigned_Machine=%{y}<extra></extra>",
         "hovertext": [
          "J761"
         ],
         "legendgroup": "J761",
         "marker": {
          "color": "#636efa",
          "pattern": {
           "shape": ""
          }
         },
         "name": "J761",
         "offsetgroup": "J761",
         "orientation": "h",
         "showlegend": true,
         "textposition": "auto",
         "type": "bar",
         "x": [
          310428983.976624
         ],
         "xaxis": "x",
         "y": [
          "M04"
         ],
         "yaxis": "y"
        },
        {
         "alignmentgroup": "True",
         "base": [
          "2031-06-06T20:20:53.650877"
         ],
         "hovertemplate": "<b>%{hovertext}</b><br><br>Job_ID=J762<br>Scheduled_Start=%{base}<br>Estimated_Completion_Time=%{x}<br>Assigned_Machine=%{y}<extra></extra>",
         "hovertext": [
          "J762"
         ],
         "legendgroup": "J762",
         "marker": {
          "color": "#EF553B",
          "pattern": {
           "shape": ""
          }
         },
         "name": "J762",
         "offsetgroup": "J762",
         "orientation": "h",
         "showlegend": true,
         "textposition": "auto",
         "type": "bar",
         "x": [
          271179342.324406
         ],
         "xaxis": "x",
         "y": [
          "M04"
         ],
         "yaxis": "y"
        },
        {
         "alignmentgroup": "True",
         "base": [
          "2031-06-10T00:20:53.650877"
         ],
         "hovertemplate": "<b>%{hovertext}</b><br><br>Job_ID=J763<br>Scheduled_Start=%{base}<br>Estimated_Completion_Time=%{x}<br>Assigned_Machine=%{y}<extra></extra>",
         "hovertext": [
          "J763"
         ],
         "legendgroup": "J763",
         "marker": {
          "color": "#00cc96",
          "pattern": {
           "shape": ""
          }
         },
         "name": "J763",
         "offsetgroup": "J763",
         "orientation": "h",
         "showlegend": true,
         "textposition": "auto",
         "type": "bar",
         "x": [
          299724536.253294
         ],
         "xaxis": "x",
         "y": [
          "M04"
         ],
         "yaxis": "y"
        },
        {
         "alignmentgroup": "True",
         "base": [
          "2031-06-13T12:20:53.650877"
         ],
         "hovertemplate": "<b>%{hovertext}</b><br><br>Job_ID=J764<br>Scheduled_Start=%{base}<br>Estimated_Completion_Time=%{x}<br>Assigned_Machine=%{y}<extra></extra>",
         "hovertext": [
          "J764"
         ],
         "legendgroup": "J764",
         "marker": {
          "color": "#ab63fa",
          "pattern": {
           "shape": ""
          }
         },
         "name": "J764",
         "offsetgroup": "J764",
         "orientation": "h",
         "showlegend": true,
         "textposition": "auto",
         "type": "bar",
         "x": [
          346110476.387731
         ],
         "xaxis": "x",
         "y": [
          "M04"
         ],
         "yaxis": "y"
        },
        {
         "alignmentgroup": "True",
         "base": [
          "2031-06-17T13:20:53.650877"
         ],
         "hovertemplate": "<b>%{hovertext}</b><br><br>Job_ID=J765<br>Scheduled_Start=%{base}<br>Estimated_Completion_Time=%{x}<br>Assigned_Machine=%{y}<extra></extra>",
         "hovertext": [
          "J765"
         ],
         "legendgroup": "J765",
         "marker": {
          "color": "#FFA15A",
          "pattern": {
           "shape": ""
          }
         },
         "name": "J765",
         "offsetgroup": "J765",
         "orientation": "h",
         "showlegend": true,
         "textposition": "auto",
         "type": "bar",
         "x": [
          74931134.063324
         ],
         "xaxis": "x",
         "y": [
          "M04"
         ],
         "yaxis": "y"
        },
        {
         "alignmentgroup": "True",
         "base": [
          "2031-06-18T10:20:53.650877"
         ],
         "hovertemplate": "<b>%{hovertext}</b><br><br>Job_ID=J766<br>Scheduled_Start=%{base}<br>Estimated_Completion_Time=%{x}<br>Assigned_Machine=%{y}<extra></extra>",
         "hovertext": [
          "J766"
         ],
         "legendgroup": "J766",
         "marker": {
          "color": "#19d3f3",
          "pattern": {
           "shape": ""
          }
         },
         "name": "J766",
         "offsetgroup": "J766",
         "orientation": "h",
         "showlegend": true,
         "textposition": "auto",
         "type": "bar",
         "x": [
          349678625.628841
         ],
         "xaxis": "x",
         "y": [
          "M04"
         ],
         "yaxis": "y"
        },
        {
         "alignmentgroup": "True",
         "base": [
          "2031-06-22T12:20:53.650877"
         ],
         "hovertemplate": "<b>%{hovertext}</b><br><br>Job_ID=J767<br>Scheduled_Start=%{base}<br>Estimated_Completion_Time=%{x}<br>Assigned_Machine=%{y}<extra></extra>",
         "hovertext": [
          "J767"
         ],
         "legendgroup": "J767",
         "marker": {
          "color": "#FF6692",
          "pattern": {
           "shape": ""
          }
         },
         "name": "J767",
         "offsetgroup": "J767",
         "orientation": "h",
         "showlegend": true,
         "textposition": "auto",
         "type": "bar",
         "x": [
          399632715.004392
         ],
         "xaxis": "x",
         "y": [
          "M04"
         ],
         "yaxis": "y"
        },
        {
         "alignmentgroup": "True",
         "base": [
          "2031-06-27T04:20:53.650877"
         ],
         "hovertemplate": "<b>%{hovertext}</b><br><br>Job_ID=J768<br>Scheduled_Start=%{base}<br>Estimated_Completion_Time=%{x}<br>Assigned_Machine=%{y}<extra></extra>",
         "hovertext": [
          "J768"
         ],
         "legendgroup": "J768",
         "marker": {
          "color": "#B6E880",
          "pattern": {
           "shape": ""
          }
         },
         "name": "J768",
         "offsetgroup": "J768",
         "orientation": "h",
         "showlegend": true,
         "textposition": "auto",
         "type": "bar",
         "x": [
          310428983.976624
         ],
         "xaxis": "x",
         "y": [
          "M04"
         ],
         "yaxis": "y"
        },
        {
         "alignmentgroup": "True",
         "base": [
          "2031-06-30T19:20:53.650877"
         ],
         "hovertemplate": "<b>%{hovertext}</b><br><br>Job_ID=J769<br>Scheduled_Start=%{base}<br>Estimated_Completion_Time=%{x}<br>Assigned_Machine=%{y}<extra></extra>",
         "hovertext": [
          "J769"
         ],
         "legendgroup": "J769",
         "marker": {
          "color": "#FF97FF",
          "pattern": {
           "shape": ""
          }
         },
         "name": "J769",
         "offsetgroup": "J769",
         "orientation": "h",
         "showlegend": true,
         "textposition": "auto",
         "type": "bar",
         "x": [
          210520805.225526
         ],
         "xaxis": "x",
         "y": [
          "M04"
         ],
         "yaxis": "y"
        },
        {
         "alignmentgroup": "True",
         "base": [
          "2031-07-03T06:20:53.650877"
         ],
         "hovertemplate": "<b>%{hovertext}</b><br><br>Job_ID=J770<br>Scheduled_Start=%{base}<br>Estimated_Completion_Time=%{x}<br>Assigned_Machine=%{y}<extra></extra>",
         "hovertext": [
          "J770"
         ],
         "legendgroup": "J770",
         "marker": {
          "color": "#FECB52",
          "pattern": {
           "shape": ""
          }
         },
         "name": "J770",
         "offsetgroup": "J770",
         "orientation": "h",
         "showlegend": true,
         "textposition": "auto",
         "type": "bar",
         "x": [
          374655670.316614
         ],
         "xaxis": "x",
         "y": [
          "M04"
         ],
         "yaxis": "y"
        },
        {
         "alignmentgroup": "True",
         "base": [
          "2031-07-07T15:20:53.650877"
         ],
         "hovertemplate": "<b>%{hovertext}</b><br><br>Job_ID=J771<br>Scheduled_Start=%{base}<br>Estimated_Completion_Time=%{x}<br>Assigned_Machine=%{y}<extra></extra>",
         "hovertext": [
          "J771"
         ],
         "legendgroup": "J771",
         "marker": {
          "color": "#636efa",
          "pattern": {
           "shape": ""
          }
         },
         "name": "J771",
         "offsetgroup": "J771",
         "orientation": "h",
         "showlegend": true,
         "textposition": "auto",
         "type": "bar",
         "x": [
          370437986.256768
         ],
         "xaxis": "x",
         "y": [
          "M05"
         ],
         "yaxis": "y"
        },
        {
         "alignmentgroup": "True",
         "base": [
          "2031-07-11T22:20:53.650877"
         ],
         "hovertemplate": "<b>%{hovertext}</b><br><br>Job_ID=J772<br>Scheduled_Start=%{base}<br>Estimated_Completion_Time=%{x}<br>Assigned_Machine=%{y}<extra></extra>",
         "hovertext": [
          "J772"
         ],
         "legendgroup": "J772",
         "marker": {
          "color": "#EF553B",
          "pattern": {
           "shape": ""
          }
         },
         "name": "J772",
         "offsetgroup": "J772",
         "orientation": "h",
         "showlegend": true,
         "textposition": "auto",
         "type": "bar",
         "x": [
          253338596.118853
         ],
         "xaxis": "x",
         "y": [
          "M04"
         ],
         "yaxis": "y"
        },
        {
         "alignmentgroup": "True",
         "base": [
          "2031-07-14T21:20:53.650877"
         ],
         "hovertemplate": "<b>%{hovertext}</b><br><br>Job_ID=J773<br>Scheduled_Start=%{base}<br>Estimated_Completion_Time=%{x}<br>Assigned_Machine=%{y}<extra></extra>",
         "hovertext": [
          "J773"
         ],
         "legendgroup": "J773",
         "marker": {
          "color": "#00cc96",
          "pattern": {
           "shape": ""
          }
         },
         "name": "J773",
         "offsetgroup": "J773",
         "orientation": "h",
         "showlegend": true,
         "textposition": "auto",
         "type": "bar",
         "x": [
          431578236.415651
         ],
         "xaxis": "x",
         "y": [
          "M05"
         ],
         "yaxis": "y"
        },
        {
         "alignmentgroup": "True",
         "base": [
          "2031-07-19T21:20:53.650877"
         ],
         "hovertemplate": "<b>%{hovertext}</b><br><br>Job_ID=J774<br>Scheduled_Start=%{base}<br>Estimated_Completion_Time=%{x}<br>Assigned_Machine=%{y}<extra></extra>",
         "hovertext": [
          "J774"
         ],
         "legendgroup": "J774",
         "marker": {
          "color": "#ab63fa",
          "pattern": {
           "shape": ""
          }
         },
         "name": "J774",
         "offsetgroup": "J774",
         "orientation": "h",
         "showlegend": true,
         "textposition": "auto",
         "type": "bar",
         "x": [
          246202297.636633
         ],
         "xaxis": "x",
         "y": [
          "M04"
         ],
         "yaxis": "y"
        },
        {
         "alignmentgroup": "True",
         "base": [
          "2031-07-22T18:20:53.650877"
         ],
         "hovertemplate": "<b>%{hovertext}</b><br><br>Job_ID=J775<br>Scheduled_Start=%{base}<br>Estimated_Completion_Time=%{x}<br>Assigned_Machine=%{y}<extra></extra>",
         "hovertext": [
          "J775"
         ],
         "legendgroup": "J775",
         "marker": {
          "color": "#FFA15A",
          "pattern": {
           "shape": ""
          }
         },
         "name": "J775",
         "offsetgroup": "J775",
         "orientation": "h",
         "showlegend": true,
         "textposition": "auto",
         "type": "bar",
         "x": [
          121317074.197761
         ],
         "xaxis": "x",
         "y": [
          "M04"
         ],
         "yaxis": "y"
        },
        {
         "alignmentgroup": "True",
         "base": [
          "2031-07-24T04:20:53.650877"
         ],
         "hovertemplate": "<b>%{hovertext}</b><br><br>Job_ID=J776<br>Scheduled_Start=%{base}<br>Estimated_Completion_Time=%{x}<br>Assigned_Machine=%{y}<extra></extra>",
         "hovertext": [
          "J776"
         ],
         "legendgroup": "J776",
         "marker": {
          "color": "#19d3f3",
          "pattern": {
           "shape": ""
          }
         },
         "name": "J776",
         "offsetgroup": "J776",
         "orientation": "h",
         "showlegend": true,
         "textposition": "auto",
         "type": "bar",
         "x": [
          421041610.451055
         ],
         "xaxis": "x",
         "y": [
          "M04"
         ],
         "yaxis": "y"
        },
        {
         "alignmentgroup": "True",
         "base": [
          "2031-07-29T02:20:53.650877"
         ],
         "hovertemplate": "<b>%{hovertext}</b><br><br>Job_ID=J777<br>Scheduled_Start=%{base}<br>Estimated_Completion_Time=%{x}<br>Assigned_Machine=%{y}<extra></extra>",
         "hovertext": [
          "J777"
         ],
         "legendgroup": "J777",
         "marker": {
          "color": "#FF6692",
          "pattern": {
           "shape": ""
          }
         },
         "name": "J777",
         "offsetgroup": "J777",
         "orientation": "h",
         "showlegend": true,
         "textposition": "auto",
         "type": "bar",
         "x": [
          156998566.608868
         ],
         "xaxis": "x",
         "y": [
          "M04"
         ],
         "yaxis": "y"
        },
        {
         "alignmentgroup": "True",
         "base": [
          "2031-07-30T22:20:53.650877"
         ],
         "hovertemplate": "<b>%{hovertext}</b><br><br>Job_ID=J778<br>Scheduled_Start=%{base}<br>Estimated_Completion_Time=%{x}<br>Assigned_Machine=%{y}<extra></extra>",
         "hovertext": [
          "J778"
         ],
         "legendgroup": "J778",
         "marker": {
          "color": "#B6E880",
          "pattern": {
           "shape": ""
          }
         },
         "name": "J778",
         "offsetgroup": "J778",
         "orientation": "h",
         "showlegend": true,
         "textposition": "auto",
         "type": "bar",
         "x": [
          269736397.759782
         ],
         "xaxis": "x",
         "y": [
          "M05"
         ],
         "yaxis": "y"
        },
        {
         "alignmentgroup": "True",
         "base": [
          "2031-08-03T01:20:53.650877"
         ],
         "hovertemplate": "<b>%{hovertext}</b><br><br>Job_ID=J779<br>Scheduled_Start=%{base}<br>Estimated_Completion_Time=%{x}<br>Assigned_Machine=%{y}<extra></extra>",
         "hovertext": [
          "J779"
         ],
         "legendgroup": "J779",
         "marker": {
          "color": "#FF97FF",
          "pattern": {
           "shape": ""
          }
         },
         "name": "J779",
         "offsetgroup": "J779",
         "orientation": "h",
         "showlegend": true,
         "textposition": "auto",
         "type": "bar",
         "x": [
          228361551.431079
         ],
         "xaxis": "x",
         "y": [
          "M04"
         ],
         "yaxis": "y"
        },
        {
         "alignmentgroup": "True",
         "base": [
          "2031-08-05T17:20:53.650877"
         ],
         "hovertemplate": "<b>%{hovertext}</b><br><br>Job_ID=J780<br>Scheduled_Start=%{base}<br>Estimated_Completion_Time=%{x}<br>Assigned_Machine=%{y}<extra></extra>",
         "hovertext": [
          "J780"
         ],
         "legendgroup": "J780",
         "marker": {
          "color": "#FECB52",
          "pattern": {
           "shape": ""
          }
         },
         "name": "J780",
         "offsetgroup": "J780",
         "orientation": "h",
         "showlegend": true,
         "textposition": "auto",
         "type": "bar",
         "x": [
          111491044.407378
         ],
         "xaxis": "x",
         "y": [
          "M05"
         ],
         "yaxis": "y"
        },
        {
         "alignmentgroup": "True",
         "base": [
          "2031-08-07T00:20:53.650877"
         ],
         "hovertemplate": "<b>%{hovertext}</b><br><br>Job_ID=J781<br>Scheduled_Start=%{base}<br>Estimated_Completion_Time=%{x}<br>Assigned_Machine=%{y}<extra></extra>",
         "hovertext": [
          "J781"
         ],
         "legendgroup": "J781",
         "marker": {
          "color": "#636efa",
          "pattern": {
           "shape": ""
          }
         },
         "name": "J781",
         "offsetgroup": "J781",
         "orientation": "h",
         "showlegend": true,
         "textposition": "auto",
         "type": "bar",
         "x": [
          367519371.834394
         ],
         "xaxis": "x",
         "y": [
          "M04"
         ],
         "yaxis": "y"
        },
        {
         "alignmentgroup": "True",
         "base": [
          "2031-08-11T07:20:53.650877"
         ],
         "hovertemplate": "<b>%{hovertext}</b><br><br>Job_ID=J782<br>Scheduled_Start=%{base}<br>Estimated_Completion_Time=%{x}<br>Assigned_Machine=%{y}<extra></extra>",
         "hovertext": [
          "J782"
         ],
         "legendgroup": "J782",
         "marker": {
          "color": "#EF553B",
          "pattern": {
           "shape": ""
          }
         },
         "name": "J782",
         "offsetgroup": "J782",
         "orientation": "h",
         "showlegend": true,
         "textposition": "auto",
         "type": "bar",
         "x": [
          151052382.745477
         ],
         "xaxis": "x",
         "y": [
          "M05"
         ],
         "yaxis": "y"
        },
        {
         "alignmentgroup": "True",
         "base": [
          "2031-08-13T01:20:53.650877"
         ],
         "hovertemplate": "<b>%{hovertext}</b><br><br>Job_ID=J783<br>Scheduled_Start=%{base}<br>Estimated_Completion_Time=%{x}<br>Assigned_Machine=%{y}<extra></extra>",
         "hovertext": [
          "J783"
         ],
         "legendgroup": "J783",
         "marker": {
          "color": "#00cc96",
          "pattern": {
           "shape": ""
          }
         },
         "name": "J783",
         "offsetgroup": "J783",
         "orientation": "h",
         "showlegend": true,
         "textposition": "auto",
         "type": "bar",
         "x": [
          262543427.152855
         ],
         "xaxis": "x",
         "y": [
          "M05"
         ],
         "yaxis": "y"
        },
        {
         "alignmentgroup": "True",
         "base": [
          "2031-08-16T02:20:53.650877"
         ],
         "hovertemplate": "<b>%{hovertext}</b><br><br>Job_ID=J784<br>Scheduled_Start=%{base}<br>Estimated_Completion_Time=%{x}<br>Assigned_Machine=%{y}<extra></extra>",
         "hovertext": [
          "J784"
         ],
         "legendgroup": "J784",
         "marker": {
          "color": "#ab63fa",
          "pattern": {
           "shape": ""
          }
         },
         "name": "J784",
         "offsetgroup": "J784",
         "orientation": "h",
         "showlegend": true,
         "textposition": "auto",
         "type": "bar",
         "x": [
          424385265.808724
         ],
         "xaxis": "x",
         "y": [
          "M05"
         ],
         "yaxis": "y"
        },
        {
         "alignmentgroup": "True",
         "base": [
          "2031-08-21T00:20:53.650877"
         ],
         "hovertemplate": "<b>%{hovertext}</b><br><br>Job_ID=J785<br>Scheduled_Start=%{base}<br>Estimated_Completion_Time=%{x}<br>Assigned_Machine=%{y}<extra></extra>",
         "hovertext": [
          "J785"
         ],
         "legendgroup": "J785",
         "marker": {
          "color": "#FFA15A",
          "pattern": {
           "shape": ""
          }
         },
         "name": "J785",
         "offsetgroup": "J785",
         "orientation": "h",
         "showlegend": true,
         "textposition": "auto",
         "type": "bar",
         "x": [
          346110476.387731
         ],
         "xaxis": "x",
         "y": [
          "M04"
         ],
         "yaxis": "y"
        },
        {
         "alignmentgroup": "True",
         "base": [
          "2031-08-25T01:20:53.650877"
         ],
         "hovertemplate": "<b>%{hovertext}</b><br><br>Job_ID=J786<br>Scheduled_Start=%{base}<br>Estimated_Completion_Time=%{x}<br>Assigned_Machine=%{y}<extra></extra>",
         "hovertext": [
          "J786"
         ],
         "legendgroup": "J786",
         "marker": {
          "color": "#19d3f3",
          "pattern": {
           "shape": ""
          }
         },
         "name": "J786",
         "offsetgroup": "J786",
         "orientation": "h",
         "showlegend": true,
         "textposition": "auto",
         "type": "bar",
         "x": [
          392496416.522168
         ],
         "xaxis": "x",
         "y": [
          "M04"
         ],
         "yaxis": "y"
        },
        {
         "alignmentgroup": "True",
         "base": [
          "2031-08-29T15:20:53.650877"
         ],
         "hovertemplate": "<b>%{hovertext}</b><br><br>Job_ID=J787<br>Scheduled_Start=%{base}<br>Estimated_Completion_Time=%{x}<br>Assigned_Machine=%{y}<extra></extra>",
         "hovertext": [
          "J787"
         ],
         "legendgroup": "J787",
         "marker": {
          "color": "#FF6692",
          "pattern": {
           "shape": ""
          }
         },
         "name": "J787",
         "offsetgroup": "J787",
         "orientation": "h",
         "showlegend": true,
         "textposition": "auto",
         "type": "bar",
         "x": [
          328269730.182177
         ],
         "xaxis": "x",
         "y": [
          "M04"
         ],
         "yaxis": "y"
        },
        {
         "alignmentgroup": "True",
         "base": [
          "2031-09-02T11:20:53.650877"
         ],
         "hovertemplate": "<b>%{hovertext}</b><br><br>Job_ID=J788<br>Scheduled_Start=%{base}<br>Estimated_Completion_Time=%{x}<br>Assigned_Machine=%{y}<extra></extra>",
         "hovertext": [
          "J788"
         ],
         "legendgroup": "J788",
         "marker": {
          "color": "#B6E880",
          "pattern": {
           "shape": ""
          }
         },
         "name": "J788",
         "offsetgroup": "J788",
         "orientation": "h",
         "showlegend": true,
         "textposition": "auto",
         "type": "bar",
         "x": [
          305701250.794419
         ],
         "xaxis": "x",
         "y": [
          "M05"
         ],
         "yaxis": "y"
        },
        {
         "alignmentgroup": "True",
         "base": [
          "2031-09-06T00:20:53.650877"
         ],
         "hovertemplate": "<b>%{hovertext}</b><br><br>Job_ID=J789<br>Scheduled_Start=%{base}<br>Estimated_Completion_Time=%{x}<br>Assigned_Machine=%{y}<extra></extra>",
         "hovertext": [
          "J789"
         ],
         "legendgroup": "J789",
         "marker": {
          "color": "#FF97FF",
          "pattern": {
           "shape": ""
          }
         },
         "name": "J789",
         "offsetgroup": "J789",
         "orientation": "h",
         "showlegend": true,
         "textposition": "auto",
         "type": "bar",
         "x": [
          89912132.586594
         ],
         "xaxis": "x",
         "y": [
          "M05"
         ],
         "yaxis": "y"
        },
        {
         "alignmentgroup": "True",
         "base": [
          "2031-09-07T01:20:53.650877"
         ],
         "hovertemplate": "<b>%{hovertext}</b><br><br>Job_ID=J790<br>Scheduled_Start=%{base}<br>Estimated_Completion_Time=%{x}<br>Assigned_Machine=%{y}<extra></extra>",
         "hovertext": [
          "J790"
         ],
         "legendgroup": "J790",
         "marker": {
          "color": "#FECB52",
          "pattern": {
           "shape": ""
          }
         },
         "name": "J790",
         "offsetgroup": "J790",
         "orientation": "h",
         "showlegend": true,
         "textposition": "auto",
         "type": "bar",
         "x": [
          100701588.496986
         ],
         "xaxis": "x",
         "y": [
          "M05"
         ],
         "yaxis": "y"
        },
        {
         "alignmentgroup": "True",
         "base": [
          "2031-09-08T05:20:53.650877"
         ],
         "hovertemplate": "<b>%{hovertext}</b><br><br>Job_ID=J791<br>Scheduled_Start=%{base}<br>Estimated_Completion_Time=%{x}<br>Assigned_Machine=%{y}<extra></extra>",
         "hovertext": [
          "J791"
         ],
         "legendgroup": "J791",
         "marker": {
          "color": "#636efa",
          "pattern": {
           "shape": ""
          }
         },
         "name": "J791",
         "offsetgroup": "J791",
         "orientation": "h",
         "showlegend": true,
         "textposition": "auto",
         "type": "bar",
         "x": [
          378223819.557728
         ],
         "xaxis": "x",
         "y": [
          "M04"
         ],
         "yaxis": "y"
        },
        {
         "alignmentgroup": "True",
         "base": [
          "2031-09-12T15:20:53.650877"
         ],
         "hovertemplate": "<b>%{hovertext}</b><br><br>Job_ID=J792<br>Scheduled_Start=%{base}<br>Estimated_Completion_Time=%{x}<br>Assigned_Machine=%{y}<extra></extra>",
         "hovertext": [
          "J792"
         ],
         "legendgroup": "J792",
         "marker": {
          "color": "#EF553B",
          "pattern": {
           "shape": ""
          }
         },
         "name": "J792",
         "offsetgroup": "J792",
         "orientation": "h",
         "showlegend": true,
         "textposition": "auto",
         "type": "bar",
         "x": [
          249770446.877743
         ],
         "xaxis": "x",
         "y": [
          "M04"
         ],
         "yaxis": "y"
        },
        {
         "alignmentgroup": "True",
         "base": [
          "2031-09-15T13:20:53.650877"
         ],
         "hovertemplate": "<b>%{hovertext}</b><br><br>Job_ID=J793<br>Scheduled_Start=%{base}<br>Estimated_Completion_Time=%{x}<br>Assigned_Machine=%{y}<extra></extra>",
         "hovertext": [
          "J793"
         ],
         "legendgroup": "J793",
         "marker": {
          "color": "#00cc96",
          "pattern": {
           "shape": ""
          }
         },
         "name": "J793",
         "offsetgroup": "J793",
         "orientation": "h",
         "showlegend": true,
         "textposition": "auto",
         "type": "bar",
         "x": [
          353246774.869951
         ],
         "xaxis": "x",
         "y": [
          "M04"
         ],
         "yaxis": "y"
        },
        {
         "alignmentgroup": "True",
         "base": [
          "2031-09-19T16:20:53.650877"
         ],
         "hovertemplate": "<b>%{hovertext}</b><br><br>Job_ID=J794<br>Scheduled_Start=%{base}<br>Estimated_Completion_Time=%{x}<br>Assigned_Machine=%{y}<extra></extra>",
         "hovertext": [
          "J794"
         ],
         "legendgroup": "J794",
         "marker": {
          "color": "#ab63fa",
          "pattern": {
           "shape": ""
          }
         },
         "name": "J794",
         "offsetgroup": "J794",
         "orientation": "h",
         "showlegend": true,
         "textposition": "auto",
         "type": "bar",
         "x": [
          331837879.423287
         ],
         "xaxis": "x",
         "y": [
          "M04"
         ],
         "yaxis": "y"
        },
        {
         "alignmentgroup": "True",
         "base": [
          "2031-09-23T13:20:53.650877"
         ],
         "hovertemplate": "<b>%{hovertext}</b><br><br>Job_ID=J795<br>Scheduled_Start=%{base}<br>Estimated_Completion_Time=%{x}<br>Assigned_Machine=%{y}<extra></extra>",
         "hovertext": [
          "J795"
         ],
         "legendgroup": "J795",
         "marker": {
          "color": "#FFA15A",
          "pattern": {
           "shape": ""
          }
         },
         "name": "J795",
         "offsetgroup": "J795",
         "orientation": "h",
         "showlegend": true,
         "textposition": "auto",
         "type": "bar",
         "x": [
          388928267.281058
         ],
         "xaxis": "x",
         "y": [
          "M04"
         ],
         "yaxis": "y"
        },
        {
         "alignmentgroup": "True",
         "base": [
          "2031-09-28T02:20:53.650877"
         ],
         "hovertemplate": "<b>%{hovertext}</b><br><br>Job_ID=J796<br>Scheduled_Start=%{base}<br>Estimated_Completion_Time=%{x}<br>Assigned_Machine=%{y}<extra></extra>",
         "hovertext": [
          "J796"
         ],
         "legendgroup": "J796",
         "marker": {
          "color": "#19d3f3",
          "pattern": {
           "shape": ""
          }
         },
         "name": "J796",
         "offsetgroup": "J796",
         "orientation": "h",
         "showlegend": true,
         "textposition": "auto",
         "type": "bar",
         "x": [
          424609759.692165
         ],
         "xaxis": "x",
         "y": [
          "M04"
         ],
         "yaxis": "y"
        },
        {
         "alignmentgroup": "True",
         "base": [
          "2031-10-03T01:20:53.650877"
         ],
         "hovertemplate": "<b>%{hovertext}</b><br><br>Job_ID=J797<br>Scheduled_Start=%{base}<br>Estimated_Completion_Time=%{x}<br>Assigned_Machine=%{y}<extra></extra>",
         "hovertext": [
          "J797"
         ],
         "legendgroup": "J797",
         "marker": {
          "color": "#FF6692",
          "pattern": {
           "shape": ""
          }
         },
         "name": "J797",
         "offsetgroup": "J797",
         "orientation": "h",
         "showlegend": true,
         "textposition": "auto",
         "type": "bar",
         "x": [
          353246774.869951
         ],
         "xaxis": "x",
         "y": [
          "M04"
         ],
         "yaxis": "y"
        },
        {
         "alignmentgroup": "True",
         "base": [
          "2031-10-07T04:20:53.650877"
         ],
         "hovertemplate": "<b>%{hovertext}</b><br><br>Job_ID=J798<br>Scheduled_Start=%{base}<br>Estimated_Completion_Time=%{x}<br>Assigned_Machine=%{y}<extra></extra>",
         "hovertext": [
          "J798"
         ],
         "legendgroup": "J798",
         "marker": {
          "color": "#B6E880",
          "pattern": {
           "shape": ""
          }
         },
         "name": "J798",
         "offsetgroup": "J798",
         "orientation": "h",
         "showlegend": true,
         "textposition": "auto",
         "type": "bar",
         "x": [
          156998566.608868
         ],
         "xaxis": "x",
         "y": [
          "M04"
         ],
         "yaxis": "y"
        },
        {
         "alignmentgroup": "True",
         "base": [
          "2031-10-09T00:20:53.650877"
         ],
         "hovertemplate": "<b>%{hovertext}</b><br><br>Job_ID=J799<br>Scheduled_Start=%{base}<br>Estimated_Completion_Time=%{x}<br>Assigned_Machine=%{y}<extra></extra>",
         "hovertext": [
          "J799"
         ],
         "legendgroup": "J799",
         "marker": {
          "color": "#FF97FF",
          "pattern": {
           "shape": ""
          }
         },
         "name": "J799",
         "offsetgroup": "J799",
         "orientation": "h",
         "showlegend": true,
         "textposition": "auto",
         "type": "bar",
         "x": [
          374034471.560229
         ],
         "xaxis": "x",
         "y": [
          "M05"
         ],
         "yaxis": "y"
        },
        {
         "alignmentgroup": "True",
         "base": [
          "2031-10-13T08:20:53.650877"
         ],
         "hovertemplate": "<b>%{hovertext}</b><br><br>Job_ID=J800<br>Scheduled_Start=%{base}<br>Estimated_Completion_Time=%{x}<br>Assigned_Machine=%{y}<extra></extra>",
         "hovertext": [
          "J800"
         ],
         "legendgroup": "J800",
         "marker": {
          "color": "#FECB52",
          "pattern": {
           "shape": ""
          }
         },
         "name": "J800",
         "offsetgroup": "J800",
         "orientation": "h",
         "showlegend": true,
         "textposition": "auto",
         "type": "bar",
         "x": [
          417192295.201794
         ],
         "xaxis": "x",
         "y": [
          "M05"
         ],
         "yaxis": "y"
        },
        {
         "alignmentgroup": "True",
         "base": [
          "2031-10-18T04:20:53.650877"
         ],
         "hovertemplate": "<b>%{hovertext}</b><br><br>Job_ID=J801<br>Scheduled_Start=%{base}<br>Estimated_Completion_Time=%{x}<br>Assigned_Machine=%{y}<extra></extra>",
         "hovertext": [
          "J801"
         ],
         "legendgroup": "J801",
         "marker": {
          "color": "#636efa",
          "pattern": {
           "shape": ""
          }
         },
         "name": "J801",
         "offsetgroup": "J801",
         "orientation": "h",
         "showlegend": true,
         "textposition": "auto",
         "type": "bar",
         "x": [
          196248208.261086
         ],
         "xaxis": "x",
         "y": [
          "M04"
         ],
         "yaxis": "y"
        },
        {
         "alignmentgroup": "True",
         "base": [
          "2031-10-20T11:20:53.650877"
         ],
         "hovertemplate": "<b>%{hovertext}</b><br><br>Job_ID=J802<br>Scheduled_Start=%{base}<br>Estimated_Completion_Time=%{x}<br>Assigned_Machine=%{y}<extra></extra>",
         "hovertext": [
          "J802"
         ],
         "legendgroup": "J802",
         "marker": {
          "color": "#EF553B",
          "pattern": {
           "shape": ""
          }
         },
         "name": "J802",
         "offsetgroup": "J802",
         "orientation": "h",
         "showlegend": true,
         "textposition": "auto",
         "type": "bar",
         "x": [
          406769013.486612
         ],
         "xaxis": "x",
         "y": [
          "M04"
         ],
         "yaxis": "y"
        },
        {
         "alignmentgroup": "True",
         "base": [
          "2031-10-25T05:20:53.650877"
         ],
         "hovertemplate": "<b>%{hovertext}</b><br><br>Job_ID=J803<br>Scheduled_Start=%{base}<br>Estimated_Completion_Time=%{x}<br>Assigned_Machine=%{y}<extra></extra>",
         "hovertext": [
          "J803"
         ],
         "legendgroup": "J803",
         "marker": {
          "color": "#00cc96",
          "pattern": {
           "shape": ""
          }
         },
         "name": "J803",
         "offsetgroup": "J803",
         "orientation": "h",
         "showlegend": true,
         "textposition": "auto",
         "type": "bar",
         "x": [
          371087521.075504
         ],
         "xaxis": "x",
         "y": [
          "M04"
         ],
         "yaxis": "y"
        },
        {
         "alignmentgroup": "True",
         "base": [
          "2031-10-29T13:20:53.650877"
         ],
         "hovertemplate": "<b>%{hovertext}</b><br><br>Job_ID=J804<br>Scheduled_Start=%{base}<br>Estimated_Completion_Time=%{x}<br>Assigned_Machine=%{y}<extra></extra>",
         "hovertext": [
          "J804"
         ],
         "legendgroup": "J804",
         "marker": {
          "color": "#ab63fa",
          "pattern": {
           "shape": ""
          }
         },
         "name": "J804",
         "offsetgroup": "J804",
         "orientation": "h",
         "showlegend": true,
         "textposition": "auto",
         "type": "bar",
         "x": [
          121317074.197761
         ],
         "xaxis": "x",
         "y": [
          "M04"
         ],
         "yaxis": "y"
        },
        {
         "alignmentgroup": "True",
         "base": [
          "2031-10-30T23:20:53.650877"
         ],
         "hovertemplate": "<b>%{hovertext}</b><br><br>Job_ID=J805<br>Scheduled_Start=%{base}<br>Estimated_Completion_Time=%{x}<br>Assigned_Machine=%{y}<extra></extra>",
         "hovertext": [
          "J805"
         ],
         "legendgroup": "J805",
         "marker": {
          "color": "#FFA15A",
          "pattern": {
           "shape": ""
          }
         },
         "name": "J805",
         "offsetgroup": "J805",
         "orientation": "h",
         "showlegend": true,
         "textposition": "auto",
         "type": "bar",
         "x": [
          192680059.019972
         ],
         "xaxis": "x",
         "y": [
          "M04"
         ],
         "yaxis": "y"
        },
        {
         "alignmentgroup": "True",
         "base": [
          "2031-11-02T05:20:53.650877"
         ],
         "hovertemplate": "<b>%{hovertext}</b><br><br>Job_ID=J806<br>Scheduled_Start=%{base}<br>Estimated_Completion_Time=%{x}<br>Assigned_Machine=%{y}<extra></extra>",
         "hovertext": [
          "J806"
         ],
         "legendgroup": "J806",
         "marker": {
          "color": "#19d3f3",
          "pattern": {
           "shape": ""
          }
         },
         "name": "J806",
         "offsetgroup": "J806",
         "orientation": "h",
         "showlegend": true,
         "textposition": "auto",
         "type": "bar",
         "x": [
          392496416.522168
         ],
         "xaxis": "x",
         "y": [
          "M04"
         ],
         "yaxis": "y"
        },
        {
         "alignmentgroup": "True",
         "base": [
          "2031-11-06T19:20:53.650877"
         ],
         "hovertemplate": "<b>%{hovertext}</b><br><br>Job_ID=J807<br>Scheduled_Start=%{base}<br>Estimated_Completion_Time=%{x}<br>Assigned_Machine=%{y}<extra></extra>",
         "hovertext": [
          "J807"
         ],
         "legendgroup": "J807",
         "marker": {
          "color": "#FF6692",
          "pattern": {
           "shape": ""
          }
         },
         "name": "J807",
         "offsetgroup": "J807",
         "orientation": "h",
         "showlegend": true,
         "textposition": "auto",
         "type": "bar",
         "x": [
          353246774.869951
         ],
         "xaxis": "x",
         "y": [
          "M04"
         ],
         "yaxis": "y"
        },
        {
         "alignmentgroup": "True",
         "base": [
          "2031-11-10T22:20:53.650877"
         ],
         "hovertemplate": "<b>%{hovertext}</b><br><br>Job_ID=J808<br>Scheduled_Start=%{base}<br>Estimated_Completion_Time=%{x}<br>Assigned_Machine=%{y}<extra></extra>",
         "hovertext": [
          "J808"
         ],
         "legendgroup": "J808",
         "marker": {
          "color": "#B6E880",
          "pattern": {
           "shape": ""
          }
         },
         "name": "J808",
         "offsetgroup": "J808",
         "orientation": "h",
         "showlegend": true,
         "textposition": "auto",
         "type": "bar",
         "x": [
          406769013.486612
         ],
         "xaxis": "x",
         "y": [
          "M04"
         ],
         "yaxis": "y"
        },
        {
         "alignmentgroup": "True",
         "base": [
          "2031-11-15T16:20:53.650877"
         ],
         "hovertemplate": "<b>%{hovertext}</b><br><br>Job_ID=J809<br>Scheduled_Start=%{base}<br>Estimated_Completion_Time=%{x}<br>Assigned_Machine=%{y}<extra></extra>",
         "hovertext": [
          "J809"
         ],
         "legendgroup": "J809",
         "marker": {
          "color": "#FF97FF",
          "pattern": {
           "shape": ""
          }
         },
         "name": "J809",
         "offsetgroup": "J809",
         "orientation": "h",
         "showlegend": true,
         "textposition": "auto",
         "type": "bar",
         "x": [
          331837879.423287
         ],
         "xaxis": "x",
         "y": [
          "M04"
         ],
         "yaxis": "y"
        },
        {
         "alignmentgroup": "True",
         "base": [
          "2031-11-19T13:20:53.650877"
         ],
         "hovertemplate": "<b>%{hovertext}</b><br><br>Job_ID=J810<br>Scheduled_Start=%{base}<br>Estimated_Completion_Time=%{x}<br>Assigned_Machine=%{y}<extra></extra>",
         "hovertext": [
          "J810"
         ],
         "legendgroup": "J810",
         "marker": {
          "color": "#FECB52",
          "pattern": {
           "shape": ""
          }
         },
         "name": "J810",
         "offsetgroup": "J810",
         "orientation": "h",
         "showlegend": true,
         "textposition": "auto",
         "type": "bar",
         "x": [
          299724536.253294
         ],
         "xaxis": "x",
         "y": [
          "M04"
         ],
         "yaxis": "y"
        },
        {
         "alignmentgroup": "True",
         "base": [
          "2031-11-23T01:20:53.650877"
         ],
         "hovertemplate": "<b>%{hovertext}</b><br><br>Job_ID=J811<br>Scheduled_Start=%{base}<br>Estimated_Completion_Time=%{x}<br>Assigned_Machine=%{y}<extra></extra>",
         "hovertext": [
          "J811"
         ],
         "legendgroup": "J811",
         "marker": {
          "color": "#636efa",
          "pattern": {
           "shape": ""
          }
         },
         "name": "J811",
         "offsetgroup": "J811",
         "orientation": "h",
         "showlegend": true,
         "textposition": "auto",
         "type": "bar",
         "x": [
          103476327.992208
         ],
         "xaxis": "x",
         "y": [
          "M04"
         ],
         "yaxis": "y"
        },
        {
         "alignmentgroup": "True",
         "base": [
          "2031-11-24T06:20:53.650877"
         ],
         "hovertemplate": "<b>%{hovertext}</b><br><br>Job_ID=J812<br>Scheduled_Start=%{base}<br>Estimated_Completion_Time=%{x}<br>Assigned_Machine=%{y}<extra></extra>",
         "hovertext": [
          "J812"
         ],
         "legendgroup": "J812",
         "marker": {
          "color": "#EF553B",
          "pattern": {
           "shape": ""
          }
         },
         "name": "J812",
         "offsetgroup": "J812",
         "orientation": "h",
         "showlegend": true,
         "textposition": "auto",
         "type": "bar",
         "x": [
          85635581.786654
         ],
         "xaxis": "x",
         "y": [
          "M04"
         ],
         "yaxis": "y"
        },
        {
         "alignmentgroup": "True",
         "base": [
          "2031-11-25T06:20:53.650877"
         ],
         "hovertemplate": "<b>%{hovertext}</b><br><br>Job_ID=J813<br>Scheduled_Start=%{base}<br>Estimated_Completion_Time=%{x}<br>Assigned_Machine=%{y}<extra></extra>",
         "hovertext": [
          "J813"
         ],
         "legendgroup": "J813",
         "marker": {
          "color": "#00cc96",
          "pattern": {
           "shape": ""
          }
         },
         "name": "J813",
         "offsetgroup": "J813",
         "orientation": "h",
         "showlegend": true,
         "textposition": "auto",
         "type": "bar",
         "x": [
          427981751.112186
         ],
         "xaxis": "x",
         "y": [
          "M05"
         ],
         "yaxis": "y"
        },
        {
         "alignmentgroup": "True",
         "base": [
          "2031-11-30T05:20:53.650877"
         ],
         "hovertemplate": "<b>%{hovertext}</b><br><br>Job_ID=J814<br>Scheduled_Start=%{base}<br>Estimated_Completion_Time=%{x}<br>Assigned_Machine=%{y}<extra></extra>",
         "hovertext": [
          "J814"
         ],
         "legendgroup": "J814",
         "marker": {
          "color": "#ab63fa",
          "pattern": {
           "shape": ""
          }
         },
         "name": "J814",
         "offsetgroup": "J814",
         "orientation": "h",
         "showlegend": true,
         "textposition": "auto",
         "type": "bar",
         "x": [
          371087521.075504
         ],
         "xaxis": "x",
         "y": [
          "M04"
         ],
         "yaxis": "y"
        },
        {
         "alignmentgroup": "True",
         "base": [
          "2031-12-04T13:20:53.650877"
         ],
         "hovertemplate": "<b>%{hovertext}</b><br><br>Job_ID=J815<br>Scheduled_Start=%{base}<br>Estimated_Completion_Time=%{x}<br>Assigned_Machine=%{y}<extra></extra>",
         "hovertext": [
          "J815"
         ],
         "legendgroup": "J815",
         "marker": {
          "color": "#FFA15A",
          "pattern": {
           "shape": ""
          }
         },
         "name": "J815",
         "offsetgroup": "J815",
         "orientation": "h",
         "showlegend": true,
         "textposition": "auto",
         "type": "bar",
         "x": [
          367519371.834394
         ],
         "xaxis": "x",
         "y": [
          "M04"
         ],
         "yaxis": "y"
        },
        {
         "alignmentgroup": "True",
         "base": [
          "2031-12-08T20:20:53.650877"
         ],
         "hovertemplate": "<b>%{hovertext}</b><br><br>Job_ID=J816<br>Scheduled_Start=%{base}<br>Estimated_Completion_Time=%{x}<br>Assigned_Machine=%{y}<extra></extra>",
         "hovertext": [
          "J816"
         ],
         "legendgroup": "J816",
         "marker": {
          "color": "#19d3f3",
          "pattern": {
           "shape": ""
          }
         },
         "name": "J816",
         "offsetgroup": "J816",
         "orientation": "h",
         "showlegend": true,
         "textposition": "auto",
         "type": "bar",
         "x": [
          121317074.197761
         ],
         "xaxis": "x",
         "y": [
          "M04"
         ],
         "yaxis": "y"
        },
        {
         "alignmentgroup": "True",
         "base": [
          "2031-12-10T06:20:53.650877"
         ],
         "hovertemplate": "<b>%{hovertext}</b><br><br>Job_ID=J817<br>Scheduled_Start=%{base}<br>Estimated_Completion_Time=%{x}<br>Assigned_Machine=%{y}<extra></extra>",
         "hovertext": [
          "J817"
         ],
         "legendgroup": "J817",
         "marker": {
          "color": "#FF6692",
          "pattern": {
           "shape": ""
          }
         },
         "name": "J817",
         "offsetgroup": "J817",
         "orientation": "h",
         "showlegend": true,
         "textposition": "auto",
         "type": "bar",
         "x": [
          235497849.913303
         ],
         "xaxis": "x",
         "y": [
          "M04"
         ],
         "yaxis": "y"
        },
        {
         "alignmentgroup": "True",
         "base": [
          "2031-12-13T00:20:53.650877"
         ],
         "hovertemplate": "<b>%{hovertext}</b><br><br>Job_ID=J818<br>Scheduled_Start=%{base}<br>Estimated_Completion_Time=%{x}<br>Assigned_Machine=%{y}<extra></extra>",
         "hovertext": [
          "J818"
         ],
         "legendgroup": "J818",
         "marker": {
          "color": "#B6E880",
          "pattern": {
           "shape": ""
          }
         },
         "name": "J818",
         "offsetgroup": "J818",
         "orientation": "h",
         "showlegend": true,
         "textposition": "auto",
         "type": "bar",
         "x": [
          217657103.707749
         ],
         "xaxis": "x",
         "y": [
          "M04"
         ],
         "yaxis": "y"
        },
        {
         "alignmentgroup": "True",
         "base": [
          "2031-12-15T13:20:53.650877"
         ],
         "hovertemplate": "<b>%{hovertext}</b><br><br>Job_ID=J819<br>Scheduled_Start=%{base}<br>Estimated_Completion_Time=%{x}<br>Assigned_Machine=%{y}<extra></extra>",
         "hovertext": [
          "J819"
         ],
         "legendgroup": "J819",
         "marker": {
          "color": "#FF97FF",
          "pattern": {
           "shape": ""
          }
         },
         "name": "J819",
         "offsetgroup": "J819",
         "orientation": "h",
         "showlegend": true,
         "textposition": "auto",
         "type": "bar",
         "x": [
          256906745.359966
         ],
         "xaxis": "x",
         "y": [
          "M04"
         ],
         "yaxis": "y"
        },
        {
         "alignmentgroup": "True",
         "base": [
          "2031-12-18T13:20:53.650877"
         ],
         "hovertemplate": "<b>%{hovertext}</b><br><br>Job_ID=J820<br>Scheduled_Start=%{base}<br>Estimated_Completion_Time=%{x}<br>Assigned_Machine=%{y}<extra></extra>",
         "hovertext": [
          "J820"
         ],
         "legendgroup": "J820",
         "marker": {
          "color": "#FECB52",
          "pattern": {
           "shape": ""
          }
         },
         "name": "J820",
         "offsetgroup": "J820",
         "orientation": "h",
         "showlegend": true,
         "textposition": "auto",
         "type": "bar",
         "x": [
          388928267.281058
         ],
         "xaxis": "x",
         "y": [
          "M04"
         ],
         "yaxis": "y"
        },
        {
         "alignmentgroup": "True",
         "base": [
          "2031-12-23T02:20:53.650877"
         ],
         "hovertemplate": "<b>%{hovertext}</b><br><br>Job_ID=J821<br>Scheduled_Start=%{base}<br>Estimated_Completion_Time=%{x}<br>Assigned_Machine=%{y}<extra></extra>",
         "hovertext": [
          "J821"
         ],
         "legendgroup": "J821",
         "marker": {
          "color": "#636efa",
          "pattern": {
           "shape": ""
          }
         },
         "name": "J821",
         "offsetgroup": "J821",
         "orientation": "h",
         "showlegend": true,
         "textposition": "auto",
         "type": "bar",
         "x": [
          85635581.786654
         ],
         "xaxis": "x",
         "y": [
          "M04"
         ],
         "yaxis": "y"
        },
        {
         "alignmentgroup": "True",
         "base": [
          "2031-12-24T02:20:53.650877"
         ],
         "hovertemplate": "<b>%{hovertext}</b><br><br>Job_ID=J822<br>Scheduled_Start=%{base}<br>Estimated_Completion_Time=%{x}<br>Assigned_Machine=%{y}<extra></extra>",
         "hovertext": [
          "J822"
         ],
         "legendgroup": "J822",
         "marker": {
          "color": "#EF553B",
          "pattern": {
           "shape": ""
          }
         },
         "name": "J822",
         "offsetgroup": "J822",
         "orientation": "h",
         "showlegend": true,
         "textposition": "auto",
         "type": "bar",
         "x": [
          321133431.699957
         ],
         "xaxis": "x",
         "y": [
          "M04"
         ],
         "yaxis": "y"
        },
        {
         "alignmentgroup": "True",
         "base": [
          "2031-12-27T20:20:53.650877"
         ],
         "hovertemplate": "<b>%{hovertext}</b><br><br>Job_ID=J823<br>Scheduled_Start=%{base}<br>Estimated_Completion_Time=%{x}<br>Assigned_Machine=%{y}<extra></extra>",
         "hovertext": [
          "J823"
         ],
         "legendgroup": "J823",
         "marker": {
          "color": "#00cc96",
          "pattern": {
           "shape": ""
          }
         },
         "name": "J823",
         "offsetgroup": "J823",
         "orientation": "h",
         "showlegend": true,
         "textposition": "auto",
         "type": "bar",
         "x": [
          338069618.525592
         ],
         "xaxis": "x",
         "y": [
          "M05"
         ],
         "yaxis": "y"
        },
        {
         "alignmentgroup": "True",
         "base": [
          "2031-12-31T18:20:53.650877"
         ],
         "hovertemplate": "<b>%{hovertext}</b><br><br>Job_ID=J824<br>Scheduled_Start=%{base}<br>Estimated_Completion_Time=%{x}<br>Assigned_Machine=%{y}<extra></extra>",
         "hovertext": [
          "J824"
         ],
         "legendgroup": "J824",
         "marker": {
          "color": "#ab63fa",
          "pattern": {
           "shape": ""
          }
         },
         "name": "J824",
         "offsetgroup": "J824",
         "orientation": "h",
         "showlegend": true,
         "textposition": "auto",
         "type": "bar",
         "x": [
          331837879.423287
         ],
         "xaxis": "x",
         "y": [
          "M04"
         ],
         "yaxis": "y"
        },
        {
         "alignmentgroup": "True",
         "base": [
          "2032-01-04T15:20:53.650877"
         ],
         "hovertemplate": "<b>%{hovertext}</b><br><br>Job_ID=J825<br>Scheduled_Start=%{base}<br>Estimated_Completion_Time=%{x}<br>Assigned_Machine=%{y}<extra></extra>",
         "hovertext": [
          "J825"
         ],
         "legendgroup": "J825",
         "marker": {
          "color": "#FFA15A",
          "pattern": {
           "shape": ""
          }
         },
         "name": "J825",
         "offsetgroup": "J825",
         "orientation": "h",
         "showlegend": true,
         "textposition": "auto",
         "type": "bar",
         "x": [
          117748924.956651
         ],
         "xaxis": "x",
         "y": [
          "M04"
         ],
         "yaxis": "y"
        },
        {
         "alignmentgroup": "True",
         "base": [
          "2032-01-06T00:20:53.650877"
         ],
         "hovertemplate": "<b>%{hovertext}</b><br><br>Job_ID=J826<br>Scheduled_Start=%{base}<br>Estimated_Completion_Time=%{x}<br>Assigned_Machine=%{y}<extra></extra>",
         "hovertext": [
          "J826"
         ],
         "legendgroup": "J826",
         "marker": {
          "color": "#19d3f3",
          "pattern": {
           "shape": ""
          }
         },
         "name": "J826",
         "offsetgroup": "J826",
         "orientation": "h",
         "showlegend": true,
         "textposition": "auto",
         "type": "bar",
         "x": [
          239065999.154413
         ],
         "xaxis": "x",
         "y": [
          "M04"
         ],
         "yaxis": "y"
        },
        {
         "alignmentgroup": "True",
         "base": [
          "2032-01-08T19:20:53.650877"
         ],
         "hovertemplate": "<b>%{hovertext}</b><br><br>Job_ID=J827<br>Scheduled_Start=%{base}<br>Estimated_Completion_Time=%{x}<br>Assigned_Machine=%{y}<extra></extra>",
         "hovertext": [
          "J827"
         ],
         "legendgroup": "J827",
         "marker": {
          "color": "#FF6692",
          "pattern": {
           "shape": ""
          }
         },
         "name": "J827",
         "offsetgroup": "J827",
         "orientation": "h",
         "showlegend": true,
         "textposition": "auto",
         "type": "bar",
         "x": [
          353246774.869951
         ],
         "xaxis": "x",
         "y": [
          "M04"
         ],
         "yaxis": "y"
        },
        {
         "alignmentgroup": "True",
         "base": [
          "2032-01-12T22:20:53.650877"
         ],
         "hovertemplate": "<b>%{hovertext}</b><br><br>Job_ID=J828<br>Scheduled_Start=%{base}<br>Estimated_Completion_Time=%{x}<br>Assigned_Machine=%{y}<extra></extra>",
         "hovertext": [
          "J828"
         ],
         "legendgroup": "J828",
         "marker": {
          "color": "#B6E880",
          "pattern": {
           "shape": ""
          }
         },
         "name": "J828",
         "offsetgroup": "J828",
         "orientation": "h",
         "showlegend": true,
         "textposition": "auto",
         "type": "bar",
         "x": [
          206952655.984416
         ],
         "xaxis": "x",
         "y": [
          "M04"
         ],
         "yaxis": "y"
        },
        {
         "alignmentgroup": "True",
         "base": [
          "2032-01-15T08:20:53.650877"
         ],
         "hovertemplate": "<b>%{hovertext}</b><br><br>Job_ID=J829<br>Scheduled_Start=%{base}<br>Estimated_Completion_Time=%{x}<br>Assigned_Machine=%{y}<extra></extra>",
         "hovertext": [
          "J829"
         ],
         "legendgroup": "J829",
         "marker": {
          "color": "#FF97FF",
          "pattern": {
           "shape": ""
          }
         },
         "name": "J829",
         "offsetgroup": "J829",
         "orientation": "h",
         "showlegend": true,
         "textposition": "auto",
         "type": "bar",
         "x": [
          321133431.699957
         ],
         "xaxis": "x",
         "y": [
          "M04"
         ],
         "yaxis": "y"
        },
        {
         "alignmentgroup": "True",
         "base": [
          "2032-01-19T02:20:53.650877"
         ],
         "hovertemplate": "<b>%{hovertext}</b><br><br>Job_ID=J830<br>Scheduled_Start=%{base}<br>Estimated_Completion_Time=%{x}<br>Assigned_Machine=%{y}<extra></extra>",
         "hovertext": [
          "J830"
         ],
         "legendgroup": "J830",
         "marker": {
          "color": "#FECB52",
          "pattern": {
           "shape": ""
          }
         },
         "name": "J830",
         "offsetgroup": "J830",
         "orientation": "h",
         "showlegend": true,
         "textposition": "auto",
         "type": "bar",
         "x": [
          85635581.786654
         ],
         "xaxis": "x",
         "y": [
          "M04"
         ],
         "yaxis": "y"
        },
        {
         "alignmentgroup": "True",
         "base": [
          "2032-01-20T02:20:53.650877"
         ],
         "hovertemplate": "<b>%{hovertext}</b><br><br>Job_ID=J831<br>Scheduled_Start=%{base}<br>Estimated_Completion_Time=%{x}<br>Assigned_Machine=%{y}<extra></extra>",
         "hovertext": [
          "J831"
         ],
         "legendgroup": "J831",
         "marker": {
          "color": "#636efa",
          "pattern": {
           "shape": ""
          }
         },
         "name": "J831",
         "offsetgroup": "J831",
         "orientation": "h",
         "showlegend": true,
         "textposition": "auto",
         "type": "bar",
         "x": [
          285451939.28885
         ],
         "xaxis": "x",
         "y": [
          "M04"
         ],
         "yaxis": "y"
        },
        {
         "alignmentgroup": "True",
         "base": [
          "2032-01-23T10:20:53.650877"
         ],
         "hovertemplate": "<b>%{hovertext}</b><br><br>Job_ID=J832<br>Scheduled_Start=%{base}<br>Estimated_Completion_Time=%{x}<br>Assigned_Machine=%{y}<extra></extra>",
         "hovertext": [
          "J832"
         ],
         "legendgroup": "J832",
         "marker": {
          "color": "#EF553B",
          "pattern": {
           "shape": ""
          }
         },
         "name": "J832",
         "offsetgroup": "J832",
         "orientation": "h",
         "showlegend": true,
         "textposition": "auto",
         "type": "bar",
         "x": [
          356814924.111064
         ],
         "xaxis": "x",
         "y": [
          "M04"
         ],
         "yaxis": "y"
        },
        {
         "alignmentgroup": "True",
         "base": [
          "2032-01-27T14:20:53.650877"
         ],
         "hovertemplate": "<b>%{hovertext}</b><br><br>Job_ID=J833<br>Scheduled_Start=%{base}<br>Estimated_Completion_Time=%{x}<br>Assigned_Machine=%{y}<extra></extra>",
         "hovertext": [
          "J833"
         ],
         "legendgroup": "J833",
         "marker": {
          "color": "#00cc96",
          "pattern": {
           "shape": ""
          }
         },
         "name": "J833",
         "offsetgroup": "J833",
         "orientation": "h",
         "showlegend": true,
         "textposition": "auto",
         "type": "bar",
         "x": [
          317565282.458847
         ],
         "xaxis": "x",
         "y": [
          "M04"
         ],
         "yaxis": "y"
        },
        {
         "alignmentgroup": "True",
         "base": [
          "2032-01-31T07:20:53.650877"
         ],
         "hovertemplate": "<b>%{hovertext}</b><br><br>Job_ID=J834<br>Scheduled_Start=%{base}<br>Estimated_Completion_Time=%{x}<br>Assigned_Machine=%{y}<extra></extra>",
         "hovertext": [
          "J834"
         ],
         "legendgroup": "J834",
         "marker": {
          "color": "#ab63fa",
          "pattern": {
           "shape": ""
          }
         },
         "name": "J834",
         "offsetgroup": "J834",
         "orientation": "h",
         "showlegend": true,
         "textposition": "auto",
         "type": "bar",
         "x": [
          253338596.118853
         ],
         "xaxis": "x",
         "y": [
          "M04"
         ],
         "yaxis": "y"
        },
        {
         "alignmentgroup": "True",
         "base": [
          "2032-02-03T06:20:53.650877"
         ],
         "hovertemplate": "<b>%{hovertext}</b><br><br>Job_ID=J835<br>Scheduled_Start=%{base}<br>Estimated_Completion_Time=%{x}<br>Assigned_Machine=%{y}<extra></extra>",
         "hovertext": [
          "J835"
         ],
         "legendgroup": "J835",
         "marker": {
          "color": "#FFA15A",
          "pattern": {
           "shape": ""
          }
         },
         "name": "J835",
         "offsetgroup": "J835",
         "orientation": "h",
         "showlegend": true,
         "textposition": "auto",
         "type": "bar",
         "x": [
          214088954.466639
         ],
         "xaxis": "x",
         "y": [
          "M04"
         ],
         "yaxis": "y"
        },
        {
         "alignmentgroup": "True",
         "base": [
          "2032-02-05T18:20:53.650877"
         ],
         "hovertemplate": "<b>%{hovertext}</b><br><br>Job_ID=J836<br>Scheduled_Start=%{base}<br>Estimated_Completion_Time=%{x}<br>Assigned_Machine=%{y}<extra></extra>",
         "hovertext": [
          "J836"
         ],
         "legendgroup": "J836",
         "marker": {
          "color": "#19d3f3",
          "pattern": {
           "shape": ""
          }
         },
         "name": "J836",
         "offsetgroup": "J836",
         "orientation": "h",
         "showlegend": true,
         "textposition": "auto",
         "type": "bar",
         "x": [
          385360118.039948
         ],
         "xaxis": "x",
         "y": [
          "M04"
         ],
         "yaxis": "y"
        },
        {
         "alignmentgroup": "True",
         "base": [
          "2032-02-10T06:20:53.650877"
         ],
         "hovertemplate": "<b>%{hovertext}</b><br><br>Job_ID=J837<br>Scheduled_Start=%{base}<br>Estimated_Completion_Time=%{x}<br>Assigned_Machine=%{y}<extra></extra>",
         "hovertext": [
          "J837"
         ],
         "legendgroup": "J837",
         "marker": {
          "color": "#FF6692",
          "pattern": {
           "shape": ""
          }
         },
         "name": "J837",
         "offsetgroup": "J837",
         "orientation": "h",
         "showlegend": true,
         "textposition": "auto",
         "type": "bar",
         "x": [
          185543760.537752
         ],
         "xaxis": "x",
         "y": [
          "M04"
         ],
         "yaxis": "y"
        },
        {
         "alignmentgroup": "True",
         "base": [
          "2032-02-12T10:20:53.650877"
         ],
         "hovertemplate": "<b>%{hovertext}</b><br><br>Job_ID=J838<br>Scheduled_Start=%{base}<br>Estimated_Completion_Time=%{x}<br>Assigned_Machine=%{y}<extra></extra>",
         "hovertext": [
          "J838"
         ],
         "legendgroup": "J838",
         "marker": {
          "color": "#B6E880",
          "pattern": {
           "shape": ""
          }
         },
         "name": "J838",
         "offsetgroup": "J838",
         "orientation": "h",
         "showlegend": true,
         "textposition": "auto",
         "type": "bar",
         "x": [
          363951222.593284
         ],
         "xaxis": "x",
         "y": [
          "M04"
         ],
         "yaxis": "y"
        },
        {
         "alignmentgroup": "True",
         "base": [
          "2032-02-16T16:20:53.650877"
         ],
         "hovertemplate": "<b>%{hovertext}</b><br><br>Job_ID=J839<br>Scheduled_Start=%{base}<br>Estimated_Completion_Time=%{x}<br>Assigned_Machine=%{y}<extra></extra>",
         "hovertext": [
          "J839"
         ],
         "legendgroup": "J839",
         "marker": {
          "color": "#FF97FF",
          "pattern": {
           "shape": ""
          }
         },
         "name": "J839",
         "offsetgroup": "J839",
         "orientation": "h",
         "showlegend": true,
         "textposition": "auto",
         "type": "bar",
         "x": [
          264043043.842186
         ],
         "xaxis": "x",
         "y": [
          "M04"
         ],
         "yaxis": "y"
        },
        {
         "alignmentgroup": "True",
         "base": [
          "2032-02-19T18:20:53.650877"
         ],
         "hovertemplate": "<b>%{hovertext}</b><br><br>Job_ID=J840<br>Scheduled_Start=%{base}<br>Estimated_Completion_Time=%{x}<br>Assigned_Machine=%{y}<extra></extra>",
         "hovertext": [
          "J840"
         ],
         "legendgroup": "J840",
         "marker": {
          "color": "#FECB52",
          "pattern": {
           "shape": ""
          }
         },
         "name": "J840",
         "offsetgroup": "J840",
         "orientation": "h",
         "showlegend": true,
         "textposition": "auto",
         "type": "bar",
         "x": [
          421041610.451055
         ],
         "xaxis": "x",
         "y": [
          "M04"
         ],
         "yaxis": "y"
        },
        {
         "alignmentgroup": "True",
         "base": [
          "2032-02-24T16:20:53.650877"
         ],
         "hovertemplate": "<b>%{hovertext}</b><br><br>Job_ID=J841<br>Scheduled_Start=%{base}<br>Estimated_Completion_Time=%{x}<br>Assigned_Machine=%{y}<extra></extra>",
         "hovertext": [
          "J841"
         ],
         "legendgroup": "J841",
         "marker": {
          "color": "#636efa",
          "pattern": {
           "shape": ""
          }
         },
         "name": "J841",
         "offsetgroup": "J841",
         "orientation": "h",
         "showlegend": true,
         "textposition": "auto",
         "type": "bar",
         "x": [
          327280162.6152
         ],
         "xaxis": "x",
         "y": [
          "M05"
         ],
         "yaxis": "y"
        },
        {
         "alignmentgroup": "True",
         "base": [
          "2032-02-28T11:20:53.650877"
         ],
         "hovertemplate": "<b>%{hovertext}</b><br><br>Job_ID=J842<br>Scheduled_Start=%{base}<br>Estimated_Completion_Time=%{x}<br>Assigned_Machine=%{y}<extra></extra>",
         "hovertext": [
          "J842"
         ],
         "legendgroup": "J842",
         "marker": {
          "color": "#EF553B",
          "pattern": {
           "shape": ""
          }
         },
         "name": "J842",
         "offsetgroup": "J842",
         "orientation": "h",
         "showlegend": true,
         "textposition": "auto",
         "type": "bar",
         "x": [
          313997133.217734
         ],
         "xaxis": "x",
         "y": [
          "M04"
         ],
         "yaxis": "y"
        },
        {
         "alignmentgroup": "True",
         "base": [
          "2032-03-03T03:20:53.650877"
         ],
         "hovertemplate": "<b>%{hovertext}</b><br><br>Job_ID=J843<br>Scheduled_Start=%{base}<br>Estimated_Completion_Time=%{x}<br>Assigned_Machine=%{y}<extra></extra>",
         "hovertext": [
          "J843"
         ],
         "legendgroup": "J843",
         "marker": {
          "color": "#00cc96",
          "pattern": {
           "shape": ""
          }
         },
         "name": "J843",
         "offsetgroup": "J843",
         "orientation": "h",
         "showlegend": true,
         "textposition": "auto",
         "type": "bar",
         "x": [
          219385603.511287
         ],
         "xaxis": "x",
         "y": [
          "M05"
         ],
         "yaxis": "y"
        },
        {
         "alignmentgroup": "True",
         "base": [
          "2032-03-05T16:20:53.650877"
         ],
         "hovertemplate": "<b>%{hovertext}</b><br><br>Job_ID=J844<br>Scheduled_Start=%{base}<br>Estimated_Completion_Time=%{x}<br>Assigned_Machine=%{y}<extra></extra>",
         "hovertext": [
          "J844"
         ],
         "legendgroup": "J844",
         "marker": {
          "color": "#ab63fa",
          "pattern": {
           "shape": ""
          }
         },
         "name": "J844",
         "offsetgroup": "J844",
         "orientation": "h",
         "showlegend": true,
         "textposition": "auto",
         "type": "bar",
         "x": [
          206952655.984416
         ],
         "xaxis": "x",
         "y": [
          "M04"
         ],
         "yaxis": "y"
        },
        {
         "alignmentgroup": "True",
         "base": [
          "2032-03-08T02:20:53.650877"
         ],
         "hovertemplate": "<b>%{hovertext}</b><br><br>Job_ID=J845<br>Scheduled_Start=%{base}<br>Estimated_Completion_Time=%{x}<br>Assigned_Machine=%{y}<extra></extra>",
         "hovertext": [
          "J845"
         ],
         "legendgroup": "J845",
         "marker": {
          "color": "#FFA15A",
          "pattern": {
           "shape": ""
          }
         },
         "name": "J845",
         "offsetgroup": "J845",
         "orientation": "h",
         "showlegend": true,
         "textposition": "auto",
         "type": "bar",
         "x": [
          142725969.644425
         ],
         "xaxis": "x",
         "y": [
          "M04"
         ],
         "yaxis": "y"
        },
        {
         "alignmentgroup": "True",
         "base": [
          "2032-03-09T18:20:53.650877"
         ],
         "hovertemplate": "<b>%{hovertext}</b><br><br>Job_ID=J846<br>Scheduled_Start=%{base}<br>Estimated_Completion_Time=%{x}<br>Assigned_Machine=%{y}<extra></extra>",
         "hovertext": [
          "J846"
         ],
         "legendgroup": "J846",
         "marker": {
          "color": "#19d3f3",
          "pattern": {
           "shape": ""
          }
         },
         "name": "J846",
         "offsetgroup": "J846",
         "orientation": "h",
         "showlegend": true,
         "textposition": "auto",
         "type": "bar",
         "x": [
          324701580.941067
         ],
         "xaxis": "x",
         "y": [
          "M04"
         ],
         "yaxis": "y"
        },
        {
         "alignmentgroup": "True",
         "base": [
          "2032-03-13T13:20:53.650877"
         ],
         "hovertemplate": "<b>%{hovertext}</b><br><br>Job_ID=J847<br>Scheduled_Start=%{base}<br>Estimated_Completion_Time=%{x}<br>Assigned_Machine=%{y}<extra></extra>",
         "hovertext": [
          "J847"
         ],
         "legendgroup": "J847",
         "marker": {
          "color": "#FF6692",
          "pattern": {
           "shape": ""
          }
         },
         "name": "J847",
         "offsetgroup": "J847",
         "orientation": "h",
         "showlegend": true,
         "textposition": "auto",
         "type": "bar",
         "x": [
          260474894.601076
         ],
         "xaxis": "x",
         "y": [
          "M04"
         ],
         "yaxis": "y"
        },
        {
         "alignmentgroup": "True",
         "base": [
          "2032-03-16T14:20:53.650877"
         ],
         "hovertemplate": "<b>%{hovertext}</b><br><br>Job_ID=J848<br>Scheduled_Start=%{base}<br>Estimated_Completion_Time=%{x}<br>Assigned_Machine=%{y}<extra></extra>",
         "hovertext": [
          "J848"
         ],
         "legendgroup": "J848",
         "marker": {
          "color": "#B6E880",
          "pattern": {
           "shape": ""
          }
         },
         "name": "J848",
         "offsetgroup": "J848",
         "orientation": "h",
         "showlegend": true,
         "textposition": "auto",
         "type": "bar",
         "x": [
          306860834.735514
         ],
         "xaxis": "x",
         "y": [
          "M04"
         ],
         "yaxis": "y"
        },
        {
         "alignmentgroup": "True",
         "base": [
          "2032-03-20T04:20:53.650877"
         ],
         "hovertemplate": "<b>%{hovertext}</b><br><br>Job_ID=J849<br>Scheduled_Start=%{base}<br>Estimated_Completion_Time=%{x}<br>Assigned_Machine=%{y}<extra></extra>",
         "hovertext": [
          "J849"
         ],
         "legendgroup": "J849",
         "marker": {
          "color": "#FF97FF",
          "pattern": {
           "shape": ""
          }
         },
         "name": "J849",
         "offsetgroup": "J849",
         "orientation": "h",
         "showlegend": true,
         "textposition": "auto",
         "type": "bar",
         "x": [
          189111909.778862
         ],
         "xaxis": "x",
         "y": [
          "M04"
         ],
         "yaxis": "y"
        },
        {
         "alignmentgroup": "True",
         "base": [
          "2032-03-22T09:20:53.650877"
         ],
         "hovertemplate": "<b>%{hovertext}</b><br><br>Job_ID=J850<br>Scheduled_Start=%{base}<br>Estimated_Completion_Time=%{x}<br>Assigned_Machine=%{y}<extra></extra>",
         "hovertext": [
          "J850"
         ],
         "legendgroup": "J850",
         "marker": {
          "color": "#FECB52",
          "pattern": {
           "shape": ""
          }
         },
         "name": "J850",
         "offsetgroup": "J850",
         "orientation": "h",
         "showlegend": true,
         "textposition": "auto",
         "type": "bar",
         "x": [
          396064565.763278
         ],
         "xaxis": "x",
         "y": [
          "M04"
         ],
         "yaxis": "y"
        },
        {
         "alignmentgroup": "True",
         "base": [
          "2032-03-27T00:20:53.650877"
         ],
         "hovertemplate": "<b>%{hovertext}</b><br><br>Job_ID=J851<br>Scheduled_Start=%{base}<br>Estimated_Completion_Time=%{x}<br>Assigned_Machine=%{y}<extra></extra>",
         "hovertext": [
          "J851"
         ],
         "legendgroup": "J851",
         "marker": {
          "color": "#636efa",
          "pattern": {
           "shape": ""
          }
         },
         "name": "J851",
         "offsetgroup": "J851",
         "orientation": "h",
         "showlegend": true,
         "textposition": "auto",
         "type": "bar",
         "x": [
          107044477.233318
         ],
         "xaxis": "x",
         "y": [
          "M04"
         ],
         "yaxis": "y"
        },
        {
         "alignmentgroup": "True",
         "base": [
          "2032-03-28T06:20:53.650877"
         ],
         "hovertemplate": "<b>%{hovertext}</b><br><br>Job_ID=J852<br>Scheduled_Start=%{base}<br>Estimated_Completion_Time=%{x}<br>Assigned_Machine=%{y}<extra></extra>",
         "hovertext": [
          "J852"
         ],
         "legendgroup": "J852",
         "marker": {
          "color": "#EF553B",
          "pattern": {
           "shape": ""
          }
         },
         "name": "J852",
         "offsetgroup": "J852",
         "orientation": "h",
         "showlegend": true,
         "textposition": "auto",
         "type": "bar",
         "x": [
          242634148.395523
         ],
         "xaxis": "x",
         "y": [
          "M04"
         ],
         "yaxis": "y"
        },
        {
         "alignmentgroup": "True",
         "base": [
          "2032-03-31T02:20:53.650877"
         ],
         "hovertemplate": "<b>%{hovertext}</b><br><br>Job_ID=J853<br>Scheduled_Start=%{base}<br>Estimated_Completion_Time=%{x}<br>Assigned_Machine=%{y}<extra></extra>",
         "hovertext": [
          "J853"
         ],
         "legendgroup": "J853",
         "marker": {
          "color": "#00cc96",
          "pattern": {
           "shape": ""
          }
         },
         "name": "J853",
         "offsetgroup": "J853",
         "orientation": "h",
         "showlegend": true,
         "textposition": "auto",
         "type": "bar",
         "x": [
          306860834.735514
         ],
         "xaxis": "x",
         "y": [
          "M04"
         ],
         "yaxis": "y"
        },
        {
         "alignmentgroup": "True",
         "base": [
          "2032-04-03T16:20:53.650877"
         ],
         "hovertemplate": "<b>%{hovertext}</b><br><br>Job_ID=J854<br>Scheduled_Start=%{base}<br>Estimated_Completion_Time=%{x}<br>Assigned_Machine=%{y}<extra></extra>",
         "hovertext": [
          "J854"
         ],
         "legendgroup": "J854",
         "marker": {
          "color": "#ab63fa",
          "pattern": {
           "shape": ""
          }
         },
         "name": "J854",
         "offsetgroup": "J854",
         "orientation": "h",
         "showlegend": true,
         "textposition": "auto",
         "type": "bar",
         "x": [
          242634148.395523
         ],
         "xaxis": "x",
         "y": [
          "M04"
         ],
         "yaxis": "y"
        },
        {
         "alignmentgroup": "True",
         "base": [
          "2032-04-06T12:20:53.650877"
         ],
         "hovertemplate": "<b>%{hovertext}</b><br><br>Job_ID=J855<br>Scheduled_Start=%{base}<br>Estimated_Completion_Time=%{x}<br>Assigned_Machine=%{y}<extra></extra>",
         "hovertext": [
          "J855"
         ],
         "legendgroup": "J855",
         "marker": {
          "color": "#FFA15A",
          "pattern": {
           "shape": ""
          }
         },
         "name": "J855",
         "offsetgroup": "J855",
         "orientation": "h",
         "showlegend": true,
         "textposition": "auto",
         "type": "bar",
         "x": [
          321133431.699957
         ],
         "xaxis": "x",
         "y": [
          "M04"
         ],
         "yaxis": "y"
        },
        {
         "alignmentgroup": "True",
         "base": [
          "2032-04-10T06:20:53.650877"
         ],
         "hovertemplate": "<b>%{hovertext}</b><br><br>Job_ID=J856<br>Scheduled_Start=%{base}<br>Estimated_Completion_Time=%{x}<br>Assigned_Machine=%{y}<extra></extra>",
         "hovertext": [
          "J856"
         ],
         "legendgroup": "J856",
         "marker": {
          "color": "#19d3f3",
          "pattern": {
           "shape": ""
          }
         },
         "name": "J856",
         "offsetgroup": "J856",
         "orientation": "h",
         "showlegend": true,
         "textposition": "auto",
         "type": "bar",
         "x": [
          221225252.948859
         ],
         "xaxis": "x",
         "y": [
          "M04"
         ],
         "yaxis": "y"
        },
        {
         "alignmentgroup": "True",
         "base": [
          "2032-04-12T20:20:53.650877"
         ],
         "hovertemplate": "<b>%{hovertext}</b><br><br>Job_ID=J857<br>Scheduled_Start=%{base}<br>Estimated_Completion_Time=%{x}<br>Assigned_Machine=%{y}<extra></extra>",
         "hovertext": [
          "J857"
         ],
         "legendgroup": "J857",
         "marker": {
          "color": "#FF6692",
          "pattern": {
           "shape": ""
          }
         },
         "name": "J857",
         "offsetgroup": "J857",
         "orientation": "h",
         "showlegend": true,
         "textposition": "auto",
         "type": "bar",
         "x": [
          221225252.948859
         ],
         "xaxis": "x",
         "y": [
          "M04"
         ],
         "yaxis": "y"
        },
        {
         "alignmentgroup": "True",
         "base": [
          "2032-04-15T10:20:53.650877"
         ],
         "hovertemplate": "<b>%{hovertext}</b><br><br>Job_ID=J858<br>Scheduled_Start=%{base}<br>Estimated_Completion_Time=%{x}<br>Assigned_Machine=%{y}<extra></extra>",
         "hovertext": [
          "J858"
         ],
         "legendgroup": "J858",
         "marker": {
          "color": "#B6E880",
          "pattern": {
           "shape": ""
          }
         },
         "name": "J858",
         "offsetgroup": "J858",
         "orientation": "h",
         "showlegend": true,
         "textposition": "auto",
         "type": "bar",
         "x": [
          406769013.486612
         ],
         "xaxis": "x",
         "y": [
          "M04"
         ],
         "yaxis": "y"
        },
        {
         "alignmentgroup": "True",
         "base": [
          "2032-04-20T04:20:53.650877"
         ],
         "hovertemplate": "<b>%{hovertext}</b><br><br>Job_ID=J859<br>Scheduled_Start=%{base}<br>Estimated_Completion_Time=%{x}<br>Assigned_Machine=%{y}<extra></extra>",
         "hovertext": [
          "J859"
         ],
         "legendgroup": "J859",
         "marker": {
          "color": "#FF97FF",
          "pattern": {
           "shape": ""
          }
         },
         "name": "J859",
         "offsetgroup": "J859",
         "orientation": "h",
         "showlegend": true,
         "textposition": "auto",
         "type": "bar",
         "x": [
          99908178.751098
         ],
         "xaxis": "x",
         "y": [
          "M04"
         ],
         "yaxis": "y"
        },
        {
         "alignmentgroup": "True",
         "base": [
          "2032-04-21T08:20:53.650877"
         ],
         "hovertemplate": "<b>%{hovertext}</b><br><br>Job_ID=J860<br>Scheduled_Start=%{base}<br>Estimated_Completion_Time=%{x}<br>Assigned_Machine=%{y}<extra></extra>",
         "hovertext": [
          "J860"
         ],
         "legendgroup": "J860",
         "marker": {
          "color": "#FECB52",
          "pattern": {
           "shape": ""
          }
         },
         "name": "J860",
         "offsetgroup": "J860",
         "orientation": "h",
         "showlegend": true,
         "textposition": "auto",
         "type": "bar",
         "x": [
          363951222.593284
         ],
         "xaxis": "x",
         "y": [
          "M04"
         ],
         "yaxis": "y"
        },
        {
         "alignmentgroup": "True",
         "base": [
          "2032-04-25T14:20:53.650877"
         ],
         "hovertemplate": "<b>%{hovertext}</b><br><br>Job_ID=J861<br>Scheduled_Start=%{base}<br>Estimated_Completion_Time=%{x}<br>Assigned_Machine=%{y}<extra></extra>",
         "hovertext": [
          "J861"
         ],
         "legendgroup": "J861",
         "marker": {
          "color": "#636efa",
          "pattern": {
           "shape": ""
          }
         },
         "name": "J861",
         "offsetgroup": "J861",
         "orientation": "h",
         "showlegend": true,
         "textposition": "auto",
         "type": "bar",
         "x": [
          242634148.395523
         ],
         "xaxis": "x",
         "y": [
          "M04"
         ],
         "yaxis": "y"
        },
        {
         "alignmentgroup": "True",
         "base": [
          "2032-04-28T10:20:53.650877"
         ],
         "hovertemplate": "<b>%{hovertext}</b><br><br>Job_ID=J862<br>Scheduled_Start=%{base}<br>Estimated_Completion_Time=%{x}<br>Assigned_Machine=%{y}<extra></extra>",
         "hovertext": [
          "J862"
         ],
         "legendgroup": "J862",
         "marker": {
          "color": "#EF553B",
          "pattern": {
           "shape": ""
          }
         },
         "name": "J862",
         "offsetgroup": "J862",
         "orientation": "h",
         "showlegend": true,
         "textposition": "auto",
         "type": "bar",
         "x": [
          201403176.993968
         ],
         "xaxis": "x",
         "y": [
          "M05"
         ],
         "yaxis": "y"
        },
        {
         "alignmentgroup": "True",
         "base": [
          "2032-04-30T18:20:53.650877"
         ],
         "hovertemplate": "<b>%{hovertext}</b><br><br>Job_ID=J863<br>Scheduled_Start=%{base}<br>Estimated_Completion_Time=%{x}<br>Assigned_Machine=%{y}<extra></extra>",
         "hovertext": [
          "J863"
         ],
         "legendgroup": "J863",
         "marker": {
          "color": "#00cc96",
          "pattern": {
           "shape": ""
          }
         },
         "name": "J863",
         "offsetgroup": "J863",
         "orientation": "h",
         "showlegend": true,
         "textposition": "auto",
         "type": "bar",
         "x": [
          274747491.565516
         ],
         "xaxis": "x",
         "y": [
          "M04"
         ],
         "yaxis": "y"
        },
        {
         "alignmentgroup": "True",
         "base": [
          "2032-05-03T23:20:53.650877"
         ],
         "hovertemplate": "<b>%{hovertext}</b><br><br>Job_ID=J864<br>Scheduled_Start=%{base}<br>Estimated_Completion_Time=%{x}<br>Assigned_Machine=%{y}<extra></extra>",
         "hovertext": [
          "J864"
         ],
         "legendgroup": "J864",
         "marker": {
          "color": "#ab63fa",
          "pattern": {
           "shape": ""
          }
         },
         "name": "J864",
         "offsetgroup": "J864",
         "orientation": "h",
         "showlegend": true,
         "textposition": "auto",
         "type": "bar",
         "x": [
          281883790.04774
         ],
         "xaxis": "x",
         "y": [
          "M04"
         ],
         "yaxis": "y"
        },
        {
         "alignmentgroup": "True",
         "base": [
          "2032-05-07T06:20:53.650877"
         ],
         "hovertemplate": "<b>%{hovertext}</b><br><br>Job_ID=J865<br>Scheduled_Start=%{base}<br>Estimated_Completion_Time=%{x}<br>Assigned_Machine=%{y}<extra></extra>",
         "hovertext": [
          "J865"
         ],
         "legendgroup": "J865",
         "marker": {
          "color": "#FFA15A",
          "pattern": {
           "shape": ""
          }
         },
         "name": "J865",
         "offsetgroup": "J865",
         "orientation": "h",
         "showlegend": true,
         "textposition": "auto",
         "type": "bar",
         "x": [
          274747491.565516
         ],
         "xaxis": "x",
         "y": [
          "M04"
         ],
         "yaxis": "y"
        },
        {
         "alignmentgroup": "True",
         "base": [
          "2032-05-10T11:20:53.650877"
         ],
         "hovertemplate": "<b>%{hovertext}</b><br><br>Job_ID=J866<br>Scheduled_Start=%{base}<br>Estimated_Completion_Time=%{x}<br>Assigned_Machine=%{y}<extra></extra>",
         "hovertext": [
          "J866"
         ],
         "legendgroup": "J866",
         "marker": {
          "color": "#19d3f3",
          "pattern": {
           "shape": ""
          }
         },
         "name": "J866",
         "offsetgroup": "J866",
         "orientation": "h",
         "showlegend": true,
         "textposition": "auto",
         "type": "bar",
         "x": [
          117748924.956651
         ],
         "xaxis": "x",
         "y": [
          "M04"
         ],
         "yaxis": "y"
        },
        {
         "alignmentgroup": "True",
         "base": [
          "2032-05-11T20:20:53.650877"
         ],
         "hovertemplate": "<b>%{hovertext}</b><br><br>Job_ID=J867<br>Scheduled_Start=%{base}<br>Estimated_Completion_Time=%{x}<br>Assigned_Machine=%{y}<extra></extra>",
         "hovertext": [
          "J867"
         ],
         "legendgroup": "J867",
         "marker": {
          "color": "#FF6692",
          "pattern": {
           "shape": ""
          }
         },
         "name": "J867",
         "offsetgroup": "J867",
         "orientation": "h",
         "showlegend": true,
         "textposition": "auto",
         "type": "bar",
         "x": [
          289020088.52996
         ],
         "xaxis": "x",
         "y": [
          "M04"
         ],
         "yaxis": "y"
        },
        {
         "alignmentgroup": "True",
         "base": [
          "2032-05-15T05:20:53.650877"
         ],
         "hovertemplate": "<b>%{hovertext}</b><br><br>Job_ID=J868<br>Scheduled_Start=%{base}<br>Estimated_Completion_Time=%{x}<br>Assigned_Machine=%{y}<extra></extra>",
         "hovertext": [
          "J868"
         ],
         "legendgroup": "J868",
         "marker": {
          "color": "#B6E880",
          "pattern": {
           "shape": ""
          }
         },
         "name": "J868",
         "offsetgroup": "J868",
         "orientation": "h",
         "showlegend": true,
         "textposition": "auto",
         "type": "bar",
         "x": [
          117748924.956651
         ],
         "xaxis": "x",
         "y": [
          "M04"
         ],
         "yaxis": "y"
        },
        {
         "alignmentgroup": "True",
         "base": [
          "2032-05-16T14:20:53.650877"
         ],
         "hovertemplate": "<b>%{hovertext}</b><br><br>Job_ID=J869<br>Scheduled_Start=%{base}<br>Estimated_Completion_Time=%{x}<br>Assigned_Machine=%{y}<extra></extra>",
         "hovertext": [
          "J869"
         ],
         "legendgroup": "J869",
         "marker": {
          "color": "#FF97FF",
          "pattern": {
           "shape": ""
          }
         },
         "name": "J869",
         "offsetgroup": "J869",
         "orientation": "h",
         "showlegend": true,
         "textposition": "auto",
         "type": "bar",
         "x": [
          139157820.403315
         ],
         "xaxis": "x",
         "y": [
          "M04"
         ],
         "yaxis": "y"
        },
        {
         "alignmentgroup": "True",
         "base": [
          "2032-05-18T05:20:53.650877"
         ],
         "hovertemplate": "<b>%{hovertext}</b><br><br>Job_ID=J870<br>Scheduled_Start=%{base}<br>Estimated_Completion_Time=%{x}<br>Assigned_Machine=%{y}<extra></extra>",
         "hovertext": [
          "J870"
         ],
         "legendgroup": "J870",
         "marker": {
          "color": "#FECB52",
          "pattern": {
           "shape": ""
          }
         },
         "name": "J870",
         "offsetgroup": "J870",
         "orientation": "h",
         "showlegend": true,
         "textposition": "auto",
         "type": "bar",
         "x": [
          281883790.04774
         ],
         "xaxis": "x",
         "y": [
          "M04"
         ],
         "yaxis": "y"
        },
        {
         "alignmentgroup": "True",
         "base": [
          "2032-05-21T12:20:53.650877"
         ],
         "hovertemplate": "<b>%{hovertext}</b><br><br>Job_ID=J871<br>Scheduled_Start=%{base}<br>Estimated_Completion_Time=%{x}<br>Assigned_Machine=%{y}<extra></extra>",
         "hovertext": [
          "J871"
         ],
         "legendgroup": "J871",
         "marker": {
          "color": "#636efa",
          "pattern": {
           "shape": ""
          }
         },
         "name": "J871",
         "offsetgroup": "J871",
         "orientation": "h",
         "showlegend": true,
         "textposition": "auto",
         "type": "bar",
         "x": [
          256906745.359966
         ],
         "xaxis": "x",
         "y": [
          "M04"
         ],
         "yaxis": "y"
        },
        {
         "alignmentgroup": "True",
         "base": [
          "2032-05-24T12:20:53.650877"
         ],
         "hovertemplate": "<b>%{hovertext}</b><br><br>Job_ID=J872<br>Scheduled_Start=%{base}<br>Estimated_Completion_Time=%{x}<br>Assigned_Machine=%{y}<extra></extra>",
         "hovertext": [
          "J872"
         ],
         "legendgroup": "J872",
         "marker": {
          "color": "#EF553B",
          "pattern": {
           "shape": ""
          }
         },
         "name": "J872",
         "offsetgroup": "J872",
         "orientation": "h",
         "showlegend": true,
         "textposition": "auto",
         "type": "bar",
         "x": [
          324701580.941067
         ],
         "xaxis": "x",
         "y": [
          "M04"
         ],
         "yaxis": "y"
        },
        {
         "alignmentgroup": "True",
         "base": [
          "2032-05-28T07:20:53.650877"
         ],
         "hovertemplate": "<b>%{hovertext}</b><br><br>Job_ID=J873<br>Scheduled_Start=%{base}<br>Estimated_Completion_Time=%{x}<br>Assigned_Machine=%{y}<extra></extra>",
         "hovertext": [
          "J873"
         ],
         "legendgroup": "J873",
         "marker": {
          "color": "#00cc96",
          "pattern": {
           "shape": ""
          }
         },
         "name": "J873",
         "offsetgroup": "J873",
         "orientation": "h",
         "showlegend": true,
         "textposition": "auto",
         "type": "bar",
         "x": [
          392016898.077548
         ],
         "xaxis": "x",
         "y": [
          "M05"
         ],
         "yaxis": "y"
        },
        {
         "alignmentgroup": "True",
         "base": [
          "2032-06-01T20:20:53.650877"
         ],
         "hovertemplate": "<b>%{hovertext}</b><br><br>Job_ID=J874<br>Scheduled_Start=%{base}<br>Estimated_Completion_Time=%{x}<br>Assigned_Machine=%{y}<extra></extra>",
         "hovertext": [
          "J874"
         ],
         "legendgroup": "J874",
         "marker": {
          "color": "#ab63fa",
          "pattern": {
           "shape": ""
          }
         },
         "name": "J874",
         "offsetgroup": "J874",
         "orientation": "h",
         "showlegend": true,
         "textposition": "auto",
         "type": "bar",
         "x": [
          264043043.842186
         ],
         "xaxis": "x",
         "y": [
          "M04"
         ],
         "yaxis": "y"
        },
        {
         "alignmentgroup": "True",
         "base": [
          "2032-06-04T22:20:53.650877"
         ],
         "hovertemplate": "<b>%{hovertext}</b><br><br>Job_ID=J875<br>Scheduled_Start=%{base}<br>Estimated_Completion_Time=%{x}<br>Assigned_Machine=%{y}<extra></extra>",
         "hovertext": [
          "J875"
         ],
         "legendgroup": "J875",
         "marker": {
          "color": "#FFA15A",
          "pattern": {
           "shape": ""
          }
         },
         "name": "J875",
         "offsetgroup": "J875",
         "orientation": "h",
         "showlegend": true,
         "textposition": "auto",
         "type": "bar",
         "x": [
          303292685.494404
         ],
         "xaxis": "x",
         "y": [
          "M04"
         ],
         "yaxis": "y"
        },
        {
         "alignmentgroup": "True",
         "base": [
          "2032-06-08T11:20:53.650877"
         ],
         "hovertemplate": "<b>%{hovertext}</b><br><br>Job_ID=J876<br>Scheduled_Start=%{base}<br>Estimated_Completion_Time=%{x}<br>Assigned_Machine=%{y}<extra></extra>",
         "hovertext": [
          "J876"
         ],
         "legendgroup": "J876",
         "marker": {
          "color": "#19d3f3",
          "pattern": {
           "shape": ""
          }
         },
         "name": "J876",
         "offsetgroup": "J876",
         "orientation": "h",
         "showlegend": true,
         "textposition": "auto",
         "type": "bar",
         "x": [
          196248208.261086
         ],
         "xaxis": "x",
         "y": [
          "M04"
         ],
         "yaxis": "y"
        },
        {
         "alignmentgroup": "True",
         "base": [
          "2032-06-10T18:20:53.650877"
         ],
         "hovertemplate": "<b>%{hovertext}</b><br><br>Job_ID=J877<br>Scheduled_Start=%{base}<br>Estimated_Completion_Time=%{x}<br>Assigned_Machine=%{y}<extra></extra>",
         "hovertext": [
          "J877"
         ],
         "legendgroup": "J877",
         "marker": {
          "color": "#FF6692",
          "pattern": {
           "shape": ""
          }
         },
         "name": "J877",
         "offsetgroup": "J877",
         "orientation": "h",
         "showlegend": true,
         "textposition": "auto",
         "type": "bar",
         "x": [
          82067432.545544
         ],
         "xaxis": "x",
         "y": [
          "M04"
         ],
         "yaxis": "y"
        },
        {
         "alignmentgroup": "True",
         "base": [
          "2032-06-11T17:20:53.650877"
         ],
         "hovertemplate": "<b>%{hovertext}</b><br><br>Job_ID=J878<br>Scheduled_Start=%{base}<br>Estimated_Completion_Time=%{x}<br>Assigned_Machine=%{y}<extra></extra>",
         "hovertext": [
          "J878"
         ],
         "legendgroup": "J878",
         "marker": {
          "color": "#B6E880",
          "pattern": {
           "shape": ""
          }
         },
         "name": "J878",
         "offsetgroup": "J878",
         "orientation": "h",
         "showlegend": true,
         "textposition": "auto",
         "type": "bar",
         "x": [
          417192295.201794
         ],
         "xaxis": "x",
         "y": [
          "M05"
         ],
         "yaxis": "y"
        },
        {
         "alignmentgroup": "True",
         "base": [
          "2032-06-16T13:20:53.650877"
         ],
         "hovertemplate": "<b>%{hovertext}</b><br><br>Job_ID=J879<br>Scheduled_Start=%{base}<br>Estimated_Completion_Time=%{x}<br>Assigned_Machine=%{y}<extra></extra>",
         "hovertext": [
          "J879"
         ],
         "legendgroup": "J879",
         "marker": {
          "color": "#FF97FF",
          "pattern": {
           "shape": ""
          }
         },
         "name": "J879",
         "offsetgroup": "J879",
         "orientation": "h",
         "showlegend": true,
         "textposition": "auto",
         "type": "bar",
         "x": [
          185543760.537752
         ],
         "xaxis": "x",
         "y": [
          "M04"
         ],
         "yaxis": "y"
        },
        {
         "alignmentgroup": "True",
         "base": [
          "2032-06-18T17:20:53.650877"
         ],
         "hovertemplate": "<b>%{hovertext}</b><br><br>Job_ID=J880<br>Scheduled_Start=%{base}<br>Estimated_Completion_Time=%{x}<br>Assigned_Machine=%{y}<extra></extra>",
         "hovertext": [
          "J880"
         ],
         "legendgroup": "J880",
         "marker": {
          "color": "#FECB52",
          "pattern": {
           "shape": ""
          }
         },
         "name": "J880",
         "offsetgroup": "J880",
         "orientation": "h",
         "showlegend": true,
         "textposition": "auto",
         "type": "bar",
         "x": [
          228361551.431079
         ],
         "xaxis": "x",
         "y": [
          "M04"
         ],
         "yaxis": "y"
        },
        {
         "alignmentgroup": "True",
         "base": [
          "2032-06-21T09:20:53.650877"
         ],
         "hovertemplate": "<b>%{hovertext}</b><br><br>Job_ID=J881<br>Scheduled_Start=%{base}<br>Estimated_Completion_Time=%{x}<br>Assigned_Machine=%{y}<extra></extra>",
         "hovertext": [
          "J881"
         ],
         "legendgroup": "J881",
         "marker": {
          "color": "#636efa",
          "pattern": {
           "shape": ""
          }
         },
         "name": "J881",
         "offsetgroup": "J881",
         "orientation": "h",
         "showlegend": true,
         "textposition": "auto",
         "type": "bar",
         "x": [
          374655670.316614
         ],
         "xaxis": "x",
         "y": [
          "M04"
         ],
         "yaxis": "y"
        },
        {
         "alignmentgroup": "True",
         "base": [
          "2032-06-25T18:20:53.650877"
         ],
         "hovertemplate": "<b>%{hovertext}</b><br><br>Job_ID=J882<br>Scheduled_Start=%{base}<br>Estimated_Completion_Time=%{x}<br>Assigned_Machine=%{y}<extra></extra>",
         "hovertext": [
          "J882"
         ],
         "legendgroup": "J882",
         "marker": {
          "color": "#EF553B",
          "pattern": {
           "shape": ""
          }
         },
         "name": "J882",
         "offsetgroup": "J882",
         "orientation": "h",
         "showlegend": true,
         "textposition": "auto",
         "type": "bar",
         "x": [
          214088954.466639
         ],
         "xaxis": "x",
         "y": [
          "M04"
         ],
         "yaxis": "y"
        },
        {
         "alignmentgroup": "True",
         "base": [
          "2032-06-28T06:20:53.650877"
         ],
         "hovertemplate": "<b>%{hovertext}</b><br><br>Job_ID=J883<br>Scheduled_Start=%{base}<br>Estimated_Completion_Time=%{x}<br>Assigned_Machine=%{y}<extra></extra>",
         "hovertext": [
          "J883"
         ],
         "legendgroup": "J883",
         "marker": {
          "color": "#00cc96",
          "pattern": {
           "shape": ""
          }
         },
         "name": "J883",
         "offsetgroup": "J883",
         "orientation": "h",
         "showlegend": true,
         "textposition": "auto",
         "type": "bar",
         "x": [
          154648868.048942
         ],
         "xaxis": "x",
         "y": [
          "M05"
         ],
         "yaxis": "y"
        },
        {
         "alignmentgroup": "True",
         "base": [
          "2032-06-30T01:20:53.650877"
         ],
         "hovertemplate": "<b>%{hovertext}</b><br><br>Job_ID=J884<br>Scheduled_Start=%{base}<br>Estimated_Completion_Time=%{x}<br>Assigned_Machine=%{y}<extra></extra>",
         "hovertext": [
          "J884"
         ],
         "legendgroup": "J884",
         "marker": {
          "color": "#ab63fa",
          "pattern": {
           "shape": ""
          }
         },
         "name": "J884",
         "offsetgroup": "J884",
         "orientation": "h",
         "showlegend": true,
         "textposition": "auto",
         "type": "bar",
         "x": [
          115087529.710839
         ],
         "xaxis": "x",
         "y": [
          "M05"
         ],
         "yaxis": "y"
        },
        {
         "alignmentgroup": "True",
         "base": [
          "2032-07-01T09:20:53.650877"
         ],
         "hovertemplate": "<b>%{hovertext}</b><br><br>Job_ID=J885<br>Scheduled_Start=%{base}<br>Estimated_Completion_Time=%{x}<br>Assigned_Machine=%{y}<extra></extra>",
         "hovertext": [
          "J885"
         ],
         "legendgroup": "J885",
         "marker": {
          "color": "#FFA15A",
          "pattern": {
           "shape": ""
          }
         },
         "name": "J885",
         "offsetgroup": "J885",
         "orientation": "h",
         "showlegend": true,
         "textposition": "auto",
         "type": "bar",
         "x": [
          160566715.849978
         ],
         "xaxis": "x",
         "y": [
          "M04"
         ],
         "yaxis": "y"
        },
        {
         "alignmentgroup": "True",
         "base": [
          "2032-07-03T06:20:53.650877"
         ],
         "hovertemplate": "<b>%{hovertext}</b><br><br>Job_ID=J886<br>Scheduled_Start=%{base}<br>Estimated_Completion_Time=%{x}<br>Assigned_Machine=%{y}<extra></extra>",
         "hovertext": [
          "J886"
         ],
         "legendgroup": "J886",
         "marker": {
          "color": "#19d3f3",
          "pattern": {
           "shape": ""
          }
         },
         "name": "J886",
         "offsetgroup": "J886",
         "orientation": "h",
         "showlegend": true,
         "textposition": "auto",
         "type": "bar",
         "x": [
          89203731.027764
         ],
         "xaxis": "x",
         "y": [
          "M04"
         ],
         "yaxis": "y"
        },
        {
         "alignmentgroup": "True",
         "base": [
          "2032-07-04T07:20:53.650877"
         ],
         "hovertemplate": "<b>%{hovertext}</b><br><br>Job_ID=J887<br>Scheduled_Start=%{base}<br>Estimated_Completion_Time=%{x}<br>Assigned_Machine=%{y}<extra></extra>",
         "hovertext": [
          "J887"
         ],
         "legendgroup": "J887",
         "marker": {
          "color": "#FF6692",
          "pattern": {
           "shape": ""
          }
         },
         "name": "J887",
         "offsetgroup": "J887",
         "orientation": "h",
         "showlegend": true,
         "textposition": "auto",
         "type": "bar",
         "x": [
          374655670.316614
         ],
         "xaxis": "x",
         "y": [
          "M04"
         ],
         "yaxis": "y"
        },
        {
         "alignmentgroup": "True",
         "base": [
          "2032-07-08T16:20:53.650877"
         ],
         "hovertemplate": "<b>%{hovertext}</b><br><br>Job_ID=J888<br>Scheduled_Start=%{base}<br>Estimated_Completion_Time=%{x}<br>Assigned_Machine=%{y}<extra></extra>",
         "hovertext": [
          "J888"
         ],
         "legendgroup": "J888",
         "marker": {
          "color": "#B6E880",
          "pattern": {
           "shape": ""
          }
         },
         "name": "J888",
         "offsetgroup": "J888",
         "orientation": "h",
         "showlegend": true,
         "textposition": "auto",
         "type": "bar",
         "x": [
          292588237.77107
         ],
         "xaxis": "x",
         "y": [
          "M04"
         ],
         "yaxis": "y"
        },
        {
         "alignmentgroup": "True",
         "base": [
          "2032-07-12T02:20:53.650877"
         ],
         "hovertemplate": "<b>%{hovertext}</b><br><br>Job_ID=J889<br>Scheduled_Start=%{base}<br>Estimated_Completion_Time=%{x}<br>Assigned_Machine=%{y}<extra></extra>",
         "hovertext": [
          "J889"
         ],
         "legendgroup": "J889",
         "marker": {
          "color": "#FF97FF",
          "pattern": {
           "shape": ""
          }
         },
         "name": "J889",
         "offsetgroup": "J889",
         "orientation": "h",
         "showlegend": true,
         "textposition": "auto",
         "type": "bar",
         "x": [
          278315640.80663
         ],
         "xaxis": "x",
         "y": [
          "M04"
         ],
         "yaxis": "y"
        },
        {
         "alignmentgroup": "True",
         "base": [
          "2032-07-15T08:20:53.650877"
         ],
         "hovertemplate": "<b>%{hovertext}</b><br><br>Job_ID=J890<br>Scheduled_Start=%{base}<br>Estimated_Completion_Time=%{x}<br>Assigned_Machine=%{y}<extra></extra>",
         "hovertext": [
          "J890"
         ],
         "legendgroup": "J890",
         "marker": {
          "color": "#FECB52",
          "pattern": {
           "shape": ""
          }
         },
         "name": "J890",
         "offsetgroup": "J890",
         "orientation": "h",
         "showlegend": true,
         "textposition": "auto",
         "type": "bar",
         "x": [
          107044477.233318
         ],
         "xaxis": "x",
         "y": [
          "M04"
         ],
         "yaxis": "y"
        },
        {
         "alignmentgroup": "True",
         "base": [
          "2032-07-16T14:20:53.650877"
         ],
         "hovertemplate": "<b>%{hovertext}</b><br><br>Job_ID=J891<br>Scheduled_Start=%{base}<br>Estimated_Completion_Time=%{x}<br>Assigned_Machine=%{y}<extra></extra>",
         "hovertext": [
          "J891"
         ],
         "legendgroup": "J891",
         "marker": {
          "color": "#636efa",
          "pattern": {
           "shape": ""
          }
         },
         "name": "J891",
         "offsetgroup": "J891",
         "orientation": "h",
         "showlegend": true,
         "textposition": "auto",
         "type": "bar",
         "x": [
          371087521.075504
         ],
         "xaxis": "x",
         "y": [
          "M04"
         ],
         "yaxis": "y"
        },
        {
         "alignmentgroup": "True",
         "base": [
          "2032-07-20T22:20:53.650877"
         ],
         "hovertemplate": "<b>%{hovertext}</b><br><br>Job_ID=J892<br>Scheduled_Start=%{base}<br>Estimated_Completion_Time=%{x}<br>Assigned_Machine=%{y}<extra></extra>",
         "hovertext": [
          "J892"
         ],
         "legendgroup": "J892",
         "marker": {
          "color": "#EF553B",
          "pattern": {
           "shape": ""
          }
         },
         "name": "J892",
         "offsetgroup": "J892",
         "orientation": "h",
         "showlegend": true,
         "textposition": "auto",
         "type": "bar",
         "x": [
          153430417.367758
         ],
         "xaxis": "x",
         "y": [
          "M04"
         ],
         "yaxis": "y"
        },
        {
         "alignmentgroup": "True",
         "base": [
          "2032-07-22T17:20:53.650877"
         ],
         "hovertemplate": "<b>%{hovertext}</b><br><br>Job_ID=J893<br>Scheduled_Start=%{base}<br>Estimated_Completion_Time=%{x}<br>Assigned_Machine=%{y}<extra></extra>",
         "hovertext": [
          "J893"
         ],
         "legendgroup": "J893",
         "marker": {
          "color": "#00cc96",
          "pattern": {
           "shape": ""
          }
         },
         "name": "J893",
         "offsetgroup": "J893",
         "orientation": "h",
         "showlegend": true,
         "textposition": "auto",
         "type": "bar",
         "x": [
          410337162.727722
         ],
         "xaxis": "x",
         "y": [
          "M04"
         ],
         "yaxis": "y"
        },
        {
         "alignmentgroup": "True",
         "base": [
          "2032-07-27T12:20:53.650877"
         ],
         "hovertemplate": "<b>%{hovertext}</b><br><br>Job_ID=J894<br>Scheduled_Start=%{base}<br>Estimated_Completion_Time=%{x}<br>Assigned_Machine=%{y}<extra></extra>",
         "hovertext": [
          "J894"
         ],
         "legendgroup": "J894",
         "marker": {
          "color": "#ab63fa",
          "pattern": {
           "shape": ""
          }
         },
         "name": "J894",
         "offsetgroup": "J894",
         "orientation": "h",
         "showlegend": true,
         "textposition": "auto",
         "type": "bar",
         "x": [
          242634148.395523
         ],
         "xaxis": "x",
         "y": [
          "M04"
         ],
         "yaxis": "y"
        },
        {
         "alignmentgroup": "True",
         "base": [
          "2032-07-30T08:20:53.650877"
         ],
         "hovertemplate": "<b>%{hovertext}</b><br><br>Job_ID=J895<br>Scheduled_Start=%{base}<br>Estimated_Completion_Time=%{x}<br>Assigned_Machine=%{y}<extra></extra>",
         "hovertext": [
          "J895"
         ],
         "legendgroup": "J895",
         "marker": {
          "color": "#FFA15A",
          "pattern": {
           "shape": ""
          }
         },
         "name": "J895",
         "offsetgroup": "J895",
         "orientation": "h",
         "showlegend": true,
         "textposition": "auto",
         "type": "bar",
         "x": [
          292588237.77107
         ],
         "xaxis": "x",
         "y": [
          "M04"
         ],
         "yaxis": "y"
        },
        {
         "alignmentgroup": "True",
         "base": [
          "2032-08-02T18:20:53.650877"
         ],
         "hovertemplate": "<b>%{hovertext}</b><br><br>Job_ID=J896<br>Scheduled_Start=%{base}<br>Estimated_Completion_Time=%{x}<br>Assigned_Machine=%{y}<extra></extra>",
         "hovertext": [
          "J896"
         ],
         "legendgroup": "J896",
         "marker": {
          "color": "#19d3f3",
          "pattern": {
           "shape": ""
          }
         },
         "name": "J896",
         "offsetgroup": "J896",
         "orientation": "h",
         "showlegend": true,
         "textposition": "auto",
         "type": "bar",
         "x": [
          388928267.281058
         ],
         "xaxis": "x",
         "y": [
          "M04"
         ],
         "yaxis": "y"
        },
        {
         "alignmentgroup": "True",
         "base": [
          "2032-08-07T07:20:53.650877"
         ],
         "hovertemplate": "<b>%{hovertext}</b><br><br>Job_ID=J897<br>Scheduled_Start=%{base}<br>Estimated_Completion_Time=%{x}<br>Assigned_Machine=%{y}<extra></extra>",
         "hovertext": [
          "J897"
         ],
         "legendgroup": "J897",
         "marker": {
          "color": "#FF6692",
          "pattern": {
           "shape": ""
          }
         },
         "name": "J897",
         "offsetgroup": "J897",
         "orientation": "h",
         "showlegend": true,
         "textposition": "auto",
         "type": "bar",
         "x": [
          214088954.466639
         ],
         "xaxis": "x",
         "y": [
          "M04"
         ],
         "yaxis": "y"
        },
        {
         "alignmentgroup": "True",
         "base": [
          "2032-08-09T19:20:53.650877"
         ],
         "hovertemplate": "<b>%{hovertext}</b><br><br>Job_ID=J898<br>Scheduled_Start=%{base}<br>Estimated_Completion_Time=%{x}<br>Assigned_Machine=%{y}<extra></extra>",
         "hovertext": [
          "J898"
         ],
         "legendgroup": "J898",
         "marker": {
          "color": "#B6E880",
          "pattern": {
           "shape": ""
          }
         },
         "name": "J898",
         "offsetgroup": "J898",
         "orientation": "h",
         "showlegend": true,
         "textposition": "auto",
         "type": "bar",
         "x": [
          71362984.822214
         ],
         "xaxis": "x",
         "y": [
          "M04"
         ],
         "yaxis": "y"
        },
        {
         "alignmentgroup": "True",
         "base": [
          "2032-08-10T15:20:53.650877"
         ],
         "hovertemplate": "<b>%{hovertext}</b><br><br>Job_ID=J899<br>Scheduled_Start=%{base}<br>Estimated_Completion_Time=%{x}<br>Assigned_Machine=%{y}<extra></extra>",
         "hovertext": [
          "J899"
         ],
         "legendgroup": "J899",
         "marker": {
          "color": "#FF97FF",
          "pattern": {
           "shape": ""
          }
         },
         "name": "J899",
         "offsetgroup": "J899",
         "orientation": "h",
         "showlegend": true,
         "textposition": "auto",
         "type": "bar",
         "x": [
          269736397.759782
         ],
         "xaxis": "x",
         "y": [
          "M05"
         ],
         "yaxis": "y"
        },
        {
         "alignmentgroup": "True",
         "base": [
          "2032-08-13T18:20:53.650877"
         ],
         "hovertemplate": "<b>%{hovertext}</b><br><br>Job_ID=J900<br>Scheduled_Start=%{base}<br>Estimated_Completion_Time=%{x}<br>Assigned_Machine=%{y}<extra></extra>",
         "hovertext": [
          "J900"
         ],
         "legendgroup": "J900",
         "marker": {
          "color": "#FECB52",
          "pattern": {
           "shape": ""
          }
         },
         "name": "J900",
         "offsetgroup": "J900",
         "orientation": "h",
         "showlegend": true,
         "textposition": "auto",
         "type": "bar",
         "x": [
          210520805.225526
         ],
         "xaxis": "x",
         "y": [
          "M04"
         ],
         "yaxis": "y"
        },
        {
         "alignmentgroup": "True",
         "base": [
          "2032-08-16T05:20:53.650877"
         ],
         "hovertemplate": "<b>%{hovertext}</b><br><br>Job_ID=J901<br>Scheduled_Start=%{base}<br>Estimated_Completion_Time=%{x}<br>Assigned_Machine=%{y}<extra></extra>",
         "hovertext": [
          "J901"
         ],
         "legendgroup": "J901",
         "marker": {
          "color": "#636efa",
          "pattern": {
           "shape": ""
          }
         },
         "name": "J901",
         "offsetgroup": "J901",
         "orientation": "h",
         "showlegend": true,
         "textposition": "auto",
         "type": "bar",
         "x": [
          338069618.525592
         ],
         "xaxis": "x",
         "y": [
          "M05"
         ],
         "yaxis": "y"
        },
        {
         "alignmentgroup": "True",
         "base": [
          "2032-08-20T03:20:53.650877"
         ],
         "hovertemplate": "<b>%{hovertext}</b><br><br>Job_ID=J902<br>Scheduled_Start=%{base}<br>Estimated_Completion_Time=%{x}<br>Assigned_Machine=%{y}<extra></extra>",
         "hovertext": [
          "J902"
         ],
         "legendgroup": "J902",
         "marker": {
          "color": "#EF553B",
          "pattern": {
           "shape": ""
          }
         },
         "name": "J902",
         "offsetgroup": "J902",
         "orientation": "h",
         "showlegend": true,
         "textposition": "auto",
         "type": "bar",
         "x": [
          367519371.834394
         ],
         "xaxis": "x",
         "y": [
          "M04"
         ],
         "yaxis": "y"
        },
        {
         "alignmentgroup": "True",
         "base": [
          "2032-08-24T10:20:53.650877"
         ],
         "hovertemplate": "<b>%{hovertext}</b><br><br>Job_ID=J903<br>Scheduled_Start=%{base}<br>Estimated_Completion_Time=%{x}<br>Assigned_Machine=%{y}<extra></extra>",
         "hovertext": [
          "J903"
         ],
         "legendgroup": "J903",
         "marker": {
          "color": "#00cc96",
          "pattern": {
           "shape": ""
          }
         },
         "name": "J903",
         "offsetgroup": "J903",
         "orientation": "h",
         "showlegend": true,
         "textposition": "auto",
         "type": "bar",
         "x": [
          338974177.905511
         ],
         "xaxis": "x",
         "y": [
          "M04"
         ],
         "yaxis": "y"
        },
        {
         "alignmentgroup": "True",
         "base": [
          "2032-08-28T09:20:53.650877"
         ],
         "hovertemplate": "<b>%{hovertext}</b><br><br>Job_ID=J904<br>Scheduled_Start=%{base}<br>Estimated_Completion_Time=%{x}<br>Assigned_Machine=%{y}<extra></extra>",
         "hovertext": [
          "J904"
         ],
         "legendgroup": "J904",
         "marker": {
          "color": "#ab63fa",
          "pattern": {
           "shape": ""
          }
         },
         "name": "J904",
         "offsetgroup": "J904",
         "orientation": "h",
         "showlegend": true,
         "textposition": "auto",
         "type": "bar",
         "x": [
          233771544.725144
         ],
         "xaxis": "x",
         "y": [
          "M05"
         ],
         "yaxis": "y"
        },
        {
         "alignmentgroup": "True",
         "base": [
          "2032-08-31T02:20:53.650877"
         ],
         "hovertemplate": "<b>%{hovertext}</b><br><br>Job_ID=J905<br>Scheduled_Start=%{base}<br>Estimated_Completion_Time=%{x}<br>Assigned_Machine=%{y}<extra></extra>",
         "hovertext": [
          "J905"
         ],
         "legendgroup": "J905",
         "marker": {
          "color": "#FFA15A",
          "pattern": {
           "shape": ""
          }
         },
         "name": "J905",
         "offsetgroup": "J905",
         "orientation": "h",
         "showlegend": true,
         "textposition": "auto",
         "type": "bar",
         "x": [
          172631294.566261
         ],
         "xaxis": "x",
         "y": [
          "M05"
         ],
         "yaxis": "y"
        },
        {
         "alignmentgroup": "True",
         "base": [
          "2032-09-02T02:20:53.650877"
         ],
         "hovertemplate": "<b>%{hovertext}</b><br><br>Job_ID=J906<br>Scheduled_Start=%{base}<br>Estimated_Completion_Time=%{x}<br>Assigned_Machine=%{y}<extra></extra>",
         "hovertext": [
          "J906"
         ],
         "legendgroup": "J906",
         "marker": {
          "color": "#19d3f3",
          "pattern": {
           "shape": ""
          }
         },
         "name": "J906",
         "offsetgroup": "J906",
         "orientation": "h",
         "showlegend": true,
         "textposition": "auto",
         "type": "bar",
         "x": [
          214088954.466639
         ],
         "xaxis": "x",
         "y": [
          "M04"
         ],
         "yaxis": "y"
        },
        {
         "alignmentgroup": "True",
         "base": [
          "2032-09-04T14:20:53.650877"
         ],
         "hovertemplate": "<b>%{hovertext}</b><br><br>Job_ID=J907<br>Scheduled_Start=%{base}<br>Estimated_Completion_Time=%{x}<br>Assigned_Machine=%{y}<extra></extra>",
         "hovertext": [
          "J907"
         ],
         "legendgroup": "J907",
         "marker": {
          "color": "#FF6692",
          "pattern": {
           "shape": ""
          }
         },
         "name": "J907",
         "offsetgroup": "J907",
         "orientation": "h",
         "showlegend": true,
         "textposition": "auto",
         "type": "bar",
         "x": [
          321133431.699957
         ],
         "xaxis": "x",
         "y": [
          "M04"
         ],
         "yaxis": "y"
        },
        {
         "alignmentgroup": "True",
         "base": [
          "2032-09-08T08:20:53.650877"
         ],
         "hovertemplate": "<b>%{hovertext}</b><br><br>Job_ID=J908<br>Scheduled_Start=%{base}<br>Estimated_Completion_Time=%{x}<br>Assigned_Machine=%{y}<extra></extra>",
         "hovertext": [
          "J908"
         ],
         "legendgroup": "J908",
         "marker": {
          "color": "#B6E880",
          "pattern": {
           "shape": ""
          }
         },
         "name": "J908",
         "offsetgroup": "J908",
         "orientation": "h",
         "showlegend": true,
         "textposition": "auto",
         "type": "bar",
         "x": [
          378223819.557728
         ],
         "xaxis": "x",
         "y": [
          "M04"
         ],
         "yaxis": "y"
        },
        {
         "alignmentgroup": "True",
         "base": [
          "2032-09-12T18:20:53.650877"
         ],
         "hovertemplate": "<b>%{hovertext}</b><br><br>Job_ID=J909<br>Scheduled_Start=%{base}<br>Estimated_Completion_Time=%{x}<br>Assigned_Machine=%{y}<extra></extra>",
         "hovertext": [
          "J909"
         ],
         "legendgroup": "J909",
         "marker": {
          "color": "#FF97FF",
          "pattern": {
           "shape": ""
          }
         },
         "name": "J909",
         "offsetgroup": "J909",
         "orientation": "h",
         "showlegend": true,
         "textposition": "auto",
         "type": "bar",
         "x": [
          413905311.968832
         ],
         "xaxis": "x",
         "y": [
          "M04"
         ],
         "yaxis": "y"
        },
        {
         "alignmentgroup": "True",
         "base": [
          "2032-09-17T14:20:53.650877"
         ],
         "hovertemplate": "<b>%{hovertext}</b><br><br>Job_ID=J910<br>Scheduled_Start=%{base}<br>Estimated_Completion_Time=%{x}<br>Assigned_Machine=%{y}<extra></extra>",
         "hovertext": [
          "J910"
         ],
         "legendgroup": "J910",
         "marker": {
          "color": "#FECB52",
          "pattern": {
           "shape": ""
          }
         },
         "name": "J910",
         "offsetgroup": "J910",
         "orientation": "h",
         "showlegend": true,
         "textposition": "auto",
         "type": "bar",
         "x": [
          135589671.162205
         ],
         "xaxis": "x",
         "y": [
          "M04"
         ],
         "yaxis": "y"
        },
        {
         "alignmentgroup": "True",
         "base": [
          "2032-09-19T04:20:53.650877"
         ],
         "hovertemplate": "<b>%{hovertext}</b><br><br>Job_ID=J911<br>Scheduled_Start=%{base}<br>Estimated_Completion_Time=%{x}<br>Assigned_Machine=%{y}<extra></extra>",
         "hovertext": [
          "J911"
         ],
         "legendgroup": "J911",
         "marker": {
          "color": "#636efa",
          "pattern": {
           "shape": ""
          }
         },
         "name": "J911",
         "offsetgroup": "J911",
         "orientation": "h",
         "showlegend": true,
         "textposition": "auto",
         "type": "bar",
         "x": [
          399632715.004392
         ],
         "xaxis": "x",
         "y": [
          "M04"
         ],
         "yaxis": "y"
        },
        {
         "alignmentgroup": "True",
         "base": [
          "2032-09-23T20:20:53.650877"
         ],
         "hovertemplate": "<b>%{hovertext}</b><br><br>Job_ID=J912<br>Scheduled_Start=%{base}<br>Estimated_Completion_Time=%{x}<br>Assigned_Machine=%{y}<extra></extra>",
         "hovertext": [
          "J912"
         ],
         "legendgroup": "J912",
         "marker": {
          "color": "#EF553B",
          "pattern": {
           "shape": ""
          }
         },
         "name": "J912",
         "offsetgroup": "J912",
         "orientation": "h",
         "showlegend": true,
         "textposition": "auto",
         "type": "bar",
         "x": [
          256906745.359966
         ],
         "xaxis": "x",
         "y": [
          "M04"
         ],
         "yaxis": "y"
        },
        {
         "alignmentgroup": "True",
         "base": [
          "2032-09-26T20:20:53.650877"
         ],
         "hovertemplate": "<b>%{hovertext}</b><br><br>Job_ID=J913<br>Scheduled_Start=%{base}<br>Estimated_Completion_Time=%{x}<br>Assigned_Machine=%{y}<extra></extra>",
         "hovertext": [
          "J913"
         ],
         "legendgroup": "J913",
         "marker": {
          "color": "#00cc96",
          "pattern": {
           "shape": ""
          }
         },
         "name": "J913",
         "offsetgroup": "J913",
         "orientation": "h",
         "showlegend": true,
         "textposition": "auto",
         "type": "bar",
         "x": [
          110612626.474428
         ],
         "xaxis": "x",
         "y": [
          "M04"
         ],
         "yaxis": "y"
        },
        {
         "alignmentgroup": "True",
         "base": [
          "2032-09-28T03:20:53.650877"
         ],
         "hovertemplate": "<b>%{hovertext}</b><br><br>Job_ID=J914<br>Scheduled_Start=%{base}<br>Estimated_Completion_Time=%{x}<br>Assigned_Machine=%{y}<extra></extra>",
         "hovertext": [
          "J914"
         ],
         "legendgroup": "J914",
         "marker": {
          "color": "#ab63fa",
          "pattern": {
           "shape": ""
          }
         },
         "name": "J914",
         "offsetgroup": "J914",
         "orientation": "h",
         "showlegend": true,
         "textposition": "auto",
         "type": "bar",
         "x": [
          258946941.84939
         ],
         "xaxis": "x",
         "y": [
          "M05"
         ],
         "yaxis": "y"
        },
        {
         "alignmentgroup": "True",
         "base": [
          "2032-10-01T03:20:53.650877"
         ],
         "hovertemplate": "<b>%{hovertext}</b><br><br>Job_ID=J915<br>Scheduled_Start=%{base}<br>Estimated_Completion_Time=%{x}<br>Assigned_Machine=%{y}<extra></extra>",
         "hovertext": [
          "J915"
         ],
         "legendgroup": "J915",
         "marker": {
          "color": "#FFA15A",
          "pattern": {
           "shape": ""
          }
         },
         "name": "J915",
         "offsetgroup": "J915",
         "orientation": "h",
         "showlegend": true,
         "textposition": "auto",
         "type": "bar",
         "x": [
          296156387.012183
         ],
         "xaxis": "x",
         "y": [
          "M04"
         ],
         "yaxis": "y"
        },
        {
         "alignmentgroup": "True",
         "base": [
          "2032-10-04T14:20:53.650877"
         ],
         "hovertemplate": "<b>%{hovertext}</b><br><br>Job_ID=J916<br>Scheduled_Start=%{base}<br>Estimated_Completion_Time=%{x}<br>Assigned_Machine=%{y}<extra></extra>",
         "hovertext": [
          "J916"
         ],
         "legendgroup": "J916",
         "marker": {
          "color": "#19d3f3",
          "pattern": {
           "shape": ""
          }
         },
         "name": "J916",
         "offsetgroup": "J916",
         "orientation": "h",
         "showlegend": true,
         "textposition": "auto",
         "type": "bar",
         "x": [
          110612626.474428
         ],
         "xaxis": "x",
         "y": [
          "M04"
         ],
         "yaxis": "y"
        },
        {
         "alignmentgroup": "True",
         "base": [
          "2032-10-05T21:20:53.650877"
         ],
         "hovertemplate": "<b>%{hovertext}</b><br><br>Job_ID=J917<br>Scheduled_Start=%{base}<br>Estimated_Completion_Time=%{x}<br>Assigned_Machine=%{y}<extra></extra>",
         "hovertext": [
          "J917"
         ],
         "legendgroup": "J917",
         "marker": {
          "color": "#FF6692",
          "pattern": {
           "shape": ""
          }
         },
         "name": "J917",
         "offsetgroup": "J917",
         "orientation": "h",
         "showlegend": true,
         "textposition": "auto",
         "type": "bar",
         "x": [
          142725969.644425
         ],
         "xaxis": "x",
         "y": [
          "M04"
         ],
         "yaxis": "y"
        },
        {
         "alignmentgroup": "True",
         "base": [
          "2032-10-07T13:20:53.650877"
         ],
         "hovertemplate": "<b>%{hovertext}</b><br><br>Job_ID=J918<br>Scheduled_Start=%{base}<br>Estimated_Completion_Time=%{x}<br>Assigned_Machine=%{y}<extra></extra>",
         "hovertext": [
          "J918"
         ],
         "legendgroup": "J918",
         "marker": {
          "color": "#B6E880",
          "pattern": {
           "shape": ""
          }
         },
         "name": "J918",
         "offsetgroup": "J918",
         "orientation": "h",
         "showlegend": true,
         "textposition": "auto",
         "type": "bar",
         "x": [
          413905311.968832
         ],
         "xaxis": "x",
         "y": [
          "M04"
         ],
         "yaxis": "y"
        },
        {
         "alignmentgroup": "True",
         "base": [
          "2032-10-12T09:20:53.650877"
         ],
         "hovertemplate": "<b>%{hovertext}</b><br><br>Job_ID=J919<br>Scheduled_Start=%{base}<br>Estimated_Completion_Time=%{x}<br>Assigned_Machine=%{y}<extra></extra>",
         "hovertext": [
          "J919"
         ],
         "legendgroup": "J919",
         "marker": {
          "color": "#FF97FF",
          "pattern": {
           "shape": ""
          }
         },
         "name": "J919",
         "offsetgroup": "J919",
         "orientation": "h",
         "showlegend": true,
         "textposition": "auto",
         "type": "bar",
         "x": [
          171271163.573308
         ],
         "xaxis": "x",
         "y": [
          "M04"
         ],
         "yaxis": "y"
        },
        {
         "alignmentgroup": "True",
         "base": [
          "2032-10-14T09:20:53.650877"
         ],
         "hovertemplate": "<b>%{hovertext}</b><br><br>Job_ID=J920<br>Scheduled_Start=%{base}<br>Estimated_Completion_Time=%{x}<br>Assigned_Machine=%{y}<extra></extra>",
         "hovertext": [
          "J920"
         ],
         "legendgroup": "J920",
         "marker": {
          "color": "#FECB52",
          "pattern": {
           "shape": ""
          }
         },
         "name": "J920",
         "offsetgroup": "J920",
         "orientation": "h",
         "showlegend": true,
         "textposition": "auto",
         "type": "bar",
         "x": [
          153430417.367758
         ],
         "xaxis": "x",
         "y": [
          "M04"
         ],
         "yaxis": "y"
        },
        {
         "alignmentgroup": "True",
         "base": [
          "2032-10-16T04:20:53.650877"
         ],
         "hovertemplate": "<b>%{hovertext}</b><br><br>Job_ID=J921<br>Scheduled_Start=%{base}<br>Estimated_Completion_Time=%{x}<br>Assigned_Machine=%{y}<extra></extra>",
         "hovertext": [
          "J921"
         ],
         "legendgroup": "J921",
         "marker": {
          "color": "#636efa",
          "pattern": {
           "shape": ""
          }
         },
         "name": "J921",
         "offsetgroup": "J921",
         "orientation": "h",
         "showlegend": true,
         "textposition": "auto",
         "type": "bar",
         "x": [
          321133431.699957
         ],
         "xaxis": "x",
         "y": [
          "M04"
         ],
         "yaxis": "y"
        },
        {
         "alignmentgroup": "True",
         "base": [
          "2032-10-19T22:20:53.650877"
         ],
         "hovertemplate": "<b>%{hovertext}</b><br><br>Job_ID=J922<br>Scheduled_Start=%{base}<br>Estimated_Completion_Time=%{x}<br>Assigned_Machine=%{y}<extra></extra>",
         "hovertext": [
          "J922"
         ],
         "legendgroup": "J922",
         "marker": {
          "color": "#EF553B",
          "pattern": {
           "shape": ""
          }
         },
         "name": "J922",
         "offsetgroup": "J922",
         "orientation": "h",
         "showlegend": true,
         "textposition": "auto",
         "type": "bar",
         "x": [
          164134865.091088
         ],
         "xaxis": "x",
         "y": [
          "M04"
         ],
         "yaxis": "y"
        },
        {
         "alignmentgroup": "True",
         "base": [
          "2032-10-21T20:20:53.650877"
         ],
         "hovertemplate": "<b>%{hovertext}</b><br><br>Job_ID=J923<br>Scheduled_Start=%{base}<br>Estimated_Completion_Time=%{x}<br>Assigned_Machine=%{y}<extra></extra>",
         "hovertext": [
          "J923"
         ],
         "legendgroup": "J923",
         "marker": {
          "color": "#00cc96",
          "pattern": {
           "shape": ""
          }
         },
         "name": "J923",
         "offsetgroup": "J923",
         "orientation": "h",
         "showlegend": true,
         "textposition": "auto",
         "type": "bar",
         "x": [
          324701580.941067
         ],
         "xaxis": "x",
         "y": [
          "M04"
         ],
         "yaxis": "y"
        },
        {
         "alignmentgroup": "True",
         "base": [
          "2032-10-25T15:20:53.650877"
         ],
         "hovertemplate": "<b>%{hovertext}</b><br><br>Job_ID=J924<br>Scheduled_Start=%{base}<br>Estimated_Completion_Time=%{x}<br>Assigned_Machine=%{y}<extra></extra>",
         "hovertext": [
          "J924"
         ],
         "legendgroup": "J924",
         "marker": {
          "color": "#ab63fa",
          "pattern": {
           "shape": ""
          }
         },
         "name": "J924",
         "offsetgroup": "J924",
         "orientation": "h",
         "showlegend": true,
         "textposition": "auto",
         "type": "bar",
         "x": [
          302104765.490954
         ],
         "xaxis": "x",
         "y": [
          "M05"
         ],
         "yaxis": "y"
        },
        {
         "alignmentgroup": "True",
         "base": [
          "2032-10-29T03:20:53.650877"
         ],
         "hovertemplate": "<b>%{hovertext}</b><br><br>Job_ID=J925<br>Scheduled_Start=%{base}<br>Estimated_Completion_Time=%{x}<br>Assigned_Machine=%{y}<extra></extra>",
         "hovertext": [
          "J925"
         ],
         "legendgroup": "J925",
         "marker": {
          "color": "#FFA15A",
          "pattern": {
           "shape": ""
          }
         },
         "name": "J925",
         "offsetgroup": "J925",
         "orientation": "h",
         "showlegend": true,
         "textposition": "auto",
         "type": "bar",
         "x": [
          107894559.103912
         ],
         "xaxis": "x",
         "y": [
          "M05"
         ],
         "yaxis": "y"
        },
        {
         "alignmentgroup": "True",
         "base": [
          "2032-10-30T09:20:53.650877"
         ],
         "hovertemplate": "<b>%{hovertext}</b><br><br>Job_ID=J926<br>Scheduled_Start=%{base}<br>Estimated_Completion_Time=%{x}<br>Assigned_Machine=%{y}<extra></extra>",
         "hovertext": [
          "J926"
         ],
         "legendgroup": "J926",
         "marker": {
          "color": "#19d3f3",
          "pattern": {
           "shape": ""
          }
         },
         "name": "J926",
         "offsetgroup": "J926",
         "orientation": "h",
         "showlegend": true,
         "textposition": "auto",
         "type": "bar",
         "x": [
          413595809.898332
         ],
         "xaxis": "x",
         "y": [
          "M05"
         ],
         "yaxis": "y"
        },
        {
         "alignmentgroup": "True",
         "base": [
          "2032-11-04T04:20:53.650877"
         ],
         "hovertemplate": "<b>%{hovertext}</b><br><br>Job_ID=J927<br>Scheduled_Start=%{base}<br>Estimated_Completion_Time=%{x}<br>Assigned_Machine=%{y}<extra></extra>",
         "hovertext": [
          "J927"
         ],
         "legendgroup": "J927",
         "marker": {
          "color": "#FF6692",
          "pattern": {
           "shape": ""
          }
         },
         "name": "J927",
         "offsetgroup": "J927",
         "orientation": "h",
         "showlegend": true,
         "textposition": "auto",
         "type": "bar",
         "x": [
          214088954.466639
         ],
         "xaxis": "x",
         "y": [
          "M04"
         ],
         "yaxis": "y"
        },
        {
         "alignmentgroup": "True",
         "base": [
          "2032-11-06T16:20:53.650877"
         ],
         "hovertemplate": "<b>%{hovertext}</b><br><br>Job_ID=J928<br>Scheduled_Start=%{base}<br>Estimated_Completion_Time=%{x}<br>Assigned_Machine=%{y}<extra></extra>",
         "hovertext": [
          "J928"
         ],
         "legendgroup": "J928",
         "marker": {
          "color": "#B6E880",
          "pattern": {
           "shape": ""
          }
         },
         "name": "J928",
         "offsetgroup": "J928",
         "orientation": "h",
         "showlegend": true,
         "textposition": "auto",
         "type": "bar",
         "x": [
          356814924.111064
         ],
         "xaxis": "x",
         "y": [
          "M04"
         ],
         "yaxis": "y"
        },
        {
         "alignmentgroup": "True",
         "base": [
          "2032-11-10T20:20:53.650877"
         ],
         "hovertemplate": "<b>%{hovertext}</b><br><br>Job_ID=J929<br>Scheduled_Start=%{base}<br>Estimated_Completion_Time=%{x}<br>Assigned_Machine=%{y}<extra></extra>",
         "hovertext": [
          "J929"
         ],
         "legendgroup": "J929",
         "marker": {
          "color": "#FF97FF",
          "pattern": {
           "shape": ""
          }
         },
         "name": "J929",
         "offsetgroup": "J929",
         "orientation": "h",
         "showlegend": true,
         "textposition": "auto",
         "type": "bar",
         "x": [
          338974177.905511
         ],
         "xaxis": "x",
         "y": [
          "M04"
         ],
         "yaxis": "y"
        },
        {
         "alignmentgroup": "True",
         "base": [
          "2032-11-14T19:20:53.650877"
         ],
         "hovertemplate": "<b>%{hovertext}</b><br><br>Job_ID=J930<br>Scheduled_Start=%{base}<br>Estimated_Completion_Time=%{x}<br>Assigned_Machine=%{y}<extra></extra>",
         "hovertext": [
          "J930"
         ],
         "legendgroup": "J930",
         "marker": {
          "color": "#FECB52",
          "pattern": {
           "shape": ""
          }
         },
         "name": "J930",
         "offsetgroup": "J930",
         "orientation": "h",
         "showlegend": true,
         "textposition": "auto",
         "type": "bar",
         "x": [
          360383073.352174
         ],
         "xaxis": "x",
         "y": [
          "M04"
         ],
         "yaxis": "y"
        },
        {
         "alignmentgroup": "True",
         "base": [
          "2032-11-19T00:20:53.650877"
         ],
         "hovertemplate": "<b>%{hovertext}</b><br><br>Job_ID=J931<br>Scheduled_Start=%{base}<br>Estimated_Completion_Time=%{x}<br>Assigned_Machine=%{y}<extra></extra>",
         "hovertext": [
          "J931"
         ],
         "legendgroup": "J931",
         "marker": {
          "color": "#636efa",
          "pattern": {
           "shape": ""
          }
         },
         "name": "J931",
         "offsetgroup": "J931",
         "orientation": "h",
         "showlegend": true,
         "textposition": "auto",
         "type": "bar",
         "x": [
          197806691.690506
         ],
         "xaxis": "x",
         "y": [
          "M05"
         ],
         "yaxis": "y"
        },
        {
         "alignmentgroup": "True",
         "base": [
          "2032-11-21T07:20:53.650877"
         ],
         "hovertemplate": "<b>%{hovertext}</b><br><br>Job_ID=J932<br>Scheduled_Start=%{base}<br>Estimated_Completion_Time=%{x}<br>Assigned_Machine=%{y}<extra></extra>",
         "hovertext": [
          "J932"
         ],
         "legendgroup": "J932",
         "marker": {
          "color": "#EF553B",
          "pattern": {
           "shape": ""
          }
         },
         "name": "J932",
         "offsetgroup": "J932",
         "orientation": "h",
         "showlegend": true,
         "textposition": "auto",
         "type": "bar",
         "x": [
          146294118.885535
         ],
         "xaxis": "x",
         "y": [
          "M04"
         ],
         "yaxis": "y"
        },
        {
         "alignmentgroup": "True",
         "base": [
          "2032-11-23T00:20:53.650877"
         ],
         "hovertemplate": "<b>%{hovertext}</b><br><br>Job_ID=J933<br>Scheduled_Start=%{base}<br>Estimated_Completion_Time=%{x}<br>Assigned_Machine=%{y}<extra></extra>",
         "hovertext": [
          "J933"
         ],
         "legendgroup": "J933",
         "marker": {
          "color": "#00cc96",
          "pattern": {
           "shape": ""
          }
         },
         "name": "J933",
         "offsetgroup": "J933",
         "orientation": "h",
         "showlegend": true,
         "textposition": "auto",
         "type": "bar",
         "x": [
          174839312.814422
         ],
         "xaxis": "x",
         "y": [
          "M04"
         ],
         "yaxis": "y"
        },
        {
         "alignmentgroup": "True",
         "base": [
          "2032-11-25T01:20:53.650877"
         ],
         "hovertemplate": "<b>%{hovertext}</b><br><br>Job_ID=J934<br>Scheduled_Start=%{base}<br>Estimated_Completion_Time=%{x}<br>Assigned_Machine=%{y}<extra></extra>",
         "hovertext": [
          "J934"
         ],
         "legendgroup": "J934",
         "marker": {
          "color": "#ab63fa",
          "pattern": {
           "shape": ""
          }
         },
         "name": "J934",
         "offsetgroup": "J934",
         "orientation": "h",
         "showlegend": true,
         "textposition": "auto",
         "type": "bar",
         "x": [
          313997133.217734
         ],
         "xaxis": "x",
         "y": [
          "M04"
         ],
         "yaxis": "y"
        },
        {
         "alignmentgroup": "True",
         "base": [
          "2032-11-28T17:20:53.650877"
         ],
         "hovertemplate": "<b>%{hovertext}</b><br><br>Job_ID=J935<br>Scheduled_Start=%{base}<br>Estimated_Completion_Time=%{x}<br>Assigned_Machine=%{y}<extra></extra>",
         "hovertext": [
          "J935"
         ],
         "legendgroup": "J935",
         "marker": {
          "color": "#FFA15A",
          "pattern": {
           "shape": ""
          }
         },
         "name": "J935",
         "offsetgroup": "J935",
         "orientation": "h",
         "showlegend": true,
         "textposition": "auto",
         "type": "bar",
         "x": [
          289020088.52996
         ],
         "xaxis": "x",
         "y": [
          "M04"
         ],
         "yaxis": "y"
        },
        {
         "alignmentgroup": "True",
         "base": [
          "2032-12-02T02:20:53.650877"
         ],
         "hovertemplate": "<b>%{hovertext}</b><br><br>Job_ID=J936<br>Scheduled_Start=%{base}<br>Estimated_Completion_Time=%{x}<br>Assigned_Machine=%{y}<extra></extra>",
         "hovertext": [
          "J936"
         ],
         "legendgroup": "J936",
         "marker": {
          "color": "#19d3f3",
          "pattern": {
           "shape": ""
          }
         },
         "name": "J936",
         "offsetgroup": "J936",
         "orientation": "h",
         "showlegend": true,
         "textposition": "auto",
         "type": "bar",
         "x": [
          78499283.304434
         ],
         "xaxis": "x",
         "y": [
          "M04"
         ],
         "yaxis": "y"
        },
        {
         "alignmentgroup": "True",
         "base": [
          "2032-12-03T00:20:53.650877"
         ],
         "hovertemplate": "<b>%{hovertext}</b><br><br>Job_ID=J937<br>Scheduled_Start=%{base}<br>Estimated_Completion_Time=%{x}<br>Assigned_Machine=%{y}<extra></extra>",
         "hovertext": [
          "J937"
         ],
         "legendgroup": "J937",
         "marker": {
          "color": "#FF6692",
          "pattern": {
           "shape": ""
          }
         },
         "name": "J937",
         "offsetgroup": "J937",
         "orientation": "h",
         "showlegend": true,
         "textposition": "auto",
         "type": "bar",
         "x": [
          367519371.834394
         ],
         "xaxis": "x",
         "y": [
          "M04"
         ],
         "yaxis": "y"
        },
        {
         "alignmentgroup": "True",
         "base": [
          "2032-12-07T07:20:53.650877"
         ],
         "hovertemplate": "<b>%{hovertext}</b><br><br>Job_ID=J938<br>Scheduled_Start=%{base}<br>Estimated_Completion_Time=%{x}<br>Assigned_Machine=%{y}<extra></extra>",
         "hovertext": [
          "J938"
         ],
         "legendgroup": "J938",
         "marker": {
          "color": "#B6E880",
          "pattern": {
           "shape": ""
          }
         },
         "name": "J938",
         "offsetgroup": "J938",
         "orientation": "h",
         "showlegend": true,
         "textposition": "auto",
         "type": "bar",
         "x": [
          167703014.332198
         ],
         "xaxis": "x",
         "y": [
          "M04"
         ],
         "yaxis": "y"
        },
        {
         "alignmentgroup": "True",
         "base": [
          "2032-12-09T06:20:53.650877"
         ],
         "hovertemplate": "<b>%{hovertext}</b><br><br>Job_ID=J939<br>Scheduled_Start=%{base}<br>Estimated_Completion_Time=%{x}<br>Assigned_Machine=%{y}<extra></extra>",
         "hovertext": [
          "J939"
         ],
         "legendgroup": "J939",
         "marker": {
          "color": "#FF97FF",
          "pattern": {
           "shape": ""
          }
         },
         "name": "J939",
         "offsetgroup": "J939",
         "orientation": "h",
         "showlegend": true,
         "textposition": "auto",
         "type": "bar",
         "x": [
          178407462.055532
         ],
         "xaxis": "x",
         "y": [
          "M04"
         ],
         "yaxis": "y"
        },
        {
         "alignmentgroup": "True",
         "base": [
          "2032-12-11T08:20:53.650877"
         ],
         "hovertemplate": "<b>%{hovertext}</b><br><br>Job_ID=J940<br>Scheduled_Start=%{base}<br>Estimated_Completion_Time=%{x}<br>Assigned_Machine=%{y}<extra></extra>",
         "hovertext": [
          "J940"
         ],
         "legendgroup": "J940",
         "marker": {
          "color": "#FECB52",
          "pattern": {
           "shape": ""
          }
         },
         "name": "J940",
         "offsetgroup": "J940",
         "orientation": "h",
         "showlegend": true,
         "textposition": "auto",
         "type": "bar",
         "x": [
          312894221.401346
         ],
         "xaxis": "x",
         "y": [
          "M05"
         ],
         "yaxis": "y"
        },
        {
         "alignmentgroup": "True",
         "base": [
          "2032-12-14T23:20:53.650877"
         ],
         "hovertemplate": "<b>%{hovertext}</b><br><br>Job_ID=J941<br>Scheduled_Start=%{base}<br>Estimated_Completion_Time=%{x}<br>Assigned_Machine=%{y}<extra></extra>",
         "hovertext": [
          "J941"
         ],
         "legendgroup": "J941",
         "marker": {
          "color": "#636efa",
          "pattern": {
           "shape": ""
          }
         },
         "name": "J941",
         "offsetgroup": "J941",
         "orientation": "h",
         "showlegend": true,
         "textposition": "auto",
         "type": "bar",
         "x": [
          374655670.316614
         ],
         "xaxis": "x",
         "y": [
          "M04"
         ],
         "yaxis": "y"
        },
        {
         "alignmentgroup": "True",
         "base": [
          "2032-12-19T08:20:53.650877"
         ],
         "hovertemplate": "<b>%{hovertext}</b><br><br>Job_ID=J942<br>Scheduled_Start=%{base}<br>Estimated_Completion_Time=%{x}<br>Assigned_Machine=%{y}<extra></extra>",
         "hovertext": [
          "J942"
         ],
         "legendgroup": "J942",
         "marker": {
          "color": "#EF553B",
          "pattern": {
           "shape": ""
          }
         },
         "name": "J942",
         "offsetgroup": "J942",
         "orientation": "h",
         "showlegend": true,
         "textposition": "auto",
         "type": "bar",
         "x": [
          71362984.822214
         ],
         "xaxis": "x",
         "y": [
          "M04"
         ],
         "yaxis": "y"
        },
        {
         "alignmentgroup": "True",
         "base": [
          "2032-12-20T04:20:53.650877"
         ],
         "hovertemplate": "<b>%{hovertext}</b><br><br>Job_ID=J943<br>Scheduled_Start=%{base}<br>Estimated_Completion_Time=%{x}<br>Assigned_Machine=%{y}<extra></extra>",
         "hovertext": [
          "J943"
         ],
         "legendgroup": "J943",
         "marker": {
          "color": "#00cc96",
          "pattern": {
           "shape": ""
          }
         },
         "name": "J943",
         "offsetgroup": "J943",
         "orientation": "h",
         "showlegend": true,
         "textposition": "auto",
         "type": "bar",
         "x": [
          253338596.118853
         ],
         "xaxis": "x",
         "y": [
          "M04"
         ],
         "yaxis": "y"
        },
        {
         "alignmentgroup": "True",
         "base": [
          "2032-12-23T03:20:53.650877"
         ],
         "hovertemplate": "<b>%{hovertext}</b><br><br>Job_ID=J944<br>Scheduled_Start=%{base}<br>Estimated_Completion_Time=%{x}<br>Assigned_Machine=%{y}<extra></extra>",
         "hovertext": [
          "J944"
         ],
         "legendgroup": "J944",
         "marker": {
          "color": "#ab63fa",
          "pattern": {
           "shape": ""
          }
         },
         "name": "J944",
         "offsetgroup": "J944",
         "orientation": "h",
         "showlegend": true,
         "textposition": "auto",
         "type": "bar",
         "x": [
          153430417.367758
         ],
         "xaxis": "x",
         "y": [
          "M04"
         ],
         "yaxis": "y"
        },
        {
         "alignmentgroup": "True",
         "base": [
          "2032-12-24T22:20:53.650877"
         ],
         "hovertemplate": "<b>%{hovertext}</b><br><br>Job_ID=J945<br>Scheduled_Start=%{base}<br>Estimated_Completion_Time=%{x}<br>Assigned_Machine=%{y}<extra></extra>",
         "hovertext": [
          "J945"
         ],
         "legendgroup": "J945",
         "marker": {
          "color": "#FFA15A",
          "pattern": {
           "shape": ""
          }
         },
         "name": "J945",
         "offsetgroup": "J945",
         "orientation": "h",
         "showlegend": true,
         "textposition": "auto",
         "type": "bar",
         "x": [
          117748924.956651
         ],
         "xaxis": "x",
         "y": [
          "M04"
         ],
         "yaxis": "y"
        },
        {
         "alignmentgroup": "True",
         "base": [
          "2032-12-26T07:20:53.650877"
         ],
         "hovertemplate": "<b>%{hovertext}</b><br><br>Job_ID=J946<br>Scheduled_Start=%{base}<br>Estimated_Completion_Time=%{x}<br>Assigned_Machine=%{y}<extra></extra>",
         "hovertext": [
          "J946"
         ],
         "legendgroup": "J946",
         "marker": {
          "color": "#19d3f3",
          "pattern": {
           "shape": ""
          }
         },
         "name": "J946",
         "offsetgroup": "J946",
         "orientation": "h",
         "showlegend": true,
         "textposition": "auto",
         "type": "bar",
         "x": [
          161841838.655869
         ],
         "xaxis": "x",
         "y": [
          "M05"
         ],
         "yaxis": "y"
        },
        {
         "alignmentgroup": "True",
         "base": [
          "2032-12-28T04:20:53.650877"
         ],
         "hovertemplate": "<b>%{hovertext}</b><br><br>Job_ID=J947<br>Scheduled_Start=%{base}<br>Estimated_Completion_Time=%{x}<br>Assigned_Machine=%{y}<extra></extra>",
         "hovertext": [
          "J947"
         ],
         "legendgroup": "J947",
         "marker": {
          "color": "#FF6692",
          "pattern": {
           "shape": ""
          }
         },
         "name": "J947",
         "offsetgroup": "J947",
         "orientation": "h",
         "showlegend": true,
         "textposition": "auto",
         "type": "bar",
         "x": [
          313997133.217734
         ],
         "xaxis": "x",
         "y": [
          "M04"
         ],
         "yaxis": "y"
        },
        {
         "alignmentgroup": "True",
         "base": [
          "2032-12-31T20:20:53.650877"
         ],
         "hovertemplate": "<b>%{hovertext}</b><br><br>Job_ID=J948<br>Scheduled_Start=%{base}<br>Estimated_Completion_Time=%{x}<br>Assigned_Machine=%{y}<extra></extra>",
         "hovertext": [
          "J948"
         ],
         "legendgroup": "J948",
         "marker": {
          "color": "#B6E880",
          "pattern": {
           "shape": ""
          }
         },
         "name": "J948",
         "offsetgroup": "J948",
         "orientation": "h",
         "showlegend": true,
         "textposition": "auto",
         "type": "bar",
         "x": [
          356814924.111064
         ],
         "xaxis": "x",
         "y": [
          "M04"
         ],
         "yaxis": "y"
        },
        {
         "alignmentgroup": "True",
         "base": [
          "2033-01-05T00:20:53.650877"
         ],
         "hovertemplate": "<b>%{hovertext}</b><br><br>Job_ID=J949<br>Scheduled_Start=%{base}<br>Estimated_Completion_Time=%{x}<br>Assigned_Machine=%{y}<extra></extra>",
         "hovertext": [
          "J949"
         ],
         "legendgroup": "J949",
         "marker": {
          "color": "#FF97FF",
          "pattern": {
           "shape": ""
          }
         },
         "name": "J949",
         "offsetgroup": "J949",
         "orientation": "h",
         "showlegend": true,
         "textposition": "auto",
         "type": "bar",
         "x": [
          203384506.743306
         ],
         "xaxis": "x",
         "y": [
          "M04"
         ],
         "yaxis": "y"
        },
        {
         "alignmentgroup": "True",
         "base": [
          "2033-01-07T09:20:53.650877"
         ],
         "hovertemplate": "<b>%{hovertext}</b><br><br>Job_ID=J950<br>Scheduled_Start=%{base}<br>Estimated_Completion_Time=%{x}<br>Assigned_Machine=%{y}<extra></extra>",
         "hovertext": [
          "J950"
         ],
         "legendgroup": "J950",
         "marker": {
          "color": "#FECB52",
          "pattern": {
           "shape": ""
          }
         },
         "name": "J950",
         "offsetgroup": "J950",
         "orientation": "h",
         "showlegend": true,
         "textposition": "auto",
         "type": "bar",
         "x": [
          328269730.182177
         ],
         "xaxis": "x",
         "y": [
          "M04"
         ],
         "yaxis": "y"
        },
        {
         "alignmentgroup": "True",
         "base": [
          "2033-01-11T05:20:53.650877"
         ],
         "hovertemplate": "<b>%{hovertext}</b><br><br>Job_ID=J951<br>Scheduled_Start=%{base}<br>Estimated_Completion_Time=%{x}<br>Assigned_Machine=%{y}<extra></extra>",
         "hovertext": [
          "J951"
         ],
         "legendgroup": "J951",
         "marker": {
          "color": "#636efa",
          "pattern": {
           "shape": ""
          }
         },
         "name": "J951",
         "offsetgroup": "J951",
         "orientation": "h",
         "showlegend": true,
         "textposition": "auto",
         "type": "bar",
         "x": [
          289020088.52996
         ],
         "xaxis": "x",
         "y": [
          "M04"
         ],
         "yaxis": "y"
        },
        {
         "alignmentgroup": "True",
         "base": [
          "2033-01-14T14:20:53.650877"
         ],
         "hovertemplate": "<b>%{hovertext}</b><br><br>Job_ID=J952<br>Scheduled_Start=%{base}<br>Estimated_Completion_Time=%{x}<br>Assigned_Machine=%{y}<extra></extra>",
         "hovertext": [
          "J952"
         ],
         "legendgroup": "J952",
         "marker": {
          "color": "#EF553B",
          "pattern": {
           "shape": ""
          }
         },
         "name": "J952",
         "offsetgroup": "J952",
         "orientation": "h",
         "showlegend": true,
         "textposition": "auto",
         "type": "bar",
         "x": [
          85635581.786654
         ],
         "xaxis": "x",
         "y": [
          "M04"
         ],
         "yaxis": "y"
        },
        {
         "alignmentgroup": "True",
         "base": [
          "2033-01-15T14:20:53.650877"
         ],
         "hovertemplate": "<b>%{hovertext}</b><br><br>Job_ID=J953<br>Scheduled_Start=%{base}<br>Estimated_Completion_Time=%{x}<br>Assigned_Machine=%{y}<extra></extra>",
         "hovertext": [
          "J953"
         ],
         "legendgroup": "J953",
         "marker": {
          "color": "#00cc96",
          "pattern": {
           "shape": ""
          }
         },
         "name": "J953",
         "offsetgroup": "J953",
         "orientation": "h",
         "showlegend": true,
         "textposition": "auto",
         "type": "bar",
         "x": [
          370437986.256768
         ],
         "xaxis": "x",
         "y": [
          "M05"
         ],
         "yaxis": "y"
        },
        {
         "alignmentgroup": "True",
         "base": [
          "2033-01-19T21:20:53.650877"
         ],
         "hovertemplate": "<b>%{hovertext}</b><br><br>Job_ID=J954<br>Scheduled_Start=%{base}<br>Estimated_Completion_Time=%{x}<br>Assigned_Machine=%{y}<extra></extra>",
         "hovertext": [
          "J954"
         ],
         "legendgroup": "J954",
         "marker": {
          "color": "#ab63fa",
          "pattern": {
           "shape": ""
          }
         },
         "name": "J954",
         "offsetgroup": "J954",
         "orientation": "h",
         "showlegend": true,
         "textposition": "auto",
         "type": "bar",
         "x": [
          140262926.835085
         ],
         "xaxis": "x",
         "y": [
          "M05"
         ],
         "yaxis": "y"
        },
        {
         "alignmentgroup": "True",
         "base": [
          "2033-01-21T12:20:53.650877"
         ],
         "hovertemplate": "<b>%{hovertext}</b><br><br>Job_ID=J955<br>Scheduled_Start=%{base}<br>Estimated_Completion_Time=%{x}<br>Assigned_Machine=%{y}<extra></extra>",
         "hovertext": [
          "J955"
         ],
         "legendgroup": "J955",
         "marker": {
          "color": "#FFA15A",
          "pattern": {
           "shape": ""
          }
         },
         "name": "J955",
         "offsetgroup": "J955",
         "orientation": "h",
         "showlegend": true,
         "textposition": "auto",
         "type": "bar",
         "x": [
          196248208.261086
         ],
         "xaxis": "x",
         "y": [
          "M04"
         ],
         "yaxis": "y"
        },
        {
         "alignmentgroup": "True",
         "base": [
          "2033-01-23T19:20:53.650877"
         ],
         "hovertemplate": "<b>%{hovertext}</b><br><br>Job_ID=J956<br>Scheduled_Start=%{base}<br>Estimated_Completion_Time=%{x}<br>Assigned_Machine=%{y}<extra></extra>",
         "hovertext": [
          "J956"
         ],
         "legendgroup": "J956",
         "marker": {
          "color": "#19d3f3",
          "pattern": {
           "shape": ""
          }
         },
         "name": "J956",
         "offsetgroup": "J956",
         "orientation": "h",
         "showlegend": true,
         "textposition": "auto",
         "type": "bar",
         "x": [
          181975611.296642
         ],
         "xaxis": "x",
         "y": [
          "M04"
         ],
         "yaxis": "y"
        },
        {
         "alignmentgroup": "True",
         "base": [
          "2033-01-25T22:20:53.650877"
         ],
         "hovertemplate": "<b>%{hovertext}</b><br><br>Job_ID=J957<br>Scheduled_Start=%{base}<br>Estimated_Completion_Time=%{x}<br>Assigned_Machine=%{y}<extra></extra>",
         "hovertext": [
          "J957"
         ],
         "legendgroup": "J957",
         "marker": {
          "color": "#FF6692",
          "pattern": {
           "shape": ""
          }
         },
         "name": "J957",
         "offsetgroup": "J957",
         "orientation": "h",
         "showlegend": true,
         "textposition": "auto",
         "type": "bar",
         "x": [
          321133431.699957
         ],
         "xaxis": "x",
         "y": [
          "M04"
         ],
         "yaxis": "y"
        },
        {
         "alignmentgroup": "True",
         "base": [
          "2033-01-29T16:20:53.650877"
         ],
         "hovertemplate": "<b>%{hovertext}</b><br><br>Job_ID=J958<br>Scheduled_Start=%{base}<br>Estimated_Completion_Time=%{x}<br>Assigned_Machine=%{y}<extra></extra>",
         "hovertext": [
          "J958"
         ],
         "legendgroup": "J958",
         "marker": {
          "color": "#B6E880",
          "pattern": {
           "shape": ""
          }
         },
         "name": "J958",
         "offsetgroup": "J958",
         "orientation": "h",
         "showlegend": true,
         "textposition": "auto",
         "type": "bar",
         "x": [
          156998566.608868
         ],
         "xaxis": "x",
         "y": [
          "M04"
         ],
         "yaxis": "y"
        },
        {
         "alignmentgroup": "True",
         "base": [
          "2033-01-31T12:20:53.650877"
         ],
         "hovertemplate": "<b>%{hovertext}</b><br><br>Job_ID=J959<br>Scheduled_Start=%{base}<br>Estimated_Completion_Time=%{x}<br>Assigned_Machine=%{y}<extra></extra>",
         "hovertext": [
          "J959"
         ],
         "legendgroup": "J959",
         "marker": {
          "color": "#FF97FF",
          "pattern": {
           "shape": ""
          }
         },
         "name": "J959",
         "offsetgroup": "J959",
         "orientation": "h",
         "showlegend": true,
         "textposition": "auto",
         "type": "bar",
         "x": [
          299724536.253294
         ],
         "xaxis": "x",
         "y": [
          "M04"
         ],
         "yaxis": "y"
        },
        {
         "alignmentgroup": "True",
         "base": [
          "2033-02-04T00:20:53.650877"
         ],
         "hovertemplate": "<b>%{hovertext}</b><br><br>Job_ID=J960<br>Scheduled_Start=%{base}<br>Estimated_Completion_Time=%{x}<br>Assigned_Machine=%{y}<extra></extra>",
         "hovertext": [
          "J960"
         ],
         "legendgroup": "J960",
         "marker": {
          "color": "#FECB52",
          "pattern": {
           "shape": ""
          }
         },
         "name": "J960",
         "offsetgroup": "J960",
         "orientation": "h",
         "showlegend": true,
         "textposition": "auto",
         "type": "bar",
         "x": [
          313997133.217734
         ],
         "xaxis": "x",
         "y": [
          "M04"
         ],
         "yaxis": "y"
        },
        {
         "alignmentgroup": "True",
         "base": [
          "2033-02-07T16:20:53.650877"
         ],
         "hovertemplate": "<b>%{hovertext}</b><br><br>Job_ID=J961<br>Scheduled_Start=%{base}<br>Estimated_Completion_Time=%{x}<br>Assigned_Machine=%{y}<extra></extra>",
         "hovertext": [
          "J961"
         ],
         "legendgroup": "J961",
         "marker": {
          "color": "#636efa",
          "pattern": {
           "shape": ""
          }
         },
         "name": "J961",
         "offsetgroup": "J961",
         "orientation": "h",
         "showlegend": true,
         "textposition": "auto",
         "type": "bar",
         "x": [
          331837879.423287
         ],
         "xaxis": "x",
         "y": [
          "M04"
         ],
         "yaxis": "y"
        },
        {
         "alignmentgroup": "True",
         "base": [
          "2033-02-11T13:20:53.650877"
         ],
         "hovertemplate": "<b>%{hovertext}</b><br><br>Job_ID=J962<br>Scheduled_Start=%{base}<br>Estimated_Completion_Time=%{x}<br>Assigned_Machine=%{y}<extra></extra>",
         "hovertext": [
          "J962"
         ],
         "legendgroup": "J962",
         "marker": {
          "color": "#EF553B",
          "pattern": {
           "shape": ""
          }
         },
         "name": "J962",
         "offsetgroup": "J962",
         "orientation": "h",
         "showlegend": true,
         "textposition": "auto",
         "type": "bar",
         "x": [
          239065999.154413
         ],
         "xaxis": "x",
         "y": [
          "M04"
         ],
         "yaxis": "y"
        },
        {
         "alignmentgroup": "True",
         "base": [
          "2033-02-14T08:20:53.650877"
         ],
         "hovertemplate": "<b>%{hovertext}</b><br><br>Job_ID=J963<br>Scheduled_Start=%{base}<br>Estimated_Completion_Time=%{x}<br>Assigned_Machine=%{y}<extra></extra>",
         "hovertext": [
          "J963"
         ],
         "legendgroup": "J963",
         "marker": {
          "color": "#00cc96",
          "pattern": {
           "shape": ""
          }
         },
         "name": "J963",
         "offsetgroup": "J963",
         "orientation": "h",
         "showlegend": true,
         "textposition": "auto",
         "type": "bar",
         "x": [
          360383073.352174
         ],
         "xaxis": "x",
         "y": [
          "M04"
         ],
         "yaxis": "y"
        },
        {
         "alignmentgroup": "True",
         "base": [
          "2033-02-18T13:20:53.650877"
         ],
         "hovertemplate": "<b>%{hovertext}</b><br><br>Job_ID=J964<br>Scheduled_Start=%{base}<br>Estimated_Completion_Time=%{x}<br>Assigned_Machine=%{y}<extra></extra>",
         "hovertext": [
          "J964"
         ],
         "legendgroup": "J964",
         "marker": {
          "color": "#ab63fa",
          "pattern": {
           "shape": ""
          }
         },
         "name": "J964",
         "offsetgroup": "J964",
         "orientation": "h",
         "showlegend": true,
         "textposition": "auto",
         "type": "bar",
         "x": [
          235497849.913303
         ],
         "xaxis": "x",
         "y": [
          "M04"
         ],
         "yaxis": "y"
        },
        {
         "alignmentgroup": "True",
         "base": [
          "2033-02-21T07:20:53.650877"
         ],
         "hovertemplate": "<b>%{hovertext}</b><br><br>Job_ID=J965<br>Scheduled_Start=%{base}<br>Estimated_Completion_Time=%{x}<br>Assigned_Machine=%{y}<extra></extra>",
         "hovertext": [
          "J965"
         ],
         "legendgroup": "J965",
         "marker": {
          "color": "#FFA15A",
          "pattern": {
           "shape": ""
          }
         },
         "name": "J965",
         "offsetgroup": "J965",
         "orientation": "h",
         "showlegend": true,
         "textposition": "auto",
         "type": "bar",
         "x": [
          153430417.367758
         ],
         "xaxis": "x",
         "y": [
          "M04"
         ],
         "yaxis": "y"
        },
        {
         "alignmentgroup": "True",
         "base": [
          "2033-02-23T02:20:53.650877"
         ],
         "hovertemplate": "<b>%{hovertext}</b><br><br>Job_ID=J966<br>Scheduled_Start=%{base}<br>Estimated_Completion_Time=%{x}<br>Assigned_Machine=%{y}<extra></extra>",
         "hovertext": [
          "J966"
         ],
         "legendgroup": "J966",
         "marker": {
          "color": "#19d3f3",
          "pattern": {
           "shape": ""
          }
         },
         "name": "J966",
         "offsetgroup": "J966",
         "orientation": "h",
         "showlegend": true,
         "textposition": "auto",
         "type": "bar",
         "x": [
          406769013.486612
         ],
         "xaxis": "x",
         "y": [
          "M04"
         ],
         "yaxis": "y"
        },
        {
         "alignmentgroup": "True",
         "base": [
          "2033-02-27T20:20:53.650877"
         ],
         "hovertemplate": "<b>%{hovertext}</b><br><br>Job_ID=J967<br>Scheduled_Start=%{base}<br>Estimated_Completion_Time=%{x}<br>Assigned_Machine=%{y}<extra></extra>",
         "hovertext": [
          "J967"
         ],
         "legendgroup": "J967",
         "marker": {
          "color": "#FF6692",
          "pattern": {
           "shape": ""
          }
         },
         "name": "J967",
         "offsetgroup": "J967",
         "orientation": "h",
         "showlegend": true,
         "textposition": "auto",
         "type": "bar",
         "x": [
          228361551.431079
         ],
         "xaxis": "x",
         "y": [
          "M04"
         ],
         "yaxis": "y"
        },
        {
         "alignmentgroup": "True",
         "base": [
          "2033-03-02T12:20:53.650877"
         ],
         "hovertemplate": "<b>%{hovertext}</b><br><br>Job_ID=J968<br>Scheduled_Start=%{base}<br>Estimated_Completion_Time=%{x}<br>Assigned_Machine=%{y}<extra></extra>",
         "hovertext": [
          "J968"
         ],
         "legendgroup": "J968",
         "marker": {
          "color": "#B6E880",
          "pattern": {
           "shape": ""
          }
         },
         "name": "J968",
         "offsetgroup": "J968",
         "orientation": "h",
         "showlegend": true,
         "textposition": "auto",
         "type": "bar",
         "x": [
          114180775.715541
         ],
         "xaxis": "x",
         "y": [
          "M04"
         ],
         "yaxis": "y"
        },
        {
         "alignmentgroup": "True",
         "base": [
          "2033-03-03T20:20:53.650877"
         ],
         "hovertemplate": "<b>%{hovertext}</b><br><br>Job_ID=J969<br>Scheduled_Start=%{base}<br>Estimated_Completion_Time=%{x}<br>Assigned_Machine=%{y}<extra></extra>",
         "hovertext": [
          "J969"
         ],
         "legendgroup": "J969",
         "marker": {
          "color": "#FF97FF",
          "pattern": {
           "shape": ""
          }
         },
         "name": "J969",
         "offsetgroup": "J969",
         "orientation": "h",
         "showlegend": true,
         "textposition": "auto",
         "type": "bar",
         "x": [
          114180775.715541
         ],
         "xaxis": "x",
         "y": [
          "M04"
         ],
         "yaxis": "y"
        },
        {
         "alignmentgroup": "True",
         "base": [
          "2033-03-05T04:20:53.650877"
         ],
         "hovertemplate": "<b>%{hovertext}</b><br><br>Job_ID=J970<br>Scheduled_Start=%{base}<br>Estimated_Completion_Time=%{x}<br>Assigned_Machine=%{y}<extra></extra>",
         "hovertext": [
          "J970"
         ],
         "legendgroup": "J970",
         "marker": {
          "color": "#FECB52",
          "pattern": {
           "shape": ""
          }
         },
         "name": "J970",
         "offsetgroup": "J970",
         "orientation": "h",
         "showlegend": true,
         "textposition": "auto",
         "type": "bar",
         "x": [
          267611193.083296
         ],
         "xaxis": "x",
         "y": [
          "M04"
         ],
         "yaxis": "y"
        },
        {
         "alignmentgroup": "True",
         "base": [
          "2033-03-08T07:20:53.650877"
         ],
         "hovertemplate": "<b>%{hovertext}</b><br><br>Job_ID=J971<br>Scheduled_Start=%{base}<br>Estimated_Completion_Time=%{x}<br>Assigned_Machine=%{y}<extra></extra>",
         "hovertext": [
          "J971"
         ],
         "legendgroup": "J971",
         "marker": {
          "color": "#636efa",
          "pattern": {
           "shape": ""
          }
         },
         "name": "J971",
         "offsetgroup": "J971",
         "orientation": "h",
         "showlegend": true,
         "textposition": "auto",
         "type": "bar",
         "x": [
          424609759.692165
         ],
         "xaxis": "x",
         "y": [
          "M04"
         ],
         "yaxis": "y"
        },
        {
         "alignmentgroup": "True",
         "base": [
          "2033-03-13T06:20:53.650877"
         ],
         "hovertemplate": "<b>%{hovertext}</b><br><br>Job_ID=J972<br>Scheduled_Start=%{base}<br>Estimated_Completion_Time=%{x}<br>Assigned_Machine=%{y}<extra></extra>",
         "hovertext": [
          "J972"
         ],
         "legendgroup": "J972",
         "marker": {
          "color": "#EF553B",
          "pattern": {
           "shape": ""
          }
         },
         "name": "J972",
         "offsetgroup": "J972",
         "orientation": "h",
         "showlegend": true,
         "textposition": "auto",
         "type": "bar",
         "x": [
          210520805.225526
         ],
         "xaxis": "x",
         "y": [
          "M04"
         ],
         "yaxis": "y"
        },
        {
         "alignmentgroup": "True",
         "base": [
          "2033-03-15T17:20:53.650877"
         ],
         "hovertemplate": "<b>%{hovertext}</b><br><br>Job_ID=J973<br>Scheduled_Start=%{base}<br>Estimated_Completion_Time=%{x}<br>Assigned_Machine=%{y}<extra></extra>",
         "hovertext": [
          "J973"
         ],
         "legendgroup": "J973",
         "marker": {
          "color": "#00cc96",
          "pattern": {
           "shape": ""
          }
         },
         "name": "J973",
         "offsetgroup": "J973",
         "orientation": "h",
         "showlegend": true,
         "textposition": "auto",
         "type": "bar",
         "x": [
          217657103.707749
         ],
         "xaxis": "x",
         "y": [
          "M04"
         ],
         "yaxis": "y"
        },
        {
         "alignmentgroup": "True",
         "base": [
          "2033-03-18T06:20:53.650877"
         ],
         "hovertemplate": "<b>%{hovertext}</b><br><br>Job_ID=J974<br>Scheduled_Start=%{base}<br>Estimated_Completion_Time=%{x}<br>Assigned_Machine=%{y}<extra></extra>",
         "hovertext": [
          "J974"
         ],
         "legendgroup": "J974",
         "marker": {
          "color": "#ab63fa",
          "pattern": {
           "shape": ""
          }
         },
         "name": "J974",
         "offsetgroup": "J974",
         "orientation": "h",
         "showlegend": true,
         "textposition": "auto",
         "type": "bar",
         "x": [
          147455897.442015
         ],
         "xaxis": "x",
         "y": [
          "M05"
         ],
         "yaxis": "y"
        },
        {
         "alignmentgroup": "True",
         "base": [
          "2033-03-19T23:20:53.650877"
         ],
         "hovertemplate": "<b>%{hovertext}</b><br><br>Job_ID=J975<br>Scheduled_Start=%{base}<br>Estimated_Completion_Time=%{x}<br>Assigned_Machine=%{y}<extra></extra>",
         "hovertext": [
          "J975"
         ],
         "legendgroup": "J975",
         "marker": {
          "color": "#FFA15A",
          "pattern": {
           "shape": ""
          }
         },
         "name": "J975",
         "offsetgroup": "J975",
         "orientation": "h",
         "showlegend": true,
         "textposition": "auto",
         "type": "bar",
         "x": [
          331837879.423287
         ],
         "xaxis": "x",
         "y": [
          "M04"
         ],
         "yaxis": "y"
        },
        {
         "alignmentgroup": "True",
         "base": [
          "2033-03-23T20:20:53.650877"
         ],
         "hovertemplate": "<b>%{hovertext}</b><br><br>Job_ID=J976<br>Scheduled_Start=%{base}<br>Estimated_Completion_Time=%{x}<br>Assigned_Machine=%{y}<extra></extra>",
         "hovertext": [
          "J976"
         ],
         "legendgroup": "J976",
         "marker": {
          "color": "#19d3f3",
          "pattern": {
           "shape": ""
          }
         },
         "name": "J976",
         "offsetgroup": "J976",
         "orientation": "h",
         "showlegend": true,
         "textposition": "auto",
         "type": "bar",
         "x": [
          360383073.352174
         ],
         "xaxis": "x",
         "y": [
          "M04"
         ],
         "yaxis": "y"
        },
        {
         "alignmentgroup": "True",
         "base": [
          "2033-03-28T01:20:53.650877"
         ],
         "hovertemplate": "<b>%{hovertext}</b><br><br>Job_ID=J977<br>Scheduled_Start=%{base}<br>Estimated_Completion_Time=%{x}<br>Assigned_Machine=%{y}<extra></extra>",
         "hovertext": [
          "J977"
         ],
         "legendgroup": "J977",
         "marker": {
          "color": "#FF6692",
          "pattern": {
           "shape": ""
          }
         },
         "name": "J977",
         "offsetgroup": "J977",
         "orientation": "h",
         "showlegend": true,
         "textposition": "auto",
         "type": "bar",
         "x": [
          278315640.80663
         ],
         "xaxis": "x",
         "y": [
          "M04"
         ],
         "yaxis": "y"
        },
        {
         "alignmentgroup": "True",
         "base": [
          "2033-03-31T07:20:53.650877"
         ],
         "hovertemplate": "<b>%{hovertext}</b><br><br>Job_ID=J978<br>Scheduled_Start=%{base}<br>Estimated_Completion_Time=%{x}<br>Assigned_Machine=%{y}<extra></extra>",
         "hovertext": [
          "J978"
         ],
         "legendgroup": "J978",
         "marker": {
          "color": "#B6E880",
          "pattern": {
           "shape": ""
          }
         },
         "name": "J978",
         "offsetgroup": "J978",
         "orientation": "h",
         "showlegend": true,
         "textposition": "auto",
         "type": "bar",
         "x": [
          349678625.628841
         ],
         "xaxis": "x",
         "y": [
          "M04"
         ],
         "yaxis": "y"
        },
        {
         "alignmentgroup": "True",
         "base": [
          "2033-04-04T09:20:53.650877"
         ],
         "hovertemplate": "<b>%{hovertext}</b><br><br>Job_ID=J979<br>Scheduled_Start=%{base}<br>Estimated_Completion_Time=%{x}<br>Assigned_Machine=%{y}<extra></extra>",
         "hovertext": [
          "J979"
         ],
         "legendgroup": "J979",
         "marker": {
          "color": "#FF97FF",
          "pattern": {
           "shape": ""
          }
         },
         "name": "J979",
         "offsetgroup": "J979",
         "orientation": "h",
         "showlegend": true,
         "textposition": "auto",
         "type": "bar",
         "x": [
          356814924.111064
         ],
         "xaxis": "x",
         "y": [
          "M04"
         ],
         "yaxis": "y"
        },
        {
         "alignmentgroup": "True",
         "base": [
          "2033-04-08T13:20:53.650877"
         ],
         "hovertemplate": "<b>%{hovertext}</b><br><br>Job_ID=J980<br>Scheduled_Start=%{base}<br>Estimated_Completion_Time=%{x}<br>Assigned_Machine=%{y}<extra></extra>",
         "hovertext": [
          "J980"
         ],
         "legendgroup": "J980",
         "marker": {
          "color": "#FECB52",
          "pattern": {
           "shape": ""
          }
         },
         "name": "J980",
         "offsetgroup": "J980",
         "orientation": "h",
         "showlegend": true,
         "textposition": "auto",
         "type": "bar",
         "x": [
          255350456.545924
         ],
         "xaxis": "x",
         "y": [
          "M05"
         ],
         "yaxis": "y"
        },
        {
         "alignmentgroup": "True",
         "base": [
          "2033-04-11T12:20:53.650877"
         ],
         "hovertemplate": "<b>%{hovertext}</b><br><br>Job_ID=J981<br>Scheduled_Start=%{base}<br>Estimated_Completion_Time=%{x}<br>Assigned_Machine=%{y}<extra></extra>",
         "hovertext": [
          "J981"
         ],
         "legendgroup": "J981",
         "marker": {
          "color": "#636efa",
          "pattern": {
           "shape": ""
          }
         },
         "name": "J981",
         "offsetgroup": "J981",
         "orientation": "h",
         "showlegend": true,
         "textposition": "auto",
         "type": "bar",
         "x": [
          285451939.28885
         ],
         "xaxis": "x",
         "y": [
          "M04"
         ],
         "yaxis": "y"
        },
        {
         "alignmentgroup": "True",
         "base": [
          "2033-04-14T20:20:53.650877"
         ],
         "hovertemplate": "<b>%{hovertext}</b><br><br>Job_ID=J982<br>Scheduled_Start=%{base}<br>Estimated_Completion_Time=%{x}<br>Assigned_Machine=%{y}<extra></extra>",
         "hovertext": [
          "J982"
         ],
         "legendgroup": "J982",
         "marker": {
          "color": "#EF553B",
          "pattern": {
           "shape": ""
          }
         },
         "name": "J982",
         "offsetgroup": "J982",
         "orientation": "h",
         "showlegend": true,
         "textposition": "auto",
         "type": "bar",
         "x": [
          96340029.509988
         ],
         "xaxis": "x",
         "y": [
          "M04"
         ],
         "yaxis": "y"
        },
        {
         "alignmentgroup": "True",
         "base": [
          "2033-04-15T23:20:53.650877"
         ],
         "hovertemplate": "<b>%{hovertext}</b><br><br>Job_ID=J983<br>Scheduled_Start=%{base}<br>Estimated_Completion_Time=%{x}<br>Assigned_Machine=%{y}<extra></extra>",
         "hovertext": [
          "J983"
         ],
         "legendgroup": "J983",
         "marker": {
          "color": "#00cc96",
          "pattern": {
           "shape": ""
          }
         },
         "name": "J983",
         "offsetgroup": "J983",
         "orientation": "h",
         "showlegend": true,
         "textposition": "auto",
         "type": "bar",
         "x": [
          165438323.95933
         ],
         "xaxis": "x",
         "y": [
          "M05"
         ],
         "yaxis": "y"
        },
        {
         "alignmentgroup": "True",
         "base": [
          "2033-04-17T21:20:53.650877"
         ],
         "hovertemplate": "<b>%{hovertext}</b><br><br>Job_ID=J984<br>Scheduled_Start=%{base}<br>Estimated_Completion_Time=%{x}<br>Assigned_Machine=%{y}<extra></extra>",
         "hovertext": [
          "J984"
         ],
         "legendgroup": "J984",
         "marker": {
          "color": "#ab63fa",
          "pattern": {
           "shape": ""
          }
         },
         "name": "J984",
         "offsetgroup": "J984",
         "orientation": "h",
         "showlegend": true,
         "textposition": "auto",
         "type": "bar",
         "x": [
          264043043.842186
         ],
         "xaxis": "x",
         "y": [
          "M04"
         ],
         "yaxis": "y"
        },
        {
         "alignmentgroup": "True",
         "base": [
          "2033-04-20T23:20:53.650877"
         ],
         "hovertemplate": "<b>%{hovertext}</b><br><br>Job_ID=J985<br>Scheduled_Start=%{base}<br>Estimated_Completion_Time=%{x}<br>Assigned_Machine=%{y}<extra></extra>",
         "hovertext": [
          "J985"
         ],
         "legendgroup": "J985",
         "marker": {
          "color": "#FFA15A",
          "pattern": {
           "shape": ""
          }
         },
         "name": "J985",
         "offsetgroup": "J985",
         "orientation": "h",
         "showlegend": true,
         "textposition": "auto",
         "type": "bar",
         "x": [
          367519371.834394
         ],
         "xaxis": "x",
         "y": [
          "M04"
         ],
         "yaxis": "y"
        },
        {
         "alignmentgroup": "True",
         "base": [
          "2033-04-25T06:20:53.650877"
         ],
         "hovertemplate": "<b>%{hovertext}</b><br><br>Job_ID=J986<br>Scheduled_Start=%{base}<br>Estimated_Completion_Time=%{x}<br>Assigned_Machine=%{y}<extra></extra>",
         "hovertext": [
          "J986"
         ],
         "legendgroup": "J986",
         "marker": {
          "color": "#19d3f3",
          "pattern": {
           "shape": ""
          }
         },
         "name": "J986",
         "offsetgroup": "J986",
         "orientation": "h",
         "showlegend": true,
         "textposition": "auto",
         "type": "bar",
         "x": [
          214088954.466639
         ],
         "xaxis": "x",
         "y": [
          "M04"
         ],
         "yaxis": "y"
        },
        {
         "alignmentgroup": "True",
         "base": [
          "2033-04-27T18:20:53.650877"
         ],
         "hovertemplate": "<b>%{hovertext}</b><br><br>Job_ID=J987<br>Scheduled_Start=%{base}<br>Estimated_Completion_Time=%{x}<br>Assigned_Machine=%{y}<extra></extra>",
         "hovertext": [
          "J987"
         ],
         "legendgroup": "J987",
         "marker": {
          "color": "#FF6692",
          "pattern": {
           "shape": ""
          }
         },
         "name": "J987",
         "offsetgroup": "J987",
         "orientation": "h",
         "showlegend": true,
         "textposition": "auto",
         "type": "bar",
         "x": [
          428177908.933275
         ],
         "xaxis": "x",
         "y": [
          "M04"
         ],
         "yaxis": "y"
        },
        {
         "alignmentgroup": "True",
         "base": [
          "2033-05-02T18:20:53.650877"
         ],
         "hovertemplate": "<b>%{hovertext}</b><br><br>Job_ID=J988<br>Scheduled_Start=%{base}<br>Estimated_Completion_Time=%{x}<br>Assigned_Machine=%{y}<extra></extra>",
         "hovertext": [
          "J988"
         ],
         "legendgroup": "J988",
         "marker": {
          "color": "#B6E880",
          "pattern": {
           "shape": ""
          }
         },
         "name": "J988",
         "offsetgroup": "J988",
         "orientation": "h",
         "showlegend": true,
         "textposition": "auto",
         "type": "bar",
         "x": [
          371087521.075504
         ],
         "xaxis": "x",
         "y": [
          "M04"
         ],
         "yaxis": "y"
        },
        {
         "alignmentgroup": "True",
         "base": [
          "2033-05-07T02:20:53.650877"
         ],
         "hovertemplate": "<b>%{hovertext}</b><br><br>Job_ID=J989<br>Scheduled_Start=%{base}<br>Estimated_Completion_Time=%{x}<br>Assigned_Machine=%{y}<extra></extra>",
         "hovertext": [
          "J989"
         ],
         "legendgroup": "J989",
         "marker": {
          "color": "#FF97FF",
          "pattern": {
           "shape": ""
          }
         },
         "name": "J989",
         "offsetgroup": "J989",
         "orientation": "h",
         "showlegend": true,
         "textposition": "auto",
         "type": "bar",
         "x": [
          317565282.458847
         ],
         "xaxis": "x",
         "y": [
          "M04"
         ],
         "yaxis": "y"
        },
        {
         "alignmentgroup": "True",
         "base": [
          "2033-05-10T19:20:53.650877"
         ],
         "hovertemplate": "<b>%{hovertext}</b><br><br>Job_ID=J990<br>Scheduled_Start=%{base}<br>Estimated_Completion_Time=%{x}<br>Assigned_Machine=%{y}<extra></extra>",
         "hovertext": [
          "J990"
         ],
         "legendgroup": "J990",
         "marker": {
          "color": "#FECB52",
          "pattern": {
           "shape": ""
          }
         },
         "name": "J990",
         "offsetgroup": "J990",
         "orientation": "h",
         "showlegend": true,
         "textposition": "auto",
         "type": "bar",
         "x": [
          310428983.976624
         ],
         "xaxis": "x",
         "y": [
          "M04"
         ],
         "yaxis": "y"
        },
        {
         "alignmentgroup": "True",
         "base": [
          "2033-05-14T10:20:53.650877"
         ],
         "hovertemplate": "<b>%{hovertext}</b><br><br>Job_ID=J991<br>Scheduled_Start=%{base}<br>Estimated_Completion_Time=%{x}<br>Assigned_Machine=%{y}<extra></extra>",
         "hovertext": [
          "J991"
         ],
         "legendgroup": "J991",
         "marker": {
          "color": "#636efa",
          "pattern": {
           "shape": ""
          }
         },
         "name": "J991",
         "offsetgroup": "J991",
         "orientation": "h",
         "showlegend": true,
         "textposition": "auto",
         "type": "bar",
         "x": [
          128453372.679981
         ],
         "xaxis": "x",
         "y": [
          "M04"
         ],
         "yaxis": "y"
        },
        {
         "alignmentgroup": "True",
         "base": [
          "2033-05-15T22:20:53.650877"
         ],
         "hovertemplate": "<b>%{hovertext}</b><br><br>Job_ID=J992<br>Scheduled_Start=%{base}<br>Estimated_Completion_Time=%{x}<br>Assigned_Machine=%{y}<extra></extra>",
         "hovertext": [
          "J992"
         ],
         "legendgroup": "J992",
         "marker": {
          "color": "#EF553B",
          "pattern": {
           "shape": ""
          }
         },
         "name": "J992",
         "offsetgroup": "J992",
         "orientation": "h",
         "showlegend": true,
         "textposition": "auto",
         "type": "bar",
         "x": [
          298508280.187492
         ],
         "xaxis": "x",
         "y": [
          "M05"
         ],
         "yaxis": "y"
        },
        {
         "alignmentgroup": "True",
         "base": [
          "2033-05-19T09:20:53.650877"
         ],
         "hovertemplate": "<b>%{hovertext}</b><br><br>Job_ID=J993<br>Scheduled_Start=%{base}<br>Estimated_Completion_Time=%{x}<br>Assigned_Machine=%{y}<extra></extra>",
         "hovertext": [
          "J993"
         ],
         "legendgroup": "J993",
         "marker": {
          "color": "#00cc96",
          "pattern": {
           "shape": ""
          }
         },
         "name": "J993",
         "offsetgroup": "J993",
         "orientation": "h",
         "showlegend": true,
         "textposition": "auto",
         "type": "bar",
         "x": [
          374655670.316614
         ],
         "xaxis": "x",
         "y": [
          "M04"
         ],
         "yaxis": "y"
        },
        {
         "alignmentgroup": "True",
         "base": [
          "2033-05-23T18:20:53.650877"
         ],
         "hovertemplate": "<b>%{hovertext}</b><br><br>Job_ID=J994<br>Scheduled_Start=%{base}<br>Estimated_Completion_Time=%{x}<br>Assigned_Machine=%{y}<extra></extra>",
         "hovertext": [
          "J994"
         ],
         "legendgroup": "J994",
         "marker": {
          "color": "#ab63fa",
          "pattern": {
           "shape": ""
          }
         },
         "name": "J994",
         "offsetgroup": "J994",
         "orientation": "h",
         "showlegend": true,
         "textposition": "auto",
         "type": "bar",
         "x": [
          335406028.664397
         ],
         "xaxis": "x",
         "y": [
          "M04"
         ],
         "yaxis": "y"
        },
        {
         "alignmentgroup": "True",
         "base": [
          "2033-05-27T16:20:53.650877"
         ],
         "hovertemplate": "<b>%{hovertext}</b><br><br>Job_ID=J995<br>Scheduled_Start=%{base}<br>Estimated_Completion_Time=%{x}<br>Assigned_Machine=%{y}<extra></extra>",
         "hovertext": [
          "J995"
         ],
         "legendgroup": "J995",
         "marker": {
          "color": "#FFA15A",
          "pattern": {
           "shape": ""
          }
         },
         "name": "J995",
         "offsetgroup": "J995",
         "orientation": "h",
         "showlegend": true,
         "textposition": "auto",
         "type": "bar",
         "x": [
          421041610.451055
         ],
         "xaxis": "x",
         "y": [
          "M04"
         ],
         "yaxis": "y"
        },
        {
         "alignmentgroup": "True",
         "base": [
          "2033-06-01T14:20:53.650877"
         ],
         "hovertemplate": "<b>%{hovertext}</b><br><br>Job_ID=J996<br>Scheduled_Start=%{base}<br>Estimated_Completion_Time=%{x}<br>Assigned_Machine=%{y}<extra></extra>",
         "hovertext": [
          "J996"
         ],
         "legendgroup": "J996",
         "marker": {
          "color": "#19d3f3",
          "pattern": {
           "shape": ""
          }
         },
         "name": "J996",
         "offsetgroup": "J996",
         "orientation": "h",
         "showlegend": true,
         "textposition": "auto",
         "type": "bar",
         "x": [
          179824265.173188
         ],
         "xaxis": "x",
         "y": [
          "M05"
         ],
         "yaxis": "y"
        },
        {
         "alignmentgroup": "True",
         "base": [
          "2033-06-03T16:20:53.650877"
         ],
         "hovertemplate": "<b>%{hovertext}</b><br><br>Job_ID=J997<br>Scheduled_Start=%{base}<br>Estimated_Completion_Time=%{x}<br>Assigned_Machine=%{y}<extra></extra>",
         "hovertext": [
          "J997"
         ],
         "legendgroup": "J997",
         "marker": {
          "color": "#FF6692",
          "pattern": {
           "shape": ""
          }
         },
         "name": "J997",
         "offsetgroup": "J997",
         "orientation": "h",
         "showlegend": true,
         "textposition": "auto",
         "type": "bar",
         "x": [
          214088954.466639
         ],
         "xaxis": "x",
         "y": [
          "M04"
         ],
         "yaxis": "y"
        },
        {
         "alignmentgroup": "True",
         "base": [
          "2033-06-06T04:20:53.650877"
         ],
         "hovertemplate": "<b>%{hovertext}</b><br><br>Job_ID=J998<br>Scheduled_Start=%{base}<br>Estimated_Completion_Time=%{x}<br>Assigned_Machine=%{y}<extra></extra>",
         "hovertext": [
          "J998"
         ],
         "legendgroup": "J998",
         "marker": {
          "color": "#B6E880",
          "pattern": {
           "shape": ""
          }
         },
         "name": "J998",
         "offsetgroup": "J998",
         "orientation": "h",
         "showlegend": true,
         "textposition": "auto",
         "type": "bar",
         "x": [
          363951222.593284
         ],
         "xaxis": "x",
         "y": [
          "M04"
         ],
         "yaxis": "y"
        },
        {
         "alignmentgroup": "True",
         "base": [
          "2033-06-10T10:20:53.650877"
         ],
         "hovertemplate": "<b>%{hovertext}</b><br><br>Job_ID=J999<br>Scheduled_Start=%{base}<br>Estimated_Completion_Time=%{x}<br>Assigned_Machine=%{y}<extra></extra>",
         "hovertext": [
          "J999"
         ],
         "legendgroup": "J999",
         "marker": {
          "color": "#FF97FF",
          "pattern": {
           "shape": ""
          }
         },
         "name": "J999",
         "offsetgroup": "J999",
         "orientation": "h",
         "showlegend": true,
         "textposition": "auto",
         "type": "bar",
         "x": [
          267611193.083296
         ],
         "xaxis": "x",
         "y": [
          "M04"
         ],
         "yaxis": "y"
        },
        {
         "alignmentgroup": "True",
         "base": [
          "2033-06-13T13:20:53.650877"
         ],
         "hovertemplate": "<b>%{hovertext}</b><br><br>Job_ID=J1000<br>Scheduled_Start=%{base}<br>Estimated_Completion_Time=%{x}<br>Assigned_Machine=%{y}<extra></extra>",
         "hovertext": [
          "J1000"
         ],
         "legendgroup": "J1000",
         "marker": {
          "color": "#FECB52",
          "pattern": {
           "shape": ""
          }
         },
         "name": "J1000",
         "offsetgroup": "J1000",
         "orientation": "h",
         "showlegend": true,
         "textposition": "auto",
         "type": "bar",
         "x": [
          399209868.684475
         ],
         "xaxis": "x",
         "y": [
          "M05"
         ],
         "yaxis": "y"
        }
       ],
       "layout": {
        "barmode": "overlay",
        "height": 600,
        "legend": {
         "title": {
          "text": "Job_ID"
         },
         "tracegroupgap": 0
        },
        "template": {
         "data": {
          "bar": [
           {
            "error_x": {
             "color": "#2a3f5f"
            },
            "error_y": {
             "color": "#2a3f5f"
            },
            "marker": {
             "line": {
              "color": "#E5ECF6",
              "width": 0.5
             },
             "pattern": {
              "fillmode": "overlay",
              "size": 10,
              "solidity": 0.2
             }
            },
            "type": "bar"
           }
          ],
          "barpolar": [
           {
            "marker": {
             "line": {
              "color": "#E5ECF6",
              "width": 0.5
             },
             "pattern": {
              "fillmode": "overlay",
              "size": 10,
              "solidity": 0.2
             }
            },
            "type": "barpolar"
           }
          ],
          "carpet": [
           {
            "aaxis": {
             "endlinecolor": "#2a3f5f",
             "gridcolor": "white",
             "linecolor": "white",
             "minorgridcolor": "white",
             "startlinecolor": "#2a3f5f"
            },
            "baxis": {
             "endlinecolor": "#2a3f5f",
             "gridcolor": "white",
             "linecolor": "white",
             "minorgridcolor": "white",
             "startlinecolor": "#2a3f5f"
            },
            "type": "carpet"
           }
          ],
          "choropleth": [
           {
            "colorbar": {
             "outlinewidth": 0,
             "ticks": ""
            },
            "type": "choropleth"
           }
          ],
          "contour": [
           {
            "colorbar": {
             "outlinewidth": 0,
             "ticks": ""
            },
            "colorscale": [
             [
              0,
              "#0d0887"
             ],
             [
              0.1111111111111111,
              "#46039f"
             ],
             [
              0.2222222222222222,
              "#7201a8"
             ],
             [
              0.3333333333333333,
              "#9c179e"
             ],
             [
              0.4444444444444444,
              "#bd3786"
             ],
             [
              0.5555555555555556,
              "#d8576b"
             ],
             [
              0.6666666666666666,
              "#ed7953"
             ],
             [
              0.7777777777777778,
              "#fb9f3a"
             ],
             [
              0.8888888888888888,
              "#fdca26"
             ],
             [
              1,
              "#f0f921"
             ]
            ],
            "type": "contour"
           }
          ],
          "contourcarpet": [
           {
            "colorbar": {
             "outlinewidth": 0,
             "ticks": ""
            },
            "type": "contourcarpet"
           }
          ],
          "heatmap": [
           {
            "colorbar": {
             "outlinewidth": 0,
             "ticks": ""
            },
            "colorscale": [
             [
              0,
              "#0d0887"
             ],
             [
              0.1111111111111111,
              "#46039f"
             ],
             [
              0.2222222222222222,
              "#7201a8"
             ],
             [
              0.3333333333333333,
              "#9c179e"
             ],
             [
              0.4444444444444444,
              "#bd3786"
             ],
             [
              0.5555555555555556,
              "#d8576b"
             ],
             [
              0.6666666666666666,
              "#ed7953"
             ],
             [
              0.7777777777777778,
              "#fb9f3a"
             ],
             [
              0.8888888888888888,
              "#fdca26"
             ],
             [
              1,
              "#f0f921"
             ]
            ],
            "type": "heatmap"
           }
          ],
          "heatmapgl": [
           {
            "colorbar": {
             "outlinewidth": 0,
             "ticks": ""
            },
            "colorscale": [
             [
              0,
              "#0d0887"
             ],
             [
              0.1111111111111111,
              "#46039f"
             ],
             [
              0.2222222222222222,
              "#7201a8"
             ],
             [
              0.3333333333333333,
              "#9c179e"
             ],
             [
              0.4444444444444444,
              "#bd3786"
             ],
             [
              0.5555555555555556,
              "#d8576b"
             ],
             [
              0.6666666666666666,
              "#ed7953"
             ],
             [
              0.7777777777777778,
              "#fb9f3a"
             ],
             [
              0.8888888888888888,
              "#fdca26"
             ],
             [
              1,
              "#f0f921"
             ]
            ],
            "type": "heatmapgl"
           }
          ],
          "histogram": [
           {
            "marker": {
             "pattern": {
              "fillmode": "overlay",
              "size": 10,
              "solidity": 0.2
             }
            },
            "type": "histogram"
           }
          ],
          "histogram2d": [
           {
            "colorbar": {
             "outlinewidth": 0,
             "ticks": ""
            },
            "colorscale": [
             [
              0,
              "#0d0887"
             ],
             [
              0.1111111111111111,
              "#46039f"
             ],
             [
              0.2222222222222222,
              "#7201a8"
             ],
             [
              0.3333333333333333,
              "#9c179e"
             ],
             [
              0.4444444444444444,
              "#bd3786"
             ],
             [
              0.5555555555555556,
              "#d8576b"
             ],
             [
              0.6666666666666666,
              "#ed7953"
             ],
             [
              0.7777777777777778,
              "#fb9f3a"
             ],
             [
              0.8888888888888888,
              "#fdca26"
             ],
             [
              1,
              "#f0f921"
             ]
            ],
            "type": "histogram2d"
           }
          ],
          "histogram2dcontour": [
           {
            "colorbar": {
             "outlinewidth": 0,
             "ticks": ""
            },
            "colorscale": [
             [
              0,
              "#0d0887"
             ],
             [
              0.1111111111111111,
              "#46039f"
             ],
             [
              0.2222222222222222,
              "#7201a8"
             ],
             [
              0.3333333333333333,
              "#9c179e"
             ],
             [
              0.4444444444444444,
              "#bd3786"
             ],
             [
              0.5555555555555556,
              "#d8576b"
             ],
             [
              0.6666666666666666,
              "#ed7953"
             ],
             [
              0.7777777777777778,
              "#fb9f3a"
             ],
             [
              0.8888888888888888,
              "#fdca26"
             ],
             [
              1,
              "#f0f921"
             ]
            ],
            "type": "histogram2dcontour"
           }
          ],
          "mesh3d": [
           {
            "colorbar": {
             "outlinewidth": 0,
             "ticks": ""
            },
            "type": "mesh3d"
           }
          ],
          "parcoords": [
           {
            "line": {
             "colorbar": {
              "outlinewidth": 0,
              "ticks": ""
             }
            },
            "type": "parcoords"
           }
          ],
          "pie": [
           {
            "automargin": true,
            "type": "pie"
           }
          ],
          "scatter": [
           {
            "fillpattern": {
             "fillmode": "overlay",
             "size": 10,
             "solidity": 0.2
            },
            "type": "scatter"
           }
          ],
          "scatter3d": [
           {
            "line": {
             "colorbar": {
              "outlinewidth": 0,
              "ticks": ""
             }
            },
            "marker": {
             "colorbar": {
              "outlinewidth": 0,
              "ticks": ""
             }
            },
            "type": "scatter3d"
           }
          ],
          "scattercarpet": [
           {
            "marker": {
             "colorbar": {
              "outlinewidth": 0,
              "ticks": ""
             }
            },
            "type": "scattercarpet"
           }
          ],
          "scattergeo": [
           {
            "marker": {
             "colorbar": {
              "outlinewidth": 0,
              "ticks": ""
             }
            },
            "type": "scattergeo"
           }
          ],
          "scattergl": [
           {
            "marker": {
             "colorbar": {
              "outlinewidth": 0,
              "ticks": ""
             }
            },
            "type": "scattergl"
           }
          ],
          "scattermapbox": [
           {
            "marker": {
             "colorbar": {
              "outlinewidth": 0,
              "ticks": ""
             }
            },
            "type": "scattermapbox"
           }
          ],
          "scatterpolar": [
           {
            "marker": {
             "colorbar": {
              "outlinewidth": 0,
              "ticks": ""
             }
            },
            "type": "scatterpolar"
           }
          ],
          "scatterpolargl": [
           {
            "marker": {
             "colorbar": {
              "outlinewidth": 0,
              "ticks": ""
             }
            },
            "type": "scatterpolargl"
           }
          ],
          "scatterternary": [
           {
            "marker": {
             "colorbar": {
              "outlinewidth": 0,
              "ticks": ""
             }
            },
            "type": "scatterternary"
           }
          ],
          "surface": [
           {
            "colorbar": {
             "outlinewidth": 0,
             "ticks": ""
            },
            "colorscale": [
             [
              0,
              "#0d0887"
             ],
             [
              0.1111111111111111,
              "#46039f"
             ],
             [
              0.2222222222222222,
              "#7201a8"
             ],
             [
              0.3333333333333333,
              "#9c179e"
             ],
             [
              0.4444444444444444,
              "#bd3786"
             ],
             [
              0.5555555555555556,
              "#d8576b"
             ],
             [
              0.6666666666666666,
              "#ed7953"
             ],
             [
              0.7777777777777778,
              "#fb9f3a"
             ],
             [
              0.8888888888888888,
              "#fdca26"
             ],
             [
              1,
              "#f0f921"
             ]
            ],
            "type": "surface"
           }
          ],
          "table": [
           {
            "cells": {
             "fill": {
              "color": "#EBF0F8"
             },
             "line": {
              "color": "white"
             }
            },
            "header": {
             "fill": {
              "color": "#C8D4E3"
             },
             "line": {
              "color": "white"
             }
            },
            "type": "table"
           }
          ]
         },
         "layout": {
          "annotationdefaults": {
           "arrowcolor": "#2a3f5f",
           "arrowhead": 0,
           "arrowwidth": 1
          },
          "autotypenumbers": "strict",
          "coloraxis": {
           "colorbar": {
            "outlinewidth": 0,
            "ticks": ""
           }
          },
          "colorscale": {
           "diverging": [
            [
             0,
             "#8e0152"
            ],
            [
             0.1,
             "#c51b7d"
            ],
            [
             0.2,
             "#de77ae"
            ],
            [
             0.3,
             "#f1b6da"
            ],
            [
             0.4,
             "#fde0ef"
            ],
            [
             0.5,
             "#f7f7f7"
            ],
            [
             0.6,
             "#e6f5d0"
            ],
            [
             0.7,
             "#b8e186"
            ],
            [
             0.8,
             "#7fbc41"
            ],
            [
             0.9,
             "#4d9221"
            ],
            [
             1,
             "#276419"
            ]
           ],
           "sequential": [
            [
             0,
             "#0d0887"
            ],
            [
             0.1111111111111111,
             "#46039f"
            ],
            [
             0.2222222222222222,
             "#7201a8"
            ],
            [
             0.3333333333333333,
             "#9c179e"
            ],
            [
             0.4444444444444444,
             "#bd3786"
            ],
            [
             0.5555555555555556,
             "#d8576b"
            ],
            [
             0.6666666666666666,
             "#ed7953"
            ],
            [
             0.7777777777777778,
             "#fb9f3a"
            ],
            [
             0.8888888888888888,
             "#fdca26"
            ],
            [
             1,
             "#f0f921"
            ]
           ],
           "sequentialminus": [
            [
             0,
             "#0d0887"
            ],
            [
             0.1111111111111111,
             "#46039f"
            ],
            [
             0.2222222222222222,
             "#7201a8"
            ],
            [
             0.3333333333333333,
             "#9c179e"
            ],
            [
             0.4444444444444444,
             "#bd3786"
            ],
            [
             0.5555555555555556,
             "#d8576b"
            ],
            [
             0.6666666666666666,
             "#ed7953"
            ],
            [
             0.7777777777777778,
             "#fb9f3a"
            ],
            [
             0.8888888888888888,
             "#fdca26"
            ],
            [
             1,
             "#f0f921"
            ]
           ]
          },
          "colorway": [
           "#636efa",
           "#EF553B",
           "#00cc96",
           "#ab63fa",
           "#FFA15A",
           "#19d3f3",
           "#FF6692",
           "#B6E880",
           "#FF97FF",
           "#FECB52"
          ],
          "font": {
           "color": "#2a3f5f"
          },
          "geo": {
           "bgcolor": "white",
           "lakecolor": "white",
           "landcolor": "#E5ECF6",
           "showlakes": true,
           "showland": true,
           "subunitcolor": "white"
          },
          "hoverlabel": {
           "align": "left"
          },
          "hovermode": "closest",
          "mapbox": {
           "style": "light"
          },
          "paper_bgcolor": "white",
          "plot_bgcolor": "#E5ECF6",
          "polar": {
           "angularaxis": {
            "gridcolor": "white",
            "linecolor": "white",
            "ticks": ""
           },
           "bgcolor": "#E5ECF6",
           "radialaxis": {
            "gridcolor": "white",
            "linecolor": "white",
            "ticks": ""
           }
          },
          "scene": {
           "xaxis": {
            "backgroundcolor": "#E5ECF6",
            "gridcolor": "white",
            "gridwidth": 2,
            "linecolor": "white",
            "showbackground": true,
            "ticks": "",
            "zerolinecolor": "white"
           },
           "yaxis": {
            "backgroundcolor": "#E5ECF6",
            "gridcolor": "white",
            "gridwidth": 2,
            "linecolor": "white",
            "showbackground": true,
            "ticks": "",
            "zerolinecolor": "white"
           },
           "zaxis": {
            "backgroundcolor": "#E5ECF6",
            "gridcolor": "white",
            "gridwidth": 2,
            "linecolor": "white",
            "showbackground": true,
            "ticks": "",
            "zerolinecolor": "white"
           }
          },
          "shapedefaults": {
           "line": {
            "color": "#2a3f5f"
           }
          },
          "ternary": {
           "aaxis": {
            "gridcolor": "white",
            "linecolor": "white",
            "ticks": ""
           },
           "baxis": {
            "gridcolor": "white",
            "linecolor": "white",
            "ticks": ""
           },
           "bgcolor": "#E5ECF6",
           "caxis": {
            "gridcolor": "white",
            "linecolor": "white",
            "ticks": ""
           }
          },
          "title": {
           "x": 0.05
          },
          "xaxis": {
           "automargin": true,
           "gridcolor": "white",
           "linecolor": "white",
           "ticks": "",
           "title": {
            "standoff": 15
           },
           "zerolinecolor": "white",
           "zerolinewidth": 2
          },
          "yaxis": {
           "automargin": true,
           "gridcolor": "white",
           "linecolor": "white",
           "ticks": "",
           "title": {
            "standoff": 15
           },
           "zerolinecolor": "white",
           "zerolinewidth": 2
          }
         }
        },
        "title": {
         "text": "✅ Job Scheduling Timeline (Gantt Chart)"
        },
        "width": 1000,
        "xaxis": {
         "anchor": "y",
         "domain": [
          0,
          1
         ],
         "type": "date"
        },
        "yaxis": {
         "anchor": "x",
         "autorange": "reversed",
         "domain": [
          0,
          1
         ],
         "title": {
          "text": "Assigned_Machine"
         }
        }
       }
      }
     },
     "metadata": {},
     "output_type": "display_data"
    }
   ],
   "source": [
    "import plotly.express as px\n",
    "\n",
    "# Gantt Chart for Scheduled Jobs\n",
    "def create_gantt_chart(schedule_df):\n",
    "    chart_df = schedule_df.copy()\n",
    "    chart_df['Duration_Hours'] = (chart_df['Estimated_Completion_Time'] - chart_df['Scheduled_Start']).dt.total_seconds() / 3600\n",
    "    \n",
    "    fig = px.timeline(chart_df,\n",
    "                      x_start=\"Scheduled_Start\",\n",
    "                      x_end=\"Estimated_Completion_Time\",\n",
    "                      y=\"Assigned_Machine\",\n",
    "                      color=\"Job_ID\",\n",
    "                      title=\"✅ Job Scheduling Timeline (Gantt Chart)\",\n",
    "                      hover_name=\"Job_ID\")\n",
    "    \n",
    "    fig.update_yaxes(autorange=\"reversed\")  # Machines in logical top-down order\n",
    "    fig.update_layout(height=600, width=1000)\n",
    "\n",
    "    fig.show()\n",
    "\n",
    "# Show Gantt Chart\n",
    "create_gantt_chart(rl_schedule_df)\n"
   ]
  },
  {
   "cell_type": "markdown",
   "id": "a3ff3c1b",
   "metadata": {},
   "source": [
    "Pie Chart for Machine Utilization"
   ]
  },
  {
   "cell_type": "code",
   "execution_count": 40,
   "id": "ad020e62",
   "metadata": {},
   "outputs": [
    {
     "data": {
      "application/vnd.plotly.v1+json": {
       "config": {
        "plotlyServerURL": "https://plot.ly"
       },
       "data": [
        {
         "domain": {
          "x": [
           0,
           1
          ],
          "y": [
           0,
           1
          ]
         },
         "hovertemplate": "Machine_ID=%{label}<br>Utilization_%=%{value}<extra></extra>",
         "labels": [
          "M02",
          "M01",
          "M04",
          "M05",
          "M03"
         ],
         "legendgroup": "",
         "name": "",
         "showlegend": true,
         "type": "pie",
         "values": [
          19.96,
          19.62,
          19.42,
          19.4,
          21.36
         ]
        }
       ],
       "layout": {
        "height": 600,
        "legend": {
         "tracegroupgap": 0
        },
        "template": {
         "data": {
          "bar": [
           {
            "error_x": {
             "color": "#2a3f5f"
            },
            "error_y": {
             "color": "#2a3f5f"
            },
            "marker": {
             "line": {
              "color": "#E5ECF6",
              "width": 0.5
             },
             "pattern": {
              "fillmode": "overlay",
              "size": 10,
              "solidity": 0.2
             }
            },
            "type": "bar"
           }
          ],
          "barpolar": [
           {
            "marker": {
             "line": {
              "color": "#E5ECF6",
              "width": 0.5
             },
             "pattern": {
              "fillmode": "overlay",
              "size": 10,
              "solidity": 0.2
             }
            },
            "type": "barpolar"
           }
          ],
          "carpet": [
           {
            "aaxis": {
             "endlinecolor": "#2a3f5f",
             "gridcolor": "white",
             "linecolor": "white",
             "minorgridcolor": "white",
             "startlinecolor": "#2a3f5f"
            },
            "baxis": {
             "endlinecolor": "#2a3f5f",
             "gridcolor": "white",
             "linecolor": "white",
             "minorgridcolor": "white",
             "startlinecolor": "#2a3f5f"
            },
            "type": "carpet"
           }
          ],
          "choropleth": [
           {
            "colorbar": {
             "outlinewidth": 0,
             "ticks": ""
            },
            "type": "choropleth"
           }
          ],
          "contour": [
           {
            "colorbar": {
             "outlinewidth": 0,
             "ticks": ""
            },
            "colorscale": [
             [
              0,
              "#0d0887"
             ],
             [
              0.1111111111111111,
              "#46039f"
             ],
             [
              0.2222222222222222,
              "#7201a8"
             ],
             [
              0.3333333333333333,
              "#9c179e"
             ],
             [
              0.4444444444444444,
              "#bd3786"
             ],
             [
              0.5555555555555556,
              "#d8576b"
             ],
             [
              0.6666666666666666,
              "#ed7953"
             ],
             [
              0.7777777777777778,
              "#fb9f3a"
             ],
             [
              0.8888888888888888,
              "#fdca26"
             ],
             [
              1,
              "#f0f921"
             ]
            ],
            "type": "contour"
           }
          ],
          "contourcarpet": [
           {
            "colorbar": {
             "outlinewidth": 0,
             "ticks": ""
            },
            "type": "contourcarpet"
           }
          ],
          "heatmap": [
           {
            "colorbar": {
             "outlinewidth": 0,
             "ticks": ""
            },
            "colorscale": [
             [
              0,
              "#0d0887"
             ],
             [
              0.1111111111111111,
              "#46039f"
             ],
             [
              0.2222222222222222,
              "#7201a8"
             ],
             [
              0.3333333333333333,
              "#9c179e"
             ],
             [
              0.4444444444444444,
              "#bd3786"
             ],
             [
              0.5555555555555556,
              "#d8576b"
             ],
             [
              0.6666666666666666,
              "#ed7953"
             ],
             [
              0.7777777777777778,
              "#fb9f3a"
             ],
             [
              0.8888888888888888,
              "#fdca26"
             ],
             [
              1,
              "#f0f921"
             ]
            ],
            "type": "heatmap"
           }
          ],
          "heatmapgl": [
           {
            "colorbar": {
             "outlinewidth": 0,
             "ticks": ""
            },
            "colorscale": [
             [
              0,
              "#0d0887"
             ],
             [
              0.1111111111111111,
              "#46039f"
             ],
             [
              0.2222222222222222,
              "#7201a8"
             ],
             [
              0.3333333333333333,
              "#9c179e"
             ],
             [
              0.4444444444444444,
              "#bd3786"
             ],
             [
              0.5555555555555556,
              "#d8576b"
             ],
             [
              0.6666666666666666,
              "#ed7953"
             ],
             [
              0.7777777777777778,
              "#fb9f3a"
             ],
             [
              0.8888888888888888,
              "#fdca26"
             ],
             [
              1,
              "#f0f921"
             ]
            ],
            "type": "heatmapgl"
           }
          ],
          "histogram": [
           {
            "marker": {
             "pattern": {
              "fillmode": "overlay",
              "size": 10,
              "solidity": 0.2
             }
            },
            "type": "histogram"
           }
          ],
          "histogram2d": [
           {
            "colorbar": {
             "outlinewidth": 0,
             "ticks": ""
            },
            "colorscale": [
             [
              0,
              "#0d0887"
             ],
             [
              0.1111111111111111,
              "#46039f"
             ],
             [
              0.2222222222222222,
              "#7201a8"
             ],
             [
              0.3333333333333333,
              "#9c179e"
             ],
             [
              0.4444444444444444,
              "#bd3786"
             ],
             [
              0.5555555555555556,
              "#d8576b"
             ],
             [
              0.6666666666666666,
              "#ed7953"
             ],
             [
              0.7777777777777778,
              "#fb9f3a"
             ],
             [
              0.8888888888888888,
              "#fdca26"
             ],
             [
              1,
              "#f0f921"
             ]
            ],
            "type": "histogram2d"
           }
          ],
          "histogram2dcontour": [
           {
            "colorbar": {
             "outlinewidth": 0,
             "ticks": ""
            },
            "colorscale": [
             [
              0,
              "#0d0887"
             ],
             [
              0.1111111111111111,
              "#46039f"
             ],
             [
              0.2222222222222222,
              "#7201a8"
             ],
             [
              0.3333333333333333,
              "#9c179e"
             ],
             [
              0.4444444444444444,
              "#bd3786"
             ],
             [
              0.5555555555555556,
              "#d8576b"
             ],
             [
              0.6666666666666666,
              "#ed7953"
             ],
             [
              0.7777777777777778,
              "#fb9f3a"
             ],
             [
              0.8888888888888888,
              "#fdca26"
             ],
             [
              1,
              "#f0f921"
             ]
            ],
            "type": "histogram2dcontour"
           }
          ],
          "mesh3d": [
           {
            "colorbar": {
             "outlinewidth": 0,
             "ticks": ""
            },
            "type": "mesh3d"
           }
          ],
          "parcoords": [
           {
            "line": {
             "colorbar": {
              "outlinewidth": 0,
              "ticks": ""
             }
            },
            "type": "parcoords"
           }
          ],
          "pie": [
           {
            "automargin": true,
            "type": "pie"
           }
          ],
          "scatter": [
           {
            "fillpattern": {
             "fillmode": "overlay",
             "size": 10,
             "solidity": 0.2
            },
            "type": "scatter"
           }
          ],
          "scatter3d": [
           {
            "line": {
             "colorbar": {
              "outlinewidth": 0,
              "ticks": ""
             }
            },
            "marker": {
             "colorbar": {
              "outlinewidth": 0,
              "ticks": ""
             }
            },
            "type": "scatter3d"
           }
          ],
          "scattercarpet": [
           {
            "marker": {
             "colorbar": {
              "outlinewidth": 0,
              "ticks": ""
             }
            },
            "type": "scattercarpet"
           }
          ],
          "scattergeo": [
           {
            "marker": {
             "colorbar": {
              "outlinewidth": 0,
              "ticks": ""
             }
            },
            "type": "scattergeo"
           }
          ],
          "scattergl": [
           {
            "marker": {
             "colorbar": {
              "outlinewidth": 0,
              "ticks": ""
             }
            },
            "type": "scattergl"
           }
          ],
          "scattermapbox": [
           {
            "marker": {
             "colorbar": {
              "outlinewidth": 0,
              "ticks": ""
             }
            },
            "type": "scattermapbox"
           }
          ],
          "scatterpolar": [
           {
            "marker": {
             "colorbar": {
              "outlinewidth": 0,
              "ticks": ""
             }
            },
            "type": "scatterpolar"
           }
          ],
          "scatterpolargl": [
           {
            "marker": {
             "colorbar": {
              "outlinewidth": 0,
              "ticks": ""
             }
            },
            "type": "scatterpolargl"
           }
          ],
          "scatterternary": [
           {
            "marker": {
             "colorbar": {
              "outlinewidth": 0,
              "ticks": ""
             }
            },
            "type": "scatterternary"
           }
          ],
          "surface": [
           {
            "colorbar": {
             "outlinewidth": 0,
             "ticks": ""
            },
            "colorscale": [
             [
              0,
              "#0d0887"
             ],
             [
              0.1111111111111111,
              "#46039f"
             ],
             [
              0.2222222222222222,
              "#7201a8"
             ],
             [
              0.3333333333333333,
              "#9c179e"
             ],
             [
              0.4444444444444444,
              "#bd3786"
             ],
             [
              0.5555555555555556,
              "#d8576b"
             ],
             [
              0.6666666666666666,
              "#ed7953"
             ],
             [
              0.7777777777777778,
              "#fb9f3a"
             ],
             [
              0.8888888888888888,
              "#fdca26"
             ],
             [
              1,
              "#f0f921"
             ]
            ],
            "type": "surface"
           }
          ],
          "table": [
           {
            "cells": {
             "fill": {
              "color": "#EBF0F8"
             },
             "line": {
              "color": "white"
             }
            },
            "header": {
             "fill": {
              "color": "#C8D4E3"
             },
             "line": {
              "color": "white"
             }
            },
            "type": "table"
           }
          ]
         },
         "layout": {
          "annotationdefaults": {
           "arrowcolor": "#2a3f5f",
           "arrowhead": 0,
           "arrowwidth": 1
          },
          "autotypenumbers": "strict",
          "coloraxis": {
           "colorbar": {
            "outlinewidth": 0,
            "ticks": ""
           }
          },
          "colorscale": {
           "diverging": [
            [
             0,
             "#8e0152"
            ],
            [
             0.1,
             "#c51b7d"
            ],
            [
             0.2,
             "#de77ae"
            ],
            [
             0.3,
             "#f1b6da"
            ],
            [
             0.4,
             "#fde0ef"
            ],
            [
             0.5,
             "#f7f7f7"
            ],
            [
             0.6,
             "#e6f5d0"
            ],
            [
             0.7,
             "#b8e186"
            ],
            [
             0.8,
             "#7fbc41"
            ],
            [
             0.9,
             "#4d9221"
            ],
            [
             1,
             "#276419"
            ]
           ],
           "sequential": [
            [
             0,
             "#0d0887"
            ],
            [
             0.1111111111111111,
             "#46039f"
            ],
            [
             0.2222222222222222,
             "#7201a8"
            ],
            [
             0.3333333333333333,
             "#9c179e"
            ],
            [
             0.4444444444444444,
             "#bd3786"
            ],
            [
             0.5555555555555556,
             "#d8576b"
            ],
            [
             0.6666666666666666,
             "#ed7953"
            ],
            [
             0.7777777777777778,
             "#fb9f3a"
            ],
            [
             0.8888888888888888,
             "#fdca26"
            ],
            [
             1,
             "#f0f921"
            ]
           ],
           "sequentialminus": [
            [
             0,
             "#0d0887"
            ],
            [
             0.1111111111111111,
             "#46039f"
            ],
            [
             0.2222222222222222,
             "#7201a8"
            ],
            [
             0.3333333333333333,
             "#9c179e"
            ],
            [
             0.4444444444444444,
             "#bd3786"
            ],
            [
             0.5555555555555556,
             "#d8576b"
            ],
            [
             0.6666666666666666,
             "#ed7953"
            ],
            [
             0.7777777777777778,
             "#fb9f3a"
            ],
            [
             0.8888888888888888,
             "#fdca26"
            ],
            [
             1,
             "#f0f921"
            ]
           ]
          },
          "colorway": [
           "#636efa",
           "#EF553B",
           "#00cc96",
           "#ab63fa",
           "#FFA15A",
           "#19d3f3",
           "#FF6692",
           "#B6E880",
           "#FF97FF",
           "#FECB52"
          ],
          "font": {
           "color": "#2a3f5f"
          },
          "geo": {
           "bgcolor": "white",
           "lakecolor": "white",
           "landcolor": "#E5ECF6",
           "showlakes": true,
           "showland": true,
           "subunitcolor": "white"
          },
          "hoverlabel": {
           "align": "left"
          },
          "hovermode": "closest",
          "mapbox": {
           "style": "light"
          },
          "paper_bgcolor": "white",
          "plot_bgcolor": "#E5ECF6",
          "polar": {
           "angularaxis": {
            "gridcolor": "white",
            "linecolor": "white",
            "ticks": ""
           },
           "bgcolor": "#E5ECF6",
           "radialaxis": {
            "gridcolor": "white",
            "linecolor": "white",
            "ticks": ""
           }
          },
          "scene": {
           "xaxis": {
            "backgroundcolor": "#E5ECF6",
            "gridcolor": "white",
            "gridwidth": 2,
            "linecolor": "white",
            "showbackground": true,
            "ticks": "",
            "zerolinecolor": "white"
           },
           "yaxis": {
            "backgroundcolor": "#E5ECF6",
            "gridcolor": "white",
            "gridwidth": 2,
            "linecolor": "white",
            "showbackground": true,
            "ticks": "",
            "zerolinecolor": "white"
           },
           "zaxis": {
            "backgroundcolor": "#E5ECF6",
            "gridcolor": "white",
            "gridwidth": 2,
            "linecolor": "white",
            "showbackground": true,
            "ticks": "",
            "zerolinecolor": "white"
           }
          },
          "shapedefaults": {
           "line": {
            "color": "#2a3f5f"
           }
          },
          "ternary": {
           "aaxis": {
            "gridcolor": "white",
            "linecolor": "white",
            "ticks": ""
           },
           "baxis": {
            "gridcolor": "white",
            "linecolor": "white",
            "ticks": ""
           },
           "bgcolor": "#E5ECF6",
           "caxis": {
            "gridcolor": "white",
            "linecolor": "white",
            "ticks": ""
           }
          },
          "title": {
           "x": 0.05
          },
          "xaxis": {
           "automargin": true,
           "gridcolor": "white",
           "linecolor": "white",
           "ticks": "",
           "title": {
            "standoff": 15
           },
           "zerolinecolor": "white",
           "zerolinewidth": 2
          },
          "yaxis": {
           "automargin": true,
           "gridcolor": "white",
           "linecolor": "white",
           "ticks": "",
           "title": {
            "standoff": 15
           },
           "zerolinecolor": "white",
           "zerolinewidth": 2
          }
         }
        },
        "title": {
         "text": "✅ Machine Utilization Share (%)"
        },
        "width": 600
       }
      }
     },
     "metadata": {},
     "output_type": "display_data"
    }
   ],
   "source": [
    "# Pie Chart for Machine Utilization\n",
    "def create_utilization_pie_chart(utilization_df):\n",
    "    fig = px.pie(utilization_df, \n",
    "                 names='Machine_ID', \n",
    "                 values='Utilization_%',\n",
    "                 title='✅ Machine Utilization Share (%)')\n",
    "    fig.update_layout(height=600, width=600)\n",
    "    fig.show()\n",
    "\n",
    "# Show Pie Chart\n",
    "create_utilization_pie_chart(machine_utilization_df)\n"
   ]
  },
  {
   "cell_type": "code",
   "execution_count": null,
   "id": "9c10b905",
   "metadata": {},
   "outputs": [],
   "source": []
  }
 ],
 "metadata": {
  "kernelspec": {
   "display_name": "Python 3",
   "language": "python",
   "name": "python3"
  },
  "language_info": {
   "codemirror_mode": {
    "name": "ipython",
    "version": 3
   },
   "file_extension": ".py",
   "mimetype": "text/x-python",
   "name": "python",
   "nbconvert_exporter": "python",
   "pygments_lexer": "ipython3",
   "version": "3.10.2"
  }
 },
 "nbformat": 4,
 "nbformat_minor": 5
}
